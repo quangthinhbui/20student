{
 "cells": [
  {
   "cell_type": "code",
   "execution_count": 1,
   "metadata": {},
   "outputs": [
    {
     "data": {
      "text/html": [
       "<div>\n",
       "<style scoped>\n",
       "    .dataframe tbody tr th:only-of-type {\n",
       "        vertical-align: middle;\n",
       "    }\n",
       "\n",
       "    .dataframe tbody tr th {\n",
       "        vertical-align: top;\n",
       "    }\n",
       "\n",
       "    .dataframe thead th {\n",
       "        text-align: right;\n",
       "    }\n",
       "</style>\n",
       "<table border=\"1\" class=\"dataframe\">\n",
       "  <thead>\n",
       "    <tr style=\"text-align: right;\">\n",
       "      <th></th>\n",
       "      <th>T10</th>\n",
       "      <th>T10_T</th>\n",
       "      <th>T10_F</th>\n",
       "      <th>T10_I</th>\n",
       "      <th>L10</th>\n",
       "      <th>L10_T</th>\n",
       "      <th>L10_F</th>\n",
       "      <th>L10_I</th>\n",
       "      <th>H10</th>\n",
       "      <th>H10_T</th>\n",
       "      <th>...</th>\n",
       "      <th>SU12_F</th>\n",
       "      <th>SU12_I</th>\n",
       "      <th>D12</th>\n",
       "      <th>D12_T</th>\n",
       "      <th>D12_F</th>\n",
       "      <th>D12_I</th>\n",
       "      <th>AV12</th>\n",
       "      <th>AV12_T</th>\n",
       "      <th>AV12_F</th>\n",
       "      <th>AV12_I</th>\n",
       "    </tr>\n",
       "  </thead>\n",
       "  <tbody>\n",
       "    <tr>\n",
       "      <th>0</th>\n",
       "      <td>9.3</td>\n",
       "      <td>10</td>\n",
       "      <td>0</td>\n",
       "      <td>0</td>\n",
       "      <td>7.7</td>\n",
       "      <td>8</td>\n",
       "      <td>2</td>\n",
       "      <td>2</td>\n",
       "      <td>8.6</td>\n",
       "      <td>8</td>\n",
       "      <td>...</td>\n",
       "      <td>0</td>\n",
       "      <td>0</td>\n",
       "      <td>8.9</td>\n",
       "      <td>10</td>\n",
       "      <td>0</td>\n",
       "      <td>0</td>\n",
       "      <td>7.8</td>\n",
       "      <td>10</td>\n",
       "      <td>0</td>\n",
       "      <td>0</td>\n",
       "    </tr>\n",
       "    <tr>\n",
       "      <th>1</th>\n",
       "      <td>9.1</td>\n",
       "      <td>9</td>\n",
       "      <td>1</td>\n",
       "      <td>1</td>\n",
       "      <td>7.1</td>\n",
       "      <td>9</td>\n",
       "      <td>2</td>\n",
       "      <td>5</td>\n",
       "      <td>8.0</td>\n",
       "      <td>7</td>\n",
       "      <td>...</td>\n",
       "      <td>5</td>\n",
       "      <td>4</td>\n",
       "      <td>8.8</td>\n",
       "      <td>7</td>\n",
       "      <td>1</td>\n",
       "      <td>1</td>\n",
       "      <td>7.6</td>\n",
       "      <td>7</td>\n",
       "      <td>6</td>\n",
       "      <td>4</td>\n",
       "    </tr>\n",
       "    <tr>\n",
       "      <th>2</th>\n",
       "      <td>9.4</td>\n",
       "      <td>8</td>\n",
       "      <td>2</td>\n",
       "      <td>2</td>\n",
       "      <td>7.6</td>\n",
       "      <td>10</td>\n",
       "      <td>0</td>\n",
       "      <td>0</td>\n",
       "      <td>9.0</td>\n",
       "      <td>10</td>\n",
       "      <td>...</td>\n",
       "      <td>0</td>\n",
       "      <td>0</td>\n",
       "      <td>9.0</td>\n",
       "      <td>10</td>\n",
       "      <td>0</td>\n",
       "      <td>0</td>\n",
       "      <td>9.0</td>\n",
       "      <td>10</td>\n",
       "      <td>0</td>\n",
       "      <td>0</td>\n",
       "    </tr>\n",
       "    <tr>\n",
       "      <th>3</th>\n",
       "      <td>9.3</td>\n",
       "      <td>9</td>\n",
       "      <td>0</td>\n",
       "      <td>9</td>\n",
       "      <td>7.1</td>\n",
       "      <td>9</td>\n",
       "      <td>8</td>\n",
       "      <td>8</td>\n",
       "      <td>8.7</td>\n",
       "      <td>9</td>\n",
       "      <td>...</td>\n",
       "      <td>8</td>\n",
       "      <td>6</td>\n",
       "      <td>8.2</td>\n",
       "      <td>9</td>\n",
       "      <td>7</td>\n",
       "      <td>6</td>\n",
       "      <td>8.3</td>\n",
       "      <td>8</td>\n",
       "      <td>8</td>\n",
       "      <td>9</td>\n",
       "    </tr>\n",
       "    <tr>\n",
       "      <th>4</th>\n",
       "      <td>9.3</td>\n",
       "      <td>8</td>\n",
       "      <td>2</td>\n",
       "      <td>3</td>\n",
       "      <td>9.6</td>\n",
       "      <td>6</td>\n",
       "      <td>4</td>\n",
       "      <td>6</td>\n",
       "      <td>8.6</td>\n",
       "      <td>7</td>\n",
       "      <td>...</td>\n",
       "      <td>7</td>\n",
       "      <td>4</td>\n",
       "      <td>9.6</td>\n",
       "      <td>6</td>\n",
       "      <td>4</td>\n",
       "      <td>5</td>\n",
       "      <td>9.4</td>\n",
       "      <td>6</td>\n",
       "      <td>4</td>\n",
       "      <td>5</td>\n",
       "    </tr>\n",
       "  </tbody>\n",
       "</table>\n",
       "<p>5 rows × 96 columns</p>\n",
       "</div>"
      ],
      "text/plain": [
       "   T10  T10_T  T10_F  T10_I  L10  L10_T  L10_F  L10_I  H10  H10_T  ...  \\\n",
       "0  9.3     10      0      0  7.7      8      2      2  8.6      8  ...   \n",
       "1  9.1      9      1      1  7.1      9      2      5  8.0      7  ...   \n",
       "2  9.4      8      2      2  7.6     10      0      0  9.0     10  ...   \n",
       "3  9.3      9      0      9  7.1      9      8      8  8.7      9  ...   \n",
       "4  9.3      8      2      3  9.6      6      4      6  8.6      7  ...   \n",
       "\n",
       "   SU12_F  SU12_I  D12  D12_T  D12_F  D12_I  AV12  AV12_T  AV12_F  AV12_I  \n",
       "0       0       0  8.9     10      0      0   7.8      10       0       0  \n",
       "1       5       4  8.8      7      1      1   7.6       7       6       4  \n",
       "2       0       0  9.0     10      0      0   9.0      10       0       0  \n",
       "3       8       6  8.2      9      7      6   8.3       8       8       9  \n",
       "4       7       4  9.6      6      4      5   9.4       6       4       5  \n",
       "\n",
       "[5 rows x 96 columns]"
      ]
     },
     "execution_count": 1,
     "metadata": {},
     "output_type": "execute_result"
    }
   ],
   "source": [
    "import pandas as pd\n",
    "import numpy as np\n",
    "\n",
    "data = pd.read_csv(\"BGT.csv\") \n",
    "data.head(5)\n",
    "#print(data)"
   ]
  },
  {
   "cell_type": "code",
   "execution_count": 2,
   "metadata": {},
   "outputs": [
    {
     "name": "stdout",
     "output_type": "stream",
     "text": [
      "[8.6 8.  9.  8.  8.3 8.  9.  8.  8.8 8.  9.  8.  8.9 8.  9.  8.  8.5 8.\n",
      " 8.  7.  9.  9.  9.  9.  8.6 8.  9.  8.  8.2 8.  9.  8.  8.8 8.  9.  9.\n",
      " 9.3 9.  9.  9.  8.6 8.  9.  8.  8.4 8.  8.  8.  8.1 8.  8.  8.  7.6 7.\n",
      " 8.  8.  9.  9.  9.  9.  8.1 8.  9.  8.  8.5 8.  9.  9.  8.4 8.  9.  9.\n",
      " 8.3 8.  8.  8.  8.6 8.  8.  8.  8.2 8.  8.  8.  8.9 8.  9.  8.  8.9 8.\n",
      " 9.  8.  8.  8.  9.  9. ]\n"
     ]
    }
   ],
   "source": [
    "duc = np.array(data[41:42])[0]\n",
    "print(duc)"
   ]
  },
  {
   "cell_type": "code",
   "execution_count": 3,
   "metadata": {},
   "outputs": [
    {
     "name": "stdout",
     "output_type": "stream",
     "text": [
      "[8.6 8.  9.  8. ]\n",
      "[8.3 8.  9.  8. ]\n",
      "[8.8 8.  9.  8. ]\n",
      "[8.56666667 8.         9.         8.        ]\n",
      "[8.8 8.  9.  9. ]\n",
      "[9.3 9.  9.  9. ]\n",
      "[8.6 8.  9.  8. ]\n",
      "[8.9        8.33333333 9.         8.66666667]\n",
      "[8.5 8.  9.  9. ]\n",
      "[8.4 8.  9.  9. ]\n",
      "[8.3 8.  8.  8. ]\n",
      "[8.4        8.         8.66666667 8.66666667]\n"
     ]
    }
   ],
   "source": [
    "T10 = duc[0:4]\n",
    "print(T10)\n",
    "L10 = duc[4:8]\n",
    "print(L10)\n",
    "H10 = duc[8:12]\n",
    "print(H10)\n",
    "A10 = np.mean(np.array([T10,L10,H10]),axis=0)\n",
    "print(A10)\n",
    "\n",
    "T11 = duc[32:36]\n",
    "print(T11)\n",
    "L11 = duc[36:40]\n",
    "print(L11)\n",
    "H11 = duc[40:44]\n",
    "print(H11)\n",
    "A11 = np.mean(np.array([T11,L11,H11]),axis=0)\n",
    "print(A11)\n",
    "\n",
    "T12 = duc[64:68]\n",
    "print(T12)\n",
    "L12 = duc[68:72]\n",
    "print(L12)\n",
    "H12 = duc[72:76]\n",
    "print(H12)\n",
    "A12 = np.mean(np.array([T12,L12,H12]),axis=0)\n",
    "print(A12)\n",
    "\n",
    "A = [A10,A11,A12]"
   ]
  },
  {
   "cell_type": "code",
   "execution_count": 4,
   "metadata": {},
   "outputs": [
    {
     "name": "stdout",
     "output_type": "stream",
     "text": [
      "[8.6 8.  9.  8. ]\n",
      "[8.3 8.  9.  8. ]\n",
      "[8.2 8.  9.  8. ]\n",
      "[8.36666667 8.         9.         8.        ]\n",
      "[8.8 8.  9.  9. ]\n",
      "[9.3 9.  9.  9. ]\n",
      "[8.1 8.  9.  8. ]\n",
      "[8.73333333 8.33333333 9.         8.66666667]\n",
      "[8.5 8.  9.  9. ]\n",
      "[8.4 8.  9.  9. ]\n",
      "[8. 8. 9. 9.]\n",
      "[8.3 8.  9.  9. ]\n"
     ]
    }
   ],
   "source": [
    "T10 = duc[0:4]\n",
    "print(T10)\n",
    "L10 = duc[4:8]\n",
    "print(L10)\n",
    "A10 = duc[28:32]\n",
    "print(A10)\n",
    "A110 = np.mean(np.array([T10,L10,A10]),axis=0)\n",
    "print(A110)\n",
    "\n",
    "T11 = duc[32:36]\n",
    "print(T11)\n",
    "L11 = duc[36:40]\n",
    "print(L11)\n",
    "A11 = duc[60:64]\n",
    "print(A11)\n",
    "A111 = np.mean(np.array([T11,L11,A11]),axis=0)\n",
    "print(A111)\n",
    "\n",
    "T12 = duc[64:68]\n",
    "print(T12)\n",
    "L12 = duc[68:72]\n",
    "print(L12)\n",
    "A12 = duc[92:96]\n",
    "print(A12)\n",
    "A112 = np.mean(np.array([T12,L12,A12]),axis=0)\n",
    "print(A112)\n",
    "\n",
    "A1 = [A110,A111,A112]"
   ]
  },
  {
   "cell_type": "code",
   "execution_count": 5,
   "metadata": {},
   "outputs": [
    {
     "name": "stdout",
     "output_type": "stream",
     "text": [
      "[8.6 8.  9.  8. ]\n",
      "[8.8 8.  9.  8. ]\n",
      "[8.9 8.  9.  8. ]\n",
      "[8.2 8.  9.  8. ]\n",
      "[8.8 8.  9.  9. ]\n",
      "[8.6 8.  9.  8. ]\n",
      "[8.4 8.  8.  8. ]\n",
      "[8.6        8.         8.66666667 8.33333333]\n",
      "[8.5 8.  9.  9. ]\n",
      "[8.3 8.  8.  8. ]\n",
      "[8.6 8.  8.  8. ]\n",
      "[8.46666667 8.         8.33333333 8.33333333]\n"
     ]
    }
   ],
   "source": [
    "T10 = duc[0:4]\n",
    "print(T10)\n",
    "H10 = duc[8:12]\n",
    "print(H10)\n",
    "SI10 = duc[12:16]\n",
    "print(SI10)\n",
    "B10 = np.mean(np.array([T10,H10,SI10]),axis=0)\n",
    "print(A10)\n",
    "\n",
    "T11 = duc[32:36]\n",
    "print(T11)\n",
    "H11 = duc[40:44]\n",
    "print(H11)\n",
    "SI11 = duc[44:48]\n",
    "print(SI11)\n",
    "B11 = np.mean(np.array([T11,H11,SI11]),axis=0)\n",
    "print(B11)\n",
    "\n",
    "T12 = duc[64:68]\n",
    "print(T12)\n",
    "H12 = duc[72:76]\n",
    "print(H12)\n",
    "SI12 = duc[76:80]\n",
    "print(SI12)\n",
    "B12 = np.mean(np.array([T12,H12,SI12]),axis=0)\n",
    "print(B12)\n",
    "\n",
    "B = [B10,B11,B12]"
   ]
  },
  {
   "cell_type": "code",
   "execution_count": 6,
   "metadata": {},
   "outputs": [
    {
     "name": "stdout",
     "output_type": "stream",
     "text": [
      "[8.5 8.  8.  7. ]\n",
      "[9. 9. 9. 9.]\n",
      "[8.6 8.  9.  8. ]\n",
      "[8.2 8.  9.  8. ]\n",
      "[8.1 8.  8.  8. ]\n",
      "[7.6 7.  8.  8. ]\n",
      "[9. 9. 9. 9.]\n",
      "[8.6        8.         8.66666667 8.33333333]\n",
      "[8.2 8.  8.  8. ]\n",
      "[8.9 8.  9.  8. ]\n",
      "[8.9 8.  9.  8. ]\n",
      "[8.46666667 8.         8.33333333 8.33333333]\n"
     ]
    }
   ],
   "source": [
    "V10 = duc[16:20]\n",
    "print(V10)\n",
    "SU10 = duc[20:24]\n",
    "print(SU10)\n",
    "D10 = duc[24:28]\n",
    "print(D10)\n",
    "C10 = np.mean(np.array([V10,SU10,D10]),axis=0)\n",
    "print(A10)\n",
    "\n",
    "V11 = duc[48:52]\n",
    "print(V11)\n",
    "SU11 = duc[52:56]\n",
    "print(SU11)\n",
    "D11 = duc[56:60]\n",
    "print(D11)\n",
    "C11 = np.mean(np.array([V11,SU11,D11]),axis=0)\n",
    "print(B11)\n",
    "\n",
    "V12 = duc[80:84]\n",
    "print(V12)\n",
    "SU12 = duc[84:88]\n",
    "print(SU12)\n",
    "D12 = duc[88:92]\n",
    "print(D12)\n",
    "C12 = np.mean(np.array([V12,SU12,D12]),axis=0)\n",
    "print(B12)\n",
    "\n",
    "C = [C10,C11,C12]"
   ]
  },
  {
   "cell_type": "code",
   "execution_count": 7,
   "metadata": {},
   "outputs": [
    {
     "name": "stdout",
     "output_type": "stream",
     "text": [
      "[8.6 8.  9.  8. ]\n",
      "[8.5 8.  8.  7. ]\n",
      "[8.2 8.  9.  8. ]\n",
      "[8.43333333 8.         8.66666667 7.66666667]\n",
      "[8.8 8.  9.  9. ]\n",
      "[8.1 8.  8.  8. ]\n",
      "[8.1 8.  9.  8. ]\n",
      "[8.33333333 8.         8.66666667 8.33333333]\n",
      "[8.5 8.  9.  9. ]\n",
      "[8.2 8.  8.  8. ]\n",
      "[8. 8. 9. 9.]\n",
      "[8.23333333 8.         8.66666667 8.66666667]\n"
     ]
    }
   ],
   "source": [
    "T10 = duc[0:4]\n",
    "print(T10)\n",
    "V10 = duc[16:20]\n",
    "print(V10)\n",
    "A10 = duc[28:32]\n",
    "print(A10)\n",
    "DD10 = np.mean(np.array([T10,V10,A10]),axis=0)\n",
    "print(DD10)\n",
    "\n",
    "T11 = duc[32:36]\n",
    "print(T11)\n",
    "V11 = duc[48:52]\n",
    "print(V11)\n",
    "A11 = duc[60:64]\n",
    "print(A11)\n",
    "DD11 = np.mean(np.array([T11,V11,A11]),axis=0)\n",
    "print(DD11)\n",
    "\n",
    "T12 = duc[64:68]\n",
    "print(T12)\n",
    "V12 = duc[80:84]\n",
    "print(V12)\n",
    "A12 = duc[92:96]\n",
    "print(A12)\n",
    "DD12 = np.mean(np.array([T12,V12,A12]),axis=0)\n",
    "print(DD12)\n",
    "\n",
    "D = [DD10,DD11,DD12]"
   ]
  },
  {
   "cell_type": "code",
   "execution_count": 8,
   "metadata": {},
   "outputs": [
    {
     "name": "stdout",
     "output_type": "stream",
     "text": [
      "[[[0.85666667 0.26666667 0.26666667 0.3       ]\n",
      "  [0.89       0.27777778 0.28888889 0.3       ]\n",
      "  [0.84       0.26666667 0.28888889 0.28888889]]\n",
      "\n",
      " [[0.83666667 0.26666667 0.26666667 0.3       ]\n",
      "  [0.87333333 0.27777778 0.28888889 0.3       ]\n",
      "  [0.83       0.26666667 0.3        0.3       ]]\n",
      "\n",
      " [[0.87666667 0.26666667 0.26666667 0.3       ]\n",
      "  [0.86       0.26666667 0.27777778 0.28888889]\n",
      "  [0.84666667 0.26666667 0.27777778 0.27777778]]\n",
      "\n",
      " [[0.87       0.27777778 0.26666667 0.28888889]\n",
      "  [0.82333333 0.26666667 0.27777778 0.27777778]\n",
      "  [0.86666667 0.26666667 0.26666667 0.28888889]]\n",
      "\n",
      " [[0.84333333 0.26666667 0.25555556 0.28888889]\n",
      "  [0.83333333 0.26666667 0.27777778 0.28888889]\n",
      "  [0.82333333 0.26666667 0.28888889 0.28888889]]]\n"
     ]
    }
   ],
   "source": [
    "from dm import *\n",
    "from im import *\n",
    "\n",
    "def change(A):\n",
    "    Aok = []\n",
    "    for i in range(3):\n",
    "        temp = []\n",
    "        for j in range(4):\n",
    "            if j == 0:\n",
    "                temp.append(A[i][j]/10)\n",
    "            if j == 1:\n",
    "                temp.append(A[i][j]/30)\n",
    "            if j == 2:\n",
    "                temp.append(A[i][j+1]/30)\n",
    "            if j == 3:\n",
    "                temp.append(A[i][j-1]/30)\n",
    "        Aok.append(temp)\n",
    "    return(Aok)\n",
    "\n",
    "matrix = np.array([change(A),change(A1),change(B),change(C),change(D)])\n",
    "print(matrix)\n",
    "\n",
    "def rtc(A):\n",
    "    rtc = []\n",
    "    for i in range(3):\n",
    "        temp = []\n",
    "        for j in range(5):\n",
    "            temp.append(A[j][i])\n",
    "        rtc.append(temp)\n",
    "    return np.array(rtc)\n",
    "matric = rtc(matrix)"
   ]
  },
  {
   "cell_type": "code",
   "execution_count": 9,
   "metadata": {},
   "outputs": [
    {
     "name": "stdout",
     "output_type": "stream",
     "text": [
      "[[[0.85666667 0.26666667 0.26666667 0.3       ]\n",
      "  [0.83666667 0.26666667 0.26666667 0.3       ]\n",
      "  [0.87666667 0.26666667 0.26666667 0.3       ]\n",
      "  [0.87       0.27777778 0.26666667 0.28888889]\n",
      "  [0.84333333 0.26666667 0.25555556 0.28888889]]\n",
      "\n",
      " [[0.89       0.27777778 0.28888889 0.3       ]\n",
      "  [0.87333333 0.27777778 0.28888889 0.3       ]\n",
      "  [0.86       0.26666667 0.27777778 0.28888889]\n",
      "  [0.82333333 0.26666667 0.27777778 0.27777778]\n",
      "  [0.83333333 0.26666667 0.27777778 0.28888889]]\n",
      "\n",
      " [[0.84       0.26666667 0.28888889 0.28888889]\n",
      "  [0.83       0.26666667 0.3        0.3       ]\n",
      "  [0.84666667 0.26666667 0.27777778 0.27777778]\n",
      "  [0.86666667 0.26666667 0.26666667 0.28888889]\n",
      "  [0.82333333 0.26666667 0.28888889 0.28888889]]]\n"
     ]
    }
   ],
   "source": [
    "cost = []\n",
    "mat = rnf(matric,cost)\n",
    "print(np.array(mat))"
   ]
  },
  {
   "cell_type": "code",
   "execution_count": 10,
   "metadata": {},
   "outputs": [
    {
     "name": "stdout",
     "output_type": "stream",
     "text": [
      "[0.71220375 0.71974101 0.72818666]\n",
      "[0.48611111 0.49422222 0.49933333]\n",
      "[0.57152638 0.57938448 0.58425089]\n",
      "[0.40175579 0.4095012  0.41446641]\n",
      "[0.36432886 0.37202788 0.37700595]\n",
      "[0.27767861 0.28653284 0.29234439]\n",
      "[0.69147207 0.70063289 0.70617565]\n",
      "[0.5729332  0.5804503  0.58510708]\n",
      "[0.40150451 0.40891638 0.41366543]\n",
      "[0.32868095 0.33633718 0.33921303]\n",
      "[0.32112863 0.32823577 0.33287019]\n",
      "[0.1173729  0.12303132 0.12312649]\n",
      "[0.1086297  0.11364738 0.11548592]\n"
     ]
    }
   ],
   "source": [
    "for i in range(13):\n",
    "    print(np.array(ej(mat,i)))"
   ]
  },
  {
   "cell_type": "code",
   "execution_count": 11,
   "metadata": {},
   "outputs": [
    {
     "name": "stdout",
     "output_type": "stream",
     "text": [
      "[0.0001976  0.00048635 0.000265  ]\n",
      "[0.00922222 0.01477778 0.01127778]\n",
      "[0.00666958 0.0107106  0.00816221]\n",
      "[0.01323701 0.02112136 0.01616394]\n",
      "[0.01451467 0.02315894 0.01772388]\n",
      "[0.01448555 0.02320901 0.01771366]\n",
      "[0.00011689 0.00034424 0.00018385]\n",
      "[0.00724329 0.01160741 0.0088579 ]\n",
      "[0.01437069 0.02287618 0.01753405]\n",
      "[0.0198516  0.0309741  0.02679121]\n",
      "[0.02163096 0.03398992 0.02640051]\n",
      "[0.03897388 0.06050872 0.05211774]\n",
      "[0.04568817 0.07193437 0.05004046]\n"
     ]
    }
   ],
   "source": [
    "for i in range(13):\n",
    "    print(np.array(cj(mat,i)))"
   ]
  },
  {
   "cell_type": "code",
   "execution_count": 12,
   "metadata": {},
   "outputs": [
    {
     "name": "stdout",
     "output_type": "stream",
     "text": [
      "[0.60460555 0.59988789 0.60674074 0.60723558 0.60100572]\n",
      "[0.63874034 0.63301363 0.64121831 0.6420336  0.63430531]\n",
      "[0.61561518 0.61072448 0.61773731 0.61844311 0.61183148]\n",
      "[0.65884237 0.65242987 0.66160694 0.66250955 0.65386692]\n",
      "[0.67263448 0.66578197 0.67558408 0.67654258 0.6673169 ]\n",
      "[0.74686131 0.73783682 0.7507308  0.75195378 0.73988109]\n",
      "[0.61073228 0.60602972 0.61278967 0.61348096 0.60712877]\n",
      "[0.61073067 0.60602532 0.61277136 0.61345143 0.60708702]\n",
      "[0.65288432 0.64666655 0.6555638  0.65644072 0.64805499]\n",
      "[0.66220472 0.65624894 0.66702882 0.66915191 0.66148121]\n",
      "[0.70435809 0.6971652  0.70970076 0.71196843 0.70270564]\n",
      "[0.83015014 0.82168444 0.83664197 0.83840424 0.82821093]\n",
      "[0.86404691 0.85556698 0.86968115 0.87085829 0.86066084]\n"
     ]
    }
   ],
   "source": [
    "visual = []\n",
    "for i in range(13):\n",
    "    print(np.array(S(mat,i)))\n",
    "    visual.append(S(mat,i))"
   ]
  },
  {
   "cell_type": "code",
   "execution_count": 13,
   "metadata": {},
   "outputs": [
    {
     "name": "stdout",
     "output_type": "stream",
     "text": [
      "[0.81474733 0.8124642  0.81558404 0.8173947  0.81341341]\n",
      "[0.63874034 0.63301363 0.64121831 0.6420336  0.63430531]\n",
      "[0.71258204 0.70752764 0.71476971 0.71548002 0.70867884]\n",
      "[0.55506634 0.54901553 0.55768247 0.55855625 0.55036303]\n",
      "[0.52035361 0.5140673  0.52307161 0.52398496 0.51546221]\n",
      "[0.46251656 0.45496332 0.46578577 0.46688657 0.45664406]\n",
      "[0.84324675 0.83836501 0.8453688  0.8460358  0.83952424]\n",
      "[0.70839639 0.70350675 0.71051195 0.71120069 0.70461674]\n",
      "[0.54847727 0.54264729 0.55099649 0.55183938 0.5439412 ]\n",
      "[0.28317408 0.27928232 0.28195024 0.28090767 0.27500433]\n",
      "[0.4394112  0.43216563 0.44003444 0.43966465 0.42923981]\n",
      "[0.20429444 0.19763417 0.20317414 0.20037774 0.19139444]\n",
      "[0.37714661 0.36413825 0.37650238 0.37194108 0.35468871]\n"
     ]
    }
   ],
   "source": [
    "for i in range(13):\n",
    "    print(np.array(Spos(mat,i)))"
   ]
  },
  {
   "cell_type": "code",
   "execution_count": 14,
   "metadata": {},
   "outputs": [
    {
     "name": "stdout",
     "output_type": "stream",
     "text": [
      "[0.53282107 0.54189586 0.52862112 0.52869688 0.54000701]\n",
      "[0.36125966 0.36698637 0.35878169 0.3579664  0.36569469]\n",
      "[0.44493008 0.45097781 0.44230741 0.44142513 0.44961207]\n",
      "[0.28742098 0.29247802 0.28523866 0.28453537 0.29134193]\n",
      "[0.2532517  0.2580583  0.25117934 0.25051908 0.2569777 ]\n",
      "[0.15676383 0.16165449 0.15465736 0.15401139 0.16054168]\n",
      "[0.53746747 0.54500775 0.53417273 0.53303847 0.54325366]\n",
      "[0.45151979 0.45734697 0.44899385 0.44814242 0.45603522]\n",
      "[0.29160611 0.29649816 0.28949607 0.28881442 0.29540301]\n",
      "[0.14444909 0.14629143 0.1407455  0.13888889 0.14073587]\n",
      "[0.18443512 0.18772422 0.1799937  0.17786926 0.1815989 ]\n",
      "[0.04179892 0.04288903 0.03967064 0.03862122 0.03969939]\n",
      "[0.05934197 0.0614722  0.05641764 0.05515605 0.05742335]\n"
     ]
    }
   ],
   "source": [
    "for i in range(13):\n",
    "    print(np.array(Sneg(mat,i)))"
   ]
  },
  {
   "cell_type": "code",
   "execution_count": 15,
   "metadata": {},
   "outputs": [
    {
     "name": "stdout",
     "output_type": "stream",
     "text": [
      "[0.60460555 0.59988789 0.60674074 0.60723558 0.60100572]\n",
      "[0.63874034 0.63301363 0.64121831 0.6420336  0.63430531]\n",
      "[0.61561518 0.61072448 0.61773731 0.61844311 0.61183148]\n",
      "[0.65884237 0.65242987 0.66160694 0.66250955 0.65386692]\n",
      "[0.67263448 0.66578197 0.67558408 0.67654258 0.6673169 ]\n",
      "[0.74686131 0.73783682 0.7507308  0.75195378 0.73988109]\n",
      "[0.61073228 0.60602972 0.61278967 0.61348096 0.60712877]\n",
      "[0.61073067 0.60602532 0.61277136 0.61345143 0.60708702]\n",
      "[0.65288432 0.64666655 0.6555638  0.65644072 0.64805499]\n",
      "[0.66220472 0.65624894 0.66702882 0.66915191 0.66148121]\n",
      "[0.70435809 0.6971652  0.70970076 0.71196843 0.70270564]\n",
      "[0.83015014 0.82168444 0.83664197 0.83840424 0.82821093]\n",
      "[0.86404691 0.85556698 0.86968115 0.87085829 0.86066084]\n"
     ]
    }
   ],
   "source": [
    "for i in range(13):\n",
    "    print(np.array(S(mat,i)))"
   ]
  },
  {
   "cell_type": "code",
   "execution_count": 16,
   "metadata": {},
   "outputs": [
    {
     "name": "stdout",
     "output_type": "stream",
     "text": [
      "Similarity no. 1 : [2 5 1 3 4]\n",
      "Similarity no. 2 : [2 5 1 3 4]\n",
      "Similarity no. 3 : [2 5 1 3 4]\n",
      "Similarity no. 4 : [2 5 1 3 4]\n",
      "Similarity no. 5 : [2 5 1 3 4]\n",
      "Similarity no. 6 : [2 5 1 3 4]\n",
      "Similarity no. 7 : [2 5 1 3 4]\n",
      "Similarity no. 8 : [2 5 1 3 4]\n",
      "Similarity no. 9 : [2 5 1 3 4]\n",
      "Similarity no. 10 : [2 5 1 3 4]\n",
      "Similarity no. 11 : [2 5 1 3 4]\n",
      "Similarity no. 12 : [2 5 1 3 4]\n",
      "Similarity no. 13 : [2 5 1 3 4]\n"
     ]
    }
   ],
   "source": [
    "for i in range(13):\n",
    "    print(\"Similarity no.\",i+1,\":\",np.array(rank(mat,i)))"
   ]
  },
  {
   "cell_type": "code",
   "execution_count": 17,
   "metadata": {},
   "outputs": [
    {
     "name": "stdout",
     "output_type": "stream",
     "text": [
      "Similarity no. 1 : 4\n",
      "Similarity no. 2 : 4\n",
      "Similarity no. 3 : 4\n",
      "Similarity no. 4 : 4\n",
      "Similarity no. 5 : 4\n",
      "Similarity no. 6 : 4\n",
      "Similarity no. 7 : 4\n",
      "Similarity no. 8 : 4\n",
      "Similarity no. 9 : 4\n",
      "Similarity no. 10 : 4\n",
      "Similarity no. 11 : 4\n",
      "Similarity no. 12 : 4\n",
      "Similarity no. 13 : 4\n"
     ]
    }
   ],
   "source": [
    " for i in range(13):\n",
    "    print(\"Similarity no.\",i+1,\":\",alt(mat,i))"
   ]
  },
  {
   "cell_type": "code",
   "execution_count": 18,
   "metadata": {},
   "outputs": [
    {
     "name": "stderr",
     "output_type": "stream",
     "text": [
      "The PostScript backend does not support transparency; partially transparent artists will be rendered opaque.\n",
      "The PostScript backend does not support transparency; partially transparent artists will be rendered opaque.\n"
     ]
    },
    {
     "data": {
      "image/png": "[encoded data removed]",
      "text/plain": [
       "<Figure size 720x324 with 1 Axes>"
      ]
     },
     "metadata": {
      "needs_background": "light"
     },
     "output_type": "display_data"
    }
   ],
   "source": [
    "import matplotlib.pyplot as plt\n",
    "xaxis = [1,2,3,4,5,6,7,8,9,10,11,12,13]\n",
    "plt.plot(xaxis,[visual[i][0] for i in range(13)],\n",
    "         'go-', color='blue', label='A', marker='o')\n",
    "plt.plot(xaxis,[visual[i][1] for i in range(13)],\n",
    "         'go-', color='green', label='A1', marker='o')\n",
    "plt.plot(xaxis,[visual[i][2] for i in range(13)],\n",
    "         'go-', color='red', label='B', marker='o')\n",
    "plt.plot(xaxis,[visual[i][3] for i in range(13)],\n",
    "         'go-', color='cyan', label='C', marker='o')\n",
    "plt.plot(xaxis,[visual[i][4] for i in range(13)],\n",
    "         'go-', color='magenta', label='D', marker='o')\n",
    "plt.xticks(xaxis,[\"IM1\",\"IM2\",\"IM3\",\"IM4\",\"IM5\",\"IM6\",\"IM7\",\"IM8\",\"IM9\",\"IM10\",\"IM11\",\"IM12\",\"IM13\"])\n",
    "plt.xlabel(\"Information Measures\")\n",
    "plt.ylabel(\"Combination Scores\")\n",
    "plt.title(\"The visualization of combination scores Si and rank of combinations \\n using information measures IMi\")\n",
    "figure = plt.gcf()\n",
    "figure.set_size_inches(10,4.5)\n",
    "plt.legend(loc='upper center', ncol=5)\n",
    "plt.savefig('decision making.eps', format='eps')\n",
    "plt.show()"
   ]
  },
  {
   "cell_type": "code",
   "execution_count": null,
   "metadata": {},
   "outputs": [],
   "source": [
    "# 8\t8.25\t9.8\tLịch sử\t5.75\tĐịa lý\t7.5\tGDCD\t8.75\n",
    "# Khối C: 21.5đ. Khối D: 26.05đ"
   ]
  }
 ],
 "metadata": {
  "kernelspec": {
   "display_name": "Python 3",
   "language": "python",
   "name": "python3"
  },
  "language_info": {
   "codemirror_mode": {
    "name": "ipython",
    "version": 3
   },
   "file_extension": ".py",
   "mimetype": "text/x-python",
   "name": "python",
   "nbconvert_exporter": "python",
   "pygments_lexer": "ipython3",
   "version": "3.8.8"
  }
 },
 "nbformat": 4,
 "nbformat_minor": 4
}

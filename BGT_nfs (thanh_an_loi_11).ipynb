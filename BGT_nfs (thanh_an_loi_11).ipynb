{
 "cells": [
  {
   "cell_type": "code",
   "execution_count": 1,
   "metadata": {},
   "outputs": [
    {
     "data": {
      "text/html": [
       "<div>\n",
       "<style scoped>\n",
       "    .dataframe tbody tr th:only-of-type {\n",
       "        vertical-align: middle;\n",
       "    }\n",
       "\n",
       "    .dataframe tbody tr th {\n",
       "        vertical-align: top;\n",
       "    }\n",
       "\n",
       "    .dataframe thead th {\n",
       "        text-align: right;\n",
       "    }\n",
       "</style>\n",
       "<table border=\"1\" class=\"dataframe\">\n",
       "  <thead>\n",
       "    <tr style=\"text-align: right;\">\n",
       "      <th></th>\n",
       "      <th>T10</th>\n",
       "      <th>T10_T</th>\n",
       "      <th>T10_F</th>\n",
       "      <th>T10_I</th>\n",
       "      <th>L10</th>\n",
       "      <th>L10_T</th>\n",
       "      <th>L10_F</th>\n",
       "      <th>L10_I</th>\n",
       "      <th>H10</th>\n",
       "      <th>H10_T</th>\n",
       "      <th>...</th>\n",
       "      <th>SU12_F</th>\n",
       "      <th>SU12_I</th>\n",
       "      <th>D12</th>\n",
       "      <th>D12_T</th>\n",
       "      <th>D12_F</th>\n",
       "      <th>D12_I</th>\n",
       "      <th>AV12</th>\n",
       "      <th>AV12_T</th>\n",
       "      <th>AV12_F</th>\n",
       "      <th>AV12_I</th>\n",
       "    </tr>\n",
       "  </thead>\n",
       "  <tbody>\n",
       "    <tr>\n",
       "      <th>0</th>\n",
       "      <td>9.3</td>\n",
       "      <td>10</td>\n",
       "      <td>0</td>\n",
       "      <td>0</td>\n",
       "      <td>7.7</td>\n",
       "      <td>8</td>\n",
       "      <td>2</td>\n",
       "      <td>2</td>\n",
       "      <td>8.6</td>\n",
       "      <td>8</td>\n",
       "      <td>...</td>\n",
       "      <td>0</td>\n",
       "      <td>0</td>\n",
       "      <td>8.9</td>\n",
       "      <td>10</td>\n",
       "      <td>0</td>\n",
       "      <td>0</td>\n",
       "      <td>7.8</td>\n",
       "      <td>10</td>\n",
       "      <td>0</td>\n",
       "      <td>0</td>\n",
       "    </tr>\n",
       "    <tr>\n",
       "      <th>1</th>\n",
       "      <td>9.1</td>\n",
       "      <td>9</td>\n",
       "      <td>1</td>\n",
       "      <td>1</td>\n",
       "      <td>7.1</td>\n",
       "      <td>9</td>\n",
       "      <td>2</td>\n",
       "      <td>5</td>\n",
       "      <td>8.0</td>\n",
       "      <td>7</td>\n",
       "      <td>...</td>\n",
       "      <td>5</td>\n",
       "      <td>4</td>\n",
       "      <td>8.8</td>\n",
       "      <td>7</td>\n",
       "      <td>1</td>\n",
       "      <td>1</td>\n",
       "      <td>7.6</td>\n",
       "      <td>7</td>\n",
       "      <td>6</td>\n",
       "      <td>4</td>\n",
       "    </tr>\n",
       "    <tr>\n",
       "      <th>2</th>\n",
       "      <td>9.4</td>\n",
       "      <td>8</td>\n",
       "      <td>2</td>\n",
       "      <td>2</td>\n",
       "      <td>7.6</td>\n",
       "      <td>10</td>\n",
       "      <td>0</td>\n",
       "      <td>0</td>\n",
       "      <td>9.0</td>\n",
       "      <td>10</td>\n",
       "      <td>...</td>\n",
       "      <td>0</td>\n",
       "      <td>0</td>\n",
       "      <td>9.0</td>\n",
       "      <td>10</td>\n",
       "      <td>0</td>\n",
       "      <td>0</td>\n",
       "      <td>9.0</td>\n",
       "      <td>10</td>\n",
       "      <td>0</td>\n",
       "      <td>0</td>\n",
       "    </tr>\n",
       "    <tr>\n",
       "      <th>3</th>\n",
       "      <td>9.3</td>\n",
       "      <td>9</td>\n",
       "      <td>0</td>\n",
       "      <td>9</td>\n",
       "      <td>7.1</td>\n",
       "      <td>9</td>\n",
       "      <td>8</td>\n",
       "      <td>8</td>\n",
       "      <td>8.7</td>\n",
       "      <td>9</td>\n",
       "      <td>...</td>\n",
       "      <td>8</td>\n",
       "      <td>6</td>\n",
       "      <td>8.2</td>\n",
       "      <td>9</td>\n",
       "      <td>7</td>\n",
       "      <td>6</td>\n",
       "      <td>8.3</td>\n",
       "      <td>8</td>\n",
       "      <td>8</td>\n",
       "      <td>9</td>\n",
       "    </tr>\n",
       "    <tr>\n",
       "      <th>4</th>\n",
       "      <td>9.3</td>\n",
       "      <td>8</td>\n",
       "      <td>2</td>\n",
       "      <td>3</td>\n",
       "      <td>9.6</td>\n",
       "      <td>6</td>\n",
       "      <td>4</td>\n",
       "      <td>6</td>\n",
       "      <td>8.6</td>\n",
       "      <td>7</td>\n",
       "      <td>...</td>\n",
       "      <td>7</td>\n",
       "      <td>4</td>\n",
       "      <td>9.6</td>\n",
       "      <td>6</td>\n",
       "      <td>4</td>\n",
       "      <td>5</td>\n",
       "      <td>9.4</td>\n",
       "      <td>6</td>\n",
       "      <td>4</td>\n",
       "      <td>5</td>\n",
       "    </tr>\n",
       "  </tbody>\n",
       "</table>\n",
       "<p>5 rows × 96 columns</p>\n",
       "</div>"
      ],
      "text/plain": [
       "   T10  T10_T  T10_F  T10_I  L10  L10_T  L10_F  L10_I  H10  H10_T  ...  \\\n",
       "0  9.3     10      0      0  7.7      8      2      2  8.6      8  ...   \n",
       "1  9.1      9      1      1  7.1      9      2      5  8.0      7  ...   \n",
       "2  9.4      8      2      2  7.6     10      0      0  9.0     10  ...   \n",
       "3  9.3      9      0      9  7.1      9      8      8  8.7      9  ...   \n",
       "4  9.3      8      2      3  9.6      6      4      6  8.6      7  ...   \n",
       "\n",
       "   SU12_F  SU12_I  D12  D12_T  D12_F  D12_I  AV12  AV12_T  AV12_F  AV12_I  \n",
       "0       0       0  8.9     10      0      0   7.8      10       0       0  \n",
       "1       5       4  8.8      7      1      1   7.6       7       6       4  \n",
       "2       0       0  9.0     10      0      0   9.0      10       0       0  \n",
       "3       8       6  8.2      9      7      6   8.3       8       8       9  \n",
       "4       7       4  9.6      6      4      5   9.4       6       4       5  \n",
       "\n",
       "[5 rows x 96 columns]"
      ]
     },
     "execution_count": 1,
     "metadata": {},
     "output_type": "execute_result"
    }
   ],
   "source": [
    "import pandas as pd\n",
    "import numpy as np\n",
    "\n",
    "data = pd.read_csv(\"BGT.csv\") \n",
    "data.head(5)\n",
    "#print(data)"
   ]
  },
  {
   "cell_type": "code",
   "execution_count": 2,
   "metadata": {},
   "outputs": [
    {
     "name": "stdout",
     "output_type": "stream",
     "text": [
      "[ 9.2  9.   3.   9.   9.4  8.   7.   7.   9.2 10.   2.   9.   8.2  9.\n",
      "  4.   7.   7.9  9.   1.   9.   7.7  8.   2.   7.   7.5  7.   2.   7.\n",
      "  8.6  7.   6.   9.   9.   9.   4.   8.   8.7  7.   5.   6.   9.1  9.\n",
      "  2.  10.   8.8  8.   2.   8.   7.9  8.   4.   7.   8.2  8.   1.   6.\n",
      "  8.3  8.   2.   8.   8.7  7.   5.   9.   9.7  9.   1.   9.   7.6  8.\n",
      "  3.   8.   9.6  9.   2.  10.   9.8  8.   0.  10.   8.2  8.   2.   7.\n",
      "  7.5  7.   4.   8.   8.9  9.   1.   7.   9.2 10.   2.   9. ]\n"
     ]
    }
   ],
   "source": [
    "duc = np.array(data[19:20])[0]\n",
    "print(duc)"
   ]
  },
  {
   "cell_type": "code",
   "execution_count": 3,
   "metadata": {},
   "outputs": [
    {
     "name": "stdout",
     "output_type": "stream",
     "text": [
      "[9.2 9.  3.  9. ]\n",
      "[9.4 8.  7.  7. ]\n",
      "[ 9.2 10.   2.   9. ]\n",
      "[9.26666667 9.         4.         8.33333333]\n",
      "[9. 9. 4. 8.]\n",
      "[8.7 7.  5.  6. ]\n",
      "[ 9.1  9.   2.  10. ]\n",
      "[8.93333333 8.33333333 3.66666667 8.        ]\n",
      "[9.7 9.  1.  9. ]\n",
      "[7.6 8.  3.  8. ]\n",
      "[ 9.6  9.   2.  10. ]\n",
      "[8.96666667 8.66666667 2.         9.        ]\n"
     ]
    }
   ],
   "source": [
    "T10 = duc[0:4]\n",
    "print(T10)\n",
    "L10 = duc[4:8]\n",
    "print(L10)\n",
    "H10 = duc[8:12]\n",
    "print(H10)\n",
    "A10 = np.mean(np.array([T10,L10,H10]),axis=0)\n",
    "print(A10)\n",
    "\n",
    "T11 = duc[32:36]\n",
    "print(T11)\n",
    "L11 = duc[36:40]\n",
    "print(L11)\n",
    "H11 = duc[40:44]\n",
    "print(H11)\n",
    "A11 = np.mean(np.array([T11,L11,H11]),axis=0)\n",
    "print(A11)\n",
    "\n",
    "T12 = duc[64:68]\n",
    "print(T12)\n",
    "L12 = duc[68:72]\n",
    "print(L12)\n",
    "H12 = duc[72:76]\n",
    "print(H12)\n",
    "A12 = np.mean(np.array([T12,L12,H12]),axis=0)\n",
    "print(A12)\n",
    "\n",
    "A = [A10,A11,A12]"
   ]
  },
  {
   "cell_type": "code",
   "execution_count": 4,
   "metadata": {},
   "outputs": [
    {
     "name": "stdout",
     "output_type": "stream",
     "text": [
      "[9.2 9.  3.  9. ]\n",
      "[9.4 8.  7.  7. ]\n",
      "[8.6 7.  6.  9. ]\n",
      "[9.06666667 8.         5.33333333 8.33333333]\n",
      "[9. 9. 4. 8.]\n",
      "[8.7 7.  5.  6. ]\n",
      "[8.7 7.  5.  9. ]\n",
      "[8.8        7.66666667 4.66666667 7.66666667]\n",
      "[9.7 9.  1.  9. ]\n",
      "[7.6 8.  3.  8. ]\n",
      "[ 9.2 10.   2.   9. ]\n",
      "[8.83333333 9.         2.         8.66666667]\n"
     ]
    }
   ],
   "source": [
    "T10 = duc[0:4]\n",
    "print(T10)\n",
    "L10 = duc[4:8]\n",
    "print(L10)\n",
    "A10 = duc[28:32]\n",
    "print(A10)\n",
    "A110 = np.mean(np.array([T10,L10,A10]),axis=0)\n",
    "print(A110)\n",
    "\n",
    "T11 = duc[32:36]\n",
    "print(T11)\n",
    "L11 = duc[36:40]\n",
    "print(L11)\n",
    "A11 = duc[60:64]\n",
    "print(A11)\n",
    "A111 = np.mean(np.array([T11,L11,A11]),axis=0)\n",
    "print(A111)\n",
    "\n",
    "T12 = duc[64:68]\n",
    "print(T12)\n",
    "L12 = duc[68:72]\n",
    "print(L12)\n",
    "A12 = duc[92:96]\n",
    "print(A12)\n",
    "A112 = np.mean(np.array([T12,L12,A12]),axis=0)\n",
    "print(A112)\n",
    "\n",
    "A1 = [A110,A111,A112]"
   ]
  },
  {
   "cell_type": "code",
   "execution_count": 5,
   "metadata": {},
   "outputs": [
    {
     "name": "stdout",
     "output_type": "stream",
     "text": [
      "[9.2 9.  3.  9. ]\n",
      "[ 9.2 10.   2.   9. ]\n",
      "[8.2 9.  4.  7. ]\n",
      "[8.6 7.  6.  9. ]\n",
      "[9. 9. 4. 8.]\n",
      "[ 9.1  9.   2.  10. ]\n",
      "[8.8 8.  2.  8. ]\n",
      "[8.96666667 8.66666667 2.66666667 8.66666667]\n",
      "[9.7 9.  1.  9. ]\n",
      "[ 9.6  9.   2.  10. ]\n",
      "[ 9.8  8.   0.  10. ]\n",
      "[9.7        8.66666667 1.         9.66666667]\n"
     ]
    }
   ],
   "source": [
    "T10 = duc[0:4]\n",
    "print(T10)\n",
    "H10 = duc[8:12]\n",
    "print(H10)\n",
    "SI10 = duc[12:16]\n",
    "print(SI10)\n",
    "B10 = np.mean(np.array([T10,H10,SI10]),axis=0)\n",
    "print(A10)\n",
    "\n",
    "T11 = duc[32:36]\n",
    "print(T11)\n",
    "H11 = duc[40:44]\n",
    "print(H11)\n",
    "SI11 = duc[44:48]\n",
    "print(SI11)\n",
    "B11 = np.mean(np.array([T11,H11,SI11]),axis=0)\n",
    "print(B11)\n",
    "\n",
    "T12 = duc[64:68]\n",
    "print(T12)\n",
    "H12 = duc[72:76]\n",
    "print(H12)\n",
    "SI12 = duc[76:80]\n",
    "print(SI12)\n",
    "B12 = np.mean(np.array([T12,H12,SI12]),axis=0)\n",
    "print(B12)\n",
    "\n",
    "B = [B10,B11,B12]"
   ]
  },
  {
   "cell_type": "code",
   "execution_count": 6,
   "metadata": {},
   "outputs": [
    {
     "name": "stdout",
     "output_type": "stream",
     "text": [
      "[7.9 9.  1.  9. ]\n",
      "[7.7 8.  2.  7. ]\n",
      "[7.5 7.  2.  7. ]\n",
      "[8.6 7.  6.  9. ]\n",
      "[7.9 8.  4.  7. ]\n",
      "[8.2 8.  1.  6. ]\n",
      "[8.3 8.  2.  8. ]\n",
      "[8.96666667 8.66666667 2.66666667 8.66666667]\n",
      "[8.2 8.  2.  7. ]\n",
      "[7.5 7.  4.  8. ]\n",
      "[8.9 9.  1.  7. ]\n",
      "[9.7        8.66666667 1.         9.66666667]\n"
     ]
    }
   ],
   "source": [
    "V10 = duc[16:20]\n",
    "print(V10)\n",
    "SU10 = duc[20:24]\n",
    "print(SU10)\n",
    "D10 = duc[24:28]\n",
    "print(D10)\n",
    "C10 = np.mean(np.array([V10,SU10,D10]),axis=0)\n",
    "print(A10)\n",
    "\n",
    "V11 = duc[48:52]\n",
    "print(V11)\n",
    "SU11 = duc[52:56]\n",
    "print(SU11)\n",
    "D11 = duc[56:60]\n",
    "print(D11)\n",
    "C11 = np.mean(np.array([V11,SU11,D11]),axis=0)\n",
    "print(B11)\n",
    "\n",
    "V12 = duc[80:84]\n",
    "print(V12)\n",
    "SU12 = duc[84:88]\n",
    "print(SU12)\n",
    "D12 = duc[88:92]\n",
    "print(D12)\n",
    "C12 = np.mean(np.array([V12,SU12,D12]),axis=0)\n",
    "print(B12)\n",
    "\n",
    "C = [C10,C11,C12]"
   ]
  },
  {
   "cell_type": "code",
   "execution_count": 7,
   "metadata": {},
   "outputs": [
    {
     "name": "stdout",
     "output_type": "stream",
     "text": [
      "[9.2 9.  3.  9. ]\n",
      "[7.9 9.  1.  9. ]\n",
      "[8.6 7.  6.  9. ]\n",
      "[8.56666667 8.33333333 3.33333333 9.        ]\n",
      "[9. 9. 4. 8.]\n",
      "[7.9 8.  4.  7. ]\n",
      "[8.7 7.  5.  9. ]\n",
      "[8.53333333 8.         4.33333333 8.        ]\n",
      "[9.7 9.  1.  9. ]\n",
      "[8.2 8.  2.  7. ]\n",
      "[ 9.2 10.   2.   9. ]\n",
      "[9.03333333 9.         1.66666667 8.33333333]\n"
     ]
    }
   ],
   "source": [
    "T10 = duc[0:4]\n",
    "print(T10)\n",
    "V10 = duc[16:20]\n",
    "print(V10)\n",
    "A10 = duc[28:32]\n",
    "print(A10)\n",
    "DD10 = np.mean(np.array([T10,V10,A10]),axis=0)\n",
    "print(DD10)\n",
    "\n",
    "T11 = duc[32:36]\n",
    "print(T11)\n",
    "V11 = duc[48:52]\n",
    "print(V11)\n",
    "A11 = duc[60:64]\n",
    "print(A11)\n",
    "DD11 = np.mean(np.array([T11,V11,A11]),axis=0)\n",
    "print(DD11)\n",
    "\n",
    "T12 = duc[64:68]\n",
    "print(T12)\n",
    "V12 = duc[80:84]\n",
    "print(V12)\n",
    "A12 = duc[92:96]\n",
    "print(A12)\n",
    "DD12 = np.mean(np.array([T12,V12,A12]),axis=0)\n",
    "print(DD12)\n",
    "\n",
    "D = [DD10,DD11,DD12]"
   ]
  },
  {
   "cell_type": "code",
   "execution_count": 8,
   "metadata": {},
   "outputs": [
    {
     "name": "stdout",
     "output_type": "stream",
     "text": [
      "[[[0.92666667 0.3        0.27777778 0.13333333]\n",
      "  [0.89333333 0.27777778 0.26666667 0.12222222]\n",
      "  [0.89666667 0.28888889 0.3        0.06666667]]\n",
      "\n",
      " [[0.90666667 0.26666667 0.27777778 0.17777778]\n",
      "  [0.88       0.25555556 0.25555556 0.15555556]\n",
      "  [0.88333333 0.3        0.28888889 0.06666667]]\n",
      "\n",
      " [[0.88666667 0.31111111 0.27777778 0.1       ]\n",
      "  [0.89666667 0.28888889 0.28888889 0.08888889]\n",
      "  [0.97       0.28888889 0.32222222 0.03333333]]\n",
      "\n",
      " [[0.77       0.26666667 0.25555556 0.05555556]\n",
      "  [0.81333333 0.26666667 0.23333333 0.07777778]\n",
      "  [0.82       0.26666667 0.24444444 0.07777778]]\n",
      "\n",
      " [[0.85666667 0.27777778 0.3        0.11111111]\n",
      "  [0.85333333 0.26666667 0.26666667 0.14444444]\n",
      "  [0.90333333 0.3        0.27777778 0.05555556]]]\n"
     ]
    }
   ],
   "source": [
    "from dm import *\n",
    "from im import *\n",
    "\n",
    "def change(A):\n",
    "    Aok = []\n",
    "    for i in range(3):\n",
    "        temp = []\n",
    "        for j in range(4):\n",
    "            if j == 0:\n",
    "                temp.append(A[i][j]/10)\n",
    "            if j == 1:\n",
    "                temp.append(A[i][j]/30)\n",
    "            if j == 2:\n",
    "                temp.append(A[i][j+1]/30)\n",
    "            if j == 3:\n",
    "                temp.append(A[i][j-1]/30)\n",
    "        Aok.append(temp)\n",
    "    return(Aok)\n",
    "\n",
    "matrix = np.array([change(A),change(A1),change(B),change(C),change(D)])\n",
    "print(matrix)\n",
    "\n",
    "def rtc(A):\n",
    "    rtc = []\n",
    "    for i in range(3):\n",
    "        temp = []\n",
    "        for j in range(5):\n",
    "            temp.append(A[j][i])\n",
    "        rtc.append(temp)\n",
    "    return np.array(rtc)\n",
    "matric = rtc(matrix)"
   ]
  },
  {
   "cell_type": "code",
   "execution_count": 9,
   "metadata": {},
   "outputs": [
    {
     "name": "stdout",
     "output_type": "stream",
     "text": [
      "[[[0.92666667 0.3        0.27777778 0.13333333]\n",
      "  [0.90666667 0.26666667 0.27777778 0.17777778]\n",
      "  [0.88666667 0.31111111 0.27777778 0.1       ]\n",
      "  [0.77       0.26666667 0.25555556 0.05555556]\n",
      "  [0.85666667 0.27777778 0.3        0.11111111]]\n",
      "\n",
      " [[0.89333333 0.27777778 0.26666667 0.12222222]\n",
      "  [0.88       0.25555556 0.25555556 0.15555556]\n",
      "  [0.89666667 0.28888889 0.28888889 0.08888889]\n",
      "  [0.81333333 0.26666667 0.23333333 0.07777778]\n",
      "  [0.85333333 0.26666667 0.26666667 0.14444444]]\n",
      "\n",
      " [[0.89666667 0.28888889 0.3        0.06666667]\n",
      "  [0.88333333 0.3        0.28888889 0.06666667]\n",
      "  [0.97       0.28888889 0.32222222 0.03333333]\n",
      "  [0.82       0.26666667 0.24444444 0.07777778]\n",
      "  [0.90333333 0.3        0.27777778 0.05555556]]]\n"
     ]
    }
   ],
   "source": [
    "cost = []\n",
    "mat = rnf(matric,cost)\n",
    "print(np.array(mat))"
   ]
  },
  {
   "cell_type": "code",
   "execution_count": 10,
   "metadata": {},
   "outputs": [
    {
     "name": "stdout",
     "output_type": "stream",
     "text": [
      "[0.60484269 0.59701217 0.54835632]\n",
      "[0.40422222 0.39188889 0.37044444]\n",
      "[0.48974874 0.47700083 0.45451552]\n",
      "[0.32575768 0.31466564 0.29561078]\n",
      "[0.28993087 0.27926735 0.26108442]\n",
      "[0.19496025 0.18367701 0.16491949]\n",
      "[0.59309285 0.57734632 0.54938487]\n",
      "[0.49462047 0.48237724 0.46073537]\n",
      "[0.32860371 0.31791669 0.2995091 ]\n",
      "[0.26793423 0.25445739 0.24884621]\n",
      "[0.25333763 0.24375173 0.22747995]\n",
      "[0.08987934 0.07810258 0.0885134 ]\n",
      "[0.07516348 0.0675289  0.06799531]\n"
     ]
    }
   ],
   "source": [
    "for i in range(13):\n",
    "    print(np.array(ej(mat,i)))"
   ]
  },
  {
   "cell_type": "code",
   "execution_count": 11,
   "metadata": {},
   "outputs": [
    {
     "name": "stdout",
     "output_type": "stream",
     "text": [
      "[0.0033775  0.00153621 0.00218964]\n",
      "[0.04261111 0.03088889 0.03377778]\n",
      "[0.03112984 0.02247877 0.02463743]\n",
      "[0.05999054 0.04380362 0.047697  ]\n",
      "[0.06575261 0.04802231 0.05228315]\n",
      "[0.06685529 0.04849384 0.05300902]\n",
      "[0.00263178 0.0013313  0.00182721]\n",
      "[0.03348624 0.02426666 0.02654127]\n",
      "[0.0644471  0.04723912 0.05132252]\n",
      "[0.15033893 0.12185654 0.13107231]\n",
      "[0.10491663 0.07831902 0.08394718]\n",
      "[0.25089305 0.21206074 0.22604319]\n",
      "[0.1599613  0.10635883 0.13707617]\n"
     ]
    }
   ],
   "source": [
    "for i in range(13):\n",
    "    print(np.array(cj(mat,i)))"
   ]
  },
  {
   "cell_type": "code",
   "execution_count": 12,
   "metadata": {},
   "outputs": [
    {
     "name": "stdout",
     "output_type": "stream",
     "text": [
      "[0.65878978 0.64873976 0.66829798 0.64772337 0.65114217]\n",
      "[0.7014299  0.68939263 0.71111471 0.68827889 0.69217691]\n",
      "[0.67043164 0.65978255 0.67920191 0.65873592 0.66230365]\n",
      "[0.72761142 0.7145486  0.73791512 0.71339433 0.71752764]\n",
      "[0.74502017 0.73140413 0.75564221 0.73022802 0.73448419]\n",
      "[0.83537198 0.81959122 0.84708333 0.81837061 0.82298222]\n",
      "[0.66370644 0.65353536 0.67234917 0.65242949 0.65600792]\n",
      "[0.66370917 0.65337983 0.67223227 0.65236097 0.65583468]\n",
      "[0.72001878 0.70720078 0.73016239 0.70605985 0.71013879]\n",
      "[0.75440597 0.74078437 0.76628938 0.7722779  0.74961833]\n",
      "[0.80426349 0.78984043 0.8163847  0.81798774 0.79830025]\n",
      "[0.90779028 0.90088437 0.90793197 0.91654259 0.90153348]\n",
      "[0.93181692 0.92562669 0.93251818 0.9351166  0.92547865]\n"
     ]
    }
   ],
   "source": [
    "visual = []\n",
    "for i in range(13):\n",
    "    print(np.array(S(mat,i)))\n",
    "    visual.append(S(mat,i))"
   ]
  },
  {
   "cell_type": "code",
   "execution_count": 13,
   "metadata": {},
   "outputs": [
    {
     "name": "stdout",
     "output_type": "stream",
     "text": [
      "[0.84373417 0.8371155  0.84582567 0.83483064 0.83958264]\n",
      "[0.7014299  0.68939263 0.71111471 0.68827889 0.69217691]\n",
      "[0.76674548 0.75651748 0.77494848 0.75556568 0.75886739]\n",
      "[0.62308257 0.60976127 0.63387191 0.60852226 0.61288084]\n",
      "[0.59166577 0.57760963 0.60307126 0.57630141 0.58091243]\n",
      "[0.54801484 0.53118765 0.56159236 0.52965315 0.53510678]\n",
      "[0.89200847 0.883345   0.89881084 0.88254786 0.88525509]\n",
      "[0.76110836 0.75110804 0.76914974 0.75017267 0.75341617]\n",
      "[0.61435566 0.60140124 0.62487447 0.60018941 0.60444827]\n",
      "[0.29864452 0.29105884 0.30355841 0.2669267  0.28819374]\n",
      "[0.5000428  0.48383924 0.51239082 0.46124175 0.48376843]\n",
      "[0.22603293 0.2169793  0.23282769 0.17825592 0.20965768]\n",
      "[0.43226579 0.41423999 0.44476683 0.3452835  0.40123234]\n"
     ]
    }
   ],
   "source": [
    "for i in range(13):\n",
    "    print(np.array(Spos(mat,i)))"
   ]
  },
  {
   "cell_type": "code",
   "execution_count": 14,
   "metadata": {},
   "outputs": [
    {
     "name": "stdout",
     "output_type": "stream",
     "text": [
      "[0.43699938 0.45325632 0.41981584 0.45403846 0.44981725]\n",
      "[0.2985701  0.31060737 0.28888529 0.31172111 0.30782309]\n",
      "[0.37691396 0.3900989  0.36602074 0.3914276  0.38693241]\n",
      "[0.23325716 0.24359044 0.22513191 0.24447339 0.24127557]\n",
      "[0.20249497 0.21211743 0.19501975 0.21290606 0.20999967]\n",
      "[0.10799812 0.11692526 0.10137944 0.11755136 0.11509777]\n",
      "[0.45197197 0.46829571 0.43801067 0.47016208 0.46420285]\n",
      "[0.38564145 0.39846531 0.37502286 0.39976227 0.3953736 ]\n",
      "[0.23889384 0.24899551 0.23092758 0.24986517 0.24672093]\n",
      "[0.0972226  0.10184745 0.09258229 0.07870886 0.09626022]\n",
      "[0.12169723 0.12873923 0.11524322 0.10263192 0.12222967]\n",
      "[0.02295952 0.02387214 0.02360968 0.01623141 0.02289905]\n",
      "[0.03162983 0.03328382 0.03218562 0.02395762 0.03230801]\n"
     ]
    }
   ],
   "source": [
    "for i in range(13):\n",
    "    print(np.array(Sneg(mat,i)))"
   ]
  },
  {
   "cell_type": "code",
   "execution_count": 15,
   "metadata": {},
   "outputs": [
    {
     "name": "stdout",
     "output_type": "stream",
     "text": [
      "[0.65878978 0.64873976 0.66829798 0.64772337 0.65114217]\n",
      "[0.7014299  0.68939263 0.71111471 0.68827889 0.69217691]\n",
      "[0.67043164 0.65978255 0.67920191 0.65873592 0.66230365]\n",
      "[0.72761142 0.7145486  0.73791512 0.71339433 0.71752764]\n",
      "[0.74502017 0.73140413 0.75564221 0.73022802 0.73448419]\n",
      "[0.83537198 0.81959122 0.84708333 0.81837061 0.82298222]\n",
      "[0.66370644 0.65353536 0.67234917 0.65242949 0.65600792]\n",
      "[0.66370917 0.65337983 0.67223227 0.65236097 0.65583468]\n",
      "[0.72001878 0.70720078 0.73016239 0.70605985 0.71013879]\n",
      "[0.75440597 0.74078437 0.76628938 0.7722779  0.74961833]\n",
      "[0.80426349 0.78984043 0.8163847  0.81798774 0.79830025]\n",
      "[0.90779028 0.90088437 0.90793197 0.91654259 0.90153348]\n",
      "[0.93181692 0.92562669 0.93251818 0.9351166  0.92547865]\n"
     ]
    }
   ],
   "source": [
    "for i in range(13):\n",
    "    print(np.array(S(mat,i)))"
   ]
  },
  {
   "cell_type": "code",
   "execution_count": 16,
   "metadata": {},
   "outputs": [
    {
     "name": "stdout",
     "output_type": "stream",
     "text": [
      "Similarity no. 1 : [4 2 5 1 3]\n",
      "Similarity no. 2 : [4 2 5 1 3]\n",
      "Similarity no. 3 : [4 2 5 1 3]\n",
      "Similarity no. 4 : [4 2 5 1 3]\n",
      "Similarity no. 5 : [4 2 5 1 3]\n",
      "Similarity no. 6 : [4 2 5 1 3]\n",
      "Similarity no. 7 : [4 2 5 1 3]\n",
      "Similarity no. 8 : [4 2 5 1 3]\n",
      "Similarity no. 9 : [4 2 5 1 3]\n",
      "Similarity no. 10 : [2 5 1 3 4]\n",
      "Similarity no. 11 : [2 5 1 3 4]\n",
      "Similarity no. 12 : [2 5 1 3 4]\n",
      "Similarity no. 13 : [5 2 1 3 4]\n"
     ]
    }
   ],
   "source": [
    "for i in range(13):\n",
    "    print(\"Similarity no.\",i+1,\":\",np.array(rank(mat,i)))"
   ]
  },
  {
   "cell_type": "code",
   "execution_count": 17,
   "metadata": {},
   "outputs": [
    {
     "name": "stdout",
     "output_type": "stream",
     "text": [
      "Similarity no. 1 : 3\n",
      "Similarity no. 2 : 3\n",
      "Similarity no. 3 : 3\n",
      "Similarity no. 4 : 3\n",
      "Similarity no. 5 : 3\n",
      "Similarity no. 6 : 3\n",
      "Similarity no. 7 : 3\n",
      "Similarity no. 8 : 3\n",
      "Similarity no. 9 : 3\n",
      "Similarity no. 10 : 4\n",
      "Similarity no. 11 : 4\n",
      "Similarity no. 12 : 4\n",
      "Similarity no. 13 : 4\n"
     ]
    }
   ],
   "source": [
    " for i in range(13):\n",
    "    print(\"Similarity no.\",i+1,\":\",alt(mat,i))"
   ]
  },
  {
   "cell_type": "code",
   "execution_count": 18,
   "metadata": {},
   "outputs": [
    {
     "name": "stderr",
     "output_type": "stream",
     "text": [
      "The PostScript backend does not support transparency; partially transparent artists will be rendered opaque.\n",
      "The PostScript backend does not support transparency; partially transparent artists will be rendered opaque.\n"
     ]
    },
    {
     "data": {
      "image/png": "[encoded data removed]",
      "text/plain": [
       "<Figure size 720x324 with 1 Axes>"
      ]
     },
     "metadata": {
      "needs_background": "light"
     },
     "output_type": "display_data"
    }
   ],
   "source": [
    "import matplotlib.pyplot as plt\n",
    "xaxis = [1,2,3,4,5,6,7,8,9,10,11,12,13]\n",
    "plt.plot(xaxis,[visual[i][0] for i in range(13)],\n",
    "         'go-', color='blue', label='A', marker='o')\n",
    "plt.plot(xaxis,[visual[i][1] for i in range(13)],\n",
    "         'go-', color='green', label='A1', marker='o')\n",
    "plt.plot(xaxis,[visual[i][2] for i in range(13)],\n",
    "         'go-', color='red', label='B', marker='o')\n",
    "plt.plot(xaxis,[visual[i][3] for i in range(13)],\n",
    "         'go-', color='cyan', label='C', marker='o')\n",
    "plt.plot(xaxis,[visual[i][4] for i in range(13)],\n",
    "         'go-', color='magenta', label='D', marker='o')\n",
    "plt.xticks(xaxis,[\"IM1\",\"IM2\",\"IM3\",\"IM4\",\"IM5\",\"IM6\",\"IM7\",\"IM8\",\"IM9\",\"IM10\",\"IM11\",\"IM12\",\"IM13\"])\n",
    "plt.xlabel(\"Information Measures\")\n",
    "plt.ylabel(\"Combination Scores\")\n",
    "plt.title(\"The visualization of combination scores Si and rank of combinations \\n using information measures IMi\")\n",
    "figure = plt.gcf()\n",
    "figure.set_size_inches(10,4.5)\n",
    "plt.legend(loc='upper center', ncol=5)\n",
    "plt.savefig('decision making.eps', format='eps')\n",
    "plt.show()"
   ]
  },
  {
   "cell_type": "code",
   "execution_count": null,
   "metadata": {},
   "outputs": [],
   "source": [
    "# 8.6\t7\t10\tLý\t7.25\tHoá\t9.75\tSinh\t9.25\n",
    "# Khối A: 25.6đ Khối A1: 25.85đ Khối B: 27.6đ Khối D: 25.6đ"
   ]
  }
 ],
 "metadata": {
  "kernelspec": {
   "display_name": "Python 3",
   "language": "python",
   "name": "python3"
  },
  "language_info": {
   "codemirror_mode": {
    "name": "ipython",
    "version": 3
   },
   "file_extension": ".py",
   "mimetype": "text/x-python",
   "name": "python",
   "nbconvert_exporter": "python",
   "pygments_lexer": "ipython3",
   "version": "3.8.8"
  }
 },
 "nbformat": 4,
 "nbformat_minor": 4
}

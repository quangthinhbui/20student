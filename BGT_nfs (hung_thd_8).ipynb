{
 "cells": [
  {
   "cell_type": "code",
   "execution_count": 1,
   "metadata": {},
   "outputs": [
    {
     "data": {
      "text/html": [
       "<div>\n",
       "<style scoped>\n",
       "    .dataframe tbody tr th:only-of-type {\n",
       "        vertical-align: middle;\n",
       "    }\n",
       "\n",
       "    .dataframe tbody tr th {\n",
       "        vertical-align: top;\n",
       "    }\n",
       "\n",
       "    .dataframe thead th {\n",
       "        text-align: right;\n",
       "    }\n",
       "</style>\n",
       "<table border=\"1\" class=\"dataframe\">\n",
       "  <thead>\n",
       "    <tr style=\"text-align: right;\">\n",
       "      <th></th>\n",
       "      <th>T10</th>\n",
       "      <th>T10_T</th>\n",
       "      <th>T10_F</th>\n",
       "      <th>T10_I</th>\n",
       "      <th>L10</th>\n",
       "      <th>L10_T</th>\n",
       "      <th>L10_F</th>\n",
       "      <th>L10_I</th>\n",
       "      <th>H10</th>\n",
       "      <th>H10_T</th>\n",
       "      <th>...</th>\n",
       "      <th>SU12_F</th>\n",
       "      <th>SU12_I</th>\n",
       "      <th>D12</th>\n",
       "      <th>D12_T</th>\n",
       "      <th>D12_F</th>\n",
       "      <th>D12_I</th>\n",
       "      <th>AV12</th>\n",
       "      <th>AV12_T</th>\n",
       "      <th>AV12_F</th>\n",
       "      <th>AV12_I</th>\n",
       "    </tr>\n",
       "  </thead>\n",
       "  <tbody>\n",
       "    <tr>\n",
       "      <th>0</th>\n",
       "      <td>9.3</td>\n",
       "      <td>10</td>\n",
       "      <td>0</td>\n",
       "      <td>0</td>\n",
       "      <td>7.7</td>\n",
       "      <td>8</td>\n",
       "      <td>2</td>\n",
       "      <td>2</td>\n",
       "      <td>8.6</td>\n",
       "      <td>8</td>\n",
       "      <td>...</td>\n",
       "      <td>0</td>\n",
       "      <td>0</td>\n",
       "      <td>8.9</td>\n",
       "      <td>10</td>\n",
       "      <td>0</td>\n",
       "      <td>0</td>\n",
       "      <td>7.8</td>\n",
       "      <td>10</td>\n",
       "      <td>0</td>\n",
       "      <td>0</td>\n",
       "    </tr>\n",
       "    <tr>\n",
       "      <th>1</th>\n",
       "      <td>9.1</td>\n",
       "      <td>9</td>\n",
       "      <td>1</td>\n",
       "      <td>1</td>\n",
       "      <td>7.1</td>\n",
       "      <td>9</td>\n",
       "      <td>2</td>\n",
       "      <td>5</td>\n",
       "      <td>8.0</td>\n",
       "      <td>7</td>\n",
       "      <td>...</td>\n",
       "      <td>5</td>\n",
       "      <td>4</td>\n",
       "      <td>8.8</td>\n",
       "      <td>7</td>\n",
       "      <td>1</td>\n",
       "      <td>1</td>\n",
       "      <td>7.6</td>\n",
       "      <td>7</td>\n",
       "      <td>6</td>\n",
       "      <td>4</td>\n",
       "    </tr>\n",
       "    <tr>\n",
       "      <th>2</th>\n",
       "      <td>9.4</td>\n",
       "      <td>8</td>\n",
       "      <td>2</td>\n",
       "      <td>2</td>\n",
       "      <td>7.6</td>\n",
       "      <td>10</td>\n",
       "      <td>0</td>\n",
       "      <td>0</td>\n",
       "      <td>9.0</td>\n",
       "      <td>10</td>\n",
       "      <td>...</td>\n",
       "      <td>0</td>\n",
       "      <td>0</td>\n",
       "      <td>9.0</td>\n",
       "      <td>10</td>\n",
       "      <td>0</td>\n",
       "      <td>0</td>\n",
       "      <td>9.0</td>\n",
       "      <td>10</td>\n",
       "      <td>0</td>\n",
       "      <td>0</td>\n",
       "    </tr>\n",
       "    <tr>\n",
       "      <th>3</th>\n",
       "      <td>9.3</td>\n",
       "      <td>9</td>\n",
       "      <td>0</td>\n",
       "      <td>9</td>\n",
       "      <td>7.1</td>\n",
       "      <td>9</td>\n",
       "      <td>8</td>\n",
       "      <td>8</td>\n",
       "      <td>8.7</td>\n",
       "      <td>9</td>\n",
       "      <td>...</td>\n",
       "      <td>8</td>\n",
       "      <td>6</td>\n",
       "      <td>8.2</td>\n",
       "      <td>9</td>\n",
       "      <td>7</td>\n",
       "      <td>6</td>\n",
       "      <td>8.3</td>\n",
       "      <td>8</td>\n",
       "      <td>8</td>\n",
       "      <td>9</td>\n",
       "    </tr>\n",
       "    <tr>\n",
       "      <th>4</th>\n",
       "      <td>9.3</td>\n",
       "      <td>8</td>\n",
       "      <td>2</td>\n",
       "      <td>3</td>\n",
       "      <td>9.6</td>\n",
       "      <td>6</td>\n",
       "      <td>4</td>\n",
       "      <td>6</td>\n",
       "      <td>8.6</td>\n",
       "      <td>7</td>\n",
       "      <td>...</td>\n",
       "      <td>7</td>\n",
       "      <td>4</td>\n",
       "      <td>9.6</td>\n",
       "      <td>6</td>\n",
       "      <td>4</td>\n",
       "      <td>5</td>\n",
       "      <td>9.4</td>\n",
       "      <td>6</td>\n",
       "      <td>4</td>\n",
       "      <td>5</td>\n",
       "    </tr>\n",
       "  </tbody>\n",
       "</table>\n",
       "<p>5 rows × 96 columns</p>\n",
       "</div>"
      ],
      "text/plain": [
       "   T10  T10_T  T10_F  T10_I  L10  L10_T  L10_F  L10_I  H10  H10_T  ...  \\\n",
       "0  9.3     10      0      0  7.7      8      2      2  8.6      8  ...   \n",
       "1  9.1      9      1      1  7.1      9      2      5  8.0      7  ...   \n",
       "2  9.4      8      2      2  7.6     10      0      0  9.0     10  ...   \n",
       "3  9.3      9      0      9  7.1      9      8      8  8.7      9  ...   \n",
       "4  9.3      8      2      3  9.6      6      4      6  8.6      7  ...   \n",
       "\n",
       "   SU12_F  SU12_I  D12  D12_T  D12_F  D12_I  AV12  AV12_T  AV12_F  AV12_I  \n",
       "0       0       0  8.9     10      0      0   7.8      10       0       0  \n",
       "1       5       4  8.8      7      1      1   7.6       7       6       4  \n",
       "2       0       0  9.0     10      0      0   9.0      10       0       0  \n",
       "3       8       6  8.2      9      7      6   8.3       8       8       9  \n",
       "4       7       4  9.6      6      4      5   9.4       6       4       5  \n",
       "\n",
       "[5 rows x 96 columns]"
      ]
     },
     "execution_count": 1,
     "metadata": {},
     "output_type": "execute_result"
    }
   ],
   "source": [
    "import pandas as pd\n",
    "import numpy as np\n",
    "\n",
    "data = pd.read_csv(\"BGT.csv\") \n",
    "data.head(5)\n",
    "#print(data)"
   ]
  },
  {
   "cell_type": "code",
   "execution_count": 2,
   "metadata": {},
   "outputs": [
    {
     "name": "stdout",
     "output_type": "stream",
     "text": [
      "[ 7.8  8.   1.   8.   9.   9.   0.   9.   8.6  9.   8.   8.   8.3  9.\n",
      "  1.   8.   8.4  6.   9.   7.   6.7  7.   1.   6.   8.6 10.   0.   8.\n",
      "  7.6 10.   1.   7.   7.4  7.   8.   8.   8.3  7.   8.   7.   8.4  1.\n",
      "  9.   9.   8.9  8.   0.   8.   7.3 10.   1.   7.   7.6  9.   0.   7.\n",
      "  8.1 10.   0.   8.   8.5  8.   4.   7.   8.2 10.   1.   8.   7.9  9.\n",
      "  0.   7.   8.4  9.   0.   8.   7.3 10.   1.   7.   7.  10.   1.   7.\n",
      "  8.5  6.   3.   7.   9.  10.   0.   9.   6.5 10.   0.   6. ]\n"
     ]
    }
   ],
   "source": [
    "duc = np.array(data[27:28])[0]\n",
    "print(duc)"
   ]
  },
  {
   "cell_type": "code",
   "execution_count": 3,
   "metadata": {},
   "outputs": [
    {
     "name": "stdout",
     "output_type": "stream",
     "text": [
      "[7.8 8.  1.  8. ]\n",
      "[9. 9. 0. 9.]\n",
      "[8.6 9.  8.  8. ]\n",
      "[8.46666667 8.66666667 3.         8.33333333]\n",
      "[7.4 7.  8.  8. ]\n",
      "[8.3 7.  8.  7. ]\n",
      "[8.4 1.  9.  9. ]\n",
      "[8.03333333 5.         8.33333333 8.        ]\n",
      "[ 8.2 10.   1.   8. ]\n",
      "[7.9 9.  0.  7. ]\n",
      "[8.4 9.  0.  8. ]\n",
      "[8.16666667 9.33333333 0.33333333 7.66666667]\n"
     ]
    }
   ],
   "source": [
    "T10 = duc[0:4]\n",
    "print(T10)\n",
    "L10 = duc[4:8]\n",
    "print(L10)\n",
    "H10 = duc[8:12]\n",
    "print(H10)\n",
    "A10 = np.mean(np.array([T10,L10,H10]),axis=0)\n",
    "print(A10)\n",
    "\n",
    "T11 = duc[32:36]\n",
    "print(T11)\n",
    "L11 = duc[36:40]\n",
    "print(L11)\n",
    "H11 = duc[40:44]\n",
    "print(H11)\n",
    "A11 = np.mean(np.array([T11,L11,H11]),axis=0)\n",
    "print(A11)\n",
    "\n",
    "T12 = duc[64:68]\n",
    "print(T12)\n",
    "L12 = duc[68:72]\n",
    "print(L12)\n",
    "H12 = duc[72:76]\n",
    "print(H12)\n",
    "A12 = np.mean(np.array([T12,L12,H12]),axis=0)\n",
    "print(A12)\n",
    "\n",
    "A = [A10,A11,A12]"
   ]
  },
  {
   "cell_type": "code",
   "execution_count": 4,
   "metadata": {},
   "outputs": [
    {
     "name": "stdout",
     "output_type": "stream",
     "text": [
      "[7.8 8.  1.  8. ]\n",
      "[9. 9. 0. 9.]\n",
      "[ 7.6 10.   1.   7. ]\n",
      "[8.13333333 9.         0.66666667 8.        ]\n",
      "[7.4 7.  8.  8. ]\n",
      "[8.3 7.  8.  7. ]\n",
      "[8.5 8.  4.  7. ]\n",
      "[8.06666667 7.33333333 6.66666667 7.33333333]\n",
      "[ 8.2 10.   1.   8. ]\n",
      "[7.9 9.  0.  7. ]\n",
      "[ 6.5 10.   0.   6. ]\n",
      "[7.53333333 9.66666667 0.33333333 7.        ]\n"
     ]
    }
   ],
   "source": [
    "T10 = duc[0:4]\n",
    "print(T10)\n",
    "L10 = duc[4:8]\n",
    "print(L10)\n",
    "A10 = duc[28:32]\n",
    "print(A10)\n",
    "A110 = np.mean(np.array([T10,L10,A10]),axis=0)\n",
    "print(A110)\n",
    "\n",
    "T11 = duc[32:36]\n",
    "print(T11)\n",
    "L11 = duc[36:40]\n",
    "print(L11)\n",
    "A11 = duc[60:64]\n",
    "print(A11)\n",
    "A111 = np.mean(np.array([T11,L11,A11]),axis=0)\n",
    "print(A111)\n",
    "\n",
    "T12 = duc[64:68]\n",
    "print(T12)\n",
    "L12 = duc[68:72]\n",
    "print(L12)\n",
    "A12 = duc[92:96]\n",
    "print(A12)\n",
    "A112 = np.mean(np.array([T12,L12,A12]),axis=0)\n",
    "print(A112)\n",
    "\n",
    "A1 = [A110,A111,A112]"
   ]
  },
  {
   "cell_type": "code",
   "execution_count": 5,
   "metadata": {},
   "outputs": [
    {
     "name": "stdout",
     "output_type": "stream",
     "text": [
      "[7.8 8.  1.  8. ]\n",
      "[8.6 9.  8.  8. ]\n",
      "[8.3 9.  1.  8. ]\n",
      "[ 7.6 10.   1.   7. ]\n",
      "[7.4 7.  8.  8. ]\n",
      "[8.4 1.  9.  9. ]\n",
      "[8.9 8.  0.  8. ]\n",
      "[8.23333333 5.33333333 5.66666667 8.33333333]\n",
      "[ 8.2 10.   1.   8. ]\n",
      "[8.4 9.  0.  8. ]\n",
      "[ 7.3 10.   1.   7. ]\n",
      "[7.96666667 9.66666667 0.66666667 7.66666667]\n"
     ]
    }
   ],
   "source": [
    "T10 = duc[0:4]\n",
    "print(T10)\n",
    "H10 = duc[8:12]\n",
    "print(H10)\n",
    "SI10 = duc[12:16]\n",
    "print(SI10)\n",
    "B10 = np.mean(np.array([T10,H10,SI10]),axis=0)\n",
    "print(A10)\n",
    "\n",
    "T11 = duc[32:36]\n",
    "print(T11)\n",
    "H11 = duc[40:44]\n",
    "print(H11)\n",
    "SI11 = duc[44:48]\n",
    "print(SI11)\n",
    "B11 = np.mean(np.array([T11,H11,SI11]),axis=0)\n",
    "print(B11)\n",
    "\n",
    "T12 = duc[64:68]\n",
    "print(T12)\n",
    "H12 = duc[72:76]\n",
    "print(H12)\n",
    "SI12 = duc[76:80]\n",
    "print(SI12)\n",
    "B12 = np.mean(np.array([T12,H12,SI12]),axis=0)\n",
    "print(B12)\n",
    "\n",
    "B = [B10,B11,B12]"
   ]
  },
  {
   "cell_type": "code",
   "execution_count": 6,
   "metadata": {},
   "outputs": [
    {
     "name": "stdout",
     "output_type": "stream",
     "text": [
      "[8.4 6.  9.  7. ]\n",
      "[6.7 7.  1.  6. ]\n",
      "[ 8.6 10.   0.   8. ]\n",
      "[ 7.6 10.   1.   7. ]\n",
      "[ 7.3 10.   1.   7. ]\n",
      "[7.6 9.  0.  7. ]\n",
      "[ 8.1 10.   0.   8. ]\n",
      "[8.23333333 5.33333333 5.66666667 8.33333333]\n",
      "[ 7. 10.  1.  7.]\n",
      "[8.5 6.  3.  7. ]\n",
      "[ 9. 10.  0.  9.]\n",
      "[7.96666667 9.66666667 0.66666667 7.66666667]\n"
     ]
    }
   ],
   "source": [
    "V10 = duc[16:20]\n",
    "print(V10)\n",
    "SU10 = duc[20:24]\n",
    "print(SU10)\n",
    "D10 = duc[24:28]\n",
    "print(D10)\n",
    "C10 = np.mean(np.array([V10,SU10,D10]),axis=0)\n",
    "print(A10)\n",
    "\n",
    "V11 = duc[48:52]\n",
    "print(V11)\n",
    "SU11 = duc[52:56]\n",
    "print(SU11)\n",
    "D11 = duc[56:60]\n",
    "print(D11)\n",
    "C11 = np.mean(np.array([V11,SU11,D11]),axis=0)\n",
    "print(B11)\n",
    "\n",
    "V12 = duc[80:84]\n",
    "print(V12)\n",
    "SU12 = duc[84:88]\n",
    "print(SU12)\n",
    "D12 = duc[88:92]\n",
    "print(D12)\n",
    "C12 = np.mean(np.array([V12,SU12,D12]),axis=0)\n",
    "print(B12)\n",
    "\n",
    "C = [C10,C11,C12]"
   ]
  },
  {
   "cell_type": "code",
   "execution_count": 7,
   "metadata": {},
   "outputs": [
    {
     "name": "stdout",
     "output_type": "stream",
     "text": [
      "[7.8 8.  1.  8. ]\n",
      "[8.4 6.  9.  7. ]\n",
      "[ 7.6 10.   1.   7. ]\n",
      "[7.93333333 8.         3.66666667 7.33333333]\n",
      "[7.4 7.  8.  8. ]\n",
      "[ 7.3 10.   1.   7. ]\n",
      "[8.5 8.  4.  7. ]\n",
      "[7.73333333 8.33333333 4.33333333 7.33333333]\n",
      "[ 8.2 10.   1.   8. ]\n",
      "[ 7. 10.  1.  7.]\n",
      "[ 6.5 10.   0.   6. ]\n",
      "[ 7.23333333 10.          0.66666667  7.        ]\n"
     ]
    }
   ],
   "source": [
    "T10 = duc[0:4]\n",
    "print(T10)\n",
    "V10 = duc[16:20]\n",
    "print(V10)\n",
    "A10 = duc[28:32]\n",
    "print(A10)\n",
    "DD10 = np.mean(np.array([T10,V10,A10]),axis=0)\n",
    "print(DD10)\n",
    "\n",
    "T11 = duc[32:36]\n",
    "print(T11)\n",
    "V11 = duc[48:52]\n",
    "print(V11)\n",
    "A11 = duc[60:64]\n",
    "print(A11)\n",
    "DD11 = np.mean(np.array([T11,V11,A11]),axis=0)\n",
    "print(DD11)\n",
    "\n",
    "T12 = duc[64:68]\n",
    "print(T12)\n",
    "V12 = duc[80:84]\n",
    "print(V12)\n",
    "A12 = duc[92:96]\n",
    "print(A12)\n",
    "DD12 = np.mean(np.array([T12,V12,A12]),axis=0)\n",
    "print(DD12)\n",
    "\n",
    "D = [DD10,DD11,DD12]"
   ]
  },
  {
   "cell_type": "code",
   "execution_count": 8,
   "metadata": {},
   "outputs": [
    {
     "name": "stdout",
     "output_type": "stream",
     "text": [
      "[[[0.84666667 0.28888889 0.27777778 0.1       ]\n",
      "  [0.80333333 0.16666667 0.26666667 0.27777778]\n",
      "  [0.81666667 0.31111111 0.25555556 0.01111111]]\n",
      "\n",
      " [[0.81333333 0.3        0.26666667 0.02222222]\n",
      "  [0.80666667 0.24444444 0.24444444 0.22222222]\n",
      "  [0.75333333 0.32222222 0.23333333 0.01111111]]\n",
      "\n",
      " [[0.82333333 0.28888889 0.26666667 0.11111111]\n",
      "  [0.82333333 0.17777778 0.27777778 0.18888889]\n",
      "  [0.79666667 0.32222222 0.25555556 0.02222222]]\n",
      "\n",
      " [[0.79       0.25555556 0.23333333 0.11111111]\n",
      "  [0.76666667 0.32222222 0.24444444 0.01111111]\n",
      "  [0.81666667 0.28888889 0.25555556 0.04444444]]\n",
      "\n",
      " [[0.79333333 0.26666667 0.24444444 0.12222222]\n",
      "  [0.77333333 0.27777778 0.24444444 0.14444444]\n",
      "  [0.72333333 0.33333333 0.23333333 0.02222222]]]\n"
     ]
    }
   ],
   "source": [
    "from dm import *\n",
    "from im import *\n",
    "\n",
    "def change(A):\n",
    "    Aok = []\n",
    "    for i in range(3):\n",
    "        temp = []\n",
    "        for j in range(4):\n",
    "            if j == 0:\n",
    "                temp.append(A[i][j]/10)\n",
    "            if j == 1:\n",
    "                temp.append(A[i][j]/30)\n",
    "            if j == 2:\n",
    "                temp.append(A[i][j+1]/30)\n",
    "            if j == 3:\n",
    "                temp.append(A[i][j-1]/30)\n",
    "        Aok.append(temp)\n",
    "    return(Aok)\n",
    "\n",
    "matrix = np.array([change(A),change(A1),change(B),change(C),change(D)])\n",
    "print(matrix)\n",
    "\n",
    "def rtc(A):\n",
    "    rtc = []\n",
    "    for i in range(3):\n",
    "        temp = []\n",
    "        for j in range(5):\n",
    "            temp.append(A[j][i])\n",
    "        rtc.append(temp)\n",
    "    return np.array(rtc)\n",
    "matric = rtc(matrix)"
   ]
  },
  {
   "cell_type": "code",
   "execution_count": 9,
   "metadata": {},
   "outputs": [
    {
     "name": "stdout",
     "output_type": "stream",
     "text": [
      "[[[0.84666667 0.28888889 0.27777778 0.1       ]\n",
      "  [0.81333333 0.3        0.26666667 0.02222222]\n",
      "  [0.82333333 0.28888889 0.26666667 0.11111111]\n",
      "  [0.79       0.25555556 0.23333333 0.11111111]\n",
      "  [0.79333333 0.26666667 0.24444444 0.12222222]]\n",
      "\n",
      " [[0.80333333 0.16666667 0.26666667 0.27777778]\n",
      "  [0.80666667 0.24444444 0.24444444 0.22222222]\n",
      "  [0.82333333 0.17777778 0.27777778 0.18888889]\n",
      "  [0.76666667 0.32222222 0.24444444 0.01111111]\n",
      "  [0.77333333 0.27777778 0.24444444 0.14444444]]\n",
      "\n",
      " [[0.81666667 0.31111111 0.25555556 0.01111111]\n",
      "  [0.75333333 0.32222222 0.23333333 0.01111111]\n",
      "  [0.79666667 0.32222222 0.25555556 0.02222222]\n",
      "  [0.81666667 0.28888889 0.25555556 0.04444444]\n",
      "  [0.72333333 0.33333333 0.23333333 0.02222222]]]\n"
     ]
    }
   ],
   "source": [
    "cost = []\n",
    "mat = rnf(matric,cost)\n",
    "print(np.array(mat))"
   ]
  },
  {
   "cell_type": "code",
   "execution_count": 10,
   "metadata": {},
   "outputs": [
    {
     "name": "stdout",
     "output_type": "stream",
     "text": [
      "[0.61686606 0.65253589 0.58465659]\n",
      "[0.40888889 0.43377778 0.40155556]\n",
      "[0.49450321 0.51966315 0.4869061 ]\n",
      "[0.33000794 0.35284275 0.32342671]\n",
      "[0.29404773 0.31625874 0.28772876]\n",
      "[0.19941702 0.22372557 0.19275512]\n",
      "[0.59891356 0.62951554 0.58951395]\n",
      "[0.49917901 0.52328952 0.49188123]\n",
      "[0.33268957 0.35462117 0.32634665]\n",
      "[0.2681174  0.28491966 0.27378994]\n",
      "[0.25705723 0.27719072 0.25138218]\n",
      "[0.0853528  0.09069582 0.10163506]\n",
      "[0.07464721 0.08304958 0.08104949]\n"
     ]
    }
   ],
   "source": [
    "for i in range(13):\n",
    "    print(np.array(ej(mat,i)))"
   ]
  },
  {
   "cell_type": "code",
   "execution_count": 11,
   "metadata": {},
   "outputs": [
    {
     "name": "stdout",
     "output_type": "stream",
     "text": [
      "[0.00149886 0.00805406 0.0012303 ]\n",
      "[0.02883333 0.06288889 0.02472222]\n",
      "[0.02097678 0.04625851 0.01796837]\n",
      "[0.04091163 0.08745303 0.0351445 ]\n",
      "[0.04485229 0.0957958  0.03853104]\n",
      "[0.045268   0.09850959 0.03881716]\n",
      "[0.00120183 0.00592095 0.00091308]\n",
      "[0.02265147 0.04946209 0.01942089]\n",
      "[0.04413397 0.09335854 0.03795193]\n",
      "[0.1421183 0.234101  0.1563654]\n",
      "[0.07655861 0.15745523 0.06953104]\n",
      "[0.21406403 0.33788292 0.24332919]\n",
      "[0.08882291 0.15169934 0.11746872]\n"
     ]
    }
   ],
   "source": [
    "for i in range(13):\n",
    "    print(np.array(cj(mat,i)))"
   ]
  },
  {
   "cell_type": "code",
   "execution_count": 12,
   "metadata": {},
   "outputs": [
    {
     "name": "stdout",
     "output_type": "stream",
     "text": [
      "[0.63490411 0.64658006 0.63848286 0.65260277 0.63937159]\n",
      "[0.6701344  0.68650443 0.67568589 0.69507628 0.67968824]\n",
      "[0.64337867 0.65746932 0.64797912 0.66473541 0.65124486]\n",
      "[0.69298537 0.71113729 0.69930809 0.72083763 0.70394115]\n",
      "[0.70851026 0.72771935 0.71530593 0.73799284 0.72029688]\n",
      "[0.79049362 0.81470174 0.79975329 0.8271632  0.80645623]\n",
      "[0.63858467 0.65186005 0.64272939 0.65792156 0.6454227 ]\n",
      "[0.63754071 0.65113342 0.64195257 0.65821246 0.64510153]\n",
      "[0.68618146 0.7038598  0.69229464 0.71340564 0.69679982]\n",
      "[0.72880191 0.76216757 0.7407688  0.78336118 0.75737723]\n",
      "[0.77466987 0.80873543 0.78699354 0.8287786  0.80317077]\n",
      "[0.87957213 0.89955678 0.89298746 0.91671971 0.90494545]\n",
      "[0.90560721 0.92170934 0.91661737 0.93524519 0.92496097]\n"
     ]
    }
   ],
   "source": [
    "visual = []\n",
    "for i in range(13):\n",
    "    print(np.array(S(mat,i)))\n",
    "    visual.append(S(mat,i))"
   ]
  },
  {
   "cell_type": "code",
   "execution_count": 13,
   "metadata": {},
   "outputs": [
    {
     "name": "stdout",
     "output_type": "stream",
     "text": [
      "[0.82465901 0.83876818 0.82975222 0.84139775 0.83861696]\n",
      "[0.6701344  0.68650443 0.67568589 0.69507628 0.67968824]\n",
      "[0.73971232 0.75401444 0.74470103 0.761251   0.74821633]\n",
      "[0.58910936 0.60663036 0.59484059 0.61620014 0.59908879]\n",
      "[0.55607922 0.57434581 0.5619702  0.58444872 0.56637745]\n",
      "[0.50542962 0.52731353 0.51249156 0.53935181 0.51777707]\n",
      "[0.86801886 0.88121096 0.87297208 0.88701847 0.87620691]\n",
      "[0.73478157 0.74866576 0.73959047 0.75576408 0.74299805]\n",
      "[0.58141398 0.59835338 0.58692112 0.60769653 0.5910256 ]\n",
      "[0.2687354  0.26979581 0.26885474 0.27008199 0.26394862]\n",
      "[0.45037876 0.46299381 0.45374003 0.470109   0.45181881]\n",
      "[0.18583517 0.17773405 0.1838851  0.17749588 0.16751219]\n",
      "[0.35487902 0.34192245 0.35263578 0.34409036 0.32352225]\n"
     ]
    }
   ],
   "source": [
    "for i in range(13):\n",
    "    print(np.array(Spos(mat,i)))"
   ]
  },
  {
   "cell_type": "code",
   "execution_count": 14,
   "metadata": {},
   "outputs": [
    {
     "name": "stdout",
     "output_type": "stream",
     "text": [
      "[0.47421273 0.45846976 0.46981629 0.44789765 0.4730099 ]\n",
      "[0.3298656  0.31349557 0.32431411 0.30492372 0.32031176]\n",
      "[0.41001855 0.39282909 0.40456599 0.38394299 0.40068538]\n",
      "[0.26099425 0.24641218 0.25577246 0.23863889 0.25196075]\n",
      "[0.22877776 0.21489499 0.22366595 0.2074949  0.21993368]\n",
      "[0.1339552  0.1199338  0.12832051 0.11269824 0.12426282]\n",
      "[0.4912666  0.47062977 0.48525441 0.46119464 0.48136373]\n",
      "[0.41774337 0.40112281 0.41250473 0.3924428  0.4087556 ]\n",
      "[0.26590413 0.25174969 0.26086982 0.24412815 0.25717439]\n",
      "[0.10000046 0.08418909 0.09408541 0.07469127 0.08455489]\n",
      "[0.13100278 0.10949726 0.12280858 0.0971221  0.11072508]\n",
      "[0.02544389 0.01984553 0.02203616 0.01612479 0.01759531]\n",
      "[0.03698957 0.02904314 0.03207849 0.02382424 0.02624629]\n"
     ]
    }
   ],
   "source": [
    "for i in range(13):\n",
    "    print(np.array(Sneg(mat,i)))"
   ]
  },
  {
   "cell_type": "code",
   "execution_count": 15,
   "metadata": {},
   "outputs": [
    {
     "name": "stdout",
     "output_type": "stream",
     "text": [
      "[0.63490411 0.64658006 0.63848286 0.65260277 0.63937159]\n",
      "[0.6701344  0.68650443 0.67568589 0.69507628 0.67968824]\n",
      "[0.64337867 0.65746932 0.64797912 0.66473541 0.65124486]\n",
      "[0.69298537 0.71113729 0.69930809 0.72083763 0.70394115]\n",
      "[0.70851026 0.72771935 0.71530593 0.73799284 0.72029688]\n",
      "[0.79049362 0.81470174 0.79975329 0.8271632  0.80645623]\n",
      "[0.63858467 0.65186005 0.64272939 0.65792156 0.6454227 ]\n",
      "[0.63754071 0.65113342 0.64195257 0.65821246 0.64510153]\n",
      "[0.68618146 0.7038598  0.69229464 0.71340564 0.69679982]\n",
      "[0.72880191 0.76216757 0.7407688  0.78336118 0.75737723]\n",
      "[0.77466987 0.80873543 0.78699354 0.8287786  0.80317077]\n",
      "[0.87957213 0.89955678 0.89298746 0.91671971 0.90494545]\n",
      "[0.90560721 0.92170934 0.91661737 0.93524519 0.92496097]\n"
     ]
    }
   ],
   "source": [
    "for i in range(13):\n",
    "    print(np.array(S(mat,i)))"
   ]
  },
  {
   "cell_type": "code",
   "execution_count": 16,
   "metadata": {},
   "outputs": [
    {
     "name": "stdout",
     "output_type": "stream",
     "text": [
      "Similarity no. 1 : [1 3 5 2 4]\n",
      "Similarity no. 2 : [1 3 5 2 4]\n",
      "Similarity no. 3 : [1 3 5 2 4]\n",
      "Similarity no. 4 : [1 3 5 2 4]\n",
      "Similarity no. 5 : [1 3 5 2 4]\n",
      "Similarity no. 6 : [1 3 5 2 4]\n",
      "Similarity no. 7 : [1 3 5 2 4]\n",
      "Similarity no. 8 : [1 3 5 2 4]\n",
      "Similarity no. 9 : [1 3 5 2 4]\n",
      "Similarity no. 10 : [1 3 5 2 4]\n",
      "Similarity no. 11 : [1 3 5 2 4]\n",
      "Similarity no. 12 : [1 3 2 5 4]\n",
      "Similarity no. 13 : [1 3 2 5 4]\n"
     ]
    }
   ],
   "source": [
    "for i in range(13):\n",
    "    print(\"Similarity no.\",i+1,\":\",np.array(rank(mat,i)))"
   ]
  },
  {
   "cell_type": "code",
   "execution_count": 17,
   "metadata": {},
   "outputs": [
    {
     "name": "stdout",
     "output_type": "stream",
     "text": [
      "Similarity no. 1 : 4\n",
      "Similarity no. 2 : 4\n",
      "Similarity no. 3 : 4\n",
      "Similarity no. 4 : 4\n",
      "Similarity no. 5 : 4\n",
      "Similarity no. 6 : 4\n",
      "Similarity no. 7 : 4\n",
      "Similarity no. 8 : 4\n",
      "Similarity no. 9 : 4\n",
      "Similarity no. 10 : 4\n",
      "Similarity no. 11 : 4\n",
      "Similarity no. 12 : 4\n",
      "Similarity no. 13 : 4\n"
     ]
    }
   ],
   "source": [
    " for i in range(13):\n",
    "    print(\"Similarity no.\",i+1,\":\",alt(mat,i))"
   ]
  },
  {
   "cell_type": "code",
   "execution_count": 18,
   "metadata": {},
   "outputs": [
    {
     "name": "stderr",
     "output_type": "stream",
     "text": [
      "The PostScript backend does not support transparency; partially transparent artists will be rendered opaque.\n",
      "The PostScript backend does not support transparency; partially transparent artists will be rendered opaque.\n"
     ]
    },
    {
     "data": {
      "image/png": "[encoded data removed]",
      "text/plain": [
       "<Figure size 720x324 with 1 Axes>"
      ]
     },
     "metadata": {
      "needs_background": "light"
     },
     "output_type": "display_data"
    }
   ],
   "source": [
    "import matplotlib.pyplot as plt\n",
    "xaxis = [1,2,3,4,5,6,7,8,9,10,11,12,13]\n",
    "plt.plot(xaxis,[visual[i][0] for i in range(13)],\n",
    "         'go-', color='blue', label='A', marker='o')\n",
    "plt.plot(xaxis,[visual[i][1] for i in range(13)],\n",
    "         'go-', color='green', label='A1', marker='o')\n",
    "plt.plot(xaxis,[visual[i][2] for i in range(13)],\n",
    "         'go-', color='red', label='B', marker='o')\n",
    "plt.plot(xaxis,[visual[i][3] for i in range(13)],\n",
    "         'go-', color='cyan', label='C', marker='o')\n",
    "plt.plot(xaxis,[visual[i][4] for i in range(13)],\n",
    "         'go-', color='magenta', label='D', marker='o')\n",
    "plt.xticks(xaxis,[\"IM1\",\"IM2\",\"IM3\",\"IM4\",\"IM5\",\"IM6\",\"IM7\",\"IM8\",\"IM9\",\"IM10\",\"IM11\",\"IM12\",\"IM13\"])\n",
    "plt.xlabel(\"Information Measures\")\n",
    "plt.ylabel(\"Combination Scores\")\n",
    "plt.title(\"The visualization of combination scores Si and rank of combinations \\n using information measures IMi\")\n",
    "figure = plt.gcf()\n",
    "figure.set_size_inches(10,4.5)\n",
    "plt.legend(loc='upper center', ncol=5)\n",
    "plt.savefig('decision making.eps', format='eps')\n",
    "plt.show()"
   ]
  },
  {
   "cell_type": "code",
   "execution_count": null,
   "metadata": {},
   "outputs": [],
   "source": [
    "# 7.4\t7\t9\tLý\t7.5\tHóa\t8\tSinh\t6\n",
    "# Khối A: 22.9đ. Khối A1: 23.9đ. Khối B: 21.4đ. Khối D: 23.4đ"
   ]
  }
 ],
 "metadata": {
  "kernelspec": {
   "display_name": "Python 3",
   "language": "python",
   "name": "python3"
  },
  "language_info": {
   "codemirror_mode": {
    "name": "ipython",
    "version": 3
   },
   "file_extension": ".py",
   "mimetype": "text/x-python",
   "name": "python",
   "nbconvert_exporter": "python",
   "pygments_lexer": "ipython3",
   "version": "3.8.8"
  }
 },
 "nbformat": 4,
 "nbformat_minor": 4
}

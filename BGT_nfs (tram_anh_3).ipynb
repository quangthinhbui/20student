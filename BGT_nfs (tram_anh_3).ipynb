{
 "cells": [
  {
   "cell_type": "code",
   "execution_count": 1,
   "metadata": {},
   "outputs": [
    {
     "data": {
      "text/html": [
       "<div>\n",
       "<style scoped>\n",
       "    .dataframe tbody tr th:only-of-type {\n",
       "        vertical-align: middle;\n",
       "    }\n",
       "\n",
       "    .dataframe tbody tr th {\n",
       "        vertical-align: top;\n",
       "    }\n",
       "\n",
       "    .dataframe thead th {\n",
       "        text-align: right;\n",
       "    }\n",
       "</style>\n",
       "<table border=\"1\" class=\"dataframe\">\n",
       "  <thead>\n",
       "    <tr style=\"text-align: right;\">\n",
       "      <th></th>\n",
       "      <th>T10</th>\n",
       "      <th>T10_T</th>\n",
       "      <th>T10_F</th>\n",
       "      <th>T10_I</th>\n",
       "      <th>L10</th>\n",
       "      <th>L10_T</th>\n",
       "      <th>L10_F</th>\n",
       "      <th>L10_I</th>\n",
       "      <th>H10</th>\n",
       "      <th>H10_T</th>\n",
       "      <th>...</th>\n",
       "      <th>SU12_F</th>\n",
       "      <th>SU12_I</th>\n",
       "      <th>D12</th>\n",
       "      <th>D12_T</th>\n",
       "      <th>D12_F</th>\n",
       "      <th>D12_I</th>\n",
       "      <th>AV12</th>\n",
       "      <th>AV12_T</th>\n",
       "      <th>AV12_F</th>\n",
       "      <th>AV12_I</th>\n",
       "    </tr>\n",
       "  </thead>\n",
       "  <tbody>\n",
       "    <tr>\n",
       "      <th>0</th>\n",
       "      <td>9.3</td>\n",
       "      <td>10</td>\n",
       "      <td>0</td>\n",
       "      <td>0</td>\n",
       "      <td>7.7</td>\n",
       "      <td>8</td>\n",
       "      <td>2</td>\n",
       "      <td>2</td>\n",
       "      <td>8.6</td>\n",
       "      <td>8</td>\n",
       "      <td>...</td>\n",
       "      <td>0</td>\n",
       "      <td>0</td>\n",
       "      <td>8.9</td>\n",
       "      <td>10</td>\n",
       "      <td>0</td>\n",
       "      <td>0</td>\n",
       "      <td>7.8</td>\n",
       "      <td>10</td>\n",
       "      <td>0</td>\n",
       "      <td>0</td>\n",
       "    </tr>\n",
       "    <tr>\n",
       "      <th>1</th>\n",
       "      <td>9.1</td>\n",
       "      <td>9</td>\n",
       "      <td>1</td>\n",
       "      <td>1</td>\n",
       "      <td>7.1</td>\n",
       "      <td>9</td>\n",
       "      <td>2</td>\n",
       "      <td>5</td>\n",
       "      <td>8.0</td>\n",
       "      <td>7</td>\n",
       "      <td>...</td>\n",
       "      <td>5</td>\n",
       "      <td>4</td>\n",
       "      <td>8.8</td>\n",
       "      <td>7</td>\n",
       "      <td>1</td>\n",
       "      <td>1</td>\n",
       "      <td>7.6</td>\n",
       "      <td>7</td>\n",
       "      <td>6</td>\n",
       "      <td>4</td>\n",
       "    </tr>\n",
       "    <tr>\n",
       "      <th>2</th>\n",
       "      <td>9.4</td>\n",
       "      <td>8</td>\n",
       "      <td>2</td>\n",
       "      <td>2</td>\n",
       "      <td>7.6</td>\n",
       "      <td>10</td>\n",
       "      <td>0</td>\n",
       "      <td>0</td>\n",
       "      <td>9.0</td>\n",
       "      <td>10</td>\n",
       "      <td>...</td>\n",
       "      <td>0</td>\n",
       "      <td>0</td>\n",
       "      <td>9.0</td>\n",
       "      <td>10</td>\n",
       "      <td>0</td>\n",
       "      <td>0</td>\n",
       "      <td>9.0</td>\n",
       "      <td>10</td>\n",
       "      <td>0</td>\n",
       "      <td>0</td>\n",
       "    </tr>\n",
       "    <tr>\n",
       "      <th>3</th>\n",
       "      <td>9.3</td>\n",
       "      <td>9</td>\n",
       "      <td>0</td>\n",
       "      <td>9</td>\n",
       "      <td>7.1</td>\n",
       "      <td>9</td>\n",
       "      <td>8</td>\n",
       "      <td>8</td>\n",
       "      <td>8.7</td>\n",
       "      <td>9</td>\n",
       "      <td>...</td>\n",
       "      <td>8</td>\n",
       "      <td>6</td>\n",
       "      <td>8.2</td>\n",
       "      <td>9</td>\n",
       "      <td>7</td>\n",
       "      <td>6</td>\n",
       "      <td>8.3</td>\n",
       "      <td>8</td>\n",
       "      <td>8</td>\n",
       "      <td>9</td>\n",
       "    </tr>\n",
       "    <tr>\n",
       "      <th>4</th>\n",
       "      <td>9.3</td>\n",
       "      <td>8</td>\n",
       "      <td>2</td>\n",
       "      <td>3</td>\n",
       "      <td>9.6</td>\n",
       "      <td>6</td>\n",
       "      <td>4</td>\n",
       "      <td>6</td>\n",
       "      <td>8.6</td>\n",
       "      <td>7</td>\n",
       "      <td>...</td>\n",
       "      <td>7</td>\n",
       "      <td>4</td>\n",
       "      <td>9.6</td>\n",
       "      <td>6</td>\n",
       "      <td>4</td>\n",
       "      <td>5</td>\n",
       "      <td>9.4</td>\n",
       "      <td>6</td>\n",
       "      <td>4</td>\n",
       "      <td>5</td>\n",
       "    </tr>\n",
       "  </tbody>\n",
       "</table>\n",
       "<p>5 rows × 96 columns</p>\n",
       "</div>"
      ],
      "text/plain": [
       "   T10  T10_T  T10_F  T10_I  L10  L10_T  L10_F  L10_I  H10  H10_T  ...  \\\n",
       "0  9.3     10      0      0  7.7      8      2      2  8.6      8  ...   \n",
       "1  9.1      9      1      1  7.1      9      2      5  8.0      7  ...   \n",
       "2  9.4      8      2      2  7.6     10      0      0  9.0     10  ...   \n",
       "3  9.3      9      0      9  7.1      9      8      8  8.7      9  ...   \n",
       "4  9.3      8      2      3  9.6      6      4      6  8.6      7  ...   \n",
       "\n",
       "   SU12_F  SU12_I  D12  D12_T  D12_F  D12_I  AV12  AV12_T  AV12_F  AV12_I  \n",
       "0       0       0  8.9     10      0      0   7.8      10       0       0  \n",
       "1       5       4  8.8      7      1      1   7.6       7       6       4  \n",
       "2       0       0  9.0     10      0      0   9.0      10       0       0  \n",
       "3       8       6  8.2      9      7      6   8.3       8       8       9  \n",
       "4       7       4  9.6      6      4      5   9.4       6       4       5  \n",
       "\n",
       "[5 rows x 96 columns]"
      ]
     },
     "execution_count": 1,
     "metadata": {},
     "output_type": "execute_result"
    }
   ],
   "source": [
    "import pandas as pd\n",
    "import numpy as np\n",
    "\n",
    "data = pd.read_csv(\"BGT.csv\") \n",
    "data.head(5)\n",
    "#print(data)"
   ]
  },
  {
   "cell_type": "code",
   "execution_count": 2,
   "metadata": {},
   "outputs": [
    {
     "name": "stdout",
     "output_type": "stream",
     "text": [
      "[9.7 9.  2.  1.  9.4 7.  3.  4.  9.  9.  1.  1.  9.  9.  1.  1.  9.  7.\n",
      " 3.  3.  9.5 7.  3.  3.  9.6 8.  2.  2.  8.8 8.  2.  2.  9.7 9.  1.  1.\n",
      " 9.2 8.  2.  2.  9.6 9.  1.  1.  9.8 9.  1.  1.  8.6 8.  2.  2.  9.2 8.\n",
      " 2.  2.  9.2 8.  2.  2.  9.1 8.  2.  2.  9.9 9.  9.  0.  8.1 6.  4.  4.\n",
      " 9.7 9.  1.  1.  9.8 9.  1.  1.  8.3 7.  3.  4.  9.2 8.  2.  2.  9.5 8.\n",
      " 2.  2.  8.9 9.  1.  2. ]\n"
     ]
    }
   ],
   "source": [
    "duc = np.array(data[33:34])[0]\n",
    "print(duc)"
   ]
  },
  {
   "cell_type": "code",
   "execution_count": 3,
   "metadata": {},
   "outputs": [
    {
     "name": "stdout",
     "output_type": "stream",
     "text": [
      "[9.7 9.  2.  1. ]\n",
      "[9.4 7.  3.  4. ]\n",
      "[9. 9. 1. 1.]\n",
      "[9.36666667 8.33333333 2.         2.        ]\n",
      "[9.7 9.  1.  1. ]\n",
      "[9.2 8.  2.  2. ]\n",
      "[9.6 9.  1.  1. ]\n",
      "[9.5        8.66666667 1.33333333 1.33333333]\n",
      "[9.9 9.  9.  0. ]\n",
      "[8.1 6.  4.  4. ]\n",
      "[9.7 9.  1.  1. ]\n",
      "[9.23333333 8.         4.66666667 1.66666667]\n"
     ]
    }
   ],
   "source": [
    "T10 = duc[0:4]\n",
    "print(T10)\n",
    "L10 = duc[4:8]\n",
    "print(L10)\n",
    "H10 = duc[8:12]\n",
    "print(H10)\n",
    "A10 = np.mean(np.array([T10,L10,H10]),axis=0)\n",
    "print(A10)\n",
    "\n",
    "T11 = duc[32:36]\n",
    "print(T11)\n",
    "L11 = duc[36:40]\n",
    "print(L11)\n",
    "H11 = duc[40:44]\n",
    "print(H11)\n",
    "A11 = np.mean(np.array([T11,L11,H11]),axis=0)\n",
    "print(A11)\n",
    "\n",
    "T12 = duc[64:68]\n",
    "print(T12)\n",
    "L12 = duc[68:72]\n",
    "print(L12)\n",
    "H12 = duc[72:76]\n",
    "print(H12)\n",
    "A12 = np.mean(np.array([T12,L12,H12]),axis=0)\n",
    "print(A12)\n",
    "\n",
    "A = [A10,A11,A12]"
   ]
  },
  {
   "cell_type": "code",
   "execution_count": 4,
   "metadata": {},
   "outputs": [
    {
     "name": "stdout",
     "output_type": "stream",
     "text": [
      "[9.7 9.  2.  1. ]\n",
      "[9.4 7.  3.  4. ]\n",
      "[8.8 8.  2.  2. ]\n",
      "[9.3        8.         2.33333333 2.33333333]\n",
      "[9.7 9.  1.  1. ]\n",
      "[9.2 8.  2.  2. ]\n",
      "[9.1 8.  2.  2. ]\n",
      "[9.33333333 8.33333333 1.66666667 1.66666667]\n",
      "[9.9 9.  9.  0. ]\n",
      "[8.1 6.  4.  4. ]\n",
      "[8.9 9.  1.  2. ]\n",
      "[8.96666667 8.         4.66666667 2.        ]\n"
     ]
    }
   ],
   "source": [
    "T10 = duc[0:4]\n",
    "print(T10)\n",
    "L10 = duc[4:8]\n",
    "print(L10)\n",
    "A10 = duc[28:32]\n",
    "print(A10)\n",
    "A110 = np.mean(np.array([T10,L10,A10]),axis=0)\n",
    "print(A110)\n",
    "\n",
    "T11 = duc[32:36]\n",
    "print(T11)\n",
    "L11 = duc[36:40]\n",
    "print(L11)\n",
    "A11 = duc[60:64]\n",
    "print(A11)\n",
    "A111 = np.mean(np.array([T11,L11,A11]),axis=0)\n",
    "print(A111)\n",
    "\n",
    "T12 = duc[64:68]\n",
    "print(T12)\n",
    "L12 = duc[68:72]\n",
    "print(L12)\n",
    "A12 = duc[92:96]\n",
    "print(A12)\n",
    "A112 = np.mean(np.array([T12,L12,A12]),axis=0)\n",
    "print(A112)\n",
    "\n",
    "A1 = [A110,A111,A112]"
   ]
  },
  {
   "cell_type": "code",
   "execution_count": 5,
   "metadata": {},
   "outputs": [
    {
     "name": "stdout",
     "output_type": "stream",
     "text": [
      "[9.7 9.  2.  1. ]\n",
      "[9. 9. 1. 1.]\n",
      "[9. 9. 1. 1.]\n",
      "[8.8 8.  2.  2. ]\n",
      "[9.7 9.  1.  1. ]\n",
      "[9.6 9.  1.  1. ]\n",
      "[9.8 9.  1.  1. ]\n",
      "[9.7 9.  1.  1. ]\n",
      "[9.9 9.  9.  0. ]\n",
      "[9.7 9.  1.  1. ]\n",
      "[9.8 9.  1.  1. ]\n",
      "[9.8        9.         3.66666667 0.66666667]\n"
     ]
    }
   ],
   "source": [
    "T10 = duc[0:4]\n",
    "print(T10)\n",
    "H10 = duc[8:12]\n",
    "print(H10)\n",
    "SI10 = duc[12:16]\n",
    "print(SI10)\n",
    "B10 = np.mean(np.array([T10,H10,SI10]),axis=0)\n",
    "print(A10)\n",
    "\n",
    "T11 = duc[32:36]\n",
    "print(T11)\n",
    "H11 = duc[40:44]\n",
    "print(H11)\n",
    "SI11 = duc[44:48]\n",
    "print(SI11)\n",
    "B11 = np.mean(np.array([T11,H11,SI11]),axis=0)\n",
    "print(B11)\n",
    "\n",
    "T12 = duc[64:68]\n",
    "print(T12)\n",
    "H12 = duc[72:76]\n",
    "print(H12)\n",
    "SI12 = duc[76:80]\n",
    "print(SI12)\n",
    "B12 = np.mean(np.array([T12,H12,SI12]),axis=0)\n",
    "print(B12)\n",
    "\n",
    "B = [B10,B11,B12]"
   ]
  },
  {
   "cell_type": "code",
   "execution_count": 6,
   "metadata": {},
   "outputs": [
    {
     "name": "stdout",
     "output_type": "stream",
     "text": [
      "[9. 7. 3. 3.]\n",
      "[9.5 7.  3.  3. ]\n",
      "[9.6 8.  2.  2. ]\n",
      "[8.8 8.  2.  2. ]\n",
      "[8.6 8.  2.  2. ]\n",
      "[9.2 8.  2.  2. ]\n",
      "[9.2 8.  2.  2. ]\n",
      "[9.7 9.  1.  1. ]\n",
      "[8.3 7.  3.  4. ]\n",
      "[9.2 8.  2.  2. ]\n",
      "[9.5 8.  2.  2. ]\n",
      "[9.8        9.         3.66666667 0.66666667]\n"
     ]
    }
   ],
   "source": [
    "V10 = duc[16:20]\n",
    "print(V10)\n",
    "SU10 = duc[20:24]\n",
    "print(SU10)\n",
    "D10 = duc[24:28]\n",
    "print(D10)\n",
    "C10 = np.mean(np.array([V10,SU10,D10]),axis=0)\n",
    "print(A10)\n",
    "\n",
    "V11 = duc[48:52]\n",
    "print(V11)\n",
    "SU11 = duc[52:56]\n",
    "print(SU11)\n",
    "D11 = duc[56:60]\n",
    "print(D11)\n",
    "C11 = np.mean(np.array([V11,SU11,D11]),axis=0)\n",
    "print(B11)\n",
    "\n",
    "V12 = duc[80:84]\n",
    "print(V12)\n",
    "SU12 = duc[84:88]\n",
    "print(SU12)\n",
    "D12 = duc[88:92]\n",
    "print(D12)\n",
    "C12 = np.mean(np.array([V12,SU12,D12]),axis=0)\n",
    "print(B12)\n",
    "\n",
    "C = [C10,C11,C12]"
   ]
  },
  {
   "cell_type": "code",
   "execution_count": 7,
   "metadata": {},
   "outputs": [
    {
     "name": "stdout",
     "output_type": "stream",
     "text": [
      "[9.7 9.  2.  1. ]\n",
      "[9. 7. 3. 3.]\n",
      "[8.8 8.  2.  2. ]\n",
      "[9.16666667 8.         2.33333333 2.        ]\n",
      "[9.7 9.  1.  1. ]\n",
      "[8.6 8.  2.  2. ]\n",
      "[9.1 8.  2.  2. ]\n",
      "[9.13333333 8.33333333 1.66666667 1.66666667]\n",
      "[9.9 9.  9.  0. ]\n",
      "[8.3 7.  3.  4. ]\n",
      "[8.9 9.  1.  2. ]\n",
      "[9.03333333 8.33333333 4.33333333 2.        ]\n"
     ]
    }
   ],
   "source": [
    "T10 = duc[0:4]\n",
    "print(T10)\n",
    "V10 = duc[16:20]\n",
    "print(V10)\n",
    "A10 = duc[28:32]\n",
    "print(A10)\n",
    "DD10 = np.mean(np.array([T10,V10,A10]),axis=0)\n",
    "print(DD10)\n",
    "\n",
    "T11 = duc[32:36]\n",
    "print(T11)\n",
    "V11 = duc[48:52]\n",
    "print(V11)\n",
    "A11 = duc[60:64]\n",
    "print(A11)\n",
    "DD11 = np.mean(np.array([T11,V11,A11]),axis=0)\n",
    "print(DD11)\n",
    "\n",
    "T12 = duc[64:68]\n",
    "print(T12)\n",
    "V12 = duc[80:84]\n",
    "print(V12)\n",
    "A12 = duc[92:96]\n",
    "print(A12)\n",
    "DD12 = np.mean(np.array([T12,V12,A12]),axis=0)\n",
    "print(DD12)\n",
    "\n",
    "D = [DD10,DD11,DD12]"
   ]
  },
  {
   "cell_type": "code",
   "execution_count": 8,
   "metadata": {},
   "outputs": [
    {
     "name": "stdout",
     "output_type": "stream",
     "text": [
      "[[[0.93666667 0.27777778 0.06666667 0.06666667]\n",
      "  [0.95       0.28888889 0.04444444 0.04444444]\n",
      "  [0.92333333 0.26666667 0.05555556 0.15555556]]\n",
      "\n",
      " [[0.93       0.26666667 0.07777778 0.07777778]\n",
      "  [0.93333333 0.27777778 0.05555556 0.05555556]\n",
      "  [0.89666667 0.26666667 0.06666667 0.15555556]]\n",
      "\n",
      " [[0.92333333 0.3        0.03333333 0.04444444]\n",
      "  [0.97       0.3        0.03333333 0.03333333]\n",
      "  [0.98       0.3        0.02222222 0.12222222]]\n",
      "\n",
      " [[0.93666667 0.24444444 0.08888889 0.08888889]\n",
      "  [0.9        0.26666667 0.06666667 0.06666667]\n",
      "  [0.9        0.25555556 0.08888889 0.07777778]]\n",
      "\n",
      " [[0.91666667 0.26666667 0.06666667 0.07777778]\n",
      "  [0.91333333 0.27777778 0.05555556 0.05555556]\n",
      "  [0.90333333 0.27777778 0.06666667 0.14444444]]]\n"
     ]
    }
   ],
   "source": [
    "from dm import *\n",
    "from im import *\n",
    "\n",
    "def change(A):\n",
    "    Aok = []\n",
    "    for i in range(3):\n",
    "        temp = []\n",
    "        for j in range(4):\n",
    "            if j == 0:\n",
    "                temp.append(A[i][j]/10)\n",
    "            if j == 1:\n",
    "                temp.append(A[i][j]/30)\n",
    "            if j == 2:\n",
    "                temp.append(A[i][j+1]/30)\n",
    "            if j == 3:\n",
    "                temp.append(A[i][j-1]/30)\n",
    "        Aok.append(temp)\n",
    "    return(Aok)\n",
    "\n",
    "matrix = np.array([change(A),change(A1),change(B),change(C),change(D)])\n",
    "print(matrix)\n",
    "\n",
    "def rtc(A):\n",
    "    rtc = []\n",
    "    for i in range(3):\n",
    "        temp = []\n",
    "        for j in range(5):\n",
    "            temp.append(A[j][i])\n",
    "        rtc.append(temp)\n",
    "    return np.array(rtc)\n",
    "matric = rtc(matrix)"
   ]
  },
  {
   "cell_type": "code",
   "execution_count": 9,
   "metadata": {},
   "outputs": [
    {
     "name": "stdout",
     "output_type": "stream",
     "text": [
      "[[[0.93666667 0.27777778 0.06666667 0.06666667]\n",
      "  [0.93       0.26666667 0.07777778 0.07777778]\n",
      "  [0.92333333 0.3        0.03333333 0.04444444]\n",
      "  [0.93666667 0.24444444 0.08888889 0.08888889]\n",
      "  [0.91666667 0.26666667 0.06666667 0.07777778]]\n",
      "\n",
      " [[0.95       0.28888889 0.04444444 0.04444444]\n",
      "  [0.93333333 0.27777778 0.05555556 0.05555556]\n",
      "  [0.97       0.3        0.03333333 0.03333333]\n",
      "  [0.9        0.26666667 0.06666667 0.06666667]\n",
      "  [0.91333333 0.27777778 0.05555556 0.05555556]]\n",
      "\n",
      " [[0.92333333 0.26666667 0.05555556 0.15555556]\n",
      "  [0.89666667 0.26666667 0.06666667 0.15555556]\n",
      "  [0.98       0.3        0.02222222 0.12222222]\n",
      "  [0.9        0.25555556 0.08888889 0.07777778]\n",
      "  [0.90333333 0.27777778 0.06666667 0.14444444]]]\n"
     ]
    }
   ],
   "source": [
    "cost = []\n",
    "mat = rnf(matric,cost)\n",
    "print(np.array(mat))"
   ]
  },
  {
   "cell_type": "code",
   "execution_count": 10,
   "metadata": {},
   "outputs": [
    {
     "name": "stdout",
     "output_type": "stream",
     "text": [
      "[0.38158514 0.35240037 0.42944785]\n",
      "[0.24011111 0.22555556 0.27188889]\n",
      "[0.31044415 0.29327911 0.34672622]\n",
      "[0.18452812 0.17270715 0.21093572]\n",
      "[0.1579627  0.14736963 0.18204185]\n",
      "[0.07034936 0.06248824 0.09043932]\n",
      "[0.36826265 0.34679686 0.41394137]\n",
      "[0.32049523 0.3034784  0.35609607]\n",
      "[0.19085713 0.17906457 0.21692242]\n",
      "[0.14959224 0.14344091 0.17016733]\n",
      "[0.13645499 0.12722977 0.15754372]\n",
      "[0.03948689 0.04188651 0.04524341]\n",
      "[0.02844936 0.02834208 0.03464061]\n"
     ]
    }
   ],
   "source": [
    "for i in range(13):\n",
    "    print(np.array(ej(mat,i)))"
   ]
  },
  {
   "cell_type": "code",
   "execution_count": 11,
   "metadata": {},
   "outputs": [
    {
     "name": "stdout",
     "output_type": "stream",
     "text": [
      "[0.00063125 0.00066587 0.00166257]\n",
      "[0.01988889 0.0205     0.03116667]\n",
      "[0.01443836 0.01488518 0.02270823]\n",
      "[0.02833806 0.02919673 0.044098  ]\n",
      "[0.03107009 0.03201131 0.0483417 ]\n",
      "[0.0312317  0.03219072 0.04892105]\n",
      "[0.00062    0.0006604  0.00152401]\n",
      "[0.01562312 0.01610331 0.02448711]\n",
      "[0.03064005 0.03156131 0.04749956]\n",
      "[0.16364041 0.15332481 0.18808003]\n",
      "[0.05748218 0.05983638 0.0851799 ]\n",
      "[0.26829808 0.26134737 0.29630735]\n",
      "[0.04012932 0.07736757 0.09122485]\n"
     ]
    }
   ],
   "source": [
    "for i in range(13):\n",
    "    print(np.array(cj(mat,i)))"
   ]
  },
  {
   "cell_type": "code",
   "execution_count": 12,
   "metadata": {},
   "outputs": [
    {
     "name": "stdout",
     "output_type": "stream",
     "text": [
      "[0.72715241 0.71599923 0.75057149 0.71159656 0.71593321]\n",
      "[0.76783002 0.75715927 0.79049529 0.75221304 0.75762017]\n",
      "[0.73204494 0.72186356 0.75390145 0.71704412 0.72222792]\n",
      "[0.79680331 0.78594972 0.81960937 0.78099493 0.7864747 ]\n",
      "[0.81524334 0.80442046 0.83779932 0.79951465 0.8049775 ]\n",
      "[0.90659031 0.89666136 0.92638742 0.89234101 0.89737077]\n",
      "[0.72412915 0.71411301 0.74557617 0.709243   0.71442169]\n",
      "[0.72394838 0.71393361 0.74549938 0.70918305 0.71427806]\n",
      "[0.7886516  0.77779884 0.81153215 0.77283325 0.7783068 ]\n",
      "[0.89359325 0.87948337 0.92881485 0.87995779 0.88389011]\n",
      "[0.92644035 0.91503149 0.95312334 0.91500382 0.91846035]\n",
      "[0.98607122 0.98316938 0.99312725 0.98583728 0.98468428]\n",
      "[0.99042424 0.98826328 0.9954412  0.99016269 0.98932834]\n"
     ]
    }
   ],
   "source": [
    "visual = []\n",
    "for i in range(13):\n",
    "    print(np.array(S(mat,i)))\n",
    "    visual.append(S(mat,i))"
   ]
  },
  {
   "cell_type": "code",
   "execution_count": 13,
   "metadata": {},
   "outputs": [
    {
     "name": "stdout",
     "output_type": "stream",
     "text": [
      "[0.86201955 0.85800952 0.87184133 0.85279239 0.85932114]\n",
      "[0.76783002 0.75715927 0.79049529 0.75221304 0.75762017]\n",
      "[0.8220239  0.81329113 0.84038567 0.80920113 0.81366857]\n",
      "[0.69878776 0.68633734 0.7255573  0.68060163 0.68685248]\n",
      "[0.67219613 0.6588735  0.70094029 0.65275724 0.65942457]\n",
      "[0.64310862 0.62751343 0.67671069 0.62045276 0.62822549]\n",
      "[0.93413177 0.92806556 0.94634703 0.92524229 0.92841699]\n",
      "[0.81567664 0.80699381 0.83398594 0.80291735 0.80735566]\n",
      "[0.68865032 0.676348   0.71517831 0.67066961 0.67683968]\n",
      "[0.30359498 0.29757691 0.31444732 0.29194094 0.29629297]\n",
      "[0.5668901  0.55081015 0.60011179 0.54085897 0.55008608]\n",
      "[0.23861    0.22986523 0.25203637 0.22443646 0.22630284]\n",
      "[0.47419736 0.45625139 0.50262609 0.44578147 0.44946337]\n"
     ]
    }
   ],
   "source": [
    "for i in range(13):\n",
    "    print(np.array(Spos(mat,i)))"
   ]
  },
  {
   "cell_type": "code",
   "execution_count": 14,
   "metadata": {},
   "outputs": [
    {
     "name": "stdout",
     "output_type": "stream",
     "text": [
      "[0.32345345 0.34032908 0.28972868 0.34562879 0.34096002]\n",
      "[0.23216998 0.24284073 0.20950471 0.24778696 0.24237983]\n",
      "[0.30089062 0.31336379 0.27432988 0.31932236 0.31294055]\n",
      "[0.17820127 0.18692124 0.15969039 0.19085298 0.18647819]\n",
      "[0.15233821 0.16019257 0.13570433 0.16368463 0.15975928]\n",
      "[0.0662621  0.07231981 0.05377277 0.07485627 0.07184801]\n",
      "[0.35587537 0.37154044 0.3229358  0.37930678 0.37111941]\n",
      "[0.31102888 0.32335472 0.2847084  0.32925487 0.32295438]\n",
      "[0.18454935 0.19321874 0.16609092 0.19713675 0.19279127]\n",
      "[0.0361513  0.04077731 0.02409951 0.03982604 0.03892175]\n",
      "[0.04501125 0.05114744 0.02951479 0.05024126 0.04883589]\n",
      "[0.00337049 0.003935   0.00174417 0.0032243  0.0035199 ]\n",
      "[0.0045847  0.00541849 0.00230187 0.00442886 0.00484826]\n"
     ]
    }
   ],
   "source": [
    "for i in range(13):\n",
    "    print(np.array(Sneg(mat,i)))"
   ]
  },
  {
   "cell_type": "code",
   "execution_count": 15,
   "metadata": {},
   "outputs": [
    {
     "name": "stdout",
     "output_type": "stream",
     "text": [
      "[0.72715241 0.71599923 0.75057149 0.71159656 0.71593321]\n",
      "[0.76783002 0.75715927 0.79049529 0.75221304 0.75762017]\n",
      "[0.73204494 0.72186356 0.75390145 0.71704412 0.72222792]\n",
      "[0.79680331 0.78594972 0.81960937 0.78099493 0.7864747 ]\n",
      "[0.81524334 0.80442046 0.83779932 0.79951465 0.8049775 ]\n",
      "[0.90659031 0.89666136 0.92638742 0.89234101 0.89737077]\n",
      "[0.72412915 0.71411301 0.74557617 0.709243   0.71442169]\n",
      "[0.72394838 0.71393361 0.74549938 0.70918305 0.71427806]\n",
      "[0.7886516  0.77779884 0.81153215 0.77283325 0.7783068 ]\n",
      "[0.89359325 0.87948337 0.92881485 0.87995779 0.88389011]\n",
      "[0.92644035 0.91503149 0.95312334 0.91500382 0.91846035]\n",
      "[0.98607122 0.98316938 0.99312725 0.98583728 0.98468428]\n",
      "[0.99042424 0.98826328 0.9954412  0.99016269 0.98932834]\n"
     ]
    }
   ],
   "source": [
    "for i in range(13):\n",
    "    print(np.array(S(mat,i)))"
   ]
  },
  {
   "cell_type": "code",
   "execution_count": 16,
   "metadata": {},
   "outputs": [
    {
     "name": "stdout",
     "output_type": "stream",
     "text": [
      "Similarity no. 1 : [4 5 2 1 3]\n",
      "Similarity no. 2 : [4 2 5 1 3]\n",
      "Similarity no. 3 : [4 2 5 1 3]\n",
      "Similarity no. 4 : [4 2 5 1 3]\n",
      "Similarity no. 5 : [4 2 5 1 3]\n",
      "Similarity no. 6 : [4 2 5 1 3]\n",
      "Similarity no. 7 : [4 2 5 1 3]\n",
      "Similarity no. 8 : [4 2 5 1 3]\n",
      "Similarity no. 9 : [4 2 5 1 3]\n",
      "Similarity no. 10 : [2 4 5 1 3]\n",
      "Similarity no. 11 : [4 2 5 1 3]\n",
      "Similarity no. 12 : [2 5 4 1 3]\n",
      "Similarity no. 13 : [2 5 4 1 3]\n"
     ]
    }
   ],
   "source": [
    "for i in range(13):\n",
    "    print(\"Similarity no.\",i+1,\":\",np.array(rank(mat,i)))"
   ]
  },
  {
   "cell_type": "code",
   "execution_count": 17,
   "metadata": {},
   "outputs": [
    {
     "name": "stdout",
     "output_type": "stream",
     "text": [
      "Similarity no. 1 : 3\n",
      "Similarity no. 2 : 3\n",
      "Similarity no. 3 : 3\n",
      "Similarity no. 4 : 3\n",
      "Similarity no. 5 : 3\n",
      "Similarity no. 6 : 3\n",
      "Similarity no. 7 : 3\n",
      "Similarity no. 8 : 3\n",
      "Similarity no. 9 : 3\n",
      "Similarity no. 10 : 3\n",
      "Similarity no. 11 : 3\n",
      "Similarity no. 12 : 3\n",
      "Similarity no. 13 : 3\n"
     ]
    }
   ],
   "source": [
    " for i in range(13):\n",
    "    print(\"Similarity no.\",i+1,\":\",alt(mat,i))"
   ]
  },
  {
   "cell_type": "code",
   "execution_count": 18,
   "metadata": {},
   "outputs": [
    {
     "name": "stderr",
     "output_type": "stream",
     "text": [
      "The PostScript backend does not support transparency; partially transparent artists will be rendered opaque.\n",
      "The PostScript backend does not support transparency; partially transparent artists will be rendered opaque.\n"
     ]
    },
    {
     "data": {
      "image/png": "[encoded data removed]",
      "text/plain": [
       "<Figure size 720x324 with 1 Axes>"
      ]
     },
     "metadata": {
      "needs_background": "light"
     },
     "output_type": "display_data"
    }
   ],
   "source": [
    "import matplotlib.pyplot as plt\n",
    "xaxis = [1,2,3,4,5,6,7,8,9,10,11,12,13]\n",
    "plt.plot(xaxis,[visual[i][0] for i in range(13)],\n",
    "         'go-', color='blue', label='A', marker='o')\n",
    "plt.plot(xaxis,[visual[i][1] for i in range(13)],\n",
    "         'go-', color='green', label='A1', marker='o')\n",
    "plt.plot(xaxis,[visual[i][2] for i in range(13)],\n",
    "         'go-', color='red', label='B', marker='o')\n",
    "plt.plot(xaxis,[visual[i][3] for i in range(13)],\n",
    "         'go-', color='cyan', label='C', marker='o')\n",
    "plt.plot(xaxis,[visual[i][4] for i in range(13)],\n",
    "         'go-', color='magenta', label='D', marker='o')\n",
    "plt.xticks(xaxis,[\"IM1\",\"IM2\",\"IM3\",\"IM4\",\"IM5\",\"IM6\",\"IM7\",\"IM8\",\"IM9\",\"IM10\",\"IM11\",\"IM12\",\"IM13\"])\n",
    "plt.xlabel(\"Information Measures\")\n",
    "plt.ylabel(\"Combination Scores\")\n",
    "plt.title(\"The visualization of combination scores Si and rank of combinations \\n using information measures IMi\")\n",
    "figure = plt.gcf()\n",
    "figure.set_size_inches(10,4.5)\n",
    "plt.legend(loc='upper center', ncol=5)\n",
    "plt.savefig('decision making.eps', format='eps')\n",
    "plt.show()"
   ]
  },
  {
   "cell_type": "code",
   "execution_count": null,
   "metadata": {},
   "outputs": [],
   "source": [
    "# 8.8\t9\t8.2\tLý\t6.5\tHoá\t8.75\tSinh\t9.5\n",
    "# Khối A: 24.05đ. Khối A1: 23.5đ. Khối B: 27.05đ. Khối D: 26đ"
   ]
  }
 ],
 "metadata": {
  "kernelspec": {
   "display_name": "Python 3",
   "language": "python",
   "name": "python3"
  },
  "language_info": {
   "codemirror_mode": {
    "name": "ipython",
    "version": 3
   },
   "file_extension": ".py",
   "mimetype": "text/x-python",
   "name": "python",
   "nbconvert_exporter": "python",
   "pygments_lexer": "ipython3",
   "version": "3.8.8"
  }
 },
 "nbformat": 4,
 "nbformat_minor": 4
}

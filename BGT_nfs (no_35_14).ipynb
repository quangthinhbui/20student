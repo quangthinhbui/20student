{
 "cells": [
  {
   "cell_type": "code",
   "execution_count": 1,
   "metadata": {},
   "outputs": [
    {
     "data": {
      "text/html": [
       "<div>\n",
       "<style scoped>\n",
       "    .dataframe tbody tr th:only-of-type {\n",
       "        vertical-align: middle;\n",
       "    }\n",
       "\n",
       "    .dataframe tbody tr th {\n",
       "        vertical-align: top;\n",
       "    }\n",
       "\n",
       "    .dataframe thead th {\n",
       "        text-align: right;\n",
       "    }\n",
       "</style>\n",
       "<table border=\"1\" class=\"dataframe\">\n",
       "  <thead>\n",
       "    <tr style=\"text-align: right;\">\n",
       "      <th></th>\n",
       "      <th>T10</th>\n",
       "      <th>T10_T</th>\n",
       "      <th>T10_F</th>\n",
       "      <th>T10_I</th>\n",
       "      <th>L10</th>\n",
       "      <th>L10_T</th>\n",
       "      <th>L10_F</th>\n",
       "      <th>L10_I</th>\n",
       "      <th>H10</th>\n",
       "      <th>H10_T</th>\n",
       "      <th>...</th>\n",
       "      <th>SU12_F</th>\n",
       "      <th>SU12_I</th>\n",
       "      <th>D12</th>\n",
       "      <th>D12_T</th>\n",
       "      <th>D12_F</th>\n",
       "      <th>D12_I</th>\n",
       "      <th>AV12</th>\n",
       "      <th>AV12_T</th>\n",
       "      <th>AV12_F</th>\n",
       "      <th>AV12_I</th>\n",
       "    </tr>\n",
       "  </thead>\n",
       "  <tbody>\n",
       "    <tr>\n",
       "      <th>0</th>\n",
       "      <td>9.3</td>\n",
       "      <td>10</td>\n",
       "      <td>0</td>\n",
       "      <td>0</td>\n",
       "      <td>7.7</td>\n",
       "      <td>8</td>\n",
       "      <td>2</td>\n",
       "      <td>2</td>\n",
       "      <td>8.6</td>\n",
       "      <td>8</td>\n",
       "      <td>...</td>\n",
       "      <td>0</td>\n",
       "      <td>0</td>\n",
       "      <td>8.9</td>\n",
       "      <td>10</td>\n",
       "      <td>0</td>\n",
       "      <td>0</td>\n",
       "      <td>7.8</td>\n",
       "      <td>10</td>\n",
       "      <td>0</td>\n",
       "      <td>0</td>\n",
       "    </tr>\n",
       "    <tr>\n",
       "      <th>1</th>\n",
       "      <td>9.1</td>\n",
       "      <td>9</td>\n",
       "      <td>1</td>\n",
       "      <td>1</td>\n",
       "      <td>7.1</td>\n",
       "      <td>9</td>\n",
       "      <td>2</td>\n",
       "      <td>5</td>\n",
       "      <td>8.0</td>\n",
       "      <td>7</td>\n",
       "      <td>...</td>\n",
       "      <td>5</td>\n",
       "      <td>4</td>\n",
       "      <td>8.8</td>\n",
       "      <td>7</td>\n",
       "      <td>1</td>\n",
       "      <td>1</td>\n",
       "      <td>7.6</td>\n",
       "      <td>7</td>\n",
       "      <td>6</td>\n",
       "      <td>4</td>\n",
       "    </tr>\n",
       "    <tr>\n",
       "      <th>2</th>\n",
       "      <td>9.4</td>\n",
       "      <td>8</td>\n",
       "      <td>2</td>\n",
       "      <td>2</td>\n",
       "      <td>7.6</td>\n",
       "      <td>10</td>\n",
       "      <td>0</td>\n",
       "      <td>0</td>\n",
       "      <td>9.0</td>\n",
       "      <td>10</td>\n",
       "      <td>...</td>\n",
       "      <td>0</td>\n",
       "      <td>0</td>\n",
       "      <td>9.0</td>\n",
       "      <td>10</td>\n",
       "      <td>0</td>\n",
       "      <td>0</td>\n",
       "      <td>9.0</td>\n",
       "      <td>10</td>\n",
       "      <td>0</td>\n",
       "      <td>0</td>\n",
       "    </tr>\n",
       "    <tr>\n",
       "      <th>3</th>\n",
       "      <td>9.3</td>\n",
       "      <td>9</td>\n",
       "      <td>0</td>\n",
       "      <td>9</td>\n",
       "      <td>7.1</td>\n",
       "      <td>9</td>\n",
       "      <td>8</td>\n",
       "      <td>8</td>\n",
       "      <td>8.7</td>\n",
       "      <td>9</td>\n",
       "      <td>...</td>\n",
       "      <td>8</td>\n",
       "      <td>6</td>\n",
       "      <td>8.2</td>\n",
       "      <td>9</td>\n",
       "      <td>7</td>\n",
       "      <td>6</td>\n",
       "      <td>8.3</td>\n",
       "      <td>8</td>\n",
       "      <td>8</td>\n",
       "      <td>9</td>\n",
       "    </tr>\n",
       "    <tr>\n",
       "      <th>4</th>\n",
       "      <td>9.3</td>\n",
       "      <td>8</td>\n",
       "      <td>2</td>\n",
       "      <td>3</td>\n",
       "      <td>9.6</td>\n",
       "      <td>6</td>\n",
       "      <td>4</td>\n",
       "      <td>6</td>\n",
       "      <td>8.6</td>\n",
       "      <td>7</td>\n",
       "      <td>...</td>\n",
       "      <td>7</td>\n",
       "      <td>4</td>\n",
       "      <td>9.6</td>\n",
       "      <td>6</td>\n",
       "      <td>4</td>\n",
       "      <td>5</td>\n",
       "      <td>9.4</td>\n",
       "      <td>6</td>\n",
       "      <td>4</td>\n",
       "      <td>5</td>\n",
       "    </tr>\n",
       "  </tbody>\n",
       "</table>\n",
       "<p>5 rows × 96 columns</p>\n",
       "</div>"
      ],
      "text/plain": [
       "   T10  T10_T  T10_F  T10_I  L10  L10_T  L10_F  L10_I  H10  H10_T  ...  \\\n",
       "0  9.3     10      0      0  7.7      8      2      2  8.6      8  ...   \n",
       "1  9.1      9      1      1  7.1      9      2      5  8.0      7  ...   \n",
       "2  9.4      8      2      2  7.6     10      0      0  9.0     10  ...   \n",
       "3  9.3      9      0      9  7.1      9      8      8  8.7      9  ...   \n",
       "4  9.3      8      2      3  9.6      6      4      6  8.6      7  ...   \n",
       "\n",
       "   SU12_F  SU12_I  D12  D12_T  D12_F  D12_I  AV12  AV12_T  AV12_F  AV12_I  \n",
       "0       0       0  8.9     10      0      0   7.8      10       0       0  \n",
       "1       5       4  8.8      7      1      1   7.6       7       6       4  \n",
       "2       0       0  9.0     10      0      0   9.0      10       0       0  \n",
       "3       8       6  8.2      9      7      6   8.3       8       8       9  \n",
       "4       7       4  9.6      6      4      5   9.4       6       4       5  \n",
       "\n",
       "[5 rows x 96 columns]"
      ]
     },
     "execution_count": 1,
     "metadata": {},
     "output_type": "execute_result"
    }
   ],
   "source": [
    "import pandas as pd\n",
    "import numpy as np\n",
    "\n",
    "data = pd.read_csv(\"BGT.csv\") \n",
    "data.head(5)\n",
    "#print(data)"
   ]
  },
  {
   "cell_type": "code",
   "execution_count": 2,
   "metadata": {},
   "outputs": [
    {
     "name": "stdout",
     "output_type": "stream",
     "text": [
      "[8.6 8.  2.  0.  8.9 8.  2.  1.  7.3 6.  4.  1.  9.  7.  3.  3.  8.7 8.\n",
      " 2.  0.  8.7 6.  4.  3.  8.8 7.  3.  3.  8.6 9.  1.  0.  9.2 8.  2.  0.\n",
      " 7.7 6.  4.  2.  7.  7.  3.  2.  8.8 6.  4.  3.  9.2 8.  2.  1.  7.8 6.\n",
      " 5.  4.  9.1 7.  2.  1.  8.2 8.  2.  0.  9.3 8.  2.  0.  7.3 7.  3.  3.\n",
      " 8.4 7.  3.  4.  8.5 7.  3.  3.  8.8 8.  2.  0.  8.4 8.  2.  2.  8.9 7.\n",
      " 3.  2.  8.6 9.  1.  0. ]\n"
     ]
    }
   ],
   "source": [
    "duc = np.array(data[35:36])[0]\n",
    "print(duc)"
   ]
  },
  {
   "cell_type": "code",
   "execution_count": 3,
   "metadata": {},
   "outputs": [
    {
     "name": "stdout",
     "output_type": "stream",
     "text": [
      "[8.6 8.  2.  0. ]\n",
      "[8.9 8.  2.  1. ]\n",
      "[7.3 6.  4.  1. ]\n",
      "[8.26666667 7.33333333 2.66666667 0.66666667]\n",
      "[9.2 8.  2.  0. ]\n",
      "[7.7 6.  4.  2. ]\n",
      "[7. 7. 3. 2.]\n",
      "[7.96666667 7.         3.         1.33333333]\n",
      "[9.3 8.  2.  0. ]\n",
      "[7.3 7.  3.  3. ]\n",
      "[8.4 7.  3.  4. ]\n",
      "[8.33333333 7.33333333 2.66666667 2.33333333]\n"
     ]
    }
   ],
   "source": [
    "T10 = duc[0:4]\n",
    "print(T10)\n",
    "L10 = duc[4:8]\n",
    "print(L10)\n",
    "H10 = duc[8:12]\n",
    "print(H10)\n",
    "A10 = np.mean(np.array([T10,L10,H10]),axis=0)\n",
    "print(A10)\n",
    "\n",
    "T11 = duc[32:36]\n",
    "print(T11)\n",
    "L11 = duc[36:40]\n",
    "print(L11)\n",
    "H11 = duc[40:44]\n",
    "print(H11)\n",
    "A11 = np.mean(np.array([T11,L11,H11]),axis=0)\n",
    "print(A11)\n",
    "\n",
    "T12 = duc[64:68]\n",
    "print(T12)\n",
    "L12 = duc[68:72]\n",
    "print(L12)\n",
    "H12 = duc[72:76]\n",
    "print(H12)\n",
    "A12 = np.mean(np.array([T12,L12,H12]),axis=0)\n",
    "print(A12)\n",
    "\n",
    "A = [A10,A11,A12]"
   ]
  },
  {
   "cell_type": "code",
   "execution_count": 4,
   "metadata": {},
   "outputs": [
    {
     "name": "stdout",
     "output_type": "stream",
     "text": [
      "[8.6 8.  2.  0. ]\n",
      "[8.9 8.  2.  1. ]\n",
      "[8.6 9.  1.  0. ]\n",
      "[8.7        8.33333333 1.66666667 0.33333333]\n",
      "[9.2 8.  2.  0. ]\n",
      "[7.7 6.  4.  2. ]\n",
      "[8.2 8.  2.  0. ]\n",
      "[8.36666667 7.33333333 2.66666667 0.66666667]\n",
      "[9.3 8.  2.  0. ]\n",
      "[7.3 7.  3.  3. ]\n",
      "[8.6 9.  1.  0. ]\n",
      "[8.4 8.  2.  1. ]\n"
     ]
    }
   ],
   "source": [
    "T10 = duc[0:4]\n",
    "print(T10)\n",
    "L10 = duc[4:8]\n",
    "print(L10)\n",
    "A10 = duc[28:32]\n",
    "print(A10)\n",
    "A110 = np.mean(np.array([T10,L10,A10]),axis=0)\n",
    "print(A110)\n",
    "\n",
    "T11 = duc[32:36]\n",
    "print(T11)\n",
    "L11 = duc[36:40]\n",
    "print(L11)\n",
    "A11 = duc[60:64]\n",
    "print(A11)\n",
    "A111 = np.mean(np.array([T11,L11,A11]),axis=0)\n",
    "print(A111)\n",
    "\n",
    "T12 = duc[64:68]\n",
    "print(T12)\n",
    "L12 = duc[68:72]\n",
    "print(L12)\n",
    "A12 = duc[92:96]\n",
    "print(A12)\n",
    "A112 = np.mean(np.array([T12,L12,A12]),axis=0)\n",
    "print(A112)\n",
    "\n",
    "A1 = [A110,A111,A112]"
   ]
  },
  {
   "cell_type": "code",
   "execution_count": 5,
   "metadata": {},
   "outputs": [
    {
     "name": "stdout",
     "output_type": "stream",
     "text": [
      "[8.6 8.  2.  0. ]\n",
      "[7.3 6.  4.  1. ]\n",
      "[9. 7. 3. 3.]\n",
      "[8.6 9.  1.  0. ]\n",
      "[9.2 8.  2.  0. ]\n",
      "[7. 7. 3. 2.]\n",
      "[8.8 6.  4.  3. ]\n",
      "[8.33333333 7.         3.         1.66666667]\n",
      "[9.3 8.  2.  0. ]\n",
      "[8.4 7.  3.  4. ]\n",
      "[8.5 7.  3.  3. ]\n",
      "[8.73333333 7.33333333 2.66666667 2.33333333]\n"
     ]
    }
   ],
   "source": [
    "T10 = duc[0:4]\n",
    "print(T10)\n",
    "H10 = duc[8:12]\n",
    "print(H10)\n",
    "SI10 = duc[12:16]\n",
    "print(SI10)\n",
    "B10 = np.mean(np.array([T10,H10,SI10]),axis=0)\n",
    "print(A10)\n",
    "\n",
    "T11 = duc[32:36]\n",
    "print(T11)\n",
    "H11 = duc[40:44]\n",
    "print(H11)\n",
    "SI11 = duc[44:48]\n",
    "print(SI11)\n",
    "B11 = np.mean(np.array([T11,H11,SI11]),axis=0)\n",
    "print(B11)\n",
    "\n",
    "T12 = duc[64:68]\n",
    "print(T12)\n",
    "H12 = duc[72:76]\n",
    "print(H12)\n",
    "SI12 = duc[76:80]\n",
    "print(SI12)\n",
    "B12 = np.mean(np.array([T12,H12,SI12]),axis=0)\n",
    "print(B12)\n",
    "\n",
    "B = [B10,B11,B12]"
   ]
  },
  {
   "cell_type": "code",
   "execution_count": 6,
   "metadata": {},
   "outputs": [
    {
     "name": "stdout",
     "output_type": "stream",
     "text": [
      "[8.7 8.  2.  0. ]\n",
      "[8.7 6.  4.  3. ]\n",
      "[8.8 7.  3.  3. ]\n",
      "[8.6 9.  1.  0. ]\n",
      "[9.2 8.  2.  1. ]\n",
      "[7.8 6.  5.  4. ]\n",
      "[9.1 7.  2.  1. ]\n",
      "[8.33333333 7.         3.         1.66666667]\n",
      "[8.8 8.  2.  0. ]\n",
      "[8.4 8.  2.  2. ]\n",
      "[8.9 7.  3.  2. ]\n",
      "[8.73333333 7.33333333 2.66666667 2.33333333]\n"
     ]
    }
   ],
   "source": [
    "V10 = duc[16:20]\n",
    "print(V10)\n",
    "SU10 = duc[20:24]\n",
    "print(SU10)\n",
    "D10 = duc[24:28]\n",
    "print(D10)\n",
    "C10 = np.mean(np.array([V10,SU10,D10]),axis=0)\n",
    "print(A10)\n",
    "\n",
    "V11 = duc[48:52]\n",
    "print(V11)\n",
    "SU11 = duc[52:56]\n",
    "print(SU11)\n",
    "D11 = duc[56:60]\n",
    "print(D11)\n",
    "C11 = np.mean(np.array([V11,SU11,D11]),axis=0)\n",
    "print(B11)\n",
    "\n",
    "V12 = duc[80:84]\n",
    "print(V12)\n",
    "SU12 = duc[84:88]\n",
    "print(SU12)\n",
    "D12 = duc[88:92]\n",
    "print(D12)\n",
    "C12 = np.mean(np.array([V12,SU12,D12]),axis=0)\n",
    "print(B12)\n",
    "\n",
    "C = [C10,C11,C12]"
   ]
  },
  {
   "cell_type": "code",
   "execution_count": 7,
   "metadata": {},
   "outputs": [
    {
     "name": "stdout",
     "output_type": "stream",
     "text": [
      "[8.6 8.  2.  0. ]\n",
      "[8.7 8.  2.  0. ]\n",
      "[8.6 9.  1.  0. ]\n",
      "[8.63333333 8.33333333 1.66666667 0.        ]\n",
      "[9.2 8.  2.  0. ]\n",
      "[9.2 8.  2.  1. ]\n",
      "[8.2 8.  2.  0. ]\n",
      "[8.86666667 8.         2.         0.33333333]\n",
      "[9.3 8.  2.  0. ]\n",
      "[8.8 8.  2.  0. ]\n",
      "[8.6 9.  1.  0. ]\n",
      "[8.9        8.33333333 1.66666667 0.        ]\n"
     ]
    }
   ],
   "source": [
    "T10 = duc[0:4]\n",
    "print(T10)\n",
    "V10 = duc[16:20]\n",
    "print(V10)\n",
    "A10 = duc[28:32]\n",
    "print(A10)\n",
    "DD10 = np.mean(np.array([T10,V10,A10]),axis=0)\n",
    "print(DD10)\n",
    "\n",
    "T11 = duc[32:36]\n",
    "print(T11)\n",
    "V11 = duc[48:52]\n",
    "print(V11)\n",
    "A11 = duc[60:64]\n",
    "print(A11)\n",
    "DD11 = np.mean(np.array([T11,V11,A11]),axis=0)\n",
    "print(DD11)\n",
    "\n",
    "T12 = duc[64:68]\n",
    "print(T12)\n",
    "V12 = duc[80:84]\n",
    "print(V12)\n",
    "A12 = duc[92:96]\n",
    "print(A12)\n",
    "DD12 = np.mean(np.array([T12,V12,A12]),axis=0)\n",
    "print(DD12)\n",
    "\n",
    "D = [DD10,DD11,DD12]"
   ]
  },
  {
   "cell_type": "code",
   "execution_count": 8,
   "metadata": {},
   "outputs": [
    {
     "name": "stdout",
     "output_type": "stream",
     "text": [
      "[[[0.82666667 0.24444444 0.02222222 0.08888889]\n",
      "  [0.79666667 0.23333333 0.04444444 0.1       ]\n",
      "  [0.83333333 0.24444444 0.07777778 0.08888889]]\n",
      "\n",
      " [[0.87       0.27777778 0.01111111 0.05555556]\n",
      "  [0.83666667 0.24444444 0.02222222 0.08888889]\n",
      "  [0.84       0.26666667 0.03333333 0.06666667]]\n",
      "\n",
      " [[0.83       0.23333333 0.04444444 0.1       ]\n",
      "  [0.83333333 0.23333333 0.05555556 0.1       ]\n",
      "  [0.87333333 0.24444444 0.07777778 0.08888889]]\n",
      "\n",
      " [[0.87333333 0.23333333 0.06666667 0.1       ]\n",
      "  [0.87       0.23333333 0.06666667 0.1       ]\n",
      "  [0.87       0.25555556 0.04444444 0.07777778]]\n",
      "\n",
      " [[0.86333333 0.27777778 0.         0.05555556]\n",
      "  [0.88666667 0.26666667 0.01111111 0.06666667]\n",
      "  [0.89       0.27777778 0.         0.05555556]]]\n"
     ]
    }
   ],
   "source": [
    "from dm import *\n",
    "from im import *\n",
    "\n",
    "def change(A):\n",
    "    Aok = []\n",
    "    for i in range(3):\n",
    "        temp = []\n",
    "        for j in range(4):\n",
    "            if j == 0:\n",
    "                temp.append(A[i][j]/10)\n",
    "            if j == 1:\n",
    "                temp.append(A[i][j]/30)\n",
    "            if j == 2:\n",
    "                temp.append(A[i][j+1]/30)\n",
    "            if j == 3:\n",
    "                temp.append(A[i][j-1]/30)\n",
    "        Aok.append(temp)\n",
    "    return(Aok)\n",
    "\n",
    "matrix = np.array([change(A),change(A1),change(B),change(C),change(D)])\n",
    "print(matrix)\n",
    "\n",
    "def rtc(A):\n",
    "    rtc = []\n",
    "    for i in range(3):\n",
    "        temp = []\n",
    "        for j in range(5):\n",
    "            temp.append(A[j][i])\n",
    "        rtc.append(temp)\n",
    "    return np.array(rtc)\n",
    "matric = rtc(matrix)"
   ]
  },
  {
   "cell_type": "code",
   "execution_count": 9,
   "metadata": {},
   "outputs": [
    {
     "name": "stdout",
     "output_type": "stream",
     "text": [
      "[[[0.82666667 0.24444444 0.02222222 0.08888889]\n",
      "  [0.87       0.27777778 0.01111111 0.05555556]\n",
      "  [0.83       0.23333333 0.04444444 0.1       ]\n",
      "  [0.87333333 0.23333333 0.06666667 0.1       ]\n",
      "  [0.86333333 0.27777778 0.         0.05555556]]\n",
      "\n",
      " [[0.79666667 0.23333333 0.04444444 0.1       ]\n",
      "  [0.83666667 0.24444444 0.02222222 0.08888889]\n",
      "  [0.83333333 0.23333333 0.05555556 0.1       ]\n",
      "  [0.87       0.23333333 0.06666667 0.1       ]\n",
      "  [0.88666667 0.26666667 0.01111111 0.06666667]]\n",
      "\n",
      " [[0.83333333 0.24444444 0.07777778 0.08888889]\n",
      "  [0.84       0.26666667 0.03333333 0.06666667]\n",
      "  [0.87333333 0.24444444 0.07777778 0.08888889]\n",
      "  [0.87       0.25555556 0.04444444 0.07777778]\n",
      "  [0.89       0.27777778 0.         0.05555556]]]\n"
     ]
    }
   ],
   "source": [
    "cost = []\n",
    "mat = rnf(matric,cost)\n",
    "print(np.array(mat))"
   ]
  },
  {
   "cell_type": "code",
   "execution_count": 10,
   "metadata": {},
   "outputs": [
    {
     "name": "stdout",
     "output_type": "stream",
     "text": [
      "[0.40515522 0.4240045  0.41353494]\n",
      "[0.25477778 0.26433333 0.25933333]\n",
      "[0.32731883 0.33818171 0.33243784]\n",
      "[0.19664749 0.20461258 0.20047524]\n",
      "[0.16896736 0.17624653 0.17248595]\n",
      "[0.07929847 0.08545627 0.08238158]\n",
      "[0.38948843 0.40317461 0.39595237]\n",
      "[0.33709018 0.34773479 0.34208759]\n",
      "[0.20284813 0.21069934 0.2066076 ]\n",
      "[0.15790254 0.16204766 0.16032549]\n",
      "[0.14607833 0.15245837 0.1491682 ]\n",
      "[0.03945807 0.03798649 0.03972784]\n",
      "[0.03085977 0.03115878 0.03118391]\n"
     ]
    }
   ],
   "source": [
    "for i in range(13):\n",
    "    print(np.array(ej(mat,i)))"
   ]
  },
  {
   "cell_type": "code",
   "execution_count": 11,
   "metadata": {},
   "outputs": [
    {
     "name": "stdout",
     "output_type": "stream",
     "text": [
      "[0.00119025 0.00114559 0.00108648]\n",
      "[0.02833333 0.02583333 0.02622222]\n",
      "[0.02061333 0.01878065 0.01906484]\n",
      "[0.04020053 0.03670632 0.03725353]\n",
      "[0.04407284 0.04024296 0.04084272]\n",
      "[0.04448342 0.04056068 0.04117081]\n",
      "[0.00118335 0.00098568 0.00101022]\n",
      "[0.02225857 0.02029401 0.02059963]\n",
      "[0.04336557 0.03962808 0.04021577]\n",
      "[      nan 0.2006354       nan]\n",
      "[0.08829832 0.08072705 0.08059643]\n",
      "[       nan 0.30364063        nan]\n",
      "[0.07788472 0.10240239 0.07673358]\n"
     ]
    },
    {
     "name": "stderr",
     "output_type": "stream",
     "text": [
      "/Users/quangthinhbui/Desktop/coding/im.py:53: RuntimeWarning: invalid value encountered in double_scalars\n",
      "  t = [min(a[i],b[i])/max(a[i],b[i]) for i in range(4)]\n",
      "/Users/quangthinhbui/Desktop/coding/im.py:64: RuntimeWarning: invalid value encountered in double_scalars\n",
      "  t = [min(a[i]**2,b[i]**2)/max(a[i]**2,b[i]**2) for i in range(4)]\n"
     ]
    }
   ],
   "source": [
    "for i in range(13):\n",
    "    print(np.array(cj(mat,i)))"
   ]
  },
  {
   "cell_type": "code",
   "execution_count": 12,
   "metadata": {},
   "outputs": [
    {
     "name": "stdout",
     "output_type": "stream",
     "text": [
      "[0.68958621 0.71415462 0.69173559 0.69992958 0.7328776 ]\n",
      "[0.7297715  0.75488843 0.73176268 0.73999918 0.77278286]\n",
      "[0.69615714 0.71957219 0.69797481 0.70560285 0.73659484]\n",
      "[0.75769868 0.78375575 0.75979496 0.76838947 0.80197115]\n",
      "[0.77594061 0.80228066 0.7780829  0.78680532 0.8204571 ]\n",
      "[0.86879848 0.89485029 0.871063   0.87986649 0.91166808]\n",
      "[0.68874851 0.71164885 0.6905225  0.69796844 0.7284002 ]\n",
      "[0.68875515 0.71167815 0.69052515 0.69798363 0.7284025 ]\n",
      "[0.7497041  0.77560446 0.75177411 0.76030304 0.79379796]\n",
      "[nan nan nan nan nan]\n",
      "[0.91505412 0.94696984 0.90873979 0.91366367 0.96556808]\n",
      "[nan nan nan nan nan]\n",
      "[0.9885512  0.99478188 0.98790867 0.98933449 0.99704097]\n"
     ]
    }
   ],
   "source": [
    "visual = []\n",
    "for i in range(13):\n",
    "    print(np.array(S(mat,i)))\n",
    "    visual.append(S(mat,i))"
   ]
  },
  {
   "cell_type": "code",
   "execution_count": 13,
   "metadata": {},
   "outputs": [
    {
     "name": "stdout",
     "output_type": "stream",
     "text": [
      "[0.84102426 0.85341787 0.84148708 0.84505569 0.86023238]\n",
      "[0.7297715  0.75488843 0.73176268 0.73999918 0.77278286]\n",
      "[0.79057406 0.81135825 0.79223811 0.79907407 0.82601388]\n",
      "[0.65493185 0.68377701 0.65718197 0.66660005 0.70461477]\n",
      "[0.62542149 0.65617235 0.62781131 0.63784095 0.67846637]\n",
      "[0.58816619 0.62444941 0.59101605 0.60287546 0.65061936]\n",
      "[0.91120228 0.92665655 0.91252135 0.91769113 0.93696593]\n",
      "[0.7845167  0.80506983 0.78615249 0.79290277 0.81962494]\n",
      "[0.64546541 0.6738186  0.64766402 0.65690821 0.6943847 ]\n",
      "[nan nan nan nan nan]\n",
      "[0.4951025  0.53160244 0.5021831  0.51677417 0.55942949]\n",
      "[nan nan nan nan nan]\n",
      "[0.36217896 0.39386172 0.3831866  0.40593155 0.42410518]\n"
     ]
    }
   ],
   "source": [
    "for i in range(13):\n",
    "    print(np.array(Spos(mat,i)))"
   ]
  },
  {
   "cell_type": "code",
   "execution_count": 14,
   "metadata": {},
   "outputs": [
    {
     "name": "stdout",
     "output_type": "stream",
     "text": [
      "[0.37858286 0.34158647 0.37499953 0.36228818 0.31354122]\n",
      "[0.2702285  0.24511157 0.26823732 0.26000082 0.22721714]\n",
      "[0.34505181 0.31619818 0.34281448 0.33339594 0.29538126]\n",
      "[0.20943794 0.18865934 0.2077645  0.20092882 0.17398887]\n",
      "[0.18059573 0.16171144 0.17905812 0.17283093 0.14847068]\n",
      "[0.08882186 0.07337616 0.08748372 0.08231425 0.06303879]\n",
      "[0.41178029 0.37546957 0.40897267 0.39711206 0.34936805]\n",
      "[0.354519   0.32615757 0.35233246 0.34308773 0.30561136]\n",
      "[0.21549481 0.19494716 0.21385011 0.20710018 0.18037782]\n",
      "[nan nan nan nan nan]\n",
      "[0.04596112 0.02976965 0.05043174 0.0488324  0.01994911]\n",
      "[nan nan nan nan nan]\n",
      "[0.00419454 0.002066   0.00468994 0.00437614 0.00125866]\n"
     ]
    }
   ],
   "source": [
    "for i in range(13):\n",
    "    print(np.array(Sneg(mat,i)))"
   ]
  },
  {
   "cell_type": "code",
   "execution_count": 15,
   "metadata": {},
   "outputs": [
    {
     "name": "stdout",
     "output_type": "stream",
     "text": [
      "[0.68958621 0.71415462 0.69173559 0.69992958 0.7328776 ]\n",
      "[0.7297715  0.75488843 0.73176268 0.73999918 0.77278286]\n",
      "[0.69615714 0.71957219 0.69797481 0.70560285 0.73659484]\n",
      "[0.75769868 0.78375575 0.75979496 0.76838947 0.80197115]\n",
      "[0.77594061 0.80228066 0.7780829  0.78680532 0.8204571 ]\n",
      "[0.86879848 0.89485029 0.871063   0.87986649 0.91166808]\n",
      "[0.68874851 0.71164885 0.6905225  0.69796844 0.7284002 ]\n",
      "[0.68875515 0.71167815 0.69052515 0.69798363 0.7284025 ]\n",
      "[0.7497041  0.77560446 0.75177411 0.76030304 0.79379796]\n",
      "[nan nan nan nan nan]\n",
      "[0.91505412 0.94696984 0.90873979 0.91366367 0.96556808]\n",
      "[nan nan nan nan nan]\n",
      "[0.9885512  0.99478188 0.98790867 0.98933449 0.99704097]\n"
     ]
    }
   ],
   "source": [
    "for i in range(13):\n",
    "    print(np.array(S(mat,i)))"
   ]
  },
  {
   "cell_type": "code",
   "execution_count": 16,
   "metadata": {},
   "outputs": [
    {
     "name": "stdout",
     "output_type": "stream",
     "text": [
      "Similarity no. 1 : [1 3 4 2 5]\n",
      "Similarity no. 2 : [1 3 4 2 5]\n",
      "Similarity no. 3 : [1 3 4 2 5]\n",
      "Similarity no. 4 : [1 3 4 2 5]\n",
      "Similarity no. 5 : [1 3 4 2 5]\n",
      "Similarity no. 6 : [1 3 4 2 5]\n",
      "Similarity no. 7 : [1 3 4 2 5]\n",
      "Similarity no. 8 : [1 3 4 2 5]\n",
      "Similarity no. 9 : [1 3 4 2 5]\n",
      "Similarity no. 10 : [1 2 3 4 5]\n",
      "Similarity no. 11 : [3 4 1 2 5]\n",
      "Similarity no. 12 : [1 2 3 4 5]\n",
      "Similarity no. 13 : [3 1 4 2 5]\n"
     ]
    }
   ],
   "source": [
    "for i in range(13):\n",
    "    print(\"Similarity no.\",i+1,\":\",np.array(rank(mat,i)))"
   ]
  },
  {
   "cell_type": "code",
   "execution_count": 17,
   "metadata": {},
   "outputs": [
    {
     "name": "stdout",
     "output_type": "stream",
     "text": [
      "Similarity no. 1 : 5\n",
      "Similarity no. 2 : 5\n",
      "Similarity no. 3 : 5\n",
      "Similarity no. 4 : 5\n",
      "Similarity no. 5 : 5\n",
      "Similarity no. 6 : 5\n",
      "Similarity no. 7 : 5\n",
      "Similarity no. 8 : 5\n",
      "Similarity no. 9 : 5\n",
      "Similarity no. 10 : 5\n",
      "Similarity no. 11 : 5\n",
      "Similarity no. 12 : 5\n",
      "Similarity no. 13 : 5\n"
     ]
    }
   ],
   "source": [
    " for i in range(13):\n",
    "    print(\"Similarity no.\",i+1,\":\",alt(mat,i))"
   ]
  },
  {
   "cell_type": "code",
   "execution_count": 18,
   "metadata": {},
   "outputs": [
    {
     "name": "stderr",
     "output_type": "stream",
     "text": [
      "The PostScript backend does not support transparency; partially transparent artists will be rendered opaque.\n",
      "The PostScript backend does not support transparency; partially transparent artists will be rendered opaque.\n"
     ]
    },
    {
     "data": {
      "image/png": "[encoded data removed]",
      "text/plain": [
       "<Figure size 720x324 with 1 Axes>"
      ]
     },
     "metadata": {
      "needs_background": "light"
     },
     "output_type": "display_data"
    }
   ],
   "source": [
    "import matplotlib.pyplot as plt\n",
    "xaxis = [1,2,3,4,5,6,7,8,9,10,11,12,13]\n",
    "plt.plot(xaxis,[visual[i][0] for i in range(13)],\n",
    "         'go-', color='blue', label='A', marker='o')\n",
    "plt.plot(xaxis,[visual[i][1] for i in range(13)],\n",
    "         'go-', color='green', label='A1', marker='o')\n",
    "plt.plot(xaxis,[visual[i][2] for i in range(13)],\n",
    "         'go-', color='red', label='B', marker='o')\n",
    "plt.plot(xaxis,[visual[i][3] for i in range(13)],\n",
    "         'go-', color='cyan', label='C', marker='o')\n",
    "plt.plot(xaxis,[visual[i][4] for i in range(13)],\n",
    "         'go-', color='magenta', label='D', marker='o')\n",
    "plt.xticks(xaxis,[\"IM1\",\"IM2\",\"IM3\",\"IM4\",\"IM5\",\"IM6\",\"IM7\",\"IM8\",\"IM9\",\"IM10\",\"IM11\",\"IM12\",\"IM13\"])\n",
    "plt.xlabel(\"Information Measures\")\n",
    "plt.ylabel(\"Combination Scores\")\n",
    "plt.title(\"The visualization of combination scores Si and rank of combinations \\n using information measures IMi\")\n",
    "figure = plt.gcf()\n",
    "figure.set_size_inches(10,4.5)\n",
    "plt.legend(loc='upper center', ncol=5)\n",
    "plt.savefig('decision making.eps', format='eps')\n",
    "plt.show()"
   ]
  },
  {
   "cell_type": "code",
   "execution_count": null,
   "metadata": {},
   "outputs": [],
   "source": [
    "# 8.8\t8.5\t9\tLý\t5\tHóa\t6.5\tSinh\t4.25\n",
    "# Khối A: 20.3đ. Khối A1: 22.8đ. Khối B: 19.55đ. Khối D: 26.3đ"
   ]
  }
 ],
 "metadata": {
  "kernelspec": {
   "display_name": "Python 3",
   "language": "python",
   "name": "python3"
  },
  "language_info": {
   "codemirror_mode": {
    "name": "ipython",
    "version": 3
   },
   "file_extension": ".py",
   "mimetype": "text/x-python",
   "name": "python",
   "nbconvert_exporter": "python",
   "pygments_lexer": "ipython3",
   "version": "3.8.8"
  }
 },
 "nbformat": 4,
 "nbformat_minor": 4
}

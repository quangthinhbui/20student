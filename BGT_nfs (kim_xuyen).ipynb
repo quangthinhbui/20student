{
 "cells": [
  {
   "cell_type": "code",
   "execution_count": 1,
   "metadata": {},
   "outputs": [
    {
     "data": {
      "text/html": [
       "<div>\n",
       "<style scoped>\n",
       "    .dataframe tbody tr th:only-of-type {\n",
       "        vertical-align: middle;\n",
       "    }\n",
       "\n",
       "    .dataframe tbody tr th {\n",
       "        vertical-align: top;\n",
       "    }\n",
       "\n",
       "    .dataframe thead th {\n",
       "        text-align: right;\n",
       "    }\n",
       "</style>\n",
       "<table border=\"1\" class=\"dataframe\">\n",
       "  <thead>\n",
       "    <tr style=\"text-align: right;\">\n",
       "      <th></th>\n",
       "      <th>T10</th>\n",
       "      <th>T10_T</th>\n",
       "      <th>T10_F</th>\n",
       "      <th>T10_I</th>\n",
       "      <th>L10</th>\n",
       "      <th>L10_T</th>\n",
       "      <th>L10_F</th>\n",
       "      <th>L10_I</th>\n",
       "      <th>H10</th>\n",
       "      <th>H10_T</th>\n",
       "      <th>...</th>\n",
       "      <th>SU12_F</th>\n",
       "      <th>SU12_I</th>\n",
       "      <th>D12</th>\n",
       "      <th>D12_T</th>\n",
       "      <th>D12_F</th>\n",
       "      <th>D12_I</th>\n",
       "      <th>AV12</th>\n",
       "      <th>AV12_T</th>\n",
       "      <th>AV12_F</th>\n",
       "      <th>AV12_I</th>\n",
       "    </tr>\n",
       "  </thead>\n",
       "  <tbody>\n",
       "    <tr>\n",
       "      <th>0</th>\n",
       "      <td>9.3</td>\n",
       "      <td>10</td>\n",
       "      <td>0</td>\n",
       "      <td>0</td>\n",
       "      <td>7.7</td>\n",
       "      <td>8</td>\n",
       "      <td>2</td>\n",
       "      <td>2</td>\n",
       "      <td>8.6</td>\n",
       "      <td>8</td>\n",
       "      <td>...</td>\n",
       "      <td>0</td>\n",
       "      <td>0</td>\n",
       "      <td>8.9</td>\n",
       "      <td>10</td>\n",
       "      <td>0</td>\n",
       "      <td>0</td>\n",
       "      <td>7.8</td>\n",
       "      <td>10</td>\n",
       "      <td>0</td>\n",
       "      <td>0</td>\n",
       "    </tr>\n",
       "    <tr>\n",
       "      <th>1</th>\n",
       "      <td>9.1</td>\n",
       "      <td>9</td>\n",
       "      <td>1</td>\n",
       "      <td>1</td>\n",
       "      <td>7.1</td>\n",
       "      <td>9</td>\n",
       "      <td>2</td>\n",
       "      <td>5</td>\n",
       "      <td>8.0</td>\n",
       "      <td>7</td>\n",
       "      <td>...</td>\n",
       "      <td>5</td>\n",
       "      <td>4</td>\n",
       "      <td>8.8</td>\n",
       "      <td>7</td>\n",
       "      <td>1</td>\n",
       "      <td>1</td>\n",
       "      <td>7.6</td>\n",
       "      <td>7</td>\n",
       "      <td>6</td>\n",
       "      <td>4</td>\n",
       "    </tr>\n",
       "    <tr>\n",
       "      <th>2</th>\n",
       "      <td>9.4</td>\n",
       "      <td>8</td>\n",
       "      <td>2</td>\n",
       "      <td>2</td>\n",
       "      <td>7.6</td>\n",
       "      <td>10</td>\n",
       "      <td>0</td>\n",
       "      <td>0</td>\n",
       "      <td>9.0</td>\n",
       "      <td>10</td>\n",
       "      <td>...</td>\n",
       "      <td>0</td>\n",
       "      <td>0</td>\n",
       "      <td>9.0</td>\n",
       "      <td>10</td>\n",
       "      <td>0</td>\n",
       "      <td>0</td>\n",
       "      <td>9.0</td>\n",
       "      <td>10</td>\n",
       "      <td>0</td>\n",
       "      <td>0</td>\n",
       "    </tr>\n",
       "    <tr>\n",
       "      <th>3</th>\n",
       "      <td>9.3</td>\n",
       "      <td>9</td>\n",
       "      <td>0</td>\n",
       "      <td>9</td>\n",
       "      <td>7.1</td>\n",
       "      <td>9</td>\n",
       "      <td>8</td>\n",
       "      <td>8</td>\n",
       "      <td>8.7</td>\n",
       "      <td>9</td>\n",
       "      <td>...</td>\n",
       "      <td>8</td>\n",
       "      <td>6</td>\n",
       "      <td>8.2</td>\n",
       "      <td>9</td>\n",
       "      <td>7</td>\n",
       "      <td>6</td>\n",
       "      <td>8.3</td>\n",
       "      <td>8</td>\n",
       "      <td>8</td>\n",
       "      <td>9</td>\n",
       "    </tr>\n",
       "    <tr>\n",
       "      <th>4</th>\n",
       "      <td>9.3</td>\n",
       "      <td>8</td>\n",
       "      <td>2</td>\n",
       "      <td>3</td>\n",
       "      <td>9.6</td>\n",
       "      <td>6</td>\n",
       "      <td>4</td>\n",
       "      <td>6</td>\n",
       "      <td>8.6</td>\n",
       "      <td>7</td>\n",
       "      <td>...</td>\n",
       "      <td>7</td>\n",
       "      <td>4</td>\n",
       "      <td>9.6</td>\n",
       "      <td>6</td>\n",
       "      <td>4</td>\n",
       "      <td>5</td>\n",
       "      <td>9.4</td>\n",
       "      <td>6</td>\n",
       "      <td>4</td>\n",
       "      <td>5</td>\n",
       "    </tr>\n",
       "  </tbody>\n",
       "</table>\n",
       "<p>5 rows × 96 columns</p>\n",
       "</div>"
      ],
      "text/plain": [
       "   T10  T10_T  T10_F  T10_I  L10  L10_T  L10_F  L10_I  H10  H10_T  ...  \\\n",
       "0  9.3     10      0      0  7.7      8      2      2  8.6      8  ...   \n",
       "1  9.1      9      1      1  7.1      9      2      5  8.0      7  ...   \n",
       "2  9.4      8      2      2  7.6     10      0      0  9.0     10  ...   \n",
       "3  9.3      9      0      9  7.1      9      8      8  8.7      9  ...   \n",
       "4  9.3      8      2      3  9.6      6      4      6  8.6      7  ...   \n",
       "\n",
       "   SU12_F  SU12_I  D12  D12_T  D12_F  D12_I  AV12  AV12_T  AV12_F  AV12_I  \n",
       "0       0       0  8.9     10      0      0   7.8      10       0       0  \n",
       "1       5       4  8.8      7      1      1   7.6       7       6       4  \n",
       "2       0       0  9.0     10      0      0   9.0      10       0       0  \n",
       "3       8       6  8.2      9      7      6   8.3       8       8       9  \n",
       "4       7       4  9.6      6      4      5   9.4       6       4       5  \n",
       "\n",
       "[5 rows x 96 columns]"
      ]
     },
     "execution_count": 1,
     "metadata": {},
     "output_type": "execute_result"
    }
   ],
   "source": [
    "import pandas as pd\n",
    "import numpy as np\n",
    "\n",
    "data = pd.read_csv(\"BGT.csv\") \n",
    "data.head(5)\n",
    "#print(data)"
   ]
  },
  {
   "cell_type": "code",
   "execution_count": 2,
   "metadata": {},
   "outputs": [
    {
     "name": "stdout",
     "output_type": "stream",
     "text": [
      "[ 9.3  9.   0.  10.   8.1  9.   2.   2.   8.9 10.   0.   0.   9.1  8.\n",
      "  2.   9.   8.8  8.   1.   1.   7.6  8.   2.   7.   8.8 10.   0.   0.\n",
      "  6.7  9.   1.   9.   9.5  9.   1.   1.   9.4  9.   1.   1.   9.1  8.\n",
      "  2.   3.   8.4  9.   0.   1.   7.9  9.   0.   1.   8.8  8.   2.   8.\n",
      "  8.8  9.   1.   8.   7.1  7.   3.   8.   9.4 10.   0.   0.   8.8  8.\n",
      "  3.   8.   8.2  8.   3.   7.   9.   8.   4.   8.   8.3  8.   3.   7.\n",
      "  9.3  8.   3.   5.   9.   8.   2.   3.   7.5  7.   3.   7. ]\n"
     ]
    }
   ],
   "source": [
    "duc = np.array(data[13:14])[0]\n",
    "print(duc)"
   ]
  },
  {
   "cell_type": "code",
   "execution_count": 3,
   "metadata": {},
   "outputs": [
    {
     "name": "stdout",
     "output_type": "stream",
     "text": [
      "[ 9.3  9.   0.  10. ]\n",
      "[8.1 9.  2.  2. ]\n",
      "[ 8.9 10.   0.   0. ]\n",
      "[8.76666667 9.33333333 0.66666667 4.        ]\n",
      "[9.5 9.  1.  1. ]\n",
      "[9.4 9.  1.  1. ]\n",
      "[9.1 8.  2.  3. ]\n",
      "[9.33333333 8.66666667 1.33333333 1.66666667]\n",
      "[ 9.4 10.   0.   0. ]\n",
      "[8.8 8.  3.  8. ]\n",
      "[8.2 8.  3.  7. ]\n",
      "[8.8        8.66666667 2.         5.        ]\n"
     ]
    }
   ],
   "source": [
    "T10 = duc[0:4]\n",
    "print(T10)\n",
    "L10 = duc[4:8]\n",
    "print(L10)\n",
    "H10 = duc[8:12]\n",
    "print(H10)\n",
    "A10 = np.mean(np.array([T10,L10,H10]),axis=0)\n",
    "print(A10)\n",
    "\n",
    "T11 = duc[32:36]\n",
    "print(T11)\n",
    "L11 = duc[36:40]\n",
    "print(L11)\n",
    "H11 = duc[40:44]\n",
    "print(H11)\n",
    "A11 = np.mean(np.array([T11,L11,H11]),axis=0)\n",
    "print(A11)\n",
    "\n",
    "T12 = duc[64:68]\n",
    "print(T12)\n",
    "L12 = duc[68:72]\n",
    "print(L12)\n",
    "H12 = duc[72:76]\n",
    "print(H12)\n",
    "A12 = np.mean(np.array([T12,L12,H12]),axis=0)\n",
    "print(A12)\n",
    "\n",
    "A = [A10,A11,A12]"
   ]
  },
  {
   "cell_type": "code",
   "execution_count": 4,
   "metadata": {},
   "outputs": [
    {
     "name": "stdout",
     "output_type": "stream",
     "text": [
      "[ 9.3  9.   0.  10. ]\n",
      "[8.1 9.  2.  2. ]\n",
      "[6.7 9.  1.  9. ]\n",
      "[8.03333333 9.         1.         7.        ]\n",
      "[9.5 9.  1.  1. ]\n",
      "[9.4 9.  1.  1. ]\n",
      "[7.1 7.  3.  8. ]\n",
      "[8.66666667 8.33333333 1.66666667 3.33333333]\n",
      "[ 9.4 10.   0.   0. ]\n",
      "[8.8 8.  3.  8. ]\n",
      "[7.5 7.  3.  7. ]\n",
      "[8.56666667 8.33333333 2.         5.        ]\n"
     ]
    }
   ],
   "source": [
    "T10 = duc[0:4]\n",
    "print(T10)\n",
    "L10 = duc[4:8]\n",
    "print(L10)\n",
    "A10 = duc[28:32]\n",
    "print(A10)\n",
    "A110 = np.mean(np.array([T10,L10,A10]),axis=0)\n",
    "print(A110)\n",
    "\n",
    "T11 = duc[32:36]\n",
    "print(T11)\n",
    "L11 = duc[36:40]\n",
    "print(L11)\n",
    "A11 = duc[60:64]\n",
    "print(A11)\n",
    "A111 = np.mean(np.array([T11,L11,A11]),axis=0)\n",
    "print(A111)\n",
    "\n",
    "T12 = duc[64:68]\n",
    "print(T12)\n",
    "L12 = duc[68:72]\n",
    "print(L12)\n",
    "A12 = duc[92:96]\n",
    "print(A12)\n",
    "A112 = np.mean(np.array([T12,L12,A12]),axis=0)\n",
    "print(A112)\n",
    "\n",
    "A1 = [A110,A111,A112]"
   ]
  },
  {
   "cell_type": "code",
   "execution_count": 5,
   "metadata": {},
   "outputs": [
    {
     "name": "stdout",
     "output_type": "stream",
     "text": [
      "[ 9.3  9.   0.  10. ]\n",
      "[ 8.9 10.   0.   0. ]\n",
      "[9.1 8.  2.  9. ]\n",
      "[6.7 9.  1.  9. ]\n",
      "[9.5 9.  1.  1. ]\n",
      "[9.1 8.  2.  3. ]\n",
      "[8.4 9.  0.  1. ]\n",
      "[9.         8.66666667 1.         1.66666667]\n",
      "[ 9.4 10.   0.   0. ]\n",
      "[8.2 8.  3.  7. ]\n",
      "[9. 8. 4. 8.]\n",
      "[8.86666667 8.66666667 2.33333333 5.        ]\n"
     ]
    }
   ],
   "source": [
    "T10 = duc[0:4]\n",
    "print(T10)\n",
    "H10 = duc[8:12]\n",
    "print(H10)\n",
    "SI10 = duc[12:16]\n",
    "print(SI10)\n",
    "B10 = np.mean(np.array([T10,H10,SI10]),axis=0)\n",
    "print(A10)\n",
    "\n",
    "T11 = duc[32:36]\n",
    "print(T11)\n",
    "H11 = duc[40:44]\n",
    "print(H11)\n",
    "SI11 = duc[44:48]\n",
    "print(SI11)\n",
    "B11 = np.mean(np.array([T11,H11,SI11]),axis=0)\n",
    "print(B11)\n",
    "\n",
    "T12 = duc[64:68]\n",
    "print(T12)\n",
    "H12 = duc[72:76]\n",
    "print(H12)\n",
    "SI12 = duc[76:80]\n",
    "print(SI12)\n",
    "B12 = np.mean(np.array([T12,H12,SI12]),axis=0)\n",
    "print(B12)\n",
    "\n",
    "B = [B10,B11,B12]"
   ]
  },
  {
   "cell_type": "code",
   "execution_count": 6,
   "metadata": {},
   "outputs": [
    {
     "name": "stdout",
     "output_type": "stream",
     "text": [
      "[8.8 8.  1.  1. ]\n",
      "[7.6 8.  2.  7. ]\n",
      "[ 8.8 10.   0.   0. ]\n",
      "[6.7 9.  1.  9. ]\n",
      "[7.9 9.  0.  1. ]\n",
      "[8.8 8.  2.  8. ]\n",
      "[8.8 9.  1.  8. ]\n",
      "[9.         8.66666667 1.         1.66666667]\n",
      "[8.3 8.  3.  7. ]\n",
      "[9.3 8.  3.  5. ]\n",
      "[9. 8. 2. 3.]\n",
      "[8.86666667 8.66666667 2.33333333 5.        ]\n"
     ]
    }
   ],
   "source": [
    "V10 = duc[16:20]\n",
    "print(V10)\n",
    "SU10 = duc[20:24]\n",
    "print(SU10)\n",
    "D10 = duc[24:28]\n",
    "print(D10)\n",
    "C10 = np.mean(np.array([V10,SU10,D10]),axis=0)\n",
    "print(A10)\n",
    "\n",
    "V11 = duc[48:52]\n",
    "print(V11)\n",
    "SU11 = duc[52:56]\n",
    "print(SU11)\n",
    "D11 = duc[56:60]\n",
    "print(D11)\n",
    "C11 = np.mean(np.array([V11,SU11,D11]),axis=0)\n",
    "print(B11)\n",
    "\n",
    "V12 = duc[80:84]\n",
    "print(V12)\n",
    "SU12 = duc[84:88]\n",
    "print(SU12)\n",
    "D12 = duc[88:92]\n",
    "print(D12)\n",
    "C12 = np.mean(np.array([V12,SU12,D12]),axis=0)\n",
    "print(B12)\n",
    "\n",
    "C = [C10,C11,C12]"
   ]
  },
  {
   "cell_type": "code",
   "execution_count": 7,
   "metadata": {},
   "outputs": [
    {
     "name": "stdout",
     "output_type": "stream",
     "text": [
      "[ 9.3  9.   0.  10. ]\n",
      "[8.8 8.  1.  1. ]\n",
      "[6.7 9.  1.  9. ]\n",
      "[8.26666667 8.66666667 0.66666667 6.66666667]\n",
      "[9.5 9.  1.  1. ]\n",
      "[7.9 9.  0.  1. ]\n",
      "[7.1 7.  3.  8. ]\n",
      "[8.16666667 8.33333333 1.33333333 3.33333333]\n",
      "[ 9.4 10.   0.   0. ]\n",
      "[8.3 8.  3.  7. ]\n",
      "[7.5 7.  3.  7. ]\n",
      "[8.4        8.33333333 2.         4.66666667]\n"
     ]
    }
   ],
   "source": [
    "T10 = duc[0:4]\n",
    "print(T10)\n",
    "V10 = duc[16:20]\n",
    "print(V10)\n",
    "A10 = duc[28:32]\n",
    "print(A10)\n",
    "DD10 = np.mean(np.array([T10,V10,A10]),axis=0)\n",
    "print(DD10)\n",
    "\n",
    "T11 = duc[32:36]\n",
    "print(T11)\n",
    "V11 = duc[48:52]\n",
    "print(V11)\n",
    "A11 = duc[60:64]\n",
    "print(A11)\n",
    "DD11 = np.mean(np.array([T11,V11,A11]),axis=0)\n",
    "print(DD11)\n",
    "\n",
    "T12 = duc[64:68]\n",
    "print(T12)\n",
    "V12 = duc[80:84]\n",
    "print(V12)\n",
    "A12 = duc[92:96]\n",
    "print(A12)\n",
    "DD12 = np.mean(np.array([T12,V12,A12]),axis=0)\n",
    "print(DD12)\n",
    "\n",
    "D = [DD10,DD11,DD12]"
   ]
  },
  {
   "cell_type": "code",
   "execution_count": 8,
   "metadata": {},
   "outputs": [
    {
     "name": "stdout",
     "output_type": "stream",
     "text": [
      "[[[0.87666667 0.31111111 0.13333333 0.02222222]\n",
      "  [0.93333333 0.28888889 0.05555556 0.04444444]\n",
      "  [0.88       0.28888889 0.16666667 0.06666667]]\n",
      "\n",
      " [[0.80333333 0.3        0.23333333 0.03333333]\n",
      "  [0.86666667 0.27777778 0.11111111 0.05555556]\n",
      "  [0.85666667 0.27777778 0.16666667 0.06666667]]\n",
      "\n",
      " [[0.91       0.3        0.21111111 0.02222222]\n",
      "  [0.9        0.28888889 0.05555556 0.03333333]\n",
      "  [0.88666667 0.28888889 0.16666667 0.07777778]]\n",
      "\n",
      " [[0.84       0.28888889 0.08888889 0.03333333]\n",
      "  [0.85       0.28888889 0.18888889 0.03333333]\n",
      "  [0.88666667 0.26666667 0.16666667 0.08888889]]\n",
      "\n",
      " [[0.82666667 0.28888889 0.22222222 0.02222222]\n",
      "  [0.81666667 0.27777778 0.11111111 0.04444444]\n",
      "  [0.84       0.27777778 0.15555556 0.06666667]]]\n"
     ]
    }
   ],
   "source": [
    "from dm import *\n",
    "from im import *\n",
    "\n",
    "def change(A):\n",
    "    Aok = []\n",
    "    for i in range(3):\n",
    "        temp = []\n",
    "        for j in range(4):\n",
    "            if j == 0:\n",
    "                temp.append(A[i][j]/10)\n",
    "            if j == 1:\n",
    "                temp.append(A[i][j]/30)\n",
    "            if j == 2:\n",
    "                temp.append(A[i][j+1]/30)\n",
    "            if j == 3:\n",
    "                temp.append(A[i][j-1]/30)\n",
    "        Aok.append(temp)\n",
    "    return(Aok)\n",
    "\n",
    "matrix = np.array([change(A),change(A1),change(B),change(C),change(D)])\n",
    "print(matrix)\n",
    "\n",
    "def rtc(A):\n",
    "    rtc = []\n",
    "    for i in range(3):\n",
    "        temp = []\n",
    "        for j in range(5):\n",
    "            temp.append(A[j][i])\n",
    "        rtc.append(temp)\n",
    "    return np.array(rtc)\n",
    "matric = rtc(matrix)"
   ]
  },
  {
   "cell_type": "code",
   "execution_count": 9,
   "metadata": {},
   "outputs": [
    {
     "name": "stdout",
     "output_type": "stream",
     "text": [
      "[[[0.87666667 0.31111111 0.13333333 0.02222222]\n",
      "  [0.80333333 0.3        0.23333333 0.03333333]\n",
      "  [0.91       0.3        0.21111111 0.02222222]\n",
      "  [0.84       0.28888889 0.08888889 0.03333333]\n",
      "  [0.82666667 0.28888889 0.22222222 0.02222222]]\n",
      "\n",
      " [[0.93333333 0.28888889 0.05555556 0.04444444]\n",
      "  [0.86666667 0.27777778 0.11111111 0.05555556]\n",
      "  [0.9        0.28888889 0.05555556 0.03333333]\n",
      "  [0.85       0.28888889 0.18888889 0.03333333]\n",
      "  [0.81666667 0.27777778 0.11111111 0.04444444]]\n",
      "\n",
      " [[0.88       0.28888889 0.16666667 0.06666667]\n",
      "  [0.85666667 0.27777778 0.16666667 0.06666667]\n",
      "  [0.88666667 0.28888889 0.16666667 0.07777778]\n",
      "  [0.88666667 0.26666667 0.16666667 0.08888889]\n",
      "  [0.84       0.27777778 0.15555556 0.06666667]]]\n"
     ]
    }
   ],
   "source": [
    "cost = []\n",
    "mat = rnf(matric,cost)\n",
    "print(np.array(mat))"
   ]
  },
  {
   "cell_type": "code",
   "execution_count": 10,
   "metadata": {},
   "outputs": [
    {
     "name": "stdout",
     "output_type": "stream",
     "text": [
      "[0.49401851 0.43449111 0.50845547]\n",
      "[0.32544444 0.27888889 0.32388889]\n",
      "[0.4059344  0.35419661 0.40477432]\n",
      "[0.256566   0.21704154 0.25488703]\n",
      "[0.22439348 0.18780188 0.22260997]\n",
      "[0.12926837 0.09618595 0.12667273]\n",
      "[0.48841643 0.42338216 0.48708643]\n",
      "[0.41372224 0.36328671 0.41270767]\n",
      "[0.26155285 0.22283556 0.26001782]\n",
      "[0.21260152 0.17733315 0.20377779]\n",
      "[0.19491872 0.16265477 0.19324629]\n",
      "[0.06770598 0.0508098  0.05497922]\n",
      "[0.05239821 0.03830341 0.04527556]\n"
     ]
    }
   ],
   "source": [
    "for i in range(13):\n",
    "    print(np.array(ej(mat,i)))"
   ]
  },
  {
   "cell_type": "code",
   "execution_count": 11,
   "metadata": {},
   "outputs": [
    {
     "name": "stdout",
     "output_type": "stream",
     "text": [
      "[0.00311342 0.00271076 0.00033864]\n",
      "[0.0365     0.03472222 0.01283333]\n",
      "[0.02659677 0.02529914 0.00929278]\n",
      "[0.05163239 0.04912623 0.01837502]\n",
      "[0.05660153 0.05385423 0.02014813]\n",
      "[0.05729372 0.05450326 0.02015639]\n",
      "[0.00180371 0.00170089 0.00024139]\n",
      "[0.02867713 0.02728035 0.01007982]\n",
      "[0.05560696 0.05291329 0.01992139]\n",
      "[0.16190538 0.1822204  0.05593313]\n",
      "[0.1021582  0.10021324 0.03626506]\n",
      "[0.26351068 0.28837184 0.10401203]\n",
      "[0.13206594 0.12766296 0.05811965]\n"
     ]
    }
   ],
   "source": [
    "for i in range(13):\n",
    "    print(np.array(cj(mat,i)))"
   ]
  },
  {
   "cell_type": "code",
   "execution_count": 12,
   "metadata": {},
   "outputs": [
    {
     "name": "stdout",
     "output_type": "stream",
     "text": [
      "[0.71466894 0.68308878 0.7078439  0.69125042 0.68223489]\n",
      "[0.75822104 0.72668369 0.75133723 0.73507872 0.72567143]\n",
      "[0.72285644 0.69344164 0.71636409 0.70101001 0.6924323 ]\n",
      "[0.78710246 0.75434928 0.78002047 0.76332084 0.75334849]\n",
      "[0.80558122 0.77247258 0.79847597 0.78167525 0.77148689]\n",
      "[0.89760712 0.86496909 0.89091423 0.87459809 0.86414451]\n",
      "[0.71491301 0.68627383 0.70861287 0.69330353 0.68520765]\n",
      "[0.71493739 0.68611327 0.70855614 0.69351292 0.68511716]\n",
      "[0.77899235 0.74640187 0.771918   0.75529932 0.7453955 ]\n",
      "[0.88233355 0.83627731 0.86565754 0.85167694 0.84339176]\n",
      "[0.91651019 0.87758764 0.90332101 0.89123777 0.88335308]\n",
      "[0.98051707 0.9584854  0.97054416 0.96805239 0.96117281]\n",
      "[0.9858871  0.96909705 0.97893965 0.97681581 0.97114223]\n"
     ]
    }
   ],
   "source": [
    "visual = []\n",
    "for i in range(13):\n",
    "    print(np.array(S(mat,i)))\n",
    "    visual.append(S(mat,i))"
   ]
  },
  {
   "cell_type": "code",
   "execution_count": 13,
   "metadata": {},
   "outputs": [
    {
     "name": "stdout",
     "output_type": "stream",
     "text": [
      "[0.86521979 0.85334591 0.86184096 0.85519564 0.85177075]\n",
      "[0.75822104 0.72668369 0.75133723 0.73507872 0.72567143]\n",
      "[0.81410766 0.78803928 0.80847202 0.79492388 0.78718843]\n",
      "[0.68770055 0.65139845 0.67967795 0.66108726 0.65023489]\n",
      "[0.66036343 0.62164839 0.65177899 0.63200482 0.62041259]\n",
      "[0.62918751 0.58359945 0.61911442 0.59595607 0.58219843]\n",
      "[0.92844679 0.90923574 0.92448481 0.9143601  0.90863679]\n",
      "[0.80783008 0.78202816 0.80223223 0.78882331 0.7811784 ]\n",
      "[0.67773997 0.64201717 0.66981878 0.65152486 0.64086244]\n",
      "[0.29859397 0.28187531 0.29799536 0.28497307 0.27716774]\n",
      "[0.55316559 0.50786771 0.54567937 0.51869383 0.50263539]\n",
      "[0.22369834 0.19779261 0.22368568 0.2039042  0.19088862]\n",
      "[0.44284582 0.38912283 0.44106327 0.40279707 0.37623102]\n"
     ]
    }
   ],
   "source": [
    "for i in range(13):\n",
    "    print(np.array(Spos(mat,i)))"
   ]
  },
  {
   "cell_type": "code",
   "execution_count": 14,
   "metadata": {},
   "outputs": [
    {
     "name": "stdout",
     "output_type": "stream",
     "text": [
      "[0.34543838 0.39590007 0.35571698 0.38197633 0.39672997]\n",
      "[0.24177896 0.27331631 0.24866277 0.26492128 0.27432857]\n",
      "[0.31212932 0.34837831 0.32010496 0.33904549 0.3496569 ]\n",
      "[0.18601104 0.21212521 0.19168117 0.20498009 0.2128914 ]\n",
      "[0.15937195 0.18310301 0.16449979 0.17652125 0.18376516]\n",
      "[0.07177341 0.0911061  0.07580592 0.08544957 0.09152966]\n",
      "[0.3702382  0.41565193 0.38015536 0.40448521 0.4174383 ]\n",
      "[0.32210114 0.35776638 0.32997478 0.348608   0.35903301]\n",
      "[0.19228137 0.21813229 0.1979143  0.21107999 0.21889918]\n",
      "[0.03981996 0.05518431 0.04624627 0.04962924 0.05146689]\n",
      "[0.05039081 0.07084111 0.05840198 0.06329882 0.06637309]\n",
      "[0.0044449  0.00856693 0.00678882 0.00672923 0.00771107]\n",
      "[0.00633931 0.0124085  0.00948878 0.00956017 0.01117981]\n"
     ]
    }
   ],
   "source": [
    "for i in range(13):\n",
    "    print(np.array(Sneg(mat,i)))"
   ]
  },
  {
   "cell_type": "code",
   "execution_count": 15,
   "metadata": {},
   "outputs": [
    {
     "name": "stdout",
     "output_type": "stream",
     "text": [
      "[0.71466894 0.68308878 0.7078439  0.69125042 0.68223489]\n",
      "[0.75822104 0.72668369 0.75133723 0.73507872 0.72567143]\n",
      "[0.72285644 0.69344164 0.71636409 0.70101001 0.6924323 ]\n",
      "[0.78710246 0.75434928 0.78002047 0.76332084 0.75334849]\n",
      "[0.80558122 0.77247258 0.79847597 0.78167525 0.77148689]\n",
      "[0.89760712 0.86496909 0.89091423 0.87459809 0.86414451]\n",
      "[0.71491301 0.68627383 0.70861287 0.69330353 0.68520765]\n",
      "[0.71493739 0.68611327 0.70855614 0.69351292 0.68511716]\n",
      "[0.77899235 0.74640187 0.771918   0.75529932 0.7453955 ]\n",
      "[0.88233355 0.83627731 0.86565754 0.85167694 0.84339176]\n",
      "[0.91651019 0.87758764 0.90332101 0.89123777 0.88335308]\n",
      "[0.98051707 0.9584854  0.97054416 0.96805239 0.96117281]\n",
      "[0.9858871  0.96909705 0.97893965 0.97681581 0.97114223]\n"
     ]
    }
   ],
   "source": [
    "for i in range(13):\n",
    "    print(np.array(S(mat,i)))"
   ]
  },
  {
   "cell_type": "code",
   "execution_count": 16,
   "metadata": {},
   "outputs": [
    {
     "name": "stdout",
     "output_type": "stream",
     "text": [
      "Similarity no. 1 : [5 2 4 3 1]\n",
      "Similarity no. 2 : [5 2 4 3 1]\n",
      "Similarity no. 3 : [5 2 4 3 1]\n",
      "Similarity no. 4 : [5 2 4 3 1]\n",
      "Similarity no. 5 : [5 2 4 3 1]\n",
      "Similarity no. 6 : [5 2 4 3 1]\n",
      "Similarity no. 7 : [5 2 4 3 1]\n",
      "Similarity no. 8 : [5 2 4 3 1]\n",
      "Similarity no. 9 : [5 2 4 3 1]\n",
      "Similarity no. 10 : [2 5 4 3 1]\n",
      "Similarity no. 11 : [2 5 4 3 1]\n",
      "Similarity no. 12 : [2 5 4 3 1]\n",
      "Similarity no. 13 : [2 5 4 3 1]\n"
     ]
    }
   ],
   "source": [
    "for i in range(13):\n",
    "    print(\"Similarity no.\",i+1,\":\",np.array(rank(mat,i)))"
   ]
  },
  {
   "cell_type": "code",
   "execution_count": 17,
   "metadata": {},
   "outputs": [
    {
     "name": "stdout",
     "output_type": "stream",
     "text": [
      "Similarity no. 1 : 1\n",
      "Similarity no. 2 : 1\n",
      "Similarity no. 3 : 1\n",
      "Similarity no. 4 : 1\n",
      "Similarity no. 5 : 1\n",
      "Similarity no. 6 : 1\n",
      "Similarity no. 7 : 1\n",
      "Similarity no. 8 : 1\n",
      "Similarity no. 9 : 1\n",
      "Similarity no. 10 : 1\n",
      "Similarity no. 11 : 1\n",
      "Similarity no. 12 : 1\n",
      "Similarity no. 13 : 1\n"
     ]
    }
   ],
   "source": [
    " for i in range(13):\n",
    "    print(\"Similarity no.\",i+1,\":\",alt(mat,i))"
   ]
  },
  {
   "cell_type": "code",
   "execution_count": 18,
   "metadata": {},
   "outputs": [
    {
     "name": "stderr",
     "output_type": "stream",
     "text": [
      "The PostScript backend does not support transparency; partially transparent artists will be rendered opaque.\n",
      "The PostScript backend does not support transparency; partially transparent artists will be rendered opaque.\n"
     ]
    },
    {
     "data": {
      "image/png": "[encoded data removed]",
      "text/plain": [
       "<Figure size 720x324 with 1 Axes>"
      ]
     },
     "metadata": {
      "needs_background": "light"
     },
     "output_type": "display_data"
    }
   ],
   "source": [
    "import matplotlib.pyplot as plt\n",
    "xaxis = [1,2,3,4,5,6,7,8,9,10,11,12,13]\n",
    "plt.plot(xaxis,[visual[i][0] for i in range(13)],\n",
    "         'go-', color='blue', label='A', marker='o')\n",
    "plt.plot(xaxis,[visual[i][1] for i in range(13)],\n",
    "         'go-', color='green', label='A1', marker='o')\n",
    "plt.plot(xaxis,[visual[i][2] for i in range(13)],\n",
    "         'go-', color='red', label='B', marker='o')\n",
    "plt.plot(xaxis,[visual[i][3] for i in range(13)],\n",
    "         'go-', color='cyan', label='C', marker='o')\n",
    "plt.plot(xaxis,[visual[i][4] for i in range(13)],\n",
    "         'go-', color='magenta', label='D', marker='o')\n",
    "plt.xticks(xaxis,[\"IM1\",\"IM2\",\"IM3\",\"IM4\",\"IM5\",\"IM6\",\"IM7\",\"IM8\",\"IM9\",\"IM10\",\"IM11\",\"IM12\",\"IM13\"])\n",
    "plt.xlabel(\"Information Measures\")\n",
    "plt.ylabel(\"Combination Scores\")\n",
    "plt.title(\"The visualization of combination scores Si and rank of combinations \\n using information measures IMi\")\n",
    "figure = plt.gcf()\n",
    "figure.set_size_inches(10,4.5)\n",
    "plt.legend(loc='upper center', ncol=5)\n",
    "plt.savefig('decision making.eps', format='eps')\n",
    "plt.show()"
   ]
  },
  {
   "cell_type": "code",
   "execution_count": null,
   "metadata": {},
   "outputs": [],
   "source": [
    "# 8.4\t7.5\t7.6\tLý\t7.75\tHóa\t8\tSinh\t6\n",
    "# Khối A: 23.25đ Khối A1: 23.75đ Khối B: 22.4đ Khối D: 23.5đ"
   ]
  }
 ],
 "metadata": {
  "kernelspec": {
   "display_name": "Python 3",
   "language": "python",
   "name": "python3"
  },
  "language_info": {
   "codemirror_mode": {
    "name": "ipython",
    "version": 3
   },
   "file_extension": ".py",
   "mimetype": "text/x-python",
   "name": "python",
   "nbconvert_exporter": "python",
   "pygments_lexer": "ipython3",
   "version": "3.8.5"
  }
 },
 "nbformat": 4,
 "nbformat_minor": 4
}

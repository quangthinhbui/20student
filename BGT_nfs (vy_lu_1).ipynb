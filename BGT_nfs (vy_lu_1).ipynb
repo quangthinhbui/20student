{
 "cells": [
  {
   "cell_type": "code",
   "execution_count": 1,
   "metadata": {},
   "outputs": [
    {
     "data": {
      "text/html": [
       "<div>\n",
       "<style scoped>\n",
       "    .dataframe tbody tr th:only-of-type {\n",
       "        vertical-align: middle;\n",
       "    }\n",
       "\n",
       "    .dataframe tbody tr th {\n",
       "        vertical-align: top;\n",
       "    }\n",
       "\n",
       "    .dataframe thead th {\n",
       "        text-align: right;\n",
       "    }\n",
       "</style>\n",
       "<table border=\"1\" class=\"dataframe\">\n",
       "  <thead>\n",
       "    <tr style=\"text-align: right;\">\n",
       "      <th></th>\n",
       "      <th>T10</th>\n",
       "      <th>T10_T</th>\n",
       "      <th>T10_F</th>\n",
       "      <th>T10_I</th>\n",
       "      <th>L10</th>\n",
       "      <th>L10_T</th>\n",
       "      <th>L10_F</th>\n",
       "      <th>L10_I</th>\n",
       "      <th>H10</th>\n",
       "      <th>H10_T</th>\n",
       "      <th>...</th>\n",
       "      <th>SU12_F</th>\n",
       "      <th>SU12_I</th>\n",
       "      <th>D12</th>\n",
       "      <th>D12_T</th>\n",
       "      <th>D12_F</th>\n",
       "      <th>D12_I</th>\n",
       "      <th>AV12</th>\n",
       "      <th>AV12_T</th>\n",
       "      <th>AV12_F</th>\n",
       "      <th>AV12_I</th>\n",
       "    </tr>\n",
       "  </thead>\n",
       "  <tbody>\n",
       "    <tr>\n",
       "      <th>0</th>\n",
       "      <td>9.3</td>\n",
       "      <td>10</td>\n",
       "      <td>0</td>\n",
       "      <td>0</td>\n",
       "      <td>7.7</td>\n",
       "      <td>8</td>\n",
       "      <td>2</td>\n",
       "      <td>2</td>\n",
       "      <td>8.6</td>\n",
       "      <td>8</td>\n",
       "      <td>...</td>\n",
       "      <td>0</td>\n",
       "      <td>0</td>\n",
       "      <td>8.9</td>\n",
       "      <td>10</td>\n",
       "      <td>0</td>\n",
       "      <td>0</td>\n",
       "      <td>7.8</td>\n",
       "      <td>10</td>\n",
       "      <td>0</td>\n",
       "      <td>0</td>\n",
       "    </tr>\n",
       "    <tr>\n",
       "      <th>1</th>\n",
       "      <td>9.1</td>\n",
       "      <td>9</td>\n",
       "      <td>1</td>\n",
       "      <td>1</td>\n",
       "      <td>7.1</td>\n",
       "      <td>9</td>\n",
       "      <td>2</td>\n",
       "      <td>5</td>\n",
       "      <td>8.0</td>\n",
       "      <td>7</td>\n",
       "      <td>...</td>\n",
       "      <td>5</td>\n",
       "      <td>4</td>\n",
       "      <td>8.8</td>\n",
       "      <td>7</td>\n",
       "      <td>1</td>\n",
       "      <td>1</td>\n",
       "      <td>7.6</td>\n",
       "      <td>7</td>\n",
       "      <td>6</td>\n",
       "      <td>4</td>\n",
       "    </tr>\n",
       "    <tr>\n",
       "      <th>2</th>\n",
       "      <td>9.4</td>\n",
       "      <td>8</td>\n",
       "      <td>2</td>\n",
       "      <td>2</td>\n",
       "      <td>7.6</td>\n",
       "      <td>10</td>\n",
       "      <td>0</td>\n",
       "      <td>0</td>\n",
       "      <td>9.0</td>\n",
       "      <td>10</td>\n",
       "      <td>...</td>\n",
       "      <td>0</td>\n",
       "      <td>0</td>\n",
       "      <td>9.0</td>\n",
       "      <td>10</td>\n",
       "      <td>0</td>\n",
       "      <td>0</td>\n",
       "      <td>9.0</td>\n",
       "      <td>10</td>\n",
       "      <td>0</td>\n",
       "      <td>0</td>\n",
       "    </tr>\n",
       "    <tr>\n",
       "      <th>3</th>\n",
       "      <td>9.3</td>\n",
       "      <td>9</td>\n",
       "      <td>0</td>\n",
       "      <td>9</td>\n",
       "      <td>7.1</td>\n",
       "      <td>9</td>\n",
       "      <td>8</td>\n",
       "      <td>8</td>\n",
       "      <td>8.7</td>\n",
       "      <td>9</td>\n",
       "      <td>...</td>\n",
       "      <td>8</td>\n",
       "      <td>6</td>\n",
       "      <td>8.2</td>\n",
       "      <td>9</td>\n",
       "      <td>7</td>\n",
       "      <td>6</td>\n",
       "      <td>8.3</td>\n",
       "      <td>8</td>\n",
       "      <td>8</td>\n",
       "      <td>9</td>\n",
       "    </tr>\n",
       "    <tr>\n",
       "      <th>4</th>\n",
       "      <td>9.3</td>\n",
       "      <td>8</td>\n",
       "      <td>2</td>\n",
       "      <td>3</td>\n",
       "      <td>9.6</td>\n",
       "      <td>6</td>\n",
       "      <td>4</td>\n",
       "      <td>6</td>\n",
       "      <td>8.6</td>\n",
       "      <td>7</td>\n",
       "      <td>...</td>\n",
       "      <td>7</td>\n",
       "      <td>4</td>\n",
       "      <td>9.6</td>\n",
       "      <td>6</td>\n",
       "      <td>4</td>\n",
       "      <td>5</td>\n",
       "      <td>9.4</td>\n",
       "      <td>6</td>\n",
       "      <td>4</td>\n",
       "      <td>5</td>\n",
       "    </tr>\n",
       "  </tbody>\n",
       "</table>\n",
       "<p>5 rows × 96 columns</p>\n",
       "</div>"
      ],
      "text/plain": [
       "   T10  T10_T  T10_F  T10_I  L10  L10_T  L10_F  L10_I  H10  H10_T  ...  \\\n",
       "0  9.3     10      0      0  7.7      8      2      2  8.6      8  ...   \n",
       "1  9.1      9      1      1  7.1      9      2      5  8.0      7  ...   \n",
       "2  9.4      8      2      2  7.6     10      0      0  9.0     10  ...   \n",
       "3  9.3      9      0      9  7.1      9      8      8  8.7      9  ...   \n",
       "4  9.3      8      2      3  9.6      6      4      6  8.6      7  ...   \n",
       "\n",
       "   SU12_F  SU12_I  D12  D12_T  D12_F  D12_I  AV12  AV12_T  AV12_F  AV12_I  \n",
       "0       0       0  8.9     10      0      0   7.8      10       0       0  \n",
       "1       5       4  8.8      7      1      1   7.6       7       6       4  \n",
       "2       0       0  9.0     10      0      0   9.0      10       0       0  \n",
       "3       8       6  8.2      9      7      6   8.3       8       8       9  \n",
       "4       7       4  9.6      6      4      5   9.4       6       4       5  \n",
       "\n",
       "[5 rows x 96 columns]"
      ]
     },
     "execution_count": 1,
     "metadata": {},
     "output_type": "execute_result"
    }
   ],
   "source": [
    "import pandas as pd\n",
    "import numpy as np\n",
    "\n",
    "data = pd.read_csv(\"BGT.csv\") \n",
    "data.head(5)\n",
    "#print(data)"
   ]
  },
  {
   "cell_type": "code",
   "execution_count": 2,
   "metadata": {},
   "outputs": [
    {
     "name": "stdout",
     "output_type": "stream",
     "text": [
      "[ 9.7  9.   1.   1.   9.5  3.   7.   9.   9.9 10.   0.   1.   9.8  9.\n",
      "  1.   8.   8.5  6.   6.   9.   9.2  5.   5.   9.   9.4  8.   3.   7.\n",
      "  9.3  6.   5.   7.   9.5  8.   3.   7.   9.5  4.   8.   9.   9.5 10.\n",
      "  0.   1.   9.7  9.   1.   1.   9.4  7.   5.   5.   9.6  5.   5.   7.\n",
      "  9.6  6.   4.   5.   9.2  7.   5.   6.   9.9  8.   3.   3.   9.1  8.\n",
      "  3.   3.   9.5 10.   2.   1.   9.8  9.   1.   1.   8.7  8.   2.   2.\n",
      "  9.2  7.   4.   7.   9.3  7.   4.   7.   9.   8.   3.   5. ]\n"
     ]
    }
   ],
   "source": [
    "duc = np.array(data[12:13])[0]\n",
    "print(duc)"
   ]
  },
  {
   "cell_type": "code",
   "execution_count": 3,
   "metadata": {},
   "outputs": [
    {
     "name": "stdout",
     "output_type": "stream",
     "text": [
      "[9.7 9.  1.  1. ]\n",
      "[9.5 3.  7.  9. ]\n",
      "[ 9.9 10.   0.   1. ]\n",
      "[9.7        7.33333333 2.66666667 3.66666667]\n",
      "[9.5 8.  3.  7. ]\n",
      "[9.5 4.  8.  9. ]\n",
      "[ 9.5 10.   0.   1. ]\n",
      "[9.5        7.33333333 3.66666667 5.66666667]\n",
      "[9.9 8.  3.  3. ]\n",
      "[9.1 8.  3.  3. ]\n",
      "[ 9.5 10.   2.   1. ]\n",
      "[9.5        8.66666667 2.66666667 2.33333333]\n"
     ]
    }
   ],
   "source": [
    "T10 = duc[0:4]\n",
    "print(T10)\n",
    "L10 = duc[4:8]\n",
    "print(L10)\n",
    "H10 = duc[8:12]\n",
    "print(H10)\n",
    "A10 = np.mean(np.array([T10,L10,H10]),axis=0)\n",
    "print(A10)\n",
    "\n",
    "T11 = duc[32:36]\n",
    "print(T11)\n",
    "L11 = duc[36:40]\n",
    "print(L11)\n",
    "H11 = duc[40:44]\n",
    "print(H11)\n",
    "A11 = np.mean(np.array([T11,L11,H11]),axis=0)\n",
    "print(A11)\n",
    "\n",
    "T12 = duc[64:68]\n",
    "print(T12)\n",
    "L12 = duc[68:72]\n",
    "print(L12)\n",
    "H12 = duc[72:76]\n",
    "print(H12)\n",
    "A12 = np.mean(np.array([T12,L12,H12]),axis=0)\n",
    "print(A12)\n",
    "\n",
    "A = [A10,A11,A12]"
   ]
  },
  {
   "cell_type": "code",
   "execution_count": 4,
   "metadata": {},
   "outputs": [
    {
     "name": "stdout",
     "output_type": "stream",
     "text": [
      "[9.7 9.  1.  1. ]\n",
      "[9.5 3.  7.  9. ]\n",
      "[9.3 6.  5.  7. ]\n",
      "[9.5        6.         4.33333333 5.66666667]\n",
      "[9.5 8.  3.  7. ]\n",
      "[9.5 4.  8.  9. ]\n",
      "[9.2 7.  5.  6. ]\n",
      "[9.4        6.33333333 5.33333333 7.33333333]\n",
      "[9.9 8.  3.  3. ]\n",
      "[9.1 8.  3.  3. ]\n",
      "[9. 8. 3. 5.]\n",
      "[9.33333333 8.         3.         3.66666667]\n"
     ]
    }
   ],
   "source": [
    "T10 = duc[0:4]\n",
    "print(T10)\n",
    "L10 = duc[4:8]\n",
    "print(L10)\n",
    "A10 = duc[28:32]\n",
    "print(A10)\n",
    "A110 = np.mean(np.array([T10,L10,A10]),axis=0)\n",
    "print(A110)\n",
    "\n",
    "T11 = duc[32:36]\n",
    "print(T11)\n",
    "L11 = duc[36:40]\n",
    "print(L11)\n",
    "A11 = duc[60:64]\n",
    "print(A11)\n",
    "A111 = np.mean(np.array([T11,L11,A11]),axis=0)\n",
    "print(A111)\n",
    "\n",
    "T12 = duc[64:68]\n",
    "print(T12)\n",
    "L12 = duc[68:72]\n",
    "print(L12)\n",
    "A12 = duc[92:96]\n",
    "print(A12)\n",
    "A112 = np.mean(np.array([T12,L12,A12]),axis=0)\n",
    "print(A112)\n",
    "\n",
    "A1 = [A110,A111,A112]"
   ]
  },
  {
   "cell_type": "code",
   "execution_count": 5,
   "metadata": {},
   "outputs": [
    {
     "name": "stdout",
     "output_type": "stream",
     "text": [
      "[9.7 9.  1.  1. ]\n",
      "[ 9.9 10.   0.   1. ]\n",
      "[9.8 9.  1.  8. ]\n",
      "[9.3 6.  5.  7. ]\n",
      "[9.5 8.  3.  7. ]\n",
      "[ 9.5 10.   0.   1. ]\n",
      "[9.7 9.  1.  1. ]\n",
      "[9.56666667 9.         1.33333333 3.        ]\n",
      "[9.9 8.  3.  3. ]\n",
      "[ 9.5 10.   2.   1. ]\n",
      "[9.8 9.  1.  1. ]\n",
      "[9.73333333 9.         2.         1.66666667]\n"
     ]
    }
   ],
   "source": [
    "T10 = duc[0:4]\n",
    "print(T10)\n",
    "H10 = duc[8:12]\n",
    "print(H10)\n",
    "SI10 = duc[12:16]\n",
    "print(SI10)\n",
    "B10 = np.mean(np.array([T10,H10,SI10]),axis=0)\n",
    "print(A10)\n",
    "\n",
    "T11 = duc[32:36]\n",
    "print(T11)\n",
    "H11 = duc[40:44]\n",
    "print(H11)\n",
    "SI11 = duc[44:48]\n",
    "print(SI11)\n",
    "B11 = np.mean(np.array([T11,H11,SI11]),axis=0)\n",
    "print(B11)\n",
    "\n",
    "T12 = duc[64:68]\n",
    "print(T12)\n",
    "H12 = duc[72:76]\n",
    "print(H12)\n",
    "SI12 = duc[76:80]\n",
    "print(SI12)\n",
    "B12 = np.mean(np.array([T12,H12,SI12]),axis=0)\n",
    "print(B12)\n",
    "\n",
    "B = [B10,B11,B12]"
   ]
  },
  {
   "cell_type": "code",
   "execution_count": 6,
   "metadata": {},
   "outputs": [
    {
     "name": "stdout",
     "output_type": "stream",
     "text": [
      "[8.5 6.  6.  9. ]\n",
      "[9.2 5.  5.  9. ]\n",
      "[9.4 8.  3.  7. ]\n",
      "[9.3 6.  5.  7. ]\n",
      "[9.4 7.  5.  5. ]\n",
      "[9.6 5.  5.  7. ]\n",
      "[9.6 6.  4.  5. ]\n",
      "[9.56666667 9.         1.33333333 3.        ]\n",
      "[8.7 8.  2.  2. ]\n",
      "[9.2 7.  4.  7. ]\n",
      "[9.3 7.  4.  7. ]\n",
      "[9.73333333 9.         2.         1.66666667]\n"
     ]
    }
   ],
   "source": [
    "V10 = duc[16:20]\n",
    "print(V10)\n",
    "SU10 = duc[20:24]\n",
    "print(SU10)\n",
    "D10 = duc[24:28]\n",
    "print(D10)\n",
    "C10 = np.mean(np.array([V10,SU10,D10]),axis=0)\n",
    "print(A10)\n",
    "\n",
    "V11 = duc[48:52]\n",
    "print(V11)\n",
    "SU11 = duc[52:56]\n",
    "print(SU11)\n",
    "D11 = duc[56:60]\n",
    "print(D11)\n",
    "C11 = np.mean(np.array([V11,SU11,D11]),axis=0)\n",
    "print(B11)\n",
    "\n",
    "V12 = duc[80:84]\n",
    "print(V12)\n",
    "SU12 = duc[84:88]\n",
    "print(SU12)\n",
    "D12 = duc[88:92]\n",
    "print(D12)\n",
    "C12 = np.mean(np.array([V12,SU12,D12]),axis=0)\n",
    "print(B12)\n",
    "\n",
    "C = [C10,C11,C12]"
   ]
  },
  {
   "cell_type": "code",
   "execution_count": 7,
   "metadata": {},
   "outputs": [
    {
     "name": "stdout",
     "output_type": "stream",
     "text": [
      "[9.7 9.  1.  1. ]\n",
      "[8.5 6.  6.  9. ]\n",
      "[9.3 6.  5.  7. ]\n",
      "[9.16666667 7.         4.         5.66666667]\n",
      "[9.5 8.  3.  7. ]\n",
      "[9.4 7.  5.  5. ]\n",
      "[9.2 7.  5.  6. ]\n",
      "[9.36666667 7.33333333 4.33333333 6.        ]\n",
      "[9.9 8.  3.  3. ]\n",
      "[8.7 8.  2.  2. ]\n",
      "[9. 8. 3. 5.]\n",
      "[9.2        8.         2.66666667 3.33333333]\n"
     ]
    }
   ],
   "source": [
    "T10 = duc[0:4]\n",
    "print(T10)\n",
    "V10 = duc[16:20]\n",
    "print(V10)\n",
    "A10 = duc[28:32]\n",
    "print(A10)\n",
    "DD10 = np.mean(np.array([T10,V10,A10]),axis=0)\n",
    "print(DD10)\n",
    "\n",
    "T11 = duc[32:36]\n",
    "print(T11)\n",
    "V11 = duc[48:52]\n",
    "print(V11)\n",
    "A11 = duc[60:64]\n",
    "print(A11)\n",
    "DD11 = np.mean(np.array([T11,V11,A11]),axis=0)\n",
    "print(DD11)\n",
    "\n",
    "T12 = duc[64:68]\n",
    "print(T12)\n",
    "V12 = duc[80:84]\n",
    "print(V12)\n",
    "A12 = duc[92:96]\n",
    "print(A12)\n",
    "DD12 = np.mean(np.array([T12,V12,A12]),axis=0)\n",
    "print(DD12)\n",
    "\n",
    "D = [DD10,DD11,DD12]"
   ]
  },
  {
   "cell_type": "code",
   "execution_count": 8,
   "metadata": {},
   "outputs": [
    {
     "name": "stdout",
     "output_type": "stream",
     "text": [
      "[[[0.97       0.24444444 0.12222222 0.08888889]\n",
      "  [0.95       0.24444444 0.18888889 0.12222222]\n",
      "  [0.95       0.28888889 0.07777778 0.08888889]]\n",
      "\n",
      " [[0.95       0.2        0.18888889 0.14444444]\n",
      "  [0.94       0.21111111 0.24444444 0.17777778]\n",
      "  [0.93333333 0.26666667 0.12222222 0.1       ]]\n",
      "\n",
      " [[0.98       0.31111111 0.11111111 0.02222222]\n",
      "  [0.95666667 0.3        0.1        0.04444444]\n",
      "  [0.97333333 0.3        0.05555556 0.06666667]]\n",
      "\n",
      " [[0.90333333 0.21111111 0.27777778 0.15555556]\n",
      "  [0.95333333 0.2        0.18888889 0.15555556]\n",
      "  [0.90666667 0.24444444 0.17777778 0.11111111]]\n",
      "\n",
      " [[0.91666667 0.23333333 0.18888889 0.13333333]\n",
      "  [0.93666667 0.24444444 0.2        0.14444444]\n",
      "  [0.92       0.26666667 0.11111111 0.08888889]]]\n"
     ]
    }
   ],
   "source": [
    "from dm import *\n",
    "from im import *\n",
    "\n",
    "def change(A):\n",
    "    Aok = []\n",
    "    for i in range(3):\n",
    "        temp = []\n",
    "        for j in range(4):\n",
    "            if j == 0:\n",
    "                temp.append(A[i][j]/10)\n",
    "            if j == 1:\n",
    "                temp.append(A[i][j]/30)\n",
    "            if j == 2:\n",
    "                temp.append(A[i][j+1]/30)\n",
    "            if j == 3:\n",
    "                temp.append(A[i][j-1]/30)\n",
    "        Aok.append(temp)\n",
    "    return(Aok)\n",
    "\n",
    "matrix = np.array([change(A),change(A1),change(B),change(C),change(D)])\n",
    "print(matrix)\n",
    "\n",
    "def rtc(A):\n",
    "    rtc = []\n",
    "    for i in range(3):\n",
    "        temp = []\n",
    "        for j in range(5):\n",
    "            temp.append(A[j][i])\n",
    "        rtc.append(temp)\n",
    "    return np.array(rtc)\n",
    "matric = rtc(matrix)"
   ]
  },
  {
   "cell_type": "code",
   "execution_count": 9,
   "metadata": {},
   "outputs": [
    {
     "name": "stdout",
     "output_type": "stream",
     "text": [
      "[[[0.97       0.24444444 0.12222222 0.08888889]\n",
      "  [0.95       0.2        0.18888889 0.14444444]\n",
      "  [0.98       0.31111111 0.11111111 0.02222222]\n",
      "  [0.90333333 0.21111111 0.27777778 0.15555556]\n",
      "  [0.91666667 0.23333333 0.18888889 0.13333333]]\n",
      "\n",
      " [[0.95       0.24444444 0.18888889 0.12222222]\n",
      "  [0.94       0.21111111 0.24444444 0.17777778]\n",
      "  [0.95666667 0.3        0.1        0.04444444]\n",
      "  [0.95333333 0.2        0.18888889 0.15555556]\n",
      "  [0.93666667 0.24444444 0.2        0.14444444]]\n",
      "\n",
      " [[0.95       0.28888889 0.07777778 0.08888889]\n",
      "  [0.93333333 0.26666667 0.12222222 0.1       ]\n",
      "  [0.97333333 0.3        0.05555556 0.06666667]\n",
      "  [0.90666667 0.24444444 0.17777778 0.11111111]\n",
      "  [0.92       0.26666667 0.11111111 0.08888889]]]\n"
     ]
    }
   ],
   "source": [
    "cost = []\n",
    "mat = rnf(matric,cost)\n",
    "print(np.array(mat))"
   ]
  },
  {
   "cell_type": "code",
   "execution_count": 10,
   "metadata": {},
   "outputs": [
    {
     "name": "stdout",
     "output_type": "stream",
     "text": [
      "[0.45988773 0.47885282 0.42475842]\n",
      "[0.29133333 0.303      0.26833333]\n",
      "[0.36775121 0.38132279 0.34254761]\n",
      "[0.2277717  0.23731149 0.20804612]\n",
      "[0.19784229 0.20643917 0.17945052]\n",
      "[0.10574134 0.11246242 0.08849173]\n",
      "[0.44038908 0.45752013 0.4086918 ]\n",
      "[0.37643675 0.38980613 0.35196326]\n",
      "[0.23329124 0.24275774 0.21404421]\n",
      "[0.18203845 0.18884821 0.1676629 ]\n",
      "[0.17155009 0.17903578 0.15528887]\n",
      "[0.04733853 0.04808556 0.0444536 ]\n",
      "[0.03875152 0.04038458 0.03370294]\n"
     ]
    }
   ],
   "source": [
    "for i in range(13):\n",
    "    print(np.array(ej(mat,i)))"
   ]
  },
  {
   "cell_type": "code",
   "execution_count": 11,
   "metadata": {},
   "outputs": [
    {
     "name": "stdout",
     "output_type": "stream",
     "text": [
      "[0.00548427 0.00367078 0.0018968 ]\n",
      "[0.05922222 0.04433333 0.03427778]\n",
      "[0.04353026 0.03247689 0.02499821]\n",
      "[0.08246032 0.06210757 0.04841789]\n",
      "[0.09033295 0.06805699 0.05307365]\n",
      "[0.09278356 0.06951296 0.05379448]\n",
      "[0.005375   0.00331457 0.00182793]\n",
      "[0.04657387 0.03485081 0.02693395]\n",
      "[0.08808632 0.06655365 0.05210708]\n",
      "[0.25921649 0.21094815 0.1809504 ]\n",
      "[0.14670253 0.11036319 0.09157206]\n",
      "[0.39080112 0.32839889 0.29884788]\n",
      "[0.13382267 0.07334778 0.08953227]\n"
     ]
    }
   ],
   "source": [
    "for i in range(13):\n",
    "    print(np.array(cj(mat,i)))"
   ]
  },
  {
   "cell_type": "code",
   "execution_count": 12,
   "metadata": {},
   "outputs": [
    {
     "name": "stdout",
     "output_type": "stream",
     "text": [
      "[0.70603525 0.67216451 0.74364159 0.65814959 0.68034833]\n",
      "[0.74685616 0.71057604 0.78517243 0.69592941 0.72104118]\n",
      "[0.71216465 0.67892054 0.74863593 0.66564395 0.68831667]\n",
      "[0.77536923 0.73717956 0.81436605 0.72156428 0.74835731]\n",
      "[0.79378564 0.75478438 0.83267667 0.73867878 0.76632377]\n",
      "[0.8863527  0.84549654 0.92218488 0.82780886 0.8583711 ]\n",
      "[0.70455337 0.67220341 0.74030562 0.65922953 0.68132702]\n",
      "[0.70443149 0.67199743 0.74028828 0.65907257 0.68111841]\n",
      "[0.76727362 0.72948932 0.80624987 0.71409281 0.74047913]\n",
      "[0.84122477 0.7814118  0.9052388  0.76132642 0.80181018]\n",
      "[0.8843871  0.82982885 0.93615939 0.80973009 0.84890305]\n",
      "[0.97122086 0.94192412 0.98962417 0.92844895 0.95301867]\n",
      "[0.98035957 0.95889825 0.99312383 0.94787388 0.96681672]\n"
     ]
    }
   ],
   "source": [
    "visual = []\n",
    "for i in range(13):\n",
    "    print(np.array(S(mat,i)))\n",
    "    visual.append(S(mat,i))"
   ]
  },
  {
   "cell_type": "code",
   "execution_count": 13,
   "metadata": {},
   "outputs": [
    {
     "name": "stdout",
     "output_type": "stream",
     "text": [
      "[0.85172583 0.83144745 0.87242545 0.82474542 0.84242038]\n",
      "[0.74685616 0.71057604 0.78517243 0.69592941 0.72104118]\n",
      "[0.80475783 0.77445319 0.83607018 0.76205059 0.78329612]\n",
      "[0.67450679 0.63338225 0.71924686 0.6170264  0.64504018]\n",
      "[0.64626716 0.60257879 0.69416809 0.58528694 0.61490682]\n",
      "[0.61268389 0.56085438 0.66888743 0.54036135 0.57560722]\n",
      "[0.92176909 0.89808218 0.94359598 0.88793348 0.90543649]\n",
      "[0.79854758 0.76870504 0.82966503 0.75652717 0.77736318]\n",
      "[0.66471219 0.62444445 0.70890161 0.6084718  0.63579599]\n",
      "[0.30395867 0.29166056 0.3185032  0.28478787 0.29303824]\n",
      "[0.54605178 0.50260886 0.59720342 0.48390937 0.51257551]\n",
      "[0.24580561 0.23441966 0.25840545 0.22414538 0.2290207 ]\n",
      "[0.48473212 0.45592132 0.51410251 0.43336944 0.44799406]\n"
     ]
    }
   ],
   "source": [
    "for i in range(13):\n",
    "    print(np.array(Spos(mat,i)))"
   ]
  },
  {
   "cell_type": "code",
   "execution_count": 14,
   "metadata": {},
   "outputs": [
    {
     "name": "stdout",
     "output_type": "stream",
     "text": [
      "[0.35462445 0.40552273 0.30075457 0.42838218 0.39579884]\n",
      "[0.25314384 0.28942396 0.21482757 0.30407059 0.27895882]\n",
      "[0.32525871 0.36625938 0.28072124 0.38278156 0.35469189]\n",
      "[0.1954101  0.22581446 0.16395163 0.23809687 0.21690126]\n",
      "[0.16789113 0.19576681 0.13949054 0.20705604 0.18750444]\n",
      "[0.07855774 0.10248882 0.05644156 0.11239966 0.09497363]\n",
      "[0.38653363 0.43794522 0.33100731 0.45899264 0.42349435]\n",
      "[0.33505817 0.37520565 0.29106732 0.39133909 0.36394083]\n",
      "[0.20161785 0.23155774 0.17035635 0.24361884 0.22283184]\n",
      "[0.05737005 0.08158765 0.0333412  0.08928015 0.0724326 ]\n",
      "[0.07138348 0.10306888 0.04072579 0.11370874 0.09123373]\n",
      "[0.00728369 0.01445353 0.00270928 0.01727379 0.01129012]\n",
      "[0.00971108 0.01954239 0.00355953 0.02383215 0.01537614]\n"
     ]
    }
   ],
   "source": [
    "for i in range(13):\n",
    "    print(np.array(Sneg(mat,i)))"
   ]
  },
  {
   "cell_type": "code",
   "execution_count": 15,
   "metadata": {},
   "outputs": [
    {
     "name": "stdout",
     "output_type": "stream",
     "text": [
      "[0.70603525 0.67216451 0.74364159 0.65814959 0.68034833]\n",
      "[0.74685616 0.71057604 0.78517243 0.69592941 0.72104118]\n",
      "[0.71216465 0.67892054 0.74863593 0.66564395 0.68831667]\n",
      "[0.77536923 0.73717956 0.81436605 0.72156428 0.74835731]\n",
      "[0.79378564 0.75478438 0.83267667 0.73867878 0.76632377]\n",
      "[0.8863527  0.84549654 0.92218488 0.82780886 0.8583711 ]\n",
      "[0.70455337 0.67220341 0.74030562 0.65922953 0.68132702]\n",
      "[0.70443149 0.67199743 0.74028828 0.65907257 0.68111841]\n",
      "[0.76727362 0.72948932 0.80624987 0.71409281 0.74047913]\n",
      "[0.84122477 0.7814118  0.9052388  0.76132642 0.80181018]\n",
      "[0.8843871  0.82982885 0.93615939 0.80973009 0.84890305]\n",
      "[0.97122086 0.94192412 0.98962417 0.92844895 0.95301867]\n",
      "[0.98035957 0.95889825 0.99312383 0.94787388 0.96681672]\n"
     ]
    }
   ],
   "source": [
    "for i in range(13):\n",
    "    print(np.array(S(mat,i)))"
   ]
  },
  {
   "cell_type": "code",
   "execution_count": 16,
   "metadata": {},
   "outputs": [
    {
     "name": "stdout",
     "output_type": "stream",
     "text": [
      "Similarity no. 1 : [4 2 5 1 3]\n",
      "Similarity no. 2 : [4 2 5 1 3]\n",
      "Similarity no. 3 : [4 2 5 1 3]\n",
      "Similarity no. 4 : [4 2 5 1 3]\n",
      "Similarity no. 5 : [4 2 5 1 3]\n",
      "Similarity no. 6 : [4 2 5 1 3]\n",
      "Similarity no. 7 : [4 2 5 1 3]\n",
      "Similarity no. 8 : [4 2 5 1 3]\n",
      "Similarity no. 9 : [4 2 5 1 3]\n",
      "Similarity no. 10 : [4 2 5 1 3]\n",
      "Similarity no. 11 : [4 2 5 1 3]\n",
      "Similarity no. 12 : [4 2 5 1 3]\n",
      "Similarity no. 13 : [4 2 5 1 3]\n"
     ]
    }
   ],
   "source": [
    "for i in range(13):\n",
    "    print(\"Similarity no.\",i+1,\":\",np.array(rank(mat,i)))"
   ]
  },
  {
   "cell_type": "code",
   "execution_count": 17,
   "metadata": {},
   "outputs": [
    {
     "name": "stdout",
     "output_type": "stream",
     "text": [
      "Similarity no. 1 : 3\n",
      "Similarity no. 2 : 3\n",
      "Similarity no. 3 : 3\n",
      "Similarity no. 4 : 3\n",
      "Similarity no. 5 : 3\n",
      "Similarity no. 6 : 3\n",
      "Similarity no. 7 : 3\n",
      "Similarity no. 8 : 3\n",
      "Similarity no. 9 : 3\n",
      "Similarity no. 10 : 3\n",
      "Similarity no. 11 : 3\n",
      "Similarity no. 12 : 3\n",
      "Similarity no. 13 : 3\n"
     ]
    }
   ],
   "source": [
    " for i in range(13):\n",
    "    print(\"Similarity no.\",i+1,\":\",alt(mat,i))"
   ]
  },
  {
   "cell_type": "code",
   "execution_count": 18,
   "metadata": {},
   "outputs": [
    {
     "name": "stderr",
     "output_type": "stream",
     "text": [
      "The PostScript backend does not support transparency; partially transparent artists will be rendered opaque.\n",
      "The PostScript backend does not support transparency; partially transparent artists will be rendered opaque.\n"
     ]
    },
    {
     "data": {
      "image/png": "[encoded data removed]",
      "text/plain": [
       "<Figure size 720x324 with 1 Axes>"
      ]
     },
     "metadata": {
      "needs_background": "light"
     },
     "output_type": "display_data"
    }
   ],
   "source": [
    "import matplotlib.pyplot as plt\n",
    "xaxis = [1,2,3,4,5,6,7,8,9,10,11,12,13]\n",
    "plt.plot(xaxis,[visual[i][0] for i in range(13)],\n",
    "         'go-', color='blue', label='A', marker='o')\n",
    "plt.plot(xaxis,[visual[i][1] for i in range(13)],\n",
    "         'go-', color='green', label='A1', marker='o')\n",
    "plt.plot(xaxis,[visual[i][2] for i in range(13)],\n",
    "         'go-', color='red', label='B', marker='o')\n",
    "plt.plot(xaxis,[visual[i][3] for i in range(13)],\n",
    "         'go-', color='cyan', label='C', marker='o')\n",
    "plt.plot(xaxis,[visual[i][4] for i in range(13)],\n",
    "         'go-', color='magenta', label='D', marker='o')\n",
    "plt.xticks(xaxis,[\"IM1\",\"IM2\",\"IM3\",\"IM4\",\"IM5\",\"IM6\",\"IM7\",\"IM8\",\"IM9\",\"IM10\",\"IM11\",\"IM12\",\"IM13\"])\n",
    "plt.xlabel(\"Information Measures\")\n",
    "plt.ylabel(\"Combination Scores\")\n",
    "plt.title(\"The visualization of combination scores Si and rank of combinations \\n using information measures IMi\")\n",
    "figure = plt.gcf()\n",
    "figure.set_size_inches(10,4.5)\n",
    "plt.legend(loc='upper center', ncol=5)\n",
    "plt.savefig('decision making.eps', format='eps')\n",
    "plt.show()"
   ]
  },
  {
   "cell_type": "code",
   "execution_count": null,
   "metadata": {},
   "outputs": [],
   "source": [
    "# Vy Lữ (Hóa)\n",
    "# 8.6\t8\t10\tLý\t7.25\tHoá\t9.5\tSinh\t8.5\n",
    "# Khối A: 25.35đ Khối A1: 25.85đ Khối B: 26.6đ Khối D: 26.6đ"
   ]
  }
 ],
 "metadata": {
  "kernelspec": {
   "display_name": "Python 3",
   "language": "python",
   "name": "python3"
  },
  "language_info": {
   "codemirror_mode": {
    "name": "ipython",
    "version": 3
   },
   "file_extension": ".py",
   "mimetype": "text/x-python",
   "name": "python",
   "nbconvert_exporter": "python",
   "pygments_lexer": "ipython3",
   "version": "3.8.8"
  }
 },
 "nbformat": 4,
 "nbformat_minor": 4
}

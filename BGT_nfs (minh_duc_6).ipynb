{
 "cells": [
  {
   "cell_type": "code",
   "execution_count": 1,
   "metadata": {},
   "outputs": [
    {
     "data": {
      "text/html": [
       "<div>\n",
       "<style scoped>\n",
       "    .dataframe tbody tr th:only-of-type {\n",
       "        vertical-align: middle;\n",
       "    }\n",
       "\n",
       "    .dataframe tbody tr th {\n",
       "        vertical-align: top;\n",
       "    }\n",
       "\n",
       "    .dataframe thead th {\n",
       "        text-align: right;\n",
       "    }\n",
       "</style>\n",
       "<table border=\"1\" class=\"dataframe\">\n",
       "  <thead>\n",
       "    <tr style=\"text-align: right;\">\n",
       "      <th></th>\n",
       "      <th>T10</th>\n",
       "      <th>T10_T</th>\n",
       "      <th>T10_F</th>\n",
       "      <th>T10_I</th>\n",
       "      <th>L10</th>\n",
       "      <th>L10_T</th>\n",
       "      <th>L10_F</th>\n",
       "      <th>L10_I</th>\n",
       "      <th>H10</th>\n",
       "      <th>H10_T</th>\n",
       "      <th>...</th>\n",
       "      <th>SU12_F</th>\n",
       "      <th>SU12_I</th>\n",
       "      <th>D12</th>\n",
       "      <th>D12_T</th>\n",
       "      <th>D12_F</th>\n",
       "      <th>D12_I</th>\n",
       "      <th>AV12</th>\n",
       "      <th>AV12_T</th>\n",
       "      <th>AV12_F</th>\n",
       "      <th>AV12_I</th>\n",
       "    </tr>\n",
       "  </thead>\n",
       "  <tbody>\n",
       "    <tr>\n",
       "      <th>0</th>\n",
       "      <td>9.3</td>\n",
       "      <td>10</td>\n",
       "      <td>0</td>\n",
       "      <td>0</td>\n",
       "      <td>7.7</td>\n",
       "      <td>8</td>\n",
       "      <td>2</td>\n",
       "      <td>2</td>\n",
       "      <td>8.6</td>\n",
       "      <td>8</td>\n",
       "      <td>...</td>\n",
       "      <td>0</td>\n",
       "      <td>0</td>\n",
       "      <td>8.9</td>\n",
       "      <td>10</td>\n",
       "      <td>0</td>\n",
       "      <td>0</td>\n",
       "      <td>7.8</td>\n",
       "      <td>10</td>\n",
       "      <td>0</td>\n",
       "      <td>0</td>\n",
       "    </tr>\n",
       "    <tr>\n",
       "      <th>1</th>\n",
       "      <td>9.1</td>\n",
       "      <td>9</td>\n",
       "      <td>1</td>\n",
       "      <td>1</td>\n",
       "      <td>7.1</td>\n",
       "      <td>9</td>\n",
       "      <td>2</td>\n",
       "      <td>5</td>\n",
       "      <td>8.0</td>\n",
       "      <td>7</td>\n",
       "      <td>...</td>\n",
       "      <td>5</td>\n",
       "      <td>4</td>\n",
       "      <td>8.8</td>\n",
       "      <td>7</td>\n",
       "      <td>1</td>\n",
       "      <td>1</td>\n",
       "      <td>7.6</td>\n",
       "      <td>7</td>\n",
       "      <td>6</td>\n",
       "      <td>4</td>\n",
       "    </tr>\n",
       "    <tr>\n",
       "      <th>2</th>\n",
       "      <td>9.4</td>\n",
       "      <td>8</td>\n",
       "      <td>2</td>\n",
       "      <td>2</td>\n",
       "      <td>7.6</td>\n",
       "      <td>10</td>\n",
       "      <td>0</td>\n",
       "      <td>0</td>\n",
       "      <td>9.0</td>\n",
       "      <td>10</td>\n",
       "      <td>...</td>\n",
       "      <td>0</td>\n",
       "      <td>0</td>\n",
       "      <td>9.0</td>\n",
       "      <td>10</td>\n",
       "      <td>0</td>\n",
       "      <td>0</td>\n",
       "      <td>9.0</td>\n",
       "      <td>10</td>\n",
       "      <td>0</td>\n",
       "      <td>0</td>\n",
       "    </tr>\n",
       "    <tr>\n",
       "      <th>3</th>\n",
       "      <td>9.3</td>\n",
       "      <td>9</td>\n",
       "      <td>0</td>\n",
       "      <td>9</td>\n",
       "      <td>7.1</td>\n",
       "      <td>9</td>\n",
       "      <td>8</td>\n",
       "      <td>8</td>\n",
       "      <td>8.7</td>\n",
       "      <td>9</td>\n",
       "      <td>...</td>\n",
       "      <td>8</td>\n",
       "      <td>6</td>\n",
       "      <td>8.2</td>\n",
       "      <td>9</td>\n",
       "      <td>7</td>\n",
       "      <td>6</td>\n",
       "      <td>8.3</td>\n",
       "      <td>8</td>\n",
       "      <td>8</td>\n",
       "      <td>9</td>\n",
       "    </tr>\n",
       "    <tr>\n",
       "      <th>4</th>\n",
       "      <td>9.3</td>\n",
       "      <td>8</td>\n",
       "      <td>2</td>\n",
       "      <td>3</td>\n",
       "      <td>9.6</td>\n",
       "      <td>6</td>\n",
       "      <td>4</td>\n",
       "      <td>6</td>\n",
       "      <td>8.6</td>\n",
       "      <td>7</td>\n",
       "      <td>...</td>\n",
       "      <td>7</td>\n",
       "      <td>4</td>\n",
       "      <td>9.6</td>\n",
       "      <td>6</td>\n",
       "      <td>4</td>\n",
       "      <td>5</td>\n",
       "      <td>9.4</td>\n",
       "      <td>6</td>\n",
       "      <td>4</td>\n",
       "      <td>5</td>\n",
       "    </tr>\n",
       "  </tbody>\n",
       "</table>\n",
       "<p>5 rows × 96 columns</p>\n",
       "</div>"
      ],
      "text/plain": [
       "   T10  T10_T  T10_F  T10_I  L10  L10_T  L10_F  L10_I  H10  H10_T  ...  \\\n",
       "0  9.3     10      0      0  7.7      8      2      2  8.6      8  ...   \n",
       "1  9.1      9      1      1  7.1      9      2      5  8.0      7  ...   \n",
       "2  9.4      8      2      2  7.6     10      0      0  9.0     10  ...   \n",
       "3  9.3      9      0      9  7.1      9      8      8  8.7      9  ...   \n",
       "4  9.3      8      2      3  9.6      6      4      6  8.6      7  ...   \n",
       "\n",
       "   SU12_F  SU12_I  D12  D12_T  D12_F  D12_I  AV12  AV12_T  AV12_F  AV12_I  \n",
       "0       0       0  8.9     10      0      0   7.8      10       0       0  \n",
       "1       5       4  8.8      7      1      1   7.6       7       6       4  \n",
       "2       0       0  9.0     10      0      0   9.0      10       0       0  \n",
       "3       8       6  8.2      9      7      6   8.3       8       8       9  \n",
       "4       7       4  9.6      6      4      5   9.4       6       4       5  \n",
       "\n",
       "[5 rows x 96 columns]"
      ]
     },
     "execution_count": 1,
     "metadata": {},
     "output_type": "execute_result"
    }
   ],
   "source": [
    "import pandas as pd\n",
    "import numpy as np\n",
    "\n",
    "data = pd.read_csv(\"BGT.csv\") \n",
    "data.head(5)\n",
    "#print(data)"
   ]
  },
  {
   "cell_type": "code",
   "execution_count": 2,
   "metadata": {},
   "outputs": [
    {
     "name": "stdout",
     "output_type": "stream",
     "text": [
      "[ 9.4  8.   2.   2.   7.6 10.   0.   0.   9.  10.   0.   0.   8.9 10.\n",
      "  0.   0.   8.7 10.   0.   0.   9.3 10.   0.   0.   8.5 10.   0.   0.\n",
      "  8.9 10.   0.   0.   9.3  8.   2.   2.   8.8  6.   4.   4.   8.2 10.\n",
      "  0.   0.   8.7 10.   0.   0.   7.8 10.   0.   0.   8.6 10.   0.   0.\n",
      "  8.1 10.   0.   0.   8.6 10.   0.   0.   8.8  7.   3.   3.   7.4  0.\n",
      " 10.  10.   8.6 10.   0.   0.   8.1  7.   3.   3.   7.4 10.   0.   0.\n",
      "  8.2 10.   0.   0.   9.  10.   0.   0.   9.  10.   0.   0. ]\n"
     ]
    }
   ],
   "source": [
    "duc = np.array(data[2:3])[0]\n",
    "print(duc)"
   ]
  },
  {
   "cell_type": "code",
   "execution_count": 3,
   "metadata": {},
   "outputs": [
    {
     "name": "stdout",
     "output_type": "stream",
     "text": [
      "[9.4 8.  2.  2. ]\n",
      "[ 7.6 10.   0.   0. ]\n",
      "[ 9. 10.  0.  0.]\n",
      "[8.66666667 9.33333333 0.66666667 0.66666667]\n",
      "[9.3 8.  2.  2. ]\n",
      "[8.8 6.  4.  4. ]\n",
      "[ 8.2 10.   0.   0. ]\n",
      "[8.76666667 8.         2.         2.        ]\n",
      "[8.8 7.  3.  3. ]\n",
      "[ 7.4  0.  10.  10. ]\n",
      "[ 8.6 10.   0.   0. ]\n",
      "[8.26666667 5.66666667 4.33333333 4.33333333]\n"
     ]
    }
   ],
   "source": [
    "T10 = duc[0:4]\n",
    "print(T10)\n",
    "L10 = duc[4:8]\n",
    "print(L10)\n",
    "H10 = duc[8:12]\n",
    "print(H10)\n",
    "A10 = np.mean(np.array([T10,L10,H10]),axis=0)\n",
    "print(A10)\n",
    "\n",
    "T11 = duc[32:36]\n",
    "print(T11)\n",
    "L11 = duc[36:40]\n",
    "print(L11)\n",
    "H11 = duc[40:44]\n",
    "print(H11)\n",
    "A11 = np.mean(np.array([T11,L11,H11]),axis=0)\n",
    "print(A11)\n",
    "\n",
    "T12 = duc[64:68]\n",
    "print(T12)\n",
    "L12 = duc[68:72]\n",
    "print(L12)\n",
    "H12 = duc[72:76]\n",
    "print(H12)\n",
    "A12 = np.mean(np.array([T12,L12,H12]),axis=0)\n",
    "print(A12)\n",
    "\n",
    "A = [A10,A11,A12]"
   ]
  },
  {
   "cell_type": "code",
   "execution_count": 4,
   "metadata": {},
   "outputs": [
    {
     "name": "stdout",
     "output_type": "stream",
     "text": [
      "[9.4 8.  2.  2. ]\n",
      "[ 7.6 10.   0.   0. ]\n",
      "[ 8.9 10.   0.   0. ]\n",
      "[8.63333333 9.33333333 0.66666667 0.66666667]\n",
      "[9.3 8.  2.  2. ]\n",
      "[8.8 6.  4.  4. ]\n",
      "[ 8.6 10.   0.   0. ]\n",
      "[8.9 8.  2.  2. ]\n",
      "[8.8 7.  3.  3. ]\n",
      "[ 7.4  0.  10.  10. ]\n",
      "[ 9. 10.  0.  0.]\n",
      "[8.4        5.66666667 4.33333333 4.33333333]\n"
     ]
    }
   ],
   "source": [
    "T10 = duc[0:4]\n",
    "print(T10)\n",
    "L10 = duc[4:8]\n",
    "print(L10)\n",
    "A10 = duc[28:32]\n",
    "print(A10)\n",
    "A110 = np.mean(np.array([T10,L10,A10]),axis=0)\n",
    "print(A110)\n",
    "\n",
    "T11 = duc[32:36]\n",
    "print(T11)\n",
    "L11 = duc[36:40]\n",
    "print(L11)\n",
    "A11 = duc[60:64]\n",
    "print(A11)\n",
    "A111 = np.mean(np.array([T11,L11,A11]),axis=0)\n",
    "print(A111)\n",
    "\n",
    "T12 = duc[64:68]\n",
    "print(T12)\n",
    "L12 = duc[68:72]\n",
    "print(L12)\n",
    "A12 = duc[92:96]\n",
    "print(A12)\n",
    "A112 = np.mean(np.array([T12,L12,A12]),axis=0)\n",
    "print(A112)\n",
    "\n",
    "A1 = [A110,A111,A112]"
   ]
  },
  {
   "cell_type": "code",
   "execution_count": 5,
   "metadata": {},
   "outputs": [
    {
     "name": "stdout",
     "output_type": "stream",
     "text": [
      "[9.4 8.  2.  2. ]\n",
      "[ 9. 10.  0.  0.]\n",
      "[ 8.9 10.   0.   0. ]\n",
      "[ 8.9 10.   0.   0. ]\n",
      "[9.3 8.  2.  2. ]\n",
      "[ 8.2 10.   0.   0. ]\n",
      "[ 8.7 10.   0.   0. ]\n",
      "[8.73333333 9.33333333 0.66666667 0.66666667]\n",
      "[8.8 7.  3.  3. ]\n",
      "[ 8.6 10.   0.   0. ]\n",
      "[8.1 7.  3.  3. ]\n",
      "[8.5 8.  2.  2. ]\n"
     ]
    }
   ],
   "source": [
    "T10 = duc[0:4]\n",
    "print(T10)\n",
    "H10 = duc[8:12]\n",
    "print(H10)\n",
    "SI10 = duc[12:16]\n",
    "print(SI10)\n",
    "B10 = np.mean(np.array([T10,H10,SI10]),axis=0)\n",
    "print(A10)\n",
    "\n",
    "T11 = duc[32:36]\n",
    "print(T11)\n",
    "H11 = duc[40:44]\n",
    "print(H11)\n",
    "SI11 = duc[44:48]\n",
    "print(SI11)\n",
    "B11 = np.mean(np.array([T11,H11,SI11]),axis=0)\n",
    "print(B11)\n",
    "\n",
    "T12 = duc[64:68]\n",
    "print(T12)\n",
    "H12 = duc[72:76]\n",
    "print(H12)\n",
    "SI12 = duc[76:80]\n",
    "print(SI12)\n",
    "B12 = np.mean(np.array([T12,H12,SI12]),axis=0)\n",
    "print(B12)\n",
    "\n",
    "B = [B10,B11,B12]"
   ]
  },
  {
   "cell_type": "code",
   "execution_count": 6,
   "metadata": {},
   "outputs": [
    {
     "name": "stdout",
     "output_type": "stream",
     "text": [
      "[ 8.7 10.   0.   0. ]\n",
      "[ 9.3 10.   0.   0. ]\n",
      "[ 8.5 10.   0.   0. ]\n",
      "[ 8.9 10.   0.   0. ]\n",
      "[ 7.8 10.   0.   0. ]\n",
      "[ 8.6 10.   0.   0. ]\n",
      "[ 8.1 10.   0.   0. ]\n",
      "[8.73333333 9.33333333 0.66666667 0.66666667]\n",
      "[ 7.4 10.   0.   0. ]\n",
      "[ 8.2 10.   0.   0. ]\n",
      "[ 9. 10.  0.  0.]\n",
      "[8.5 8.  2.  2. ]\n"
     ]
    }
   ],
   "source": [
    "V10 = duc[16:20]\n",
    "print(V10)\n",
    "SU10 = duc[20:24]\n",
    "print(SU10)\n",
    "D10 = duc[24:28]\n",
    "print(D10)\n",
    "C10 = np.mean(np.array([V10,SU10,D10]),axis=0)\n",
    "print(A10)\n",
    "\n",
    "V11 = duc[48:52]\n",
    "print(V11)\n",
    "SU11 = duc[52:56]\n",
    "print(SU11)\n",
    "D11 = duc[56:60]\n",
    "print(D11)\n",
    "C11 = np.mean(np.array([V11,SU11,D11]),axis=0)\n",
    "print(B11)\n",
    "\n",
    "V12 = duc[80:84]\n",
    "print(V12)\n",
    "SU12 = duc[84:88]\n",
    "print(SU12)\n",
    "D12 = duc[88:92]\n",
    "print(D12)\n",
    "C12 = np.mean(np.array([V12,SU12,D12]),axis=0)\n",
    "print(B12)\n",
    "\n",
    "C = [C10,C11,C12]"
   ]
  },
  {
   "cell_type": "code",
   "execution_count": 7,
   "metadata": {},
   "outputs": [
    {
     "name": "stdout",
     "output_type": "stream",
     "text": [
      "[9.4 8.  2.  2. ]\n",
      "[ 8.7 10.   0.   0. ]\n",
      "[ 8.9 10.   0.   0. ]\n",
      "[9.         9.33333333 0.66666667 0.66666667]\n",
      "[9.3 8.  2.  2. ]\n",
      "[ 7.8 10.   0.   0. ]\n",
      "[ 8.6 10.   0.   0. ]\n",
      "[8.56666667 9.33333333 0.66666667 0.66666667]\n",
      "[8.8 7.  3.  3. ]\n",
      "[ 7.4 10.   0.   0. ]\n",
      "[ 9. 10.  0.  0.]\n",
      "[8.4 9.  1.  1. ]\n"
     ]
    }
   ],
   "source": [
    "T10 = duc[0:4]\n",
    "print(T10)\n",
    "V10 = duc[16:20]\n",
    "print(V10)\n",
    "A10 = duc[28:32]\n",
    "print(A10)\n",
    "DD10 = np.mean(np.array([T10,V10,A10]),axis=0)\n",
    "print(DD10)\n",
    "\n",
    "T11 = duc[32:36]\n",
    "print(T11)\n",
    "V11 = duc[48:52]\n",
    "print(V11)\n",
    "A11 = duc[60:64]\n",
    "print(A11)\n",
    "DD11 = np.mean(np.array([T11,V11,A11]),axis=0)\n",
    "print(DD11)\n",
    "\n",
    "T12 = duc[64:68]\n",
    "print(T12)\n",
    "V12 = duc[80:84]\n",
    "print(V12)\n",
    "A12 = duc[92:96]\n",
    "print(A12)\n",
    "DD12 = np.mean(np.array([T12,V12,A12]),axis=0)\n",
    "print(DD12)\n",
    "\n",
    "D = [DD10,DD11,DD12]"
   ]
  },
  {
   "cell_type": "code",
   "execution_count": 8,
   "metadata": {},
   "outputs": [
    {
     "name": "stdout",
     "output_type": "stream",
     "text": [
      "[[[0.86666667 0.31111111 0.02222222 0.02222222]\n",
      "  [0.87666667 0.26666667 0.06666667 0.06666667]\n",
      "  [0.82666667 0.18888889 0.14444444 0.14444444]]\n",
      "\n",
      " [[0.86333333 0.31111111 0.02222222 0.02222222]\n",
      "  [0.89       0.26666667 0.06666667 0.06666667]\n",
      "  [0.84       0.18888889 0.14444444 0.14444444]]\n",
      "\n",
      " [[0.91       0.31111111 0.02222222 0.02222222]\n",
      "  [0.87333333 0.31111111 0.02222222 0.02222222]\n",
      "  [0.85       0.26666667 0.06666667 0.06666667]]\n",
      "\n",
      " [[0.88333333 0.33333333 0.         0.        ]\n",
      "  [0.81666667 0.33333333 0.         0.        ]\n",
      "  [0.82       0.33333333 0.         0.        ]]\n",
      "\n",
      " [[0.9        0.31111111 0.02222222 0.02222222]\n",
      "  [0.85666667 0.31111111 0.02222222 0.02222222]\n",
      "  [0.84       0.3        0.03333333 0.03333333]]]\n"
     ]
    }
   ],
   "source": [
    "from dm import *\n",
    "from im import *\n",
    "\n",
    "def change(A):\n",
    "    Aok = []\n",
    "    for i in range(3):\n",
    "        temp = []\n",
    "        for j in range(4):\n",
    "            if j == 0:\n",
    "                temp.append(A[i][j]/10)\n",
    "            if j == 1:\n",
    "                temp.append(A[i][j]/30)\n",
    "            if j == 2:\n",
    "                temp.append(A[i][j+1]/30)\n",
    "            if j == 3:\n",
    "                temp.append(A[i][j-1]/30)\n",
    "        Aok.append(temp)\n",
    "    return(Aok)\n",
    "\n",
    "matrix = np.array([change(A),change(A1),change(B),change(C),change(D)])\n",
    "print(matrix)\n",
    "\n",
    "def rtc(A):\n",
    "    rtc = []\n",
    "    for i in range(3):\n",
    "        temp = []\n",
    "        for j in range(5):\n",
    "            temp.append(A[j][i])\n",
    "        rtc.append(temp)\n",
    "    return np.array(rtc)\n",
    "matric = rtc(matrix)"
   ]
  },
  {
   "cell_type": "code",
   "execution_count": 9,
   "metadata": {},
   "outputs": [
    {
     "name": "stdout",
     "output_type": "stream",
     "text": [
      "[[[0.86666667 0.31111111 0.02222222 0.02222222]\n",
      "  [0.86333333 0.31111111 0.02222222 0.02222222]\n",
      "  [0.91       0.31111111 0.02222222 0.02222222]\n",
      "  [0.88333333 0.33333333 0.         0.        ]\n",
      "  [0.9        0.31111111 0.02222222 0.02222222]]\n",
      "\n",
      " [[0.87666667 0.26666667 0.06666667 0.06666667]\n",
      "  [0.89       0.26666667 0.06666667 0.06666667]\n",
      "  [0.87333333 0.31111111 0.02222222 0.02222222]\n",
      "  [0.81666667 0.33333333 0.         0.        ]\n",
      "  [0.85666667 0.31111111 0.02222222 0.02222222]]\n",
      "\n",
      " [[0.82666667 0.18888889 0.14444444 0.14444444]\n",
      "  [0.84       0.18888889 0.14444444 0.14444444]\n",
      "  [0.85       0.26666667 0.06666667 0.06666667]\n",
      "  [0.82       0.33333333 0.         0.        ]\n",
      "  [0.84       0.3        0.03333333 0.03333333]]]\n"
     ]
    }
   ],
   "source": [
    "cost = []\n",
    "mat = rnf(matric,cost)\n",
    "print(np.array(mat))"
   ]
  },
  {
   "cell_type": "code",
   "execution_count": 10,
   "metadata": {},
   "outputs": [
    {
     "name": "stdout",
     "output_type": "stream",
     "text": [
      "[0.34604106 0.38560044 0.45118057]\n",
      "[0.23322222 0.25311111 0.28788889]\n",
      "[0.3023856  0.32549027 0.36465096]\n",
      "[0.17890247 0.1952245  0.22442735]\n",
      "[0.15289985 0.16764422 0.19447374]\n",
      "[0.06647177 0.07806117 0.10143146]\n",
      "[0.35816075 0.38716891 0.43651012]\n",
      "[0.3125285  0.33531896 0.37359802]\n",
      "[0.18526063 0.20146047 0.23016578]\n",
      "[0.15712524 0.16541225 0.18158606]\n",
      "[0.1320405  0.14491209 0.16847893]\n",
      "[0.0579124  0.05396698 0.04984103]\n",
      "[0.03586739 0.03635664 0.03867297]\n"
     ]
    }
   ],
   "source": [
    "for i in range(13):\n",
    "    print(np.array(ej(mat,i)))"
   ]
  },
  {
   "cell_type": "code",
   "execution_count": 11,
   "metadata": {},
   "outputs": [
    {
     "name": "stdout",
     "output_type": "stream",
     "text": [
      "[0.0003742  0.00182612 0.00679741]\n",
      "[0.013      0.035      0.06366667]\n",
      "[0.00941919 0.02554757 0.04689659]\n",
      "[0.01859157 0.04935374 0.08829955]\n",
      "[0.02038528 0.05409726 0.09671299]\n",
      "[0.02041743 0.05492212 0.09970131]\n",
      "[0.00028321 0.00201756 0.00642726]\n",
      "[0.01021091 0.02750289 0.05008047]\n",
      "[0.02014284 0.05306467 0.09412846]\n",
      "[nan nan nan]\n",
      "[0.04099916 0.1060723  0.18126269]\n",
      "[nan nan nan]\n",
      "[0.05570926 0.09404311 0.10761602]\n"
     ]
    },
    {
     "name": "stderr",
     "output_type": "stream",
     "text": [
      "/Users/quangthinhbui/Desktop/coding/im.py:53: RuntimeWarning: invalid value encountered in double_scalars\n",
      "  t = [min(a[i],b[i])/max(a[i],b[i]) for i in range(4)]\n",
      "/Users/quangthinhbui/Desktop/coding/im.py:64: RuntimeWarning: invalid value encountered in double_scalars\n",
      "  t = [min(a[i]**2,b[i]**2)/max(a[i]**2,b[i]**2) for i in range(4)]\n"
     ]
    }
   ],
   "source": [
    "for i in range(13):\n",
    "    print(np.array(cj(mat,i)))"
   ]
  },
  {
   "cell_type": "code",
   "execution_count": 12,
   "metadata": {},
   "outputs": [
    {
     "name": "stdout",
     "output_type": "stream",
     "text": [
      "[0.70078474 0.70270532 0.73431605 0.75126642 0.73851195]\n",
      "[0.73927711 0.74122043 0.77505894 0.79333662 0.78029872]\n",
      "[0.70579929 0.70756462 0.73914378 0.75673116 0.74400226]\n",
      "[0.76687606 0.76893018 0.80393973 0.82237748 0.80937912]\n",
      "[0.78487112 0.78697254 0.8222623  0.84049389 0.82772571]\n",
      "[0.87579947 0.87804112 0.91269228 0.92859074 0.91788906]\n",
      "[0.69910635 0.70080877 0.73146192 0.74848081 0.73599398]\n",
      "[0.69827599 0.69999511 0.73092978 0.74829298 0.73570097]\n",
      "[0.75892454 0.76095384 0.79578624 0.81431253 0.8012215 ]\n",
      "[nan nan nan nan nan]\n",
      "[0.90815053 0.9090542  0.95922467 1.         0.97191431]\n",
      "[nan nan nan nan nan]\n",
      "[0.98420693 0.98458641 0.99695961 1.         0.99882095]\n"
     ]
    }
   ],
   "source": [
    "visual = []\n",
    "for i in range(13):\n",
    "    print(np.array(S(mat,i)))\n",
    "    visual.append(S(mat,i))"
   ]
  },
  {
   "cell_type": "code",
   "execution_count": 13,
   "metadata": {},
   "outputs": [
    {
     "name": "stdout",
     "output_type": "stream",
     "text": [
      "[0.84926305 0.84980927 0.86840052 0.87879108 0.87173644]\n",
      "[0.73927711 0.74122043 0.77505894 0.79333662 0.78029872]\n",
      "[0.79849292 0.80011615 0.82797293 0.84269379 0.83219508]\n",
      "[0.66590299 0.66810135 0.70717065 0.72890589 0.71336154]\n",
      "[0.63709376 0.63942854 0.68114365 0.70452997 0.68780633]\n",
      "[0.60146365 0.60424777 0.65354043 0.68088278 0.66144993]\n",
      "[0.9165291  0.91781833 0.9382425  0.94784024 0.94117025]\n",
      "[0.79243437 0.7940297  0.82159304 0.83629152 0.82578479]\n",
      "[0.65633764 0.65848728 0.69692857 0.7184988  0.70304104]\n",
      "[nan nan nan nan nan]\n",
      "[0.51618891 0.51980505 0.56536085 0.58609527 0.57099893]\n",
      "[nan nan nan nan nan]\n",
      "[0.39749014 0.40419524 0.4284135  0.40832142 0.4214222 ]\n"
     ]
    }
   ],
   "source": [
    "for i in range(13):\n",
    "    print(np.array(Spos(mat,i)))"
   ]
  },
  {
   "cell_type": "code",
   "execution_count": 14,
   "metadata": {},
   "outputs": [
    {
     "name": "stdout",
     "output_type": "stream",
     "text": [
      "[0.3626113  0.35953018 0.31419725 0.29095517 0.30865942]\n",
      "[0.26072289 0.25877957 0.22494106 0.20666338 0.21970128]\n",
      "[0.33283852 0.33068679 0.29220551 0.27090353 0.2863433 ]\n",
      "[0.20242896 0.20076994 0.17246078 0.15743391 0.16800731]\n",
      "[0.17462391 0.17308843 0.14723393 0.13370333 0.14315291]\n",
      "[0.0852959  0.08392931 0.06251738 0.05236035 0.05917085]\n",
      "[0.39447186 0.39183755 0.34445243 0.31851186 0.33760413]\n",
      "[0.3424097  0.34030637 0.30244523 0.28130753 0.29666146]\n",
      "[0.20848832 0.2068573  0.17884502 0.16383909 0.17442049]\n",
      "[nan nan nan nan nan]\n",
      "[0.05220685 0.05200359 0.02403272 0.         0.01650032]\n",
      "[nan nan nan nan nan]\n",
      "[0.00637832 0.00632763 0.00130652 0.         0.00049746]\n"
     ]
    }
   ],
   "source": [
    "for i in range(13):\n",
    "    print(np.array(Sneg(mat,i)))"
   ]
  },
  {
   "cell_type": "code",
   "execution_count": 15,
   "metadata": {},
   "outputs": [
    {
     "name": "stdout",
     "output_type": "stream",
     "text": [
      "[0.70078474 0.70270532 0.73431605 0.75126642 0.73851195]\n",
      "[0.73927711 0.74122043 0.77505894 0.79333662 0.78029872]\n",
      "[0.70579929 0.70756462 0.73914378 0.75673116 0.74400226]\n",
      "[0.76687606 0.76893018 0.80393973 0.82237748 0.80937912]\n",
      "[0.78487112 0.78697254 0.8222623  0.84049389 0.82772571]\n",
      "[0.87579947 0.87804112 0.91269228 0.92859074 0.91788906]\n",
      "[0.69910635 0.70080877 0.73146192 0.74848081 0.73599398]\n",
      "[0.69827599 0.69999511 0.73092978 0.74829298 0.73570097]\n",
      "[0.75892454 0.76095384 0.79578624 0.81431253 0.8012215 ]\n",
      "[nan nan nan nan nan]\n",
      "[0.90815053 0.9090542  0.95922467 1.         0.97191431]\n",
      "[nan nan nan nan nan]\n",
      "[0.98420693 0.98458641 0.99695961 1.         0.99882095]\n"
     ]
    }
   ],
   "source": [
    "for i in range(13):\n",
    "    print(np.array(S(mat,i)))"
   ]
  },
  {
   "cell_type": "code",
   "execution_count": 16,
   "metadata": {},
   "outputs": [
    {
     "name": "stdout",
     "output_type": "stream",
     "text": [
      "Similarity no. 1 : [1 2 3 5 4]\n",
      "Similarity no. 2 : [1 2 3 5 4]\n",
      "Similarity no. 3 : [1 2 3 5 4]\n",
      "Similarity no. 4 : [1 2 3 5 4]\n",
      "Similarity no. 5 : [1 2 3 5 4]\n",
      "Similarity no. 6 : [1 2 3 5 4]\n",
      "Similarity no. 7 : [1 2 3 5 4]\n",
      "Similarity no. 8 : [1 2 3 5 4]\n",
      "Similarity no. 9 : [1 2 3 5 4]\n",
      "Similarity no. 10 : [1 2 3 4 5]\n",
      "Similarity no. 11 : [1 2 3 5 4]\n",
      "Similarity no. 12 : [1 2 3 4 5]\n",
      "Similarity no. 13 : [1 2 3 5 4]\n"
     ]
    }
   ],
   "source": [
    "for i in range(13):\n",
    "    print(\"Similarity no.\",i+1,\":\",np.array(rank(mat,i)))"
   ]
  },
  {
   "cell_type": "code",
   "execution_count": 17,
   "metadata": {},
   "outputs": [
    {
     "name": "stdout",
     "output_type": "stream",
     "text": [
      "Similarity no. 1 : 4\n",
      "Similarity no. 2 : 4\n",
      "Similarity no. 3 : 4\n",
      "Similarity no. 4 : 4\n",
      "Similarity no. 5 : 4\n",
      "Similarity no. 6 : 4\n",
      "Similarity no. 7 : 4\n",
      "Similarity no. 8 : 4\n",
      "Similarity no. 9 : 4\n",
      "Similarity no. 10 : 5\n",
      "Similarity no. 11 : 4\n",
      "Similarity no. 12 : 5\n",
      "Similarity no. 13 : 4\n"
     ]
    }
   ],
   "source": [
    " for i in range(13):\n",
    "    print(\"Similarity no.\",i+1,\":\",alt(mat,i))"
   ]
  },
  {
   "cell_type": "code",
   "execution_count": 18,
   "metadata": {},
   "outputs": [
    {
     "name": "stderr",
     "output_type": "stream",
     "text": [
      "The PostScript backend does not support transparency; partially transparent artists will be rendered opaque.\n",
      "The PostScript backend does not support transparency; partially transparent artists will be rendered opaque.\n"
     ]
    },
    {
     "data": {
      "image/png": "[encoded data removed]",
      "text/plain": [
       "<Figure size 720x324 with 1 Axes>"
      ]
     },
     "metadata": {
      "needs_background": "light"
     },
     "output_type": "display_data"
    }
   ],
   "source": [
    "import matplotlib.pyplot as plt\n",
    "xaxis = [1,2,3,4,5,6,7,8,9,10,11,12,13]\n",
    "plt.plot(xaxis,[visual[i][0] for i in range(13)],\n",
    "         'go-', color='blue', label='A', marker='o')\n",
    "plt.plot(xaxis,[visual[i][1] for i in range(13)],\n",
    "         'go-', color='green', label='A1', marker='o')\n",
    "plt.plot(xaxis,[visual[i][2] for i in range(13)],\n",
    "         'go-', color='red', label='B', marker='o')\n",
    "plt.plot(xaxis,[visual[i][3] for i in range(13)],\n",
    "         'go-', color='cyan', label='C', marker='o')\n",
    "plt.plot(xaxis,[visual[i][4] for i in range(13)],\n",
    "         'go-', color='magenta', label='D', marker='o')\n",
    "plt.xticks(xaxis,[\"IM1\",\"IM2\",\"IM3\",\"IM4\",\"IM5\",\"IM6\",\"IM7\",\"IM8\",\"IM9\",\"IM10\",\"IM11\",\"IM12\",\"IM13\"])\n",
    "plt.xlabel(\"Information Measures\")\n",
    "plt.ylabel(\"Combination Scores\")\n",
    "plt.title(\"The visualization of combination scores Si and rank of combinations \\n using information measures IMi\")\n",
    "figure = plt.gcf()\n",
    "figure.set_size_inches(10,4.5)\n",
    "plt.legend(loc='upper center', ncol=5)\n",
    "plt.savefig('decision making.eps', format='eps')\n",
    "plt.show()"
   ]
  },
  {
   "cell_type": "code",
   "execution_count": null,
   "metadata": {},
   "outputs": [],
   "source": [
    "# 7.8\t6\t9.4\tLý\t5.5\tHóa\t7.5\tSinh\t5.5\n",
    "# Khối A: 20.8đ Khối A1: 22.7đ Khối B: 20.8đ Khối D: 23.2đ"
   ]
  }
 ],
 "metadata": {
  "kernelspec": {
   "display_name": "Python 3",
   "language": "python",
   "name": "python3"
  },
  "language_info": {
   "codemirror_mode": {
    "name": "ipython",
    "version": 3
   },
   "file_extension": ".py",
   "mimetype": "text/x-python",
   "name": "python",
   "nbconvert_exporter": "python",
   "pygments_lexer": "ipython3",
   "version": "3.8.8"
  }
 },
 "nbformat": 4,
 "nbformat_minor": 4
}

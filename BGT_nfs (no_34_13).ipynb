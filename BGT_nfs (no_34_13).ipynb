{
 "cells": [
  {
   "cell_type": "code",
   "execution_count": 1,
   "metadata": {},
   "outputs": [
    {
     "data": {
      "text/html": [
       "<div>\n",
       "<style scoped>\n",
       "    .dataframe tbody tr th:only-of-type {\n",
       "        vertical-align: middle;\n",
       "    }\n",
       "\n",
       "    .dataframe tbody tr th {\n",
       "        vertical-align: top;\n",
       "    }\n",
       "\n",
       "    .dataframe thead th {\n",
       "        text-align: right;\n",
       "    }\n",
       "</style>\n",
       "<table border=\"1\" class=\"dataframe\">\n",
       "  <thead>\n",
       "    <tr style=\"text-align: right;\">\n",
       "      <th></th>\n",
       "      <th>T10</th>\n",
       "      <th>T10_T</th>\n",
       "      <th>T10_F</th>\n",
       "      <th>T10_I</th>\n",
       "      <th>L10</th>\n",
       "      <th>L10_T</th>\n",
       "      <th>L10_F</th>\n",
       "      <th>L10_I</th>\n",
       "      <th>H10</th>\n",
       "      <th>H10_T</th>\n",
       "      <th>...</th>\n",
       "      <th>SU12_F</th>\n",
       "      <th>SU12_I</th>\n",
       "      <th>D12</th>\n",
       "      <th>D12_T</th>\n",
       "      <th>D12_F</th>\n",
       "      <th>D12_I</th>\n",
       "      <th>AV12</th>\n",
       "      <th>AV12_T</th>\n",
       "      <th>AV12_F</th>\n",
       "      <th>AV12_I</th>\n",
       "    </tr>\n",
       "  </thead>\n",
       "  <tbody>\n",
       "    <tr>\n",
       "      <th>0</th>\n",
       "      <td>9.3</td>\n",
       "      <td>10</td>\n",
       "      <td>0</td>\n",
       "      <td>0</td>\n",
       "      <td>7.7</td>\n",
       "      <td>8</td>\n",
       "      <td>2</td>\n",
       "      <td>2</td>\n",
       "      <td>8.6</td>\n",
       "      <td>8</td>\n",
       "      <td>...</td>\n",
       "      <td>0</td>\n",
       "      <td>0</td>\n",
       "      <td>8.9</td>\n",
       "      <td>10</td>\n",
       "      <td>0</td>\n",
       "      <td>0</td>\n",
       "      <td>7.8</td>\n",
       "      <td>10</td>\n",
       "      <td>0</td>\n",
       "      <td>0</td>\n",
       "    </tr>\n",
       "    <tr>\n",
       "      <th>1</th>\n",
       "      <td>9.1</td>\n",
       "      <td>9</td>\n",
       "      <td>1</td>\n",
       "      <td>1</td>\n",
       "      <td>7.1</td>\n",
       "      <td>9</td>\n",
       "      <td>2</td>\n",
       "      <td>5</td>\n",
       "      <td>8.0</td>\n",
       "      <td>7</td>\n",
       "      <td>...</td>\n",
       "      <td>5</td>\n",
       "      <td>4</td>\n",
       "      <td>8.8</td>\n",
       "      <td>7</td>\n",
       "      <td>1</td>\n",
       "      <td>1</td>\n",
       "      <td>7.6</td>\n",
       "      <td>7</td>\n",
       "      <td>6</td>\n",
       "      <td>4</td>\n",
       "    </tr>\n",
       "    <tr>\n",
       "      <th>2</th>\n",
       "      <td>9.4</td>\n",
       "      <td>8</td>\n",
       "      <td>2</td>\n",
       "      <td>2</td>\n",
       "      <td>7.6</td>\n",
       "      <td>10</td>\n",
       "      <td>0</td>\n",
       "      <td>0</td>\n",
       "      <td>9.0</td>\n",
       "      <td>10</td>\n",
       "      <td>...</td>\n",
       "      <td>0</td>\n",
       "      <td>0</td>\n",
       "      <td>9.0</td>\n",
       "      <td>10</td>\n",
       "      <td>0</td>\n",
       "      <td>0</td>\n",
       "      <td>9.0</td>\n",
       "      <td>10</td>\n",
       "      <td>0</td>\n",
       "      <td>0</td>\n",
       "    </tr>\n",
       "    <tr>\n",
       "      <th>3</th>\n",
       "      <td>9.3</td>\n",
       "      <td>9</td>\n",
       "      <td>0</td>\n",
       "      <td>9</td>\n",
       "      <td>7.1</td>\n",
       "      <td>9</td>\n",
       "      <td>8</td>\n",
       "      <td>8</td>\n",
       "      <td>8.7</td>\n",
       "      <td>9</td>\n",
       "      <td>...</td>\n",
       "      <td>8</td>\n",
       "      <td>6</td>\n",
       "      <td>8.2</td>\n",
       "      <td>9</td>\n",
       "      <td>7</td>\n",
       "      <td>6</td>\n",
       "      <td>8.3</td>\n",
       "      <td>8</td>\n",
       "      <td>8</td>\n",
       "      <td>9</td>\n",
       "    </tr>\n",
       "    <tr>\n",
       "      <th>4</th>\n",
       "      <td>9.3</td>\n",
       "      <td>8</td>\n",
       "      <td>2</td>\n",
       "      <td>3</td>\n",
       "      <td>9.6</td>\n",
       "      <td>6</td>\n",
       "      <td>4</td>\n",
       "      <td>6</td>\n",
       "      <td>8.6</td>\n",
       "      <td>7</td>\n",
       "      <td>...</td>\n",
       "      <td>7</td>\n",
       "      <td>4</td>\n",
       "      <td>9.6</td>\n",
       "      <td>6</td>\n",
       "      <td>4</td>\n",
       "      <td>5</td>\n",
       "      <td>9.4</td>\n",
       "      <td>6</td>\n",
       "      <td>4</td>\n",
       "      <td>5</td>\n",
       "    </tr>\n",
       "  </tbody>\n",
       "</table>\n",
       "<p>5 rows × 96 columns</p>\n",
       "</div>"
      ],
      "text/plain": [
       "   T10  T10_T  T10_F  T10_I  L10  L10_T  L10_F  L10_I  H10  H10_T  ...  \\\n",
       "0  9.3     10      0      0  7.7      8      2      2  8.6      8  ...   \n",
       "1  9.1      9      1      1  7.1      9      2      5  8.0      7  ...   \n",
       "2  9.4      8      2      2  7.6     10      0      0  9.0     10  ...   \n",
       "3  9.3      9      0      9  7.1      9      8      8  8.7      9  ...   \n",
       "4  9.3      8      2      3  9.6      6      4      6  8.6      7  ...   \n",
       "\n",
       "   SU12_F  SU12_I  D12  D12_T  D12_F  D12_I  AV12  AV12_T  AV12_F  AV12_I  \n",
       "0       0       0  8.9     10      0      0   7.8      10       0       0  \n",
       "1       5       4  8.8      7      1      1   7.6       7       6       4  \n",
       "2       0       0  9.0     10      0      0   9.0      10       0       0  \n",
       "3       8       6  8.2      9      7      6   8.3       8       8       9  \n",
       "4       7       4  9.6      6      4      5   9.4       6       4       5  \n",
       "\n",
       "[5 rows x 96 columns]"
      ]
     },
     "execution_count": 1,
     "metadata": {},
     "output_type": "execute_result"
    }
   ],
   "source": [
    "import pandas as pd\n",
    "import numpy as np\n",
    "\n",
    "data = pd.read_csv(\"BGT.csv\") \n",
    "data.head(5)\n",
    "#print(data)"
   ]
  },
  {
   "cell_type": "code",
   "execution_count": 2,
   "metadata": {},
   "outputs": [
    {
     "name": "stdout",
     "output_type": "stream",
     "text": [
      "[8.9 7.  9.  8.  9.6 9.  2.  2.  9.4 6.  9.  8.  9.3 7.  5.  6.  8.7 8.\n",
      " 2.  2.  9.2 7.  9.  8.  8.8 7.  5.  6.  9.2 8.  1.  1.  9.6 9.  1.  0.\n",
      " 9.6 8.  2.  2.  8.5 5.  7.  7.  9.5 7.  8.  5.  8.8 8.  2.  3.  9.2 6.\n",
      " 7.  5.  9.3 7.  4.  4.  9.3 8.  2.  2.  9.9 8.  1.  1.  9.2 8.  3.  1.\n",
      " 8.7 2.  9.  9.  9.1 2.  5.  5.  9.  8.  3.  4.  9.  8.  5.  4.  9.4 6.\n",
      " 8.  6.  9.6 9.  2.  1. ]\n"
     ]
    }
   ],
   "source": [
    "duc = np.array(data[34:35])[0]\n",
    "print(duc)"
   ]
  },
  {
   "cell_type": "code",
   "execution_count": 3,
   "metadata": {},
   "outputs": [
    {
     "name": "stdout",
     "output_type": "stream",
     "text": [
      "[8.9 7.  9.  8. ]\n",
      "[9.6 9.  2.  2. ]\n",
      "[9.4 6.  9.  8. ]\n",
      "[9.3        7.33333333 6.66666667 6.        ]\n",
      "[9.6 9.  1.  0. ]\n",
      "[9.6 8.  2.  2. ]\n",
      "[8.5 5.  7.  7. ]\n",
      "[9.23333333 7.33333333 3.33333333 3.        ]\n",
      "[9.9 8.  1.  1. ]\n",
      "[9.2 8.  3.  1. ]\n",
      "[8.7 2.  9.  9. ]\n",
      "[9.26666667 6.         4.33333333 3.66666667]\n"
     ]
    }
   ],
   "source": [
    "T10 = duc[0:4]\n",
    "print(T10)\n",
    "L10 = duc[4:8]\n",
    "print(L10)\n",
    "H10 = duc[8:12]\n",
    "print(H10)\n",
    "A10 = np.mean(np.array([T10,L10,H10]),axis=0)\n",
    "print(A10)\n",
    "\n",
    "T11 = duc[32:36]\n",
    "print(T11)\n",
    "L11 = duc[36:40]\n",
    "print(L11)\n",
    "H11 = duc[40:44]\n",
    "print(H11)\n",
    "A11 = np.mean(np.array([T11,L11,H11]),axis=0)\n",
    "print(A11)\n",
    "\n",
    "T12 = duc[64:68]\n",
    "print(T12)\n",
    "L12 = duc[68:72]\n",
    "print(L12)\n",
    "H12 = duc[72:76]\n",
    "print(H12)\n",
    "A12 = np.mean(np.array([T12,L12,H12]),axis=0)\n",
    "print(A12)\n",
    "\n",
    "A = [A10,A11,A12]"
   ]
  },
  {
   "cell_type": "code",
   "execution_count": 4,
   "metadata": {},
   "outputs": [
    {
     "name": "stdout",
     "output_type": "stream",
     "text": [
      "[8.9 7.  9.  8. ]\n",
      "[9.6 9.  2.  2. ]\n",
      "[9.2 8.  1.  1. ]\n",
      "[9.23333333 8.         4.         3.66666667]\n",
      "[9.6 9.  1.  0. ]\n",
      "[9.6 8.  2.  2. ]\n",
      "[9.3 8.  2.  2. ]\n",
      "[9.5        8.33333333 1.66666667 1.33333333]\n",
      "[9.9 8.  1.  1. ]\n",
      "[9.2 8.  3.  1. ]\n",
      "[9.6 9.  2.  1. ]\n",
      "[9.56666667 8.33333333 2.         1.        ]\n"
     ]
    }
   ],
   "source": [
    "T10 = duc[0:4]\n",
    "print(T10)\n",
    "L10 = duc[4:8]\n",
    "print(L10)\n",
    "A10 = duc[28:32]\n",
    "print(A10)\n",
    "A110 = np.mean(np.array([T10,L10,A10]),axis=0)\n",
    "print(A110)\n",
    "\n",
    "T11 = duc[32:36]\n",
    "print(T11)\n",
    "L11 = duc[36:40]\n",
    "print(L11)\n",
    "A11 = duc[60:64]\n",
    "print(A11)\n",
    "A111 = np.mean(np.array([T11,L11,A11]),axis=0)\n",
    "print(A111)\n",
    "\n",
    "T12 = duc[64:68]\n",
    "print(T12)\n",
    "L12 = duc[68:72]\n",
    "print(L12)\n",
    "A12 = duc[92:96]\n",
    "print(A12)\n",
    "A112 = np.mean(np.array([T12,L12,A12]),axis=0)\n",
    "print(A112)\n",
    "\n",
    "A1 = [A110,A111,A112]"
   ]
  },
  {
   "cell_type": "code",
   "execution_count": 5,
   "metadata": {},
   "outputs": [
    {
     "name": "stdout",
     "output_type": "stream",
     "text": [
      "[8.9 7.  9.  8. ]\n",
      "[9.4 6.  9.  8. ]\n",
      "[9.3 7.  5.  6. ]\n",
      "[9.2 8.  1.  1. ]\n",
      "[9.6 9.  1.  0. ]\n",
      "[8.5 5.  7.  7. ]\n",
      "[9.5 7.  8.  5. ]\n",
      "[9.2        7.         5.33333333 4.        ]\n",
      "[9.9 8.  1.  1. ]\n",
      "[8.7 2.  9.  9. ]\n",
      "[9.1 2.  5.  5. ]\n",
      "[9.23333333 4.         5.         5.        ]\n"
     ]
    }
   ],
   "source": [
    "T10 = duc[0:4]\n",
    "print(T10)\n",
    "H10 = duc[8:12]\n",
    "print(H10)\n",
    "SI10 = duc[12:16]\n",
    "print(SI10)\n",
    "B10 = np.mean(np.array([T10,H10,SI10]),axis=0)\n",
    "print(A10)\n",
    "\n",
    "T11 = duc[32:36]\n",
    "print(T11)\n",
    "H11 = duc[40:44]\n",
    "print(H11)\n",
    "SI11 = duc[44:48]\n",
    "print(SI11)\n",
    "B11 = np.mean(np.array([T11,H11,SI11]),axis=0)\n",
    "print(B11)\n",
    "\n",
    "T12 = duc[64:68]\n",
    "print(T12)\n",
    "H12 = duc[72:76]\n",
    "print(H12)\n",
    "SI12 = duc[76:80]\n",
    "print(SI12)\n",
    "B12 = np.mean(np.array([T12,H12,SI12]),axis=0)\n",
    "print(B12)\n",
    "\n",
    "B = [B10,B11,B12]"
   ]
  },
  {
   "cell_type": "code",
   "execution_count": 6,
   "metadata": {},
   "outputs": [
    {
     "name": "stdout",
     "output_type": "stream",
     "text": [
      "[8.7 8.  2.  2. ]\n",
      "[9.2 7.  9.  8. ]\n",
      "[8.8 7.  5.  6. ]\n",
      "[9.2 8.  1.  1. ]\n",
      "[8.8 8.  2.  3. ]\n",
      "[9.2 6.  7.  5. ]\n",
      "[9.3 7.  4.  4. ]\n",
      "[9.2        7.         5.33333333 4.        ]\n",
      "[9. 8. 3. 4.]\n",
      "[9. 8. 5. 4.]\n",
      "[9.4 6.  8.  6. ]\n",
      "[9.23333333 4.         5.         5.        ]\n"
     ]
    }
   ],
   "source": [
    "V10 = duc[16:20]\n",
    "print(V10)\n",
    "SU10 = duc[20:24]\n",
    "print(SU10)\n",
    "D10 = duc[24:28]\n",
    "print(D10)\n",
    "C10 = np.mean(np.array([V10,SU10,D10]),axis=0)\n",
    "print(A10)\n",
    "\n",
    "V11 = duc[48:52]\n",
    "print(V11)\n",
    "SU11 = duc[52:56]\n",
    "print(SU11)\n",
    "D11 = duc[56:60]\n",
    "print(D11)\n",
    "C11 = np.mean(np.array([V11,SU11,D11]),axis=0)\n",
    "print(B11)\n",
    "\n",
    "V12 = duc[80:84]\n",
    "print(V12)\n",
    "SU12 = duc[84:88]\n",
    "print(SU12)\n",
    "D12 = duc[88:92]\n",
    "print(D12)\n",
    "C12 = np.mean(np.array([V12,SU12,D12]),axis=0)\n",
    "print(B12)\n",
    "\n",
    "C = [C10,C11,C12]"
   ]
  },
  {
   "cell_type": "code",
   "execution_count": 7,
   "metadata": {},
   "outputs": [
    {
     "name": "stdout",
     "output_type": "stream",
     "text": [
      "[8.9 7.  9.  8. ]\n",
      "[8.7 8.  2.  2. ]\n",
      "[9.2 8.  1.  1. ]\n",
      "[8.93333333 7.66666667 4.         3.66666667]\n",
      "[9.6 9.  1.  0. ]\n",
      "[8.8 8.  2.  3. ]\n",
      "[9.3 8.  2.  2. ]\n",
      "[9.23333333 8.33333333 1.66666667 1.66666667]\n",
      "[9.9 8.  1.  1. ]\n",
      "[9. 8. 3. 4.]\n",
      "[9.6 9.  2.  1. ]\n",
      "[9.5        8.33333333 2.         2.        ]\n"
     ]
    }
   ],
   "source": [
    "T10 = duc[0:4]\n",
    "print(T10)\n",
    "V10 = duc[16:20]\n",
    "print(V10)\n",
    "A10 = duc[28:32]\n",
    "print(A10)\n",
    "DD10 = np.mean(np.array([T10,V10,A10]),axis=0)\n",
    "print(DD10)\n",
    "\n",
    "T11 = duc[32:36]\n",
    "print(T11)\n",
    "V11 = duc[48:52]\n",
    "print(V11)\n",
    "A11 = duc[60:64]\n",
    "print(A11)\n",
    "DD11 = np.mean(np.array([T11,V11,A11]),axis=0)\n",
    "print(DD11)\n",
    "\n",
    "T12 = duc[64:68]\n",
    "print(T12)\n",
    "V12 = duc[80:84]\n",
    "print(V12)\n",
    "A12 = duc[92:96]\n",
    "print(A12)\n",
    "DD12 = np.mean(np.array([T12,V12,A12]),axis=0)\n",
    "print(DD12)\n",
    "\n",
    "D = [DD10,DD11,DD12]"
   ]
  },
  {
   "cell_type": "code",
   "execution_count": 8,
   "metadata": {},
   "outputs": [
    {
     "name": "stdout",
     "output_type": "stream",
     "text": [
      "[[[0.93       0.24444444 0.2        0.22222222]\n",
      "  [0.92333333 0.24444444 0.1        0.11111111]\n",
      "  [0.92666667 0.2        0.12222222 0.14444444]]\n",
      "\n",
      " [[0.92333333 0.26666667 0.12222222 0.13333333]\n",
      "  [0.95       0.27777778 0.04444444 0.05555556]\n",
      "  [0.95666667 0.27777778 0.03333333 0.06666667]]\n",
      "\n",
      " [[0.92       0.22222222 0.24444444 0.25555556]\n",
      "  [0.92       0.23333333 0.13333333 0.17777778]\n",
      "  [0.92333333 0.13333333 0.16666667 0.16666667]]\n",
      "\n",
      " [[0.89       0.24444444 0.17777778 0.17777778]\n",
      "  [0.91       0.23333333 0.13333333 0.14444444]\n",
      "  [0.91333333 0.24444444 0.15555556 0.17777778]]\n",
      "\n",
      " [[0.89333333 0.25555556 0.12222222 0.13333333]\n",
      "  [0.92333333 0.27777778 0.05555556 0.05555556]\n",
      "  [0.95       0.27777778 0.06666667 0.06666667]]]\n"
     ]
    }
   ],
   "source": [
    "from dm import *\n",
    "from im import *\n",
    "\n",
    "def change(A):\n",
    "    Aok = []\n",
    "    for i in range(3):\n",
    "        temp = []\n",
    "        for j in range(4):\n",
    "            if j == 0:\n",
    "                temp.append(A[i][j]/10)\n",
    "            if j == 1:\n",
    "                temp.append(A[i][j]/30)\n",
    "            if j == 2:\n",
    "                temp.append(A[i][j+1]/30)\n",
    "            if j == 3:\n",
    "                temp.append(A[i][j-1]/30)\n",
    "        Aok.append(temp)\n",
    "    return(Aok)\n",
    "\n",
    "matrix = np.array([change(A),change(A1),change(B),change(C),change(D)])\n",
    "print(matrix)\n",
    "\n",
    "def rtc(A):\n",
    "    rtc = []\n",
    "    for i in range(3):\n",
    "        temp = []\n",
    "        for j in range(5):\n",
    "            temp.append(A[j][i])\n",
    "        rtc.append(temp)\n",
    "    return np.array(rtc)\n",
    "matric = rtc(matrix)"
   ]
  },
  {
   "cell_type": "code",
   "execution_count": 9,
   "metadata": {},
   "outputs": [
    {
     "name": "stdout",
     "output_type": "stream",
     "text": [
      "[[[0.93       0.24444444 0.2        0.22222222]\n",
      "  [0.92333333 0.26666667 0.12222222 0.13333333]\n",
      "  [0.92       0.22222222 0.24444444 0.25555556]\n",
      "  [0.89       0.24444444 0.17777778 0.17777778]\n",
      "  [0.89333333 0.25555556 0.12222222 0.13333333]]\n",
      "\n",
      " [[0.92333333 0.24444444 0.1        0.11111111]\n",
      "  [0.95       0.27777778 0.04444444 0.05555556]\n",
      "  [0.92       0.23333333 0.13333333 0.17777778]\n",
      "  [0.91       0.23333333 0.13333333 0.14444444]\n",
      "  [0.92333333 0.27777778 0.05555556 0.05555556]]\n",
      "\n",
      " [[0.92666667 0.2        0.12222222 0.14444444]\n",
      "  [0.95666667 0.27777778 0.03333333 0.06666667]\n",
      "  [0.92333333 0.13333333 0.16666667 0.16666667]\n",
      "  [0.91333333 0.24444444 0.15555556 0.17777778]\n",
      "  [0.95       0.27777778 0.06666667 0.06666667]]]\n"
     ]
    }
   ],
   "source": [
    "cost = []\n",
    "mat = rnf(matric,cost)\n",
    "print(np.array(mat))"
   ]
  },
  {
   "cell_type": "code",
   "execution_count": 10,
   "metadata": {},
   "outputs": [
    {
     "name": "stdout",
     "output_type": "stream",
     "text": [
      "[0.54395299 0.42506651 0.42405651]\n",
      "[0.34655556 0.26511111 0.263     ]\n",
      "[0.42870431 0.33861865 0.33607258]\n",
      "[0.27490376 0.20549902 0.20382224]\n",
      "[0.24163763 0.17721578 0.1757383 ]\n",
      "[0.14605495 0.08707625 0.08608792]\n",
      "[0.51696152 0.40379256 0.40058701]\n",
      "[0.4357584  0.3480335  0.34550111]\n",
      "[0.27937764 0.21147398 0.20979007]\n",
      "[0.21745412 0.16289215 0.16044303]\n",
      "[0.21023107 0.1533585  0.15208354]\n",
      "[0.0568482  0.03913958 0.03693755]\n",
      "[0.05062842 0.03140189 0.03032379]\n"
     ]
    }
   ],
   "source": [
    "for i in range(13):\n",
    "    print(np.array(ej(mat,i)))"
   ]
  },
  {
   "cell_type": "code",
   "execution_count": 11,
   "metadata": {},
   "outputs": [
    {
     "name": "stdout",
     "output_type": "stream",
     "text": [
      "[0.00331523 0.00285776 0.00542188]\n",
      "[0.04327778 0.04027778 0.05788889]\n",
      "[0.03163624 0.029438   0.042525  ]\n",
      "[0.06085973 0.05665925 0.08067914]\n",
      "[0.06670253 0.06209963 0.08838969]\n",
      "[0.06789382 0.0631899  0.09071877]\n",
      "[0.00280024 0.00257216 0.00509986]\n",
      "[0.03401201 0.03165369 0.0455192 ]\n",
      "[0.06534154 0.06084189 0.08621819]\n",
      "[0.17179586 0.24366857 0.29862611]\n",
      "[0.10646001 0.10868977 0.15106914]\n",
      "[0.28713523 0.3670221  0.44041329]\n",
      "[0.09645142 0.06944115 0.10137473]\n"
     ]
    }
   ],
   "source": [
    "for i in range(13):\n",
    "    print(np.array(cj(mat,i)))"
   ]
  },
  {
   "cell_type": "code",
   "execution_count": 12,
   "metadata": {},
   "outputs": [
    {
     "name": "stdout",
     "output_type": "stream",
     "text": [
      "[0.67650304 0.72803969 0.64996307 0.66606016 0.71728673]\n",
      "[0.71498253 0.76767304 0.68476477 0.70612527 0.75777765]\n",
      "[0.68293771 0.73208795 0.6558669  0.67474636 0.72266275]\n",
      "[0.7418188  0.79649667 0.70935296 0.73253919 0.78641751]\n",
      "[0.7595564  0.81486401 0.72589356 0.75007659 0.80480371]\n",
      "[0.85089626 0.90591609 0.81275676 0.84092524 0.89662285]\n",
      "[0.67630914 0.72447703 0.64999105 0.66810433 0.71521441]\n",
      "[0.67588289 0.72400338 0.64959701 0.66789667 0.71473511]\n",
      "[0.73403689 0.78837265 0.70212882 0.7248635  0.77829901]\n",
      "[0.79681673 0.89251387 0.74793037 0.78111171 0.88027777]\n",
      "[0.84265516 0.92444931 0.79470452 0.82834314 0.91454704]\n",
      "[0.95003268 0.98590173 0.92208698 0.94367224 0.98367817]\n",
      "[0.96351876 0.98988444 0.94173152 0.9588878  0.98816861]\n"
     ]
    }
   ],
   "source": [
    "visual = []\n",
    "for i in range(13):\n",
    "    print(np.array(S(mat,i)))\n",
    "    visual.append(S(mat,i))"
   ]
  },
  {
   "cell_type": "code",
   "execution_count": 13,
   "metadata": {},
   "outputs": [
    {
     "name": "stdout",
     "output_type": "stream",
     "text": [
      "[0.83436562 0.86088785 0.81344391 0.83659135 0.85852252]\n",
      "[0.71498253 0.76767304 0.68476477 0.70612527 0.75777765]\n",
      "[0.77829422 0.82197016 0.75263227 0.77079152 0.81387154]\n",
      "[0.63814563 0.69855756 0.60462401 0.62822904 0.68701913]\n",
      "[0.60756127 0.67191667 0.57217421 0.59707365 0.65957151]\n",
      "[0.56674694 0.64260884 0.52454118 0.55439955 0.62814307]\n",
      "[0.90154833 0.93411686 0.88001878 0.89549806 0.92847712]\n",
      "[0.77245156 0.815636   0.74732763 0.76506908 0.80758681]\n",
      "[0.62906976 0.68845168 0.59642723 0.61936676 0.67705438]\n",
      "[0.2887593  0.3047019  0.27882997 0.28646023 0.2987426 ]\n",
      "[0.50364096 0.56782552 0.46960194 0.49353498 0.55251631]\n",
      "[0.22783033 0.24169283 0.22211489 0.21926177 0.23169924]\n",
      "[0.44499305 0.47936789 0.42810083 0.42692164 0.45882509]\n"
     ]
    }
   ],
   "source": [
    "for i in range(13):\n",
    "    print(np.array(Spos(mat,i)))"
   ]
  },
  {
   "cell_type": "code",
   "execution_count": 14,
   "metadata": {},
   "outputs": [
    {
     "name": "stdout",
     "output_type": "stream",
     "text": [
      "[0.39898526 0.32158594 0.43807936 0.41943836 0.33838032]\n",
      "[0.28501747 0.23232696 0.31523523 0.29387473 0.24222235]\n",
      "[0.36133273 0.30080499 0.39490585 0.37155109 0.31234056]\n",
      "[0.22209899 0.17848008 0.24773588 0.22937564 0.18658696]\n",
      "[0.19232834 0.15265855 0.2160601  0.19894326 0.15997182]\n",
      "[0.09931185 0.06673813 0.12084401 0.10487374 0.07242247]\n",
      "[0.43149344 0.35525025 0.4738749  0.44485855 0.36970298]\n",
      "[0.37042625 0.3109278  0.40312045 0.3804211  0.32232384]\n",
      "[0.22793043 0.18480499 0.25302833 0.23509309 0.19286113]\n",
      "[0.07363181 0.03669548 0.09397207 0.08027378 0.04063051]\n",
      "[0.09404239 0.04640558 0.12131196 0.10227484 0.05162572]\n",
      "[0.01198282 0.00345618 0.01876791 0.01308773 0.00384451]\n",
      "[0.01684855 0.00489863 0.02648821 0.01830422 0.00549353]\n"
     ]
    }
   ],
   "source": [
    "for i in range(13):\n",
    "    print(np.array(Sneg(mat,i)))"
   ]
  },
  {
   "cell_type": "code",
   "execution_count": 15,
   "metadata": {},
   "outputs": [
    {
     "name": "stdout",
     "output_type": "stream",
     "text": [
      "[0.67650304 0.72803969 0.64996307 0.66606016 0.71728673]\n",
      "[0.71498253 0.76767304 0.68476477 0.70612527 0.75777765]\n",
      "[0.68293771 0.73208795 0.6558669  0.67474636 0.72266275]\n",
      "[0.7418188  0.79649667 0.70935296 0.73253919 0.78641751]\n",
      "[0.7595564  0.81486401 0.72589356 0.75007659 0.80480371]\n",
      "[0.85089626 0.90591609 0.81275676 0.84092524 0.89662285]\n",
      "[0.67630914 0.72447703 0.64999105 0.66810433 0.71521441]\n",
      "[0.67588289 0.72400338 0.64959701 0.66789667 0.71473511]\n",
      "[0.73403689 0.78837265 0.70212882 0.7248635  0.77829901]\n",
      "[0.79681673 0.89251387 0.74793037 0.78111171 0.88027777]\n",
      "[0.84265516 0.92444931 0.79470452 0.82834314 0.91454704]\n",
      "[0.95003268 0.98590173 0.92208698 0.94367224 0.98367817]\n",
      "[0.96351876 0.98988444 0.94173152 0.9588878  0.98816861]\n"
     ]
    }
   ],
   "source": [
    "for i in range(13):\n",
    "    print(np.array(S(mat,i)))"
   ]
  },
  {
   "cell_type": "code",
   "execution_count": 16,
   "metadata": {},
   "outputs": [
    {
     "name": "stdout",
     "output_type": "stream",
     "text": [
      "Similarity no. 1 : [3 4 1 5 2]\n",
      "Similarity no. 2 : [3 4 1 5 2]\n",
      "Similarity no. 3 : [3 4 1 5 2]\n",
      "Similarity no. 4 : [3 4 1 5 2]\n",
      "Similarity no. 5 : [3 4 1 5 2]\n",
      "Similarity no. 6 : [3 4 1 5 2]\n",
      "Similarity no. 7 : [3 4 1 5 2]\n",
      "Similarity no. 8 : [3 4 1 5 2]\n",
      "Similarity no. 9 : [3 4 1 5 2]\n",
      "Similarity no. 10 : [3 4 1 5 2]\n",
      "Similarity no. 11 : [3 4 1 5 2]\n",
      "Similarity no. 12 : [3 4 1 5 2]\n",
      "Similarity no. 13 : [3 4 1 5 2]\n"
     ]
    }
   ],
   "source": [
    "for i in range(13):\n",
    "    print(\"Similarity no.\",i+1,\":\",np.array(rank(mat,i)))"
   ]
  },
  {
   "cell_type": "code",
   "execution_count": 17,
   "metadata": {},
   "outputs": [
    {
     "name": "stdout",
     "output_type": "stream",
     "text": [
      "Similarity no. 1 : 2\n",
      "Similarity no. 2 : 2\n",
      "Similarity no. 3 : 2\n",
      "Similarity no. 4 : 2\n",
      "Similarity no. 5 : 2\n",
      "Similarity no. 6 : 2\n",
      "Similarity no. 7 : 2\n",
      "Similarity no. 8 : 2\n",
      "Similarity no. 9 : 2\n",
      "Similarity no. 10 : 2\n",
      "Similarity no. 11 : 2\n",
      "Similarity no. 12 : 2\n",
      "Similarity no. 13 : 2\n"
     ]
    }
   ],
   "source": [
    " for i in range(13):\n",
    "    print(\"Similarity no.\",i+1,\":\",alt(mat,i))"
   ]
  },
  {
   "cell_type": "code",
   "execution_count": 18,
   "metadata": {},
   "outputs": [
    {
     "name": "stderr",
     "output_type": "stream",
     "text": [
      "The PostScript backend does not support transparency; partially transparent artists will be rendered opaque.\n",
      "The PostScript backend does not support transparency; partially transparent artists will be rendered opaque.\n"
     ]
    },
    {
     "data": {
      "image/png": "[encoded data removed]",
      "text/plain": [
       "<Figure size 720x324 with 1 Axes>"
      ]
     },
     "metadata": {
      "needs_background": "light"
     },
     "output_type": "display_data"
    }
   ],
   "source": [
    "import matplotlib.pyplot as plt\n",
    "xaxis = [1,2,3,4,5,6,7,8,9,10,11,12,13]\n",
    "plt.plot(xaxis,[visual[i][0] for i in range(13)],\n",
    "         'go-', color='blue', label='A', marker='o')\n",
    "plt.plot(xaxis,[visual[i][1] for i in range(13)],\n",
    "         'go-', color='green', label='A1', marker='o')\n",
    "plt.plot(xaxis,[visual[i][2] for i in range(13)],\n",
    "         'go-', color='red', label='B', marker='o')\n",
    "plt.plot(xaxis,[visual[i][3] for i in range(13)],\n",
    "         'go-', color='cyan', label='C', marker='o')\n",
    "plt.plot(xaxis,[visual[i][4] for i in range(13)],\n",
    "         'go-', color='magenta', label='D', marker='o')\n",
    "plt.xticks(xaxis,[\"IM1\",\"IM2\",\"IM3\",\"IM4\",\"IM5\",\"IM6\",\"IM7\",\"IM8\",\"IM9\",\"IM10\",\"IM11\",\"IM12\",\"IM13\"])\n",
    "plt.xlabel(\"Information Measures\")\n",
    "plt.ylabel(\"Combination Scores\")\n",
    "plt.title(\"The visualization of combination scores Si and rank of combinations \\n using information measures IMi\")\n",
    "figure = plt.gcf()\n",
    "figure.set_size_inches(10,4.5)\n",
    "plt.legend(loc='upper center', ncol=5)\n",
    "plt.savefig('decision making.eps', format='eps')\n",
    "plt.show()"
   ]
  },
  {
   "cell_type": "code",
   "execution_count": null,
   "metadata": {},
   "outputs": [],
   "source": [
    "# 8.8\t8.75\t9.2\tLý\t8.5\tHoá\t6\tSinh\t5.75\n",
    "# Khối A: 23.3đ. Khối A1: 26.5đ. Khối B: 20.55đ. Khối D: 26.75đ"
   ]
  }
 ],
 "metadata": {
  "kernelspec": {
   "display_name": "Python 3",
   "language": "python",
   "name": "python3"
  },
  "language_info": {
   "codemirror_mode": {
    "name": "ipython",
    "version": 3
   },
   "file_extension": ".py",
   "mimetype": "text/x-python",
   "name": "python",
   "nbconvert_exporter": "python",
   "pygments_lexer": "ipython3",
   "version": "3.8.8"
  }
 },
 "nbformat": 4,
 "nbformat_minor": 4
}

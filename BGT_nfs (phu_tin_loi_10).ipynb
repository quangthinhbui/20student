{
 "cells": [
  {
   "cell_type": "code",
   "execution_count": 1,
   "metadata": {},
   "outputs": [
    {
     "data": {
      "text/html": [
       "<div>\n",
       "<style scoped>\n",
       "    .dataframe tbody tr th:only-of-type {\n",
       "        vertical-align: middle;\n",
       "    }\n",
       "\n",
       "    .dataframe tbody tr th {\n",
       "        vertical-align: top;\n",
       "    }\n",
       "\n",
       "    .dataframe thead th {\n",
       "        text-align: right;\n",
       "    }\n",
       "</style>\n",
       "<table border=\"1\" class=\"dataframe\">\n",
       "  <thead>\n",
       "    <tr style=\"text-align: right;\">\n",
       "      <th></th>\n",
       "      <th>T10</th>\n",
       "      <th>T10_T</th>\n",
       "      <th>T10_F</th>\n",
       "      <th>T10_I</th>\n",
       "      <th>L10</th>\n",
       "      <th>L10_T</th>\n",
       "      <th>L10_F</th>\n",
       "      <th>L10_I</th>\n",
       "      <th>H10</th>\n",
       "      <th>H10_T</th>\n",
       "      <th>...</th>\n",
       "      <th>SU12_F</th>\n",
       "      <th>SU12_I</th>\n",
       "      <th>D12</th>\n",
       "      <th>D12_T</th>\n",
       "      <th>D12_F</th>\n",
       "      <th>D12_I</th>\n",
       "      <th>AV12</th>\n",
       "      <th>AV12_T</th>\n",
       "      <th>AV12_F</th>\n",
       "      <th>AV12_I</th>\n",
       "    </tr>\n",
       "  </thead>\n",
       "  <tbody>\n",
       "    <tr>\n",
       "      <th>0</th>\n",
       "      <td>9.3</td>\n",
       "      <td>10</td>\n",
       "      <td>0</td>\n",
       "      <td>0</td>\n",
       "      <td>7.7</td>\n",
       "      <td>8</td>\n",
       "      <td>2</td>\n",
       "      <td>2</td>\n",
       "      <td>8.6</td>\n",
       "      <td>8</td>\n",
       "      <td>...</td>\n",
       "      <td>0</td>\n",
       "      <td>0</td>\n",
       "      <td>8.9</td>\n",
       "      <td>10</td>\n",
       "      <td>0</td>\n",
       "      <td>0</td>\n",
       "      <td>7.8</td>\n",
       "      <td>10</td>\n",
       "      <td>0</td>\n",
       "      <td>0</td>\n",
       "    </tr>\n",
       "    <tr>\n",
       "      <th>1</th>\n",
       "      <td>9.1</td>\n",
       "      <td>9</td>\n",
       "      <td>1</td>\n",
       "      <td>1</td>\n",
       "      <td>7.1</td>\n",
       "      <td>9</td>\n",
       "      <td>2</td>\n",
       "      <td>5</td>\n",
       "      <td>8.0</td>\n",
       "      <td>7</td>\n",
       "      <td>...</td>\n",
       "      <td>5</td>\n",
       "      <td>4</td>\n",
       "      <td>8.8</td>\n",
       "      <td>7</td>\n",
       "      <td>1</td>\n",
       "      <td>1</td>\n",
       "      <td>7.6</td>\n",
       "      <td>7</td>\n",
       "      <td>6</td>\n",
       "      <td>4</td>\n",
       "    </tr>\n",
       "    <tr>\n",
       "      <th>2</th>\n",
       "      <td>9.4</td>\n",
       "      <td>8</td>\n",
       "      <td>2</td>\n",
       "      <td>2</td>\n",
       "      <td>7.6</td>\n",
       "      <td>10</td>\n",
       "      <td>0</td>\n",
       "      <td>0</td>\n",
       "      <td>9.0</td>\n",
       "      <td>10</td>\n",
       "      <td>...</td>\n",
       "      <td>0</td>\n",
       "      <td>0</td>\n",
       "      <td>9.0</td>\n",
       "      <td>10</td>\n",
       "      <td>0</td>\n",
       "      <td>0</td>\n",
       "      <td>9.0</td>\n",
       "      <td>10</td>\n",
       "      <td>0</td>\n",
       "      <td>0</td>\n",
       "    </tr>\n",
       "    <tr>\n",
       "      <th>3</th>\n",
       "      <td>9.3</td>\n",
       "      <td>9</td>\n",
       "      <td>0</td>\n",
       "      <td>9</td>\n",
       "      <td>7.1</td>\n",
       "      <td>9</td>\n",
       "      <td>8</td>\n",
       "      <td>8</td>\n",
       "      <td>8.7</td>\n",
       "      <td>9</td>\n",
       "      <td>...</td>\n",
       "      <td>8</td>\n",
       "      <td>6</td>\n",
       "      <td>8.2</td>\n",
       "      <td>9</td>\n",
       "      <td>7</td>\n",
       "      <td>6</td>\n",
       "      <td>8.3</td>\n",
       "      <td>8</td>\n",
       "      <td>8</td>\n",
       "      <td>9</td>\n",
       "    </tr>\n",
       "    <tr>\n",
       "      <th>4</th>\n",
       "      <td>9.3</td>\n",
       "      <td>8</td>\n",
       "      <td>2</td>\n",
       "      <td>3</td>\n",
       "      <td>9.6</td>\n",
       "      <td>6</td>\n",
       "      <td>4</td>\n",
       "      <td>6</td>\n",
       "      <td>8.6</td>\n",
       "      <td>7</td>\n",
       "      <td>...</td>\n",
       "      <td>7</td>\n",
       "      <td>4</td>\n",
       "      <td>9.6</td>\n",
       "      <td>6</td>\n",
       "      <td>4</td>\n",
       "      <td>5</td>\n",
       "      <td>9.4</td>\n",
       "      <td>6</td>\n",
       "      <td>4</td>\n",
       "      <td>5</td>\n",
       "    </tr>\n",
       "  </tbody>\n",
       "</table>\n",
       "<p>5 rows × 96 columns</p>\n",
       "</div>"
      ],
      "text/plain": [
       "   T10  T10_T  T10_F  T10_I  L10  L10_T  L10_F  L10_I  H10  H10_T  ...  \\\n",
       "0  9.3     10      0      0  7.7      8      2      2  8.6      8  ...   \n",
       "1  9.1      9      1      1  7.1      9      2      5  8.0      7  ...   \n",
       "2  9.4      8      2      2  7.6     10      0      0  9.0     10  ...   \n",
       "3  9.3      9      0      9  7.1      9      8      8  8.7      9  ...   \n",
       "4  9.3      8      2      3  9.6      6      4      6  8.6      7  ...   \n",
       "\n",
       "   SU12_F  SU12_I  D12  D12_T  D12_F  D12_I  AV12  AV12_T  AV12_F  AV12_I  \n",
       "0       0       0  8.9     10      0      0   7.8      10       0       0  \n",
       "1       5       4  8.8      7      1      1   7.6       7       6       4  \n",
       "2       0       0  9.0     10      0      0   9.0      10       0       0  \n",
       "3       8       6  8.2      9      7      6   8.3       8       8       9  \n",
       "4       7       4  9.6      6      4      5   9.4       6       4       5  \n",
       "\n",
       "[5 rows x 96 columns]"
      ]
     },
     "execution_count": 1,
     "metadata": {},
     "output_type": "execute_result"
    }
   ],
   "source": [
    "import pandas as pd\n",
    "import numpy as np\n",
    "\n",
    "data = pd.read_csv(\"BGT.csv\") \n",
    "data.head(5)\n",
    "#print(data)"
   ]
  },
  {
   "cell_type": "code",
   "execution_count": 2,
   "metadata": {},
   "outputs": [
    {
     "name": "stdout",
     "output_type": "stream",
     "text": [
      "[7.9 6.  5.  3.  6.8 7.  2.  3.  7.4 6.  5.  2.  8.6 8.  1.  0.  8.  7.\n",
      " 3.  2.  7.8 7.  0.  1.  8.4 8.  1.  2.  9.2 9.  0.  0.  8.1 7.  2.  1.\n",
      " 8.8 5.  4.  4.  7.5 8.  1.  2.  8.7 8.  1.  1.  7.9 6.  2.  3.  8.5 8.\n",
      " 1.  1.  8.7 7.  1.  2.  8.7 8.  1.  1.  8.5 9.  0.  0.  6.9 7.  0.  2.\n",
      " 7.6 8.  1.  1.  8.4 9.  1.  0.  7.9 6.  2.  3.  8.1 7.  1.  4.  8.2 6.\n",
      " 4.  5.  7.3 7.  3.  4. ]\n"
     ]
    }
   ],
   "source": [
    "duc = np.array(data[40:41])[0]\n",
    "print(duc)"
   ]
  },
  {
   "cell_type": "code",
   "execution_count": 3,
   "metadata": {},
   "outputs": [
    {
     "name": "stdout",
     "output_type": "stream",
     "text": [
      "[7.9 6.  5.  3. ]\n",
      "[6.8 7.  2.  3. ]\n",
      "[7.4 6.  5.  2. ]\n",
      "[7.36666667 6.33333333 4.         2.66666667]\n",
      "[8.1 7.  2.  1. ]\n",
      "[8.8 5.  4.  4. ]\n",
      "[7.5 8.  1.  2. ]\n",
      "[8.13333333 6.66666667 2.33333333 2.33333333]\n",
      "[8.5 9.  0.  0. ]\n",
      "[6.9 7.  0.  2. ]\n",
      "[7.6 8.  1.  1. ]\n",
      "[7.66666667 8.         0.33333333 1.        ]\n"
     ]
    }
   ],
   "source": [
    "T10 = duc[0:4]\n",
    "print(T10)\n",
    "L10 = duc[4:8]\n",
    "print(L10)\n",
    "H10 = duc[8:12]\n",
    "print(H10)\n",
    "A10 = np.mean(np.array([T10,L10,H10]),axis=0)\n",
    "print(A10)\n",
    "\n",
    "T11 = duc[32:36]\n",
    "print(T11)\n",
    "L11 = duc[36:40]\n",
    "print(L11)\n",
    "H11 = duc[40:44]\n",
    "print(H11)\n",
    "A11 = np.mean(np.array([T11,L11,H11]),axis=0)\n",
    "print(A11)\n",
    "\n",
    "T12 = duc[64:68]\n",
    "print(T12)\n",
    "L12 = duc[68:72]\n",
    "print(L12)\n",
    "H12 = duc[72:76]\n",
    "print(H12)\n",
    "A12 = np.mean(np.array([T12,L12,H12]),axis=0)\n",
    "print(A12)\n",
    "\n",
    "A = [A10,A11,A12]"
   ]
  },
  {
   "cell_type": "code",
   "execution_count": 4,
   "metadata": {},
   "outputs": [
    {
     "name": "stdout",
     "output_type": "stream",
     "text": [
      "[7.9 6.  5.  3. ]\n",
      "[6.8 7.  2.  3. ]\n",
      "[9.2 9.  0.  0. ]\n",
      "[7.96666667 7.33333333 2.33333333 2.        ]\n",
      "[8.1 7.  2.  1. ]\n",
      "[8.8 5.  4.  4. ]\n",
      "[8.7 8.  1.  1. ]\n",
      "[8.53333333 6.66666667 2.33333333 2.        ]\n",
      "[8.5 9.  0.  0. ]\n",
      "[6.9 7.  0.  2. ]\n",
      "[7.3 7.  3.  4. ]\n",
      "[7.56666667 7.66666667 1.         2.        ]\n"
     ]
    }
   ],
   "source": [
    "T10 = duc[0:4]\n",
    "print(T10)\n",
    "L10 = duc[4:8]\n",
    "print(L10)\n",
    "A10 = duc[28:32]\n",
    "print(A10)\n",
    "A110 = np.mean(np.array([T10,L10,A10]),axis=0)\n",
    "print(A110)\n",
    "\n",
    "T11 = duc[32:36]\n",
    "print(T11)\n",
    "L11 = duc[36:40]\n",
    "print(L11)\n",
    "A11 = duc[60:64]\n",
    "print(A11)\n",
    "A111 = np.mean(np.array([T11,L11,A11]),axis=0)\n",
    "print(A111)\n",
    "\n",
    "T12 = duc[64:68]\n",
    "print(T12)\n",
    "L12 = duc[68:72]\n",
    "print(L12)\n",
    "A12 = duc[92:96]\n",
    "print(A12)\n",
    "A112 = np.mean(np.array([T12,L12,A12]),axis=0)\n",
    "print(A112)\n",
    "\n",
    "A1 = [A110,A111,A112]"
   ]
  },
  {
   "cell_type": "code",
   "execution_count": 5,
   "metadata": {},
   "outputs": [
    {
     "name": "stdout",
     "output_type": "stream",
     "text": [
      "[7.9 6.  5.  3. ]\n",
      "[7.4 6.  5.  2. ]\n",
      "[8.6 8.  1.  0. ]\n",
      "[9.2 9.  0.  0. ]\n",
      "[8.1 7.  2.  1. ]\n",
      "[7.5 8.  1.  2. ]\n",
      "[8.7 8.  1.  1. ]\n",
      "[8.1        7.66666667 1.33333333 1.33333333]\n",
      "[8.5 9.  0.  0. ]\n",
      "[7.6 8.  1.  1. ]\n",
      "[8.4 9.  1.  0. ]\n",
      "[8.16666667 8.66666667 0.66666667 0.33333333]\n"
     ]
    }
   ],
   "source": [
    "T10 = duc[0:4]\n",
    "print(T10)\n",
    "H10 = duc[8:12]\n",
    "print(H10)\n",
    "SI10 = duc[12:16]\n",
    "print(SI10)\n",
    "B10 = np.mean(np.array([T10,H10,SI10]),axis=0)\n",
    "print(A10)\n",
    "\n",
    "T11 = duc[32:36]\n",
    "print(T11)\n",
    "H11 = duc[40:44]\n",
    "print(H11)\n",
    "SI11 = duc[44:48]\n",
    "print(SI11)\n",
    "B11 = np.mean(np.array([T11,H11,SI11]),axis=0)\n",
    "print(B11)\n",
    "\n",
    "T12 = duc[64:68]\n",
    "print(T12)\n",
    "H12 = duc[72:76]\n",
    "print(H12)\n",
    "SI12 = duc[76:80]\n",
    "print(SI12)\n",
    "B12 = np.mean(np.array([T12,H12,SI12]),axis=0)\n",
    "print(B12)\n",
    "\n",
    "B = [B10,B11,B12]"
   ]
  },
  {
   "cell_type": "code",
   "execution_count": 6,
   "metadata": {},
   "outputs": [
    {
     "name": "stdout",
     "output_type": "stream",
     "text": [
      "[8. 7. 3. 2.]\n",
      "[7.8 7.  0.  1. ]\n",
      "[8.4 8.  1.  2. ]\n",
      "[9.2 9.  0.  0. ]\n",
      "[7.9 6.  2.  3. ]\n",
      "[8.5 8.  1.  1. ]\n",
      "[8.7 7.  1.  2. ]\n",
      "[8.1        7.66666667 1.33333333 1.33333333]\n",
      "[7.9 6.  2.  3. ]\n",
      "[8.1 7.  1.  4. ]\n",
      "[8.2 6.  4.  5. ]\n",
      "[8.16666667 8.66666667 0.66666667 0.33333333]\n"
     ]
    }
   ],
   "source": [
    "V10 = duc[16:20]\n",
    "print(V10)\n",
    "SU10 = duc[20:24]\n",
    "print(SU10)\n",
    "D10 = duc[24:28]\n",
    "print(D10)\n",
    "C10 = np.mean(np.array([V10,SU10,D10]),axis=0)\n",
    "print(A10)\n",
    "\n",
    "V11 = duc[48:52]\n",
    "print(V11)\n",
    "SU11 = duc[52:56]\n",
    "print(SU11)\n",
    "D11 = duc[56:60]\n",
    "print(D11)\n",
    "C11 = np.mean(np.array([V11,SU11,D11]),axis=0)\n",
    "print(B11)\n",
    "\n",
    "V12 = duc[80:84]\n",
    "print(V12)\n",
    "SU12 = duc[84:88]\n",
    "print(SU12)\n",
    "D12 = duc[88:92]\n",
    "print(D12)\n",
    "C12 = np.mean(np.array([V12,SU12,D12]),axis=0)\n",
    "print(B12)\n",
    "\n",
    "C = [C10,C11,C12]"
   ]
  },
  {
   "cell_type": "code",
   "execution_count": 7,
   "metadata": {},
   "outputs": [
    {
     "name": "stdout",
     "output_type": "stream",
     "text": [
      "[7.9 6.  5.  3. ]\n",
      "[8. 7. 3. 2.]\n",
      "[9.2 9.  0.  0. ]\n",
      "[8.36666667 7.33333333 2.66666667 1.66666667]\n",
      "[8.1 7.  2.  1. ]\n",
      "[7.9 6.  2.  3. ]\n",
      "[8.7 8.  1.  1. ]\n",
      "[8.23333333 7.         1.66666667 1.66666667]\n",
      "[8.5 9.  0.  0. ]\n",
      "[7.9 6.  2.  3. ]\n",
      "[7.3 7.  3.  4. ]\n",
      "[7.9        7.33333333 1.66666667 2.33333333]\n"
     ]
    }
   ],
   "source": [
    "T10 = duc[0:4]\n",
    "print(T10)\n",
    "V10 = duc[16:20]\n",
    "print(V10)\n",
    "A10 = duc[28:32]\n",
    "print(A10)\n",
    "DD10 = np.mean(np.array([T10,V10,A10]),axis=0)\n",
    "print(DD10)\n",
    "\n",
    "T11 = duc[32:36]\n",
    "print(T11)\n",
    "V11 = duc[48:52]\n",
    "print(V11)\n",
    "A11 = duc[60:64]\n",
    "print(A11)\n",
    "DD11 = np.mean(np.array([T11,V11,A11]),axis=0)\n",
    "print(DD11)\n",
    "\n",
    "T12 = duc[64:68]\n",
    "print(T12)\n",
    "V12 = duc[80:84]\n",
    "print(V12)\n",
    "A12 = duc[92:96]\n",
    "print(A12)\n",
    "DD12 = np.mean(np.array([T12,V12,A12]),axis=0)\n",
    "print(DD12)\n",
    "\n",
    "D = [DD10,DD11,DD12]"
   ]
  },
  {
   "cell_type": "code",
   "execution_count": 8,
   "metadata": {},
   "outputs": [
    {
     "name": "stdout",
     "output_type": "stream",
     "text": [
      "[[[0.73666667 0.21111111 0.08888889 0.13333333]\n",
      "  [0.81333333 0.22222222 0.07777778 0.07777778]\n",
      "  [0.76666667 0.26666667 0.03333333 0.01111111]]\n",
      "\n",
      " [[0.79666667 0.24444444 0.06666667 0.07777778]\n",
      "  [0.85333333 0.22222222 0.06666667 0.07777778]\n",
      "  [0.75666667 0.25555556 0.06666667 0.03333333]]\n",
      "\n",
      " [[0.79666667 0.22222222 0.05555556 0.12222222]\n",
      "  [0.81       0.25555556 0.04444444 0.04444444]\n",
      "  [0.81666667 0.28888889 0.01111111 0.02222222]]\n",
      "\n",
      " [[0.80666667 0.24444444 0.05555556 0.04444444]\n",
      "  [0.83666667 0.23333333 0.06666667 0.04444444]\n",
      "  [0.80666667 0.21111111 0.13333333 0.07777778]]\n",
      "\n",
      " [[0.83666667 0.24444444 0.05555556 0.08888889]\n",
      "  [0.82333333 0.23333333 0.05555556 0.05555556]\n",
      "  [0.79       0.24444444 0.07777778 0.05555556]]]\n"
     ]
    }
   ],
   "source": [
    "from dm import *\n",
    "from im import *\n",
    "\n",
    "def change(A):\n",
    "    Aok = []\n",
    "    for i in range(3):\n",
    "        temp = []\n",
    "        for j in range(4):\n",
    "            if j == 0:\n",
    "                temp.append(A[i][j]/10)\n",
    "            if j == 1:\n",
    "                temp.append(A[i][j]/30)\n",
    "            if j == 2:\n",
    "                temp.append(A[i][j+1]/30)\n",
    "            if j == 3:\n",
    "                temp.append(A[i][j-1]/30)\n",
    "        Aok.append(temp)\n",
    "    return(Aok)\n",
    "\n",
    "matrix = np.array([change(A),change(A1),change(B),change(C),change(D)])\n",
    "print(matrix)\n",
    "\n",
    "def rtc(A):\n",
    "    rtc = []\n",
    "    for i in range(3):\n",
    "        temp = []\n",
    "        for j in range(5):\n",
    "            temp.append(A[j][i])\n",
    "        rtc.append(temp)\n",
    "    return np.array(rtc)\n",
    "matric = rtc(matrix)"
   ]
  },
  {
   "cell_type": "code",
   "execution_count": 9,
   "metadata": {},
   "outputs": [
    {
     "name": "stdout",
     "output_type": "stream",
     "text": [
      "[[[0.73666667 0.21111111 0.08888889 0.13333333]\n",
      "  [0.79666667 0.24444444 0.06666667 0.07777778]\n",
      "  [0.79666667 0.22222222 0.05555556 0.12222222]\n",
      "  [0.80666667 0.24444444 0.05555556 0.04444444]\n",
      "  [0.83666667 0.24444444 0.05555556 0.08888889]]\n",
      "\n",
      " [[0.81333333 0.22222222 0.07777778 0.07777778]\n",
      "  [0.85333333 0.22222222 0.06666667 0.07777778]\n",
      "  [0.81       0.25555556 0.04444444 0.04444444]\n",
      "  [0.83666667 0.23333333 0.06666667 0.04444444]\n",
      "  [0.82333333 0.23333333 0.05555556 0.05555556]]\n",
      "\n",
      " [[0.76666667 0.26666667 0.03333333 0.01111111]\n",
      "  [0.75666667 0.25555556 0.06666667 0.03333333]\n",
      "  [0.81666667 0.28888889 0.01111111 0.02222222]\n",
      "  [0.80666667 0.21111111 0.13333333 0.07777778]\n",
      "  [0.79       0.24444444 0.07777778 0.05555556]]]\n"
     ]
    }
   ],
   "source": [
    "cost = []\n",
    "mat = rnf(matric,cost)\n",
    "print(np.array(mat))"
   ]
  },
  {
   "cell_type": "code",
   "execution_count": 10,
   "metadata": {},
   "outputs": [
    {
     "name": "stdout",
     "output_type": "stream",
     "text": [
      "[0.47380624 0.42531304 0.4428349 ]\n",
      "[0.29822222 0.26411111 0.28522222]\n",
      "[0.37620927 0.33807742 0.36184146]\n",
      "[0.23315228 0.20434991 0.22207649]\n",
      "[0.20252073 0.17595456 0.19224069]\n",
      "[0.10857711 0.08494414 0.09914367]\n",
      "[0.4510585  0.4030149  0.43297514]\n",
      "[0.38487991 0.34767701 0.37089959]\n",
      "[0.23872682 0.21047365 0.22789546]\n",
      "[0.18468399 0.1611102  0.18135792]\n",
      "[0.17556072 0.15218669 0.16649021]\n",
      "[0.04538648 0.03663535 0.05077728]\n",
      "[0.03854795 0.03048212 0.03984766]\n"
     ]
    }
   ],
   "source": [
    "for i in range(13):\n",
    "    print(np.array(ej(mat,i)))"
   ]
  },
  {
   "cell_type": "code",
   "execution_count": 11,
   "metadata": {},
   "outputs": [
    {
     "name": "stdout",
     "output_type": "stream",
     "text": [
      "[0.00160464 0.00049938 0.00230576]\n",
      "[0.02994444 0.01827778 0.03966667]\n",
      "[0.02180363 0.01325304 0.02895056]\n",
      "[0.04242184 0.02610182 0.05594605]\n",
      "[0.04650535 0.02861954 0.06132372]\n",
      "[0.04700542 0.02870506 0.06224655]\n",
      "[0.00136985 0.00046435 0.00226466]\n",
      "[0.02352612 0.01435674 0.03116957]\n",
      "[0.04572582 0.02825721 0.06015924]\n",
      "[0.17365777 0.14428631 0.33956007]\n",
      "[0.09529137 0.05974325 0.12768491]\n",
      "[0.28513826 0.24684896 0.47527917]\n",
      "[0.11303679 0.06202132 0.10684829]\n"
     ]
    }
   ],
   "source": [
    "for i in range(13):\n",
    "    print(np.array(cj(mat,i)))"
   ]
  },
  {
   "cell_type": "code",
   "execution_count": 12,
   "metadata": {},
   "outputs": [
    {
     "name": "stdout",
     "output_type": "stream",
     "text": [
      "[0.67757607 0.68841417 0.70069733 0.68703593 0.69182674]\n",
      "[0.71655634 0.72837504 0.74114282 0.72627173 0.73192135]\n",
      "[0.68424073 0.69487619 0.70680665 0.69303154 0.69813615]\n",
      "[0.74367751 0.75621947 0.76951275 0.75393947 0.75994041]\n",
      "[0.76150913 0.77443245 0.78787343 0.77206122 0.77822448]\n",
      "[0.85275829 0.867288   0.88031297 0.86449614 0.87120518]\n",
      "[0.67704689 0.68754638 0.6990796  0.68578436 0.690725  ]\n",
      "[0.67720089 0.68749759 0.69921577 0.68571705 0.69067964]\n",
      "[0.73593263 0.74822975 0.76149138 0.74599665 0.75191368]\n",
      "[0.88139484 0.89052695 0.91702737 0.87841706 0.89050531]\n",
      "[0.91002448 0.92029708 0.93973838 0.91277222 0.92122872]\n",
      "[0.98126888 0.98774738 0.99006182 0.98305723 0.98797564]\n",
      "[0.98488632 0.99077556 0.99217935 0.98795196 0.99114082]\n"
     ]
    }
   ],
   "source": [
    "visual = []\n",
    "for i in range(13):\n",
    "    print(np.array(S(mat,i)))\n",
    "    visual.append(S(mat,i))"
   ]
  },
  {
   "cell_type": "code",
   "execution_count": 13,
   "metadata": {},
   "outputs": [
    {
     "name": "stdout",
     "output_type": "stream",
     "text": [
      "[0.83276962 0.83958807 0.8466653  0.83637101 0.84137158]\n",
      "[0.71655634 0.72837504 0.74114282 0.72627173 0.73192135]\n",
      "[0.77937344 0.7894312  0.79993085 0.78762488 0.79238205]\n",
      "[0.64027118 0.65330733 0.66811603 0.65100854 0.65734237]\n",
      "[0.6099356  0.62368307 0.63950716 0.62126707 0.6279757 ]\n",
      "[0.56961452 0.58611575 0.60467954 0.58321295 0.59121209]\n",
      "[0.90178285 0.91038614 0.91789677 0.90877289 0.91266086]\n",
      "[0.77356044 0.78338345 0.79380228 0.78162473 0.78629167]\n",
      "[0.63120763 0.64386406 0.65847116 0.64163423 0.6478163 ]\n",
      "[0.25175042 0.26031018 0.26640294 0.26117767 0.26404185]\n",
      "[0.47125561 0.48951979 0.50775647 0.48871725 0.49633204]\n",
      "[0.16305214 0.17489883 0.18002938 0.17965553 0.18082069]\n",
      "[0.32374378 0.34964475 0.35795077 0.35775725 0.3610661 ]\n"
     ]
    }
   ],
   "source": [
    "for i in range(13):\n",
    "    print(np.array(Spos(mat,i)))"
   ]
  },
  {
   "cell_type": "code",
   "execution_count": 14,
   "metadata": {},
   "outputs": [
    {
     "name": "stdout",
     "output_type": "stream",
     "text": [
      "[0.39627263 0.38000924 0.36165285 0.38099037 0.3747878 ]\n",
      "[0.28344366 0.27162496 0.25885718 0.27372827 0.26807865]\n",
      "[0.35966054 0.34664341 0.33182257 0.34886723 0.34261439]\n",
      "[0.22068155 0.21060501 0.20011654 0.21246734 0.20764962]\n",
      "[0.19102079 0.18165905 0.17218052 0.18341921 0.17895818]\n",
      "[0.09835262 0.08968716 0.08221201 0.09141464 0.08740198]\n",
      "[0.43015274 0.41372255 0.39511074 0.41638548 0.40864771]\n",
      "[0.36873049 0.35608738 0.34147286 0.35824007 0.35214013]\n",
      "[0.22648994 0.21665245 0.2062414  0.21846913 0.21374044]\n",
      "[0.03387687 0.0320001  0.02410414 0.03614997 0.03246604]\n",
      "[0.04659377 0.04239518 0.03256037 0.04670357 0.04243975]\n",
      "[0.00311245 0.00216955 0.00180712 0.00309632 0.00220071]\n",
      "[0.00496805 0.0032553  0.00282147 0.00436284 0.00322734]\n"
     ]
    }
   ],
   "source": [
    "for i in range(13):\n",
    "    print(np.array(Sneg(mat,i)))"
   ]
  },
  {
   "cell_type": "code",
   "execution_count": 15,
   "metadata": {},
   "outputs": [
    {
     "name": "stdout",
     "output_type": "stream",
     "text": [
      "[0.67757607 0.68841417 0.70069733 0.68703593 0.69182674]\n",
      "[0.71655634 0.72837504 0.74114282 0.72627173 0.73192135]\n",
      "[0.68424073 0.69487619 0.70680665 0.69303154 0.69813615]\n",
      "[0.74367751 0.75621947 0.76951275 0.75393947 0.75994041]\n",
      "[0.76150913 0.77443245 0.78787343 0.77206122 0.77822448]\n",
      "[0.85275829 0.867288   0.88031297 0.86449614 0.87120518]\n",
      "[0.67704689 0.68754638 0.6990796  0.68578436 0.690725  ]\n",
      "[0.67720089 0.68749759 0.69921577 0.68571705 0.69067964]\n",
      "[0.73593263 0.74822975 0.76149138 0.74599665 0.75191368]\n",
      "[0.88139484 0.89052695 0.91702737 0.87841706 0.89050531]\n",
      "[0.91002448 0.92029708 0.93973838 0.91277222 0.92122872]\n",
      "[0.98126888 0.98774738 0.99006182 0.98305723 0.98797564]\n",
      "[0.98488632 0.99077556 0.99217935 0.98795196 0.99114082]\n"
     ]
    }
   ],
   "source": [
    "for i in range(13):\n",
    "    print(np.array(S(mat,i)))"
   ]
  },
  {
   "cell_type": "code",
   "execution_count": 16,
   "metadata": {},
   "outputs": [
    {
     "name": "stdout",
     "output_type": "stream",
     "text": [
      "Similarity no. 1 : [1 4 2 5 3]\n",
      "Similarity no. 2 : [1 4 2 5 3]\n",
      "Similarity no. 3 : [1 4 2 5 3]\n",
      "Similarity no. 4 : [1 4 2 5 3]\n",
      "Similarity no. 5 : [1 4 2 5 3]\n",
      "Similarity no. 6 : [1 4 2 5 3]\n",
      "Similarity no. 7 : [1 4 2 5 3]\n",
      "Similarity no. 8 : [1 4 2 5 3]\n",
      "Similarity no. 9 : [1 4 2 5 3]\n",
      "Similarity no. 10 : [4 1 5 2 3]\n",
      "Similarity no. 11 : [1 4 2 5 3]\n",
      "Similarity no. 12 : [1 4 2 5 3]\n",
      "Similarity no. 13 : [1 4 2 5 3]\n"
     ]
    }
   ],
   "source": [
    "for i in range(13):\n",
    "    print(\"Similarity no.\",i+1,\":\",np.array(rank(mat,i)))"
   ]
  },
  {
   "cell_type": "code",
   "execution_count": 17,
   "metadata": {},
   "outputs": [
    {
     "name": "stdout",
     "output_type": "stream",
     "text": [
      "Similarity no. 1 : 3\n",
      "Similarity no. 2 : 3\n",
      "Similarity no. 3 : 3\n",
      "Similarity no. 4 : 3\n",
      "Similarity no. 5 : 3\n",
      "Similarity no. 6 : 3\n",
      "Similarity no. 7 : 3\n",
      "Similarity no. 8 : 3\n",
      "Similarity no. 9 : 3\n",
      "Similarity no. 10 : 3\n",
      "Similarity no. 11 : 3\n",
      "Similarity no. 12 : 3\n",
      "Similarity no. 13 : 3\n"
     ]
    }
   ],
   "source": [
    " for i in range(13):\n",
    "    print(\"Similarity no.\",i+1,\":\",alt(mat,i))"
   ]
  },
  {
   "cell_type": "code",
   "execution_count": 18,
   "metadata": {},
   "outputs": [
    {
     "name": "stderr",
     "output_type": "stream",
     "text": [
      "The PostScript backend does not support transparency; partially transparent artists will be rendered opaque.\n",
      "The PostScript backend does not support transparency; partially transparent artists will be rendered opaque.\n"
     ]
    },
    {
     "data": {
      "image/png": "[encoded data removed]",
      "text/plain": [
       "<Figure size 720x324 with 1 Axes>"
      ]
     },
     "metadata": {
      "needs_background": "light"
     },
     "output_type": "display_data"
    }
   ],
   "source": [
    "import matplotlib.pyplot as plt\n",
    "xaxis = [1,2,3,4,5,6,7,8,9,10,11,12,13]\n",
    "plt.plot(xaxis,[visual[i][0] for i in range(13)],\n",
    "         'go-', color='blue', label='A', marker='o')\n",
    "plt.plot(xaxis,[visual[i][1] for i in range(13)],\n",
    "         'go-', color='green', label='A1', marker='o')\n",
    "plt.plot(xaxis,[visual[i][2] for i in range(13)],\n",
    "         'go-', color='red', label='B', marker='o')\n",
    "plt.plot(xaxis,[visual[i][3] for i in range(13)],\n",
    "         'go-', color='cyan', label='C', marker='o')\n",
    "plt.plot(xaxis,[visual[i][4] for i in range(13)],\n",
    "         'go-', color='magenta', label='D', marker='o')\n",
    "plt.xticks(xaxis,[\"IM1\",\"IM2\",\"IM3\",\"IM4\",\"IM5\",\"IM6\",\"IM7\",\"IM8\",\"IM9\",\"IM10\",\"IM11\",\"IM12\",\"IM13\"])\n",
    "plt.xlabel(\"Information Measures\")\n",
    "plt.ylabel(\"Combination Scores\")\n",
    "plt.title(\"The visualization of combination scores Si and rank of combinations \\n using information measures IMi\")\n",
    "figure = plt.gcf()\n",
    "figure.set_size_inches(10,4.5)\n",
    "plt.legend(loc='upper center', ncol=5)\n",
    "plt.savefig('decision making.eps', format='eps')\n",
    "plt.show()"
   ]
  },
  {
   "cell_type": "code",
   "execution_count": 19,
   "metadata": {},
   "outputs": [],
   "source": [
    "# 8\t6.75\t8.2\tLý\t5.25\tHóa\t8.25\tSinh\t7.75\n",
    "# Khối A: 21.5đ. Khối A1: 21.45đ. Khối B: 24đ. Khối D: 22.95đ"
   ]
  }
 ],
 "metadata": {
  "kernelspec": {
   "display_name": "Python 3",
   "language": "python",
   "name": "python3"
  },
  "language_info": {
   "codemirror_mode": {
    "name": "ipython",
    "version": 3
   },
   "file_extension": ".py",
   "mimetype": "text/x-python",
   "name": "python",
   "nbconvert_exporter": "python",
   "pygments_lexer": "ipython3",
   "version": "3.8.8"
  }
 },
 "nbformat": 4,
 "nbformat_minor": 4
}

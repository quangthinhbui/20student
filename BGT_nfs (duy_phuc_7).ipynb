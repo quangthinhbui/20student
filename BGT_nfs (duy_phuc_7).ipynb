{
 "cells": [
  {
   "cell_type": "code",
   "execution_count": 1,
   "metadata": {},
   "outputs": [
    {
     "data": {
      "text/html": [
       "<div>\n",
       "<style scoped>\n",
       "    .dataframe tbody tr th:only-of-type {\n",
       "        vertical-align: middle;\n",
       "    }\n",
       "\n",
       "    .dataframe tbody tr th {\n",
       "        vertical-align: top;\n",
       "    }\n",
       "\n",
       "    .dataframe thead th {\n",
       "        text-align: right;\n",
       "    }\n",
       "</style>\n",
       "<table border=\"1\" class=\"dataframe\">\n",
       "  <thead>\n",
       "    <tr style=\"text-align: right;\">\n",
       "      <th></th>\n",
       "      <th>T10</th>\n",
       "      <th>T10_T</th>\n",
       "      <th>T10_F</th>\n",
       "      <th>T10_I</th>\n",
       "      <th>L10</th>\n",
       "      <th>L10_T</th>\n",
       "      <th>L10_F</th>\n",
       "      <th>L10_I</th>\n",
       "      <th>H10</th>\n",
       "      <th>H10_T</th>\n",
       "      <th>...</th>\n",
       "      <th>SU12_F</th>\n",
       "      <th>SU12_I</th>\n",
       "      <th>D12</th>\n",
       "      <th>D12_T</th>\n",
       "      <th>D12_F</th>\n",
       "      <th>D12_I</th>\n",
       "      <th>AV12</th>\n",
       "      <th>AV12_T</th>\n",
       "      <th>AV12_F</th>\n",
       "      <th>AV12_I</th>\n",
       "    </tr>\n",
       "  </thead>\n",
       "  <tbody>\n",
       "    <tr>\n",
       "      <th>0</th>\n",
       "      <td>9.3</td>\n",
       "      <td>10</td>\n",
       "      <td>0</td>\n",
       "      <td>0</td>\n",
       "      <td>7.7</td>\n",
       "      <td>8</td>\n",
       "      <td>2</td>\n",
       "      <td>2</td>\n",
       "      <td>8.6</td>\n",
       "      <td>8</td>\n",
       "      <td>...</td>\n",
       "      <td>0</td>\n",
       "      <td>0</td>\n",
       "      <td>8.9</td>\n",
       "      <td>10</td>\n",
       "      <td>0</td>\n",
       "      <td>0</td>\n",
       "      <td>7.8</td>\n",
       "      <td>10</td>\n",
       "      <td>0</td>\n",
       "      <td>0</td>\n",
       "    </tr>\n",
       "    <tr>\n",
       "      <th>1</th>\n",
       "      <td>9.1</td>\n",
       "      <td>9</td>\n",
       "      <td>1</td>\n",
       "      <td>1</td>\n",
       "      <td>7.1</td>\n",
       "      <td>9</td>\n",
       "      <td>2</td>\n",
       "      <td>5</td>\n",
       "      <td>8.0</td>\n",
       "      <td>7</td>\n",
       "      <td>...</td>\n",
       "      <td>5</td>\n",
       "      <td>4</td>\n",
       "      <td>8.8</td>\n",
       "      <td>7</td>\n",
       "      <td>1</td>\n",
       "      <td>1</td>\n",
       "      <td>7.6</td>\n",
       "      <td>7</td>\n",
       "      <td>6</td>\n",
       "      <td>4</td>\n",
       "    </tr>\n",
       "    <tr>\n",
       "      <th>2</th>\n",
       "      <td>9.4</td>\n",
       "      <td>8</td>\n",
       "      <td>2</td>\n",
       "      <td>2</td>\n",
       "      <td>7.6</td>\n",
       "      <td>10</td>\n",
       "      <td>0</td>\n",
       "      <td>0</td>\n",
       "      <td>9.0</td>\n",
       "      <td>10</td>\n",
       "      <td>...</td>\n",
       "      <td>0</td>\n",
       "      <td>0</td>\n",
       "      <td>9.0</td>\n",
       "      <td>10</td>\n",
       "      <td>0</td>\n",
       "      <td>0</td>\n",
       "      <td>9.0</td>\n",
       "      <td>10</td>\n",
       "      <td>0</td>\n",
       "      <td>0</td>\n",
       "    </tr>\n",
       "    <tr>\n",
       "      <th>3</th>\n",
       "      <td>9.3</td>\n",
       "      <td>9</td>\n",
       "      <td>0</td>\n",
       "      <td>9</td>\n",
       "      <td>7.1</td>\n",
       "      <td>9</td>\n",
       "      <td>8</td>\n",
       "      <td>8</td>\n",
       "      <td>8.7</td>\n",
       "      <td>9</td>\n",
       "      <td>...</td>\n",
       "      <td>8</td>\n",
       "      <td>6</td>\n",
       "      <td>8.2</td>\n",
       "      <td>9</td>\n",
       "      <td>7</td>\n",
       "      <td>6</td>\n",
       "      <td>8.3</td>\n",
       "      <td>8</td>\n",
       "      <td>8</td>\n",
       "      <td>9</td>\n",
       "    </tr>\n",
       "    <tr>\n",
       "      <th>4</th>\n",
       "      <td>9.3</td>\n",
       "      <td>8</td>\n",
       "      <td>2</td>\n",
       "      <td>3</td>\n",
       "      <td>9.6</td>\n",
       "      <td>6</td>\n",
       "      <td>4</td>\n",
       "      <td>6</td>\n",
       "      <td>8.6</td>\n",
       "      <td>7</td>\n",
       "      <td>...</td>\n",
       "      <td>7</td>\n",
       "      <td>4</td>\n",
       "      <td>9.6</td>\n",
       "      <td>6</td>\n",
       "      <td>4</td>\n",
       "      <td>5</td>\n",
       "      <td>9.4</td>\n",
       "      <td>6</td>\n",
       "      <td>4</td>\n",
       "      <td>5</td>\n",
       "    </tr>\n",
       "  </tbody>\n",
       "</table>\n",
       "<p>5 rows × 96 columns</p>\n",
       "</div>"
      ],
      "text/plain": [
       "   T10  T10_T  T10_F  T10_I  L10  L10_T  L10_F  L10_I  H10  H10_T  ...  \\\n",
       "0  9.3     10      0      0  7.7      8      2      2  8.6      8  ...   \n",
       "1  9.1      9      1      1  7.1      9      2      5  8.0      7  ...   \n",
       "2  9.4      8      2      2  7.6     10      0      0  9.0     10  ...   \n",
       "3  9.3      9      0      9  7.1      9      8      8  8.7      9  ...   \n",
       "4  9.3      8      2      3  9.6      6      4      6  8.6      7  ...   \n",
       "\n",
       "   SU12_F  SU12_I  D12  D12_T  D12_F  D12_I  AV12  AV12_T  AV12_F  AV12_I  \n",
       "0       0       0  8.9     10      0      0   7.8      10       0       0  \n",
       "1       5       4  8.8      7      1      1   7.6       7       6       4  \n",
       "2       0       0  9.0     10      0      0   9.0      10       0       0  \n",
       "3       8       6  8.2      9      7      6   8.3       8       8       9  \n",
       "4       7       4  9.6      6      4      5   9.4       6       4       5  \n",
       "\n",
       "[5 rows x 96 columns]"
      ]
     },
     "execution_count": 1,
     "metadata": {},
     "output_type": "execute_result"
    }
   ],
   "source": [
    "import pandas as pd\n",
    "import numpy as np\n",
    "\n",
    "data = pd.read_csv(\"BGT.csv\") \n",
    "data.head(5)\n",
    "#print(data)"
   ]
  },
  {
   "cell_type": "code",
   "execution_count": 2,
   "metadata": {},
   "outputs": [
    {
     "name": "stdout",
     "output_type": "stream",
     "text": [
      "[9.7 6.  6.  7.  7.9 8.  3.  2.  9.2 8.  2.  2.  7.8 5.  5.  6.  7.9 2.\n",
      " 8.  7.  8.2 5.  5.  5.  8.2 7.  4.  5.  8.8 7.  4.  0.  9.7 7.  3.  2.\n",
      " 9.2 2.  7.  5.  9.4 8.  3.  0.  8.3 3.  7.  6.  7.1 6.  4.  7.  8.5 7.\n",
      " 4.  5.  8.8 7.  4.  4.  8.5 8.  2.  0.  9.7 9.  1.  0.  8.2 5.  4.  6.\n",
      " 8.5 7.  3.  3.  7.6 3.  6.  7.  6.9 5.  5.  7.  8.6 7.  4.  5.  8.9 7.\n",
      " 4.  2.  8.8 8.  1.  1. ]\n"
     ]
    }
   ],
   "source": [
    "duc = np.array(data[42:43])[0]\n",
    "print(duc)"
   ]
  },
  {
   "cell_type": "code",
   "execution_count": 3,
   "metadata": {},
   "outputs": [
    {
     "name": "stdout",
     "output_type": "stream",
     "text": [
      "[9.7 6.  6.  7. ]\n",
      "[7.9 8.  3.  2. ]\n",
      "[9.2 8.  2.  2. ]\n",
      "[8.93333333 7.33333333 3.66666667 3.66666667]\n",
      "[9.7 7.  3.  2. ]\n",
      "[9.2 2.  7.  5. ]\n",
      "[9.4 8.  3.  0. ]\n",
      "[9.43333333 5.66666667 4.33333333 2.33333333]\n",
      "[9.7 9.  1.  0. ]\n",
      "[8.2 5.  4.  6. ]\n",
      "[8.5 7.  3.  3. ]\n",
      "[8.8        7.         2.66666667 3.        ]\n"
     ]
    }
   ],
   "source": [
    "T10 = duc[0:4]\n",
    "print(T10)\n",
    "L10 = duc[4:8]\n",
    "print(L10)\n",
    "H10 = duc[8:12]\n",
    "print(H10)\n",
    "A10 = np.mean(np.array([T10,L10,H10]),axis=0)\n",
    "print(A10)\n",
    "\n",
    "T11 = duc[32:36]\n",
    "print(T11)\n",
    "L11 = duc[36:40]\n",
    "print(L11)\n",
    "H11 = duc[40:44]\n",
    "print(H11)\n",
    "A11 = np.mean(np.array([T11,L11,H11]),axis=0)\n",
    "print(A11)\n",
    "\n",
    "T12 = duc[64:68]\n",
    "print(T12)\n",
    "L12 = duc[68:72]\n",
    "print(L12)\n",
    "H12 = duc[72:76]\n",
    "print(H12)\n",
    "A12 = np.mean(np.array([T12,L12,H12]),axis=0)\n",
    "print(A12)\n",
    "\n",
    "A = [A10,A11,A12]"
   ]
  },
  {
   "cell_type": "code",
   "execution_count": 4,
   "metadata": {},
   "outputs": [
    {
     "name": "stdout",
     "output_type": "stream",
     "text": [
      "[9.7 6.  6.  7. ]\n",
      "[7.9 8.  3.  2. ]\n",
      "[8.8 7.  4.  0. ]\n",
      "[8.8        7.         4.33333333 3.        ]\n",
      "[9.7 7.  3.  2. ]\n",
      "[9.2 2.  7.  5. ]\n",
      "[8.5 8.  2.  0. ]\n",
      "[9.13333333 5.66666667 4.         2.33333333]\n",
      "[9.7 9.  1.  0. ]\n",
      "[8.2 5.  4.  6. ]\n",
      "[8.8 8.  1.  1. ]\n",
      "[8.9        7.33333333 2.         2.33333333]\n"
     ]
    }
   ],
   "source": [
    "T10 = duc[0:4]\n",
    "print(T10)\n",
    "L10 = duc[4:8]\n",
    "print(L10)\n",
    "A10 = duc[28:32]\n",
    "print(A10)\n",
    "A110 = np.mean(np.array([T10,L10,A10]),axis=0)\n",
    "print(A110)\n",
    "\n",
    "T11 = duc[32:36]\n",
    "print(T11)\n",
    "L11 = duc[36:40]\n",
    "print(L11)\n",
    "A11 = duc[60:64]\n",
    "print(A11)\n",
    "A111 = np.mean(np.array([T11,L11,A11]),axis=0)\n",
    "print(A111)\n",
    "\n",
    "T12 = duc[64:68]\n",
    "print(T12)\n",
    "L12 = duc[68:72]\n",
    "print(L12)\n",
    "A12 = duc[92:96]\n",
    "print(A12)\n",
    "A112 = np.mean(np.array([T12,L12,A12]),axis=0)\n",
    "print(A112)\n",
    "\n",
    "A1 = [A110,A111,A112]"
   ]
  },
  {
   "cell_type": "code",
   "execution_count": 5,
   "metadata": {},
   "outputs": [
    {
     "name": "stdout",
     "output_type": "stream",
     "text": [
      "[9.7 6.  6.  7. ]\n",
      "[9.2 8.  2.  2. ]\n",
      "[7.8 5.  5.  6. ]\n",
      "[8.8 7.  4.  0. ]\n",
      "[9.7 7.  3.  2. ]\n",
      "[9.4 8.  3.  0. ]\n",
      "[8.3 3.  7.  6. ]\n",
      "[9.13333333 6.         4.33333333 2.66666667]\n",
      "[9.7 9.  1.  0. ]\n",
      "[8.5 7.  3.  3. ]\n",
      "[7.6 3.  6.  7. ]\n",
      "[8.6        6.33333333 3.33333333 3.33333333]\n"
     ]
    }
   ],
   "source": [
    "T10 = duc[0:4]\n",
    "print(T10)\n",
    "H10 = duc[8:12]\n",
    "print(H10)\n",
    "SI10 = duc[12:16]\n",
    "print(SI10)\n",
    "B10 = np.mean(np.array([T10,H10,SI10]),axis=0)\n",
    "print(A10)\n",
    "\n",
    "T11 = duc[32:36]\n",
    "print(T11)\n",
    "H11 = duc[40:44]\n",
    "print(H11)\n",
    "SI11 = duc[44:48]\n",
    "print(SI11)\n",
    "B11 = np.mean(np.array([T11,H11,SI11]),axis=0)\n",
    "print(B11)\n",
    "\n",
    "T12 = duc[64:68]\n",
    "print(T12)\n",
    "H12 = duc[72:76]\n",
    "print(H12)\n",
    "SI12 = duc[76:80]\n",
    "print(SI12)\n",
    "B12 = np.mean(np.array([T12,H12,SI12]),axis=0)\n",
    "print(B12)\n",
    "\n",
    "B = [B10,B11,B12]"
   ]
  },
  {
   "cell_type": "code",
   "execution_count": 6,
   "metadata": {},
   "outputs": [
    {
     "name": "stdout",
     "output_type": "stream",
     "text": [
      "[7.9 2.  8.  7. ]\n",
      "[8.2 5.  5.  5. ]\n",
      "[8.2 7.  4.  5. ]\n",
      "[8.8 7.  4.  0. ]\n",
      "[7.1 6.  4.  7. ]\n",
      "[8.5 7.  4.  5. ]\n",
      "[8.8 7.  4.  4. ]\n",
      "[9.13333333 6.         4.33333333 2.66666667]\n",
      "[6.9 5.  5.  7. ]\n",
      "[8.6 7.  4.  5. ]\n",
      "[8.9 7.  4.  2. ]\n",
      "[8.6        6.33333333 3.33333333 3.33333333]\n"
     ]
    }
   ],
   "source": [
    "V10 = duc[16:20]\n",
    "print(V10)\n",
    "SU10 = duc[20:24]\n",
    "print(SU10)\n",
    "D10 = duc[24:28]\n",
    "print(D10)\n",
    "C10 = np.mean(np.array([V10,SU10,D10]),axis=0)\n",
    "print(A10)\n",
    "\n",
    "V11 = duc[48:52]\n",
    "print(V11)\n",
    "SU11 = duc[52:56]\n",
    "print(SU11)\n",
    "D11 = duc[56:60]\n",
    "print(D11)\n",
    "C11 = np.mean(np.array([V11,SU11,D11]),axis=0)\n",
    "print(B11)\n",
    "\n",
    "V12 = duc[80:84]\n",
    "print(V12)\n",
    "SU12 = duc[84:88]\n",
    "print(SU12)\n",
    "D12 = duc[88:92]\n",
    "print(D12)\n",
    "C12 = np.mean(np.array([V12,SU12,D12]),axis=0)\n",
    "print(B12)\n",
    "\n",
    "C = [C10,C11,C12]"
   ]
  },
  {
   "cell_type": "code",
   "execution_count": 7,
   "metadata": {},
   "outputs": [
    {
     "name": "stdout",
     "output_type": "stream",
     "text": [
      "[9.7 6.  6.  7. ]\n",
      "[7.9 2.  8.  7. ]\n",
      "[8.8 7.  4.  0. ]\n",
      "[8.8        5.         6.         4.66666667]\n",
      "[9.7 7.  3.  2. ]\n",
      "[7.1 6.  4.  7. ]\n",
      "[8.5 8.  2.  0. ]\n",
      "[8.43333333 7.         3.         3.        ]\n",
      "[9.7 9.  1.  0. ]\n",
      "[6.9 5.  5.  7. ]\n",
      "[8.8 8.  1.  1. ]\n",
      "[8.46666667 7.33333333 2.33333333 2.66666667]\n"
     ]
    }
   ],
   "source": [
    "T10 = duc[0:4]\n",
    "print(T10)\n",
    "V10 = duc[16:20]\n",
    "print(V10)\n",
    "A10 = duc[28:32]\n",
    "print(A10)\n",
    "DD10 = np.mean(np.array([T10,V10,A10]),axis=0)\n",
    "print(DD10)\n",
    "\n",
    "T11 = duc[32:36]\n",
    "print(T11)\n",
    "V11 = duc[48:52]\n",
    "print(V11)\n",
    "A11 = duc[60:64]\n",
    "print(A11)\n",
    "DD11 = np.mean(np.array([T11,V11,A11]),axis=0)\n",
    "print(DD11)\n",
    "\n",
    "T12 = duc[64:68]\n",
    "print(T12)\n",
    "V12 = duc[80:84]\n",
    "print(V12)\n",
    "A12 = duc[92:96]\n",
    "print(A12)\n",
    "DD12 = np.mean(np.array([T12,V12,A12]),axis=0)\n",
    "print(DD12)\n",
    "\n",
    "D = [DD10,DD11,DD12]"
   ]
  },
  {
   "cell_type": "code",
   "execution_count": 8,
   "metadata": {},
   "outputs": [
    {
     "name": "stdout",
     "output_type": "stream",
     "text": [
      "[[[0.89333333 0.24444444 0.12222222 0.12222222]\n",
      "  [0.94333333 0.18888889 0.07777778 0.14444444]\n",
      "  [0.88       0.23333333 0.1        0.08888889]]\n",
      "\n",
      " [[0.88       0.23333333 0.1        0.14444444]\n",
      "  [0.91333333 0.18888889 0.07777778 0.13333333]\n",
      "  [0.89       0.24444444 0.07777778 0.06666667]]\n",
      "\n",
      " [[0.89       0.21111111 0.16666667 0.14444444]\n",
      "  [0.91333333 0.2        0.08888889 0.14444444]\n",
      "  [0.86       0.21111111 0.11111111 0.11111111]]\n",
      "\n",
      " [[0.81       0.15555556 0.18888889 0.18888889]\n",
      "  [0.81333333 0.22222222 0.17777778 0.13333333]\n",
      "  [0.81333333 0.21111111 0.15555556 0.14444444]]\n",
      "\n",
      " [[0.88       0.16666667 0.15555556 0.2       ]\n",
      "  [0.84333333 0.23333333 0.1        0.1       ]\n",
      "  [0.84666667 0.24444444 0.08888889 0.07777778]]]\n"
     ]
    }
   ],
   "source": [
    "from dm import *\n",
    "from im import *\n",
    "\n",
    "def change(A):\n",
    "    Aok = []\n",
    "    for i in range(3):\n",
    "        temp = []\n",
    "        for j in range(4):\n",
    "            if j == 0:\n",
    "                temp.append(A[i][j]/10)\n",
    "            if j == 1:\n",
    "                temp.append(A[i][j]/30)\n",
    "            if j == 2:\n",
    "                temp.append(A[i][j+1]/30)\n",
    "            if j == 3:\n",
    "                temp.append(A[i][j-1]/30)\n",
    "        Aok.append(temp)\n",
    "    return(Aok)\n",
    "\n",
    "matrix = np.array([change(A),change(A1),change(B),change(C),change(D)])\n",
    "print(matrix)\n",
    "\n",
    "def rtc(A):\n",
    "    rtc = []\n",
    "    for i in range(3):\n",
    "        temp = []\n",
    "        for j in range(5):\n",
    "            temp.append(A[j][i])\n",
    "        rtc.append(temp)\n",
    "    return np.array(rtc)\n",
    "matric = rtc(matrix)"
   ]
  },
  {
   "cell_type": "code",
   "execution_count": 9,
   "metadata": {},
   "outputs": [
    {
     "name": "stdout",
     "output_type": "stream",
     "text": [
      "[[[0.89333333 0.24444444 0.12222222 0.12222222]\n",
      "  [0.88       0.23333333 0.1        0.14444444]\n",
      "  [0.89       0.21111111 0.16666667 0.14444444]\n",
      "  [0.81       0.15555556 0.18888889 0.18888889]\n",
      "  [0.88       0.16666667 0.15555556 0.2       ]]\n",
      "\n",
      " [[0.94333333 0.18888889 0.07777778 0.14444444]\n",
      "  [0.91333333 0.18888889 0.07777778 0.13333333]\n",
      "  [0.91333333 0.2        0.08888889 0.14444444]\n",
      "  [0.81333333 0.22222222 0.17777778 0.13333333]\n",
      "  [0.84333333 0.23333333 0.1        0.1       ]]\n",
      "\n",
      " [[0.88       0.23333333 0.1        0.08888889]\n",
      "  [0.89       0.24444444 0.07777778 0.06666667]\n",
      "  [0.86       0.21111111 0.11111111 0.11111111]\n",
      "  [0.81333333 0.21111111 0.15555556 0.14444444]\n",
      "  [0.84666667 0.24444444 0.08888889 0.07777778]]]\n"
     ]
    }
   ],
   "source": [
    "cost = []\n",
    "mat = rnf(matric,cost)\n",
    "print(np.array(mat))"
   ]
  },
  {
   "cell_type": "code",
   "execution_count": 10,
   "metadata": {},
   "outputs": [
    {
     "name": "stdout",
     "output_type": "stream",
     "text": [
      "[0.51697825 0.45664436 0.46761215]\n",
      "[0.31911111 0.27844444 0.28766667]\n",
      "[0.39934561 0.35348162 0.36428662]\n",
      "[0.25091412 0.21680571 0.2243111 ]\n",
      "[0.21898433 0.18767395 0.19441261]\n",
      "[0.12359934 0.09645384 0.10157967]\n",
      "[0.48020434 0.42242472 0.43603147]\n",
      "[0.40739867 0.36254699 0.37321752]\n",
      "[0.25610529 0.22256229 0.23002882]\n",
      "[0.19286027 0.16604875 0.17346782]\n",
      "[0.19007611 0.1625819  0.16844449]\n",
      "[0.04088082 0.03267774 0.03677183]\n",
      "[0.03856886 0.03026416 0.03283097]\n"
     ]
    }
   ],
   "source": [
    "for i in range(13):\n",
    "    print(np.array(ej(mat,i)))"
   ]
  },
  {
   "cell_type": "code",
   "execution_count": 11,
   "metadata": {},
   "outputs": [
    {
     "name": "stdout",
     "output_type": "stream",
     "text": [
      "[0.00268408 0.00288199 0.00160278]\n",
      "[0.04216667 0.03872222 0.03266667]\n",
      "[0.03080924 0.02828408 0.02381049]\n",
      "[0.05935112 0.05453016 0.04618842]\n",
      "[0.0650509  0.05976911 0.05063144]\n",
      "[0.0661555  0.06075767 0.05127048]\n",
      "[0.00263054 0.00236228 0.00165779]\n",
      "[0.03313759 0.03042915 0.0256669 ]\n",
      "[0.06375302 0.05858805 0.04973421]\n",
      "[0.18130095 0.15222321 0.172878  ]\n",
      "[0.11426052 0.10868814 0.09494903]\n",
      "[0.31189009 0.25994019 0.29393055]\n",
      "[0.11669638 0.15116459 0.1032141 ]\n"
     ]
    }
   ],
   "source": [
    "for i in range(13):\n",
    "    print(np.array(cj(mat,i)))"
   ]
  },
  {
   "cell_type": "code",
   "execution_count": 12,
   "metadata": {},
   "outputs": [
    {
     "name": "stdout",
     "output_type": "stream",
     "text": [
      "[0.68861524 0.6907165  0.67243925 0.63521152 0.6703357 ]\n",
      "[0.72735529 0.72924049 0.71009879 0.67002462 0.70810767]\n",
      "[0.69393656 0.69572837 0.67829397 0.64278986 0.67668725]\n",
      "[0.75515222 0.75708579 0.73682207 0.69337398 0.73454644]\n",
      "[0.77334507 0.7752887  0.75451178 0.70918508 0.75206962]\n",
      "[0.86615809 0.86798988 0.84584682 0.79289474 0.84253097]\n",
      "[0.6866217  0.68841445 0.67146514 0.6371317  0.67004135]\n",
      "[0.68658119 0.6883409  0.67134988 0.63694262 0.66982151]\n",
      "[0.74717427 0.749103   0.72908443 0.68649723 0.72689236]\n",
      "[0.83775207 0.84824756 0.81085267 0.75372794 0.81669994]\n",
      "[0.87920937 0.88771184 0.85485501 0.79809031 0.85937546]\n",
      "[0.97218401 0.97505391 0.9605667  0.92658936 0.95957172]\n",
      "[0.98024572 0.98214121 0.97153478 0.94323807 0.97050941]\n"
     ]
    }
   ],
   "source": [
    "visual = []\n",
    "for i in range(13):\n",
    "    print(np.array(S(mat,i)))\n",
    "    visual.append(S(mat,i))"
   ]
  },
  {
   "cell_type": "code",
   "execution_count": 13,
   "metadata": {},
   "outputs": [
    {
     "name": "stdout",
     "output_type": "stream",
     "text": [
      "[0.83611925 0.83668068 0.82756382 0.81228207 0.82931026]\n",
      "[0.72735529 0.72924049 0.71009879 0.67002462 0.70810767]\n",
      "[0.78857731 0.79013624 0.77411252 0.73989933 0.77238395]\n",
      "[0.65215479 0.65432983 0.63271097 0.58859055 0.63060566]\n",
      "[0.62245978 0.62477957 0.60183218 0.5553559  0.59963691]\n",
      "[0.58466583 0.58737594 0.56009413 0.50447895 0.55735312]\n",
      "[0.9097167  0.91083421 0.89815098 0.86868218 0.89644394]\n",
      "[0.7825427  0.78409003 0.76832994 0.7349148  0.76667196]\n",
      "[0.64273628 0.64488064 0.62374104 0.58087277 0.62173167]\n",
      "[0.28193028 0.27918581 0.27377064 0.25213916 0.26788748]\n",
      "[0.50836259 0.50779342 0.48574768 0.43331429 0.4792087 ]\n",
      "[0.21756219 0.21248737 0.20783781 0.17473171 0.19541981]\n",
      "[0.43038265 0.42065879 0.4092043  0.34026656 0.38434718]\n"
     ]
    }
   ],
   "source": [
    "for i in range(13):\n",
    "    print(np.array(Spos(mat,i)))"
   ]
  },
  {
   "cell_type": "code",
   "execution_count": 14,
   "metadata": {},
   "outputs": [
    {
     "name": "stdout",
     "output_type": "stream",
     "text": [
      "[0.37808456 0.37464217 0.40312553 0.46647633 0.40784637]\n",
      "[0.27264471 0.27075951 0.28990121 0.32997538 0.29189233]\n",
      "[0.34780511 0.34556022 0.36715153 0.41117566 0.36903544]\n",
      "[0.21145227 0.20994452 0.22599155 0.26028837 0.227891  ]\n",
      "[0.1824329  0.18108742 0.19581233 0.22773432 0.19767878]\n",
      "[0.0903447  0.08933234 0.10207557 0.13177063 0.10416929]\n",
      "[0.41520021 0.4122557  0.43944784 0.49474422 0.44144951]\n",
      "[0.35722447 0.35501129 0.37612538 0.41890155 0.37791947]\n",
      "[0.21748643 0.21598982 0.23177172 0.26526724 0.23359672]\n",
      "[0.0546016  0.04994666 0.06386239 0.08238361 0.06012464]\n",
      "[0.06984166 0.06423164 0.08247462 0.10962463 0.07841567]\n",
      "[0.00622486 0.00543635 0.00853218 0.01384342 0.00823335]\n",
      "[0.00867323 0.00764906 0.01198937 0.02047647 0.01167905]\n"
     ]
    }
   ],
   "source": [
    "for i in range(13):\n",
    "    print(np.array(Sneg(mat,i)))"
   ]
  },
  {
   "cell_type": "code",
   "execution_count": 15,
   "metadata": {},
   "outputs": [
    {
     "name": "stdout",
     "output_type": "stream",
     "text": [
      "[0.68861524 0.6907165  0.67243925 0.63521152 0.6703357 ]\n",
      "[0.72735529 0.72924049 0.71009879 0.67002462 0.70810767]\n",
      "[0.69393656 0.69572837 0.67829397 0.64278986 0.67668725]\n",
      "[0.75515222 0.75708579 0.73682207 0.69337398 0.73454644]\n",
      "[0.77334507 0.7752887  0.75451178 0.70918508 0.75206962]\n",
      "[0.86615809 0.86798988 0.84584682 0.79289474 0.84253097]\n",
      "[0.6866217  0.68841445 0.67146514 0.6371317  0.67004135]\n",
      "[0.68658119 0.6883409  0.67134988 0.63694262 0.66982151]\n",
      "[0.74717427 0.749103   0.72908443 0.68649723 0.72689236]\n",
      "[0.83775207 0.84824756 0.81085267 0.75372794 0.81669994]\n",
      "[0.87920937 0.88771184 0.85485501 0.79809031 0.85937546]\n",
      "[0.97218401 0.97505391 0.9605667  0.92658936 0.95957172]\n",
      "[0.98024572 0.98214121 0.97153478 0.94323807 0.97050941]\n"
     ]
    }
   ],
   "source": [
    "for i in range(13):\n",
    "    print(np.array(S(mat,i)))"
   ]
  },
  {
   "cell_type": "code",
   "execution_count": 16,
   "metadata": {},
   "outputs": [
    {
     "name": "stdout",
     "output_type": "stream",
     "text": [
      "Similarity no. 1 : [4 5 3 1 2]\n",
      "Similarity no. 2 : [4 5 3 1 2]\n",
      "Similarity no. 3 : [4 5 3 1 2]\n",
      "Similarity no. 4 : [4 5 3 1 2]\n",
      "Similarity no. 5 : [4 5 3 1 2]\n",
      "Similarity no. 6 : [4 5 3 1 2]\n",
      "Similarity no. 7 : [4 5 3 1 2]\n",
      "Similarity no. 8 : [4 5 3 1 2]\n",
      "Similarity no. 9 : [4 5 3 1 2]\n",
      "Similarity no. 10 : [4 3 5 1 2]\n",
      "Similarity no. 11 : [4 3 5 1 2]\n",
      "Similarity no. 12 : [4 5 3 1 2]\n",
      "Similarity no. 13 : [4 5 3 1 2]\n"
     ]
    }
   ],
   "source": [
    "for i in range(13):\n",
    "    print(\"Similarity no.\",i+1,\":\",np.array(rank(mat,i)))"
   ]
  },
  {
   "cell_type": "code",
   "execution_count": 17,
   "metadata": {},
   "outputs": [
    {
     "name": "stdout",
     "output_type": "stream",
     "text": [
      "Similarity no. 1 : 2\n",
      "Similarity no. 2 : 2\n",
      "Similarity no. 3 : 2\n",
      "Similarity no. 4 : 2\n",
      "Similarity no. 5 : 2\n",
      "Similarity no. 6 : 2\n",
      "Similarity no. 7 : 2\n",
      "Similarity no. 8 : 2\n",
      "Similarity no. 9 : 2\n",
      "Similarity no. 10 : 2\n",
      "Similarity no. 11 : 2\n",
      "Similarity no. 12 : 2\n",
      "Similarity no. 13 : 2\n"
     ]
    }
   ],
   "source": [
    " for i in range(13):\n",
    "    print(\"Similarity no.\",i+1,\":\",alt(mat,i))"
   ]
  },
  {
   "cell_type": "code",
   "execution_count": 18,
   "metadata": {},
   "outputs": [
    {
     "name": "stderr",
     "output_type": "stream",
     "text": [
      "The PostScript backend does not support transparency; partially transparent artists will be rendered opaque.\n",
      "The PostScript backend does not support transparency; partially transparent artists will be rendered opaque.\n"
     ]
    },
    {
     "data": {
      "image/png": "[encoded data removed]",
      "text/plain": [
       "<Figure size 720x324 with 1 Axes>"
      ]
     },
     "metadata": {
      "needs_background": "light"
     },
     "output_type": "display_data"
    }
   ],
   "source": [
    "import matplotlib.pyplot as plt\n",
    "xaxis = [1,2,3,4,5,6,7,8,9,10,11,12,13]\n",
    "plt.plot(xaxis,[visual[i][0] for i in range(13)],\n",
    "         'go-', color='blue', label='A', marker='o')\n",
    "plt.plot(xaxis,[visual[i][1] for i in range(13)],\n",
    "         'go-', color='green', label='A1', marker='o')\n",
    "plt.plot(xaxis,[visual[i][2] for i in range(13)],\n",
    "         'go-', color='red', label='B', marker='o')\n",
    "plt.plot(xaxis,[visual[i][3] for i in range(13)],\n",
    "         'go-', color='cyan', label='C', marker='o')\n",
    "plt.plot(xaxis,[visual[i][4] for i in range(13)],\n",
    "         'go-', color='magenta', label='D', marker='o')\n",
    "plt.xticks(xaxis,[\"IM1\",\"IM2\",\"IM3\",\"IM4\",\"IM5\",\"IM6\",\"IM7\",\"IM8\",\"IM9\",\"IM10\",\"IM11\",\"IM12\",\"IM13\"])\n",
    "plt.xlabel(\"Information Measures\")\n",
    "plt.ylabel(\"Combination Scores\")\n",
    "plt.title(\"The visualization of combination scores Si and rank of combinations \\n using information measures IMi\")\n",
    "figure = plt.gcf()\n",
    "figure.set_size_inches(10,4.5)\n",
    "plt.legend(loc='upper center', ncol=5)\n",
    "plt.savefig('decision making.eps', format='eps')\n",
    "plt.show()"
   ]
  },
  {
   "cell_type": "code",
   "execution_count": null,
   "metadata": {},
   "outputs": [],
   "source": [
    "# 8.8\t5.75\t8.8\tLí\t7\tHóa \t8\tSinh\t5.5\n",
    "# Khối A: 23.8đ. Khối A1: 24.6đ. Khối B: 22.3đ. Khối D: 23.35đ"
   ]
  }
 ],
 "metadata": {
  "kernelspec": {
   "display_name": "Python 3",
   "language": "python",
   "name": "python3"
  },
  "language_info": {
   "codemirror_mode": {
    "name": "ipython",
    "version": 3
   },
   "file_extension": ".py",
   "mimetype": "text/x-python",
   "name": "python",
   "nbconvert_exporter": "python",
   "pygments_lexer": "ipython3",
   "version": "3.8.8"
  }
 },
 "nbformat": 4,
 "nbformat_minor": 4
}

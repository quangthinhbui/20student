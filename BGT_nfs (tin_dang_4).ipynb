{
 "cells": [
  {
   "cell_type": "code",
   "execution_count": 1,
   "metadata": {},
   "outputs": [
    {
     "data": {
      "text/html": [
       "<div>\n",
       "<style scoped>\n",
       "    .dataframe tbody tr th:only-of-type {\n",
       "        vertical-align: middle;\n",
       "    }\n",
       "\n",
       "    .dataframe tbody tr th {\n",
       "        vertical-align: top;\n",
       "    }\n",
       "\n",
       "    .dataframe thead th {\n",
       "        text-align: right;\n",
       "    }\n",
       "</style>\n",
       "<table border=\"1\" class=\"dataframe\">\n",
       "  <thead>\n",
       "    <tr style=\"text-align: right;\">\n",
       "      <th></th>\n",
       "      <th>T10</th>\n",
       "      <th>T10_T</th>\n",
       "      <th>T10_F</th>\n",
       "      <th>T10_I</th>\n",
       "      <th>L10</th>\n",
       "      <th>L10_T</th>\n",
       "      <th>L10_F</th>\n",
       "      <th>L10_I</th>\n",
       "      <th>H10</th>\n",
       "      <th>H10_T</th>\n",
       "      <th>...</th>\n",
       "      <th>SU12_F</th>\n",
       "      <th>SU12_I</th>\n",
       "      <th>D12</th>\n",
       "      <th>D12_T</th>\n",
       "      <th>D12_F</th>\n",
       "      <th>D12_I</th>\n",
       "      <th>AV12</th>\n",
       "      <th>AV12_T</th>\n",
       "      <th>AV12_F</th>\n",
       "      <th>AV12_I</th>\n",
       "    </tr>\n",
       "  </thead>\n",
       "  <tbody>\n",
       "    <tr>\n",
       "      <th>0</th>\n",
       "      <td>9.3</td>\n",
       "      <td>10</td>\n",
       "      <td>0</td>\n",
       "      <td>0</td>\n",
       "      <td>7.7</td>\n",
       "      <td>8</td>\n",
       "      <td>2</td>\n",
       "      <td>2</td>\n",
       "      <td>8.6</td>\n",
       "      <td>8</td>\n",
       "      <td>...</td>\n",
       "      <td>0</td>\n",
       "      <td>0</td>\n",
       "      <td>8.9</td>\n",
       "      <td>10</td>\n",
       "      <td>0</td>\n",
       "      <td>0</td>\n",
       "      <td>7.8</td>\n",
       "      <td>10</td>\n",
       "      <td>0</td>\n",
       "      <td>0</td>\n",
       "    </tr>\n",
       "    <tr>\n",
       "      <th>1</th>\n",
       "      <td>9.1</td>\n",
       "      <td>9</td>\n",
       "      <td>1</td>\n",
       "      <td>1</td>\n",
       "      <td>7.1</td>\n",
       "      <td>9</td>\n",
       "      <td>2</td>\n",
       "      <td>5</td>\n",
       "      <td>8.0</td>\n",
       "      <td>7</td>\n",
       "      <td>...</td>\n",
       "      <td>5</td>\n",
       "      <td>4</td>\n",
       "      <td>8.8</td>\n",
       "      <td>7</td>\n",
       "      <td>1</td>\n",
       "      <td>1</td>\n",
       "      <td>7.6</td>\n",
       "      <td>7</td>\n",
       "      <td>6</td>\n",
       "      <td>4</td>\n",
       "    </tr>\n",
       "    <tr>\n",
       "      <th>2</th>\n",
       "      <td>9.4</td>\n",
       "      <td>8</td>\n",
       "      <td>2</td>\n",
       "      <td>2</td>\n",
       "      <td>7.6</td>\n",
       "      <td>10</td>\n",
       "      <td>0</td>\n",
       "      <td>0</td>\n",
       "      <td>9.0</td>\n",
       "      <td>10</td>\n",
       "      <td>...</td>\n",
       "      <td>0</td>\n",
       "      <td>0</td>\n",
       "      <td>9.0</td>\n",
       "      <td>10</td>\n",
       "      <td>0</td>\n",
       "      <td>0</td>\n",
       "      <td>9.0</td>\n",
       "      <td>10</td>\n",
       "      <td>0</td>\n",
       "      <td>0</td>\n",
       "    </tr>\n",
       "    <tr>\n",
       "      <th>3</th>\n",
       "      <td>9.3</td>\n",
       "      <td>9</td>\n",
       "      <td>0</td>\n",
       "      <td>9</td>\n",
       "      <td>7.1</td>\n",
       "      <td>9</td>\n",
       "      <td>8</td>\n",
       "      <td>8</td>\n",
       "      <td>8.7</td>\n",
       "      <td>9</td>\n",
       "      <td>...</td>\n",
       "      <td>8</td>\n",
       "      <td>6</td>\n",
       "      <td>8.2</td>\n",
       "      <td>9</td>\n",
       "      <td>7</td>\n",
       "      <td>6</td>\n",
       "      <td>8.3</td>\n",
       "      <td>8</td>\n",
       "      <td>8</td>\n",
       "      <td>9</td>\n",
       "    </tr>\n",
       "    <tr>\n",
       "      <th>4</th>\n",
       "      <td>9.3</td>\n",
       "      <td>8</td>\n",
       "      <td>2</td>\n",
       "      <td>3</td>\n",
       "      <td>9.6</td>\n",
       "      <td>6</td>\n",
       "      <td>4</td>\n",
       "      <td>6</td>\n",
       "      <td>8.6</td>\n",
       "      <td>7</td>\n",
       "      <td>...</td>\n",
       "      <td>7</td>\n",
       "      <td>4</td>\n",
       "      <td>9.6</td>\n",
       "      <td>6</td>\n",
       "      <td>4</td>\n",
       "      <td>5</td>\n",
       "      <td>9.4</td>\n",
       "      <td>6</td>\n",
       "      <td>4</td>\n",
       "      <td>5</td>\n",
       "    </tr>\n",
       "  </tbody>\n",
       "</table>\n",
       "<p>5 rows × 96 columns</p>\n",
       "</div>"
      ],
      "text/plain": [
       "   T10  T10_T  T10_F  T10_I  L10  L10_T  L10_F  L10_I  H10  H10_T  ...  \\\n",
       "0  9.3     10      0      0  7.7      8      2      2  8.6      8  ...   \n",
       "1  9.1      9      1      1  7.1      9      2      5  8.0      7  ...   \n",
       "2  9.4      8      2      2  7.6     10      0      0  9.0     10  ...   \n",
       "3  9.3      9      0      9  7.1      9      8      8  8.7      9  ...   \n",
       "4  9.3      8      2      3  9.6      6      4      6  8.6      7  ...   \n",
       "\n",
       "   SU12_F  SU12_I  D12  D12_T  D12_F  D12_I  AV12  AV12_T  AV12_F  AV12_I  \n",
       "0       0       0  8.9     10      0      0   7.8      10       0       0  \n",
       "1       5       4  8.8      7      1      1   7.6       7       6       4  \n",
       "2       0       0  9.0     10      0      0   9.0      10       0       0  \n",
       "3       8       6  8.2      9      7      6   8.3       8       8       9  \n",
       "4       7       4  9.6      6      4      5   9.4       6       4       5  \n",
       "\n",
       "[5 rows x 96 columns]"
      ]
     },
     "execution_count": 1,
     "metadata": {},
     "output_type": "execute_result"
    }
   ],
   "source": [
    "import pandas as pd\n",
    "import numpy as np\n",
    "\n",
    "data = pd.read_csv(\"BGT.csv\") \n",
    "data.head(5)\n",
    "#print(data)"
   ]
  },
  {
   "cell_type": "code",
   "execution_count": 2,
   "metadata": {},
   "outputs": [
    {
     "name": "stdout",
     "output_type": "stream",
     "text": [
      "[ 8.9  7.   6.   9.   9.8  9.   2.   3.   9.6  7.   6.   5.   9.4  6.\n",
      "  8.   4.   8.8  9.   3.   3.   9.5 10.   1.   2.   9.3  6.   7.   6.\n",
      "  9.8  9.   3.   4.   9.9  9.   3.   5.   9.8  9.   3.   2.   9.3  7.\n",
      "  5.   7.   9.6  6.   7.   8.   8.6  9.   4.   4.   9.1  7.   7.   5.\n",
      "  9.5  8.   4.   5.   9.6  9.   4.   5.   9.9 10.   1.   2.   9.7  9.\n",
      "  3.   4.   9.8  6.   7.   7.   9.7  6.   7.   6.   9.   7.   7.   3.\n",
      "  9.8  9.   3.   4.   9.9  8.   7.   5.   9.7  9.   5.   6. ]\n"
     ]
    }
   ],
   "source": [
    "duc = np.array(data[25:26])[0]\n",
    "print(duc)"
   ]
  },
  {
   "cell_type": "code",
   "execution_count": 3,
   "metadata": {},
   "outputs": [
    {
     "name": "stdout",
     "output_type": "stream",
     "text": [
      "[8.9 7.  6.  9. ]\n",
      "[9.8 9.  2.  3. ]\n",
      "[9.6 7.  6.  5. ]\n",
      "[9.43333333 7.66666667 4.66666667 5.66666667]\n",
      "[9.9 9.  3.  5. ]\n",
      "[9.8 9.  3.  2. ]\n",
      "[9.3 7.  5.  7. ]\n",
      "[9.66666667 8.33333333 3.66666667 4.66666667]\n",
      "[ 9.9 10.   1.   2. ]\n",
      "[9.7 9.  3.  4. ]\n",
      "[9.8 6.  7.  7. ]\n",
      "[9.8        8.33333333 3.66666667 4.33333333]\n"
     ]
    }
   ],
   "source": [
    "T10 = duc[0:4]\n",
    "print(T10)\n",
    "L10 = duc[4:8]\n",
    "print(L10)\n",
    "H10 = duc[8:12]\n",
    "print(H10)\n",
    "A10 = np.mean(np.array([T10,L10,H10]),axis=0)\n",
    "print(A10)\n",
    "\n",
    "T11 = duc[32:36]\n",
    "print(T11)\n",
    "L11 = duc[36:40]\n",
    "print(L11)\n",
    "H11 = duc[40:44]\n",
    "print(H11)\n",
    "A11 = np.mean(np.array([T11,L11,H11]),axis=0)\n",
    "print(A11)\n",
    "\n",
    "T12 = duc[64:68]\n",
    "print(T12)\n",
    "L12 = duc[68:72]\n",
    "print(L12)\n",
    "H12 = duc[72:76]\n",
    "print(H12)\n",
    "A12 = np.mean(np.array([T12,L12,H12]),axis=0)\n",
    "print(A12)\n",
    "\n",
    "A = [A10,A11,A12]"
   ]
  },
  {
   "cell_type": "code",
   "execution_count": 4,
   "metadata": {},
   "outputs": [
    {
     "name": "stdout",
     "output_type": "stream",
     "text": [
      "[8.9 7.  6.  9. ]\n",
      "[9.8 9.  2.  3. ]\n",
      "[9.8 9.  3.  4. ]\n",
      "[9.5        8.33333333 3.66666667 5.33333333]\n",
      "[9.9 9.  3.  5. ]\n",
      "[9.8 9.  3.  2. ]\n",
      "[9.6 9.  4.  5. ]\n",
      "[9.76666667 9.         3.33333333 4.        ]\n",
      "[ 9.9 10.   1.   2. ]\n",
      "[9.7 9.  3.  4. ]\n",
      "[9.7 9.  5.  6. ]\n",
      "[9.76666667 9.33333333 3.         4.        ]\n"
     ]
    }
   ],
   "source": [
    "T10 = duc[0:4]\n",
    "print(T10)\n",
    "L10 = duc[4:8]\n",
    "print(L10)\n",
    "A10 = duc[28:32]\n",
    "print(A10)\n",
    "A110 = np.mean(np.array([T10,L10,A10]),axis=0)\n",
    "print(A110)\n",
    "\n",
    "T11 = duc[32:36]\n",
    "print(T11)\n",
    "L11 = duc[36:40]\n",
    "print(L11)\n",
    "A11 = duc[60:64]\n",
    "print(A11)\n",
    "A111 = np.mean(np.array([T11,L11,A11]),axis=0)\n",
    "print(A111)\n",
    "\n",
    "T12 = duc[64:68]\n",
    "print(T12)\n",
    "L12 = duc[68:72]\n",
    "print(L12)\n",
    "A12 = duc[92:96]\n",
    "print(A12)\n",
    "A112 = np.mean(np.array([T12,L12,A12]),axis=0)\n",
    "print(A112)\n",
    "\n",
    "A1 = [A110,A111,A112]"
   ]
  },
  {
   "cell_type": "code",
   "execution_count": 5,
   "metadata": {},
   "outputs": [
    {
     "name": "stdout",
     "output_type": "stream",
     "text": [
      "[8.9 7.  6.  9. ]\n",
      "[9.6 7.  6.  5. ]\n",
      "[9.4 6.  8.  4. ]\n",
      "[9.8 9.  3.  4. ]\n",
      "[9.9 9.  3.  5. ]\n",
      "[9.3 7.  5.  7. ]\n",
      "[9.6 6.  7.  8. ]\n",
      "[9.6        7.33333333 5.         6.66666667]\n",
      "[ 9.9 10.   1.   2. ]\n",
      "[9.8 6.  7.  7. ]\n",
      "[9.7 6.  7.  6. ]\n",
      "[9.8        7.33333333 5.         5.        ]\n"
     ]
    }
   ],
   "source": [
    "T10 = duc[0:4]\n",
    "print(T10)\n",
    "H10 = duc[8:12]\n",
    "print(H10)\n",
    "SI10 = duc[12:16]\n",
    "print(SI10)\n",
    "B10 = np.mean(np.array([T10,H10,SI10]),axis=0)\n",
    "print(A10)\n",
    "\n",
    "T11 = duc[32:36]\n",
    "print(T11)\n",
    "H11 = duc[40:44]\n",
    "print(H11)\n",
    "SI11 = duc[44:48]\n",
    "print(SI11)\n",
    "B11 = np.mean(np.array([T11,H11,SI11]),axis=0)\n",
    "print(B11)\n",
    "\n",
    "T12 = duc[64:68]\n",
    "print(T12)\n",
    "H12 = duc[72:76]\n",
    "print(H12)\n",
    "SI12 = duc[76:80]\n",
    "print(SI12)\n",
    "B12 = np.mean(np.array([T12,H12,SI12]),axis=0)\n",
    "print(B12)\n",
    "\n",
    "B = [B10,B11,B12]"
   ]
  },
  {
   "cell_type": "code",
   "execution_count": 6,
   "metadata": {},
   "outputs": [
    {
     "name": "stdout",
     "output_type": "stream",
     "text": [
      "[8.8 9.  3.  3. ]\n",
      "[ 9.5 10.   1.   2. ]\n",
      "[9.3 6.  7.  6. ]\n",
      "[9.8 9.  3.  4. ]\n",
      "[8.6 9.  4.  4. ]\n",
      "[9.1 7.  7.  5. ]\n",
      "[9.5 8.  4.  5. ]\n",
      "[9.6        7.33333333 5.         6.66666667]\n",
      "[9. 7. 7. 3.]\n",
      "[9.8 9.  3.  4. ]\n",
      "[9.9 8.  7.  5. ]\n",
      "[9.8        7.33333333 5.         5.        ]\n"
     ]
    }
   ],
   "source": [
    "V10 = duc[16:20]\n",
    "print(V10)\n",
    "SU10 = duc[20:24]\n",
    "print(SU10)\n",
    "D10 = duc[24:28]\n",
    "print(D10)\n",
    "C10 = np.mean(np.array([V10,SU10,D10]),axis=0)\n",
    "print(A10)\n",
    "\n",
    "V11 = duc[48:52]\n",
    "print(V11)\n",
    "SU11 = duc[52:56]\n",
    "print(SU11)\n",
    "D11 = duc[56:60]\n",
    "print(D11)\n",
    "C11 = np.mean(np.array([V11,SU11,D11]),axis=0)\n",
    "print(B11)\n",
    "\n",
    "V12 = duc[80:84]\n",
    "print(V12)\n",
    "SU12 = duc[84:88]\n",
    "print(SU12)\n",
    "D12 = duc[88:92]\n",
    "print(D12)\n",
    "C12 = np.mean(np.array([V12,SU12,D12]),axis=0)\n",
    "print(B12)\n",
    "\n",
    "C = [C10,C11,C12]"
   ]
  },
  {
   "cell_type": "code",
   "execution_count": 7,
   "metadata": {},
   "outputs": [
    {
     "name": "stdout",
     "output_type": "stream",
     "text": [
      "[8.9 7.  6.  9. ]\n",
      "[8.8 9.  3.  3. ]\n",
      "[9.8 9.  3.  4. ]\n",
      "[9.16666667 8.33333333 4.         5.33333333]\n",
      "[9.9 9.  3.  5. ]\n",
      "[8.6 9.  4.  4. ]\n",
      "[9.6 9.  4.  5. ]\n",
      "[9.36666667 9.         3.66666667 4.66666667]\n",
      "[ 9.9 10.   1.   2. ]\n",
      "[9. 7. 7. 3.]\n",
      "[9.7 9.  5.  6. ]\n",
      "[9.53333333 8.66666667 4.33333333 3.66666667]\n"
     ]
    }
   ],
   "source": [
    "T10 = duc[0:4]\n",
    "print(T10)\n",
    "V10 = duc[16:20]\n",
    "print(V10)\n",
    "A10 = duc[28:32]\n",
    "print(A10)\n",
    "DD10 = np.mean(np.array([T10,V10,A10]),axis=0)\n",
    "print(DD10)\n",
    "\n",
    "T11 = duc[32:36]\n",
    "print(T11)\n",
    "V11 = duc[48:52]\n",
    "print(V11)\n",
    "A11 = duc[60:64]\n",
    "print(A11)\n",
    "DD11 = np.mean(np.array([T11,V11,A11]),axis=0)\n",
    "print(DD11)\n",
    "\n",
    "T12 = duc[64:68]\n",
    "print(T12)\n",
    "V12 = duc[80:84]\n",
    "print(V12)\n",
    "A12 = duc[92:96]\n",
    "print(A12)\n",
    "DD12 = np.mean(np.array([T12,V12,A12]),axis=0)\n",
    "print(DD12)\n",
    "\n",
    "D = [DD10,DD11,DD12]"
   ]
  },
  {
   "cell_type": "code",
   "execution_count": 8,
   "metadata": {},
   "outputs": [
    {
     "name": "stdout",
     "output_type": "stream",
     "text": [
      "[[[0.94333333 0.25555556 0.18888889 0.15555556]\n",
      "  [0.96666667 0.27777778 0.15555556 0.12222222]\n",
      "  [0.98       0.27777778 0.14444444 0.12222222]]\n",
      "\n",
      " [[0.95       0.27777778 0.17777778 0.12222222]\n",
      "  [0.97666667 0.3        0.13333333 0.11111111]\n",
      "  [0.97666667 0.31111111 0.13333333 0.1       ]]\n",
      "\n",
      " [[0.93       0.22222222 0.2        0.22222222]\n",
      "  [0.96       0.24444444 0.22222222 0.16666667]\n",
      "  [0.98       0.24444444 0.16666667 0.16666667]]\n",
      "\n",
      " [[0.92       0.27777778 0.12222222 0.12222222]\n",
      "  [0.90666667 0.26666667 0.15555556 0.16666667]\n",
      "  [0.95666667 0.26666667 0.13333333 0.18888889]]\n",
      "\n",
      " [[0.91666667 0.27777778 0.17777778 0.13333333]\n",
      "  [0.93666667 0.3        0.15555556 0.12222222]\n",
      "  [0.95333333 0.28888889 0.12222222 0.14444444]]]\n"
     ]
    }
   ],
   "source": [
    "from dm import *\n",
    "from im import *\n",
    "\n",
    "def change(A):\n",
    "    Aok = []\n",
    "    for i in range(3):\n",
    "        temp = []\n",
    "        for j in range(4):\n",
    "            if j == 0:\n",
    "                temp.append(A[i][j]/10)\n",
    "            if j == 1:\n",
    "                temp.append(A[i][j]/30)\n",
    "            if j == 2:\n",
    "                temp.append(A[i][j+1]/30)\n",
    "            if j == 3:\n",
    "                temp.append(A[i][j-1]/30)\n",
    "        Aok.append(temp)\n",
    "    return(Aok)\n",
    "\n",
    "matrix = np.array([change(A),change(A1),change(B),change(C),change(D)])\n",
    "print(matrix)\n",
    "\n",
    "def rtc(A):\n",
    "    rtc = []\n",
    "    for i in range(3):\n",
    "        temp = []\n",
    "        for j in range(5):\n",
    "            temp.append(A[j][i])\n",
    "        rtc.append(temp)\n",
    "    return np.array(rtc)\n",
    "matric = rtc(matrix)"
   ]
  },
  {
   "cell_type": "code",
   "execution_count": 9,
   "metadata": {},
   "outputs": [
    {
     "name": "stdout",
     "output_type": "stream",
     "text": [
      "[[[0.94333333 0.25555556 0.18888889 0.15555556]\n",
      "  [0.95       0.27777778 0.17777778 0.12222222]\n",
      "  [0.93       0.22222222 0.2        0.22222222]\n",
      "  [0.92       0.27777778 0.12222222 0.12222222]\n",
      "  [0.91666667 0.27777778 0.17777778 0.13333333]]\n",
      "\n",
      " [[0.96666667 0.27777778 0.15555556 0.12222222]\n",
      "  [0.97666667 0.3        0.13333333 0.11111111]\n",
      "  [0.96       0.24444444 0.22222222 0.16666667]\n",
      "  [0.90666667 0.26666667 0.15555556 0.16666667]\n",
      "  [0.93666667 0.3        0.15555556 0.12222222]]\n",
      "\n",
      " [[0.98       0.27777778 0.14444444 0.12222222]\n",
      "  [0.97666667 0.31111111 0.13333333 0.1       ]\n",
      "  [0.98       0.24444444 0.16666667 0.16666667]\n",
      "  [0.95666667 0.26666667 0.13333333 0.18888889]\n",
      "  [0.95333333 0.28888889 0.12222222 0.14444444]]]\n"
     ]
    }
   ],
   "source": [
    "cost = []\n",
    "mat = rnf(matric,cost)\n",
    "print(np.array(mat))"
   ]
  },
  {
   "cell_type": "code",
   "execution_count": 10,
   "metadata": {},
   "outputs": [
    {
     "name": "stdout",
     "output_type": "stream",
     "text": [
      "[0.51458953 0.49198306 0.46263141]\n",
      "[0.32733333 0.31533333 0.29644444]\n",
      "[0.40838032 0.39521338 0.37449403]\n",
      "[0.25794505 0.24766733 0.23148956]\n",
      "[0.22552725 0.21595299 0.20088214]\n",
      "[0.12969549 0.12074453 0.10664239]\n",
      "[0.49159182 0.47501703 0.448921  ]\n",
      "[0.41617229 0.40338594 0.38327037]\n",
      "[0.26296891 0.25293805 0.2371513 ]\n",
      "[0.20527412 0.1997597  0.18782109]\n",
      "[0.19585314 0.18739304 0.17407793]\n",
      "[0.05393811 0.0556173  0.05246875]\n",
      "[0.0458701  0.04486105 0.04105399]\n"
     ]
    }
   ],
   "source": [
    "for i in range(13):\n",
    "    print(np.array(ej(mat,i)))"
   ]
  },
  {
   "cell_type": "code",
   "execution_count": 11,
   "metadata": {},
   "outputs": [
    {
     "name": "stdout",
     "output_type": "stream",
     "text": [
      "[0.0018255  0.00168083 0.00121617]\n",
      "[0.03116667 0.03238889 0.02772222]\n",
      "[0.0227037  0.02358802 0.02014852]\n",
      "[0.04411592 0.04586631 0.03940905]\n",
      "[0.04836143 0.05028154 0.04320698]\n",
      "[0.04892118 0.05084314 0.04352876]\n",
      "[0.00149312 0.00151285 0.00102277]\n",
      "[0.02448708 0.02544648 0.02177729]\n",
      "[0.04753006 0.04942657 0.04255626]\n",
      "[0.13153431 0.12449046 0.12747903]\n",
      "[0.07797529 0.08051979 0.06964063]\n",
      "[0.22687298 0.22002108 0.22559922]\n",
      "[0.07107741 0.09401726 0.05988639]\n"
     ]
    }
   ],
   "source": [
    "for i in range(13):\n",
    "    print(np.array(cj(mat,i)))"
   ]
  },
  {
   "cell_type": "code",
   "execution_count": 12,
   "metadata": {},
   "outputs": [
    {
     "name": "stdout",
     "output_type": "stream",
     "text": [
      "[0.6921454  0.7072852  0.66404592 0.68224828 0.69068922]\n",
      "[0.734568   0.75140402 0.70331217 0.72538267 0.73496068]\n",
      "[0.70066035 0.71634322 0.67223145 0.69211695 0.70097943]\n",
      "[0.76265424 0.78012459 0.72953426 0.75310172 0.76309478]\n",
      "[0.78094721 0.79861232 0.74695791 0.77125244 0.78141557]\n",
      "[0.87373993 0.89127059 0.83725163 0.86387342 0.87436285]\n",
      "[0.69324206 0.70858574 0.66558149 0.68475024 0.69353241]\n",
      "[0.69316222 0.70851037 0.66547019 0.68481877 0.69346405]\n",
      "[0.7546285  0.7719869  0.72193001 0.74516096 0.75505159]\n",
      "[0.8064258  0.82988325 0.75795297 0.80169352 0.81114473]\n",
      "[0.85437682 0.87573877 0.80764007 0.84912956 0.85836718]\n",
      "[0.95704059 0.96713045 0.92922659 0.95397141 0.95857324]\n",
      "[0.97027659 0.97761704 0.94936153 0.96742397 0.97101465]\n"
     ]
    }
   ],
   "source": [
    "visual = []\n",
    "for i in range(13):\n",
    "    print(np.array(S(mat,i)))\n",
    "    visual.append(S(mat,i))"
   ]
  },
  {
   "cell_type": "code",
   "execution_count": 13,
   "metadata": {},
   "outputs": [
    {
     "name": "stdout",
     "output_type": "stream",
     "text": [
      "[0.85163668 0.86368836 0.83151104 0.8501485  0.85837082]\n",
      "[0.734568   0.75140402 0.70331217 0.72538267 0.73496068]\n",
      "[0.79457439 0.80851393 0.76834061 0.78687598 0.79491327]\n",
      "[0.66040332 0.67971924 0.62520336 0.65000063 0.6608186 ]\n",
      "[0.63123977 0.65182676 0.5939111  0.62019835 0.63167438]\n",
      "[0.59500001 0.61930731 0.55062138 0.58198435 0.59555089]\n",
      "[0.91422484 0.92462731 0.8932529  0.90823777 0.91456336]\n",
      "[0.7884712  0.8022507  0.76268543 0.78087973 0.78879545]\n",
      "[0.65084213 0.66982173 0.61643953 0.64064266 0.65123609]\n",
      "[0.30845335 0.31604524 0.29846135 0.29957067 0.30613077]\n",
      "[0.53766292 0.55987064 0.50167306 0.52186294 0.53602075]\n",
      "[0.25035699 0.25617258 0.24297735 0.23361227 0.23975241]\n",
      "[0.48982843 0.5037257  0.46874678 0.45664202 0.46982579]\n"
     ]
    }
   ],
   "source": [
    "for i in range(13):\n",
    "    print(np.array(Spos(mat,i)))"
   ]
  },
  {
   "cell_type": "code",
   "execution_count": 14,
   "metadata": {},
   "outputs": [
    {
     "name": "stdout",
     "output_type": "stream",
     "text": [
      "[0.37879362 0.35744331 0.42067802 0.39594991 0.3844035 ]\n",
      "[0.265432   0.24859598 0.29668783 0.27461733 0.26503932]\n",
      "[0.33946208 0.32015443 0.37462973 0.3500359  0.33909043]\n",
      "[0.20552423 0.19157651 0.23178636 0.21309743 0.20515325]\n",
      "[0.17706042 0.16437247 0.20119542 0.18394608 0.17669751]\n",
      "[0.08598067 0.0755516  0.10703202 0.09170735 0.08557468]\n",
      "[0.40454229 0.3802639  0.44881102 0.4181404  0.40413977]\n",
      "[0.3490276  0.33005552 0.38339961 0.35939237 0.34867584]\n",
      "[0.21162481 0.19783772 0.23743761 0.21909462 0.21126934]\n",
      "[0.07404105 0.06478573 0.09531157 0.07410164 0.07127508]\n",
      "[0.09164128 0.07944174 0.11948614 0.09272283 0.08844482]\n",
      "[0.01123797 0.00870646 0.01850607 0.01127166 0.0103614 ]\n",
      "[0.01500538 0.01153302 0.02500272 0.01537649 0.01402457]\n"
     ]
    }
   ],
   "source": [
    "for i in range(13):\n",
    "    print(np.array(Sneg(mat,i)))"
   ]
  },
  {
   "cell_type": "code",
   "execution_count": 15,
   "metadata": {},
   "outputs": [
    {
     "name": "stdout",
     "output_type": "stream",
     "text": [
      "[0.6921454  0.7072852  0.66404592 0.68224828 0.69068922]\n",
      "[0.734568   0.75140402 0.70331217 0.72538267 0.73496068]\n",
      "[0.70066035 0.71634322 0.67223145 0.69211695 0.70097943]\n",
      "[0.76265424 0.78012459 0.72953426 0.75310172 0.76309478]\n",
      "[0.78094721 0.79861232 0.74695791 0.77125244 0.78141557]\n",
      "[0.87373993 0.89127059 0.83725163 0.86387342 0.87436285]\n",
      "[0.69324206 0.70858574 0.66558149 0.68475024 0.69353241]\n",
      "[0.69316222 0.70851037 0.66547019 0.68481877 0.69346405]\n",
      "[0.7546285  0.7719869  0.72193001 0.74516096 0.75505159]\n",
      "[0.8064258  0.82988325 0.75795297 0.80169352 0.81114473]\n",
      "[0.85437682 0.87573877 0.80764007 0.84912956 0.85836718]\n",
      "[0.95704059 0.96713045 0.92922659 0.95397141 0.95857324]\n",
      "[0.97027659 0.97761704 0.94936153 0.96742397 0.97101465]\n"
     ]
    }
   ],
   "source": [
    "for i in range(13):\n",
    "    print(np.array(S(mat,i)))"
   ]
  },
  {
   "cell_type": "code",
   "execution_count": 16,
   "metadata": {},
   "outputs": [
    {
     "name": "stdout",
     "output_type": "stream",
     "text": [
      "Similarity no. 1 : [3 4 5 1 2]\n",
      "Similarity no. 2 : [3 4 1 5 2]\n",
      "Similarity no. 3 : [3 4 1 5 2]\n",
      "Similarity no. 4 : [3 4 1 5 2]\n",
      "Similarity no. 5 : [3 4 1 5 2]\n",
      "Similarity no. 6 : [3 4 1 5 2]\n",
      "Similarity no. 7 : [3 4 1 5 2]\n",
      "Similarity no. 8 : [3 4 1 5 2]\n",
      "Similarity no. 9 : [3 4 1 5 2]\n",
      "Similarity no. 10 : [3 4 1 5 2]\n",
      "Similarity no. 11 : [3 4 1 5 2]\n",
      "Similarity no. 12 : [3 4 1 5 2]\n",
      "Similarity no. 13 : [3 4 1 5 2]\n"
     ]
    }
   ],
   "source": [
    "for i in range(13):\n",
    "    print(\"Similarity no.\",i+1,\":\",np.array(rank(mat,i)))"
   ]
  },
  {
   "cell_type": "code",
   "execution_count": 17,
   "metadata": {},
   "outputs": [
    {
     "name": "stdout",
     "output_type": "stream",
     "text": [
      "Similarity no. 1 : 2\n",
      "Similarity no. 2 : 2\n",
      "Similarity no. 3 : 2\n",
      "Similarity no. 4 : 2\n",
      "Similarity no. 5 : 2\n",
      "Similarity no. 6 : 2\n",
      "Similarity no. 7 : 2\n",
      "Similarity no. 8 : 2\n",
      "Similarity no. 9 : 2\n",
      "Similarity no. 10 : 2\n",
      "Similarity no. 11 : 2\n",
      "Similarity no. 12 : 2\n",
      "Similarity no. 13 : 2\n"
     ]
    }
   ],
   "source": [
    " for i in range(13):\n",
    "    print(\"Similarity no.\",i+1,\":\",alt(mat,i))"
   ]
  },
  {
   "cell_type": "code",
   "execution_count": 18,
   "metadata": {},
   "outputs": [
    {
     "name": "stderr",
     "output_type": "stream",
     "text": [
      "The PostScript backend does not support transparency; partially transparent artists will be rendered opaque.\n",
      "The PostScript backend does not support transparency; partially transparent artists will be rendered opaque.\n"
     ]
    },
    {
     "data": {
      "image/png": "[encoded data removed]",
      "text/plain": [
       "<Figure size 720x324 with 1 Axes>"
      ]
     },
     "metadata": {
      "needs_background": "light"
     },
     "output_type": "display_data"
    }
   ],
   "source": [
    "import matplotlib.pyplot as plt\n",
    "xaxis = [1,2,3,4,5,6,7,8,9,10,11,12,13]\n",
    "plt.plot(xaxis,[visual[i][0] for i in range(13)],\n",
    "         'go-', color='blue', label='A', marker='o')\n",
    "plt.plot(xaxis,[visual[i][1] for i in range(13)],\n",
    "         'go-', color='green', label='A1', marker='o')\n",
    "plt.plot(xaxis,[visual[i][2] for i in range(13)],\n",
    "         'go-', color='red', label='B', marker='o')\n",
    "plt.plot(xaxis,[visual[i][3] for i in range(13)],\n",
    "         'go-', color='cyan', label='C', marker='o')\n",
    "plt.plot(xaxis,[visual[i][4] for i in range(13)],\n",
    "         'go-', color='magenta', label='D', marker='o')\n",
    "plt.xticks(xaxis,[\"IM1\",\"IM2\",\"IM3\",\"IM4\",\"IM5\",\"IM6\",\"IM7\",\"IM8\",\"IM9\",\"IM10\",\"IM11\",\"IM12\",\"IM13\"])\n",
    "plt.xlabel(\"Information Measures\")\n",
    "plt.ylabel(\"Combination Scores\")\n",
    "plt.title(\"The visualization of combination scores Si and rank of combinations \\n using information measures IMi\")\n",
    "figure = plt.gcf()\n",
    "figure.set_size_inches(10,4.5)\n",
    "plt.legend(loc='upper center', ncol=5)\n",
    "plt.savefig('decision making.eps', format='eps')\n",
    "plt.show()"
   ]
  },
  {
   "cell_type": "code",
   "execution_count": null,
   "metadata": {},
   "outputs": [],
   "source": [
    "# 9.6\t8\t9.8\tVật lý\t8.5\tHoá học\t8.5\tSinh học\t6.75\n",
    "# Khối A: 26.6đ Khối A1: 27.9đ Khối B: 24.85đ Khối D: 27.4đ"
   ]
  }
 ],
 "metadata": {
  "kernelspec": {
   "display_name": "Python 3",
   "language": "python",
   "name": "python3"
  },
  "language_info": {
   "codemirror_mode": {
    "name": "ipython",
    "version": 3
   },
   "file_extension": ".py",
   "mimetype": "text/x-python",
   "name": "python",
   "nbconvert_exporter": "python",
   "pygments_lexer": "ipython3",
   "version": "3.8.8"
  }
 },
 "nbformat": 4,
 "nbformat_minor": 4
}

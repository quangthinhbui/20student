{
 "cells": [
  {
   "cell_type": "code",
   "execution_count": 1,
   "metadata": {},
   "outputs": [
    {
     "data": {
      "text/html": [
       "<div>\n",
       "<style scoped>\n",
       "    .dataframe tbody tr th:only-of-type {\n",
       "        vertical-align: middle;\n",
       "    }\n",
       "\n",
       "    .dataframe tbody tr th {\n",
       "        vertical-align: top;\n",
       "    }\n",
       "\n",
       "    .dataframe thead th {\n",
       "        text-align: right;\n",
       "    }\n",
       "</style>\n",
       "<table border=\"1\" class=\"dataframe\">\n",
       "  <thead>\n",
       "    <tr style=\"text-align: right;\">\n",
       "      <th></th>\n",
       "      <th>T10</th>\n",
       "      <th>T10_T</th>\n",
       "      <th>T10_F</th>\n",
       "      <th>T10_I</th>\n",
       "      <th>L10</th>\n",
       "      <th>L10_T</th>\n",
       "      <th>L10_F</th>\n",
       "      <th>L10_I</th>\n",
       "      <th>H10</th>\n",
       "      <th>H10_T</th>\n",
       "      <th>...</th>\n",
       "      <th>SU12_F</th>\n",
       "      <th>SU12_I</th>\n",
       "      <th>D12</th>\n",
       "      <th>D12_T</th>\n",
       "      <th>D12_F</th>\n",
       "      <th>D12_I</th>\n",
       "      <th>AV12</th>\n",
       "      <th>AV12_T</th>\n",
       "      <th>AV12_F</th>\n",
       "      <th>AV12_I</th>\n",
       "    </tr>\n",
       "  </thead>\n",
       "  <tbody>\n",
       "    <tr>\n",
       "      <th>0</th>\n",
       "      <td>9.3</td>\n",
       "      <td>10</td>\n",
       "      <td>0</td>\n",
       "      <td>0</td>\n",
       "      <td>7.7</td>\n",
       "      <td>8</td>\n",
       "      <td>2</td>\n",
       "      <td>2</td>\n",
       "      <td>8.6</td>\n",
       "      <td>8</td>\n",
       "      <td>...</td>\n",
       "      <td>0</td>\n",
       "      <td>0</td>\n",
       "      <td>8.9</td>\n",
       "      <td>10</td>\n",
       "      <td>0</td>\n",
       "      <td>0</td>\n",
       "      <td>7.8</td>\n",
       "      <td>10</td>\n",
       "      <td>0</td>\n",
       "      <td>0</td>\n",
       "    </tr>\n",
       "    <tr>\n",
       "      <th>1</th>\n",
       "      <td>9.1</td>\n",
       "      <td>9</td>\n",
       "      <td>1</td>\n",
       "      <td>1</td>\n",
       "      <td>7.1</td>\n",
       "      <td>9</td>\n",
       "      <td>2</td>\n",
       "      <td>5</td>\n",
       "      <td>8.0</td>\n",
       "      <td>7</td>\n",
       "      <td>...</td>\n",
       "      <td>5</td>\n",
       "      <td>4</td>\n",
       "      <td>8.8</td>\n",
       "      <td>7</td>\n",
       "      <td>1</td>\n",
       "      <td>1</td>\n",
       "      <td>7.6</td>\n",
       "      <td>7</td>\n",
       "      <td>6</td>\n",
       "      <td>4</td>\n",
       "    </tr>\n",
       "    <tr>\n",
       "      <th>2</th>\n",
       "      <td>9.4</td>\n",
       "      <td>8</td>\n",
       "      <td>2</td>\n",
       "      <td>2</td>\n",
       "      <td>7.6</td>\n",
       "      <td>10</td>\n",
       "      <td>0</td>\n",
       "      <td>0</td>\n",
       "      <td>9.0</td>\n",
       "      <td>10</td>\n",
       "      <td>...</td>\n",
       "      <td>0</td>\n",
       "      <td>0</td>\n",
       "      <td>9.0</td>\n",
       "      <td>10</td>\n",
       "      <td>0</td>\n",
       "      <td>0</td>\n",
       "      <td>9.0</td>\n",
       "      <td>10</td>\n",
       "      <td>0</td>\n",
       "      <td>0</td>\n",
       "    </tr>\n",
       "    <tr>\n",
       "      <th>3</th>\n",
       "      <td>9.3</td>\n",
       "      <td>9</td>\n",
       "      <td>0</td>\n",
       "      <td>9</td>\n",
       "      <td>7.1</td>\n",
       "      <td>9</td>\n",
       "      <td>8</td>\n",
       "      <td>8</td>\n",
       "      <td>8.7</td>\n",
       "      <td>9</td>\n",
       "      <td>...</td>\n",
       "      <td>8</td>\n",
       "      <td>6</td>\n",
       "      <td>8.2</td>\n",
       "      <td>9</td>\n",
       "      <td>7</td>\n",
       "      <td>6</td>\n",
       "      <td>8.3</td>\n",
       "      <td>8</td>\n",
       "      <td>8</td>\n",
       "      <td>9</td>\n",
       "    </tr>\n",
       "    <tr>\n",
       "      <th>4</th>\n",
       "      <td>9.3</td>\n",
       "      <td>8</td>\n",
       "      <td>2</td>\n",
       "      <td>3</td>\n",
       "      <td>9.6</td>\n",
       "      <td>6</td>\n",
       "      <td>4</td>\n",
       "      <td>6</td>\n",
       "      <td>8.6</td>\n",
       "      <td>7</td>\n",
       "      <td>...</td>\n",
       "      <td>7</td>\n",
       "      <td>4</td>\n",
       "      <td>9.6</td>\n",
       "      <td>6</td>\n",
       "      <td>4</td>\n",
       "      <td>5</td>\n",
       "      <td>9.4</td>\n",
       "      <td>6</td>\n",
       "      <td>4</td>\n",
       "      <td>5</td>\n",
       "    </tr>\n",
       "  </tbody>\n",
       "</table>\n",
       "<p>5 rows × 96 columns</p>\n",
       "</div>"
      ],
      "text/plain": [
       "   T10  T10_T  T10_F  T10_I  L10  L10_T  L10_F  L10_I  H10  H10_T  ...  \\\n",
       "0  9.3     10      0      0  7.7      8      2      2  8.6      8  ...   \n",
       "1  9.1      9      1      1  7.1      9      2      5  8.0      7  ...   \n",
       "2  9.4      8      2      2  7.6     10      0      0  9.0     10  ...   \n",
       "3  9.3      9      0      9  7.1      9      8      8  8.7      9  ...   \n",
       "4  9.3      8      2      3  9.6      6      4      6  8.6      7  ...   \n",
       "\n",
       "   SU12_F  SU12_I  D12  D12_T  D12_F  D12_I  AV12  AV12_T  AV12_F  AV12_I  \n",
       "0       0       0  8.9     10      0      0   7.8      10       0       0  \n",
       "1       5       4  8.8      7      1      1   7.6       7       6       4  \n",
       "2       0       0  9.0     10      0      0   9.0      10       0       0  \n",
       "3       8       6  8.2      9      7      6   8.3       8       8       9  \n",
       "4       7       4  9.6      6      4      5   9.4       6       4       5  \n",
       "\n",
       "[5 rows x 96 columns]"
      ]
     },
     "execution_count": 1,
     "metadata": {},
     "output_type": "execute_result"
    }
   ],
   "source": [
    "import pandas as pd\n",
    "import numpy as np\n",
    "\n",
    "data = pd.read_csv(\"BGT.csv\") \n",
    "data.head(5)\n",
    "#print(data)"
   ]
  },
  {
   "cell_type": "code",
   "execution_count": 2,
   "metadata": {},
   "outputs": [
    {
     "name": "stdout",
     "output_type": "stream",
     "text": [
      "[9.7 7.  5.  7.  8.7 9.  4.  5.  8.9 7.  5.  6.  9.8 6.  6.  8.  9.2 8.\n",
      " 5.  6.  9.4 8.  3.  4.  9.  8.  4.  5.  8.6 9.  4.  5.  9.9 6.  6.  8.\n",
      " 9.5 7.  5.  6.  9.4 7.  5.  7.  9.2 7.  5.  7.  8.7 8.  4.  5.  9.  8.\n",
      " 5.  5.  9.8 7.  4.  6.  9.1 7.  6.  6.  9.9 6.  6.  7.  9.3 7.  4.  6.\n",
      " 9.2 7.  5.  7.  9.4 7.  6.  8.  8.8 8.  5.  5.  9.3 8.  5.  5.  9.6 7.\n",
      " 6.  7.  9.5 9.  4.  5. ]\n"
     ]
    }
   ],
   "source": [
    "duc = np.array(data[29:30])[0]\n",
    "print(duc)"
   ]
  },
  {
   "cell_type": "code",
   "execution_count": 3,
   "metadata": {},
   "outputs": [
    {
     "name": "stdout",
     "output_type": "stream",
     "text": [
      "[9.7 7.  5.  7. ]\n",
      "[8.7 9.  4.  5. ]\n",
      "[8.9 7.  5.  6. ]\n",
      "[9.1        7.66666667 4.66666667 6.        ]\n",
      "[9.9 6.  6.  8. ]\n",
      "[9.5 7.  5.  6. ]\n",
      "[9.4 7.  5.  7. ]\n",
      "[9.6        6.66666667 5.33333333 7.        ]\n",
      "[9.9 6.  6.  7. ]\n",
      "[9.3 7.  4.  6. ]\n",
      "[9.2 7.  5.  7. ]\n",
      "[9.46666667 6.66666667 5.         6.66666667]\n"
     ]
    }
   ],
   "source": [
    "T10 = duc[0:4]\n",
    "print(T10)\n",
    "L10 = duc[4:8]\n",
    "print(L10)\n",
    "H10 = duc[8:12]\n",
    "print(H10)\n",
    "A10 = np.mean(np.array([T10,L10,H10]),axis=0)\n",
    "print(A10)\n",
    "\n",
    "T11 = duc[32:36]\n",
    "print(T11)\n",
    "L11 = duc[36:40]\n",
    "print(L11)\n",
    "H11 = duc[40:44]\n",
    "print(H11)\n",
    "A11 = np.mean(np.array([T11,L11,H11]),axis=0)\n",
    "print(A11)\n",
    "\n",
    "T12 = duc[64:68]\n",
    "print(T12)\n",
    "L12 = duc[68:72]\n",
    "print(L12)\n",
    "H12 = duc[72:76]\n",
    "print(H12)\n",
    "A12 = np.mean(np.array([T12,L12,H12]),axis=0)\n",
    "print(A12)\n",
    "\n",
    "A = [A10,A11,A12]"
   ]
  },
  {
   "cell_type": "code",
   "execution_count": 4,
   "metadata": {},
   "outputs": [
    {
     "name": "stdout",
     "output_type": "stream",
     "text": [
      "[9.7 7.  5.  7. ]\n",
      "[8.7 9.  4.  5. ]\n",
      "[8.6 9.  4.  5. ]\n",
      "[9.         8.33333333 4.33333333 5.66666667]\n",
      "[9.9 6.  6.  8. ]\n",
      "[9.5 7.  5.  6. ]\n",
      "[9.1 7.  6.  6. ]\n",
      "[9.5        6.66666667 5.66666667 6.66666667]\n",
      "[9.9 6.  6.  7. ]\n",
      "[9.3 7.  4.  6. ]\n",
      "[9.5 9.  4.  5. ]\n",
      "[9.56666667 7.33333333 4.66666667 6.        ]\n"
     ]
    }
   ],
   "source": [
    "T10 = duc[0:4]\n",
    "print(T10)\n",
    "L10 = duc[4:8]\n",
    "print(L10)\n",
    "A10 = duc[28:32]\n",
    "print(A10)\n",
    "A110 = np.mean(np.array([T10,L10,A10]),axis=0)\n",
    "print(A110)\n",
    "\n",
    "T11 = duc[32:36]\n",
    "print(T11)\n",
    "L11 = duc[36:40]\n",
    "print(L11)\n",
    "A11 = duc[60:64]\n",
    "print(A11)\n",
    "A111 = np.mean(np.array([T11,L11,A11]),axis=0)\n",
    "print(A111)\n",
    "\n",
    "T12 = duc[64:68]\n",
    "print(T12)\n",
    "L12 = duc[68:72]\n",
    "print(L12)\n",
    "A12 = duc[92:96]\n",
    "print(A12)\n",
    "A112 = np.mean(np.array([T12,L12,A12]),axis=0)\n",
    "print(A112)\n",
    "\n",
    "A1 = [A110,A111,A112]"
   ]
  },
  {
   "cell_type": "code",
   "execution_count": 5,
   "metadata": {},
   "outputs": [
    {
     "name": "stdout",
     "output_type": "stream",
     "text": [
      "[9.7 7.  5.  7. ]\n",
      "[8.9 7.  5.  6. ]\n",
      "[9.8 6.  6.  8. ]\n",
      "[8.6 9.  4.  5. ]\n",
      "[9.9 6.  6.  8. ]\n",
      "[9.4 7.  5.  7. ]\n",
      "[9.2 7.  5.  7. ]\n",
      "[9.5        6.66666667 5.33333333 7.33333333]\n",
      "[9.9 6.  6.  7. ]\n",
      "[9.2 7.  5.  7. ]\n",
      "[9.4 7.  6.  8. ]\n",
      "[9.5        6.66666667 5.66666667 7.33333333]\n"
     ]
    }
   ],
   "source": [
    "T10 = duc[0:4]\n",
    "print(T10)\n",
    "H10 = duc[8:12]\n",
    "print(H10)\n",
    "SI10 = duc[12:16]\n",
    "print(SI10)\n",
    "B10 = np.mean(np.array([T10,H10,SI10]),axis=0)\n",
    "print(A10)\n",
    "\n",
    "T11 = duc[32:36]\n",
    "print(T11)\n",
    "H11 = duc[40:44]\n",
    "print(H11)\n",
    "SI11 = duc[44:48]\n",
    "print(SI11)\n",
    "B11 = np.mean(np.array([T11,H11,SI11]),axis=0)\n",
    "print(B11)\n",
    "\n",
    "T12 = duc[64:68]\n",
    "print(T12)\n",
    "H12 = duc[72:76]\n",
    "print(H12)\n",
    "SI12 = duc[76:80]\n",
    "print(SI12)\n",
    "B12 = np.mean(np.array([T12,H12,SI12]),axis=0)\n",
    "print(B12)\n",
    "\n",
    "B = [B10,B11,B12]"
   ]
  },
  {
   "cell_type": "code",
   "execution_count": 6,
   "metadata": {},
   "outputs": [
    {
     "name": "stdout",
     "output_type": "stream",
     "text": [
      "[9.2 8.  5.  6. ]\n",
      "[9.4 8.  3.  4. ]\n",
      "[9. 8. 4. 5.]\n",
      "[8.6 9.  4.  5. ]\n",
      "[8.7 8.  4.  5. ]\n",
      "[9. 8. 5. 5.]\n",
      "[9.8 7.  4.  6. ]\n",
      "[9.5        6.66666667 5.33333333 7.33333333]\n",
      "[8.8 8.  5.  5. ]\n",
      "[9.3 8.  5.  5. ]\n",
      "[9.6 7.  6.  7. ]\n",
      "[9.5        6.66666667 5.66666667 7.33333333]\n"
     ]
    }
   ],
   "source": [
    "V10 = duc[16:20]\n",
    "print(V10)\n",
    "SU10 = duc[20:24]\n",
    "print(SU10)\n",
    "D10 = duc[24:28]\n",
    "print(D10)\n",
    "C10 = np.mean(np.array([V10,SU10,D10]),axis=0)\n",
    "print(A10)\n",
    "\n",
    "V11 = duc[48:52]\n",
    "print(V11)\n",
    "SU11 = duc[52:56]\n",
    "print(SU11)\n",
    "D11 = duc[56:60]\n",
    "print(D11)\n",
    "C11 = np.mean(np.array([V11,SU11,D11]),axis=0)\n",
    "print(B11)\n",
    "\n",
    "V12 = duc[80:84]\n",
    "print(V12)\n",
    "SU12 = duc[84:88]\n",
    "print(SU12)\n",
    "D12 = duc[88:92]\n",
    "print(D12)\n",
    "C12 = np.mean(np.array([V12,SU12,D12]),axis=0)\n",
    "print(B12)\n",
    "\n",
    "C = [C10,C11,C12]"
   ]
  },
  {
   "cell_type": "code",
   "execution_count": 7,
   "metadata": {},
   "outputs": [
    {
     "name": "stdout",
     "output_type": "stream",
     "text": [
      "[9.7 7.  5.  7. ]\n",
      "[9.2 8.  5.  6. ]\n",
      "[8.6 9.  4.  5. ]\n",
      "[9.16666667 8.         4.66666667 6.        ]\n",
      "[9.9 6.  6.  8. ]\n",
      "[8.7 8.  4.  5. ]\n",
      "[9.1 7.  6.  6. ]\n",
      "[9.23333333 7.         5.33333333 6.33333333]\n",
      "[9.9 6.  6.  7. ]\n",
      "[8.8 8.  5.  5. ]\n",
      "[9.5 9.  4.  5. ]\n",
      "[9.4        7.66666667 5.         5.66666667]\n"
     ]
    }
   ],
   "source": [
    "T10 = duc[0:4]\n",
    "print(T10)\n",
    "V10 = duc[16:20]\n",
    "print(V10)\n",
    "A10 = duc[28:32]\n",
    "print(A10)\n",
    "DD10 = np.mean(np.array([T10,V10,A10]),axis=0)\n",
    "print(DD10)\n",
    "\n",
    "T11 = duc[32:36]\n",
    "print(T11)\n",
    "V11 = duc[48:52]\n",
    "print(V11)\n",
    "A11 = duc[60:64]\n",
    "print(A11)\n",
    "DD11 = np.mean(np.array([T11,V11,A11]),axis=0)\n",
    "print(DD11)\n",
    "\n",
    "T12 = duc[64:68]\n",
    "print(T12)\n",
    "V12 = duc[80:84]\n",
    "print(V12)\n",
    "A12 = duc[92:96]\n",
    "print(A12)\n",
    "DD12 = np.mean(np.array([T12,V12,A12]),axis=0)\n",
    "print(DD12)\n",
    "\n",
    "D = [DD10,DD11,DD12]"
   ]
  },
  {
   "cell_type": "code",
   "execution_count": 8,
   "metadata": {},
   "outputs": [
    {
     "name": "stdout",
     "output_type": "stream",
     "text": [
      "[[[0.91       0.25555556 0.2        0.15555556]\n",
      "  [0.96       0.22222222 0.23333333 0.17777778]\n",
      "  [0.94666667 0.22222222 0.22222222 0.16666667]]\n",
      "\n",
      " [[0.9        0.27777778 0.18888889 0.14444444]\n",
      "  [0.95       0.22222222 0.22222222 0.18888889]\n",
      "  [0.95666667 0.24444444 0.2        0.15555556]]\n",
      "\n",
      " [[0.94666667 0.22222222 0.23333333 0.17777778]\n",
      "  [0.95       0.22222222 0.24444444 0.17777778]\n",
      "  [0.95       0.22222222 0.24444444 0.18888889]]\n",
      "\n",
      " [[0.92       0.26666667 0.16666667 0.13333333]\n",
      "  [0.91666667 0.25555556 0.17777778 0.14444444]\n",
      "  [0.92333333 0.25555556 0.18888889 0.17777778]]\n",
      "\n",
      " [[0.91666667 0.26666667 0.2        0.15555556]\n",
      "  [0.92333333 0.23333333 0.21111111 0.17777778]\n",
      "  [0.94       0.25555556 0.18888889 0.16666667]]]\n"
     ]
    }
   ],
   "source": [
    "from dm import *\n",
    "from im import *\n",
    "\n",
    "def change(A):\n",
    "    Aok = []\n",
    "    for i in range(3):\n",
    "        temp = []\n",
    "        for j in range(4):\n",
    "            if j == 0:\n",
    "                temp.append(A[i][j]/10)\n",
    "            if j == 1:\n",
    "                temp.append(A[i][j]/30)\n",
    "            if j == 2:\n",
    "                temp.append(A[i][j+1]/30)\n",
    "            if j == 3:\n",
    "                temp.append(A[i][j-1]/30)\n",
    "        Aok.append(temp)\n",
    "    return(Aok)\n",
    "\n",
    "matrix = np.array([change(A),change(A1),change(B),change(C),change(D)])\n",
    "print(matrix)\n",
    "\n",
    "def rtc(A):\n",
    "    rtc = []\n",
    "    for i in range(3):\n",
    "        temp = []\n",
    "        for j in range(5):\n",
    "            temp.append(A[j][i])\n",
    "        rtc.append(temp)\n",
    "    return np.array(rtc)\n",
    "matric = rtc(matrix)"
   ]
  },
  {
   "cell_type": "code",
   "execution_count": 9,
   "metadata": {},
   "outputs": [
    {
     "name": "stdout",
     "output_type": "stream",
     "text": [
      "[[[0.91       0.25555556 0.2        0.15555556]\n",
      "  [0.9        0.27777778 0.18888889 0.14444444]\n",
      "  [0.94666667 0.22222222 0.23333333 0.17777778]\n",
      "  [0.92       0.26666667 0.16666667 0.13333333]\n",
      "  [0.91666667 0.26666667 0.2        0.15555556]]\n",
      "\n",
      " [[0.96       0.22222222 0.23333333 0.17777778]\n",
      "  [0.95       0.22222222 0.22222222 0.18888889]\n",
      "  [0.95       0.22222222 0.24444444 0.17777778]\n",
      "  [0.91666667 0.25555556 0.17777778 0.14444444]\n",
      "  [0.92333333 0.23333333 0.21111111 0.17777778]]\n",
      "\n",
      " [[0.94666667 0.22222222 0.22222222 0.16666667]\n",
      "  [0.95666667 0.24444444 0.2        0.15555556]\n",
      "  [0.95       0.22222222 0.24444444 0.18888889]\n",
      "  [0.92333333 0.25555556 0.18888889 0.17777778]\n",
      "  [0.94       0.25555556 0.18888889 0.16666667]]]\n"
     ]
    }
   ],
   "source": [
    "cost = []\n",
    "mat = rnf(matric,cost)\n",
    "print(np.array(mat))"
   ]
  },
  {
   "cell_type": "code",
   "execution_count": 10,
   "metadata": {},
   "outputs": [
    {
     "name": "stdout",
     "output_type": "stream",
     "text": [
      "[0.54190739 0.53558001 0.53109217]\n",
      "[0.34511111 0.34111111 0.33833333]\n",
      "[0.42767119 0.42340964 0.42038471]\n",
      "[0.27330102 0.26979522 0.26740321]\n",
      "[0.23991508 0.23659856 0.2343619 ]\n",
      "[0.14351574 0.14019831 0.13806759]\n",
      "[0.51585045 0.51051295 0.50670442]\n",
      "[0.43485541 0.43074388 0.42781249]\n",
      "[0.27791306 0.2745159  0.27218618]\n",
      "[0.21648205 0.21367078 0.21204769]\n",
      "[0.20859947 0.20564711 0.20366791]\n",
      "[0.05658217 0.0549041  0.05473849]\n",
      "[0.04973924 0.04897814 0.04846477]\n"
     ]
    }
   ],
   "source": [
    "for i in range(13):\n",
    "    print(np.array(ej(mat,i)))"
   ]
  },
  {
   "cell_type": "code",
   "execution_count": 11,
   "metadata": {},
   "outputs": [
    {
     "name": "stdout",
     "output_type": "stream",
     "text": [
      "[0.00084864 0.00079165 0.00062429]\n",
      "[0.0235     0.02177778 0.01994444]\n",
      "[0.0170858  0.01582873 0.01447053]\n",
      "[0.03338598 0.03095762 0.02844746]\n",
      "[0.03660238 0.03394054 0.03119088]\n",
      "[0.03689628 0.03419352 0.03132113]\n",
      "[0.0009061  0.00080682 0.00056737]\n",
      "[0.01846122 0.01710796 0.01566621]\n",
      "[0.0360409  0.03343021 0.03077588]\n",
      "[0.09111637 0.07918468 0.07610079]\n",
      "[0.05891543 0.0540887  0.04949977]\n",
      "[0.16841724 0.14628975 0.14239329]\n",
      "[0.06625566 0.06554864 0.05336533]\n"
     ]
    }
   ],
   "source": [
    "for i in range(13):\n",
    "    print(np.array(cj(mat,i)))"
   ]
  },
  {
   "cell_type": "code",
   "execution_count": 12,
   "metadata": {},
   "outputs": [
    {
     "name": "stdout",
     "output_type": "stream",
     "text": [
      "[0.65756167 0.66363142 0.64949928 0.6703537  0.66201328]\n",
      "[0.69675204 0.70425491 0.68721858 0.71239274 0.70296178]\n",
      "[0.66624456 0.67297687 0.65777255 0.68029441 0.6718115 ]\n",
      "[0.72258497 0.73063714 0.71227486 0.73934354 0.72925166]\n",
      "[0.73980741 0.74814573 0.72907047 0.75714032 0.74671484]\n",
      "[0.82945533 0.83880333 0.81703521 0.84879743 0.83723616]\n",
      "[0.65962906 0.66616038 0.65142313 0.6732544  0.66503918]\n",
      "[0.65964572 0.66618752 0.65143121 0.67329948 0.66505233]\n",
      "[0.71508067 0.72300253 0.7049667  0.73157276 0.72163547]\n",
      "[0.75272313 0.76354714 0.7350264  0.78160978 0.76272099]\n",
      "[0.80191694 0.8128472  0.78408675 0.8300423  0.81189369]\n",
      "[0.92517659 0.93188973 0.91264084 0.94319212 0.93140732]\n",
      "[0.94594475 0.95104938 0.93645109 0.95923275 0.95042698]\n"
     ]
    }
   ],
   "source": [
    "visual = []\n",
    "for i in range(13):\n",
    "    print(np.array(S(mat,i)))\n",
    "    visual.append(S(mat,i))"
   ]
  },
  {
   "cell_type": "code",
   "execution_count": 13,
   "metadata": {},
   "outputs": [
    {
     "name": "stdout",
     "output_type": "stream",
     "text": [
      "[0.82875502 0.83600373 0.82105723 0.84336592 0.83748491]\n",
      "[0.69675204 0.70425491 0.68721858 0.71239274 0.70296178]\n",
      "[0.7627679  0.76911632 0.75464383 0.77599119 0.76803141]\n",
      "[0.61790084 0.62626076 0.60737784 0.63534457 0.62480447]\n",
      "[0.58619732 0.59503618 0.57510281 0.60464561 0.59349156]\n",
      "[0.5414883  0.55203029 0.52822094 0.56349165 0.55019206]\n",
      "[0.88864723 0.89391126 0.88170104 0.89958254 0.89304323]\n",
      "[0.75721615 0.76343733 0.74927588 0.77017675 0.76237116]\n",
      "[0.60931222 0.61745912 0.59908188 0.6263149  0.61603628]\n",
      "[0.29305019 0.2959183  0.29277568 0.29482135 0.29463146]\n",
      "[0.49148343 0.50027432 0.48349367 0.50629841 0.498024  ]\n",
      "[0.23409295 0.23441116 0.23743668 0.22841736 0.23058255]\n",
      "[0.45114953 0.4533379  0.45423129 0.44458445 0.44602776]\n"
     ]
    }
   ],
   "source": [
    "for i in range(13):\n",
    "    print(np.array(Spos(mat,i)))"
   ]
  },
  {
   "cell_type": "code",
   "execution_count": 14,
   "metadata": {},
   "outputs": [
    {
     "name": "stdout",
     "output_type": "stream",
     "text": [
      "[0.43159068 0.4237373  0.44308156 0.41472502 0.42757265]\n",
      "[0.30324796 0.29574509 0.31278142 0.28760726 0.29703822]\n",
      "[0.38210885 0.37374067 0.39262786 0.36467846 0.37519317]\n",
      "[0.23722467 0.23088258 0.24535174 0.22399149 0.23197036]\n",
      "[0.20616744 0.20031177 0.21371368 0.19394561 0.20131192]\n",
      "[0.11133565 0.10608619 0.11828845 0.10037894 0.10696071]\n",
      "[0.45854513 0.44797469 0.4717987  0.43658777 0.44979979]\n",
      "[0.39069724 0.38254231 0.40092367 0.37370762 0.38396143]\n",
      "[0.24277656 0.23656157 0.25071979 0.22980623 0.23763057]\n",
      "[0.09626983 0.09163904 0.10554427 0.08237627 0.0916585 ]\n",
      "[0.12140228 0.11518492 0.13313921 0.10366859 0.11538635]\n",
      "[0.0189322  0.01713272 0.02272775 0.01375744 0.01698105]\n",
      "[0.02578058 0.02333335 0.03082479 0.01889477 0.02326422]\n"
     ]
    }
   ],
   "source": [
    "for i in range(13):\n",
    "    print(np.array(Sneg(mat,i)))"
   ]
  },
  {
   "cell_type": "code",
   "execution_count": 15,
   "metadata": {},
   "outputs": [
    {
     "name": "stdout",
     "output_type": "stream",
     "text": [
      "[0.65756167 0.66363142 0.64949928 0.6703537  0.66201328]\n",
      "[0.69675204 0.70425491 0.68721858 0.71239274 0.70296178]\n",
      "[0.66624456 0.67297687 0.65777255 0.68029441 0.6718115 ]\n",
      "[0.72258497 0.73063714 0.71227486 0.73934354 0.72925166]\n",
      "[0.73980741 0.74814573 0.72907047 0.75714032 0.74671484]\n",
      "[0.82945533 0.83880333 0.81703521 0.84879743 0.83723616]\n",
      "[0.65962906 0.66616038 0.65142313 0.6732544  0.66503918]\n",
      "[0.65964572 0.66618752 0.65143121 0.67329948 0.66505233]\n",
      "[0.71508067 0.72300253 0.7049667  0.73157276 0.72163547]\n",
      "[0.75272313 0.76354714 0.7350264  0.78160978 0.76272099]\n",
      "[0.80191694 0.8128472  0.78408675 0.8300423  0.81189369]\n",
      "[0.92517659 0.93188973 0.91264084 0.94319212 0.93140732]\n",
      "[0.94594475 0.95104938 0.93645109 0.95923275 0.95042698]\n"
     ]
    }
   ],
   "source": [
    "for i in range(13):\n",
    "    print(np.array(S(mat,i)))"
   ]
  },
  {
   "cell_type": "code",
   "execution_count": 16,
   "metadata": {},
   "outputs": [
    {
     "name": "stdout",
     "output_type": "stream",
     "text": [
      "Similarity no. 1 : [3 1 5 2 4]\n",
      "Similarity no. 2 : [3 1 5 2 4]\n",
      "Similarity no. 3 : [3 1 5 2 4]\n",
      "Similarity no. 4 : [3 1 5 2 4]\n",
      "Similarity no. 5 : [3 1 5 2 4]\n",
      "Similarity no. 6 : [3 1 5 2 4]\n",
      "Similarity no. 7 : [3 1 5 2 4]\n",
      "Similarity no. 8 : [3 1 5 2 4]\n",
      "Similarity no. 9 : [3 1 5 2 4]\n",
      "Similarity no. 10 : [3 1 5 2 4]\n",
      "Similarity no. 11 : [3 1 5 2 4]\n",
      "Similarity no. 12 : [3 1 5 2 4]\n",
      "Similarity no. 13 : [3 1 5 2 4]\n"
     ]
    }
   ],
   "source": [
    "for i in range(13):\n",
    "    print(\"Similarity no.\",i+1,\":\",np.array(rank(mat,i)))"
   ]
  },
  {
   "cell_type": "code",
   "execution_count": 17,
   "metadata": {},
   "outputs": [
    {
     "name": "stdout",
     "output_type": "stream",
     "text": [
      "Similarity no. 1 : 4\n",
      "Similarity no. 2 : 4\n",
      "Similarity no. 3 : 4\n",
      "Similarity no. 4 : 4\n",
      "Similarity no. 5 : 4\n",
      "Similarity no. 6 : 4\n",
      "Similarity no. 7 : 4\n",
      "Similarity no. 8 : 4\n",
      "Similarity no. 9 : 4\n",
      "Similarity no. 10 : 4\n",
      "Similarity no. 11 : 4\n",
      "Similarity no. 12 : 4\n",
      "Similarity no. 13 : 4\n"
     ]
    }
   ],
   "source": [
    " for i in range(13):\n",
    "    print(\"Similarity no.\",i+1,\":\",alt(mat,i))"
   ]
  },
  {
   "cell_type": "code",
   "execution_count": 18,
   "metadata": {},
   "outputs": [
    {
     "name": "stderr",
     "output_type": "stream",
     "text": [
      "The PostScript backend does not support transparency; partially transparent artists will be rendered opaque.\n",
      "The PostScript backend does not support transparency; partially transparent artists will be rendered opaque.\n"
     ]
    },
    {
     "data": {
      "image/png": "[encoded data removed]",
      "text/plain": [
       "<Figure size 720x324 with 1 Axes>"
      ]
     },
     "metadata": {
      "needs_background": "light"
     },
     "output_type": "display_data"
    }
   ],
   "source": [
    "import matplotlib.pyplot as plt\n",
    "xaxis = [1,2,3,4,5,6,7,8,9,10,11,12,13]\n",
    "plt.plot(xaxis,[visual[i][0] for i in range(13)],\n",
    "         'go-', color='blue', label='A', marker='o')\n",
    "plt.plot(xaxis,[visual[i][1] for i in range(13)],\n",
    "         'go-', color='green', label='A1', marker='o')\n",
    "plt.plot(xaxis,[visual[i][2] for i in range(13)],\n",
    "         'go-', color='red', label='B', marker='o')\n",
    "plt.plot(xaxis,[visual[i][3] for i in range(13)],\n",
    "         'go-', color='cyan', label='C', marker='o')\n",
    "plt.plot(xaxis,[visual[i][4] for i in range(13)],\n",
    "         'go-', color='magenta', label='D', marker='o')\n",
    "plt.xticks(xaxis,[\"IM1\",\"IM2\",\"IM3\",\"IM4\",\"IM5\",\"IM6\",\"IM7\",\"IM8\",\"IM9\",\"IM10\",\"IM11\",\"IM12\",\"IM13\"])\n",
    "plt.xlabel(\"Information Measures\")\n",
    "plt.ylabel(\"Combination Scores\")\n",
    "plt.title(\"The visualization of combination scores Si and rank of combinations \\n using information measures IMi\")\n",
    "figure = plt.gcf()\n",
    "figure.set_size_inches(10,4.5)\n",
    "plt.legend(loc='upper center', ncol=5)\n",
    "plt.savefig('decision making.eps', format='eps')\n",
    "plt.show()"
   ]
  },
  {
   "cell_type": "code",
   "execution_count": null,
   "metadata": {},
   "outputs": [],
   "source": [
    "# 8.6\t8.5\t9.4\tVật lí\t8.25\tHóa\t7.5\tSinh \t8\n",
    "# Khối A: 24.35đ Khối A1: 26.25đ. Khối B: 24.1đ. Khối D: 26.5đ"
   ]
  }
 ],
 "metadata": {
  "kernelspec": {
   "display_name": "Python 3",
   "language": "python",
   "name": "python3"
  },
  "language_info": {
   "codemirror_mode": {
    "name": "ipython",
    "version": 3
   },
   "file_extension": ".py",
   "mimetype": "text/x-python",
   "name": "python",
   "nbconvert_exporter": "python",
   "pygments_lexer": "ipython3",
   "version": "3.8.8"
  }
 },
 "nbformat": 4,
 "nbformat_minor": 4
}

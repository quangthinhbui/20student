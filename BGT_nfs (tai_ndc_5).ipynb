{
 "cells": [
  {
   "cell_type": "code",
   "execution_count": 1,
   "metadata": {},
   "outputs": [
    {
     "data": {
      "text/html": [
       "<div>\n",
       "<style scoped>\n",
       "    .dataframe tbody tr th:only-of-type {\n",
       "        vertical-align: middle;\n",
       "    }\n",
       "\n",
       "    .dataframe tbody tr th {\n",
       "        vertical-align: top;\n",
       "    }\n",
       "\n",
       "    .dataframe thead th {\n",
       "        text-align: right;\n",
       "    }\n",
       "</style>\n",
       "<table border=\"1\" class=\"dataframe\">\n",
       "  <thead>\n",
       "    <tr style=\"text-align: right;\">\n",
       "      <th></th>\n",
       "      <th>T10</th>\n",
       "      <th>T10_T</th>\n",
       "      <th>T10_F</th>\n",
       "      <th>T10_I</th>\n",
       "      <th>L10</th>\n",
       "      <th>L10_T</th>\n",
       "      <th>L10_F</th>\n",
       "      <th>L10_I</th>\n",
       "      <th>H10</th>\n",
       "      <th>H10_T</th>\n",
       "      <th>...</th>\n",
       "      <th>SU12_F</th>\n",
       "      <th>SU12_I</th>\n",
       "      <th>D12</th>\n",
       "      <th>D12_T</th>\n",
       "      <th>D12_F</th>\n",
       "      <th>D12_I</th>\n",
       "      <th>AV12</th>\n",
       "      <th>AV12_T</th>\n",
       "      <th>AV12_F</th>\n",
       "      <th>AV12_I</th>\n",
       "    </tr>\n",
       "  </thead>\n",
       "  <tbody>\n",
       "    <tr>\n",
       "      <th>0</th>\n",
       "      <td>9.3</td>\n",
       "      <td>10</td>\n",
       "      <td>0</td>\n",
       "      <td>0</td>\n",
       "      <td>7.7</td>\n",
       "      <td>8</td>\n",
       "      <td>2</td>\n",
       "      <td>2</td>\n",
       "      <td>8.6</td>\n",
       "      <td>8</td>\n",
       "      <td>...</td>\n",
       "      <td>0</td>\n",
       "      <td>0</td>\n",
       "      <td>8.9</td>\n",
       "      <td>10</td>\n",
       "      <td>0</td>\n",
       "      <td>0</td>\n",
       "      <td>7.8</td>\n",
       "      <td>10</td>\n",
       "      <td>0</td>\n",
       "      <td>0</td>\n",
       "    </tr>\n",
       "    <tr>\n",
       "      <th>1</th>\n",
       "      <td>9.1</td>\n",
       "      <td>9</td>\n",
       "      <td>1</td>\n",
       "      <td>1</td>\n",
       "      <td>7.1</td>\n",
       "      <td>9</td>\n",
       "      <td>2</td>\n",
       "      <td>5</td>\n",
       "      <td>8.0</td>\n",
       "      <td>7</td>\n",
       "      <td>...</td>\n",
       "      <td>5</td>\n",
       "      <td>4</td>\n",
       "      <td>8.8</td>\n",
       "      <td>7</td>\n",
       "      <td>1</td>\n",
       "      <td>1</td>\n",
       "      <td>7.6</td>\n",
       "      <td>7</td>\n",
       "      <td>6</td>\n",
       "      <td>4</td>\n",
       "    </tr>\n",
       "    <tr>\n",
       "      <th>2</th>\n",
       "      <td>9.4</td>\n",
       "      <td>8</td>\n",
       "      <td>2</td>\n",
       "      <td>2</td>\n",
       "      <td>7.6</td>\n",
       "      <td>10</td>\n",
       "      <td>0</td>\n",
       "      <td>0</td>\n",
       "      <td>9.0</td>\n",
       "      <td>10</td>\n",
       "      <td>...</td>\n",
       "      <td>0</td>\n",
       "      <td>0</td>\n",
       "      <td>9.0</td>\n",
       "      <td>10</td>\n",
       "      <td>0</td>\n",
       "      <td>0</td>\n",
       "      <td>9.0</td>\n",
       "      <td>10</td>\n",
       "      <td>0</td>\n",
       "      <td>0</td>\n",
       "    </tr>\n",
       "    <tr>\n",
       "      <th>3</th>\n",
       "      <td>9.3</td>\n",
       "      <td>9</td>\n",
       "      <td>0</td>\n",
       "      <td>9</td>\n",
       "      <td>7.1</td>\n",
       "      <td>9</td>\n",
       "      <td>8</td>\n",
       "      <td>8</td>\n",
       "      <td>8.7</td>\n",
       "      <td>9</td>\n",
       "      <td>...</td>\n",
       "      <td>8</td>\n",
       "      <td>6</td>\n",
       "      <td>8.2</td>\n",
       "      <td>9</td>\n",
       "      <td>7</td>\n",
       "      <td>6</td>\n",
       "      <td>8.3</td>\n",
       "      <td>8</td>\n",
       "      <td>8</td>\n",
       "      <td>9</td>\n",
       "    </tr>\n",
       "    <tr>\n",
       "      <th>4</th>\n",
       "      <td>9.3</td>\n",
       "      <td>8</td>\n",
       "      <td>2</td>\n",
       "      <td>3</td>\n",
       "      <td>9.6</td>\n",
       "      <td>6</td>\n",
       "      <td>4</td>\n",
       "      <td>6</td>\n",
       "      <td>8.6</td>\n",
       "      <td>7</td>\n",
       "      <td>...</td>\n",
       "      <td>7</td>\n",
       "      <td>4</td>\n",
       "      <td>9.6</td>\n",
       "      <td>6</td>\n",
       "      <td>4</td>\n",
       "      <td>5</td>\n",
       "      <td>9.4</td>\n",
       "      <td>6</td>\n",
       "      <td>4</td>\n",
       "      <td>5</td>\n",
       "    </tr>\n",
       "  </tbody>\n",
       "</table>\n",
       "<p>5 rows × 96 columns</p>\n",
       "</div>"
      ],
      "text/plain": [
       "   T10  T10_T  T10_F  T10_I  L10  L10_T  L10_F  L10_I  H10  H10_T  ...  \\\n",
       "0  9.3     10      0      0  7.7      8      2      2  8.6      8  ...   \n",
       "1  9.1      9      1      1  7.1      9      2      5  8.0      7  ...   \n",
       "2  9.4      8      2      2  7.6     10      0      0  9.0     10  ...   \n",
       "3  9.3      9      0      9  7.1      9      8      8  8.7      9  ...   \n",
       "4  9.3      8      2      3  9.6      6      4      6  8.6      7  ...   \n",
       "\n",
       "   SU12_F  SU12_I  D12  D12_T  D12_F  D12_I  AV12  AV12_T  AV12_F  AV12_I  \n",
       "0       0       0  8.9     10      0      0   7.8      10       0       0  \n",
       "1       5       4  8.8      7      1      1   7.6       7       6       4  \n",
       "2       0       0  9.0     10      0      0   9.0      10       0       0  \n",
       "3       8       6  8.2      9      7      6   8.3       8       8       9  \n",
       "4       7       4  9.6      6      4      5   9.4       6       4       5  \n",
       "\n",
       "[5 rows x 96 columns]"
      ]
     },
     "execution_count": 1,
     "metadata": {},
     "output_type": "execute_result"
    }
   ],
   "source": [
    "import pandas as pd\n",
    "import numpy as np\n",
    "\n",
    "data = pd.read_csv(\"BGT.csv\") \n",
    "data.head(5)\n",
    "#print(data)"
   ]
  },
  {
   "cell_type": "code",
   "execution_count": 2,
   "metadata": {},
   "outputs": [
    {
     "name": "stdout",
     "output_type": "stream",
     "text": [
      "[ 9.9  9.   1.   0.   9.6  9.   1.   0.   9.6  9.   1.   0.   9.5  8.\n",
      "  2.  10.   8.8  8.   1.   0.   9.2  8.   1.  10.   9.1  9.   0.   0.\n",
      "  8.4  8.   1.  10.   9.9  9.   1.   0.   9.8  9.   1.   0.   9.7  9.\n",
      "  1.   0.   8.4  8.   1.  10.   8.6  8.   1.  10.   9.2  8.   1.   8.\n",
      "  9.5  9.   0.   9.   8.3  7.   1.  10.   9.7 10.   0.   0.   9.8  9.\n",
      "  1.   0.   9.8  9.   1.   9.   9.4  7.   2.  10.   8.7  8.   1.  10.\n",
      "  9.4  8.   2.  10.   9.4 10.   0.   0.   8.6  8.   1.  10. ]\n"
     ]
    }
   ],
   "source": [
    "duc = np.array(data[44:45])[0]\n",
    "print(duc)"
   ]
  },
  {
   "cell_type": "code",
   "execution_count": 3,
   "metadata": {},
   "outputs": [
    {
     "name": "stdout",
     "output_type": "stream",
     "text": [
      "[9.9 9.  1.  0. ]\n",
      "[9.6 9.  1.  0. ]\n",
      "[9.6 9.  1.  0. ]\n",
      "[9.7 9.  1.  0. ]\n",
      "[9.9 9.  1.  0. ]\n",
      "[9.8 9.  1.  0. ]\n",
      "[9.7 9.  1.  0. ]\n",
      "[9.8 9.  1.  0. ]\n",
      "[ 9.7 10.   0.   0. ]\n",
      "[9.8 9.  1.  0. ]\n",
      "[9.8 9.  1.  9. ]\n",
      "[9.76666667 9.33333333 0.66666667 3.        ]\n"
     ]
    }
   ],
   "source": [
    "T10 = duc[0:4]\n",
    "print(T10)\n",
    "L10 = duc[4:8]\n",
    "print(L10)\n",
    "H10 = duc[8:12]\n",
    "print(H10)\n",
    "A10 = np.mean(np.array([T10,L10,H10]),axis=0)\n",
    "print(A10)\n",
    "\n",
    "T11 = duc[32:36]\n",
    "print(T11)\n",
    "L11 = duc[36:40]\n",
    "print(L11)\n",
    "H11 = duc[40:44]\n",
    "print(H11)\n",
    "A11 = np.mean(np.array([T11,L11,H11]),axis=0)\n",
    "print(A11)\n",
    "\n",
    "T12 = duc[64:68]\n",
    "print(T12)\n",
    "L12 = duc[68:72]\n",
    "print(L12)\n",
    "H12 = duc[72:76]\n",
    "print(H12)\n",
    "A12 = np.mean(np.array([T12,L12,H12]),axis=0)\n",
    "print(A12)\n",
    "\n",
    "A = [A10,A11,A12]"
   ]
  },
  {
   "cell_type": "code",
   "execution_count": 4,
   "metadata": {},
   "outputs": [
    {
     "name": "stdout",
     "output_type": "stream",
     "text": [
      "[9.9 9.  1.  0. ]\n",
      "[9.6 9.  1.  0. ]\n",
      "[ 8.4  8.   1.  10. ]\n",
      "[9.3        8.66666667 1.         3.33333333]\n",
      "[9.9 9.  1.  0. ]\n",
      "[9.8 9.  1.  0. ]\n",
      "[ 8.3  7.   1.  10. ]\n",
      "[9.33333333 8.33333333 1.         3.33333333]\n",
      "[ 9.7 10.   0.   0. ]\n",
      "[9.8 9.  1.  0. ]\n",
      "[ 8.6  8.   1.  10. ]\n",
      "[9.36666667 9.         0.66666667 3.33333333]\n"
     ]
    }
   ],
   "source": [
    "T10 = duc[0:4]\n",
    "print(T10)\n",
    "L10 = duc[4:8]\n",
    "print(L10)\n",
    "A10 = duc[28:32]\n",
    "print(A10)\n",
    "A110 = np.mean(np.array([T10,L10,A10]),axis=0)\n",
    "print(A110)\n",
    "\n",
    "T11 = duc[32:36]\n",
    "print(T11)\n",
    "L11 = duc[36:40]\n",
    "print(L11)\n",
    "A11 = duc[60:64]\n",
    "print(A11)\n",
    "A111 = np.mean(np.array([T11,L11,A11]),axis=0)\n",
    "print(A111)\n",
    "\n",
    "T12 = duc[64:68]\n",
    "print(T12)\n",
    "L12 = duc[68:72]\n",
    "print(L12)\n",
    "A12 = duc[92:96]\n",
    "print(A12)\n",
    "A112 = np.mean(np.array([T12,L12,A12]),axis=0)\n",
    "print(A112)\n",
    "\n",
    "A1 = [A110,A111,A112]"
   ]
  },
  {
   "cell_type": "code",
   "execution_count": 5,
   "metadata": {},
   "outputs": [
    {
     "name": "stdout",
     "output_type": "stream",
     "text": [
      "[9.9 9.  1.  0. ]\n",
      "[9.6 9.  1.  0. ]\n",
      "[ 9.5  8.   2.  10. ]\n",
      "[ 8.4  8.   1.  10. ]\n",
      "[9.9 9.  1.  0. ]\n",
      "[9.7 9.  1.  0. ]\n",
      "[ 8.4  8.   1.  10. ]\n",
      "[9.33333333 8.66666667 1.         3.33333333]\n",
      "[ 9.7 10.   0.   0. ]\n",
      "[9.8 9.  1.  9. ]\n",
      "[ 9.4  7.   2.  10. ]\n",
      "[9.63333333 8.66666667 1.         6.33333333]\n"
     ]
    }
   ],
   "source": [
    "T10 = duc[0:4]\n",
    "print(T10)\n",
    "H10 = duc[8:12]\n",
    "print(H10)\n",
    "SI10 = duc[12:16]\n",
    "print(SI10)\n",
    "B10 = np.mean(np.array([T10,H10,SI10]),axis=0)\n",
    "print(A10)\n",
    "\n",
    "T11 = duc[32:36]\n",
    "print(T11)\n",
    "H11 = duc[40:44]\n",
    "print(H11)\n",
    "SI11 = duc[44:48]\n",
    "print(SI11)\n",
    "B11 = np.mean(np.array([T11,H11,SI11]),axis=0)\n",
    "print(B11)\n",
    "\n",
    "T12 = duc[64:68]\n",
    "print(T12)\n",
    "H12 = duc[72:76]\n",
    "print(H12)\n",
    "SI12 = duc[76:80]\n",
    "print(SI12)\n",
    "B12 = np.mean(np.array([T12,H12,SI12]),axis=0)\n",
    "print(B12)\n",
    "\n",
    "B = [B10,B11,B12]"
   ]
  },
  {
   "cell_type": "code",
   "execution_count": 6,
   "metadata": {},
   "outputs": [
    {
     "name": "stdout",
     "output_type": "stream",
     "text": [
      "[8.8 8.  1.  0. ]\n",
      "[ 9.2  8.   1.  10. ]\n",
      "[9.1 9.  0.  0. ]\n",
      "[ 8.4  8.   1.  10. ]\n",
      "[ 8.6  8.   1.  10. ]\n",
      "[9.2 8.  1.  8. ]\n",
      "[9.5 9.  0.  9. ]\n",
      "[9.33333333 8.66666667 1.         3.33333333]\n",
      "[ 8.7  8.   1.  10. ]\n",
      "[ 9.4  8.   2.  10. ]\n",
      "[ 9.4 10.   0.   0. ]\n",
      "[9.63333333 8.66666667 1.         6.33333333]\n"
     ]
    }
   ],
   "source": [
    "V10 = duc[16:20]\n",
    "print(V10)\n",
    "SU10 = duc[20:24]\n",
    "print(SU10)\n",
    "D10 = duc[24:28]\n",
    "print(D10)\n",
    "C10 = np.mean(np.array([V10,SU10,D10]),axis=0)\n",
    "print(A10)\n",
    "\n",
    "V11 = duc[48:52]\n",
    "print(V11)\n",
    "SU11 = duc[52:56]\n",
    "print(SU11)\n",
    "D11 = duc[56:60]\n",
    "print(D11)\n",
    "C11 = np.mean(np.array([V11,SU11,D11]),axis=0)\n",
    "print(B11)\n",
    "\n",
    "V12 = duc[80:84]\n",
    "print(V12)\n",
    "SU12 = duc[84:88]\n",
    "print(SU12)\n",
    "D12 = duc[88:92]\n",
    "print(D12)\n",
    "C12 = np.mean(np.array([V12,SU12,D12]),axis=0)\n",
    "print(B12)\n",
    "\n",
    "C = [C10,C11,C12]"
   ]
  },
  {
   "cell_type": "code",
   "execution_count": 7,
   "metadata": {},
   "outputs": [
    {
     "name": "stdout",
     "output_type": "stream",
     "text": [
      "[9.9 9.  1.  0. ]\n",
      "[8.8 8.  1.  0. ]\n",
      "[ 8.4  8.   1.  10. ]\n",
      "[9.03333333 8.33333333 1.         3.33333333]\n",
      "[9.9 9.  1.  0. ]\n",
      "[ 8.6  8.   1.  10. ]\n",
      "[ 8.3  7.   1.  10. ]\n",
      "[8.93333333 8.         1.         6.66666667]\n",
      "[ 9.7 10.   0.   0. ]\n",
      "[ 8.7  8.   1.  10. ]\n",
      "[ 8.6  8.   1.  10. ]\n",
      "[9.         8.66666667 0.66666667 6.66666667]\n"
     ]
    }
   ],
   "source": [
    "T10 = duc[0:4]\n",
    "print(T10)\n",
    "V10 = duc[16:20]\n",
    "print(V10)\n",
    "A10 = duc[28:32]\n",
    "print(A10)\n",
    "DD10 = np.mean(np.array([T10,V10,A10]),axis=0)\n",
    "print(DD10)\n",
    "\n",
    "T11 = duc[32:36]\n",
    "print(T11)\n",
    "V11 = duc[48:52]\n",
    "print(V11)\n",
    "A11 = duc[60:64]\n",
    "print(A11)\n",
    "DD11 = np.mean(np.array([T11,V11,A11]),axis=0)\n",
    "print(DD11)\n",
    "\n",
    "T12 = duc[64:68]\n",
    "print(T12)\n",
    "V12 = duc[80:84]\n",
    "print(V12)\n",
    "A12 = duc[92:96]\n",
    "print(A12)\n",
    "DD12 = np.mean(np.array([T12,V12,A12]),axis=0)\n",
    "print(DD12)\n",
    "\n",
    "D = [DD10,DD11,DD12]"
   ]
  },
  {
   "cell_type": "code",
   "execution_count": 8,
   "metadata": {},
   "outputs": [
    {
     "name": "stdout",
     "output_type": "stream",
     "text": [
      "[[[0.97       0.3        0.         0.03333333]\n",
      "  [0.98       0.3        0.         0.03333333]\n",
      "  [0.97666667 0.31111111 0.1        0.02222222]]\n",
      "\n",
      " [[0.93       0.28888889 0.11111111 0.03333333]\n",
      "  [0.93333333 0.27777778 0.11111111 0.03333333]\n",
      "  [0.93666667 0.3        0.11111111 0.02222222]]\n",
      "\n",
      " [[0.96666667 0.28888889 0.11111111 0.04444444]\n",
      "  [0.93333333 0.28888889 0.11111111 0.03333333]\n",
      "  [0.96333333 0.28888889 0.21111111 0.03333333]]\n",
      "\n",
      " [[0.90333333 0.27777778 0.11111111 0.02222222]\n",
      "  [0.91       0.27777778 0.3        0.02222222]\n",
      "  [0.91666667 0.28888889 0.22222222 0.03333333]]\n",
      "\n",
      " [[0.90333333 0.27777778 0.11111111 0.03333333]\n",
      "  [0.89333333 0.26666667 0.22222222 0.03333333]\n",
      "  [0.9        0.28888889 0.22222222 0.02222222]]]\n"
     ]
    }
   ],
   "source": [
    "from dm import *\n",
    "from im import *\n",
    "\n",
    "def change(A):\n",
    "    Aok = []\n",
    "    for i in range(3):\n",
    "        temp = []\n",
    "        for j in range(4):\n",
    "            if j == 0:\n",
    "                temp.append(A[i][j]/10)\n",
    "            if j == 1:\n",
    "                temp.append(A[i][j]/30)\n",
    "            if j == 2:\n",
    "                temp.append(A[i][j+1]/30)\n",
    "            if j == 3:\n",
    "                temp.append(A[i][j-1]/30)\n",
    "        Aok.append(temp)\n",
    "    return(Aok)\n",
    "\n",
    "matrix = np.array([change(A),change(A1),change(B),change(C),change(D)])\n",
    "print(matrix)\n",
    "\n",
    "def rtc(A):\n",
    "    rtc = []\n",
    "    for i in range(3):\n",
    "        temp = []\n",
    "        for j in range(5):\n",
    "            temp.append(A[j][i])\n",
    "        rtc.append(temp)\n",
    "    return np.array(rtc)\n",
    "matric = rtc(matrix)"
   ]
  },
  {
   "cell_type": "code",
   "execution_count": 9,
   "metadata": {},
   "outputs": [
    {
     "name": "stdout",
     "output_type": "stream",
     "text": [
      "[[[0.97       0.3        0.         0.03333333]\n",
      "  [0.93       0.28888889 0.11111111 0.03333333]\n",
      "  [0.96666667 0.28888889 0.11111111 0.04444444]\n",
      "  [0.90333333 0.27777778 0.11111111 0.02222222]\n",
      "  [0.90333333 0.27777778 0.11111111 0.03333333]]\n",
      "\n",
      " [[0.98       0.3        0.         0.03333333]\n",
      "  [0.93333333 0.27777778 0.11111111 0.03333333]\n",
      "  [0.93333333 0.28888889 0.11111111 0.03333333]\n",
      "  [0.91       0.27777778 0.3        0.02222222]\n",
      "  [0.89333333 0.26666667 0.22222222 0.03333333]]\n",
      "\n",
      " [[0.97666667 0.31111111 0.1        0.02222222]\n",
      "  [0.93666667 0.3        0.11111111 0.02222222]\n",
      "  [0.96333333 0.28888889 0.21111111 0.03333333]\n",
      "  [0.91666667 0.28888889 0.22222222 0.03333333]\n",
      "  [0.9        0.28888889 0.22222222 0.02222222]]]\n"
     ]
    }
   ],
   "source": [
    "cost = []\n",
    "mat = rnf(matric,cost)\n",
    "print(np.array(mat))"
   ]
  },
  {
   "cell_type": "code",
   "execution_count": 10,
   "metadata": {},
   "outputs": [
    {
     "name": "stdout",
     "output_type": "stream",
     "text": [
      "[0.36764574 0.40495753 0.42286783]\n",
      "[0.23711111 0.26611111 0.27844444]\n",
      "[0.30658347 0.33883899 0.35384143]\n",
      "[0.18224477 0.20681674 0.21658709]\n",
      "[0.156023   0.17874351 0.18733084]\n",
      "[0.06950449 0.09000009 0.09551852]\n",
      "[0.3635546  0.40422467 0.42292781]\n",
      "[0.31655787 0.34797795 0.36297813]\n",
      "[0.18850216 0.21256976 0.22241991]\n",
      "[0.15188455 0.1737101  0.1821408 ]\n",
      "[0.13479251 0.15480028 0.16222226]\n",
      "[0.04545352 0.05566449 0.05883614]\n",
      "[0.03131085 0.03986574 0.04207243]\n"
     ]
    }
   ],
   "source": [
    "for i in range(13):\n",
    "    print(np.array(ej(mat,i)))"
   ]
  },
  {
   "cell_type": "code",
   "execution_count": 11,
   "metadata": {},
   "outputs": [
    {
     "name": "stdout",
     "output_type": "stream",
     "text": [
      "[0.00193755 0.00764763 0.00263579]\n",
      "[0.02594444 0.05038889 0.03222222]\n",
      "[0.01888928 0.03694377 0.02347965]\n",
      "[0.03676153 0.0704783  0.04558264]\n",
      "[0.04030045 0.07722596 0.04996903]\n",
      "[0.04072716 0.07899797 0.05057746]\n",
      "[0.00117501 0.00397113 0.00159136]\n",
      "[0.02038329 0.03961362 0.02531655]\n",
      "[0.03962826 0.07545788 0.04909342]\n",
      "[       nan        nan 0.15190497]\n",
      "[0.07361548 0.13258415 0.08535868]\n",
      "[       nan        nan 0.24555238]\n",
      "[0.08321547 0.11862566 0.0987278 ]\n"
     ]
    },
    {
     "name": "stderr",
     "output_type": "stream",
     "text": [
      "/Users/quangthinhbui/Desktop/coding/im.py:53: RuntimeWarning: invalid value encountered in double_scalars\n",
      "  t = [min(a[i],b[i])/max(a[i],b[i]) for i in range(4)]\n",
      "/Users/quangthinhbui/Desktop/coding/im.py:64: RuntimeWarning: invalid value encountered in double_scalars\n",
      "  t = [min(a[i]**2,b[i]**2)/max(a[i]**2,b[i]**2) for i in range(4)]\n"
     ]
    }
   ],
   "source": [
    "for i in range(13):\n",
    "    print(np.array(cj(mat,i)))"
   ]
  },
  {
   "cell_type": "code",
   "execution_count": 12,
   "metadata": {},
   "outputs": [
    {
     "name": "stdout",
     "output_type": "stream",
     "text": [
      "[0.76681621 0.72813267 0.72346656 0.69622101 0.69795225]\n",
      "[0.80425032 0.77029532 0.76565883 0.73867136 0.74055662]\n",
      "[0.76755659 0.73418908 0.72983078 0.70453922 0.70623664]\n",
      "[0.83313111 0.79946967 0.79471229 0.76684924 0.76885339]\n",
      "[0.85095929 0.81798079 0.81322051 0.78516808 0.78722499]\n",
      "[0.93682038 0.90947708 0.90504557 0.87786811 0.88010741]\n",
      "[0.75905913 0.72601422 0.72181712 0.69715633 0.69878498]\n",
      "[0.75905223 0.7260313  0.72175136 0.69695561 0.69860502]\n",
      "[0.82520371 0.79128962 0.78653932 0.7587886  0.76076488]\n",
      "[nan nan nan nan nan]\n",
      "[0.97035934 0.92886395 0.91105574 0.87723453 0.88687688]\n",
      "[nan nan nan nan nan]\n",
      "[0.997349   0.99062883 0.98370431 0.96145889 0.97049354]\n"
     ]
    }
   ],
   "source": [
    "visual = []\n",
    "for i in range(13):\n",
    "    print(np.array(S(mat,i)))\n",
    "    visual.append(S(mat,i))"
   ]
  },
  {
   "cell_type": "code",
   "execution_count": 13,
   "metadata": {},
   "outputs": [
    {
     "name": "stdout",
     "output_type": "stream",
     "text": [
      "[0.87420995 0.8655693  0.86337875 0.85216814 0.85375203]\n",
      "[0.80425032 0.77029532 0.76565883 0.73867136 0.74055662]\n",
      "[0.85140743 0.82397699 0.82022885 0.79799599 0.79958   ]\n",
      "[0.7420987  0.7017037  0.69624988 0.66506741 0.66718559]\n",
      "[0.71876418 0.67535107 0.66949179 0.63619504 0.63844123]\n",
      "[0.69728074 0.64699844 0.64005567 0.60083625 0.60352176]\n",
      "[0.95304192 0.93557655 0.93299277 0.91679787 0.91809429]\n",
      "[0.84505554 0.8175948  0.81387383 0.79185117 0.79340491]\n",
      "[0.73168785 0.69150124 0.68612049 0.65541622 0.65748313]\n",
      "[nan nan nan nan nan]\n",
      "[0.62050241 0.57081628 0.57017948 0.53289888 0.53136165]\n",
      "[nan nan nan nan nan]\n",
      "[0.52092446 0.47417013 0.49114895 0.44235545 0.43435843]\n"
     ]
    }
   ],
   "source": [
    "for i in range(13):\n",
    "    print(np.array(Spos(mat,i)))"
   ]
  },
  {
   "cell_type": "code",
   "execution_count": 14,
   "metadata": {},
   "outputs": [
    {
     "name": "stdout",
     "output_type": "stream",
     "text": [
      "[0.26584152 0.32318288 0.33001261 0.37182271 0.36947208]\n",
      "[0.19574968 0.22970468 0.23434117 0.26132864 0.25944338]\n",
      "[0.25783643 0.29831835 0.30363284 0.33465351 0.33259008]\n",
      "[0.14863589 0.17600777 0.17985319 0.20220529 0.20058139]\n",
      "[0.12588748 0.15028087 0.15376806 0.17407101 0.17256101]\n",
      "[0.04702495 0.06439765 0.06715255 0.08359031 0.08221472]\n",
      "[0.30251497 0.35307113 0.35956839 0.39825562 0.39574948]\n",
      "[0.26824801 0.30852029 0.31376357 0.34430608 0.34229393]\n",
      "[0.15498757 0.18239022 0.18620779 0.20835034 0.20675646]\n",
      "[nan nan nan nan nan]\n",
      "[0.01895391 0.04371535 0.0556653  0.07457707 0.06777636]\n",
      "[nan nan nan nan nan]\n",
      "[0.00138464 0.00448556 0.0081362  0.01773229 0.01320604]\n"
     ]
    }
   ],
   "source": [
    "for i in range(13):\n",
    "    print(np.array(Sneg(mat,i)))"
   ]
  },
  {
   "cell_type": "code",
   "execution_count": 15,
   "metadata": {},
   "outputs": [
    {
     "name": "stdout",
     "output_type": "stream",
     "text": [
      "[0.76681621 0.72813267 0.72346656 0.69622101 0.69795225]\n",
      "[0.80425032 0.77029532 0.76565883 0.73867136 0.74055662]\n",
      "[0.76755659 0.73418908 0.72983078 0.70453922 0.70623664]\n",
      "[0.83313111 0.79946967 0.79471229 0.76684924 0.76885339]\n",
      "[0.85095929 0.81798079 0.81322051 0.78516808 0.78722499]\n",
      "[0.93682038 0.90947708 0.90504557 0.87786811 0.88010741]\n",
      "[0.75905913 0.72601422 0.72181712 0.69715633 0.69878498]\n",
      "[0.75905223 0.7260313  0.72175136 0.69695561 0.69860502]\n",
      "[0.82520371 0.79128962 0.78653932 0.7587886  0.76076488]\n",
      "[nan nan nan nan nan]\n",
      "[0.97035934 0.92886395 0.91105574 0.87723453 0.88687688]\n",
      "[nan nan nan nan nan]\n",
      "[0.997349   0.99062883 0.98370431 0.96145889 0.97049354]\n"
     ]
    }
   ],
   "source": [
    "for i in range(13):\n",
    "    print(np.array(S(mat,i)))"
   ]
  },
  {
   "cell_type": "code",
   "execution_count": 16,
   "metadata": {},
   "outputs": [
    {
     "name": "stdout",
     "output_type": "stream",
     "text": [
      "Similarity no. 1 : [4 5 3 2 1]\n",
      "Similarity no. 2 : [4 5 3 2 1]\n",
      "Similarity no. 3 : [4 5 3 2 1]\n",
      "Similarity no. 4 : [4 5 3 2 1]\n",
      "Similarity no. 5 : [4 5 3 2 1]\n",
      "Similarity no. 6 : [4 5 3 2 1]\n",
      "Similarity no. 7 : [4 5 3 2 1]\n",
      "Similarity no. 8 : [4 5 3 2 1]\n",
      "Similarity no. 9 : [4 5 3 2 1]\n",
      "Similarity no. 10 : [1 2 3 4 5]\n",
      "Similarity no. 11 : [4 5 3 2 1]\n",
      "Similarity no. 12 : [1 2 3 4 5]\n",
      "Similarity no. 13 : [4 5 3 2 1]\n"
     ]
    }
   ],
   "source": [
    "for i in range(13):\n",
    "    print(\"Similarity no.\",i+1,\":\",np.array(rank(mat,i)))"
   ]
  },
  {
   "cell_type": "code",
   "execution_count": 17,
   "metadata": {},
   "outputs": [
    {
     "name": "stdout",
     "output_type": "stream",
     "text": [
      "Similarity no. 1 : 1\n",
      "Similarity no. 2 : 1\n",
      "Similarity no. 3 : 1\n",
      "Similarity no. 4 : 1\n",
      "Similarity no. 5 : 1\n",
      "Similarity no. 6 : 1\n",
      "Similarity no. 7 : 1\n",
      "Similarity no. 8 : 1\n",
      "Similarity no. 9 : 1\n",
      "Similarity no. 10 : 5\n",
      "Similarity no. 11 : 1\n",
      "Similarity no. 12 : 5\n",
      "Similarity no. 13 : 1\n"
     ]
    }
   ],
   "source": [
    " for i in range(13):\n",
    "    print(\"Similarity no.\",i+1,\":\",alt(mat,i))"
   ]
  },
  {
   "cell_type": "code",
   "execution_count": 18,
   "metadata": {},
   "outputs": [
    {
     "name": "stderr",
     "output_type": "stream",
     "text": [
      "The PostScript backend does not support transparency; partially transparent artists will be rendered opaque.\n",
      "The PostScript backend does not support transparency; partially transparent artists will be rendered opaque.\n"
     ]
    },
    {
     "data": {
      "image/png": "[encoded data removed]",
      "text/plain": [
       "<Figure size 720x324 with 1 Axes>"
      ]
     },
     "metadata": {
      "needs_background": "light"
     },
     "output_type": "display_data"
    }
   ],
   "source": [
    "import matplotlib.pyplot as plt\n",
    "xaxis = [1,2,3,4,5,6,7,8,9,10,11,12,13]\n",
    "plt.plot(xaxis,[visual[i][0] for i in range(13)],\n",
    "         'go-', color='blue', label='A', marker='o')\n",
    "plt.plot(xaxis,[visual[i][1] for i in range(13)],\n",
    "         'go-', color='green', label='A1', marker='o')\n",
    "plt.plot(xaxis,[visual[i][2] for i in range(13)],\n",
    "         'go-', color='red', label='B', marker='o')\n",
    "plt.plot(xaxis,[visual[i][3] for i in range(13)],\n",
    "         'go-', color='cyan', label='C', marker='o')\n",
    "plt.plot(xaxis,[visual[i][4] for i in range(13)],\n",
    "         'go-', color='magenta', label='D', marker='o')\n",
    "plt.xticks(xaxis,[\"IM1\",\"IM2\",\"IM3\",\"IM4\",\"IM5\",\"IM6\",\"IM7\",\"IM8\",\"IM9\",\"IM10\",\"IM11\",\"IM12\",\"IM13\"])\n",
    "plt.xlabel(\"Information Measures\")\n",
    "plt.ylabel(\"Combination Scores\")\n",
    "plt.title(\"The visualization of combination scores Si and rank of combinations \\n using information measures IMi\")\n",
    "figure = plt.gcf()\n",
    "figure.set_size_inches(10,4.5)\n",
    "plt.legend(loc='upper center', ncol=5)\n",
    "plt.savefig('decision making.eps', format='eps')\n",
    "plt.show()"
   ]
  },
  {
   "cell_type": "code",
   "execution_count": null,
   "metadata": {},
   "outputs": [],
   "source": [
    "# 8.8\t7\t8\tLý\t8.25\tHoá\t8.5\tSinh\t6.25\n",
    "# Khối A: 25.55đ. Khối A1: 25.05đ. Khối B: 23.55đ. Khối D: 23.8đ"
   ]
  }
 ],
 "metadata": {
  "kernelspec": {
   "display_name": "Python 3",
   "language": "python",
   "name": "python3"
  },
  "language_info": {
   "codemirror_mode": {
    "name": "ipython",
    "version": 3
   },
   "file_extension": ".py",
   "mimetype": "text/x-python",
   "name": "python",
   "nbconvert_exporter": "python",
   "pygments_lexer": "ipython3",
   "version": "3.8.8"
  }
 },
 "nbformat": 4,
 "nbformat_minor": 4
}

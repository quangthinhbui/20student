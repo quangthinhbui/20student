{
 "cells": [
  {
   "cell_type": "code",
   "execution_count": 1,
   "metadata": {},
   "outputs": [
    {
     "data": {
      "text/html": [
       "<div>\n",
       "<style scoped>\n",
       "    .dataframe tbody tr th:only-of-type {\n",
       "        vertical-align: middle;\n",
       "    }\n",
       "\n",
       "    .dataframe tbody tr th {\n",
       "        vertical-align: top;\n",
       "    }\n",
       "\n",
       "    .dataframe thead th {\n",
       "        text-align: right;\n",
       "    }\n",
       "</style>\n",
       "<table border=\"1\" class=\"dataframe\">\n",
       "  <thead>\n",
       "    <tr style=\"text-align: right;\">\n",
       "      <th></th>\n",
       "      <th>T10</th>\n",
       "      <th>T10_T</th>\n",
       "      <th>T10_F</th>\n",
       "      <th>T10_I</th>\n",
       "      <th>L10</th>\n",
       "      <th>L10_T</th>\n",
       "      <th>L10_F</th>\n",
       "      <th>L10_I</th>\n",
       "      <th>H10</th>\n",
       "      <th>H10_T</th>\n",
       "      <th>...</th>\n",
       "      <th>SU12_F</th>\n",
       "      <th>SU12_I</th>\n",
       "      <th>D12</th>\n",
       "      <th>D12_T</th>\n",
       "      <th>D12_F</th>\n",
       "      <th>D12_I</th>\n",
       "      <th>AV12</th>\n",
       "      <th>AV12_T</th>\n",
       "      <th>AV12_F</th>\n",
       "      <th>AV12_I</th>\n",
       "    </tr>\n",
       "  </thead>\n",
       "  <tbody>\n",
       "    <tr>\n",
       "      <th>0</th>\n",
       "      <td>9.3</td>\n",
       "      <td>10</td>\n",
       "      <td>0</td>\n",
       "      <td>0</td>\n",
       "      <td>7.7</td>\n",
       "      <td>8</td>\n",
       "      <td>2</td>\n",
       "      <td>2</td>\n",
       "      <td>8.6</td>\n",
       "      <td>8</td>\n",
       "      <td>...</td>\n",
       "      <td>0</td>\n",
       "      <td>0</td>\n",
       "      <td>8.9</td>\n",
       "      <td>10</td>\n",
       "      <td>0</td>\n",
       "      <td>0</td>\n",
       "      <td>7.8</td>\n",
       "      <td>10</td>\n",
       "      <td>0</td>\n",
       "      <td>0</td>\n",
       "    </tr>\n",
       "    <tr>\n",
       "      <th>1</th>\n",
       "      <td>9.1</td>\n",
       "      <td>9</td>\n",
       "      <td>1</td>\n",
       "      <td>1</td>\n",
       "      <td>7.1</td>\n",
       "      <td>9</td>\n",
       "      <td>2</td>\n",
       "      <td>5</td>\n",
       "      <td>8.0</td>\n",
       "      <td>7</td>\n",
       "      <td>...</td>\n",
       "      <td>5</td>\n",
       "      <td>4</td>\n",
       "      <td>8.8</td>\n",
       "      <td>7</td>\n",
       "      <td>1</td>\n",
       "      <td>1</td>\n",
       "      <td>7.6</td>\n",
       "      <td>7</td>\n",
       "      <td>6</td>\n",
       "      <td>4</td>\n",
       "    </tr>\n",
       "    <tr>\n",
       "      <th>2</th>\n",
       "      <td>9.4</td>\n",
       "      <td>8</td>\n",
       "      <td>2</td>\n",
       "      <td>2</td>\n",
       "      <td>7.6</td>\n",
       "      <td>10</td>\n",
       "      <td>0</td>\n",
       "      <td>0</td>\n",
       "      <td>9.0</td>\n",
       "      <td>10</td>\n",
       "      <td>...</td>\n",
       "      <td>0</td>\n",
       "      <td>0</td>\n",
       "      <td>9.0</td>\n",
       "      <td>10</td>\n",
       "      <td>0</td>\n",
       "      <td>0</td>\n",
       "      <td>9.0</td>\n",
       "      <td>10</td>\n",
       "      <td>0</td>\n",
       "      <td>0</td>\n",
       "    </tr>\n",
       "    <tr>\n",
       "      <th>3</th>\n",
       "      <td>9.3</td>\n",
       "      <td>9</td>\n",
       "      <td>0</td>\n",
       "      <td>9</td>\n",
       "      <td>7.1</td>\n",
       "      <td>9</td>\n",
       "      <td>8</td>\n",
       "      <td>8</td>\n",
       "      <td>8.7</td>\n",
       "      <td>9</td>\n",
       "      <td>...</td>\n",
       "      <td>8</td>\n",
       "      <td>6</td>\n",
       "      <td>8.2</td>\n",
       "      <td>9</td>\n",
       "      <td>7</td>\n",
       "      <td>6</td>\n",
       "      <td>8.3</td>\n",
       "      <td>8</td>\n",
       "      <td>8</td>\n",
       "      <td>9</td>\n",
       "    </tr>\n",
       "    <tr>\n",
       "      <th>4</th>\n",
       "      <td>9.3</td>\n",
       "      <td>8</td>\n",
       "      <td>2</td>\n",
       "      <td>3</td>\n",
       "      <td>9.6</td>\n",
       "      <td>6</td>\n",
       "      <td>4</td>\n",
       "      <td>6</td>\n",
       "      <td>8.6</td>\n",
       "      <td>7</td>\n",
       "      <td>...</td>\n",
       "      <td>7</td>\n",
       "      <td>4</td>\n",
       "      <td>9.6</td>\n",
       "      <td>6</td>\n",
       "      <td>4</td>\n",
       "      <td>5</td>\n",
       "      <td>9.4</td>\n",
       "      <td>6</td>\n",
       "      <td>4</td>\n",
       "      <td>5</td>\n",
       "    </tr>\n",
       "  </tbody>\n",
       "</table>\n",
       "<p>5 rows × 96 columns</p>\n",
       "</div>"
      ],
      "text/plain": [
       "   T10  T10_T  T10_F  T10_I  L10  L10_T  L10_F  L10_I  H10  H10_T  ...  \\\n",
       "0  9.3     10      0      0  7.7      8      2      2  8.6      8  ...   \n",
       "1  9.1      9      1      1  7.1      9      2      5  8.0      7  ...   \n",
       "2  9.4      8      2      2  7.6     10      0      0  9.0     10  ...   \n",
       "3  9.3      9      0      9  7.1      9      8      8  8.7      9  ...   \n",
       "4  9.3      8      2      3  9.6      6      4      6  8.6      7  ...   \n",
       "\n",
       "   SU12_F  SU12_I  D12  D12_T  D12_F  D12_I  AV12  AV12_T  AV12_F  AV12_I  \n",
       "0       0       0  8.9     10      0      0   7.8      10       0       0  \n",
       "1       5       4  8.8      7      1      1   7.6       7       6       4  \n",
       "2       0       0  9.0     10      0      0   9.0      10       0       0  \n",
       "3       8       6  8.2      9      7      6   8.3       8       8       9  \n",
       "4       7       4  9.6      6      4      5   9.4       6       4       5  \n",
       "\n",
       "[5 rows x 96 columns]"
      ]
     },
     "execution_count": 1,
     "metadata": {},
     "output_type": "execute_result"
    }
   ],
   "source": [
    "import pandas as pd\n",
    "import numpy as np\n",
    "\n",
    "data = pd.read_csv(\"BGT.csv\") \n",
    "data.head(5)\n",
    "#print(data)"
   ]
  },
  {
   "cell_type": "code",
   "execution_count": 2,
   "metadata": {},
   "outputs": [
    {
     "name": "stdout",
     "output_type": "stream",
     "text": [
      "[ 9.2  8.   2.   6.   7.9  9.   1.   3.   8.3  3.   8.   8.   9.1  4.\n",
      "  6.   8.   9.1  7.   3.   2.   9.   7.   3.   3.   9.   8.   2.   2.\n",
      "  9.5 10.   1.   0.   9.1  7.   3.   4.   9.1  6.   4.   7.   9.2  9.\n",
      "  1.   3.   8.8  9.   1.   1.   9.   7.   3.   2.   9.   8.   2.   2.\n",
      "  9.3  8.   3.   5.   9.4  9.   0.   0.   9.4  8.   3.   2.   8.4  9.\n",
      "  1.   1.   8.6  6.   6.   7.   9.1  7.   4.   6.   8.8  7.   4.   5.\n",
      "  8.7  5.   6.   7.   9.2  8.   2.   2.   9.5 10.   0.   0. ]\n"
     ]
    }
   ],
   "source": [
    "duc = np.array(data[31:32])[0]\n",
    "print(duc)"
   ]
  },
  {
   "cell_type": "code",
   "execution_count": 3,
   "metadata": {},
   "outputs": [
    {
     "name": "stdout",
     "output_type": "stream",
     "text": [
      "[9.2 8.  2.  6. ]\n",
      "[7.9 9.  1.  3. ]\n",
      "[8.3 3.  8.  8. ]\n",
      "[8.46666667 6.66666667 3.66666667 5.66666667]\n",
      "[9.1 7.  3.  4. ]\n",
      "[9.1 6.  4.  7. ]\n",
      "[9.2 9.  1.  3. ]\n",
      "[9.13333333 7.33333333 2.66666667 4.66666667]\n",
      "[9.4 8.  3.  2. ]\n",
      "[8.4 9.  1.  1. ]\n",
      "[8.6 6.  6.  7. ]\n",
      "[8.8        7.66666667 3.33333333 3.33333333]\n"
     ]
    }
   ],
   "source": [
    "T10 = duc[0:4]\n",
    "print(T10)\n",
    "L10 = duc[4:8]\n",
    "print(L10)\n",
    "H10 = duc[8:12]\n",
    "print(H10)\n",
    "A10 = np.mean(np.array([T10,L10,H10]),axis=0)\n",
    "print(A10)\n",
    "\n",
    "T11 = duc[32:36]\n",
    "print(T11)\n",
    "L11 = duc[36:40]\n",
    "print(L11)\n",
    "H11 = duc[40:44]\n",
    "print(H11)\n",
    "A11 = np.mean(np.array([T11,L11,H11]),axis=0)\n",
    "print(A11)\n",
    "\n",
    "T12 = duc[64:68]\n",
    "print(T12)\n",
    "L12 = duc[68:72]\n",
    "print(L12)\n",
    "H12 = duc[72:76]\n",
    "print(H12)\n",
    "A12 = np.mean(np.array([T12,L12,H12]),axis=0)\n",
    "print(A12)\n",
    "\n",
    "A = [A10,A11,A12]"
   ]
  },
  {
   "cell_type": "code",
   "execution_count": 4,
   "metadata": {},
   "outputs": [
    {
     "name": "stdout",
     "output_type": "stream",
     "text": [
      "[9.2 8.  2.  6. ]\n",
      "[7.9 9.  1.  3. ]\n",
      "[ 9.5 10.   1.   0. ]\n",
      "[8.86666667 9.         1.33333333 3.        ]\n",
      "[9.1 7.  3.  4. ]\n",
      "[9.1 6.  4.  7. ]\n",
      "[9.4 9.  0.  0. ]\n",
      "[9.2        7.33333333 2.33333333 3.66666667]\n",
      "[9.4 8.  3.  2. ]\n",
      "[8.4 9.  1.  1. ]\n",
      "[ 9.5 10.   0.   0. ]\n",
      "[9.1        9.         1.33333333 1.        ]\n"
     ]
    }
   ],
   "source": [
    "T10 = duc[0:4]\n",
    "print(T10)\n",
    "L10 = duc[4:8]\n",
    "print(L10)\n",
    "A10 = duc[28:32]\n",
    "print(A10)\n",
    "A110 = np.mean(np.array([T10,L10,A10]),axis=0)\n",
    "print(A110)\n",
    "\n",
    "T11 = duc[32:36]\n",
    "print(T11)\n",
    "L11 = duc[36:40]\n",
    "print(L11)\n",
    "A11 = duc[60:64]\n",
    "print(A11)\n",
    "A111 = np.mean(np.array([T11,L11,A11]),axis=0)\n",
    "print(A111)\n",
    "\n",
    "T12 = duc[64:68]\n",
    "print(T12)\n",
    "L12 = duc[68:72]\n",
    "print(L12)\n",
    "A12 = duc[92:96]\n",
    "print(A12)\n",
    "A112 = np.mean(np.array([T12,L12,A12]),axis=0)\n",
    "print(A112)\n",
    "\n",
    "A1 = [A110,A111,A112]"
   ]
  },
  {
   "cell_type": "code",
   "execution_count": 5,
   "metadata": {},
   "outputs": [
    {
     "name": "stdout",
     "output_type": "stream",
     "text": [
      "[9.2 8.  2.  6. ]\n",
      "[8.3 3.  8.  8. ]\n",
      "[9.1 4.  6.  8. ]\n",
      "[ 9.5 10.   1.   0. ]\n",
      "[9.1 7.  3.  4. ]\n",
      "[9.2 9.  1.  3. ]\n",
      "[8.8 9.  1.  1. ]\n",
      "[9.03333333 8.33333333 1.66666667 2.66666667]\n",
      "[9.4 8.  3.  2. ]\n",
      "[8.6 6.  6.  7. ]\n",
      "[9.1 7.  4.  6. ]\n",
      "[9.03333333 7.         4.33333333 5.        ]\n"
     ]
    }
   ],
   "source": [
    "T10 = duc[0:4]\n",
    "print(T10)\n",
    "H10 = duc[8:12]\n",
    "print(H10)\n",
    "SI10 = duc[12:16]\n",
    "print(SI10)\n",
    "B10 = np.mean(np.array([T10,H10,SI10]),axis=0)\n",
    "print(A10)\n",
    "\n",
    "T11 = duc[32:36]\n",
    "print(T11)\n",
    "H11 = duc[40:44]\n",
    "print(H11)\n",
    "SI11 = duc[44:48]\n",
    "print(SI11)\n",
    "B11 = np.mean(np.array([T11,H11,SI11]),axis=0)\n",
    "print(B11)\n",
    "\n",
    "T12 = duc[64:68]\n",
    "print(T12)\n",
    "H12 = duc[72:76]\n",
    "print(H12)\n",
    "SI12 = duc[76:80]\n",
    "print(SI12)\n",
    "B12 = np.mean(np.array([T12,H12,SI12]),axis=0)\n",
    "print(B12)\n",
    "\n",
    "B = [B10,B11,B12]"
   ]
  },
  {
   "cell_type": "code",
   "execution_count": 6,
   "metadata": {},
   "outputs": [
    {
     "name": "stdout",
     "output_type": "stream",
     "text": [
      "[9.1 7.  3.  2. ]\n",
      "[9. 7. 3. 3.]\n",
      "[9. 8. 2. 2.]\n",
      "[ 9.5 10.   1.   0. ]\n",
      "[9. 7. 3. 2.]\n",
      "[9. 8. 2. 2.]\n",
      "[9.3 8.  3.  5. ]\n",
      "[9.03333333 8.33333333 1.66666667 2.66666667]\n",
      "[8.8 7.  4.  5. ]\n",
      "[8.7 5.  6.  7. ]\n",
      "[9.2 8.  2.  2. ]\n",
      "[9.03333333 7.         4.33333333 5.        ]\n"
     ]
    }
   ],
   "source": [
    "V10 = duc[16:20]\n",
    "print(V10)\n",
    "SU10 = duc[20:24]\n",
    "print(SU10)\n",
    "D10 = duc[24:28]\n",
    "print(D10)\n",
    "C10 = np.mean(np.array([V10,SU10,D10]),axis=0)\n",
    "print(A10)\n",
    "\n",
    "V11 = duc[48:52]\n",
    "print(V11)\n",
    "SU11 = duc[52:56]\n",
    "print(SU11)\n",
    "D11 = duc[56:60]\n",
    "print(D11)\n",
    "C11 = np.mean(np.array([V11,SU11,D11]),axis=0)\n",
    "print(B11)\n",
    "\n",
    "V12 = duc[80:84]\n",
    "print(V12)\n",
    "SU12 = duc[84:88]\n",
    "print(SU12)\n",
    "D12 = duc[88:92]\n",
    "print(D12)\n",
    "C12 = np.mean(np.array([V12,SU12,D12]),axis=0)\n",
    "print(B12)\n",
    "\n",
    "C = [C10,C11,C12]"
   ]
  },
  {
   "cell_type": "code",
   "execution_count": 7,
   "metadata": {},
   "outputs": [
    {
     "name": "stdout",
     "output_type": "stream",
     "text": [
      "[9.2 8.  2.  6. ]\n",
      "[9.1 7.  3.  2. ]\n",
      "[ 9.5 10.   1.   0. ]\n",
      "[9.26666667 8.33333333 2.         2.66666667]\n",
      "[9.1 7.  3.  4. ]\n",
      "[9. 7. 3. 2.]\n",
      "[9.4 9.  0.  0. ]\n",
      "[9.16666667 7.66666667 2.         2.        ]\n",
      "[9.4 8.  3.  2. ]\n",
      "[8.8 7.  4.  5. ]\n",
      "[ 9.5 10.   0.   0. ]\n",
      "[9.23333333 8.33333333 2.33333333 2.33333333]\n"
     ]
    }
   ],
   "source": [
    "T10 = duc[0:4]\n",
    "print(T10)\n",
    "V10 = duc[16:20]\n",
    "print(V10)\n",
    "A10 = duc[28:32]\n",
    "print(A10)\n",
    "DD10 = np.mean(np.array([T10,V10,A10]),axis=0)\n",
    "print(DD10)\n",
    "\n",
    "T11 = duc[32:36]\n",
    "print(T11)\n",
    "V11 = duc[48:52]\n",
    "print(V11)\n",
    "A11 = duc[60:64]\n",
    "print(A11)\n",
    "DD11 = np.mean(np.array([T11,V11,A11]),axis=0)\n",
    "print(DD11)\n",
    "\n",
    "T12 = duc[64:68]\n",
    "print(T12)\n",
    "V12 = duc[80:84]\n",
    "print(V12)\n",
    "A12 = duc[92:96]\n",
    "print(A12)\n",
    "DD12 = np.mean(np.array([T12,V12,A12]),axis=0)\n",
    "print(DD12)\n",
    "\n",
    "D = [DD10,DD11,DD12]"
   ]
  },
  {
   "cell_type": "code",
   "execution_count": 8,
   "metadata": {},
   "outputs": [
    {
     "name": "stdout",
     "output_type": "stream",
     "text": [
      "[[[0.84666667 0.22222222 0.18888889 0.12222222]\n",
      "  [0.91333333 0.24444444 0.15555556 0.08888889]\n",
      "  [0.88       0.25555556 0.11111111 0.11111111]]\n",
      "\n",
      " [[0.88666667 0.3        0.1        0.04444444]\n",
      "  [0.92       0.24444444 0.12222222 0.07777778]\n",
      "  [0.91       0.3        0.03333333 0.04444444]]\n",
      "\n",
      " [[0.88666667 0.16666667 0.24444444 0.17777778]\n",
      "  [0.90333333 0.27777778 0.08888889 0.05555556]\n",
      "  [0.90333333 0.23333333 0.16666667 0.14444444]]\n",
      "\n",
      " [[0.90333333 0.24444444 0.07777778 0.08888889]\n",
      "  [0.91       0.25555556 0.1        0.08888889]\n",
      "  [0.89       0.22222222 0.15555556 0.13333333]]\n",
      "\n",
      " [[0.92666667 0.27777778 0.08888889 0.06666667]\n",
      "  [0.91666667 0.25555556 0.06666667 0.06666667]\n",
      "  [0.92333333 0.27777778 0.07777778 0.07777778]]]\n"
     ]
    }
   ],
   "source": [
    "from dm import *\n",
    "from im import *\n",
    "\n",
    "def change(A):\n",
    "    Aok = []\n",
    "    for i in range(3):\n",
    "        temp = []\n",
    "        for j in range(4):\n",
    "            if j == 0:\n",
    "                temp.append(A[i][j]/10)\n",
    "            if j == 1:\n",
    "                temp.append(A[i][j]/30)\n",
    "            if j == 2:\n",
    "                temp.append(A[i][j+1]/30)\n",
    "            if j == 3:\n",
    "                temp.append(A[i][j-1]/30)\n",
    "        Aok.append(temp)\n",
    "    return(Aok)\n",
    "\n",
    "matrix = np.array([change(A),change(A1),change(B),change(C),change(D)])\n",
    "print(matrix)\n",
    "\n",
    "def rtc(A):\n",
    "    rtc = []\n",
    "    for i in range(3):\n",
    "        temp = []\n",
    "        for j in range(5):\n",
    "            temp.append(A[j][i])\n",
    "        rtc.append(temp)\n",
    "    return np.array(rtc)\n",
    "matric = rtc(matrix)"
   ]
  },
  {
   "cell_type": "code",
   "execution_count": 9,
   "metadata": {},
   "outputs": [
    {
     "name": "stdout",
     "output_type": "stream",
     "text": [
      "[[[0.84666667 0.22222222 0.18888889 0.12222222]\n",
      "  [0.88666667 0.3        0.1        0.04444444]\n",
      "  [0.88666667 0.16666667 0.24444444 0.17777778]\n",
      "  [0.90333333 0.24444444 0.07777778 0.08888889]\n",
      "  [0.92666667 0.27777778 0.08888889 0.06666667]]\n",
      "\n",
      " [[0.91333333 0.24444444 0.15555556 0.08888889]\n",
      "  [0.92       0.24444444 0.12222222 0.07777778]\n",
      "  [0.90333333 0.27777778 0.08888889 0.05555556]\n",
      "  [0.91       0.25555556 0.1        0.08888889]\n",
      "  [0.91666667 0.25555556 0.06666667 0.06666667]]\n",
      "\n",
      " [[0.88       0.25555556 0.11111111 0.11111111]\n",
      "  [0.91       0.3        0.03333333 0.04444444]\n",
      "  [0.90333333 0.23333333 0.16666667 0.14444444]\n",
      "  [0.89       0.22222222 0.15555556 0.13333333]\n",
      "  [0.92333333 0.27777778 0.07777778 0.07777778]]]\n"
     ]
    }
   ],
   "source": [
    "cost = []\n",
    "mat = rnf(matric,cost)\n",
    "print(np.array(mat))"
   ]
  },
  {
   "cell_type": "code",
   "execution_count": 10,
   "metadata": {},
   "outputs": [
    {
     "name": "stdout",
     "output_type": "stream",
     "text": [
      "[0.47150289 0.4230315  0.45332566]\n",
      "[0.29611111 0.26255556 0.28377778]\n",
      "[0.37340685 0.33622301 0.35990028]\n",
      "[0.23162651 0.20309845 0.2210373 ]\n",
      "[0.20128077 0.17484114 0.19140066]\n",
      "[0.10825032 0.08415612 0.09896935]\n",
      "[0.44751242 0.40069388 0.4305528 ]\n",
      "[0.38203628 0.34583438 0.36891641]\n",
      "[0.23713834 0.20922087 0.22680609]\n",
      "[0.18328466 0.16050864 0.17509966]\n",
      "[0.17453243 0.15122012 0.16579133]\n",
      "[0.04559472 0.03770102 0.04303193]\n",
      "[0.03788911 0.03006526 0.03493518]\n"
     ]
    }
   ],
   "source": [
    "for i in range(13):\n",
    "    print(np.array(ej(mat,i)))"
   ]
  },
  {
   "cell_type": "code",
   "execution_count": 11,
   "metadata": {},
   "outputs": [
    {
     "name": "stdout",
     "output_type": "stream",
     "text": [
      "[0.0061011  0.00083402 0.00317868]\n",
      "[0.06272222 0.02088889 0.04533333]\n",
      "[0.04612704 0.01515741 0.03315893]\n",
      "[0.08724009 0.02978844 0.06367879]\n",
      "[0.09556749 0.03266102 0.06978926]\n",
      "[0.0982645  0.03280388 0.07111052]\n",
      "[0.00585719 0.0006052  0.00306496]\n",
      "[0.04932695 0.01640817 0.03562949]\n",
      "[0.09313475 0.03222306 0.0683278 ]\n",
      "[0.28867885 0.14828373 0.26395614]\n",
      "[0.16387949 0.0598036  0.12306057]\n",
      "[0.44441923 0.25153905 0.39850752]\n",
      "[0.13947211 0.03697293 0.08757838]\n"
     ]
    }
   ],
   "source": [
    "for i in range(13):\n",
    "    print(np.array(cj(mat,i)))"
   ]
  },
  {
   "cell_type": "code",
   "execution_count": 12,
   "metadata": {},
   "outputs": [
    {
     "name": "stdout",
     "output_type": "stream",
     "text": [
      "[0.67510064 0.71893142 0.66995843 0.69128796 0.71967145]\n",
      "[0.71529478 0.76160066 0.70759481 0.73177166 0.76111553]\n",
      "[0.68309224 0.72588026 0.67658919 0.69806532 0.72541804]\n",
      "[0.74224693 0.79071187 0.73366002 0.75975537 0.79015653]\n",
      "[0.76004729 0.80925666 0.75096918 0.77800054 0.80871019]\n",
      "[0.85164767 0.90120835 0.84019973 0.87061669 0.90104766]\n",
      "[0.6762845  0.71754359 0.67031163 0.69059368 0.71737716]\n",
      "[0.67602195 0.71790791 0.66977471 0.69064132 0.71740438]\n",
      "[0.73443625 0.78259003 0.72607934 0.75177048 0.78197511]\n",
      "[0.81149824 0.89531557 0.79008439 0.84121982 0.88922366]\n",
      "[0.85581141 0.92668557 0.83695699 0.88285686 0.92274843]\n",
      "[0.95834161 0.9871667  0.94263663 0.97234119 0.98802623]\n",
      "[0.96960187 0.99090751 0.95840624 0.98042658 0.99176614]\n"
     ]
    }
   ],
   "source": [
    "visual = []\n",
    "for i in range(13):\n",
    "    print(np.array(S(mat,i)))\n",
    "    visual.append(S(mat,i))"
   ]
  },
  {
   "cell_type": "code",
   "execution_count": 13,
   "metadata": {},
   "outputs": [
    {
     "name": "stdout",
     "output_type": "stream",
     "text": [
      "[0.83943915 0.86163886 0.83144527 0.8436677  0.85899242]\n",
      "[0.71529478 0.76160066 0.70759481 0.73177166 0.76111553]\n",
      "[0.77847379 0.81675004 0.77182879 0.79218318 0.81648225]\n",
      "[0.6385531  0.69177415 0.63023734 0.65731119 0.69097057]\n",
      "[0.60802701 0.66478383 0.59931115 0.62798263 0.66385628]\n",
      "[0.56746195 0.63453878 0.55684651 0.59115375 0.63352561]\n",
      "[0.90162364 0.93016016 0.89543149 0.91221651 0.93039842]\n",
      "[0.77261667 0.81045294 0.76618226 0.78612662 0.81014202]\n",
      "[0.62944457 0.6817538  0.62142316 0.64782504 0.68089549]\n",
      "[0.27982368 0.2969382  0.28037859 0.28528242 0.29832532]\n",
      "[0.4957351  0.55542462 0.4908475  0.51592465 0.55529015]\n",
      "[0.20759794 0.22491683 0.21437182 0.21736284 0.23112525]\n",
      "[0.40843732 0.44719992 0.41858748 0.42978513 0.45951639]\n"
     ]
    }
   ],
   "source": [
    "for i in range(13):\n",
    "    print(np.array(Spos(mat,i)))"
   ]
  },
  {
   "cell_type": "code",
   "execution_count": 14,
   "metadata": {},
   "outputs": [
    {
     "name": "stdout",
     "output_type": "stream",
     "text": [
      "[0.40398901 0.33686052 0.40959482 0.37676105 0.33459727]\n",
      "[0.28470522 0.23839934 0.29240519 0.26822834 0.23888447]\n",
      "[0.36115823 0.3084356  0.36893551 0.34264355 0.30905117]\n",
      "[0.2217443  0.18310098 0.22879453 0.20785044 0.18350245]\n",
      "[0.19195875 0.15669081 0.19873911 0.17919243 0.15702651]\n",
      "[0.09884874 0.06955898 0.10590842 0.08785201 0.06957328]\n",
      "[0.43157804 0.36615155 0.44041209 0.40869988 0.36654616]\n",
      "[0.37027029 0.3184564  0.37775801 0.35212937 0.31912628]\n",
      "[0.22759996 0.18939684 0.23443807 0.21390744 0.18984257]\n",
      "[0.06499984 0.03471938 0.07449311 0.05384704 0.03716431]\n",
      "[0.08352231 0.04394224 0.09561932 0.06845621 0.04648833]\n",
      "[0.00902413 0.00292395 0.01304542 0.00618301 0.00280098]\n",
      "[0.01280498 0.00410347 0.01816623 0.00858031 0.00381501]\n"
     ]
    }
   ],
   "source": [
    "for i in range(13):\n",
    "    print(np.array(Sneg(mat,i)))"
   ]
  },
  {
   "cell_type": "code",
   "execution_count": 15,
   "metadata": {},
   "outputs": [
    {
     "name": "stdout",
     "output_type": "stream",
     "text": [
      "[0.67510064 0.71893142 0.66995843 0.69128796 0.71967145]\n",
      "[0.71529478 0.76160066 0.70759481 0.73177166 0.76111553]\n",
      "[0.68309224 0.72588026 0.67658919 0.69806532 0.72541804]\n",
      "[0.74224693 0.79071187 0.73366002 0.75975537 0.79015653]\n",
      "[0.76004729 0.80925666 0.75096918 0.77800054 0.80871019]\n",
      "[0.85164767 0.90120835 0.84019973 0.87061669 0.90104766]\n",
      "[0.6762845  0.71754359 0.67031163 0.69059368 0.71737716]\n",
      "[0.67602195 0.71790791 0.66977471 0.69064132 0.71740438]\n",
      "[0.73443625 0.78259003 0.72607934 0.75177048 0.78197511]\n",
      "[0.81149824 0.89531557 0.79008439 0.84121982 0.88922366]\n",
      "[0.85581141 0.92668557 0.83695699 0.88285686 0.92274843]\n",
      "[0.95834161 0.9871667  0.94263663 0.97234119 0.98802623]\n",
      "[0.96960187 0.99090751 0.95840624 0.98042658 0.99176614]\n"
     ]
    }
   ],
   "source": [
    "for i in range(13):\n",
    "    print(np.array(S(mat,i)))"
   ]
  },
  {
   "cell_type": "code",
   "execution_count": 16,
   "metadata": {},
   "outputs": [
    {
     "name": "stdout",
     "output_type": "stream",
     "text": [
      "Similarity no. 1 : [3 1 4 2 5]\n",
      "Similarity no. 2 : [3 1 4 5 2]\n",
      "Similarity no. 3 : [3 1 4 5 2]\n",
      "Similarity no. 4 : [3 1 4 5 2]\n",
      "Similarity no. 5 : [3 1 4 5 2]\n",
      "Similarity no. 6 : [3 1 4 5 2]\n",
      "Similarity no. 7 : [3 1 4 5 2]\n",
      "Similarity no. 8 : [3 1 4 5 2]\n",
      "Similarity no. 9 : [3 1 4 5 2]\n",
      "Similarity no. 10 : [3 1 4 5 2]\n",
      "Similarity no. 11 : [3 1 4 5 2]\n",
      "Similarity no. 12 : [3 1 4 2 5]\n",
      "Similarity no. 13 : [3 1 4 2 5]\n"
     ]
    }
   ],
   "source": [
    "for i in range(13):\n",
    "    print(\"Similarity no.\",i+1,\":\",np.array(rank(mat,i)))"
   ]
  },
  {
   "cell_type": "code",
   "execution_count": 17,
   "metadata": {},
   "outputs": [
    {
     "name": "stdout",
     "output_type": "stream",
     "text": [
      "Similarity no. 1 : 5\n",
      "Similarity no. 2 : 2\n",
      "Similarity no. 3 : 2\n",
      "Similarity no. 4 : 2\n",
      "Similarity no. 5 : 2\n",
      "Similarity no. 6 : 2\n",
      "Similarity no. 7 : 2\n",
      "Similarity no. 8 : 2\n",
      "Similarity no. 9 : 2\n",
      "Similarity no. 10 : 2\n",
      "Similarity no. 11 : 2\n",
      "Similarity no. 12 : 5\n",
      "Similarity no. 13 : 5\n"
     ]
    }
   ],
   "source": [
    " for i in range(13):\n",
    "    print(\"Similarity no.\",i+1,\":\",alt(mat,i))"
   ]
  },
  {
   "cell_type": "code",
   "execution_count": 18,
   "metadata": {},
   "outputs": [
    {
     "name": "stderr",
     "output_type": "stream",
     "text": [
      "The PostScript backend does not support transparency; partially transparent artists will be rendered opaque.\n",
      "The PostScript backend does not support transparency; partially transparent artists will be rendered opaque.\n"
     ]
    },
    {
     "data": {
      "image/png": "[encoded data removed]",
      "text/plain": [
       "<Figure size 720x324 with 1 Axes>"
      ]
     },
     "metadata": {
      "needs_background": "light"
     },
     "output_type": "display_data"
    }
   ],
   "source": [
    "import matplotlib.pyplot as plt\n",
    "xaxis = [1,2,3,4,5,6,7,8,9,10,11,12,13]\n",
    "plt.plot(xaxis,[visual[i][0] for i in range(13)],\n",
    "         'go-', color='blue', label='A', marker='o')\n",
    "plt.plot(xaxis,[visual[i][1] for i in range(13)],\n",
    "         'go-', color='green', label='A1', marker='o')\n",
    "plt.plot(xaxis,[visual[i][2] for i in range(13)],\n",
    "         'go-', color='red', label='B', marker='o')\n",
    "plt.plot(xaxis,[visual[i][3] for i in range(13)],\n",
    "         'go-', color='cyan', label='C', marker='o')\n",
    "plt.plot(xaxis,[visual[i][4] for i in range(13)],\n",
    "         'go-', color='magenta', label='D', marker='o')\n",
    "plt.xticks(xaxis,[\"IM1\",\"IM2\",\"IM3\",\"IM4\",\"IM5\",\"IM6\",\"IM7\",\"IM8\",\"IM9\",\"IM10\",\"IM11\",\"IM12\",\"IM13\"])\n",
    "plt.xlabel(\"Information Measures\")\n",
    "plt.ylabel(\"Combination Scores\")\n",
    "plt.title(\"The visualization of combination scores Si and rank of combinations \\n using information measures IMi\")\n",
    "figure = plt.gcf()\n",
    "figure.set_size_inches(10,4.5)\n",
    "plt.legend(loc='upper center', ncol=5)\n",
    "plt.savefig('decision making.eps', format='eps')\n",
    "plt.show()"
   ]
  },
  {
   "cell_type": "code",
   "execution_count": null,
   "metadata": {},
   "outputs": [],
   "source": [
    "# 8\t8.5\t10\tsử\t7.5\tđịa\t7.25\tgdcd\t9.25\n",
    "# Khối C: 23.25đ. Khối D: 26.5đ"
   ]
  }
 ],
 "metadata": {
  "kernelspec": {
   "display_name": "Python 3",
   "language": "python",
   "name": "python3"
  },
  "language_info": {
   "codemirror_mode": {
    "name": "ipython",
    "version": 3
   },
   "file_extension": ".py",
   "mimetype": "text/x-python",
   "name": "python",
   "nbconvert_exporter": "python",
   "pygments_lexer": "ipython3",
   "version": "3.8.8"
  }
 },
 "nbformat": 4,
 "nbformat_minor": 4
}

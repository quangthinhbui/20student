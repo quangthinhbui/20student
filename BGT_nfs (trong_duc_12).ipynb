{
 "cells": [
  {
   "cell_type": "code",
   "execution_count": 1,
   "metadata": {},
   "outputs": [
    {
     "data": {
      "text/html": [
       "<div>\n",
       "<style scoped>\n",
       "    .dataframe tbody tr th:only-of-type {\n",
       "        vertical-align: middle;\n",
       "    }\n",
       "\n",
       "    .dataframe tbody tr th {\n",
       "        vertical-align: top;\n",
       "    }\n",
       "\n",
       "    .dataframe thead th {\n",
       "        text-align: right;\n",
       "    }\n",
       "</style>\n",
       "<table border=\"1\" class=\"dataframe\">\n",
       "  <thead>\n",
       "    <tr style=\"text-align: right;\">\n",
       "      <th></th>\n",
       "      <th>T10</th>\n",
       "      <th>T10_T</th>\n",
       "      <th>T10_F</th>\n",
       "      <th>T10_I</th>\n",
       "      <th>L10</th>\n",
       "      <th>L10_T</th>\n",
       "      <th>L10_F</th>\n",
       "      <th>L10_I</th>\n",
       "      <th>H10</th>\n",
       "      <th>H10_T</th>\n",
       "      <th>...</th>\n",
       "      <th>SU12_F</th>\n",
       "      <th>SU12_I</th>\n",
       "      <th>D12</th>\n",
       "      <th>D12_T</th>\n",
       "      <th>D12_F</th>\n",
       "      <th>D12_I</th>\n",
       "      <th>AV12</th>\n",
       "      <th>AV12_T</th>\n",
       "      <th>AV12_F</th>\n",
       "      <th>AV12_I</th>\n",
       "    </tr>\n",
       "  </thead>\n",
       "  <tbody>\n",
       "    <tr>\n",
       "      <th>0</th>\n",
       "      <td>9.3</td>\n",
       "      <td>10</td>\n",
       "      <td>0</td>\n",
       "      <td>0</td>\n",
       "      <td>7.7</td>\n",
       "      <td>8</td>\n",
       "      <td>2</td>\n",
       "      <td>2</td>\n",
       "      <td>8.6</td>\n",
       "      <td>8</td>\n",
       "      <td>...</td>\n",
       "      <td>0</td>\n",
       "      <td>0</td>\n",
       "      <td>8.9</td>\n",
       "      <td>10</td>\n",
       "      <td>0</td>\n",
       "      <td>0</td>\n",
       "      <td>7.8</td>\n",
       "      <td>10</td>\n",
       "      <td>0</td>\n",
       "      <td>0</td>\n",
       "    </tr>\n",
       "    <tr>\n",
       "      <th>1</th>\n",
       "      <td>9.1</td>\n",
       "      <td>9</td>\n",
       "      <td>1</td>\n",
       "      <td>1</td>\n",
       "      <td>7.1</td>\n",
       "      <td>9</td>\n",
       "      <td>2</td>\n",
       "      <td>5</td>\n",
       "      <td>8.0</td>\n",
       "      <td>7</td>\n",
       "      <td>...</td>\n",
       "      <td>5</td>\n",
       "      <td>4</td>\n",
       "      <td>8.8</td>\n",
       "      <td>7</td>\n",
       "      <td>1</td>\n",
       "      <td>1</td>\n",
       "      <td>7.6</td>\n",
       "      <td>7</td>\n",
       "      <td>6</td>\n",
       "      <td>4</td>\n",
       "    </tr>\n",
       "    <tr>\n",
       "      <th>2</th>\n",
       "      <td>9.4</td>\n",
       "      <td>8</td>\n",
       "      <td>2</td>\n",
       "      <td>2</td>\n",
       "      <td>7.6</td>\n",
       "      <td>10</td>\n",
       "      <td>0</td>\n",
       "      <td>0</td>\n",
       "      <td>9.0</td>\n",
       "      <td>10</td>\n",
       "      <td>...</td>\n",
       "      <td>0</td>\n",
       "      <td>0</td>\n",
       "      <td>9.0</td>\n",
       "      <td>10</td>\n",
       "      <td>0</td>\n",
       "      <td>0</td>\n",
       "      <td>9.0</td>\n",
       "      <td>10</td>\n",
       "      <td>0</td>\n",
       "      <td>0</td>\n",
       "    </tr>\n",
       "    <tr>\n",
       "      <th>3</th>\n",
       "      <td>9.3</td>\n",
       "      <td>9</td>\n",
       "      <td>0</td>\n",
       "      <td>9</td>\n",
       "      <td>7.1</td>\n",
       "      <td>9</td>\n",
       "      <td>8</td>\n",
       "      <td>8</td>\n",
       "      <td>8.7</td>\n",
       "      <td>9</td>\n",
       "      <td>...</td>\n",
       "      <td>8</td>\n",
       "      <td>6</td>\n",
       "      <td>8.2</td>\n",
       "      <td>9</td>\n",
       "      <td>7</td>\n",
       "      <td>6</td>\n",
       "      <td>8.3</td>\n",
       "      <td>8</td>\n",
       "      <td>8</td>\n",
       "      <td>9</td>\n",
       "    </tr>\n",
       "    <tr>\n",
       "      <th>4</th>\n",
       "      <td>9.3</td>\n",
       "      <td>8</td>\n",
       "      <td>2</td>\n",
       "      <td>3</td>\n",
       "      <td>9.6</td>\n",
       "      <td>6</td>\n",
       "      <td>4</td>\n",
       "      <td>6</td>\n",
       "      <td>8.6</td>\n",
       "      <td>7</td>\n",
       "      <td>...</td>\n",
       "      <td>7</td>\n",
       "      <td>4</td>\n",
       "      <td>9.6</td>\n",
       "      <td>6</td>\n",
       "      <td>4</td>\n",
       "      <td>5</td>\n",
       "      <td>9.4</td>\n",
       "      <td>6</td>\n",
       "      <td>4</td>\n",
       "      <td>5</td>\n",
       "    </tr>\n",
       "  </tbody>\n",
       "</table>\n",
       "<p>5 rows × 96 columns</p>\n",
       "</div>"
      ],
      "text/plain": [
       "   T10  T10_T  T10_F  T10_I  L10  L10_T  L10_F  L10_I  H10  H10_T  ...  \\\n",
       "0  9.3     10      0      0  7.7      8      2      2  8.6      8  ...   \n",
       "1  9.1      9      1      1  7.1      9      2      5  8.0      7  ...   \n",
       "2  9.4      8      2      2  7.6     10      0      0  9.0     10  ...   \n",
       "3  9.3      9      0      9  7.1      9      8      8  8.7      9  ...   \n",
       "4  9.3      8      2      3  9.6      6      4      6  8.6      7  ...   \n",
       "\n",
       "   SU12_F  SU12_I  D12  D12_T  D12_F  D12_I  AV12  AV12_T  AV12_F  AV12_I  \n",
       "0       0       0  8.9     10      0      0   7.8      10       0       0  \n",
       "1       5       4  8.8      7      1      1   7.6       7       6       4  \n",
       "2       0       0  9.0     10      0      0   9.0      10       0       0  \n",
       "3       8       6  8.2      9      7      6   8.3       8       8       9  \n",
       "4       7       4  9.6      6      4      5   9.4       6       4       5  \n",
       "\n",
       "[5 rows x 96 columns]"
      ]
     },
     "execution_count": 1,
     "metadata": {},
     "output_type": "execute_result"
    }
   ],
   "source": [
    "import pandas as pd\n",
    "import numpy as np\n",
    "\n",
    "data = pd.read_csv(\"BGT.csv\") \n",
    "data.head(5)\n",
    "#print(data)"
   ]
  },
  {
   "cell_type": "code",
   "execution_count": 22,
   "metadata": {},
   "outputs": [
    {
     "name": "stdout",
     "output_type": "stream",
     "text": [
      "[8.1 8.  1.  3.  9.6 7.  5.  7.  9.9 9.  1.  1.  9.  7.  2.  2.  8.5 6.\n",
      " 5.  7.  8.9 9.  0.  1.  8.9 8.  1.  4.  9.6 8.  1.  2.  9.5 7.  2.  4.\n",
      " 9.4 7.  3.  2.  9.4 9.  1.  1.  9.5 7.  2.  3.  8.3 8.  2.  2.  9.1 9.\n",
      " 0.  2.  9.  8.  2.  3.  9.6 9.  0.  1.  9.9 8.  3.  4.  9.2 7.  3.  5.\n",
      " 9.3 9.  1.  1.  8.7 8.  0.  1.  8.5 7.  2.  3.  8.7 8.  1.  3.  9.4 8.\n",
      " 2.  3.  9.4 9.  0.  1. ]\n"
     ]
    }
   ],
   "source": [
    "duc = np.array(data[8:9])[0]\n",
    "print(duc)"
   ]
  },
  {
   "cell_type": "code",
   "execution_count": 3,
   "metadata": {},
   "outputs": [
    {
     "name": "stdout",
     "output_type": "stream",
     "text": [
      "[8.1 7.  7.  7. ]\n",
      "[ 9.8 10.   3.   2. ]\n",
      "[9.2 8.  4.  3. ]\n",
      "[9.03333333 8.33333333 4.66666667 4.        ]\n",
      "[9.6 8.  7.  2. ]\n",
      "[8.2 9.  3.  3. ]\n",
      "[8.3 8.  3.  7. ]\n",
      "[8.7        8.33333333 4.33333333 4.        ]\n",
      "[9.8 9.  3.  2. ]\n",
      "[8.8 9.  3.  2. ]\n",
      "[ 9.5 10.   0.   2. ]\n",
      "[9.36666667 9.33333333 2.         2.        ]\n"
     ]
    }
   ],
   "source": [
    "T10 = duc[0:4]\n",
    "print(T10)\n",
    "L10 = duc[4:8]\n",
    "print(L10)\n",
    "H10 = duc[8:12]\n",
    "print(H10)\n",
    "A10 = np.mean(np.array([T10,L10,H10]),axis=0)\n",
    "print(A10)\n",
    "\n",
    "T11 = duc[32:36]\n",
    "print(T11)\n",
    "L11 = duc[36:40]\n",
    "print(L11)\n",
    "H11 = duc[40:44]\n",
    "print(H11)\n",
    "A11 = np.mean(np.array([T11,L11,H11]),axis=0)\n",
    "print(A11)\n",
    "\n",
    "T12 = duc[64:68]\n",
    "print(T12)\n",
    "L12 = duc[68:72]\n",
    "print(L12)\n",
    "H12 = duc[72:76]\n",
    "print(H12)\n",
    "A12 = np.mean(np.array([T12,L12,H12]),axis=0)\n",
    "print(A12)\n",
    "\n",
    "A = [A10,A11,A12]"
   ]
  },
  {
   "cell_type": "code",
   "execution_count": 4,
   "metadata": {},
   "outputs": [
    {
     "name": "stdout",
     "output_type": "stream",
     "text": [
      "[8.1 7.  7.  7. ]\n",
      "[ 9.8 10.   3.   2. ]\n",
      "[8.8 7.  5.  5. ]\n",
      "[8.9        8.         5.         4.66666667]\n",
      "[9.6 8.  7.  2. ]\n",
      "[8.2 9.  3.  3. ]\n",
      "[8.6 8.  3.  5. ]\n",
      "[8.8        8.33333333 4.33333333 3.33333333]\n",
      "[9.8 9.  3.  2. ]\n",
      "[8.8 9.  3.  2. ]\n",
      "[8.5 8.  4.  5. ]\n",
      "[9.03333333 8.66666667 3.33333333 3.        ]\n"
     ]
    }
   ],
   "source": [
    "T10 = duc[0:4]\n",
    "print(T10)\n",
    "L10 = duc[4:8]\n",
    "print(L10)\n",
    "A10 = duc[28:32]\n",
    "print(A10)\n",
    "A110 = np.mean(np.array([T10,L10,A10]),axis=0)\n",
    "print(A110)\n",
    "\n",
    "T11 = duc[32:36]\n",
    "print(T11)\n",
    "L11 = duc[36:40]\n",
    "print(L11)\n",
    "A11 = duc[60:64]\n",
    "print(A11)\n",
    "A111 = np.mean(np.array([T11,L11,A11]),axis=0)\n",
    "print(A111)\n",
    "\n",
    "T12 = duc[64:68]\n",
    "print(T12)\n",
    "L12 = duc[68:72]\n",
    "print(L12)\n",
    "A12 = duc[92:96]\n",
    "print(A12)\n",
    "A112 = np.mean(np.array([T12,L12,A12]),axis=0)\n",
    "print(A112)\n",
    "\n",
    "A1 = [A110,A111,A112]"
   ]
  },
  {
   "cell_type": "code",
   "execution_count": 5,
   "metadata": {},
   "outputs": [
    {
     "name": "stdout",
     "output_type": "stream",
     "text": [
      "[8.1 7.  7.  7. ]\n",
      "[9.2 8.  4.  3. ]\n",
      "[ 9.2 10.   1.   1. ]\n",
      "[8.8 7.  5.  5. ]\n",
      "[9.6 8.  7.  2. ]\n",
      "[8.3 8.  3.  7. ]\n",
      "[8.3 7.  8.  2. ]\n",
      "[8.73333333 7.66666667 6.         3.66666667]\n",
      "[9.8 9.  3.  2. ]\n",
      "[ 9.5 10.   0.   2. ]\n",
      "[ 9.8 10.   1.   1. ]\n",
      "[9.7        9.66666667 1.33333333 1.66666667]\n"
     ]
    }
   ],
   "source": [
    "T10 = duc[0:4]\n",
    "print(T10)\n",
    "H10 = duc[8:12]\n",
    "print(H10)\n",
    "SI10 = duc[12:16]\n",
    "print(SI10)\n",
    "B10 = np.mean(np.array([T10,H10,SI10]),axis=0)\n",
    "print(A10)\n",
    "\n",
    "T11 = duc[32:36]\n",
    "print(T11)\n",
    "H11 = duc[40:44]\n",
    "print(H11)\n",
    "SI11 = duc[44:48]\n",
    "print(SI11)\n",
    "B11 = np.mean(np.array([T11,H11,SI11]),axis=0)\n",
    "print(B11)\n",
    "\n",
    "T12 = duc[64:68]\n",
    "print(T12)\n",
    "H12 = duc[72:76]\n",
    "print(H12)\n",
    "SI12 = duc[76:80]\n",
    "print(SI12)\n",
    "B12 = np.mean(np.array([T12,H12,SI12]),axis=0)\n",
    "print(B12)\n",
    "\n",
    "B = [B10,B11,B12]"
   ]
  },
  {
   "cell_type": "code",
   "execution_count": 6,
   "metadata": {},
   "outputs": [
    {
     "name": "stdout",
     "output_type": "stream",
     "text": [
      "[ 8.7 10.   0.   0. ]\n",
      "[ 9.2 10.   0.   0. ]\n",
      "[8.7 9.  3.  5. ]\n",
      "[8.8 7.  5.  5. ]\n",
      "[ 8.7 10.   0.   0. ]\n",
      "[9.2 9.  3.  1. ]\n",
      "[9.3 9.  2.  2. ]\n",
      "[8.73333333 7.66666667 6.         3.66666667]\n",
      "[ 8.8 10.   1.   0. ]\n",
      "[9.1 9.  2.  2. ]\n",
      "[9.4 8.  4.  5. ]\n",
      "[9.7        9.66666667 1.33333333 1.66666667]\n"
     ]
    }
   ],
   "source": [
    "V10 = duc[16:20]\n",
    "print(V10)\n",
    "SU10 = duc[20:24]\n",
    "print(SU10)\n",
    "D10 = duc[24:28]\n",
    "print(D10)\n",
    "C10 = np.mean(np.array([V10,SU10,D10]),axis=0)\n",
    "print(A10)\n",
    "\n",
    "V11 = duc[48:52]\n",
    "print(V11)\n",
    "SU11 = duc[52:56]\n",
    "print(SU11)\n",
    "D11 = duc[56:60]\n",
    "print(D11)\n",
    "C11 = np.mean(np.array([V11,SU11,D11]),axis=0)\n",
    "print(B11)\n",
    "\n",
    "V12 = duc[80:84]\n",
    "print(V12)\n",
    "SU12 = duc[84:88]\n",
    "print(SU12)\n",
    "D12 = duc[88:92]\n",
    "print(D12)\n",
    "C12 = np.mean(np.array([V12,SU12,D12]),axis=0)\n",
    "print(B12)\n",
    "\n",
    "C = [C10,C11,C12]"
   ]
  },
  {
   "cell_type": "code",
   "execution_count": 7,
   "metadata": {},
   "outputs": [
    {
     "name": "stdout",
     "output_type": "stream",
     "text": [
      "[8.1 7.  7.  7. ]\n",
      "[ 8.7 10.   0.   0. ]\n",
      "[8.8 7.  5.  5. ]\n",
      "[8.53333333 8.         4.         4.        ]\n",
      "[9.6 8.  7.  2. ]\n",
      "[ 8.7 10.   0.   0. ]\n",
      "[8.6 8.  3.  5. ]\n",
      "[8.96666667 8.66666667 3.33333333 2.33333333]\n",
      "[9.8 9.  3.  2. ]\n",
      "[ 8.8 10.   1.   0. ]\n",
      "[8.5 8.  4.  5. ]\n",
      "[9.03333333 9.         2.66666667 2.33333333]\n"
     ]
    }
   ],
   "source": [
    "T10 = duc[0:4]\n",
    "print(T10)\n",
    "V10 = duc[16:20]\n",
    "print(V10)\n",
    "A10 = duc[28:32]\n",
    "print(A10)\n",
    "DD10 = np.mean(np.array([T10,V10,A10]),axis=0)\n",
    "print(DD10)\n",
    "\n",
    "T11 = duc[32:36]\n",
    "print(T11)\n",
    "V11 = duc[48:52]\n",
    "print(V11)\n",
    "A11 = duc[60:64]\n",
    "print(A11)\n",
    "DD11 = np.mean(np.array([T11,V11,A11]),axis=0)\n",
    "print(DD11)\n",
    "\n",
    "T12 = duc[64:68]\n",
    "print(T12)\n",
    "V12 = duc[80:84]\n",
    "print(V12)\n",
    "A12 = duc[92:96]\n",
    "print(A12)\n",
    "DD12 = np.mean(np.array([T12,V12,A12]),axis=0)\n",
    "print(DD12)\n",
    "\n",
    "D = [DD10,DD11,DD12]"
   ]
  },
  {
   "cell_type": "code",
   "execution_count": 8,
   "metadata": {},
   "outputs": [
    {
     "name": "stdout",
     "output_type": "stream",
     "text": [
      "[[[0.90333333 0.27777778 0.13333333 0.15555556]\n",
      "  [0.87       0.27777778 0.13333333 0.14444444]\n",
      "  [0.93666667 0.31111111 0.06666667 0.06666667]]\n",
      "\n",
      " [[0.89       0.26666667 0.15555556 0.16666667]\n",
      "  [0.88       0.27777778 0.11111111 0.14444444]\n",
      "  [0.90333333 0.28888889 0.1        0.11111111]]\n",
      "\n",
      " [[0.88333333 0.27777778 0.12222222 0.13333333]\n",
      "  [0.87333333 0.25555556 0.12222222 0.2       ]\n",
      "  [0.97       0.32222222 0.05555556 0.04444444]]\n",
      "\n",
      " [[0.88666667 0.32222222 0.05555556 0.03333333]\n",
      "  [0.90666667 0.31111111 0.03333333 0.05555556]\n",
      "  [0.91       0.3        0.07777778 0.07777778]]\n",
      "\n",
      " [[0.85333333 0.26666667 0.13333333 0.13333333]\n",
      "  [0.89666667 0.28888889 0.07777778 0.11111111]\n",
      "  [0.90333333 0.3        0.07777778 0.08888889]]]\n"
     ]
    }
   ],
   "source": [
    "from nfs import *\n",
    "\n",
    "def change(A):\n",
    "    Aok = []\n",
    "    for i in range(3):\n",
    "        temp = []\n",
    "        for j in range(4):\n",
    "            if j == 0:\n",
    "                temp.append(A[i][j]/10)\n",
    "            if j == 1:\n",
    "                temp.append(A[i][j]/30)\n",
    "            if j == 2:\n",
    "                temp.append(A[i][j+1]/30)\n",
    "            if j == 3:\n",
    "                temp.append(A[i][j-1]/30)\n",
    "        Aok.append(temp)\n",
    "    return(Aok)\n",
    "\n",
    "matrix = np.array([change(A),change(A1),change(B),change(C),change(D)])\n",
    "print(matrix)\n",
    "\n",
    "def rtc(A):\n",
    "    rtc = []\n",
    "    for i in range(3):\n",
    "        temp = []\n",
    "        for j in range(5):\n",
    "            temp.append(A[j][i])\n",
    "        rtc.append(temp)\n",
    "    return np.array(rtc)\n",
    "matric = rtc(matrix)"
   ]
  },
  {
   "cell_type": "code",
   "execution_count": 9,
   "metadata": {},
   "outputs": [
    {
     "name": "stdout",
     "output_type": "stream",
     "text": [
      "[[[0.90333333 0.27777778 0.13333333 0.15555556]\n",
      "  [0.89       0.26666667 0.15555556 0.16666667]\n",
      "  [0.88333333 0.27777778 0.12222222 0.13333333]\n",
      "  [0.88666667 0.32222222 0.05555556 0.03333333]\n",
      "  [0.85333333 0.26666667 0.13333333 0.13333333]]\n",
      "\n",
      " [[0.87       0.27777778 0.13333333 0.14444444]\n",
      "  [0.88       0.27777778 0.11111111 0.14444444]\n",
      "  [0.87333333 0.25555556 0.12222222 0.2       ]\n",
      "  [0.90666667 0.31111111 0.03333333 0.05555556]\n",
      "  [0.89666667 0.28888889 0.07777778 0.11111111]]\n",
      "\n",
      " [[0.93666667 0.31111111 0.06666667 0.06666667]\n",
      "  [0.90333333 0.28888889 0.1        0.11111111]\n",
      "  [0.97       0.32222222 0.05555556 0.04444444]\n",
      "  [0.91       0.3        0.07777778 0.07777778]\n",
      "  [0.90333333 0.3        0.07777778 0.08888889]]]\n"
     ]
    }
   ],
   "source": [
    "cost = []\n",
    "mat = rnf(matric,cost)\n",
    "print(np.array(mat))"
   ]
  },
  {
   "cell_type": "code",
   "execution_count": 10,
   "metadata": {},
   "outputs": [
    {
     "name": "stdout",
     "output_type": "stream",
     "text": [
      "[0.50499417 0.48947565 0.41208836]\n",
      "[0.32166667 0.31177778 0.26655556]\n",
      "[0.40195797 0.39088536 0.34063234]\n",
      "[0.25321056 0.24487171 0.20650538]\n",
      "[0.22119321 0.21350887 0.17800335]\n",
      "[0.1259944  0.11918969 0.08707785]\n",
      "[0.48349941 0.46954622 0.40627281]\n",
      "[0.40988422 0.39907717 0.35011452]\n",
      "[0.25830626 0.25012286 0.21254834]\n"
     ]
    }
   ],
   "source": [
    "for i in range(9):\n",
    "    print(np.array(ej(mat,i)))"
   ]
  },
  {
   "cell_type": "code",
   "execution_count": 11,
   "metadata": {},
   "outputs": [
    {
     "name": "stdout",
     "output_type": "stream",
     "text": [
      "[0.00269268 0.00268383 0.00098998]\n",
      "[0.03644444 0.03927778 0.025     ]\n",
      "[0.0266368  0.02870032 0.01818212]\n",
      "[0.051269   0.05528022 0.03549574]\n",
      "[0.05619049 0.06058815 0.03891482]\n",
      "[0.05717212 0.06162053 0.03924984]\n",
      "[0.00232793 0.00246117 0.00100209]\n",
      "[0.0286421  0.03086794 0.01963997]\n",
      "[0.05505743 0.05937876 0.03830603]\n"
     ]
    }
   ],
   "source": [
    "for i in range(9):\n",
    "    print(np.array(cj(mat,i)))"
   ]
  },
  {
   "cell_type": "code",
   "execution_count": 12,
   "metadata": {},
   "outputs": [
    {
     "name": "stdout",
     "output_type": "stream",
     "text": [
      "[0.69724051 0.68369591 0.70099834 0.73069964 0.69745253]\n",
      "[0.74036539 0.72684908 0.74291518 0.77508643 0.74097462]\n",
      "[0.70635118 0.69362762 0.70904145 0.738753   0.70671551]\n",
      "[0.76843768 0.75447928 0.7708918  0.80436476 0.76923065]\n",
      "[0.78667887 0.7725906  0.7890181  0.82284693 0.78756805]\n",
      "[0.87881753 0.8650765  0.88003919 0.91372978 0.880191  ]\n",
      "[0.69916398 0.68655059 0.70184641 0.73031225 0.69931822]\n",
      "[0.69876506 0.68628903 0.70148936 0.73054598 0.69909181]\n",
      "[0.76041556 0.74652297 0.76296565 0.79621602 0.76116731]\n"
     ]
    }
   ],
   "source": [
    "visual = []\n",
    "for i in range(9):\n",
    "    print(np.array(S(mat,i)))\n",
    "    visual.append(S(mat,i))"
   ]
  },
  {
   "cell_type": "code",
   "execution_count": 13,
   "metadata": {},
   "outputs": [
    {
     "name": "stdout",
     "output_type": "stream",
     "text": [
      "[0.86051981 0.85420783 0.85909942 0.87340557 0.85987411]\n",
      "[0.74036539 0.72684908 0.74291518 0.77508643 0.74097462]\n",
      "[0.79942655 0.7882029  0.80140996 0.82780842 0.79992479]\n",
      "[0.66704747 0.65154514 0.67027078 0.70744586 0.66770718]\n",
      "[0.6382958  0.62179073 0.64179731 0.68154357 0.63900245]\n",
      "[0.60310744 0.58376408 0.60695551 0.65423513 0.60409309]\n",
      "[0.91767965 0.90942029 0.91842577 0.93799945 0.9182485 ]\n",
      "[0.79330008 0.78218428 0.79534728 0.82142791 0.793764  ]\n",
      "[0.65741175 0.64215249 0.66069472 0.69720886 0.65802311]\n"
     ]
    }
   ],
   "source": [
    "for i in range(9):\n",
    "    print(np.array(Spos(mat,i)))"
   ]
  },
  {
   "cell_type": "code",
   "execution_count": 14,
   "metadata": {},
   "outputs": [
    {
     "name": "stdout",
     "output_type": "stream",
     "text": [
      "[0.3736595  0.39518948 0.36643761 0.32189483 0.37300422]\n",
      "[0.25963461 0.27315092 0.25708482 0.22491357 0.25902538]\n",
      "[0.3323427  0.34814589 0.32886241 0.29273988 0.33196603]\n",
      "[0.20100922 0.21202416 0.19920375 0.17206291 0.20031229]\n",
      "[0.17308457 0.18302198 0.17161535 0.14673146 0.17235912]\n",
      "[0.08316408 0.09104801 0.08273595 0.06176991 0.08222737]\n",
      "[0.39485886 0.41520212 0.39015935 0.34638192 0.39481396]\n",
      "[0.34198863 0.35754584 0.33845079 0.30297483 0.34165768]\n",
      "[0.20713099 0.21803871 0.20526133 0.17844403 0.20646897]\n"
     ]
    }
   ],
   "source": [
    "for i in range(9):\n",
    "    print(np.array(Sneg(mat,i)))"
   ]
  },
  {
   "cell_type": "code",
   "execution_count": 15,
   "metadata": {},
   "outputs": [
    {
     "name": "stdout",
     "output_type": "stream",
     "text": [
      "[0.69724051 0.68369591 0.70099834 0.73069964 0.69745253]\n",
      "[0.74036539 0.72684908 0.74291518 0.77508643 0.74097462]\n",
      "[0.70635118 0.69362762 0.70904145 0.738753   0.70671551]\n",
      "[0.76843768 0.75447928 0.7708918  0.80436476 0.76923065]\n",
      "[0.78667887 0.7725906  0.7890181  0.82284693 0.78756805]\n",
      "[0.87881753 0.8650765  0.88003919 0.91372978 0.880191  ]\n",
      "[0.69916398 0.68655059 0.70184641 0.73031225 0.69931822]\n",
      "[0.69876506 0.68628903 0.70148936 0.73054598 0.69909181]\n",
      "[0.76041556 0.74652297 0.76296565 0.79621602 0.76116731]\n"
     ]
    }
   ],
   "source": [
    "for i in range(9):\n",
    "    print(np.array(S(mat,i)))"
   ]
  },
  {
   "cell_type": "code",
   "execution_count": 16,
   "metadata": {},
   "outputs": [
    {
     "name": "stdout",
     "output_type": "stream",
     "text": [
      "Similarity no. 1 : [2 1 5 3 4]\n",
      "Similarity no. 2 : [2 1 5 3 4]\n",
      "Similarity no. 3 : [2 1 5 3 4]\n",
      "Similarity no. 4 : [2 1 5 3 4]\n",
      "Similarity no. 5 : [2 1 5 3 4]\n",
      "Similarity no. 6 : [2 1 3 5 4]\n",
      "Similarity no. 7 : [2 1 5 3 4]\n",
      "Similarity no. 8 : [2 1 5 3 4]\n",
      "Similarity no. 9 : [2 1 5 3 4]\n"
     ]
    }
   ],
   "source": [
    "for i in range(9):\n",
    "    print(\"Similarity no.\",i+1,\":\",np.array(rank(mat,i)))"
   ]
  },
  {
   "cell_type": "code",
   "execution_count": 17,
   "metadata": {},
   "outputs": [
    {
     "name": "stdout",
     "output_type": "stream",
     "text": [
      "Similarity no. 1 : 4\n",
      "Similarity no. 2 : 4\n",
      "Similarity no. 3 : 4\n",
      "Similarity no. 4 : 4\n",
      "Similarity no. 5 : 4\n",
      "Similarity no. 6 : 4\n",
      "Similarity no. 7 : 4\n",
      "Similarity no. 8 : 4\n",
      "Similarity no. 9 : 4\n"
     ]
    }
   ],
   "source": [
    " for i in range(9):\n",
    "    print(\"Similarity no.\",i+1,\":\",alt(mat,i))"
   ]
  },
  {
   "cell_type": "code",
   "execution_count": 18,
   "metadata": {},
   "outputs": [
    {
     "name": "stderr",
     "output_type": "stream",
     "text": [
      "The PostScript backend does not support transparency; partially transparent artists will be rendered opaque.\n",
      "The PostScript backend does not support transparency; partially transparent artists will be rendered opaque.\n"
     ]
    },
    {
     "data": {
      "image/png": "[encoded data removed]",
      "text/plain": [
       "<Figure size 720x324 with 1 Axes>"
      ]
     },
     "metadata": {
      "needs_background": "light"
     },
     "output_type": "display_data"
    }
   ],
   "source": [
    "import matplotlib.pyplot as plt\n",
    "xaxis = [1,2,3,4,5,6,7,8,9]\n",
    "plt.plot(xaxis,[visual[i][0] for i in range(9)],\n",
    "         'go-', color='blue', label='A', marker='o')\n",
    "plt.plot(xaxis,[visual[i][1] for i in range(9)],\n",
    "         'go-', color='green', label='A1', marker='o')\n",
    "plt.plot(xaxis,[visual[i][2] for i in range(9)],\n",
    "         'go-', color='red', label='B', marker='o')\n",
    "plt.plot(xaxis,[visual[i][3] for i in range(9)],\n",
    "         'go-', color='cyan', label='C', marker='o')\n",
    "plt.plot(xaxis,[visual[i][4] for i in range(9)],\n",
    "         'go-', color='magenta', label='D', marker='o')\n",
    "plt.xticks(xaxis,[\"IM1\",\"IM2\",\"IM3\",\"IM4\",\"IM5\",\"IM6\",\"IM7\",\"IM8\",\"IM9\"])\n",
    "plt.xlabel(\"Information Measures\")\n",
    "plt.ylabel(\"Combination Scores\")\n",
    "plt.title(\"The visualization of combination scores Si and rank of combinations \\n using information measures IMi\")\n",
    "figure = plt.gcf()\n",
    "figure.set_size_inches(10,4.5)\n",
    "plt.legend(loc='upper left', ncol=5)\n",
    "plt.savefig('decision making.eps', format='eps')\n",
    "plt.show()"
   ]
  },
  {
   "cell_type": "code",
   "execution_count": 19,
   "metadata": {},
   "outputs": [],
   "source": [
    "# 9.2\t7.75\t9.6\tLý\t8.25\tHóa\t6.5\tSinh\t6.5\n",
    "# Khối A: 23.95đ Khối A1: 27.05đ Khối B: 22.20đ Khối D: 26.55đ"
   ]
  }
 ],
 "metadata": {
  "kernelspec": {
   "display_name": "Python 3",
   "language": "python",
   "name": "python3"
  },
  "language_info": {
   "codemirror_mode": {
    "name": "ipython",
    "version": 3
   },
   "file_extension": ".py",
   "mimetype": "text/x-python",
   "name": "python",
   "nbconvert_exporter": "python",
   "pygments_lexer": "ipython3",
   "version": "3.8.8"
  }
 },
 "nbformat": 4,
 "nbformat_minor": 4
}

{
 "cells": [
  {
   "cell_type": "code",
   "execution_count": 1,
   "metadata": {},
   "outputs": [
    {
     "data": {
      "text/html": [
       "<div>\n",
       "<style scoped>\n",
       "    .dataframe tbody tr th:only-of-type {\n",
       "        vertical-align: middle;\n",
       "    }\n",
       "\n",
       "    .dataframe tbody tr th {\n",
       "        vertical-align: top;\n",
       "    }\n",
       "\n",
       "    .dataframe thead th {\n",
       "        text-align: right;\n",
       "    }\n",
       "</style>\n",
       "<table border=\"1\" class=\"dataframe\">\n",
       "  <thead>\n",
       "    <tr style=\"text-align: right;\">\n",
       "      <th></th>\n",
       "      <th>T10</th>\n",
       "      <th>T10_T</th>\n",
       "      <th>T10_F</th>\n",
       "      <th>T10_I</th>\n",
       "      <th>L10</th>\n",
       "      <th>L10_T</th>\n",
       "      <th>L10_F</th>\n",
       "      <th>L10_I</th>\n",
       "      <th>H10</th>\n",
       "      <th>H10_T</th>\n",
       "      <th>...</th>\n",
       "      <th>SU12_F</th>\n",
       "      <th>SU12_I</th>\n",
       "      <th>D12</th>\n",
       "      <th>D12_T</th>\n",
       "      <th>D12_F</th>\n",
       "      <th>D12_I</th>\n",
       "      <th>AV12</th>\n",
       "      <th>AV12_T</th>\n",
       "      <th>AV12_F</th>\n",
       "      <th>AV12_I</th>\n",
       "    </tr>\n",
       "  </thead>\n",
       "  <tbody>\n",
       "    <tr>\n",
       "      <th>0</th>\n",
       "      <td>9.3</td>\n",
       "      <td>10</td>\n",
       "      <td>0</td>\n",
       "      <td>0</td>\n",
       "      <td>7.7</td>\n",
       "      <td>8</td>\n",
       "      <td>2</td>\n",
       "      <td>2</td>\n",
       "      <td>8.6</td>\n",
       "      <td>8</td>\n",
       "      <td>...</td>\n",
       "      <td>0</td>\n",
       "      <td>0</td>\n",
       "      <td>8.9</td>\n",
       "      <td>10</td>\n",
       "      <td>0</td>\n",
       "      <td>0</td>\n",
       "      <td>7.8</td>\n",
       "      <td>10</td>\n",
       "      <td>0</td>\n",
       "      <td>0</td>\n",
       "    </tr>\n",
       "    <tr>\n",
       "      <th>1</th>\n",
       "      <td>9.1</td>\n",
       "      <td>9</td>\n",
       "      <td>1</td>\n",
       "      <td>1</td>\n",
       "      <td>7.1</td>\n",
       "      <td>9</td>\n",
       "      <td>2</td>\n",
       "      <td>5</td>\n",
       "      <td>8.0</td>\n",
       "      <td>7</td>\n",
       "      <td>...</td>\n",
       "      <td>5</td>\n",
       "      <td>4</td>\n",
       "      <td>8.8</td>\n",
       "      <td>7</td>\n",
       "      <td>1</td>\n",
       "      <td>1</td>\n",
       "      <td>7.6</td>\n",
       "      <td>7</td>\n",
       "      <td>6</td>\n",
       "      <td>4</td>\n",
       "    </tr>\n",
       "    <tr>\n",
       "      <th>2</th>\n",
       "      <td>9.4</td>\n",
       "      <td>8</td>\n",
       "      <td>2</td>\n",
       "      <td>2</td>\n",
       "      <td>7.6</td>\n",
       "      <td>10</td>\n",
       "      <td>0</td>\n",
       "      <td>0</td>\n",
       "      <td>9.0</td>\n",
       "      <td>10</td>\n",
       "      <td>...</td>\n",
       "      <td>0</td>\n",
       "      <td>0</td>\n",
       "      <td>9.0</td>\n",
       "      <td>10</td>\n",
       "      <td>0</td>\n",
       "      <td>0</td>\n",
       "      <td>9.0</td>\n",
       "      <td>10</td>\n",
       "      <td>0</td>\n",
       "      <td>0</td>\n",
       "    </tr>\n",
       "    <tr>\n",
       "      <th>3</th>\n",
       "      <td>9.3</td>\n",
       "      <td>9</td>\n",
       "      <td>0</td>\n",
       "      <td>9</td>\n",
       "      <td>7.1</td>\n",
       "      <td>9</td>\n",
       "      <td>8</td>\n",
       "      <td>8</td>\n",
       "      <td>8.7</td>\n",
       "      <td>9</td>\n",
       "      <td>...</td>\n",
       "      <td>8</td>\n",
       "      <td>6</td>\n",
       "      <td>8.2</td>\n",
       "      <td>9</td>\n",
       "      <td>7</td>\n",
       "      <td>6</td>\n",
       "      <td>8.3</td>\n",
       "      <td>8</td>\n",
       "      <td>8</td>\n",
       "      <td>9</td>\n",
       "    </tr>\n",
       "    <tr>\n",
       "      <th>4</th>\n",
       "      <td>9.3</td>\n",
       "      <td>8</td>\n",
       "      <td>2</td>\n",
       "      <td>3</td>\n",
       "      <td>9.6</td>\n",
       "      <td>6</td>\n",
       "      <td>4</td>\n",
       "      <td>6</td>\n",
       "      <td>8.6</td>\n",
       "      <td>7</td>\n",
       "      <td>...</td>\n",
       "      <td>7</td>\n",
       "      <td>4</td>\n",
       "      <td>9.6</td>\n",
       "      <td>6</td>\n",
       "      <td>4</td>\n",
       "      <td>5</td>\n",
       "      <td>9.4</td>\n",
       "      <td>6</td>\n",
       "      <td>4</td>\n",
       "      <td>5</td>\n",
       "    </tr>\n",
       "  </tbody>\n",
       "</table>\n",
       "<p>5 rows × 96 columns</p>\n",
       "</div>"
      ],
      "text/plain": [
       "   T10  T10_T  T10_F  T10_I  L10  L10_T  L10_F  L10_I  H10  H10_T  ...  \\\n",
       "0  9.3     10      0      0  7.7      8      2      2  8.6      8  ...   \n",
       "1  9.1      9      1      1  7.1      9      2      5  8.0      7  ...   \n",
       "2  9.4      8      2      2  7.6     10      0      0  9.0     10  ...   \n",
       "3  9.3      9      0      9  7.1      9      8      8  8.7      9  ...   \n",
       "4  9.3      8      2      3  9.6      6      4      6  8.6      7  ...   \n",
       "\n",
       "   SU12_F  SU12_I  D12  D12_T  D12_F  D12_I  AV12  AV12_T  AV12_F  AV12_I  \n",
       "0       0       0  8.9     10      0      0   7.8      10       0       0  \n",
       "1       5       4  8.8      7      1      1   7.6       7       6       4  \n",
       "2       0       0  9.0     10      0      0   9.0      10       0       0  \n",
       "3       8       6  8.2      9      7      6   8.3       8       8       9  \n",
       "4       7       4  9.6      6      4      5   9.4       6       4       5  \n",
       "\n",
       "[5 rows x 96 columns]"
      ]
     },
     "execution_count": 1,
     "metadata": {},
     "output_type": "execute_result"
    }
   ],
   "source": [
    "import pandas as pd\n",
    "import numpy as np\n",
    "\n",
    "data = pd.read_csv(\"BGT.csv\") \n",
    "data.head(5)\n",
    "#print(data)"
   ]
  },
  {
   "cell_type": "code",
   "execution_count": 2,
   "metadata": {},
   "outputs": [
    {
     "name": "stdout",
     "output_type": "stream",
     "text": [
      "[ 8.4  7.   3.   6.   9.8  8.   1.   3.  10.   5.   5.   8.   9.5  6.\n",
      "  3.   3.   8.5 10.   1.   0.   9.4  8.   2.   1.   8.8  8.   3.   1.\n",
      "  9.8  9.   1.   0.   9.5  7.   4.   5.   9.8  7.   3.   3.   9.2  8.\n",
      "  2.   1.   9.8  7.   4.   4.   8.4  9.   1.   0.   9.   8.   0.   0.\n",
      "  9.6  8.   1.   0.   9.8  8.   1.   0.   9.9  6.   4.   5.   9.7  7.\n",
      "  3.   3.   9.2  9.   1.   0.   9.5  6.   3.   5.   8.6  9.   1.   0.\n",
      "  9.   9.   1.   0.   9.6  7.   2.   3.   9.8  8.   1.   0. ]\n"
     ]
    }
   ],
   "source": [
    "duc = np.array(data[37:38])[0]\n",
    "print(duc)"
   ]
  },
  {
   "cell_type": "code",
   "execution_count": 3,
   "metadata": {},
   "outputs": [
    {
     "name": "stdout",
     "output_type": "stream",
     "text": [
      "[8.4 7.  3.  6. ]\n",
      "[9.8 8.  1.  3. ]\n",
      "[10.  5.  5.  8.]\n",
      "[9.4        6.66666667 3.         5.66666667]\n",
      "[9.5 7.  4.  5. ]\n",
      "[9.8 7.  3.  3. ]\n",
      "[9.2 8.  2.  1. ]\n",
      "[9.5        7.33333333 3.         3.        ]\n",
      "[9.9 6.  4.  5. ]\n",
      "[9.7 7.  3.  3. ]\n",
      "[9.2 9.  1.  0. ]\n",
      "[9.6        7.33333333 2.66666667 2.66666667]\n"
     ]
    }
   ],
   "source": [
    "T10 = duc[0:4]\n",
    "print(T10)\n",
    "L10 = duc[4:8]\n",
    "print(L10)\n",
    "H10 = duc[8:12]\n",
    "print(H10)\n",
    "A10 = np.mean(np.array([T10,L10,H10]),axis=0)\n",
    "print(A10)\n",
    "\n",
    "T11 = duc[32:36]\n",
    "print(T11)\n",
    "L11 = duc[36:40]\n",
    "print(L11)\n",
    "H11 = duc[40:44]\n",
    "print(H11)\n",
    "A11 = np.mean(np.array([T11,L11,H11]),axis=0)\n",
    "print(A11)\n",
    "\n",
    "T12 = duc[64:68]\n",
    "print(T12)\n",
    "L12 = duc[68:72]\n",
    "print(L12)\n",
    "H12 = duc[72:76]\n",
    "print(H12)\n",
    "A12 = np.mean(np.array([T12,L12,H12]),axis=0)\n",
    "print(A12)\n",
    "\n",
    "A = [A10,A11,A12]"
   ]
  },
  {
   "cell_type": "code",
   "execution_count": 4,
   "metadata": {},
   "outputs": [
    {
     "name": "stdout",
     "output_type": "stream",
     "text": [
      "[8.4 7.  3.  6. ]\n",
      "[9.8 8.  1.  3. ]\n",
      "[9.8 9.  1.  0. ]\n",
      "[9.33333333 8.         1.66666667 3.        ]\n",
      "[9.5 7.  4.  5. ]\n",
      "[9.8 7.  3.  3. ]\n",
      "[9.8 8.  1.  0. ]\n",
      "[9.7        7.33333333 2.66666667 2.66666667]\n",
      "[9.9 6.  4.  5. ]\n",
      "[9.7 7.  3.  3. ]\n",
      "[9.8 8.  1.  0. ]\n",
      "[9.8        7.         2.66666667 2.66666667]\n"
     ]
    }
   ],
   "source": [
    "T10 = duc[0:4]\n",
    "print(T10)\n",
    "L10 = duc[4:8]\n",
    "print(L10)\n",
    "A10 = duc[28:32]\n",
    "print(A10)\n",
    "A110 = np.mean(np.array([T10,L10,A10]),axis=0)\n",
    "print(A110)\n",
    "\n",
    "T11 = duc[32:36]\n",
    "print(T11)\n",
    "L11 = duc[36:40]\n",
    "print(L11)\n",
    "A11 = duc[60:64]\n",
    "print(A11)\n",
    "A111 = np.mean(np.array([T11,L11,A11]),axis=0)\n",
    "print(A111)\n",
    "\n",
    "T12 = duc[64:68]\n",
    "print(T12)\n",
    "L12 = duc[68:72]\n",
    "print(L12)\n",
    "A12 = duc[92:96]\n",
    "print(A12)\n",
    "A112 = np.mean(np.array([T12,L12,A12]),axis=0)\n",
    "print(A112)\n",
    "\n",
    "A1 = [A110,A111,A112]"
   ]
  },
  {
   "cell_type": "code",
   "execution_count": 5,
   "metadata": {},
   "outputs": [
    {
     "name": "stdout",
     "output_type": "stream",
     "text": [
      "[8.4 7.  3.  6. ]\n",
      "[10.  5.  5.  8.]\n",
      "[9.5 6.  3.  3. ]\n",
      "[9.8 9.  1.  0. ]\n",
      "[9.5 7.  4.  5. ]\n",
      "[9.2 8.  2.  1. ]\n",
      "[9.8 7.  4.  4. ]\n",
      "[9.5        7.33333333 3.33333333 3.33333333]\n",
      "[9.9 6.  4.  5. ]\n",
      "[9.2 9.  1.  0. ]\n",
      "[9.5 6.  3.  5. ]\n",
      "[9.53333333 7.         2.66666667 3.33333333]\n"
     ]
    }
   ],
   "source": [
    "T10 = duc[0:4]\n",
    "print(T10)\n",
    "H10 = duc[8:12]\n",
    "print(H10)\n",
    "SI10 = duc[12:16]\n",
    "print(SI10)\n",
    "B10 = np.mean(np.array([T10,H10,SI10]),axis=0)\n",
    "print(A10)\n",
    "\n",
    "T11 = duc[32:36]\n",
    "print(T11)\n",
    "H11 = duc[40:44]\n",
    "print(H11)\n",
    "SI11 = duc[44:48]\n",
    "print(SI11)\n",
    "B11 = np.mean(np.array([T11,H11,SI11]),axis=0)\n",
    "print(B11)\n",
    "\n",
    "T12 = duc[64:68]\n",
    "print(T12)\n",
    "H12 = duc[72:76]\n",
    "print(H12)\n",
    "SI12 = duc[76:80]\n",
    "print(SI12)\n",
    "B12 = np.mean(np.array([T12,H12,SI12]),axis=0)\n",
    "print(B12)\n",
    "\n",
    "B = [B10,B11,B12]"
   ]
  },
  {
   "cell_type": "code",
   "execution_count": 6,
   "metadata": {},
   "outputs": [
    {
     "name": "stdout",
     "output_type": "stream",
     "text": [
      "[ 8.5 10.   1.   0. ]\n",
      "[9.4 8.  2.  1. ]\n",
      "[8.8 8.  3.  1. ]\n",
      "[9.8 9.  1.  0. ]\n",
      "[8.4 9.  1.  0. ]\n",
      "[9. 8. 0. 0.]\n",
      "[9.6 8.  1.  0. ]\n",
      "[9.5        7.33333333 3.33333333 3.33333333]\n",
      "[8.6 9.  1.  0. ]\n",
      "[9. 9. 1. 0.]\n",
      "[9.6 7.  2.  3. ]\n",
      "[9.53333333 7.         2.66666667 3.33333333]\n"
     ]
    }
   ],
   "source": [
    "V10 = duc[16:20]\n",
    "print(V10)\n",
    "SU10 = duc[20:24]\n",
    "print(SU10)\n",
    "D10 = duc[24:28]\n",
    "print(D10)\n",
    "C10 = np.mean(np.array([V10,SU10,D10]),axis=0)\n",
    "print(A10)\n",
    "\n",
    "V11 = duc[48:52]\n",
    "print(V11)\n",
    "SU11 = duc[52:56]\n",
    "print(SU11)\n",
    "D11 = duc[56:60]\n",
    "print(D11)\n",
    "C11 = np.mean(np.array([V11,SU11,D11]),axis=0)\n",
    "print(B11)\n",
    "\n",
    "V12 = duc[80:84]\n",
    "print(V12)\n",
    "SU12 = duc[84:88]\n",
    "print(SU12)\n",
    "D12 = duc[88:92]\n",
    "print(D12)\n",
    "C12 = np.mean(np.array([V12,SU12,D12]),axis=0)\n",
    "print(B12)\n",
    "\n",
    "C = [C10,C11,C12]"
   ]
  },
  {
   "cell_type": "code",
   "execution_count": 7,
   "metadata": {},
   "outputs": [
    {
     "name": "stdout",
     "output_type": "stream",
     "text": [
      "[8.4 7.  3.  6. ]\n",
      "[ 8.5 10.   1.   0. ]\n",
      "[9.8 9.  1.  0. ]\n",
      "[8.9        8.66666667 1.66666667 2.        ]\n",
      "[9.5 7.  4.  5. ]\n",
      "[8.4 9.  1.  0. ]\n",
      "[9.8 8.  1.  0. ]\n",
      "[9.23333333 8.         2.         1.66666667]\n",
      "[9.9 6.  4.  5. ]\n",
      "[8.6 9.  1.  0. ]\n",
      "[9.8 8.  1.  0. ]\n",
      "[9.43333333 7.66666667 2.         1.66666667]\n"
     ]
    }
   ],
   "source": [
    "T10 = duc[0:4]\n",
    "print(T10)\n",
    "V10 = duc[16:20]\n",
    "print(V10)\n",
    "A10 = duc[28:32]\n",
    "print(A10)\n",
    "DD10 = np.mean(np.array([T10,V10,A10]),axis=0)\n",
    "print(DD10)\n",
    "\n",
    "T11 = duc[32:36]\n",
    "print(T11)\n",
    "V11 = duc[48:52]\n",
    "print(V11)\n",
    "A11 = duc[60:64]\n",
    "print(A11)\n",
    "DD11 = np.mean(np.array([T11,V11,A11]),axis=0)\n",
    "print(DD11)\n",
    "\n",
    "T12 = duc[64:68]\n",
    "print(T12)\n",
    "V12 = duc[80:84]\n",
    "print(V12)\n",
    "A12 = duc[92:96]\n",
    "print(A12)\n",
    "DD12 = np.mean(np.array([T12,V12,A12]),axis=0)\n",
    "print(DD12)\n",
    "\n",
    "D = [DD10,DD11,DD12]"
   ]
  },
  {
   "cell_type": "code",
   "execution_count": 8,
   "metadata": {},
   "outputs": [
    {
     "name": "stdout",
     "output_type": "stream",
     "text": [
      "[[[0.94       0.22222222 0.18888889 0.1       ]\n",
      "  [0.95       0.24444444 0.1        0.1       ]\n",
      "  [0.96       0.24444444 0.08888889 0.08888889]]\n",
      "\n",
      " [[0.93333333 0.26666667 0.1        0.05555556]\n",
      "  [0.97       0.24444444 0.08888889 0.08888889]\n",
      "  [0.98       0.23333333 0.08888889 0.08888889]]\n",
      "\n",
      " [[0.93       0.2        0.18888889 0.12222222]\n",
      "  [0.95       0.24444444 0.11111111 0.11111111]\n",
      "  [0.95333333 0.23333333 0.11111111 0.08888889]]\n",
      "\n",
      " [[0.89       0.28888889 0.02222222 0.06666667]\n",
      "  [0.9        0.27777778 0.         0.02222222]\n",
      "  [0.90666667 0.27777778 0.03333333 0.04444444]]\n",
      "\n",
      " [[0.89       0.28888889 0.06666667 0.05555556]\n",
      "  [0.92333333 0.26666667 0.05555556 0.06666667]\n",
      "  [0.94333333 0.25555556 0.05555556 0.06666667]]]\n"
     ]
    }
   ],
   "source": [
    "from dm import *\n",
    "from im import *\n",
    "\n",
    "def change(A):\n",
    "    Aok = []\n",
    "    for i in range(3):\n",
    "        temp = []\n",
    "        for j in range(4):\n",
    "            if j == 0:\n",
    "                temp.append(A[i][j]/10)\n",
    "            if j == 1:\n",
    "                temp.append(A[i][j]/30)\n",
    "            if j == 2:\n",
    "                temp.append(A[i][j+1]/30)\n",
    "            if j == 3:\n",
    "                temp.append(A[i][j-1]/30)\n",
    "        Aok.append(temp)\n",
    "    return(Aok)\n",
    "\n",
    "matrix = np.array([change(A),change(A1),change(B),change(C),change(D)])\n",
    "print(matrix)\n",
    "\n",
    "def rtc(A):\n",
    "    rtc = []\n",
    "    for i in range(3):\n",
    "        temp = []\n",
    "        for j in range(5):\n",
    "            temp.append(A[j][i])\n",
    "        rtc.append(temp)\n",
    "    return np.array(rtc)\n",
    "matric = rtc(matrix)"
   ]
  },
  {
   "cell_type": "code",
   "execution_count": 9,
   "metadata": {},
   "outputs": [
    {
     "name": "stdout",
     "output_type": "stream",
     "text": [
      "[[[0.94       0.22222222 0.18888889 0.1       ]\n",
      "  [0.93333333 0.26666667 0.1        0.05555556]\n",
      "  [0.93       0.2        0.18888889 0.12222222]\n",
      "  [0.89       0.28888889 0.02222222 0.06666667]\n",
      "  [0.89       0.28888889 0.06666667 0.05555556]]\n",
      "\n",
      " [[0.95       0.24444444 0.1        0.1       ]\n",
      "  [0.97       0.24444444 0.08888889 0.08888889]\n",
      "  [0.95       0.24444444 0.11111111 0.11111111]\n",
      "  [0.9        0.27777778 0.         0.02222222]\n",
      "  [0.92333333 0.26666667 0.05555556 0.06666667]]\n",
      "\n",
      " [[0.96       0.24444444 0.08888889 0.08888889]\n",
      "  [0.98       0.23333333 0.08888889 0.08888889]\n",
      "  [0.95333333 0.23333333 0.11111111 0.08888889]\n",
      "  [0.90666667 0.27777778 0.03333333 0.04444444]\n",
      "  [0.94333333 0.25555556 0.05555556 0.06666667]]]\n"
     ]
    }
   ],
   "source": [
    "cost = []\n",
    "mat = rnf(matric,cost)\n",
    "print(np.array(mat))"
   ]
  },
  {
   "cell_type": "code",
   "execution_count": 10,
   "metadata": {},
   "outputs": [
    {
     "name": "stdout",
     "output_type": "stream",
     "text": [
      "[0.42248956 0.37288453 0.36391563]\n",
      "[0.265      0.23288889 0.22566667]\n",
      "[0.33896067 0.30185391 0.29352736]\n",
      "[0.20515859 0.17869847 0.17274175]\n",
      "[0.1767389  0.15276338 0.14736193]\n",
      "[0.08583554 0.06662663 0.06226647]\n",
      "[0.40414686 0.35754331 0.34706404]\n",
      "[0.34850577 0.31195538 0.30376434]\n",
      "[0.21124253 0.18502416 0.1791271 ]\n",
      "[0.16400082 0.14347491 0.13791066]\n",
      "[0.15288848 0.13193367 0.12721335]\n",
      "[0.04110095 0.03519837 0.03247918]\n",
      "[0.03205351 0.02652607 0.02454864]\n"
     ]
    }
   ],
   "source": [
    "for i in range(13):\n",
    "    print(np.array(ej(mat,i)))"
   ]
  },
  {
   "cell_type": "code",
   "execution_count": 11,
   "metadata": {},
   "outputs": [
    {
     "name": "stdout",
     "output_type": "stream",
     "text": [
      "[0.00454717 0.00222965 0.00127528]\n",
      "[0.05105556 0.03666667 0.02872222]\n",
      "[0.03744024 0.02678696 0.02091957]\n",
      "[0.07137939 0.05162355 0.04066858]\n",
      "[0.07821324 0.05658149 0.0445827 ]\n",
      "[0.08004396 0.05752732 0.04508521]\n",
      "[0.00407738 0.00226281 0.00135308]\n",
      "[0.0401375  0.02881509 0.02256627]\n",
      "[0.07640269 0.05546066 0.04382335]\n",
      "[0.27786514        nan 0.19374172]\n",
      "[0.13673546 0.10327443 0.08136807]\n",
      "[0.41032729        nan 0.30748678]\n",
      "[0.10348878 0.08311313 0.07984649]\n"
     ]
    },
    {
     "name": "stderr",
     "output_type": "stream",
     "text": [
      "/Users/quangthinhbui/Desktop/coding/im.py:53: RuntimeWarning: invalid value encountered in double_scalars\n",
      "  t = [min(a[i],b[i])/max(a[i],b[i]) for i in range(4)]\n",
      "/Users/quangthinhbui/Desktop/coding/im.py:64: RuntimeWarning: invalid value encountered in double_scalars\n",
      "  t = [min(a[i]**2,b[i]**2)/max(a[i]**2,b[i]**2) for i in range(4)]\n"
     ]
    }
   ],
   "source": [
    "for i in range(13):\n",
    "    print(np.array(cj(mat,i)))"
   ]
  },
  {
   "cell_type": "code",
   "execution_count": 12,
   "metadata": {},
   "outputs": [
    {
     "name": "stdout",
     "output_type": "stream",
     "text": [
      "[0.70235401 0.72072259 0.69323255 0.73967151 0.72619978]\n",
      "[0.74136842 0.75971219 0.73167508 0.77940341 0.76677773]\n",
      "[0.70704544 0.72408593 0.698104   0.74303416 0.7308412 ]\n",
      "[0.76965414 0.7887226  0.75951325 0.80858982 0.79588671]\n",
      "[0.78801201 0.8072771  0.77770104 0.82698484 0.81441283]\n",
      "[0.88077233 0.89971897 0.87022024 0.91731408 0.906264  ]\n",
      "[0.69962142 0.7160759  0.69090355 0.73480253 0.72277046]\n",
      "[0.69940422 0.71609463 0.6906703  0.73475546 0.72273404]\n",
      "[0.76156974 0.78054183 0.75151861 0.80044207 0.78770032]\n",
      "[nan nan nan nan nan]\n",
      "[0.88418729 0.91306593 0.87077455 0.96655572 0.93598286]\n",
      "[nan nan nan nan nan]\n",
      "[0.9808395  0.98991733 0.97707146 0.99777536 0.99438643]\n"
     ]
    }
   ],
   "source": [
    "visual = []\n",
    "for i in range(13):\n",
    "    print(np.array(S(mat,i)))\n",
    "    visual.append(S(mat,i))"
   ]
  },
  {
   "cell_type": "code",
   "execution_count": 13,
   "metadata": {},
   "outputs": [
    {
     "name": "stdout",
     "output_type": "stream",
     "text": [
      "[0.84374518 0.85079926 0.83818456 0.86415584 0.85960638]\n",
      "[0.74136842 0.75971219 0.73167508 0.77940341 0.76677773]\n",
      "[0.80026842 0.8153327  0.79220965 0.83140666 0.8211328 ]\n",
      "[0.66811169 0.68933489 0.65706067 0.71240301 0.69754992]\n",
      "[0.6394219  0.66210626 0.62766243 0.68681338 0.67088821]\n",
      "[0.60462515 0.63147581 0.59069076 0.66032407 0.64175584]\n",
      "[0.91858626 0.92959328 0.91241947 0.94055846 0.93366902]\n",
      "[0.79409314 0.80899954 0.78614484 0.8250059  0.81476245]\n",
      "[0.65840208 0.67927989 0.64756638 0.70210624 0.68739058]\n",
      "[nan nan nan nan nan]\n",
      "[0.53436141 0.55716379 0.52170048 0.5722567  0.56033613]\n",
      "[nan nan nan nan nan]\n",
      "[0.47300432 0.48919425 0.46433968 0.44299497 0.45723796]\n"
     ]
    }
   ],
   "source": [
    "for i in range(13):\n",
    "    print(np.array(Spos(mat,i)))"
   ]
  },
  {
   "cell_type": "code",
   "execution_count": 14,
   "metadata": {},
   "outputs": [
    {
     "name": "stdout",
     "output_type": "stream",
     "text": [
      "[0.35756522 0.32968165 0.37091123 0.30414094 0.32409872]\n",
      "[0.25863158 0.24028781 0.26832492 0.22059659 0.23322227]\n",
      "[0.33158022 0.31068379 0.34259212 0.28752798 0.30241196]\n",
      "[0.19995574 0.18465413 0.20804691 0.16864074 0.17889382]\n",
      "[0.17201485 0.15806597 0.17941175 0.1436896  0.152881  ]\n",
      "[0.08184641 0.07038314 0.0880923  0.05952106 0.06637759]\n",
      "[0.39438993 0.36858374 0.40819824 0.33945681 0.35812286]\n",
      "[0.34129197 0.32073877 0.35208976 0.29782469 0.31257127]\n",
      "[0.2061308  0.19098723 0.21411072 0.17504185 0.18526436]\n",
      "[nan nan nan nan nan]\n",
      "[0.06999178 0.05304821 0.07742185 0.01980094 0.03832455]\n",
      "[nan nan nan nan nan]\n",
      "[0.00924004 0.00498262 0.01089647 0.0009877  0.00258123]\n"
     ]
    }
   ],
   "source": [
    "for i in range(13):\n",
    "    print(np.array(Sneg(mat,i)))"
   ]
  },
  {
   "cell_type": "code",
   "execution_count": 15,
   "metadata": {},
   "outputs": [
    {
     "name": "stdout",
     "output_type": "stream",
     "text": [
      "[0.70235401 0.72072259 0.69323255 0.73967151 0.72619978]\n",
      "[0.74136842 0.75971219 0.73167508 0.77940341 0.76677773]\n",
      "[0.70704544 0.72408593 0.698104   0.74303416 0.7308412 ]\n",
      "[0.76965414 0.7887226  0.75951325 0.80858982 0.79588671]\n",
      "[0.78801201 0.8072771  0.77770104 0.82698484 0.81441283]\n",
      "[0.88077233 0.89971897 0.87022024 0.91731408 0.906264  ]\n",
      "[0.69962142 0.7160759  0.69090355 0.73480253 0.72277046]\n",
      "[0.69940422 0.71609463 0.6906703  0.73475546 0.72273404]\n",
      "[0.76156974 0.78054183 0.75151861 0.80044207 0.78770032]\n",
      "[nan nan nan nan nan]\n",
      "[0.88418729 0.91306593 0.87077455 0.96655572 0.93598286]\n",
      "[nan nan nan nan nan]\n",
      "[0.9808395  0.98991733 0.97707146 0.99777536 0.99438643]\n"
     ]
    }
   ],
   "source": [
    "for i in range(13):\n",
    "    print(np.array(S(mat,i)))"
   ]
  },
  {
   "cell_type": "code",
   "execution_count": 16,
   "metadata": {},
   "outputs": [
    {
     "name": "stdout",
     "output_type": "stream",
     "text": [
      "Similarity no. 1 : [3 1 2 5 4]\n",
      "Similarity no. 2 : [3 1 2 5 4]\n",
      "Similarity no. 3 : [3 1 2 5 4]\n",
      "Similarity no. 4 : [3 1 2 5 4]\n",
      "Similarity no. 5 : [3 1 2 5 4]\n",
      "Similarity no. 6 : [3 1 2 5 4]\n",
      "Similarity no. 7 : [3 1 2 5 4]\n",
      "Similarity no. 8 : [3 1 2 5 4]\n",
      "Similarity no. 9 : [3 1 2 5 4]\n",
      "Similarity no. 10 : [1 2 3 4 5]\n",
      "Similarity no. 11 : [3 1 2 5 4]\n",
      "Similarity no. 12 : [1 2 3 4 5]\n",
      "Similarity no. 13 : [3 1 2 5 4]\n"
     ]
    }
   ],
   "source": [
    "for i in range(13):\n",
    "    print(\"Similarity no.\",i+1,\":\",np.array(rank(mat,i)))"
   ]
  },
  {
   "cell_type": "code",
   "execution_count": 17,
   "metadata": {},
   "outputs": [
    {
     "name": "stdout",
     "output_type": "stream",
     "text": [
      "Similarity no. 1 : 4\n",
      "Similarity no. 2 : 4\n",
      "Similarity no. 3 : 4\n",
      "Similarity no. 4 : 4\n",
      "Similarity no. 5 : 4\n",
      "Similarity no. 6 : 4\n",
      "Similarity no. 7 : 4\n",
      "Similarity no. 8 : 4\n",
      "Similarity no. 9 : 4\n",
      "Similarity no. 10 : 5\n",
      "Similarity no. 11 : 4\n",
      "Similarity no. 12 : 5\n",
      "Similarity no. 13 : 4\n"
     ]
    }
   ],
   "source": [
    " for i in range(13):\n",
    "    print(\"Similarity no.\",i+1,\":\",alt(mat,i))"
   ]
  },
  {
   "cell_type": "code",
   "execution_count": 18,
   "metadata": {},
   "outputs": [
    {
     "name": "stderr",
     "output_type": "stream",
     "text": [
      "The PostScript backend does not support transparency; partially transparent artists will be rendered opaque.\n",
      "The PostScript backend does not support transparency; partially transparent artists will be rendered opaque.\n"
     ]
    },
    {
     "data": {
      "image/png": "[encoded data removed]",
      "text/plain": [
       "<Figure size 720x324 with 1 Axes>"
      ]
     },
     "metadata": {
      "needs_background": "light"
     },
     "output_type": "display_data"
    }
   ],
   "source": [
    "import matplotlib.pyplot as plt\n",
    "xaxis = [1,2,3,4,5,6,7,8,9,10,11,12,13]\n",
    "plt.plot(xaxis,[visual[i][0] for i in range(13)],\n",
    "         'go-', color='blue', label='A', marker='o')\n",
    "plt.plot(xaxis,[visual[i][1] for i in range(13)],\n",
    "         'go-', color='green', label='A1', marker='o')\n",
    "plt.plot(xaxis,[visual[i][2] for i in range(13)],\n",
    "         'go-', color='red', label='B', marker='o')\n",
    "plt.plot(xaxis,[visual[i][3] for i in range(13)],\n",
    "         'go-', color='cyan', label='C', marker='o')\n",
    "plt.plot(xaxis,[visual[i][4] for i in range(13)],\n",
    "         'go-', color='magenta', label='D', marker='o')\n",
    "plt.xticks(xaxis,[\"IM1\",\"IM2\",\"IM3\",\"IM4\",\"IM5\",\"IM6\",\"IM7\",\"IM8\",\"IM9\",\"IM10\",\"IM11\",\"IM12\",\"IM13\"])\n",
    "plt.xlabel(\"Information Measures\")\n",
    "plt.ylabel(\"Combination Scores\")\n",
    "plt.title(\"The visualization of combination scores Si and rank of combinations \\n using information measures IMi\")\n",
    "figure = plt.gcf()\n",
    "figure.set_size_inches(10,4.5)\n",
    "plt.legend(loc='upper center', ncol=5)\n",
    "plt.savefig('decision making.eps', format='eps')\n",
    "plt.show()"
   ]
  },
  {
   "cell_type": "code",
   "execution_count": null,
   "metadata": {},
   "outputs": [],
   "source": [
    "# 8.8\t7.25\t10\tLý\t8.75\tHóa\t7\tSinh\t6.75\n",
    "#Khối A: 24.55đ Khối A1: 27.55đ. Khối B: 22.55đ. Khối D: 26.05đ"
   ]
  }
 ],
 "metadata": {
  "kernelspec": {
   "display_name": "Python 3",
   "language": "python",
   "name": "python3"
  },
  "language_info": {
   "codemirror_mode": {
    "name": "ipython",
    "version": 3
   },
   "file_extension": ".py",
   "mimetype": "text/x-python",
   "name": "python",
   "nbconvert_exporter": "python",
   "pygments_lexer": "ipython3",
   "version": "3.8.5"
  }
 },
 "nbformat": 4,
 "nbformat_minor": 4
}

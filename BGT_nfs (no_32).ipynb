{
 "cells": [
  {
   "cell_type": "code",
   "execution_count": 1,
   "metadata": {},
   "outputs": [
    {
     "data": {
      "text/html": [
       "<div>\n",
       "<style scoped>\n",
       "    .dataframe tbody tr th:only-of-type {\n",
       "        vertical-align: middle;\n",
       "    }\n",
       "\n",
       "    .dataframe tbody tr th {\n",
       "        vertical-align: top;\n",
       "    }\n",
       "\n",
       "    .dataframe thead th {\n",
       "        text-align: right;\n",
       "    }\n",
       "</style>\n",
       "<table border=\"1\" class=\"dataframe\">\n",
       "  <thead>\n",
       "    <tr style=\"text-align: right;\">\n",
       "      <th></th>\n",
       "      <th>T10</th>\n",
       "      <th>T10_T</th>\n",
       "      <th>T10_F</th>\n",
       "      <th>T10_I</th>\n",
       "      <th>L10</th>\n",
       "      <th>L10_T</th>\n",
       "      <th>L10_F</th>\n",
       "      <th>L10_I</th>\n",
       "      <th>H10</th>\n",
       "      <th>H10_T</th>\n",
       "      <th>...</th>\n",
       "      <th>SU12_F</th>\n",
       "      <th>SU12_I</th>\n",
       "      <th>D12</th>\n",
       "      <th>D12_T</th>\n",
       "      <th>D12_F</th>\n",
       "      <th>D12_I</th>\n",
       "      <th>AV12</th>\n",
       "      <th>AV12_T</th>\n",
       "      <th>AV12_F</th>\n",
       "      <th>AV12_I</th>\n",
       "    </tr>\n",
       "  </thead>\n",
       "  <tbody>\n",
       "    <tr>\n",
       "      <th>0</th>\n",
       "      <td>9.3</td>\n",
       "      <td>10</td>\n",
       "      <td>0</td>\n",
       "      <td>0</td>\n",
       "      <td>7.7</td>\n",
       "      <td>8</td>\n",
       "      <td>2</td>\n",
       "      <td>2</td>\n",
       "      <td>8.6</td>\n",
       "      <td>8</td>\n",
       "      <td>...</td>\n",
       "      <td>0</td>\n",
       "      <td>0</td>\n",
       "      <td>8.9</td>\n",
       "      <td>10</td>\n",
       "      <td>0</td>\n",
       "      <td>0</td>\n",
       "      <td>7.8</td>\n",
       "      <td>10</td>\n",
       "      <td>0</td>\n",
       "      <td>0</td>\n",
       "    </tr>\n",
       "    <tr>\n",
       "      <th>1</th>\n",
       "      <td>9.1</td>\n",
       "      <td>9</td>\n",
       "      <td>1</td>\n",
       "      <td>1</td>\n",
       "      <td>7.1</td>\n",
       "      <td>9</td>\n",
       "      <td>2</td>\n",
       "      <td>5</td>\n",
       "      <td>8.0</td>\n",
       "      <td>7</td>\n",
       "      <td>...</td>\n",
       "      <td>5</td>\n",
       "      <td>4</td>\n",
       "      <td>8.8</td>\n",
       "      <td>7</td>\n",
       "      <td>1</td>\n",
       "      <td>1</td>\n",
       "      <td>7.6</td>\n",
       "      <td>7</td>\n",
       "      <td>6</td>\n",
       "      <td>4</td>\n",
       "    </tr>\n",
       "    <tr>\n",
       "      <th>2</th>\n",
       "      <td>9.4</td>\n",
       "      <td>8</td>\n",
       "      <td>2</td>\n",
       "      <td>2</td>\n",
       "      <td>7.6</td>\n",
       "      <td>10</td>\n",
       "      <td>0</td>\n",
       "      <td>0</td>\n",
       "      <td>9.0</td>\n",
       "      <td>10</td>\n",
       "      <td>...</td>\n",
       "      <td>0</td>\n",
       "      <td>0</td>\n",
       "      <td>9.0</td>\n",
       "      <td>10</td>\n",
       "      <td>0</td>\n",
       "      <td>0</td>\n",
       "      <td>9.0</td>\n",
       "      <td>10</td>\n",
       "      <td>0</td>\n",
       "      <td>0</td>\n",
       "    </tr>\n",
       "    <tr>\n",
       "      <th>3</th>\n",
       "      <td>9.3</td>\n",
       "      <td>9</td>\n",
       "      <td>0</td>\n",
       "      <td>9</td>\n",
       "      <td>7.1</td>\n",
       "      <td>9</td>\n",
       "      <td>8</td>\n",
       "      <td>8</td>\n",
       "      <td>8.7</td>\n",
       "      <td>9</td>\n",
       "      <td>...</td>\n",
       "      <td>8</td>\n",
       "      <td>6</td>\n",
       "      <td>8.2</td>\n",
       "      <td>9</td>\n",
       "      <td>7</td>\n",
       "      <td>6</td>\n",
       "      <td>8.3</td>\n",
       "      <td>8</td>\n",
       "      <td>8</td>\n",
       "      <td>9</td>\n",
       "    </tr>\n",
       "    <tr>\n",
       "      <th>4</th>\n",
       "      <td>9.3</td>\n",
       "      <td>8</td>\n",
       "      <td>2</td>\n",
       "      <td>3</td>\n",
       "      <td>9.6</td>\n",
       "      <td>6</td>\n",
       "      <td>4</td>\n",
       "      <td>6</td>\n",
       "      <td>8.6</td>\n",
       "      <td>7</td>\n",
       "      <td>...</td>\n",
       "      <td>7</td>\n",
       "      <td>4</td>\n",
       "      <td>9.6</td>\n",
       "      <td>6</td>\n",
       "      <td>4</td>\n",
       "      <td>5</td>\n",
       "      <td>9.4</td>\n",
       "      <td>6</td>\n",
       "      <td>4</td>\n",
       "      <td>5</td>\n",
       "    </tr>\n",
       "  </tbody>\n",
       "</table>\n",
       "<p>5 rows × 96 columns</p>\n",
       "</div>"
      ],
      "text/plain": [
       "   T10  T10_T  T10_F  T10_I  L10  L10_T  L10_F  L10_I  H10  H10_T  ...  \\\n",
       "0  9.3     10      0      0  7.7      8      2      2  8.6      8  ...   \n",
       "1  9.1      9      1      1  7.1      9      2      5  8.0      7  ...   \n",
       "2  9.4      8      2      2  7.6     10      0      0  9.0     10  ...   \n",
       "3  9.3      9      0      9  7.1      9      8      8  8.7      9  ...   \n",
       "4  9.3      8      2      3  9.6      6      4      6  8.6      7  ...   \n",
       "\n",
       "   SU12_F  SU12_I  D12  D12_T  D12_F  D12_I  AV12  AV12_T  AV12_F  AV12_I  \n",
       "0       0       0  8.9     10      0      0   7.8      10       0       0  \n",
       "1       5       4  8.8      7      1      1   7.6       7       6       4  \n",
       "2       0       0  9.0     10      0      0   9.0      10       0       0  \n",
       "3       8       6  8.2      9      7      6   8.3       8       8       9  \n",
       "4       7       4  9.6      6      4      5   9.4       6       4       5  \n",
       "\n",
       "[5 rows x 96 columns]"
      ]
     },
     "execution_count": 1,
     "metadata": {},
     "output_type": "execute_result"
    }
   ],
   "source": [
    "import pandas as pd\n",
    "import numpy as np\n",
    "\n",
    "data = pd.read_csv(\"BGT.csv\") \n",
    "data.head(5)\n",
    "#print(data)"
   ]
  },
  {
   "cell_type": "code",
   "execution_count": 2,
   "metadata": {},
   "outputs": [
    {
     "name": "stdout",
     "output_type": "stream",
     "text": [
      "[ 8.9  8.   2.   2.   9.8  8.   2.   3.  10.   7.   2.   4.   9.4  6.\n",
      "  4.   5.   7.9  8.   2.   1.   9.1  8.   2.   2.   8.8  7.   3.   3.\n",
      "  9.5  9.   1.   2.   9.6  8.   2.   2.   9.3  4.   6.   7.   9.9  9.\n",
      "  1.   1.   9.7  5.   5.   5.   7.9  8.   2.   1.   8.9  8.   2.   2.\n",
      "  9.4  7.   3.   2.   9.2  7.   3.   4.  10.   6.   4.   2.   8.4  3.\n",
      "  7.   6.   9.8  9.   1.   1.  10.   8.   2.   1.   8.8  7.   3.   5.\n",
      "  9.4  8.   2.   1.   9.4  7.   3.   2.   9.4  8.   2.   2. ]\n"
     ]
    }
   ],
   "source": [
    "duc = np.array(data[32:33])[0]\n",
    "print(duc)"
   ]
  },
  {
   "cell_type": "code",
   "execution_count": 3,
   "metadata": {},
   "outputs": [
    {
     "name": "stdout",
     "output_type": "stream",
     "text": [
      "[8.9 8.  2.  2. ]\n",
      "[9.8 8.  2.  3. ]\n",
      "[10.  7.  2.  4.]\n",
      "[9.56666667 7.66666667 2.         3.        ]\n",
      "[9.6 8.  2.  2. ]\n",
      "[9.3 4.  6.  7. ]\n",
      "[9.9 9.  1.  1. ]\n",
      "[9.6        7.         3.         3.33333333]\n",
      "[10.  6.  4.  2.]\n",
      "[8.4 3.  7.  6. ]\n",
      "[9.8 9.  1.  1. ]\n",
      "[9.4 6.  4.  3. ]\n"
     ]
    }
   ],
   "source": [
    "T10 = duc[0:4]\n",
    "print(T10)\n",
    "L10 = duc[4:8]\n",
    "print(L10)\n",
    "H10 = duc[8:12]\n",
    "print(H10)\n",
    "A10 = np.mean(np.array([T10,L10,H10]),axis=0)\n",
    "print(A10)\n",
    "\n",
    "T11 = duc[32:36]\n",
    "print(T11)\n",
    "L11 = duc[36:40]\n",
    "print(L11)\n",
    "H11 = duc[40:44]\n",
    "print(H11)\n",
    "A11 = np.mean(np.array([T11,L11,H11]),axis=0)\n",
    "print(A11)\n",
    "\n",
    "T12 = duc[64:68]\n",
    "print(T12)\n",
    "L12 = duc[68:72]\n",
    "print(L12)\n",
    "H12 = duc[72:76]\n",
    "print(H12)\n",
    "A12 = np.mean(np.array([T12,L12,H12]),axis=0)\n",
    "print(A12)\n",
    "\n",
    "A = [A10,A11,A12]"
   ]
  },
  {
   "cell_type": "code",
   "execution_count": 4,
   "metadata": {},
   "outputs": [
    {
     "name": "stdout",
     "output_type": "stream",
     "text": [
      "[8.9 8.  2.  2. ]\n",
      "[9.8 8.  2.  3. ]\n",
      "[9.5 9.  1.  2. ]\n",
      "[9.4        8.33333333 1.66666667 2.33333333]\n",
      "[9.6 8.  2.  2. ]\n",
      "[9.3 4.  6.  7. ]\n",
      "[9.2 7.  3.  4. ]\n",
      "[9.36666667 6.33333333 3.66666667 4.33333333]\n",
      "[10.  6.  4.  2.]\n",
      "[8.4 3.  7.  6. ]\n",
      "[9.4 8.  2.  2. ]\n",
      "[9.26666667 5.66666667 4.33333333 3.33333333]\n"
     ]
    }
   ],
   "source": [
    "T10 = duc[0:4]\n",
    "print(T10)\n",
    "L10 = duc[4:8]\n",
    "print(L10)\n",
    "A10 = duc[28:32]\n",
    "print(A10)\n",
    "A110 = np.mean(np.array([T10,L10,A10]),axis=0)\n",
    "print(A110)\n",
    "\n",
    "T11 = duc[32:36]\n",
    "print(T11)\n",
    "L11 = duc[36:40]\n",
    "print(L11)\n",
    "A11 = duc[60:64]\n",
    "print(A11)\n",
    "A111 = np.mean(np.array([T11,L11,A11]),axis=0)\n",
    "print(A111)\n",
    "\n",
    "T12 = duc[64:68]\n",
    "print(T12)\n",
    "L12 = duc[68:72]\n",
    "print(L12)\n",
    "A12 = duc[92:96]\n",
    "print(A12)\n",
    "A112 = np.mean(np.array([T12,L12,A12]),axis=0)\n",
    "print(A112)\n",
    "\n",
    "A1 = [A110,A111,A112]"
   ]
  },
  {
   "cell_type": "code",
   "execution_count": 5,
   "metadata": {},
   "outputs": [
    {
     "name": "stdout",
     "output_type": "stream",
     "text": [
      "[8.9 8.  2.  2. ]\n",
      "[10.  7.  2.  4.]\n",
      "[9.4 6.  4.  5. ]\n",
      "[9.5 9.  1.  2. ]\n",
      "[9.6 8.  2.  2. ]\n",
      "[9.9 9.  1.  1. ]\n",
      "[9.7 5.  5.  5. ]\n",
      "[9.73333333 7.33333333 2.66666667 2.66666667]\n",
      "[10.  6.  4.  2.]\n",
      "[9.8 9.  1.  1. ]\n",
      "[10.  8.  2.  1.]\n",
      "[9.93333333 7.66666667 2.33333333 1.33333333]\n"
     ]
    }
   ],
   "source": [
    "T10 = duc[0:4]\n",
    "print(T10)\n",
    "H10 = duc[8:12]\n",
    "print(H10)\n",
    "SI10 = duc[12:16]\n",
    "print(SI10)\n",
    "B10 = np.mean(np.array([T10,H10,SI10]),axis=0)\n",
    "print(A10)\n",
    "\n",
    "T11 = duc[32:36]\n",
    "print(T11)\n",
    "H11 = duc[40:44]\n",
    "print(H11)\n",
    "SI11 = duc[44:48]\n",
    "print(SI11)\n",
    "B11 = np.mean(np.array([T11,H11,SI11]),axis=0)\n",
    "print(B11)\n",
    "\n",
    "T12 = duc[64:68]\n",
    "print(T12)\n",
    "H12 = duc[72:76]\n",
    "print(H12)\n",
    "SI12 = duc[76:80]\n",
    "print(SI12)\n",
    "B12 = np.mean(np.array([T12,H12,SI12]),axis=0)\n",
    "print(B12)\n",
    "\n",
    "B = [B10,B11,B12]"
   ]
  },
  {
   "cell_type": "code",
   "execution_count": 6,
   "metadata": {},
   "outputs": [
    {
     "name": "stdout",
     "output_type": "stream",
     "text": [
      "[7.9 8.  2.  1. ]\n",
      "[9.1 8.  2.  2. ]\n",
      "[8.8 7.  3.  3. ]\n",
      "[9.5 9.  1.  2. ]\n",
      "[7.9 8.  2.  1. ]\n",
      "[8.9 8.  2.  2. ]\n",
      "[9.4 7.  3.  2. ]\n",
      "[9.73333333 7.33333333 2.66666667 2.66666667]\n",
      "[8.8 7.  3.  5. ]\n",
      "[9.4 8.  2.  1. ]\n",
      "[9.4 7.  3.  2. ]\n",
      "[9.93333333 7.66666667 2.33333333 1.33333333]\n"
     ]
    }
   ],
   "source": [
    "V10 = duc[16:20]\n",
    "print(V10)\n",
    "SU10 = duc[20:24]\n",
    "print(SU10)\n",
    "D10 = duc[24:28]\n",
    "print(D10)\n",
    "C10 = np.mean(np.array([V10,SU10,D10]),axis=0)\n",
    "print(A10)\n",
    "\n",
    "V11 = duc[48:52]\n",
    "print(V11)\n",
    "SU11 = duc[52:56]\n",
    "print(SU11)\n",
    "D11 = duc[56:60]\n",
    "print(D11)\n",
    "C11 = np.mean(np.array([V11,SU11,D11]),axis=0)\n",
    "print(B11)\n",
    "\n",
    "V12 = duc[80:84]\n",
    "print(V12)\n",
    "SU12 = duc[84:88]\n",
    "print(SU12)\n",
    "D12 = duc[88:92]\n",
    "print(D12)\n",
    "C12 = np.mean(np.array([V12,SU12,D12]),axis=0)\n",
    "print(B12)\n",
    "\n",
    "C = [C10,C11,C12]"
   ]
  },
  {
   "cell_type": "code",
   "execution_count": 7,
   "metadata": {},
   "outputs": [
    {
     "name": "stdout",
     "output_type": "stream",
     "text": [
      "[8.9 8.  2.  2. ]\n",
      "[7.9 8.  2.  1. ]\n",
      "[9.5 9.  1.  2. ]\n",
      "[8.76666667 8.33333333 1.66666667 1.66666667]\n",
      "[9.6 8.  2.  2. ]\n",
      "[7.9 8.  2.  1. ]\n",
      "[9.2 7.  3.  4. ]\n",
      "[8.9        7.66666667 2.33333333 2.33333333]\n",
      "[10.  6.  4.  2.]\n",
      "[8.8 7.  3.  5. ]\n",
      "[9.4 8.  2.  2. ]\n",
      "[9.4 7.  3.  3. ]\n"
     ]
    }
   ],
   "source": [
    "T10 = duc[0:4]\n",
    "print(T10)\n",
    "V10 = duc[16:20]\n",
    "print(V10)\n",
    "A10 = duc[28:32]\n",
    "print(A10)\n",
    "DD10 = np.mean(np.array([T10,V10,A10]),axis=0)\n",
    "print(DD10)\n",
    "\n",
    "T11 = duc[32:36]\n",
    "print(T11)\n",
    "V11 = duc[48:52]\n",
    "print(V11)\n",
    "A11 = duc[60:64]\n",
    "print(A11)\n",
    "DD11 = np.mean(np.array([T11,V11,A11]),axis=0)\n",
    "print(DD11)\n",
    "\n",
    "T12 = duc[64:68]\n",
    "print(T12)\n",
    "V12 = duc[80:84]\n",
    "print(V12)\n",
    "A12 = duc[92:96]\n",
    "print(A12)\n",
    "DD12 = np.mean(np.array([T12,V12,A12]),axis=0)\n",
    "print(DD12)\n",
    "\n",
    "D = [DD10,DD11,DD12]"
   ]
  },
  {
   "cell_type": "code",
   "execution_count": 8,
   "metadata": {},
   "outputs": [
    {
     "name": "stdout",
     "output_type": "stream",
     "text": [
      "[[[0.95666667 0.25555556 0.1        0.06666667]\n",
      "  [0.96       0.23333333 0.11111111 0.1       ]\n",
      "  [0.94       0.2        0.1        0.13333333]]\n",
      "\n",
      " [[0.94       0.27777778 0.07777778 0.05555556]\n",
      "  [0.93666667 0.21111111 0.14444444 0.12222222]\n",
      "  [0.92666667 0.18888889 0.11111111 0.14444444]]\n",
      "\n",
      " [[0.94333333 0.23333333 0.12222222 0.08888889]\n",
      "  [0.97333333 0.24444444 0.08888889 0.08888889]\n",
      "  [0.99333333 0.25555556 0.04444444 0.07777778]]\n",
      "\n",
      " [[0.86       0.25555556 0.06666667 0.07777778]\n",
      "  [0.87333333 0.25555556 0.05555556 0.07777778]\n",
      "  [0.92       0.24444444 0.08888889 0.08888889]]\n",
      "\n",
      " [[0.87666667 0.27777778 0.05555556 0.05555556]\n",
      "  [0.89       0.25555556 0.07777778 0.07777778]\n",
      "  [0.94       0.23333333 0.1        0.1       ]]]\n"
     ]
    }
   ],
   "source": [
    "from dm import *\n",
    "from im import *\n",
    "\n",
    "def change(A):\n",
    "    Aok = []\n",
    "    for i in range(3):\n",
    "        temp = []\n",
    "        for j in range(4):\n",
    "            if j == 0:\n",
    "                temp.append(A[i][j]/10)\n",
    "            if j == 1:\n",
    "                temp.append(A[i][j]/30)\n",
    "            if j == 2:\n",
    "                temp.append(A[i][j+1]/30)\n",
    "            if j == 3:\n",
    "                temp.append(A[i][j-1]/30)\n",
    "        Aok.append(temp)\n",
    "    return(Aok)\n",
    "\n",
    "matrix = np.array([change(A),change(A1),change(B),change(C),change(D)])\n",
    "print(matrix)\n",
    "\n",
    "def rtc(A):\n",
    "    rtc = []\n",
    "    for i in range(3):\n",
    "        temp = []\n",
    "        for j in range(5):\n",
    "            temp.append(A[j][i])\n",
    "        rtc.append(temp)\n",
    "    return np.array(rtc)\n",
    "matric = rtc(matrix)"
   ]
  },
  {
   "cell_type": "code",
   "execution_count": 9,
   "metadata": {},
   "outputs": [
    {
     "name": "stdout",
     "output_type": "stream",
     "text": [
      "[[[0.95666667 0.25555556 0.1        0.06666667]\n",
      "  [0.94       0.27777778 0.07777778 0.05555556]\n",
      "  [0.94333333 0.23333333 0.12222222 0.08888889]\n",
      "  [0.86       0.25555556 0.06666667 0.07777778]\n",
      "  [0.87666667 0.27777778 0.05555556 0.05555556]]\n",
      "\n",
      " [[0.96       0.23333333 0.11111111 0.1       ]\n",
      "  [0.93666667 0.21111111 0.14444444 0.12222222]\n",
      "  [0.97333333 0.24444444 0.08888889 0.08888889]\n",
      "  [0.87333333 0.25555556 0.05555556 0.07777778]\n",
      "  [0.89       0.25555556 0.07777778 0.07777778]]\n",
      "\n",
      " [[0.94       0.2        0.1        0.13333333]\n",
      "  [0.92666667 0.18888889 0.11111111 0.14444444]\n",
      "  [0.99333333 0.25555556 0.04444444 0.07777778]\n",
      "  [0.92       0.24444444 0.08888889 0.08888889]\n",
      "  [0.94       0.23333333 0.1        0.1       ]]]\n"
     ]
    }
   ],
   "source": [
    "cost = []\n",
    "mat = rnf(matric,cost)\n",
    "print(np.array(mat))"
   ]
  },
  {
   "cell_type": "code",
   "execution_count": 10,
   "metadata": {},
   "outputs": [
    {
     "name": "stdout",
     "output_type": "stream",
     "text": [
      "[0.39875994 0.40779336 0.3918345 ]\n",
      "[0.249      0.25111111 0.23911111]\n",
      "[0.32068688 0.32308936 0.30903312]\n",
      "[0.1918651  0.19362258 0.18382703]\n",
      "[0.16461937 0.16622406 0.1574116 ]\n",
      "[0.07573427 0.07708686 0.07036829]\n",
      "[0.38114317 0.38417323 0.36657945]\n",
      "[0.33057287 0.33292688 0.31901882]\n",
      "[0.19811996 0.19985268 0.19010255]\n",
      "[0.15343663 0.15192518 0.14307417]\n",
      "[0.14227447 0.14368012 0.1359949 ]\n",
      "[0.03781311 0.03338334 0.02935193]\n",
      "[0.02886281 0.02725236 0.02433224]\n"
     ]
    }
   ],
   "source": [
    "for i in range(13):\n",
    "    print(np.array(ej(mat,i)))"
   ]
  },
  {
   "cell_type": "code",
   "execution_count": 11,
   "metadata": {},
   "outputs": [
    {
     "name": "stdout",
     "output_type": "stream",
     "text": [
      "[0.00167709 0.00196547 0.00166819]\n",
      "[0.03133333 0.03516667 0.033     ]\n",
      "[0.02280472 0.02563503 0.0240553 ]\n",
      "[0.04442511 0.04971147 0.04665255]\n",
      "[0.04870322 0.05449419 0.05114015]\n",
      "[0.04919042 0.05519662 0.05179346]\n",
      "[0.00136684 0.00180223 0.00168721]\n",
      "[0.02461611 0.02763061 0.02592886]\n",
      "[0.04790455 0.05351885 0.05022956]\n",
      "[0.16693226 0.17286345 0.18252511]\n",
      "[0.08967206 0.09784454 0.09110796]\n",
      "[0.28660334 0.29384876 0.30288808]\n",
      "[0.11640973 0.1221527  0.0860801 ]\n"
     ]
    }
   ],
   "source": [
    "for i in range(13):\n",
    "    print(np.array(cj(mat,i)))"
   ]
  },
  {
   "cell_type": "code",
   "execution_count": 12,
   "metadata": {},
   "outputs": [
    {
     "name": "stdout",
     "output_type": "stream",
     "text": [
      "[0.70593407 0.69674834 0.72275148 0.70529492 0.70973606]\n",
      "[0.74445029 0.7353517  0.76111887 0.74611586 0.75051797]\n",
      "[0.70975781 0.7014061  0.72552003 0.71128893 0.71541986]\n",
      "[0.77301585 0.76350712 0.79010374 0.77474171 0.77928443]\n",
      "[0.79147528 0.78179338 0.80861344 0.79323315 0.79780523]\n",
      "[0.88435264 0.87415839 0.90061508 0.88629046 0.89068102]\n",
      "[0.70196677 0.69372149 0.71747414 0.70353792 0.70756912]\n",
      "[0.70206415 0.69393977 0.71753589 0.70354343 0.70759547]\n",
      "[0.76491834 0.7555332  0.78195945 0.76660927 0.77113595]\n",
      "[0.85278087 0.84121666 0.87724513 0.88201709 0.88131405]\n",
      "[0.8932195  0.88291515 0.91343571 0.91604856 0.91598389]\n",
      "[0.97802588 0.97254477 0.9847524  0.98622221 0.98567138]\n",
      "[0.98493288 0.98084914 0.98956885 0.99028598 0.99007004]\n"
     ]
    }
   ],
   "source": [
    "visual = []\n",
    "for i in range(13):\n",
    "    print(np.array(S(mat,i)))\n",
    "    visual.append(S(mat,i))"
   ]
  },
  {
   "cell_type": "code",
   "execution_count": 13,
   "metadata": {},
   "outputs": [
    {
     "name": "stdout",
     "output_type": "stream",
     "text": [
      "[0.84201846 0.83873271 0.84963959 0.8500242  0.85204148]\n",
      "[0.74445029 0.7353517  0.76111887 0.74611586 0.75051797]\n",
      "[0.80270648 0.7950625  0.81644971 0.80414712 0.80776302]\n",
      "[0.67179237 0.66156451 0.69106728 0.67360034 0.67870087]\n",
      "[0.6434019  0.63255839 0.66397833 0.64529773 0.65074886]\n",
      "[0.60943215 0.59651867 0.63356534 0.6116917  0.6181135 ]\n",
      "[0.9202436  0.9140874  0.93014669 0.92151778 0.92411763]\n",
      "[0.79650748 0.78899934 0.81013871 0.7979132  0.80149716]\n",
      "[0.66202872 0.65204184 0.68103022 0.66378069 0.66880492]\n",
      "[0.29538157 0.28999037 0.30368584 0.28412901 0.28946988]\n",
      "[0.53648147 0.5238082  0.56001734 0.52804333 0.53718213]\n",
      "[0.2399664  0.23136782 0.25037719 0.21167376 0.22017307]\n",
      "[0.47512173 0.45710527 0.49657594 0.42041975 0.43711175]\n"
     ]
    }
   ],
   "source": [
    "for i in range(13):\n",
    "    print(np.array(Spos(mat,i)))"
   ]
  },
  {
   "cell_type": "code",
   "execution_count": 14,
   "metadata": {},
   "outputs": [
    {
     "name": "stdout",
     "output_type": "stream",
     "text": [
      "[0.35075363 0.36504872 0.32592298 0.35517972 0.34846322]\n",
      "[0.25554971 0.2646483  0.23888113 0.25388414 0.24948203]\n",
      "[0.32825182 0.33846414 0.30888064 0.32640207 0.32131245]\n",
      "[0.19726144 0.20491662 0.18358657 0.19585116 0.19222744]\n",
      "[0.16951281 0.17655359 0.15715362 0.1682055  0.16492498]\n",
      "[0.07969583 0.0858733  0.06991538 0.078479   0.07586502]\n",
      "[0.39070677 0.4035702  0.36627172 0.38831606 0.3819281 ]\n",
      "[0.33801488 0.347986   0.31891799 0.33622176 0.33120817]\n",
      "[0.20346068 0.21098025 0.18989758 0.20208504 0.19849341]\n",
      "[0.05099296 0.05473696 0.04249544 0.03800648 0.03898271]\n",
      "[0.06413403 0.06946308 0.05307161 0.04839263 0.04927156]\n",
      "[0.00539152 0.00653158 0.00387676 0.00295714 0.00320064]\n",
      "[0.00726823 0.00892488 0.00523446 0.00412403 0.00438403]\n"
     ]
    }
   ],
   "source": [
    "for i in range(13):\n",
    "    print(np.array(Sneg(mat,i)))"
   ]
  },
  {
   "cell_type": "code",
   "execution_count": 15,
   "metadata": {},
   "outputs": [
    {
     "name": "stdout",
     "output_type": "stream",
     "text": [
      "[0.70593407 0.69674834 0.72275148 0.70529492 0.70973606]\n",
      "[0.74445029 0.7353517  0.76111887 0.74611586 0.75051797]\n",
      "[0.70975781 0.7014061  0.72552003 0.71128893 0.71541986]\n",
      "[0.77301585 0.76350712 0.79010374 0.77474171 0.77928443]\n",
      "[0.79147528 0.78179338 0.80861344 0.79323315 0.79780523]\n",
      "[0.88435264 0.87415839 0.90061508 0.88629046 0.89068102]\n",
      "[0.70196677 0.69372149 0.71747414 0.70353792 0.70756912]\n",
      "[0.70206415 0.69393977 0.71753589 0.70354343 0.70759547]\n",
      "[0.76491834 0.7555332  0.78195945 0.76660927 0.77113595]\n",
      "[0.85278087 0.84121666 0.87724513 0.88201709 0.88131405]\n",
      "[0.8932195  0.88291515 0.91343571 0.91604856 0.91598389]\n",
      "[0.97802588 0.97254477 0.9847524  0.98622221 0.98567138]\n",
      "[0.98493288 0.98084914 0.98956885 0.99028598 0.99007004]\n"
     ]
    }
   ],
   "source": [
    "for i in range(13):\n",
    "    print(np.array(S(mat,i)))"
   ]
  },
  {
   "cell_type": "code",
   "execution_count": 16,
   "metadata": {},
   "outputs": [
    {
     "name": "stdout",
     "output_type": "stream",
     "text": [
      "Similarity no. 1 : [2 4 1 5 3]\n",
      "Similarity no. 2 : [2 1 4 5 3]\n",
      "Similarity no. 3 : [2 1 4 5 3]\n",
      "Similarity no. 4 : [2 1 4 5 3]\n",
      "Similarity no. 5 : [2 1 4 5 3]\n",
      "Similarity no. 6 : [2 1 4 5 3]\n",
      "Similarity no. 7 : [2 1 4 5 3]\n",
      "Similarity no. 8 : [2 1 4 5 3]\n",
      "Similarity no. 9 : [2 1 4 5 3]\n",
      "Similarity no. 10 : [2 1 3 5 4]\n",
      "Similarity no. 11 : [2 1 3 5 4]\n",
      "Similarity no. 12 : [2 1 3 5 4]\n",
      "Similarity no. 13 : [2 1 3 5 4]\n"
     ]
    }
   ],
   "source": [
    "for i in range(13):\n",
    "    print(\"Similarity no.\",i+1,\":\",np.array(rank(mat,i)))"
   ]
  },
  {
   "cell_type": "code",
   "execution_count": 17,
   "metadata": {},
   "outputs": [
    {
     "name": "stdout",
     "output_type": "stream",
     "text": [
      "Similarity no. 1 : 3\n",
      "Similarity no. 2 : 3\n",
      "Similarity no. 3 : 3\n",
      "Similarity no. 4 : 3\n",
      "Similarity no. 5 : 3\n",
      "Similarity no. 6 : 3\n",
      "Similarity no. 7 : 3\n",
      "Similarity no. 8 : 3\n",
      "Similarity no. 9 : 3\n",
      "Similarity no. 10 : 4\n",
      "Similarity no. 11 : 4\n",
      "Similarity no. 12 : 4\n",
      "Similarity no. 13 : 4\n"
     ]
    }
   ],
   "source": [
    " for i in range(13):\n",
    "    print(\"Similarity no.\",i+1,\":\",alt(mat,i))"
   ]
  },
  {
   "cell_type": "code",
   "execution_count": 18,
   "metadata": {},
   "outputs": [
    {
     "name": "stderr",
     "output_type": "stream",
     "text": [
      "The PostScript backend does not support transparency; partially transparent artists will be rendered opaque.\n",
      "The PostScript backend does not support transparency; partially transparent artists will be rendered opaque.\n"
     ]
    },
    {
     "data": {
      "image/png": "[encoded data removed]",
      "text/plain": [
       "<Figure size 720x324 with 1 Axes>"
      ]
     },
     "metadata": {
      "needs_background": "light"
     },
     "output_type": "display_data"
    }
   ],
   "source": [
    "import matplotlib.pyplot as plt\n",
    "xaxis = [1,2,3,4,5,6,7,8,9,10,11,12,13]\n",
    "plt.plot(xaxis,[visual[i][0] for i in range(13)],\n",
    "         'go-', color='blue', label='A', marker='o')\n",
    "plt.plot(xaxis,[visual[i][1] for i in range(13)],\n",
    "         'go-', color='green', label='A1', marker='o')\n",
    "plt.plot(xaxis,[visual[i][2] for i in range(13)],\n",
    "         'go-', color='red', label='B', marker='o')\n",
    "plt.plot(xaxis,[visual[i][3] for i in range(13)],\n",
    "         'go-', color='cyan', label='C', marker='o')\n",
    "plt.plot(xaxis,[visual[i][4] for i in range(13)],\n",
    "         'go-', color='magenta', label='D', marker='o')\n",
    "plt.xticks(xaxis,[\"IM1\",\"IM2\",\"IM3\",\"IM4\",\"IM5\",\"IM6\",\"IM7\",\"IM8\",\"IM9\",\"IM10\",\"IM11\",\"IM12\",\"IM13\"])\n",
    "plt.xlabel(\"Information Measures\")\n",
    "plt.ylabel(\"Combination Scores\")\n",
    "plt.title(\"The visualization of combination scores Si and rank of combinations \\n using information measures IMi\")\n",
    "figure = plt.gcf()\n",
    "figure.set_size_inches(10,4.5)\n",
    "plt.legend(loc='upper center', ncol=5)\n",
    "plt.savefig('decision making.eps', format='eps')\n",
    "plt.show()"
   ]
  },
  {
   "cell_type": "code",
   "execution_count": null,
   "metadata": {},
   "outputs": [],
   "source": [
    "# 8.8\t7\t10\tLí\t7.5\tHoá\t9.5\tSinh\t10\n",
    "#Khối A: 25.8đ. Khối A1: 26.3đ. Khối B: 28.3đ. Khối D: 25.8đ"
   ]
  }
 ],
 "metadata": {
  "kernelspec": {
   "display_name": "Python 3",
   "language": "python",
   "name": "python3"
  },
  "language_info": {
   "codemirror_mode": {
    "name": "ipython",
    "version": 3
   },
   "file_extension": ".py",
   "mimetype": "text/x-python",
   "name": "python",
   "nbconvert_exporter": "python",
   "pygments_lexer": "ipython3",
   "version": "3.8.5"
  }
 },
 "nbformat": 4,
 "nbformat_minor": 4
}

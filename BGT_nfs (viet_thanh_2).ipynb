{
 "cells": [
  {
   "cell_type": "code",
   "execution_count": 1,
   "metadata": {},
   "outputs": [
    {
     "data": {
      "text/html": [
       "<div>\n",
       "<style scoped>\n",
       "    .dataframe tbody tr th:only-of-type {\n",
       "        vertical-align: middle;\n",
       "    }\n",
       "\n",
       "    .dataframe tbody tr th {\n",
       "        vertical-align: top;\n",
       "    }\n",
       "\n",
       "    .dataframe thead th {\n",
       "        text-align: right;\n",
       "    }\n",
       "</style>\n",
       "<table border=\"1\" class=\"dataframe\">\n",
       "  <thead>\n",
       "    <tr style=\"text-align: right;\">\n",
       "      <th></th>\n",
       "      <th>T10</th>\n",
       "      <th>T10_T</th>\n",
       "      <th>T10_F</th>\n",
       "      <th>T10_I</th>\n",
       "      <th>L10</th>\n",
       "      <th>L10_T</th>\n",
       "      <th>L10_F</th>\n",
       "      <th>L10_I</th>\n",
       "      <th>H10</th>\n",
       "      <th>H10_T</th>\n",
       "      <th>...</th>\n",
       "      <th>SU12_F</th>\n",
       "      <th>SU12_I</th>\n",
       "      <th>D12</th>\n",
       "      <th>D12_T</th>\n",
       "      <th>D12_F</th>\n",
       "      <th>D12_I</th>\n",
       "      <th>AV12</th>\n",
       "      <th>AV12_T</th>\n",
       "      <th>AV12_F</th>\n",
       "      <th>AV12_I</th>\n",
       "    </tr>\n",
       "  </thead>\n",
       "  <tbody>\n",
       "    <tr>\n",
       "      <th>0</th>\n",
       "      <td>9.3</td>\n",
       "      <td>10</td>\n",
       "      <td>0</td>\n",
       "      <td>0</td>\n",
       "      <td>7.7</td>\n",
       "      <td>8</td>\n",
       "      <td>2</td>\n",
       "      <td>2</td>\n",
       "      <td>8.6</td>\n",
       "      <td>8</td>\n",
       "      <td>...</td>\n",
       "      <td>0</td>\n",
       "      <td>0</td>\n",
       "      <td>8.9</td>\n",
       "      <td>10</td>\n",
       "      <td>0</td>\n",
       "      <td>0</td>\n",
       "      <td>7.8</td>\n",
       "      <td>10</td>\n",
       "      <td>0</td>\n",
       "      <td>0</td>\n",
       "    </tr>\n",
       "    <tr>\n",
       "      <th>1</th>\n",
       "      <td>9.1</td>\n",
       "      <td>9</td>\n",
       "      <td>1</td>\n",
       "      <td>1</td>\n",
       "      <td>7.1</td>\n",
       "      <td>9</td>\n",
       "      <td>2</td>\n",
       "      <td>5</td>\n",
       "      <td>8.0</td>\n",
       "      <td>7</td>\n",
       "      <td>...</td>\n",
       "      <td>5</td>\n",
       "      <td>4</td>\n",
       "      <td>8.8</td>\n",
       "      <td>7</td>\n",
       "      <td>1</td>\n",
       "      <td>1</td>\n",
       "      <td>7.6</td>\n",
       "      <td>7</td>\n",
       "      <td>6</td>\n",
       "      <td>4</td>\n",
       "    </tr>\n",
       "    <tr>\n",
       "      <th>2</th>\n",
       "      <td>9.4</td>\n",
       "      <td>8</td>\n",
       "      <td>2</td>\n",
       "      <td>2</td>\n",
       "      <td>7.6</td>\n",
       "      <td>10</td>\n",
       "      <td>0</td>\n",
       "      <td>0</td>\n",
       "      <td>9.0</td>\n",
       "      <td>10</td>\n",
       "      <td>...</td>\n",
       "      <td>0</td>\n",
       "      <td>0</td>\n",
       "      <td>9.0</td>\n",
       "      <td>10</td>\n",
       "      <td>0</td>\n",
       "      <td>0</td>\n",
       "      <td>9.0</td>\n",
       "      <td>10</td>\n",
       "      <td>0</td>\n",
       "      <td>0</td>\n",
       "    </tr>\n",
       "    <tr>\n",
       "      <th>3</th>\n",
       "      <td>9.3</td>\n",
       "      <td>9</td>\n",
       "      <td>0</td>\n",
       "      <td>9</td>\n",
       "      <td>7.1</td>\n",
       "      <td>9</td>\n",
       "      <td>8</td>\n",
       "      <td>8</td>\n",
       "      <td>8.7</td>\n",
       "      <td>9</td>\n",
       "      <td>...</td>\n",
       "      <td>8</td>\n",
       "      <td>6</td>\n",
       "      <td>8.2</td>\n",
       "      <td>9</td>\n",
       "      <td>7</td>\n",
       "      <td>6</td>\n",
       "      <td>8.3</td>\n",
       "      <td>8</td>\n",
       "      <td>8</td>\n",
       "      <td>9</td>\n",
       "    </tr>\n",
       "    <tr>\n",
       "      <th>4</th>\n",
       "      <td>9.3</td>\n",
       "      <td>8</td>\n",
       "      <td>2</td>\n",
       "      <td>3</td>\n",
       "      <td>9.6</td>\n",
       "      <td>6</td>\n",
       "      <td>4</td>\n",
       "      <td>6</td>\n",
       "      <td>8.6</td>\n",
       "      <td>7</td>\n",
       "      <td>...</td>\n",
       "      <td>7</td>\n",
       "      <td>4</td>\n",
       "      <td>9.6</td>\n",
       "      <td>6</td>\n",
       "      <td>4</td>\n",
       "      <td>5</td>\n",
       "      <td>9.4</td>\n",
       "      <td>6</td>\n",
       "      <td>4</td>\n",
       "      <td>5</td>\n",
       "    </tr>\n",
       "  </tbody>\n",
       "</table>\n",
       "<p>5 rows × 96 columns</p>\n",
       "</div>"
      ],
      "text/plain": [
       "   T10  T10_T  T10_F  T10_I  L10  L10_T  L10_F  L10_I  H10  H10_T  ...  \\\n",
       "0  9.3     10      0      0  7.7      8      2      2  8.6      8  ...   \n",
       "1  9.1      9      1      1  7.1      9      2      5  8.0      7  ...   \n",
       "2  9.4      8      2      2  7.6     10      0      0  9.0     10  ...   \n",
       "3  9.3      9      0      9  7.1      9      8      8  8.7      9  ...   \n",
       "4  9.3      8      2      3  9.6      6      4      6  8.6      7  ...   \n",
       "\n",
       "   SU12_F  SU12_I  D12  D12_T  D12_F  D12_I  AV12  AV12_T  AV12_F  AV12_I  \n",
       "0       0       0  8.9     10      0      0   7.8      10       0       0  \n",
       "1       5       4  8.8      7      1      1   7.6       7       6       4  \n",
       "2       0       0  9.0     10      0      0   9.0      10       0       0  \n",
       "3       8       6  8.2      9      7      6   8.3       8       8       9  \n",
       "4       7       4  9.6      6      4      5   9.4       6       4       5  \n",
       "\n",
       "[5 rows x 96 columns]"
      ]
     },
     "execution_count": 1,
     "metadata": {},
     "output_type": "execute_result"
    }
   ],
   "source": [
    "import pandas as pd\n",
    "import numpy as np\n",
    "\n",
    "data = pd.read_csv(\"BGT.csv\") \n",
    "data.head(5)\n",
    "#print(data)"
   ]
  },
  {
   "cell_type": "code",
   "execution_count": 2,
   "metadata": {},
   "outputs": [
    {
     "name": "stdout",
     "output_type": "stream",
     "text": [
      "[8.  8.  4.  7.  8.6 8.  9.  3.  7.9 9.  1.  5.  7.4 5.  5.  5.  7.1 7.\n",
      " 5.  8.  7.2 3.  5.  7.  8.3 3.  5.  7.  8.4 8.  4.  0.  8.3 6.  5.  3.\n",
      " 8.6 7.  3.  3.  7.5 5.  5.  5.  7.5 5.  5.  5.  7.7 8.  3.  3.  8.7 3.\n",
      " 7.  8.  8.1 3.  7.  6.  9.  8.  3.  5.  8.2 3.  7.  5.  7.9 3.  7.  5.\n",
      " 7.4 8.  3.  5.  7.7 5.  5.  5.  7.6 9.  1.  0.  8.2 3.  7.  5.  8.6 3.\n",
      " 7.  5.  8.7 7.  3.  5. ]\n"
     ]
    }
   ],
   "source": [
    "duc = np.array(data[9:10])[0]\n",
    "print(duc)"
   ]
  },
  {
   "cell_type": "code",
   "execution_count": 3,
   "metadata": {},
   "outputs": [
    {
     "name": "stdout",
     "output_type": "stream",
     "text": [
      "[8. 8. 4. 7.]\n",
      "[8.6 8.  9.  3. ]\n",
      "[7.9 9.  1.  5. ]\n",
      "[8.16666667 8.33333333 4.66666667 5.        ]\n",
      "[8.3 6.  5.  3. ]\n",
      "[8.6 7.  3.  3. ]\n",
      "[7.5 5.  5.  5. ]\n",
      "[8.13333333 6.         4.33333333 3.66666667]\n",
      "[8.2 3.  7.  5. ]\n",
      "[7.9 3.  7.  5. ]\n",
      "[7.4 8.  3.  5. ]\n",
      "[7.83333333 4.66666667 5.66666667 5.        ]\n"
     ]
    }
   ],
   "source": [
    "T10 = duc[0:4]\n",
    "print(T10)\n",
    "L10 = duc[4:8]\n",
    "print(L10)\n",
    "H10 = duc[8:12]\n",
    "print(H10)\n",
    "A10 = np.mean(np.array([T10,L10,H10]),axis=0)\n",
    "print(A10)\n",
    "\n",
    "T11 = duc[32:36]\n",
    "print(T11)\n",
    "L11 = duc[36:40]\n",
    "print(L11)\n",
    "H11 = duc[40:44]\n",
    "print(H11)\n",
    "A11 = np.mean(np.array([T11,L11,H11]),axis=0)\n",
    "print(A11)\n",
    "\n",
    "T12 = duc[64:68]\n",
    "print(T12)\n",
    "L12 = duc[68:72]\n",
    "print(L12)\n",
    "H12 = duc[72:76]\n",
    "print(H12)\n",
    "A12 = np.mean(np.array([T12,L12,H12]),axis=0)\n",
    "print(A12)\n",
    "\n",
    "A = [A10,A11,A12]"
   ]
  },
  {
   "cell_type": "code",
   "execution_count": 4,
   "metadata": {},
   "outputs": [
    {
     "name": "stdout",
     "output_type": "stream",
     "text": [
      "[8. 8. 4. 7.]\n",
      "[8.6 8.  9.  3. ]\n",
      "[8.4 8.  4.  0. ]\n",
      "[8.33333333 8.         5.66666667 3.33333333]\n",
      "[8.3 6.  5.  3. ]\n",
      "[8.6 7.  3.  3. ]\n",
      "[9. 8. 3. 5.]\n",
      "[8.63333333 7.         3.66666667 3.66666667]\n",
      "[8.2 3.  7.  5. ]\n",
      "[7.9 3.  7.  5. ]\n",
      "[8.7 7.  3.  5. ]\n",
      "[8.26666667 4.33333333 5.66666667 5.        ]\n"
     ]
    }
   ],
   "source": [
    "T10 = duc[0:4]\n",
    "print(T10)\n",
    "L10 = duc[4:8]\n",
    "print(L10)\n",
    "A10 = duc[28:32]\n",
    "print(A10)\n",
    "A110 = np.mean(np.array([T10,L10,A10]),axis=0)\n",
    "print(A110)\n",
    "\n",
    "T11 = duc[32:36]\n",
    "print(T11)\n",
    "L11 = duc[36:40]\n",
    "print(L11)\n",
    "A11 = duc[60:64]\n",
    "print(A11)\n",
    "A111 = np.mean(np.array([T11,L11,A11]),axis=0)\n",
    "print(A111)\n",
    "\n",
    "T12 = duc[64:68]\n",
    "print(T12)\n",
    "L12 = duc[68:72]\n",
    "print(L12)\n",
    "A12 = duc[92:96]\n",
    "print(A12)\n",
    "A112 = np.mean(np.array([T12,L12,A12]),axis=0)\n",
    "print(A112)\n",
    "\n",
    "A1 = [A110,A111,A112]"
   ]
  },
  {
   "cell_type": "code",
   "execution_count": 5,
   "metadata": {},
   "outputs": [
    {
     "name": "stdout",
     "output_type": "stream",
     "text": [
      "[8. 8. 4. 7.]\n",
      "[7.9 9.  1.  5. ]\n",
      "[7.4 5.  5.  5. ]\n",
      "[8.4 8.  4.  0. ]\n",
      "[8.3 6.  5.  3. ]\n",
      "[7.5 5.  5.  5. ]\n",
      "[7.5 5.  5.  5. ]\n",
      "[7.76666667 5.33333333 5.         4.33333333]\n",
      "[8.2 3.  7.  5. ]\n",
      "[7.4 8.  3.  5. ]\n",
      "[7.7 5.  5.  5. ]\n",
      "[7.76666667 5.33333333 5.         5.        ]\n"
     ]
    }
   ],
   "source": [
    "T10 = duc[0:4]\n",
    "print(T10)\n",
    "H10 = duc[8:12]\n",
    "print(H10)\n",
    "SI10 = duc[12:16]\n",
    "print(SI10)\n",
    "B10 = np.mean(np.array([T10,H10,SI10]),axis=0)\n",
    "print(A10)\n",
    "\n",
    "T11 = duc[32:36]\n",
    "print(T11)\n",
    "H11 = duc[40:44]\n",
    "print(H11)\n",
    "SI11 = duc[44:48]\n",
    "print(SI11)\n",
    "B11 = np.mean(np.array([T11,H11,SI11]),axis=0)\n",
    "print(B11)\n",
    "\n",
    "T12 = duc[64:68]\n",
    "print(T12)\n",
    "H12 = duc[72:76]\n",
    "print(H12)\n",
    "SI12 = duc[76:80]\n",
    "print(SI12)\n",
    "B12 = np.mean(np.array([T12,H12,SI12]),axis=0)\n",
    "print(B12)\n",
    "\n",
    "B = [B10,B11,B12]"
   ]
  },
  {
   "cell_type": "code",
   "execution_count": 6,
   "metadata": {},
   "outputs": [
    {
     "name": "stdout",
     "output_type": "stream",
     "text": [
      "[7.1 7.  5.  8. ]\n",
      "[7.2 3.  5.  7. ]\n",
      "[8.3 3.  5.  7. ]\n",
      "[8.4 8.  4.  0. ]\n",
      "[7.7 8.  3.  3. ]\n",
      "[8.7 3.  7.  8. ]\n",
      "[8.1 3.  7.  6. ]\n",
      "[7.76666667 5.33333333 5.         4.33333333]\n",
      "[7.6 9.  1.  0. ]\n",
      "[8.2 3.  7.  5. ]\n",
      "[8.6 3.  7.  5. ]\n",
      "[7.76666667 5.33333333 5.         5.        ]\n"
     ]
    }
   ],
   "source": [
    "V10 = duc[16:20]\n",
    "print(V10)\n",
    "SU10 = duc[20:24]\n",
    "print(SU10)\n",
    "D10 = duc[24:28]\n",
    "print(D10)\n",
    "C10 = np.mean(np.array([V10,SU10,D10]),axis=0)\n",
    "print(A10)\n",
    "\n",
    "V11 = duc[48:52]\n",
    "print(V11)\n",
    "SU11 = duc[52:56]\n",
    "print(SU11)\n",
    "D11 = duc[56:60]\n",
    "print(D11)\n",
    "C11 = np.mean(np.array([V11,SU11,D11]),axis=0)\n",
    "print(B11)\n",
    "\n",
    "V12 = duc[80:84]\n",
    "print(V12)\n",
    "SU12 = duc[84:88]\n",
    "print(SU12)\n",
    "D12 = duc[88:92]\n",
    "print(D12)\n",
    "C12 = np.mean(np.array([V12,SU12,D12]),axis=0)\n",
    "print(B12)\n",
    "\n",
    "C = [C10,C11,C12]"
   ]
  },
  {
   "cell_type": "code",
   "execution_count": 7,
   "metadata": {},
   "outputs": [
    {
     "name": "stdout",
     "output_type": "stream",
     "text": [
      "[8. 8. 4. 7.]\n",
      "[7.1 7.  5.  8. ]\n",
      "[8.4 8.  4.  0. ]\n",
      "[7.83333333 7.66666667 4.33333333 5.        ]\n",
      "[8.3 6.  5.  3. ]\n",
      "[7.7 8.  3.  3. ]\n",
      "[9. 8. 3. 5.]\n",
      "[8.33333333 7.33333333 3.66666667 3.66666667]\n",
      "[8.2 3.  7.  5. ]\n",
      "[7.6 9.  1.  0. ]\n",
      "[8.7 7.  3.  5. ]\n",
      "[8.16666667 6.33333333 3.66666667 3.33333333]\n"
     ]
    }
   ],
   "source": [
    "T10 = duc[0:4]\n",
    "print(T10)\n",
    "V10 = duc[16:20]\n",
    "print(V10)\n",
    "A10 = duc[28:32]\n",
    "print(A10)\n",
    "DD10 = np.mean(np.array([T10,V10,A10]),axis=0)\n",
    "print(DD10)\n",
    "\n",
    "T11 = duc[32:36]\n",
    "print(T11)\n",
    "V11 = duc[48:52]\n",
    "print(V11)\n",
    "A11 = duc[60:64]\n",
    "print(A11)\n",
    "DD11 = np.mean(np.array([T11,V11,A11]),axis=0)\n",
    "print(DD11)\n",
    "\n",
    "T12 = duc[64:68]\n",
    "print(T12)\n",
    "V12 = duc[80:84]\n",
    "print(V12)\n",
    "A12 = duc[92:96]\n",
    "print(A12)\n",
    "DD12 = np.mean(np.array([T12,V12,A12]),axis=0)\n",
    "print(DD12)\n",
    "\n",
    "D = [DD10,DD11,DD12]"
   ]
  },
  {
   "cell_type": "code",
   "execution_count": 8,
   "metadata": {},
   "outputs": [
    {
     "name": "stdout",
     "output_type": "stream",
     "text": [
      "[[[0.81666667 0.27777778 0.16666667 0.15555556]\n",
      "  [0.81333333 0.2        0.12222222 0.14444444]\n",
      "  [0.78333333 0.15555556 0.16666667 0.18888889]]\n",
      "\n",
      " [[0.83333333 0.26666667 0.11111111 0.18888889]\n",
      "  [0.86333333 0.23333333 0.12222222 0.12222222]\n",
      "  [0.82666667 0.14444444 0.16666667 0.18888889]]\n",
      "\n",
      " [[0.77666667 0.24444444 0.18888889 0.11111111]\n",
      "  [0.77666667 0.17777778 0.14444444 0.16666667]\n",
      "  [0.77666667 0.17777778 0.16666667 0.16666667]]\n",
      "\n",
      " [[0.75333333 0.14444444 0.24444444 0.16666667]\n",
      "  [0.81666667 0.15555556 0.18888889 0.18888889]\n",
      "  [0.81333333 0.16666667 0.11111111 0.16666667]]\n",
      "\n",
      " [[0.78333333 0.25555556 0.16666667 0.14444444]\n",
      "  [0.83333333 0.24444444 0.12222222 0.12222222]\n",
      "  [0.81666667 0.21111111 0.11111111 0.12222222]]]\n"
     ]
    }
   ],
   "source": [
    "from dm import *\n",
    "from im import *\n",
    "\n",
    "def change(A):\n",
    "    Aok = []\n",
    "    for i in range(3):\n",
    "        temp = []\n",
    "        for j in range(4):\n",
    "            if j == 0:\n",
    "                temp.append(A[i][j]/10)\n",
    "            if j == 1:\n",
    "                temp.append(A[i][j]/30)\n",
    "            if j == 2:\n",
    "                temp.append(A[i][j+1]/30)\n",
    "            if j == 3:\n",
    "                temp.append(A[i][j-1]/30)\n",
    "        Aok.append(temp)\n",
    "    return(Aok)\n",
    "\n",
    "matrix = np.array([change(A),change(A1),change(B),change(C),change(D)])\n",
    "print(matrix)\n",
    "\n",
    "def rtc(A):\n",
    "    rtc = []\n",
    "    for i in range(3):\n",
    "        temp = []\n",
    "        for j in range(5):\n",
    "            temp.append(A[j][i])\n",
    "        rtc.append(temp)\n",
    "    return np.array(rtc)\n",
    "matric = rtc(matrix)"
   ]
  },
  {
   "cell_type": "code",
   "execution_count": 9,
   "metadata": {},
   "outputs": [
    {
     "name": "stdout",
     "output_type": "stream",
     "text": [
      "[[[0.81666667 0.27777778 0.16666667 0.15555556]\n",
      "  [0.83333333 0.26666667 0.11111111 0.18888889]\n",
      "  [0.77666667 0.24444444 0.18888889 0.11111111]\n",
      "  [0.75333333 0.14444444 0.24444444 0.16666667]\n",
      "  [0.78333333 0.25555556 0.16666667 0.14444444]]\n",
      "\n",
      " [[0.81333333 0.2        0.12222222 0.14444444]\n",
      "  [0.86333333 0.23333333 0.12222222 0.12222222]\n",
      "  [0.77666667 0.17777778 0.14444444 0.16666667]\n",
      "  [0.81666667 0.15555556 0.18888889 0.18888889]\n",
      "  [0.83333333 0.24444444 0.12222222 0.12222222]]\n",
      "\n",
      " [[0.78333333 0.15555556 0.16666667 0.18888889]\n",
      "  [0.82666667 0.14444444 0.16666667 0.18888889]\n",
      "  [0.77666667 0.17777778 0.16666667 0.16666667]\n",
      "  [0.81333333 0.16666667 0.11111111 0.16666667]\n",
      "  [0.81666667 0.21111111 0.11111111 0.12222222]]]\n"
     ]
    }
   ],
   "source": [
    "cost = []\n",
    "mat = rnf(matric,cost)\n",
    "print(np.array(mat))"
   ]
  },
  {
   "cell_type": "code",
   "execution_count": 10,
   "metadata": {},
   "outputs": [
    {
     "name": "stdout",
     "output_type": "stream",
     "text": [
      "[0.60281439 0.53989192 0.54744294]\n",
      "[0.387      0.33522222 0.33944444]\n",
      "[0.47191766 0.4169274  0.42142581]\n",
      "[0.31029036 0.26476839 0.26847021]\n",
      "[0.27507378 0.23192605 0.23542863]\n",
      "[0.17928497 0.13586368 0.13936623]\n",
      "[0.5710502  0.50233403 0.50796334]\n",
      "[0.4774909  0.42444796 0.42878911]\n",
      "[0.31369659 0.26960699 0.27319454]\n",
      "[0.24461466 0.20388875 0.20598411]\n",
      "[0.23998875 0.20152475 0.20464373]\n",
      "[0.0657401  0.04468543 0.04430637]\n",
      "[0.06112692 0.04262823 0.04322016]\n"
     ]
    }
   ],
   "source": [
    "for i in range(13):\n",
    "    print(np.array(ej(mat,i)))"
   ]
  },
  {
   "cell_type": "code",
   "execution_count": 11,
   "metadata": {},
   "outputs": [
    {
     "name": "stdout",
     "output_type": "stream",
     "text": [
      "[0.00370603 0.00213635 0.0014763 ]\n",
      "[0.04777778 0.038      0.03055556]\n",
      "[0.03497914 0.02772779 0.0222435 ]\n",
      "[0.06699954 0.05361786 0.04330521]\n",
      "[0.07342327 0.05877273 0.04747471]\n",
      "[0.07493006 0.05963387 0.04796731]\n",
      "[0.00344022 0.00212794 0.00136465]\n",
      "[0.03755441 0.02985924 0.02400559]\n",
      "[0.0718284  0.05766827 0.04668746]\n",
      "[0.18660304 0.15705854 0.14072713]\n",
      "[0.12996541 0.10823161 0.09015277]\n",
      "[0.31384314 0.27510071 0.24525463]\n",
      "[0.14682587 0.12547123 0.09499746]\n"
     ]
    }
   ],
   "source": [
    "for i in range(13):\n",
    "    print(np.array(cj(mat,i)))"
   ]
  },
  {
   "cell_type": "code",
   "execution_count": 12,
   "metadata": {},
   "outputs": [
    {
     "name": "stdout",
     "output_type": "stream",
     "text": [
      "[0.63834124 0.65118471 0.63014557 0.61908352 0.65719195]\n",
      "[0.67498656 0.68895551 0.66521796 0.6490089  0.69657652]\n",
      "[0.64696175 0.65935531 0.63839566 0.62463921 0.66619174]\n",
      "[0.69905472 0.71420062 0.68832716 0.67005555 0.7222805 ]\n",
      "[0.71523096 0.73104539 0.70395868 0.68447206 0.73944466]\n",
      "[0.80015208 0.81869644 0.78668406 0.76176831 0.82891096]\n",
      "[0.64056883 0.65263577 0.63241108 0.61984385 0.65982831]\n",
      "[0.6410185  0.65302797 0.63271353 0.61941851 0.65958712]\n",
      "[0.69209977 0.70694114 0.68158862 0.66377845 0.71477698]\n",
      "[0.76356541 0.77901843 0.75626795 0.72750198 0.79945927]\n",
      "[0.80789772 0.82391528 0.799539   0.76971258 0.84307076]\n",
      "[0.93250732 0.94155    0.92707159 0.90772981 0.95281366]\n",
      "[0.94773562 0.95580631 0.94248356 0.92650828 0.96416733]\n"
     ]
    }
   ],
   "source": [
    "visual = []\n",
    "for i in range(13):\n",
    "    print(np.array(S(mat,i)))\n",
    "    visual.append(S(mat,i))"
   ]
  },
  {
   "cell_type": "code",
   "execution_count": 13,
   "metadata": {},
   "outputs": [
    {
     "name": "stdout",
     "output_type": "stream",
     "text": [
      "[0.81637134 0.82242746 0.80956115 0.79089545 0.83245907]\n",
      "[0.67498656 0.68895551 0.66521796 0.6490089  0.69657652]\n",
      "[0.74393545 0.75590237 0.73559859 0.72162643 0.76267609]\n",
      "[0.59431102 0.60964722 0.58355143 0.56597114 0.61763859]\n",
      "[0.56146963 0.57760884 0.55013394 0.5317118  0.58589649]\n",
      "[0.51187007 0.53114935 0.49830293 0.47612418 0.54108938]\n",
      "[0.87161796 0.88202509 0.86444494 0.85195253 0.88870611]\n",
      "[0.73888875 0.75057321 0.73074576 0.71715943 0.75712019]\n",
      "[0.58646629 0.60136577 0.57601147 0.55899556 0.60905109]\n",
      "[0.25393577 0.26407601 0.24415894 0.23750275 0.26207934]\n",
      "[0.43909621 0.45997226 0.42196191 0.40381173 0.46341596]\n",
      "[0.17379182 0.18924773 0.16109103 0.16391948 0.17868266]\n",
      "[0.33907834 0.36997865 0.31419641 0.31756938 0.35129115]\n"
     ]
    }
   ],
   "source": [
    "for i in range(13):\n",
    "    print(np.array(Spos(mat,i)))"
   ]
  },
  {
   "cell_type": "code",
   "execution_count": 14,
   "metadata": {},
   "outputs": [
    {
     "name": "stdout",
     "output_type": "stream",
     "text": [
      "[0.46252354 0.44054362 0.47515971 0.4866308  0.43423184]\n",
      "[0.32501344 0.31104449 0.33478204 0.3509911  0.30342348]\n",
      "[0.40595549 0.39052408 0.41666268 0.43364274 0.38215361]\n",
      "[0.25585279 0.24396058 0.26423065 0.27869187 0.2374843 ]\n",
      "[0.223549   0.21250468 0.23135218 0.24510851 0.20645015]\n",
      "[0.12784591 0.11762513 0.135119   0.14890074 0.11168204]\n",
      "[0.48907572 0.46945628 0.5024586  0.52251063 0.45816866]\n",
      "[0.41379053 0.39880055 0.4241936  0.44063521 0.3907497 ]\n",
      "[0.26090618 0.24929312 0.2690899  0.28314621 0.24303439]\n",
      "[0.07863007 0.07490956 0.07868819 0.08896062 0.06574141]\n",
      "[0.10440849 0.0983039  0.1057946  0.12081492 0.08626027]\n",
      "[0.01257864 0.01174821 0.01267228 0.01666232 0.00884893]\n",
      "[0.01869901 0.01710673 0.0191743  0.02518998 0.01305551]\n"
     ]
    }
   ],
   "source": [
    "for i in range(13):\n",
    "    print(np.array(Sneg(mat,i)))"
   ]
  },
  {
   "cell_type": "code",
   "execution_count": 15,
   "metadata": {},
   "outputs": [
    {
     "name": "stdout",
     "output_type": "stream",
     "text": [
      "[0.63834124 0.65118471 0.63014557 0.61908352 0.65719195]\n",
      "[0.67498656 0.68895551 0.66521796 0.6490089  0.69657652]\n",
      "[0.64696175 0.65935531 0.63839566 0.62463921 0.66619174]\n",
      "[0.69905472 0.71420062 0.68832716 0.67005555 0.7222805 ]\n",
      "[0.71523096 0.73104539 0.70395868 0.68447206 0.73944466]\n",
      "[0.80015208 0.81869644 0.78668406 0.76176831 0.82891096]\n",
      "[0.64056883 0.65263577 0.63241108 0.61984385 0.65982831]\n",
      "[0.6410185  0.65302797 0.63271353 0.61941851 0.65958712]\n",
      "[0.69209977 0.70694114 0.68158862 0.66377845 0.71477698]\n",
      "[0.76356541 0.77901843 0.75626795 0.72750198 0.79945927]\n",
      "[0.80789772 0.82391528 0.799539   0.76971258 0.84307076]\n",
      "[0.93250732 0.94155    0.92707159 0.90772981 0.95281366]\n",
      "[0.94773562 0.95580631 0.94248356 0.92650828 0.96416733]\n"
     ]
    }
   ],
   "source": [
    "for i in range(13):\n",
    "    print(np.array(S(mat,i)))"
   ]
  },
  {
   "cell_type": "code",
   "execution_count": 16,
   "metadata": {},
   "outputs": [
    {
     "name": "stdout",
     "output_type": "stream",
     "text": [
      "Similarity no. 1 : [4 3 1 2 5]\n",
      "Similarity no. 2 : [4 3 1 2 5]\n",
      "Similarity no. 3 : [4 3 1 2 5]\n",
      "Similarity no. 4 : [4 3 1 2 5]\n",
      "Similarity no. 5 : [4 3 1 2 5]\n",
      "Similarity no. 6 : [4 3 1 2 5]\n",
      "Similarity no. 7 : [4 3 1 2 5]\n",
      "Similarity no. 8 : [4 3 1 2 5]\n",
      "Similarity no. 9 : [4 3 1 2 5]\n",
      "Similarity no. 10 : [4 3 1 2 5]\n",
      "Similarity no. 11 : [4 3 1 2 5]\n",
      "Similarity no. 12 : [4 3 1 2 5]\n",
      "Similarity no. 13 : [4 3 1 2 5]\n"
     ]
    }
   ],
   "source": [
    "for i in range(13):\n",
    "    print(\"Similarity no.\",i+1,\":\",np.array(rank(mat,i)))"
   ]
  },
  {
   "cell_type": "code",
   "execution_count": 17,
   "metadata": {},
   "outputs": [
    {
     "name": "stdout",
     "output_type": "stream",
     "text": [
      "Similarity no. 1 : 5\n",
      "Similarity no. 2 : 5\n",
      "Similarity no. 3 : 5\n",
      "Similarity no. 4 : 5\n",
      "Similarity no. 5 : 5\n",
      "Similarity no. 6 : 5\n",
      "Similarity no. 7 : 5\n",
      "Similarity no. 8 : 5\n",
      "Similarity no. 9 : 5\n",
      "Similarity no. 10 : 5\n",
      "Similarity no. 11 : 5\n",
      "Similarity no. 12 : 5\n",
      "Similarity no. 13 : 5\n"
     ]
    }
   ],
   "source": [
    " for i in range(13):\n",
    "    print(\"Similarity no.\",i+1,\":\",alt(mat,i))"
   ]
  },
  {
   "cell_type": "code",
   "execution_count": 18,
   "metadata": {},
   "outputs": [
    {
     "name": "stderr",
     "output_type": "stream",
     "text": [
      "The PostScript backend does not support transparency; partially transparent artists will be rendered opaque.\n",
      "The PostScript backend does not support transparency; partially transparent artists will be rendered opaque.\n"
     ]
    },
    {
     "data": {
      "image/png": "[encoded data removed]",
      "text/plain": [
       "<Figure size 720x324 with 1 Axes>"
      ]
     },
     "metadata": {
      "needs_background": "light"
     },
     "output_type": "display_data"
    }
   ],
   "source": [
    "import matplotlib.pyplot as plt\n",
    "xaxis = [1,2,3,4,5,6,7,8,9,10,11,12,13]\n",
    "plt.plot(xaxis,[visual[i][0] for i in range(13)],\n",
    "         'go-', color='blue', label='A', marker='o')\n",
    "plt.plot(xaxis,[visual[i][1] for i in range(13)],\n",
    "         'go-', color='green', label='A1', marker='o')\n",
    "plt.plot(xaxis,[visual[i][2] for i in range(13)],\n",
    "         'go-', color='red', label='B', marker='o')\n",
    "plt.plot(xaxis,[visual[i][3] for i in range(13)],\n",
    "         'go-', color='cyan', label='C', marker='o')\n",
    "plt.plot(xaxis,[visual[i][4] for i in range(13)],\n",
    "         'go-', color='magenta', label='D', marker='o')\n",
    "plt.xticks(xaxis,[\"IM1\",\"IM2\",\"IM3\",\"IM4\",\"IM5\",\"IM6\",\"IM7\",\"IM8\",\"IM9\",\"IM10\",\"IM11\",\"IM12\",\"IM13\"])\n",
    "plt.xlabel(\"Information Measures\")\n",
    "plt.ylabel(\"Combination Scores\")\n",
    "plt.title(\"The visualization of combination scores Si and rank of combinations \\n using information measures IMi\")\n",
    "figure = plt.gcf()\n",
    "figure.set_size_inches(10,4.5)\n",
    "plt.legend(loc='upper center', ncol=5)\n",
    "plt.savefig('decision making.eps', format='eps')\n",
    "plt.show()"
   ]
  },
  {
   "cell_type": "code",
   "execution_count": null,
   "metadata": {},
   "outputs": [],
   "source": [
    "# 7.8\t6.25\t8.6\tVật lí\t5.75\tHoá\t6.25\tSinh\t6.5\n",
    "# Khối A: 19.8. Khối A1: 22.15đ. Khối B: 20.55. Khối D: 22.65đ"
   ]
  }
 ],
 "metadata": {
  "kernelspec": {
   "display_name": "Python 3",
   "language": "python",
   "name": "python3"
  },
  "language_info": {
   "codemirror_mode": {
    "name": "ipython",
    "version": 3
   },
   "file_extension": ".py",
   "mimetype": "text/x-python",
   "name": "python",
   "nbconvert_exporter": "python",
   "pygments_lexer": "ipython3",
   "version": "3.8.8"
  }
 },
 "nbformat": 4,
 "nbformat_minor": 4
}

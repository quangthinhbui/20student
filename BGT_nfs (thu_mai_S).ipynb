{
 "cells": [
  {
   "cell_type": "code",
   "execution_count": 1,
   "metadata": {},
   "outputs": [
    {
     "data": {
      "text/html": [
       "<div>\n",
       "<style scoped>\n",
       "    .dataframe tbody tr th:only-of-type {\n",
       "        vertical-align: middle;\n",
       "    }\n",
       "\n",
       "    .dataframe tbody tr th {\n",
       "        vertical-align: top;\n",
       "    }\n",
       "\n",
       "    .dataframe thead th {\n",
       "        text-align: right;\n",
       "    }\n",
       "</style>\n",
       "<table border=\"1\" class=\"dataframe\">\n",
       "  <thead>\n",
       "    <tr style=\"text-align: right;\">\n",
       "      <th></th>\n",
       "      <th>T10</th>\n",
       "      <th>T10_T</th>\n",
       "      <th>T10_F</th>\n",
       "      <th>T10_I</th>\n",
       "      <th>L10</th>\n",
       "      <th>L10_T</th>\n",
       "      <th>L10_F</th>\n",
       "      <th>L10_I</th>\n",
       "      <th>H10</th>\n",
       "      <th>H10_T</th>\n",
       "      <th>...</th>\n",
       "      <th>SU12_F</th>\n",
       "      <th>SU12_I</th>\n",
       "      <th>D12</th>\n",
       "      <th>D12_T</th>\n",
       "      <th>D12_F</th>\n",
       "      <th>D12_I</th>\n",
       "      <th>AV12</th>\n",
       "      <th>AV12_T</th>\n",
       "      <th>AV12_F</th>\n",
       "      <th>AV12_I</th>\n",
       "    </tr>\n",
       "  </thead>\n",
       "  <tbody>\n",
       "    <tr>\n",
       "      <th>0</th>\n",
       "      <td>9.3</td>\n",
       "      <td>10</td>\n",
       "      <td>0</td>\n",
       "      <td>0</td>\n",
       "      <td>7.7</td>\n",
       "      <td>8</td>\n",
       "      <td>2</td>\n",
       "      <td>2</td>\n",
       "      <td>8.6</td>\n",
       "      <td>8</td>\n",
       "      <td>...</td>\n",
       "      <td>0</td>\n",
       "      <td>0</td>\n",
       "      <td>8.9</td>\n",
       "      <td>10</td>\n",
       "      <td>0</td>\n",
       "      <td>0</td>\n",
       "      <td>7.8</td>\n",
       "      <td>10</td>\n",
       "      <td>0</td>\n",
       "      <td>0</td>\n",
       "    </tr>\n",
       "    <tr>\n",
       "      <th>1</th>\n",
       "      <td>9.1</td>\n",
       "      <td>9</td>\n",
       "      <td>1</td>\n",
       "      <td>1</td>\n",
       "      <td>7.1</td>\n",
       "      <td>9</td>\n",
       "      <td>2</td>\n",
       "      <td>5</td>\n",
       "      <td>8.0</td>\n",
       "      <td>7</td>\n",
       "      <td>...</td>\n",
       "      <td>5</td>\n",
       "      <td>4</td>\n",
       "      <td>8.8</td>\n",
       "      <td>7</td>\n",
       "      <td>1</td>\n",
       "      <td>1</td>\n",
       "      <td>7.6</td>\n",
       "      <td>7</td>\n",
       "      <td>6</td>\n",
       "      <td>4</td>\n",
       "    </tr>\n",
       "    <tr>\n",
       "      <th>2</th>\n",
       "      <td>9.4</td>\n",
       "      <td>8</td>\n",
       "      <td>2</td>\n",
       "      <td>2</td>\n",
       "      <td>7.6</td>\n",
       "      <td>10</td>\n",
       "      <td>0</td>\n",
       "      <td>0</td>\n",
       "      <td>9.0</td>\n",
       "      <td>10</td>\n",
       "      <td>...</td>\n",
       "      <td>0</td>\n",
       "      <td>0</td>\n",
       "      <td>9.0</td>\n",
       "      <td>10</td>\n",
       "      <td>0</td>\n",
       "      <td>0</td>\n",
       "      <td>9.0</td>\n",
       "      <td>10</td>\n",
       "      <td>0</td>\n",
       "      <td>0</td>\n",
       "    </tr>\n",
       "    <tr>\n",
       "      <th>3</th>\n",
       "      <td>9.3</td>\n",
       "      <td>9</td>\n",
       "      <td>0</td>\n",
       "      <td>9</td>\n",
       "      <td>7.1</td>\n",
       "      <td>9</td>\n",
       "      <td>8</td>\n",
       "      <td>8</td>\n",
       "      <td>8.7</td>\n",
       "      <td>9</td>\n",
       "      <td>...</td>\n",
       "      <td>8</td>\n",
       "      <td>6</td>\n",
       "      <td>8.2</td>\n",
       "      <td>9</td>\n",
       "      <td>7</td>\n",
       "      <td>6</td>\n",
       "      <td>8.3</td>\n",
       "      <td>8</td>\n",
       "      <td>8</td>\n",
       "      <td>9</td>\n",
       "    </tr>\n",
       "    <tr>\n",
       "      <th>4</th>\n",
       "      <td>9.3</td>\n",
       "      <td>8</td>\n",
       "      <td>2</td>\n",
       "      <td>3</td>\n",
       "      <td>9.6</td>\n",
       "      <td>6</td>\n",
       "      <td>4</td>\n",
       "      <td>6</td>\n",
       "      <td>8.6</td>\n",
       "      <td>7</td>\n",
       "      <td>...</td>\n",
       "      <td>7</td>\n",
       "      <td>4</td>\n",
       "      <td>9.6</td>\n",
       "      <td>6</td>\n",
       "      <td>4</td>\n",
       "      <td>5</td>\n",
       "      <td>9.4</td>\n",
       "      <td>6</td>\n",
       "      <td>4</td>\n",
       "      <td>5</td>\n",
       "    </tr>\n",
       "  </tbody>\n",
       "</table>\n",
       "<p>5 rows × 96 columns</p>\n",
       "</div>"
      ],
      "text/plain": [
       "   T10  T10_T  T10_F  T10_I  L10  L10_T  L10_F  L10_I  H10  H10_T  ...  \\\n",
       "0  9.3     10      0      0  7.7      8      2      2  8.6      8  ...   \n",
       "1  9.1      9      1      1  7.1      9      2      5  8.0      7  ...   \n",
       "2  9.4      8      2      2  7.6     10      0      0  9.0     10  ...   \n",
       "3  9.3      9      0      9  7.1      9      8      8  8.7      9  ...   \n",
       "4  9.3      8      2      3  9.6      6      4      6  8.6      7  ...   \n",
       "\n",
       "   SU12_F  SU12_I  D12  D12_T  D12_F  D12_I  AV12  AV12_T  AV12_F  AV12_I  \n",
       "0       0       0  8.9     10      0      0   7.8      10       0       0  \n",
       "1       5       4  8.8      7      1      1   7.6       7       6       4  \n",
       "2       0       0  9.0     10      0      0   9.0      10       0       0  \n",
       "3       8       6  8.2      9      7      6   8.3       8       8       9  \n",
       "4       7       4  9.6      6      4      5   9.4       6       4       5  \n",
       "\n",
       "[5 rows x 96 columns]"
      ]
     },
     "execution_count": 1,
     "metadata": {},
     "output_type": "execute_result"
    }
   ],
   "source": [
    "import pandas as pd\n",
    "import numpy as np\n",
    "\n",
    "data = pd.read_csv(\"BGT.csv\") \n",
    "data.head(5)\n",
    "#print(data)"
   ]
  },
  {
   "cell_type": "code",
   "execution_count": 2,
   "metadata": {},
   "outputs": [
    {
     "name": "stdout",
     "output_type": "stream",
     "text": [
      "[9.4 8.  1.  4.  9.3 9.  1.  1.  9.1 9.  1.  2.  9.  8.  2.  3.  8.7 8.\n",
      " 3.  2.  9.5 7.  4.  5.  9.1 6.  4.  4.  9.5 9.  1.  0.  9.1 9.  2.  1.\n",
      " 8.9 8.  1.  0.  9.3 7.  3.  4.  9.8 8.  2.  2.  8.9 8.  2.  1.  8.8 7.\n",
      " 3.  4.  8.9 8.  3.  3.  9.2 8.  2.  0.  9.5 8.  3.  2.  9.4 9.  1.  0.\n",
      " 8.7 9.  1.  0.  9.4 7.  2.  2.  8.9 9.  2.  1.  9.3 7.  2.  4.  9.1 8.\n",
      " 2.  2.  9.1 9.  1.  1. ]\n"
     ]
    }
   ],
   "source": [
    "duc = np.array(data[45:46])[0]\n",
    "print(duc)"
   ]
  },
  {
   "cell_type": "code",
   "execution_count": 3,
   "metadata": {},
   "outputs": [
    {
     "name": "stdout",
     "output_type": "stream",
     "text": [
      "[9.4 8.  1.  4. ]\n",
      "[9.3 9.  1.  1. ]\n",
      "[9.1 9.  1.  2. ]\n",
      "[9.26666667 8.66666667 1.         2.33333333]\n",
      "[9.1 9.  2.  1. ]\n",
      "[8.9 8.  1.  0. ]\n",
      "[9.3 7.  3.  4. ]\n",
      "[9.1        8.         2.         1.66666667]\n",
      "[9.5 8.  3.  2. ]\n",
      "[9.4 9.  1.  0. ]\n",
      "[8.7 9.  1.  0. ]\n",
      "[9.2        8.66666667 1.66666667 0.66666667]\n"
     ]
    }
   ],
   "source": [
    "T10 = duc[0:4]\n",
    "print(T10)\n",
    "L10 = duc[4:8]\n",
    "print(L10)\n",
    "H10 = duc[8:12]\n",
    "print(H10)\n",
    "A10 = np.mean(np.array([T10,L10,H10]),axis=0)\n",
    "print(A10)\n",
    "\n",
    "T11 = duc[32:36]\n",
    "print(T11)\n",
    "L11 = duc[36:40]\n",
    "print(L11)\n",
    "H11 = duc[40:44]\n",
    "print(H11)\n",
    "A11 = np.mean(np.array([T11,L11,H11]),axis=0)\n",
    "print(A11)\n",
    "\n",
    "T12 = duc[64:68]\n",
    "print(T12)\n",
    "L12 = duc[68:72]\n",
    "print(L12)\n",
    "H12 = duc[72:76]\n",
    "print(H12)\n",
    "A12 = np.mean(np.array([T12,L12,H12]),axis=0)\n",
    "print(A12)\n",
    "\n",
    "A = [A10,A11,A12]"
   ]
  },
  {
   "cell_type": "code",
   "execution_count": 4,
   "metadata": {},
   "outputs": [
    {
     "name": "stdout",
     "output_type": "stream",
     "text": [
      "[9.4 8.  1.  4. ]\n",
      "[9.3 9.  1.  1. ]\n",
      "[9.5 9.  1.  0. ]\n",
      "[9.4        8.66666667 1.         1.66666667]\n",
      "[9.1 9.  2.  1. ]\n",
      "[8.9 8.  1.  0. ]\n",
      "[9.2 8.  2.  0. ]\n",
      "[9.06666667 8.33333333 1.66666667 0.33333333]\n",
      "[9.5 8.  3.  2. ]\n",
      "[9.4 9.  1.  0. ]\n",
      "[9.1 9.  1.  1. ]\n",
      "[9.33333333 8.66666667 1.66666667 1.        ]\n"
     ]
    }
   ],
   "source": [
    "T10 = duc[0:4]\n",
    "print(T10)\n",
    "L10 = duc[4:8]\n",
    "print(L10)\n",
    "A10 = duc[28:32]\n",
    "print(A10)\n",
    "A110 = np.mean(np.array([T10,L10,A10]),axis=0)\n",
    "print(A110)\n",
    "\n",
    "T11 = duc[32:36]\n",
    "print(T11)\n",
    "L11 = duc[36:40]\n",
    "print(L11)\n",
    "A11 = duc[60:64]\n",
    "print(A11)\n",
    "A111 = np.mean(np.array([T11,L11,A11]),axis=0)\n",
    "print(A111)\n",
    "\n",
    "T12 = duc[64:68]\n",
    "print(T12)\n",
    "L12 = duc[68:72]\n",
    "print(L12)\n",
    "A12 = duc[92:96]\n",
    "print(A12)\n",
    "A112 = np.mean(np.array([T12,L12,A12]),axis=0)\n",
    "print(A112)\n",
    "\n",
    "A1 = [A110,A111,A112]"
   ]
  },
  {
   "cell_type": "code",
   "execution_count": 5,
   "metadata": {},
   "outputs": [
    {
     "name": "stdout",
     "output_type": "stream",
     "text": [
      "[9.4 8.  1.  4. ]\n",
      "[9.1 9.  1.  2. ]\n",
      "[9. 8. 2. 3.]\n",
      "[9.5 9.  1.  0. ]\n",
      "[9.1 9.  2.  1. ]\n",
      "[9.3 7.  3.  4. ]\n",
      "[9.8 8.  2.  2. ]\n",
      "[9.4        8.         2.33333333 2.33333333]\n",
      "[9.5 8.  3.  2. ]\n",
      "[8.7 9.  1.  0. ]\n",
      "[9.4 7.  2.  2. ]\n",
      "[9.2        8.         2.         1.33333333]\n"
     ]
    }
   ],
   "source": [
    "T10 = duc[0:4]\n",
    "print(T10)\n",
    "H10 = duc[8:12]\n",
    "print(H10)\n",
    "SI10 = duc[12:16]\n",
    "print(SI10)\n",
    "B10 = np.mean(np.array([T10,H10,SI10]),axis=0)\n",
    "print(A10)\n",
    "\n",
    "T11 = duc[32:36]\n",
    "print(T11)\n",
    "H11 = duc[40:44]\n",
    "print(H11)\n",
    "SI11 = duc[44:48]\n",
    "print(SI11)\n",
    "B11 = np.mean(np.array([T11,H11,SI11]),axis=0)\n",
    "print(B11)\n",
    "\n",
    "T12 = duc[64:68]\n",
    "print(T12)\n",
    "H12 = duc[72:76]\n",
    "print(H12)\n",
    "SI12 = duc[76:80]\n",
    "print(SI12)\n",
    "B12 = np.mean(np.array([T12,H12,SI12]),axis=0)\n",
    "print(B12)\n",
    "\n",
    "B = [B10,B11,B12]"
   ]
  },
  {
   "cell_type": "code",
   "execution_count": 6,
   "metadata": {},
   "outputs": [
    {
     "name": "stdout",
     "output_type": "stream",
     "text": [
      "[8.7 8.  3.  2. ]\n",
      "[9.5 7.  4.  5. ]\n",
      "[9.1 6.  4.  4. ]\n",
      "[9.5 9.  1.  0. ]\n",
      "[8.9 8.  2.  1. ]\n",
      "[8.8 7.  3.  4. ]\n",
      "[8.9 8.  3.  3. ]\n",
      "[9.4        8.         2.33333333 2.33333333]\n",
      "[8.9 9.  2.  1. ]\n",
      "[9.3 7.  2.  4. ]\n",
      "[9.1 8.  2.  2. ]\n",
      "[9.2        8.         2.         1.33333333]\n"
     ]
    }
   ],
   "source": [
    "V10 = duc[16:20]\n",
    "print(V10)\n",
    "SU10 = duc[20:24]\n",
    "print(SU10)\n",
    "D10 = duc[24:28]\n",
    "print(D10)\n",
    "C10 = np.mean(np.array([V10,SU10,D10]),axis=0)\n",
    "print(A10)\n",
    "\n",
    "V11 = duc[48:52]\n",
    "print(V11)\n",
    "SU11 = duc[52:56]\n",
    "print(SU11)\n",
    "D11 = duc[56:60]\n",
    "print(D11)\n",
    "C11 = np.mean(np.array([V11,SU11,D11]),axis=0)\n",
    "print(B11)\n",
    "\n",
    "V12 = duc[80:84]\n",
    "print(V12)\n",
    "SU12 = duc[84:88]\n",
    "print(SU12)\n",
    "D12 = duc[88:92]\n",
    "print(D12)\n",
    "C12 = np.mean(np.array([V12,SU12,D12]),axis=0)\n",
    "print(B12)\n",
    "\n",
    "C = [C10,C11,C12]"
   ]
  },
  {
   "cell_type": "code",
   "execution_count": 7,
   "metadata": {},
   "outputs": [
    {
     "name": "stdout",
     "output_type": "stream",
     "text": [
      "[9.4 8.  1.  4. ]\n",
      "[8.7 8.  3.  2. ]\n",
      "[9.5 9.  1.  0. ]\n",
      "[9.2        8.33333333 1.66666667 2.        ]\n",
      "[9.1 9.  2.  1. ]\n",
      "[8.9 8.  2.  1. ]\n",
      "[9.2 8.  2.  0. ]\n",
      "[9.06666667 8.33333333 2.         0.66666667]\n",
      "[9.5 8.  3.  2. ]\n",
      "[8.9 9.  2.  1. ]\n",
      "[9.1 9.  1.  1. ]\n",
      "[9.16666667 8.66666667 2.         1.33333333]\n"
     ]
    }
   ],
   "source": [
    "T10 = duc[0:4]\n",
    "print(T10)\n",
    "V10 = duc[16:20]\n",
    "print(V10)\n",
    "A10 = duc[28:32]\n",
    "print(A10)\n",
    "DD10 = np.mean(np.array([T10,V10,A10]),axis=0)\n",
    "print(DD10)\n",
    "\n",
    "T11 = duc[32:36]\n",
    "print(T11)\n",
    "V11 = duc[48:52]\n",
    "print(V11)\n",
    "A11 = duc[60:64]\n",
    "print(A11)\n",
    "DD11 = np.mean(np.array([T11,V11,A11]),axis=0)\n",
    "print(DD11)\n",
    "\n",
    "T12 = duc[64:68]\n",
    "print(T12)\n",
    "V12 = duc[80:84]\n",
    "print(V12)\n",
    "A12 = duc[92:96]\n",
    "print(A12)\n",
    "DD12 = np.mean(np.array([T12,V12,A12]),axis=0)\n",
    "print(DD12)\n",
    "\n",
    "D = [DD10,DD11,DD12]"
   ]
  },
  {
   "cell_type": "code",
   "execution_count": 8,
   "metadata": {},
   "outputs": [
    {
     "name": "stdout",
     "output_type": "stream",
     "text": [
      "[[[0.92666667 0.28888889 0.07777778 0.03333333]\n",
      "  [0.91       0.26666667 0.05555556 0.06666667]\n",
      "  [0.92       0.28888889 0.02222222 0.05555556]]\n",
      "\n",
      " [[0.94       0.28888889 0.05555556 0.03333333]\n",
      "  [0.90666667 0.27777778 0.01111111 0.05555556]\n",
      "  [0.93333333 0.28888889 0.03333333 0.05555556]]\n",
      "\n",
      " [[0.91666667 0.27777778 0.1        0.04444444]\n",
      "  [0.94       0.26666667 0.07777778 0.07777778]\n",
      "  [0.92       0.26666667 0.04444444 0.06666667]]\n",
      "\n",
      " [[0.91       0.23333333 0.12222222 0.12222222]\n",
      "  [0.88666667 0.25555556 0.08888889 0.08888889]\n",
      "  [0.91       0.26666667 0.07777778 0.06666667]]\n",
      "\n",
      " [[0.92       0.27777778 0.06666667 0.05555556]\n",
      "  [0.90666667 0.27777778 0.02222222 0.06666667]\n",
      "  [0.91666667 0.28888889 0.04444444 0.06666667]]]\n"
     ]
    }
   ],
   "source": [
    "from dm import *\n",
    "from im import *\n",
    "\n",
    "def change(A):\n",
    "    Aok = []\n",
    "    for i in range(3):\n",
    "        temp = []\n",
    "        for j in range(4):\n",
    "            if j == 0:\n",
    "                temp.append(A[i][j]/10)\n",
    "            if j == 1:\n",
    "                temp.append(A[i][j]/30)\n",
    "            if j == 2:\n",
    "                temp.append(A[i][j+1]/30)\n",
    "            if j == 3:\n",
    "                temp.append(A[i][j-1]/30)\n",
    "        Aok.append(temp)\n",
    "    return(Aok)\n",
    "\n",
    "matrix = np.array([change(A),change(A1),change(B),change(C),change(D)])\n",
    "print(matrix)\n",
    "\n",
    "def rtc(A):\n",
    "    rtc = []\n",
    "    for i in range(3):\n",
    "        temp = []\n",
    "        for j in range(5):\n",
    "            temp.append(A[j][i])\n",
    "        rtc.append(temp)\n",
    "    return np.array(rtc)\n",
    "matric = rtc(matrix)"
   ]
  },
  {
   "cell_type": "code",
   "execution_count": 9,
   "metadata": {},
   "outputs": [
    {
     "name": "stdout",
     "output_type": "stream",
     "text": [
      "[[[0.92666667 0.28888889 0.07777778 0.03333333]\n",
      "  [0.94       0.28888889 0.05555556 0.03333333]\n",
      "  [0.91666667 0.27777778 0.1        0.04444444]\n",
      "  [0.91       0.23333333 0.12222222 0.12222222]\n",
      "  [0.92       0.27777778 0.06666667 0.05555556]]\n",
      "\n",
      " [[0.91       0.26666667 0.05555556 0.06666667]\n",
      "  [0.90666667 0.27777778 0.01111111 0.05555556]\n",
      "  [0.94       0.26666667 0.07777778 0.07777778]\n",
      "  [0.88666667 0.25555556 0.08888889 0.08888889]\n",
      "  [0.90666667 0.27777778 0.02222222 0.06666667]]\n",
      "\n",
      " [[0.92       0.28888889 0.02222222 0.05555556]\n",
      "  [0.93333333 0.28888889 0.03333333 0.05555556]\n",
      "  [0.92       0.26666667 0.04444444 0.06666667]\n",
      "  [0.91       0.26666667 0.07777778 0.06666667]\n",
      "  [0.91666667 0.28888889 0.04444444 0.06666667]]]\n"
     ]
    }
   ],
   "source": [
    "cost = []\n",
    "mat = rnf(matric,cost)\n",
    "print(np.array(mat))"
   ]
  },
  {
   "cell_type": "code",
   "execution_count": 10,
   "metadata": {},
   "outputs": [
    {
     "name": "stdout",
     "output_type": "stream",
     "text": [
      "[0.39000031 0.38221152 0.36660633]\n",
      "[0.24644444 0.24055556 0.23333333]\n",
      "[0.31760286 0.31083219 0.30250515]\n",
      "[0.18982715 0.18495768 0.17899836]\n",
      "[0.16281884 0.15839506 0.1529897 ]\n",
      "[0.0745303  0.07092387 0.06655976]\n",
      "[0.37729612 0.36878214 0.35831369]\n",
      "[0.3274961  0.32083818 0.31264334]\n",
      "[0.19607085 0.19125386 0.18535357]\n",
      "[0.1542147 0.1497242 0.1473839]\n",
      "[0.1407147  0.13684515 0.1321198 ]\n",
      "[0.04146531 0.03902904 0.04166112]\n",
      "[0.03007049 0.0286394  0.02888529]\n"
     ]
    }
   ],
   "source": [
    "for i in range(13):\n",
    "    print(np.array(ej(mat,i)))"
   ]
  },
  {
   "cell_type": "code",
   "execution_count": 11,
   "metadata": {},
   "outputs": [
    {
     "name": "stdout",
     "output_type": "stream",
     "text": [
      "[0.00145265 0.00092743 0.00036301]\n",
      "[0.02794444 0.02272222 0.01361111]\n",
      "[0.02035898 0.01650233 0.0098595 ]\n",
      "[0.03954665 0.03234744 0.01947519]\n",
      "[0.04335178 0.03546572 0.02135424]\n",
      "[0.04386162 0.03568018 0.02137743]\n",
      "[0.00135493 0.00075645 0.00027975]\n",
      "[0.02195588 0.01784894 0.01069086]\n",
      "[0.04260309 0.03495829 0.0211061 ]\n",
      "[0.20713633 0.21067243 0.13863539]\n",
      "[0.07849501 0.06697023 0.04060688]\n",
      "[0.32585662 0.3075638  0.22367004]\n",
      "[0.05206322 0.05549296 0.03057516]\n"
     ]
    }
   ],
   "source": [
    "for i in range(13):\n",
    "    print(np.array(cj(mat,i)))"
   ]
  },
  {
   "cell_type": "code",
   "execution_count": 12,
   "metadata": {},
   "outputs": [
    {
     "name": "stdout",
     "output_type": "stream",
     "text": [
      "[0.73333396 0.74264112 0.72379769 0.70032419 0.73093583]\n",
      "[0.77415917 0.78259131 0.7647195  0.7412875  0.77212936]\n",
      "[0.73794396 0.74609399 0.72886904 0.70686882 0.73596697]\n",
      "[0.80333959 0.81180995 0.79380298 0.769665   0.8013081 ]\n",
      "[0.82180239 0.83017232 0.81234011 0.78806528 0.81979971]\n",
      "[0.91279657 0.92010391 0.90437671 0.88097115 0.91109754]\n",
      "[0.72974552 0.73776812 0.72081621 0.69928586 0.72779553]\n",
      "[0.72973617 0.73777373 0.72079462 0.69922854 0.72778176]\n",
      "[0.79517396 0.80367511 0.78561643 0.76157607 0.79313067]\n",
      "[0.92006595 0.93711974 0.8968314  0.85875266 0.91766176]\n",
      "[0.94612525 0.95829057 0.92874515 0.89768831 0.94409306]\n",
      "[0.99338245 0.99590847 0.98909052 0.97884222 0.99316581]\n",
      "[0.99547914 0.99720881 0.99254253 0.98520897 0.99529403]\n"
     ]
    }
   ],
   "source": [
    "visual = []\n",
    "for i in range(13):\n",
    "    print(np.array(S(mat,i)))\n",
    "    visual.append(S(mat,i))"
   ]
  },
  {
   "cell_type": "code",
   "execution_count": 13,
   "metadata": {},
   "outputs": [
    {
     "name": "stdout",
     "output_type": "stream",
     "text": [
      "[0.86430288 0.86649352 0.85946666 0.84942533 0.86408667]\n",
      "[0.77415917 0.78259131 0.7647195  0.7412875  0.77212936]\n",
      "[0.82713044 0.83397358 0.81944431 0.80014763 0.82548753]\n",
      "[0.70624186 0.71619082 0.69515296 0.66807577 0.70383603]\n",
      "[0.68021202 0.69088945 0.66832509 0.6394096  0.67762836]\n",
      "[0.65264315 0.66510067 0.63875996 0.60469082 0.64964363]\n",
      "[0.93768444 0.94224296 0.93248913 0.91844906 0.93662694]\n",
      "[0.8207415  0.82756689 0.81308374 0.79397036 0.81909864]\n",
      "[0.69600019 0.7058621  0.68502217 0.65836305 0.69361067]\n",
      "[0.30003498 0.30289376 0.2990344  0.28839868 0.29892625]\n",
      "[0.57061328 0.58216821 0.55960475 0.52731849 0.56745432]\n",
      "[0.23092047 0.23501479 0.23253017 0.21931761 0.22883586]\n",
      "[0.46042918 0.46914798 0.46264148 0.43471137 0.45627124]\n"
     ]
    }
   ],
   "source": [
    "for i in range(13):\n",
    "    print(np.array(Spos(mat,i)))"
   ]
  },
  {
   "cell_type": "code",
   "execution_count": 14,
   "metadata": {},
   "outputs": [
    {
     "name": "stdout",
     "output_type": "stream",
     "text": [
      "[0.31429095 0.30027935 0.3279738  0.3634777  0.31807822]\n",
      "[0.22584083 0.21740869 0.2352805  0.2587125  0.22787064]\n",
      "[0.29372763 0.28381265 0.30482393 0.33181294 0.29614912]\n",
      "[0.17289054 0.16602406 0.18057184 0.19993274 0.17452278]\n",
      "[0.1474955  0.14133469 0.15439076 0.17195669 0.14894958]\n",
      "[0.06234984 0.0577532  0.06753859 0.08170035 0.06339049]\n",
      "[0.34726274 0.3349103  0.36116814 0.39496097 0.35030999]\n",
      "[0.30396841 0.29414137 0.31495428 0.34152443 0.30637425]\n",
      "[0.17928023 0.17243074 0.18693283 0.20611139 0.18091189]\n",
      "[0.02606662 0.02032402 0.03439995 0.04743572 0.02682149]\n",
      "[0.03249215 0.02533877 0.0429338  0.06009975 0.03360329]\n",
      "[0.00153831 0.00096552 0.00256476 0.00474057 0.00157467]\n",
      "[0.00209099 0.00131315 0.00347606 0.00652636 0.00215735]\n"
     ]
    }
   ],
   "source": [
    "for i in range(13):\n",
    "    print(np.array(Sneg(mat,i)))"
   ]
  },
  {
   "cell_type": "code",
   "execution_count": 15,
   "metadata": {},
   "outputs": [
    {
     "name": "stdout",
     "output_type": "stream",
     "text": [
      "[0.73333396 0.74264112 0.72379769 0.70032419 0.73093583]\n",
      "[0.77415917 0.78259131 0.7647195  0.7412875  0.77212936]\n",
      "[0.73794396 0.74609399 0.72886904 0.70686882 0.73596697]\n",
      "[0.80333959 0.81180995 0.79380298 0.769665   0.8013081 ]\n",
      "[0.82180239 0.83017232 0.81234011 0.78806528 0.81979971]\n",
      "[0.91279657 0.92010391 0.90437671 0.88097115 0.91109754]\n",
      "[0.72974552 0.73776812 0.72081621 0.69928586 0.72779553]\n",
      "[0.72973617 0.73777373 0.72079462 0.69922854 0.72778176]\n",
      "[0.79517396 0.80367511 0.78561643 0.76157607 0.79313067]\n",
      "[0.92006595 0.93711974 0.8968314  0.85875266 0.91766176]\n",
      "[0.94612525 0.95829057 0.92874515 0.89768831 0.94409306]\n",
      "[0.99338245 0.99590847 0.98909052 0.97884222 0.99316581]\n",
      "[0.99547914 0.99720881 0.99254253 0.98520897 0.99529403]\n"
     ]
    }
   ],
   "source": [
    "for i in range(13):\n",
    "    print(np.array(S(mat,i)))"
   ]
  },
  {
   "cell_type": "code",
   "execution_count": 16,
   "metadata": {},
   "outputs": [
    {
     "name": "stdout",
     "output_type": "stream",
     "text": [
      "Similarity no. 1 : [4 3 5 1 2]\n",
      "Similarity no. 2 : [4 3 5 1 2]\n",
      "Similarity no. 3 : [4 3 5 1 2]\n",
      "Similarity no. 4 : [4 3 5 1 2]\n",
      "Similarity no. 5 : [4 3 5 1 2]\n",
      "Similarity no. 6 : [4 3 5 1 2]\n",
      "Similarity no. 7 : [4 3 5 1 2]\n",
      "Similarity no. 8 : [4 3 5 1 2]\n",
      "Similarity no. 9 : [4 3 5 1 2]\n",
      "Similarity no. 10 : [4 3 5 1 2]\n",
      "Similarity no. 11 : [4 3 5 1 2]\n",
      "Similarity no. 12 : [4 3 5 1 2]\n",
      "Similarity no. 13 : [4 3 5 1 2]\n"
     ]
    }
   ],
   "source": [
    "for i in range(13):\n",
    "    print(\"Similarity no.\",i+1,\":\",np.array(rank(mat,i)))"
   ]
  },
  {
   "cell_type": "code",
   "execution_count": 17,
   "metadata": {},
   "outputs": [
    {
     "name": "stdout",
     "output_type": "stream",
     "text": [
      "Similarity no. 1 : 2\n",
      "Similarity no. 2 : 2\n",
      "Similarity no. 3 : 2\n",
      "Similarity no. 4 : 2\n",
      "Similarity no. 5 : 2\n",
      "Similarity no. 6 : 2\n",
      "Similarity no. 7 : 2\n",
      "Similarity no. 8 : 2\n",
      "Similarity no. 9 : 2\n",
      "Similarity no. 10 : 2\n",
      "Similarity no. 11 : 2\n",
      "Similarity no. 12 : 2\n",
      "Similarity no. 13 : 2\n"
     ]
    }
   ],
   "source": [
    " for i in range(13):\n",
    "    print(\"Similarity no.\",i+1,\":\",alt(mat,i))"
   ]
  },
  {
   "cell_type": "code",
   "execution_count": 18,
   "metadata": {},
   "outputs": [
    {
     "name": "stderr",
     "output_type": "stream",
     "text": [
      "The PostScript backend does not support transparency; partially transparent artists will be rendered opaque.\n",
      "The PostScript backend does not support transparency; partially transparent artists will be rendered opaque.\n"
     ]
    },
    {
     "data": {
      "image/png": "[encoded data removed]",
      "text/plain": [
       "<Figure size 720x324 with 1 Axes>"
      ]
     },
     "metadata": {
      "needs_background": "light"
     },
     "output_type": "display_data"
    }
   ],
   "source": [
    "import matplotlib.pyplot as plt\n",
    "xaxis = [1,2,3,4,5,6,7,8,9,10,11,12,13]\n",
    "plt.plot(xaxis,[visual[i][0] for i in range(13)],\n",
    "         'go-', color='blue', label='A', marker='o')\n",
    "plt.plot(xaxis,[visual[i][1] for i in range(13)],\n",
    "         'go-', color='green', label='A1', marker='o')\n",
    "plt.plot(xaxis,[visual[i][2] for i in range(13)],\n",
    "         'go-', color='red', label='B', marker='o')\n",
    "plt.plot(xaxis,[visual[i][3] for i in range(13)],\n",
    "         'go-', color='cyan', label='C', marker='o')\n",
    "plt.plot(xaxis,[visual[i][4] for i in range(13)],\n",
    "         'go-', color='magenta', label='D', marker='o')\n",
    "plt.xticks(xaxis,[\"IM1\",\"IM2\",\"IM3\",\"IM4\",\"IM5\",\"IM6\",\"IM7\",\"IM8\",\"IM9\",\"IM10\",\"IM11\",\"IM12\",\"IM13\"])\n",
    "plt.xlabel(\"Information Measures\")\n",
    "plt.ylabel(\"Combination Scores\")\n",
    "plt.title(\"The visualization of combination scores Si and rank of combinations \\n using information measures IMi\")\n",
    "figure = plt.gcf()\n",
    "figure.set_size_inches(10,4.5)\n",
    "plt.legend(loc='upper center', ncol=5)\n",
    "plt.savefig('decision making.eps', format='eps')\n",
    "plt.show()"
   ]
  },
  {
   "cell_type": "code",
   "execution_count": 19,
   "metadata": {},
   "outputs": [],
   "source": [
    "# 9\t8\t9.4\tLý\t7.5\tHóa\t6.75\tSinh\t8.25\n",
    "# Khối A: 23.25đ Khối A1: 25.9đ Khối B: 24đ. Khối D: 26.4đ"
   ]
  }
 ],
 "metadata": {
  "kernelspec": {
   "display_name": "Python 3",
   "language": "python",
   "name": "python3"
  },
  "language_info": {
   "codemirror_mode": {
    "name": "ipython",
    "version": 3
   },
   "file_extension": ".py",
   "mimetype": "text/x-python",
   "name": "python",
   "nbconvert_exporter": "python",
   "pygments_lexer": "ipython3",
   "version": "3.8.8"
  }
 },
 "nbformat": 4,
 "nbformat_minor": 4
}

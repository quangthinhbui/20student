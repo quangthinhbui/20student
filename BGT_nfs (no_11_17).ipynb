{
 "cells": [
  {
   "cell_type": "code",
   "execution_count": 1,
   "metadata": {},
   "outputs": [
    {
     "data": {
      "text/html": [
       "<div>\n",
       "<style scoped>\n",
       "    .dataframe tbody tr th:only-of-type {\n",
       "        vertical-align: middle;\n",
       "    }\n",
       "\n",
       "    .dataframe tbody tr th {\n",
       "        vertical-align: top;\n",
       "    }\n",
       "\n",
       "    .dataframe thead th {\n",
       "        text-align: right;\n",
       "    }\n",
       "</style>\n",
       "<table border=\"1\" class=\"dataframe\">\n",
       "  <thead>\n",
       "    <tr style=\"text-align: right;\">\n",
       "      <th></th>\n",
       "      <th>T10</th>\n",
       "      <th>T10_T</th>\n",
       "      <th>T10_F</th>\n",
       "      <th>T10_I</th>\n",
       "      <th>L10</th>\n",
       "      <th>L10_T</th>\n",
       "      <th>L10_F</th>\n",
       "      <th>L10_I</th>\n",
       "      <th>H10</th>\n",
       "      <th>H10_T</th>\n",
       "      <th>...</th>\n",
       "      <th>SU12_F</th>\n",
       "      <th>SU12_I</th>\n",
       "      <th>D12</th>\n",
       "      <th>D12_T</th>\n",
       "      <th>D12_F</th>\n",
       "      <th>D12_I</th>\n",
       "      <th>AV12</th>\n",
       "      <th>AV12_T</th>\n",
       "      <th>AV12_F</th>\n",
       "      <th>AV12_I</th>\n",
       "    </tr>\n",
       "  </thead>\n",
       "  <tbody>\n",
       "    <tr>\n",
       "      <th>0</th>\n",
       "      <td>9.3</td>\n",
       "      <td>10</td>\n",
       "      <td>0</td>\n",
       "      <td>0</td>\n",
       "      <td>7.7</td>\n",
       "      <td>8</td>\n",
       "      <td>2</td>\n",
       "      <td>2</td>\n",
       "      <td>8.6</td>\n",
       "      <td>8</td>\n",
       "      <td>...</td>\n",
       "      <td>0</td>\n",
       "      <td>0</td>\n",
       "      <td>8.9</td>\n",
       "      <td>10</td>\n",
       "      <td>0</td>\n",
       "      <td>0</td>\n",
       "      <td>7.8</td>\n",
       "      <td>10</td>\n",
       "      <td>0</td>\n",
       "      <td>0</td>\n",
       "    </tr>\n",
       "    <tr>\n",
       "      <th>1</th>\n",
       "      <td>9.1</td>\n",
       "      <td>9</td>\n",
       "      <td>1</td>\n",
       "      <td>1</td>\n",
       "      <td>7.1</td>\n",
       "      <td>9</td>\n",
       "      <td>2</td>\n",
       "      <td>5</td>\n",
       "      <td>8.0</td>\n",
       "      <td>7</td>\n",
       "      <td>...</td>\n",
       "      <td>5</td>\n",
       "      <td>4</td>\n",
       "      <td>8.8</td>\n",
       "      <td>7</td>\n",
       "      <td>1</td>\n",
       "      <td>1</td>\n",
       "      <td>7.6</td>\n",
       "      <td>7</td>\n",
       "      <td>6</td>\n",
       "      <td>4</td>\n",
       "    </tr>\n",
       "    <tr>\n",
       "      <th>2</th>\n",
       "      <td>9.4</td>\n",
       "      <td>8</td>\n",
       "      <td>2</td>\n",
       "      <td>2</td>\n",
       "      <td>7.6</td>\n",
       "      <td>10</td>\n",
       "      <td>0</td>\n",
       "      <td>0</td>\n",
       "      <td>9.0</td>\n",
       "      <td>10</td>\n",
       "      <td>...</td>\n",
       "      <td>0</td>\n",
       "      <td>0</td>\n",
       "      <td>9.0</td>\n",
       "      <td>10</td>\n",
       "      <td>0</td>\n",
       "      <td>0</td>\n",
       "      <td>9.0</td>\n",
       "      <td>10</td>\n",
       "      <td>0</td>\n",
       "      <td>0</td>\n",
       "    </tr>\n",
       "    <tr>\n",
       "      <th>3</th>\n",
       "      <td>9.3</td>\n",
       "      <td>9</td>\n",
       "      <td>0</td>\n",
       "      <td>9</td>\n",
       "      <td>7.1</td>\n",
       "      <td>9</td>\n",
       "      <td>8</td>\n",
       "      <td>8</td>\n",
       "      <td>8.7</td>\n",
       "      <td>9</td>\n",
       "      <td>...</td>\n",
       "      <td>8</td>\n",
       "      <td>6</td>\n",
       "      <td>8.2</td>\n",
       "      <td>9</td>\n",
       "      <td>7</td>\n",
       "      <td>6</td>\n",
       "      <td>8.3</td>\n",
       "      <td>8</td>\n",
       "      <td>8</td>\n",
       "      <td>9</td>\n",
       "    </tr>\n",
       "    <tr>\n",
       "      <th>4</th>\n",
       "      <td>9.3</td>\n",
       "      <td>8</td>\n",
       "      <td>2</td>\n",
       "      <td>3</td>\n",
       "      <td>9.6</td>\n",
       "      <td>6</td>\n",
       "      <td>4</td>\n",
       "      <td>6</td>\n",
       "      <td>8.6</td>\n",
       "      <td>7</td>\n",
       "      <td>...</td>\n",
       "      <td>7</td>\n",
       "      <td>4</td>\n",
       "      <td>9.6</td>\n",
       "      <td>6</td>\n",
       "      <td>4</td>\n",
       "      <td>5</td>\n",
       "      <td>9.4</td>\n",
       "      <td>6</td>\n",
       "      <td>4</td>\n",
       "      <td>5</td>\n",
       "    </tr>\n",
       "  </tbody>\n",
       "</table>\n",
       "<p>5 rows × 96 columns</p>\n",
       "</div>"
      ],
      "text/plain": [
       "   T10  T10_T  T10_F  T10_I  L10  L10_T  L10_F  L10_I  H10  H10_T  ...  \\\n",
       "0  9.3     10      0      0  7.7      8      2      2  8.6      8  ...   \n",
       "1  9.1      9      1      1  7.1      9      2      5  8.0      7  ...   \n",
       "2  9.4      8      2      2  7.6     10      0      0  9.0     10  ...   \n",
       "3  9.3      9      0      9  7.1      9      8      8  8.7      9  ...   \n",
       "4  9.3      8      2      3  9.6      6      4      6  8.6      7  ...   \n",
       "\n",
       "   SU12_F  SU12_I  D12  D12_T  D12_F  D12_I  AV12  AV12_T  AV12_F  AV12_I  \n",
       "0       0       0  8.9     10      0      0   7.8      10       0       0  \n",
       "1       5       4  8.8      7      1      1   7.6       7       6       4  \n",
       "2       0       0  9.0     10      0      0   9.0      10       0       0  \n",
       "3       8       6  8.2      9      7      6   8.3       8       8       9  \n",
       "4       7       4  9.6      6      4      5   9.4       6       4       5  \n",
       "\n",
       "[5 rows x 96 columns]"
      ]
     },
     "execution_count": 1,
     "metadata": {},
     "output_type": "execute_result"
    }
   ],
   "source": [
    "import pandas as pd\n",
    "import numpy as np\n",
    "\n",
    "data = pd.read_csv(\"BGT.csv\") \n",
    "data.head(5)\n",
    "#print(data)"
   ]
  },
  {
   "cell_type": "code",
   "execution_count": 2,
   "metadata": {},
   "outputs": [
    {
     "name": "stdout",
     "output_type": "stream",
     "text": [
      "[9.1 9.  1.  5.  9.1 7.  4.  8.  8.  9.  2.  7.  8.8 5.  7.  8.  9.1 7.\n",
      " 3.  0.  8.3 8.  3.  4.  9.1 9.  1.  5.  7.5 5.  9.  1.  9.6 8.  2.  6.\n",
      " 8.8 8.  2.  5.  8.4 8.  1.  6.  9.3 9.  0.  1.  9.2 7.  3.  0.  9.  7.\n",
      " 3.  5.  9.  7.  3.  4.  8.6 6.  4.  2.  9.3 8.  2.  2.  7.8 8.  3.  2.\n",
      " 7.8 8.  2.  4.  7.8 5.  5.  4.  9.2 8.  2.  5.  8.2 7.  3.  7.  9.2 5.\n",
      " 4.  5.  9.  8.  2.  5. ]\n"
     ]
    }
   ],
   "source": [
    "duc = np.array(data[11:12])[0]\n",
    "print(duc)"
   ]
  },
  {
   "cell_type": "code",
   "execution_count": 3,
   "metadata": {},
   "outputs": [
    {
     "name": "stdout",
     "output_type": "stream",
     "text": [
      "[9.1 9.  1.  5. ]\n",
      "[9.1 7.  4.  8. ]\n",
      "[8. 9. 2. 7.]\n",
      "[8.73333333 8.33333333 2.33333333 6.66666667]\n",
      "[9.6 8.  2.  6. ]\n",
      "[8.8 8.  2.  5. ]\n",
      "[8.4 8.  1.  6. ]\n",
      "[8.93333333 8.         1.66666667 5.66666667]\n",
      "[9.3 8.  2.  2. ]\n",
      "[7.8 8.  3.  2. ]\n",
      "[7.8 8.  2.  4. ]\n",
      "[8.3        8.         2.33333333 2.66666667]\n"
     ]
    }
   ],
   "source": [
    "T10 = duc[0:4]\n",
    "print(T10)\n",
    "L10 = duc[4:8]\n",
    "print(L10)\n",
    "H10 = duc[8:12]\n",
    "print(H10)\n",
    "A10 = np.mean(np.array([T10,L10,H10]),axis=0)\n",
    "print(A10)\n",
    "\n",
    "T11 = duc[32:36]\n",
    "print(T11)\n",
    "L11 = duc[36:40]\n",
    "print(L11)\n",
    "H11 = duc[40:44]\n",
    "print(H11)\n",
    "A11 = np.mean(np.array([T11,L11,H11]),axis=0)\n",
    "print(A11)\n",
    "\n",
    "T12 = duc[64:68]\n",
    "print(T12)\n",
    "L12 = duc[68:72]\n",
    "print(L12)\n",
    "H12 = duc[72:76]\n",
    "print(H12)\n",
    "A12 = np.mean(np.array([T12,L12,H12]),axis=0)\n",
    "print(A12)\n",
    "\n",
    "A = [A10,A11,A12]"
   ]
  },
  {
   "cell_type": "code",
   "execution_count": 4,
   "metadata": {},
   "outputs": [
    {
     "name": "stdout",
     "output_type": "stream",
     "text": [
      "[9.1 9.  1.  5. ]\n",
      "[9.1 7.  4.  8. ]\n",
      "[7.5 5.  9.  1. ]\n",
      "[8.56666667 7.         4.66666667 4.66666667]\n",
      "[9.6 8.  2.  6. ]\n",
      "[8.8 8.  2.  5. ]\n",
      "[8.6 6.  4.  2. ]\n",
      "[9.         7.33333333 2.66666667 4.33333333]\n",
      "[9.3 8.  2.  2. ]\n",
      "[7.8 8.  3.  2. ]\n",
      "[9. 8. 2. 5.]\n",
      "[8.7        8.         2.33333333 3.        ]\n"
     ]
    }
   ],
   "source": [
    "T10 = duc[0:4]\n",
    "print(T10)\n",
    "L10 = duc[4:8]\n",
    "print(L10)\n",
    "A10 = duc[28:32]\n",
    "print(A10)\n",
    "A110 = np.mean(np.array([T10,L10,A10]),axis=0)\n",
    "print(A110)\n",
    "\n",
    "T11 = duc[32:36]\n",
    "print(T11)\n",
    "L11 = duc[36:40]\n",
    "print(L11)\n",
    "A11 = duc[60:64]\n",
    "print(A11)\n",
    "A111 = np.mean(np.array([T11,L11,A11]),axis=0)\n",
    "print(A111)\n",
    "\n",
    "T12 = duc[64:68]\n",
    "print(T12)\n",
    "L12 = duc[68:72]\n",
    "print(L12)\n",
    "A12 = duc[92:96]\n",
    "print(A12)\n",
    "A112 = np.mean(np.array([T12,L12,A12]),axis=0)\n",
    "print(A112)\n",
    "\n",
    "A1 = [A110,A111,A112]"
   ]
  },
  {
   "cell_type": "code",
   "execution_count": 5,
   "metadata": {},
   "outputs": [
    {
     "name": "stdout",
     "output_type": "stream",
     "text": [
      "[9.1 9.  1.  5. ]\n",
      "[8. 9. 2. 7.]\n",
      "[8.8 5.  7.  8. ]\n",
      "[7.5 5.  9.  1. ]\n",
      "[9.6 8.  2.  6. ]\n",
      "[8.4 8.  1.  6. ]\n",
      "[9.3 9.  0.  1. ]\n",
      "[9.1        8.33333333 1.         4.33333333]\n",
      "[9.3 8.  2.  2. ]\n",
      "[7.8 8.  2.  4. ]\n",
      "[7.8 5.  5.  4. ]\n",
      "[8.3        7.         3.         3.33333333]\n"
     ]
    }
   ],
   "source": [
    "T10 = duc[0:4]\n",
    "print(T10)\n",
    "H10 = duc[8:12]\n",
    "print(H10)\n",
    "SI10 = duc[12:16]\n",
    "print(SI10)\n",
    "B10 = np.mean(np.array([T10,H10,SI10]),axis=0)\n",
    "print(A10)\n",
    "\n",
    "T11 = duc[32:36]\n",
    "print(T11)\n",
    "H11 = duc[40:44]\n",
    "print(H11)\n",
    "SI11 = duc[44:48]\n",
    "print(SI11)\n",
    "B11 = np.mean(np.array([T11,H11,SI11]),axis=0)\n",
    "print(B11)\n",
    "\n",
    "T12 = duc[64:68]\n",
    "print(T12)\n",
    "H12 = duc[72:76]\n",
    "print(H12)\n",
    "SI12 = duc[76:80]\n",
    "print(SI12)\n",
    "B12 = np.mean(np.array([T12,H12,SI12]),axis=0)\n",
    "print(B12)\n",
    "\n",
    "B = [B10,B11,B12]"
   ]
  },
  {
   "cell_type": "code",
   "execution_count": 6,
   "metadata": {},
   "outputs": [
    {
     "name": "stdout",
     "output_type": "stream",
     "text": [
      "[9.1 7.  3.  0. ]\n",
      "[8.3 8.  3.  4. ]\n",
      "[9.1 9.  1.  5. ]\n",
      "[7.5 5.  9.  1. ]\n",
      "[9.2 7.  3.  0. ]\n",
      "[9. 7. 3. 5.]\n",
      "[9. 7. 3. 4.]\n",
      "[9.1        8.33333333 1.         4.33333333]\n",
      "[9.2 8.  2.  5. ]\n",
      "[8.2 7.  3.  7. ]\n",
      "[9.2 5.  4.  5. ]\n",
      "[8.3        7.         3.         3.33333333]\n"
     ]
    }
   ],
   "source": [
    "V10 = duc[16:20]\n",
    "print(V10)\n",
    "SU10 = duc[20:24]\n",
    "print(SU10)\n",
    "D10 = duc[24:28]\n",
    "print(D10)\n",
    "C10 = np.mean(np.array([V10,SU10,D10]),axis=0)\n",
    "print(A10)\n",
    "\n",
    "V11 = duc[48:52]\n",
    "print(V11)\n",
    "SU11 = duc[52:56]\n",
    "print(SU11)\n",
    "D11 = duc[56:60]\n",
    "print(D11)\n",
    "C11 = np.mean(np.array([V11,SU11,D11]),axis=0)\n",
    "print(B11)\n",
    "\n",
    "V12 = duc[80:84]\n",
    "print(V12)\n",
    "SU12 = duc[84:88]\n",
    "print(SU12)\n",
    "D12 = duc[88:92]\n",
    "print(D12)\n",
    "C12 = np.mean(np.array([V12,SU12,D12]),axis=0)\n",
    "print(B12)\n",
    "\n",
    "C = [C10,C11,C12]"
   ]
  },
  {
   "cell_type": "code",
   "execution_count": 7,
   "metadata": {},
   "outputs": [
    {
     "name": "stdout",
     "output_type": "stream",
     "text": [
      "[9.1 9.  1.  5. ]\n",
      "[9.1 7.  3.  0. ]\n",
      "[7.5 5.  9.  1. ]\n",
      "[8.56666667 7.         4.33333333 2.        ]\n",
      "[9.6 8.  2.  6. ]\n",
      "[9.2 7.  3.  0. ]\n",
      "[8.6 6.  4.  2. ]\n",
      "[9.13333333 7.         3.         2.66666667]\n",
      "[9.3 8.  2.  2. ]\n",
      "[9.2 8.  2.  5. ]\n",
      "[9. 8. 2. 5.]\n",
      "[9.16666667 8.         2.         4.        ]\n"
     ]
    }
   ],
   "source": [
    "T10 = duc[0:4]\n",
    "print(T10)\n",
    "V10 = duc[16:20]\n",
    "print(V10)\n",
    "A10 = duc[28:32]\n",
    "print(A10)\n",
    "DD10 = np.mean(np.array([T10,V10,A10]),axis=0)\n",
    "print(DD10)\n",
    "\n",
    "T11 = duc[32:36]\n",
    "print(T11)\n",
    "V11 = duc[48:52]\n",
    "print(V11)\n",
    "A11 = duc[60:64]\n",
    "print(A11)\n",
    "DD11 = np.mean(np.array([T11,V11,A11]),axis=0)\n",
    "print(DD11)\n",
    "\n",
    "T12 = duc[64:68]\n",
    "print(T12)\n",
    "V12 = duc[80:84]\n",
    "print(V12)\n",
    "A12 = duc[92:96]\n",
    "print(A12)\n",
    "DD12 = np.mean(np.array([T12,V12,A12]),axis=0)\n",
    "print(DD12)\n",
    "\n",
    "D = [DD10,DD11,DD12]"
   ]
  },
  {
   "cell_type": "code",
   "execution_count": 8,
   "metadata": {},
   "outputs": [
    {
     "name": "stdout",
     "output_type": "stream",
     "text": [
      "[[[0.87333333 0.27777778 0.22222222 0.07777778]\n",
      "  [0.89333333 0.26666667 0.18888889 0.05555556]\n",
      "  [0.83       0.26666667 0.08888889 0.07777778]]\n",
      "\n",
      " [[0.85666667 0.23333333 0.15555556 0.15555556]\n",
      "  [0.9        0.24444444 0.14444444 0.08888889]\n",
      "  [0.87       0.26666667 0.1        0.07777778]]\n",
      "\n",
      " [[0.86333333 0.25555556 0.22222222 0.11111111]\n",
      "  [0.91       0.27777778 0.14444444 0.03333333]\n",
      "  [0.83       0.23333333 0.11111111 0.1       ]]\n",
      "\n",
      " [[0.88333333 0.26666667 0.1        0.07777778]\n",
      "  [0.90666667 0.23333333 0.1        0.1       ]\n",
      "  [0.88666667 0.22222222 0.18888889 0.1       ]]\n",
      "\n",
      " [[0.85666667 0.23333333 0.06666667 0.14444444]\n",
      "  [0.91333333 0.23333333 0.08888889 0.1       ]\n",
      "  [0.91666667 0.26666667 0.13333333 0.06666667]]]\n"
     ]
    }
   ],
   "source": [
    "from nfs import *\n",
    "\n",
    "def change(A):\n",
    "    Aok = []\n",
    "    for i in range(3):\n",
    "        temp = []\n",
    "        for j in range(4):\n",
    "            if j == 0:\n",
    "                temp.append(A[i][j]/10)\n",
    "            if j == 1:\n",
    "                temp.append(A[i][j]/30)\n",
    "            if j == 2:\n",
    "                temp.append(A[i][j+1]/30)\n",
    "            if j == 3:\n",
    "                temp.append(A[i][j-1]/30)\n",
    "        Aok.append(temp)\n",
    "    return(Aok)\n",
    "\n",
    "matrix = np.array([change(A),change(A1),change(B),change(C),change(D)])\n",
    "print(matrix)\n",
    "\n",
    "def rtc(A):\n",
    "    rtc = []\n",
    "    for i in range(3):\n",
    "        temp = []\n",
    "        for j in range(5):\n",
    "            temp.append(A[j][i])\n",
    "        rtc.append(temp)\n",
    "    return np.array(rtc)\n",
    "matric = rtc(matrix)"
   ]
  },
  {
   "cell_type": "code",
   "execution_count": 9,
   "metadata": {},
   "outputs": [
    {
     "name": "stdout",
     "output_type": "stream",
     "text": [
      "[[[0.87333333 0.27777778 0.22222222 0.07777778]\n",
      "  [0.85666667 0.23333333 0.15555556 0.15555556]\n",
      "  [0.86333333 0.25555556 0.22222222 0.11111111]\n",
      "  [0.88333333 0.26666667 0.1        0.07777778]\n",
      "  [0.85666667 0.23333333 0.06666667 0.14444444]]\n",
      "\n",
      " [[0.89333333 0.26666667 0.18888889 0.05555556]\n",
      "  [0.9        0.24444444 0.14444444 0.08888889]\n",
      "  [0.91       0.27777778 0.14444444 0.03333333]\n",
      "  [0.90666667 0.23333333 0.1        0.1       ]\n",
      "  [0.91333333 0.23333333 0.08888889 0.1       ]]\n",
      "\n",
      " [[0.83       0.26666667 0.08888889 0.07777778]\n",
      "  [0.87       0.26666667 0.1        0.07777778]\n",
      "  [0.83       0.23333333 0.11111111 0.1       ]\n",
      "  [0.88666667 0.22222222 0.18888889 0.1       ]\n",
      "  [0.91666667 0.26666667 0.13333333 0.06666667]]]\n"
     ]
    }
   ],
   "source": [
    "cost = []\n",
    "mat = rnf(matric,cost)\n",
    "print(np.array(mat))"
   ]
  },
  {
   "cell_type": "code",
   "execution_count": 10,
   "metadata": {},
   "outputs": [
    {
     "name": "stdout",
     "output_type": "stream",
     "text": [
      "[0.51802992 0.44631711 0.47554123]\n",
      "[0.32666667 0.27766667 0.29666667]\n",
      "[0.40735601 0.353347   0.37472698]\n",
      "[0.25755492 0.21572685 0.23168569]\n",
      "[0.22527885 0.18640342 0.20106863]\n",
      "[0.1299624  0.09403559 0.10683549]\n",
      "[0.49025053 0.42226334 0.44921581]\n",
      "[0.41511357 0.36260197 0.38349338]\n",
      "[0.26253121 0.22165738 0.23734035]\n"
     ]
    }
   ],
   "source": [
    "for i in range(9):\n",
    "    print(np.array(ej(mat,i)))"
   ]
  },
  {
   "cell_type": "code",
   "execution_count": 11,
   "metadata": {},
   "outputs": [
    {
     "name": "stdout",
     "output_type": "stream",
     "text": [
      "[0.00358428 0.00156111 0.00192614]\n",
      "[0.04238889 0.02972222 0.03372222]\n",
      "[0.03094668 0.0216339  0.02456182]\n",
      "[0.05974956 0.04213431 0.04774371]\n",
      "[0.06549232 0.04619163 0.05233954]\n",
      "[0.06651716 0.04666064 0.05293588]\n",
      "[0.00248308 0.00130831 0.00159387]\n",
      "[0.03330896 0.02335051 0.02649409]\n",
      "[0.06422726 0.04543053 0.0514431 ]\n"
     ]
    }
   ],
   "source": [
    "for i in range(9):\n",
    "    print(np.array(cj(mat,i)))"
   ]
  },
  {
   "cell_type": "code",
   "execution_count": 12,
   "metadata": {},
   "outputs": [
    {
     "name": "stdout",
     "output_type": "stream",
     "text": [
      "[0.68224018 0.68016328 0.68010438 0.68688122 0.6947876 ]\n",
      "[0.72486614 0.72104036 0.72109957 0.72758623 0.73517806]\n",
      "[0.69170484 0.6883227  0.68847366 0.69414877 0.70121218]\n",
      "[0.75248305 0.74835279 0.74834057 0.75543625 0.76328447]\n",
      "[0.77059657 0.76631453 0.76625971 0.77362785 0.78159451]\n",
      "[0.86319578 0.85832493 0.85801707 0.86617775 0.87451593]\n",
      "[0.68453267 0.68133588 0.68157003 0.68663059 0.69383787]\n",
      "[0.68440486 0.68112566 0.6812884  0.68682124 0.6936881 ]\n",
      "[0.74453572 0.74047915 0.74048702 0.74749712 0.75523558]\n"
     ]
    }
   ],
   "source": [
    "visual = []\n",
    "for i in range(9):\n",
    "    print(np.array(S(mat,i)))\n",
    "    visual.append(S(mat,i))"
   ]
  },
  {
   "cell_type": "code",
   "execution_count": 13,
   "metadata": {},
   "outputs": [
    {
     "name": "stdout",
     "output_type": "stream",
     "text": [
      "[0.84927186 0.84339663 0.84441425 0.8420403  0.84536935]\n",
      "[0.72486614 0.72104036 0.72109957 0.72758623 0.73517806]\n",
      "[0.78651468 0.78329385 0.78334558 0.78866027 0.79511342]\n",
      "[0.6493173  0.64504888 0.64514031 0.65259916 0.66103791]\n",
      "[0.61943764 0.6149192  0.61501698 0.62298945 0.63189792]\n",
      "[0.58105312 0.57561227 0.5756496  0.58526303 0.59580673]\n",
      "[0.90811762 0.90543253 0.90537299 0.90943644 0.91475571]\n",
      "[0.78051273 0.77736277 0.77742931 0.78265706 0.78899002]\n",
      "[0.63996002 0.63580846 0.63591744 0.64321292 0.65144657]\n"
     ]
    }
   ],
   "source": [
    "for i in range(9):\n",
    "    print(np.array(Spos(mat,i)))"
   ]
  },
  {
   "cell_type": "code",
   "execution_count": 14,
   "metadata": {},
   "outputs": [
    {
     "name": "stdout",
     "output_type": "stream",
     "text": [
      "[0.3955564  0.39659478 0.39718083 0.38384895 0.37136128]\n",
      "[0.27513386 0.27895964 0.27890043 0.27241377 0.26482194]\n",
      "[0.35055223 0.35468089 0.35445479 0.34749426 0.33879932]\n",
      "[0.21358227 0.21690939 0.21695422 0.21127143 0.20500606]\n",
      "[0.18440403 0.18751788 0.18760512 0.18229367 0.1765749 ]\n",
      "[0.09208863 0.09501053 0.09525733 0.09042164 0.08549215]\n",
      "[0.41850659 0.42347521 0.42299087 0.41505515 0.40364409]\n",
      "[0.35991273 0.3639285  0.363687   0.35687825 0.34839437]\n",
      "[0.21958238 0.22283618 0.22286526 0.2172759  0.21112742]\n"
     ]
    }
   ],
   "source": [
    "for i in range(9):\n",
    "    print(np.array(Sneg(mat,i)))"
   ]
  },
  {
   "cell_type": "code",
   "execution_count": 15,
   "metadata": {},
   "outputs": [
    {
     "name": "stdout",
     "output_type": "stream",
     "text": [
      "[0.68224018 0.68016328 0.68010438 0.68688122 0.6947876 ]\n",
      "[0.72486614 0.72104036 0.72109957 0.72758623 0.73517806]\n",
      "[0.69170484 0.6883227  0.68847366 0.69414877 0.70121218]\n",
      "[0.75248305 0.74835279 0.74834057 0.75543625 0.76328447]\n",
      "[0.77059657 0.76631453 0.76625971 0.77362785 0.78159451]\n",
      "[0.86319578 0.85832493 0.85801707 0.86617775 0.87451593]\n",
      "[0.68453267 0.68133588 0.68157003 0.68663059 0.69383787]\n",
      "[0.68440486 0.68112566 0.6812884  0.68682124 0.6936881 ]\n",
      "[0.74453572 0.74047915 0.74048702 0.74749712 0.75523558]\n"
     ]
    }
   ],
   "source": [
    "for i in range(9):\n",
    "    print(np.array(S(mat,i)))"
   ]
  },
  {
   "cell_type": "code",
   "execution_count": 16,
   "metadata": {},
   "outputs": [
    {
     "name": "stdout",
     "output_type": "stream",
     "text": [
      "Similarity no. 1 : [3 2 1 4 5]\n",
      "Similarity no. 2 : [2 3 1 4 5]\n",
      "Similarity no. 3 : [2 3 1 4 5]\n",
      "Similarity no. 4 : [3 2 1 4 5]\n",
      "Similarity no. 5 : [3 2 1 4 5]\n",
      "Similarity no. 6 : [3 2 1 4 5]\n",
      "Similarity no. 7 : [2 3 1 4 5]\n",
      "Similarity no. 8 : [2 3 1 4 5]\n",
      "Similarity no. 9 : [2 3 1 4 5]\n"
     ]
    }
   ],
   "source": [
    "for i in range(9):\n",
    "    print(\"Similarity no.\",i+1,\":\",np.array(rank(mat,i)))"
   ]
  },
  {
   "cell_type": "code",
   "execution_count": 17,
   "metadata": {},
   "outputs": [
    {
     "name": "stdout",
     "output_type": "stream",
     "text": [
      "Similarity no. 1 : 5\n",
      "Similarity no. 2 : 5\n",
      "Similarity no. 3 : 5\n",
      "Similarity no. 4 : 5\n",
      "Similarity no. 5 : 5\n",
      "Similarity no. 6 : 5\n",
      "Similarity no. 7 : 5\n",
      "Similarity no. 8 : 5\n",
      "Similarity no. 9 : 5\n"
     ]
    }
   ],
   "source": [
    " for i in range(9):\n",
    "    print(\"Similarity no.\",i+1,\":\",alt(mat,i))"
   ]
  },
  {
   "cell_type": "code",
   "execution_count": 18,
   "metadata": {},
   "outputs": [
    {
     "name": "stderr",
     "output_type": "stream",
     "text": [
      "The PostScript backend does not support transparency; partially transparent artists will be rendered opaque.\n",
      "The PostScript backend does not support transparency; partially transparent artists will be rendered opaque.\n"
     ]
    },
    {
     "data": {
      "image/png": "[encoded data removed]",
      "text/plain": [
       "<Figure size 720x324 with 1 Axes>"
      ]
     },
     "metadata": {
      "needs_background": "light"
     },
     "output_type": "display_data"
    }
   ],
   "source": [
    "import matplotlib.pyplot as plt\n",
    "xaxis = [1,2,3,4,5,6,7,8,9]\n",
    "plt.plot(xaxis,[visual[i][0] for i in range(9)],\n",
    "         'go-', color='blue', label='A', marker='o')\n",
    "plt.plot(xaxis,[visual[i][1] for i in range(9)],\n",
    "         'go-', color='green', label='A1', marker='o')\n",
    "plt.plot(xaxis,[visual[i][2] for i in range(9)],\n",
    "         'go-', color='red', label='B', marker='o')\n",
    "plt.plot(xaxis,[visual[i][3] for i in range(9)],\n",
    "         'go-', color='cyan', label='C', marker='o')\n",
    "plt.plot(xaxis,[visual[i][4] for i in range(9)],\n",
    "         'go-', color='magenta', label='D', marker='o')\n",
    "plt.xticks(xaxis,[\"IM1\",\"IM2\",\"IM3\",\"IM4\",\"IM5\",\"IM6\",\"IM7\",\"IM8\",\"IM9\"])\n",
    "plt.xlabel(\"Information Measures\")\n",
    "plt.ylabel(\"Combination Scores\")\n",
    "plt.title(\"The visualization of combination scores Si and rank of combinations \\n using information measures IMi\")\n",
    "figure = plt.gcf()\n",
    "figure.set_size_inches(10,4.5)\n",
    "plt.legend(loc='upper left', ncol=5)\n",
    "plt.savefig('decision making.eps', format='eps')\n",
    "plt.show()"
   ]
  },
  {
   "cell_type": "code",
   "execution_count": 19,
   "metadata": {},
   "outputs": [],
   "source": [
    "# 8.4\t9.25\t9.2\tSử\t6.75\tĐịa\t7.25\tGDCD\t8.25\n",
    "#Khối C: 23.50đ. Khối D: 26.85đ"
   ]
  }
 ],
 "metadata": {
  "kernelspec": {
   "display_name": "Python 3",
   "language": "python",
   "name": "python3"
  },
  "language_info": {
   "codemirror_mode": {
    "name": "ipython",
    "version": 3
   },
   "file_extension": ".py",
   "mimetype": "text/x-python",
   "name": "python",
   "nbconvert_exporter": "python",
   "pygments_lexer": "ipython3",
   "version": "3.8.8"
  }
 },
 "nbformat": 4,
 "nbformat_minor": 4
}

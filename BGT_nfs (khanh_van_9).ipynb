{
 "cells": [
  {
   "cell_type": "code",
   "execution_count": 1,
   "metadata": {},
   "outputs": [
    {
     "data": {
      "text/html": [
       "<div>\n",
       "<style scoped>\n",
       "    .dataframe tbody tr th:only-of-type {\n",
       "        vertical-align: middle;\n",
       "    }\n",
       "\n",
       "    .dataframe tbody tr th {\n",
       "        vertical-align: top;\n",
       "    }\n",
       "\n",
       "    .dataframe thead th {\n",
       "        text-align: right;\n",
       "    }\n",
       "</style>\n",
       "<table border=\"1\" class=\"dataframe\">\n",
       "  <thead>\n",
       "    <tr style=\"text-align: right;\">\n",
       "      <th></th>\n",
       "      <th>T10</th>\n",
       "      <th>T10_T</th>\n",
       "      <th>T10_F</th>\n",
       "      <th>T10_I</th>\n",
       "      <th>L10</th>\n",
       "      <th>L10_T</th>\n",
       "      <th>L10_F</th>\n",
       "      <th>L10_I</th>\n",
       "      <th>H10</th>\n",
       "      <th>H10_T</th>\n",
       "      <th>...</th>\n",
       "      <th>SU12_F</th>\n",
       "      <th>SU12_I</th>\n",
       "      <th>D12</th>\n",
       "      <th>D12_T</th>\n",
       "      <th>D12_F</th>\n",
       "      <th>D12_I</th>\n",
       "      <th>AV12</th>\n",
       "      <th>AV12_T</th>\n",
       "      <th>AV12_F</th>\n",
       "      <th>AV12_I</th>\n",
       "    </tr>\n",
       "  </thead>\n",
       "  <tbody>\n",
       "    <tr>\n",
       "      <th>0</th>\n",
       "      <td>9.3</td>\n",
       "      <td>10</td>\n",
       "      <td>0</td>\n",
       "      <td>0</td>\n",
       "      <td>7.7</td>\n",
       "      <td>8</td>\n",
       "      <td>2</td>\n",
       "      <td>2</td>\n",
       "      <td>8.6</td>\n",
       "      <td>8</td>\n",
       "      <td>...</td>\n",
       "      <td>0</td>\n",
       "      <td>0</td>\n",
       "      <td>8.9</td>\n",
       "      <td>10</td>\n",
       "      <td>0</td>\n",
       "      <td>0</td>\n",
       "      <td>7.8</td>\n",
       "      <td>10</td>\n",
       "      <td>0</td>\n",
       "      <td>0</td>\n",
       "    </tr>\n",
       "    <tr>\n",
       "      <th>1</th>\n",
       "      <td>9.1</td>\n",
       "      <td>9</td>\n",
       "      <td>1</td>\n",
       "      <td>1</td>\n",
       "      <td>7.1</td>\n",
       "      <td>9</td>\n",
       "      <td>2</td>\n",
       "      <td>5</td>\n",
       "      <td>8.0</td>\n",
       "      <td>7</td>\n",
       "      <td>...</td>\n",
       "      <td>5</td>\n",
       "      <td>4</td>\n",
       "      <td>8.8</td>\n",
       "      <td>7</td>\n",
       "      <td>1</td>\n",
       "      <td>1</td>\n",
       "      <td>7.6</td>\n",
       "      <td>7</td>\n",
       "      <td>6</td>\n",
       "      <td>4</td>\n",
       "    </tr>\n",
       "    <tr>\n",
       "      <th>2</th>\n",
       "      <td>9.4</td>\n",
       "      <td>8</td>\n",
       "      <td>2</td>\n",
       "      <td>2</td>\n",
       "      <td>7.6</td>\n",
       "      <td>10</td>\n",
       "      <td>0</td>\n",
       "      <td>0</td>\n",
       "      <td>9.0</td>\n",
       "      <td>10</td>\n",
       "      <td>...</td>\n",
       "      <td>0</td>\n",
       "      <td>0</td>\n",
       "      <td>9.0</td>\n",
       "      <td>10</td>\n",
       "      <td>0</td>\n",
       "      <td>0</td>\n",
       "      <td>9.0</td>\n",
       "      <td>10</td>\n",
       "      <td>0</td>\n",
       "      <td>0</td>\n",
       "    </tr>\n",
       "    <tr>\n",
       "      <th>3</th>\n",
       "      <td>9.3</td>\n",
       "      <td>9</td>\n",
       "      <td>0</td>\n",
       "      <td>9</td>\n",
       "      <td>7.1</td>\n",
       "      <td>9</td>\n",
       "      <td>8</td>\n",
       "      <td>8</td>\n",
       "      <td>8.7</td>\n",
       "      <td>9</td>\n",
       "      <td>...</td>\n",
       "      <td>8</td>\n",
       "      <td>6</td>\n",
       "      <td>8.2</td>\n",
       "      <td>9</td>\n",
       "      <td>7</td>\n",
       "      <td>6</td>\n",
       "      <td>8.3</td>\n",
       "      <td>8</td>\n",
       "      <td>8</td>\n",
       "      <td>9</td>\n",
       "    </tr>\n",
       "    <tr>\n",
       "      <th>4</th>\n",
       "      <td>9.3</td>\n",
       "      <td>8</td>\n",
       "      <td>2</td>\n",
       "      <td>3</td>\n",
       "      <td>9.6</td>\n",
       "      <td>6</td>\n",
       "      <td>4</td>\n",
       "      <td>6</td>\n",
       "      <td>8.6</td>\n",
       "      <td>7</td>\n",
       "      <td>...</td>\n",
       "      <td>7</td>\n",
       "      <td>4</td>\n",
       "      <td>9.6</td>\n",
       "      <td>6</td>\n",
       "      <td>4</td>\n",
       "      <td>5</td>\n",
       "      <td>9.4</td>\n",
       "      <td>6</td>\n",
       "      <td>4</td>\n",
       "      <td>5</td>\n",
       "    </tr>\n",
       "  </tbody>\n",
       "</table>\n",
       "<p>5 rows × 96 columns</p>\n",
       "</div>"
      ],
      "text/plain": [
       "   T10  T10_T  T10_F  T10_I  L10  L10_T  L10_F  L10_I  H10  H10_T  ...  \\\n",
       "0  9.3     10      0      0  7.7      8      2      2  8.6      8  ...   \n",
       "1  9.1      9      1      1  7.1      9      2      5  8.0      7  ...   \n",
       "2  9.4      8      2      2  7.6     10      0      0  9.0     10  ...   \n",
       "3  9.3      9      0      9  7.1      9      8      8  8.7      9  ...   \n",
       "4  9.3      8      2      3  9.6      6      4      6  8.6      7  ...   \n",
       "\n",
       "   SU12_F  SU12_I  D12  D12_T  D12_F  D12_I  AV12  AV12_T  AV12_F  AV12_I  \n",
       "0       0       0  8.9     10      0      0   7.8      10       0       0  \n",
       "1       5       4  8.8      7      1      1   7.6       7       6       4  \n",
       "2       0       0  9.0     10      0      0   9.0      10       0       0  \n",
       "3       8       6  8.2      9      7      6   8.3       8       8       9  \n",
       "4       7       4  9.6      6      4      5   9.4       6       4       5  \n",
       "\n",
       "[5 rows x 96 columns]"
      ]
     },
     "execution_count": 1,
     "metadata": {},
     "output_type": "execute_result"
    }
   ],
   "source": [
    "import pandas as pd\n",
    "import numpy as np\n",
    "\n",
    "data = pd.read_csv(\"BGT.csv\") \n",
    "data.head(5)\n",
    "#print(data)"
   ]
  },
  {
   "cell_type": "code",
   "execution_count": 2,
   "metadata": {},
   "outputs": [
    {
     "name": "stdout",
     "output_type": "stream",
     "text": [
      "[9.3 8.  2.  3.  9.6 6.  4.  6.  8.6 7.  3.  8.  9.2 3.  7.  1.  8.9 9.\n",
      " 1.  2.  8.9 2.  8.  2.  9.1 8.  2.  5.  9.3 7.  3.  5.  9.6 6.  4.  3.\n",
      " 9.4 6.  4.  4.  8.5 5.  5.  7.  9.6 1.  9.  3.  9.2 8.  2.  2.  9.2 2.\n",
      " 8.  2.  9.6 6.  4.  5.  9.2 8.  2.  4.  9.2 6.  4.  5.  8.7 8.  2.  2.\n",
      " 9.5 7.  3.  2.  9.2 2.  8.  4.  8.8 7.  3.  5.  8.9 3.  7.  4.  9.6 6.\n",
      " 4.  5.  9.4 6.  4.  5. ]\n"
     ]
    }
   ],
   "source": [
    "duc = np.array(data[4:5])[0]\n",
    "print(duc)"
   ]
  },
  {
   "cell_type": "code",
   "execution_count": 3,
   "metadata": {},
   "outputs": [
    {
     "name": "stdout",
     "output_type": "stream",
     "text": [
      "[9.3 8.  2.  3. ]\n",
      "[9.6 6.  4.  6. ]\n",
      "[8.6 7.  3.  8. ]\n",
      "[9.16666667 7.         3.         5.66666667]\n",
      "[9.6 6.  4.  3. ]\n",
      "[9.4 6.  4.  4. ]\n",
      "[8.5 5.  5.  7. ]\n",
      "[9.16666667 5.66666667 4.33333333 4.66666667]\n",
      "[9.2 6.  4.  5. ]\n",
      "[8.7 8.  2.  2. ]\n",
      "[9.5 7.  3.  2. ]\n",
      "[9.13333333 7.         3.         3.        ]\n"
     ]
    }
   ],
   "source": [
    "T10 = duc[0:4]\n",
    "print(T10)\n",
    "L10 = duc[4:8]\n",
    "print(L10)\n",
    "H10 = duc[8:12]\n",
    "print(H10)\n",
    "A10 = np.mean(np.array([T10,L10,H10]),axis=0)\n",
    "print(A10)\n",
    "\n",
    "T11 = duc[32:36]\n",
    "print(T11)\n",
    "L11 = duc[36:40]\n",
    "print(L11)\n",
    "H11 = duc[40:44]\n",
    "print(H11)\n",
    "A11 = np.mean(np.array([T11,L11,H11]),axis=0)\n",
    "print(A11)\n",
    "\n",
    "T12 = duc[64:68]\n",
    "print(T12)\n",
    "L12 = duc[68:72]\n",
    "print(L12)\n",
    "H12 = duc[72:76]\n",
    "print(H12)\n",
    "A12 = np.mean(np.array([T12,L12,H12]),axis=0)\n",
    "print(A12)\n",
    "\n",
    "A = [A10,A11,A12]"
   ]
  },
  {
   "cell_type": "code",
   "execution_count": 4,
   "metadata": {},
   "outputs": [
    {
     "name": "stdout",
     "output_type": "stream",
     "text": [
      "[9.3 8.  2.  3. ]\n",
      "[9.6 6.  4.  6. ]\n",
      "[9.3 7.  3.  5. ]\n",
      "[9.4        7.         3.         4.66666667]\n",
      "[9.6 6.  4.  3. ]\n",
      "[9.4 6.  4.  4. ]\n",
      "[9.2 8.  2.  4. ]\n",
      "[9.4        6.66666667 3.33333333 3.66666667]\n",
      "[9.2 6.  4.  5. ]\n",
      "[8.7 8.  2.  2. ]\n",
      "[9.4 6.  4.  5. ]\n",
      "[9.1        6.66666667 3.33333333 4.        ]\n"
     ]
    }
   ],
   "source": [
    "T10 = duc[0:4]\n",
    "print(T10)\n",
    "L10 = duc[4:8]\n",
    "print(L10)\n",
    "A10 = duc[28:32]\n",
    "print(A10)\n",
    "A110 = np.mean(np.array([T10,L10,A10]),axis=0)\n",
    "print(A110)\n",
    "\n",
    "T11 = duc[32:36]\n",
    "print(T11)\n",
    "L11 = duc[36:40]\n",
    "print(L11)\n",
    "A11 = duc[60:64]\n",
    "print(A11)\n",
    "A111 = np.mean(np.array([T11,L11,A11]),axis=0)\n",
    "print(A111)\n",
    "\n",
    "T12 = duc[64:68]\n",
    "print(T12)\n",
    "L12 = duc[68:72]\n",
    "print(L12)\n",
    "A12 = duc[92:96]\n",
    "print(A12)\n",
    "A112 = np.mean(np.array([T12,L12,A12]),axis=0)\n",
    "print(A112)\n",
    "\n",
    "A1 = [A110,A111,A112]"
   ]
  },
  {
   "cell_type": "code",
   "execution_count": 5,
   "metadata": {},
   "outputs": [
    {
     "name": "stdout",
     "output_type": "stream",
     "text": [
      "[9.3 8.  2.  3. ]\n",
      "[8.6 7.  3.  8. ]\n",
      "[9.2 3.  7.  1. ]\n",
      "[9.3 7.  3.  5. ]\n",
      "[9.6 6.  4.  3. ]\n",
      "[8.5 5.  5.  7. ]\n",
      "[9.6 1.  9.  3. ]\n",
      "[9.23333333 4.         6.         4.33333333]\n",
      "[9.2 6.  4.  5. ]\n",
      "[9.5 7.  3.  2. ]\n",
      "[9.2 2.  8.  4. ]\n",
      "[9.3        5.         5.         3.66666667]\n"
     ]
    }
   ],
   "source": [
    "T10 = duc[0:4]\n",
    "print(T10)\n",
    "H10 = duc[8:12]\n",
    "print(H10)\n",
    "SI10 = duc[12:16]\n",
    "print(SI10)\n",
    "B10 = np.mean(np.array([T10,H10,SI10]),axis=0)\n",
    "print(A10)\n",
    "\n",
    "T11 = duc[32:36]\n",
    "print(T11)\n",
    "H11 = duc[40:44]\n",
    "print(H11)\n",
    "SI11 = duc[44:48]\n",
    "print(SI11)\n",
    "B11 = np.mean(np.array([T11,H11,SI11]),axis=0)\n",
    "print(B11)\n",
    "\n",
    "T12 = duc[64:68]\n",
    "print(T12)\n",
    "H12 = duc[72:76]\n",
    "print(H12)\n",
    "SI12 = duc[76:80]\n",
    "print(SI12)\n",
    "B12 = np.mean(np.array([T12,H12,SI12]),axis=0)\n",
    "print(B12)\n",
    "\n",
    "B = [B10,B11,B12]"
   ]
  },
  {
   "cell_type": "code",
   "execution_count": 6,
   "metadata": {},
   "outputs": [
    {
     "name": "stdout",
     "output_type": "stream",
     "text": [
      "[8.9 9.  1.  2. ]\n",
      "[8.9 2.  8.  2. ]\n",
      "[9.1 8.  2.  5. ]\n",
      "[9.3 7.  3.  5. ]\n",
      "[9.2 8.  2.  2. ]\n",
      "[9.2 2.  8.  2. ]\n",
      "[9.6 6.  4.  5. ]\n",
      "[9.23333333 4.         6.         4.33333333]\n",
      "[8.8 7.  3.  5. ]\n",
      "[8.9 3.  7.  4. ]\n",
      "[9.6 6.  4.  5. ]\n",
      "[9.3        5.         5.         3.66666667]\n"
     ]
    }
   ],
   "source": [
    "V10 = duc[16:20]\n",
    "print(V10)\n",
    "SU10 = duc[20:24]\n",
    "print(SU10)\n",
    "D10 = duc[24:28]\n",
    "print(D10)\n",
    "C10 = np.mean(np.array([V10,SU10,D10]),axis=0)\n",
    "print(A10)\n",
    "\n",
    "V11 = duc[48:52]\n",
    "print(V11)\n",
    "SU11 = duc[52:56]\n",
    "print(SU11)\n",
    "D11 = duc[56:60]\n",
    "print(D11)\n",
    "C11 = np.mean(np.array([V11,SU11,D11]),axis=0)\n",
    "print(B11)\n",
    "\n",
    "V12 = duc[80:84]\n",
    "print(V12)\n",
    "SU12 = duc[84:88]\n",
    "print(SU12)\n",
    "D12 = duc[88:92]\n",
    "print(D12)\n",
    "C12 = np.mean(np.array([V12,SU12,D12]),axis=0)\n",
    "print(B12)\n",
    "\n",
    "C = [C10,C11,C12]"
   ]
  },
  {
   "cell_type": "code",
   "execution_count": 7,
   "metadata": {},
   "outputs": [
    {
     "name": "stdout",
     "output_type": "stream",
     "text": [
      "[9.3 8.  2.  3. ]\n",
      "[8.9 9.  1.  2. ]\n",
      "[9.3 7.  3.  5. ]\n",
      "[9.16666667 8.         2.         3.33333333]\n",
      "[9.6 6.  4.  3. ]\n",
      "[9.2 8.  2.  2. ]\n",
      "[9.2 8.  2.  4. ]\n",
      "[9.33333333 7.33333333 2.66666667 3.        ]\n",
      "[9.2 6.  4.  5. ]\n",
      "[8.8 7.  3.  5. ]\n",
      "[9.4 6.  4.  5. ]\n",
      "[9.13333333 6.33333333 3.66666667 5.        ]\n"
     ]
    }
   ],
   "source": [
    "T10 = duc[0:4]\n",
    "print(T10)\n",
    "V10 = duc[16:20]\n",
    "print(V10)\n",
    "A10 = duc[28:32]\n",
    "print(A10)\n",
    "DD10 = np.mean(np.array([T10,V10,A10]),axis=0)\n",
    "print(DD10)\n",
    "\n",
    "T11 = duc[32:36]\n",
    "print(T11)\n",
    "V11 = duc[48:52]\n",
    "print(V11)\n",
    "A11 = duc[60:64]\n",
    "print(A11)\n",
    "DD11 = np.mean(np.array([T11,V11,A11]),axis=0)\n",
    "print(DD11)\n",
    "\n",
    "T12 = duc[64:68]\n",
    "print(T12)\n",
    "V12 = duc[80:84]\n",
    "print(V12)\n",
    "A12 = duc[92:96]\n",
    "print(A12)\n",
    "DD12 = np.mean(np.array([T12,V12,A12]),axis=0)\n",
    "print(DD12)\n",
    "\n",
    "D = [DD10,DD11,DD12]"
   ]
  },
  {
   "cell_type": "code",
   "execution_count": 8,
   "metadata": {},
   "outputs": [
    {
     "name": "stdout",
     "output_type": "stream",
     "text": [
      "[[[0.91666667 0.23333333 0.18888889 0.1       ]\n",
      "  [0.91666667 0.18888889 0.15555556 0.14444444]\n",
      "  [0.91333333 0.23333333 0.1        0.1       ]]\n",
      "\n",
      " [[0.94       0.23333333 0.15555556 0.1       ]\n",
      "  [0.94       0.22222222 0.12222222 0.11111111]\n",
      "  [0.91       0.22222222 0.13333333 0.11111111]]\n",
      "\n",
      " [[0.90333333 0.2        0.13333333 0.13333333]\n",
      "  [0.92333333 0.13333333 0.14444444 0.2       ]\n",
      "  [0.93       0.16666667 0.12222222 0.16666667]]\n",
      "\n",
      " [[0.89666667 0.21111111 0.1        0.12222222]\n",
      "  [0.93333333 0.17777778 0.1        0.15555556]\n",
      "  [0.91       0.17777778 0.15555556 0.15555556]]\n",
      "\n",
      " [[0.91666667 0.26666667 0.11111111 0.06666667]\n",
      "  [0.93333333 0.24444444 0.1        0.08888889]\n",
      "  [0.91333333 0.21111111 0.16666667 0.12222222]]]\n"
     ]
    }
   ],
   "source": [
    "from dm import *\n",
    "from im import *\n",
    "\n",
    "def change(A):\n",
    "    Aok = []\n",
    "    for i in range(3):\n",
    "        temp = []\n",
    "        for j in range(4):\n",
    "            if j == 0:\n",
    "                temp.append(A[i][j]/10)\n",
    "            if j == 1:\n",
    "                temp.append(A[i][j]/30)\n",
    "            if j == 2:\n",
    "                temp.append(A[i][j+1]/30)\n",
    "            if j == 3:\n",
    "                temp.append(A[i][j-1]/30)\n",
    "        Aok.append(temp)\n",
    "    return(Aok)\n",
    "\n",
    "matrix = np.array([change(A),change(A1),change(B),change(C),change(D)])\n",
    "print(matrix)\n",
    "\n",
    "def rtc(A):\n",
    "    rtc = []\n",
    "    for i in range(3):\n",
    "        temp = []\n",
    "        for j in range(5):\n",
    "            temp.append(A[j][i])\n",
    "        rtc.append(temp)\n",
    "    return np.array(rtc)\n",
    "matric = rtc(matrix)"
   ]
  },
  {
   "cell_type": "code",
   "execution_count": 9,
   "metadata": {},
   "outputs": [
    {
     "name": "stdout",
     "output_type": "stream",
     "text": [
      "[[[0.91666667 0.23333333 0.18888889 0.1       ]\n",
      "  [0.94       0.23333333 0.15555556 0.1       ]\n",
      "  [0.90333333 0.2        0.13333333 0.13333333]\n",
      "  [0.89666667 0.21111111 0.1        0.12222222]\n",
      "  [0.91666667 0.26666667 0.11111111 0.06666667]]\n",
      "\n",
      " [[0.91666667 0.18888889 0.15555556 0.14444444]\n",
      "  [0.94       0.22222222 0.12222222 0.11111111]\n",
      "  [0.92333333 0.13333333 0.14444444 0.2       ]\n",
      "  [0.93333333 0.17777778 0.1        0.15555556]\n",
      "  [0.93333333 0.24444444 0.1        0.08888889]]\n",
      "\n",
      " [[0.91333333 0.23333333 0.1        0.1       ]\n",
      "  [0.91       0.22222222 0.13333333 0.11111111]\n",
      "  [0.93       0.16666667 0.12222222 0.16666667]\n",
      "  [0.91       0.17777778 0.15555556 0.15555556]\n",
      "  [0.91333333 0.21111111 0.16666667 0.12222222]]]\n"
     ]
    }
   ],
   "source": [
    "cost = []\n",
    "mat = rnf(matric,cost)\n",
    "print(np.array(mat))"
   ]
  },
  {
   "cell_type": "code",
   "execution_count": 10,
   "metadata": {},
   "outputs": [
    {
     "name": "stdout",
     "output_type": "stream",
     "text": [
      "[0.45296552 0.43570569 0.45585444]\n",
      "[0.27822222 0.26422222 0.27677778]\n",
      "[0.35405684 0.33815162 0.35242647]\n",
      "[0.21614663 0.20447026 0.21493565]\n",
      "[0.18675824 0.1760831  0.18564697]\n",
      "[0.09419529 0.08514622 0.09323416]\n",
      "[0.42315225 0.40311625 0.42109919]\n",
      "[0.36331854 0.34773467 0.3617236 ]\n",
      "[0.22208814 0.21058072 0.22089691]\n",
      "[0.16758101 0.15664592 0.16423532]\n",
      "[0.16166366 0.15230522 0.16068786]\n",
      "[0.03547945 0.02984941 0.03132435]\n",
      "[0.03086977 0.02680749 0.02876773]\n"
     ]
    }
   ],
   "source": [
    "for i in range(13):\n",
    "    print(np.array(ej(mat,i)))"
   ]
  },
  {
   "cell_type": "code",
   "execution_count": 11,
   "metadata": {},
   "outputs": [
    {
     "name": "stdout",
     "output_type": "stream",
     "text": [
      "[0.00150335 0.00230636 0.00127821]\n",
      "[0.03166667 0.03727778 0.02827778]\n",
      "[0.02303997 0.02718288 0.02056371]\n",
      "[0.04492351 0.05266486 0.04015648]\n",
      "[0.04925087 0.0577301  0.04402527]\n",
      "[0.04971708 0.05850564 0.04439805]\n",
      "[0.00133334 0.00196834 0.0011193 ]\n",
      "[0.02487715 0.02929045 0.02221446]\n",
      "[0.04845611 0.05668171 0.04333874]\n",
      "[0.16688796 0.19383656 0.15375867]\n",
      "[0.08723914 0.10126783 0.07818347]\n",
      "[0.28576086 0.3264884  0.2686557 ]\n",
      "[0.07292374 0.06609152 0.05132104]\n"
     ]
    }
   ],
   "source": [
    "for i in range(13):\n",
    "    print(np.array(cj(mat,i)))"
   ]
  },
  {
   "cell_type": "code",
   "execution_count": 12,
   "metadata": {},
   "outputs": [
    {
     "name": "stdout",
     "output_type": "stream",
     "text": [
      "[0.67883892 0.68866756 0.66204579 0.67365488 0.69572557]\n",
      "[0.71762056 0.72791289 0.69622632 0.70986325 0.73595438]\n",
      "[0.6850612  0.69443641 0.66578827 0.67803034 0.70191931]\n",
      "[0.74487775 0.75575593 0.72201468 0.736636   0.76415495]\n",
      "[0.76281491 0.77396587 0.73920455 0.75433958 0.78247674]\n",
      "[0.85480474 0.86679598 0.82862674 0.84563741 0.87514175]\n",
      "[0.67788857 0.68706553 0.65914889 0.67105373 0.69428567]\n",
      "[0.67794826 0.68707258 0.65921304 0.67110377 0.69441626]\n",
      "[0.73704238 0.74777664 0.71453375 0.72891443 0.75614622]\n",
      "[0.81132972 0.82554438 0.78308333 0.80754848 0.84209747]\n",
      "[0.85628265 0.86933383 0.82888124 0.85188824 0.88358089]\n",
      "[0.95985216 0.96779683 0.94935291 0.96053099 0.97251147]\n",
      "[0.97137302 0.9773239  0.96353169 0.97168419 0.98058157]\n"
     ]
    }
   ],
   "source": [
    "visual = []\n",
    "for i in range(13):\n",
    "    print(np.array(S(mat,i)))\n",
    "    visual.append(S(mat,i))"
   ]
  },
  {
   "cell_type": "code",
   "execution_count": 13,
   "metadata": {},
   "outputs": [
    {
     "name": "stdout",
     "output_type": "stream",
     "text": [
      "[0.83236485 0.83768011 0.80931246 0.82104667 0.84419921]\n",
      "[0.71762056 0.72791289 0.69622632 0.70986325 0.73595438]\n",
      "[0.78034907 0.78902845 0.76226584 0.7738473  0.795644  ]\n",
      "[0.64127304 0.65281054 0.61739561 0.63253857 0.66212089]\n",
      "[0.61094789 0.62316398 0.58569196 0.60168165 0.63311052]\n",
      "[0.57099133 0.58550011 0.54089411 0.55994013 0.59719772]\n",
      "[0.90298295 0.91002971 0.8880705  0.89777696 0.91479354]\n",
      "[0.77446627 0.78299053 0.75673629 0.7680799  0.78954962]\n",
      "[0.63211401 0.64338354 0.60883197 0.62358608 0.65255707]\n",
      "[0.28341908 0.28902035 0.27128949 0.27559505 0.29054304]\n",
      "[0.50120741 0.51509247 0.47200056 0.48735412 0.52444484]\n",
      "[0.22157448 0.22912708 0.21822588 0.2176916  0.22684716]\n",
      "[0.43518041 0.45130498 0.42655328 0.42754494 0.44789486]\n"
     ]
    }
   ],
   "source": [
    "for i in range(13):\n",
    "    print(np.array(Spos(mat,i)))"
   ]
  },
  {
   "cell_type": "code",
   "execution_count": 14,
   "metadata": {},
   "outputs": [
    {
     "name": "stdout",
     "output_type": "stream",
     "text": [
      "[0.39379474 0.37869794 0.41312937 0.39774755 0.36920914]\n",
      "[0.28237944 0.27208711 0.30377368 0.29013675 0.26404562]\n",
      "[0.35874487 0.34718566 0.38264144 0.36746933 0.3378823 ]\n",
      "[0.21963741 0.21097434 0.23770557 0.22614681 0.20435376]\n",
      "[0.18996447 0.18199295 0.20663536 0.1959454  0.17600046]\n",
      "[0.09698734 0.08997615 0.11186555 0.10221143 0.08520341]\n",
      "[0.42906924 0.4144869  0.45922828 0.44008454 0.40281041]\n",
      "[0.36790155 0.35661328 0.3912026  0.37642254 0.34744799]\n",
      "[0.22552189 0.2170118  0.24323691 0.23191362 0.21044675]\n",
      "[0.06590755 0.06107634 0.07514808 0.06567864 0.05448001]\n",
      "[0.08412199 0.07742154 0.09744237 0.0847328  0.06909995]\n",
      "[0.00926782 0.00762414 0.01164215 0.00894513 0.00641195]\n",
      "[0.01282504 0.01047128 0.01614444 0.01245907 0.00886965]\n"
     ]
    }
   ],
   "source": [
    "for i in range(13):\n",
    "    print(np.array(Sneg(mat,i)))"
   ]
  },
  {
   "cell_type": "code",
   "execution_count": 15,
   "metadata": {},
   "outputs": [
    {
     "name": "stdout",
     "output_type": "stream",
     "text": [
      "[0.67883892 0.68866756 0.66204579 0.67365488 0.69572557]\n",
      "[0.71762056 0.72791289 0.69622632 0.70986325 0.73595438]\n",
      "[0.6850612  0.69443641 0.66578827 0.67803034 0.70191931]\n",
      "[0.74487775 0.75575593 0.72201468 0.736636   0.76415495]\n",
      "[0.76281491 0.77396587 0.73920455 0.75433958 0.78247674]\n",
      "[0.85480474 0.86679598 0.82862674 0.84563741 0.87514175]\n",
      "[0.67788857 0.68706553 0.65914889 0.67105373 0.69428567]\n",
      "[0.67794826 0.68707258 0.65921304 0.67110377 0.69441626]\n",
      "[0.73704238 0.74777664 0.71453375 0.72891443 0.75614622]\n",
      "[0.81132972 0.82554438 0.78308333 0.80754848 0.84209747]\n",
      "[0.85628265 0.86933383 0.82888124 0.85188824 0.88358089]\n",
      "[0.95985216 0.96779683 0.94935291 0.96053099 0.97251147]\n",
      "[0.97137302 0.9773239  0.96353169 0.97168419 0.98058157]\n"
     ]
    }
   ],
   "source": [
    "for i in range(13):\n",
    "    print(np.array(S(mat,i)))"
   ]
  },
  {
   "cell_type": "code",
   "execution_count": 16,
   "metadata": {},
   "outputs": [
    {
     "name": "stdout",
     "output_type": "stream",
     "text": [
      "Similarity no. 1 : [3 4 1 2 5]\n",
      "Similarity no. 2 : [3 4 1 2 5]\n",
      "Similarity no. 3 : [3 4 1 2 5]\n",
      "Similarity no. 4 : [3 4 1 2 5]\n",
      "Similarity no. 5 : [3 4 1 2 5]\n",
      "Similarity no. 6 : [3 4 1 2 5]\n",
      "Similarity no. 7 : [3 4 1 2 5]\n",
      "Similarity no. 8 : [3 4 1 2 5]\n",
      "Similarity no. 9 : [3 4 1 2 5]\n",
      "Similarity no. 10 : [3 4 1 2 5]\n",
      "Similarity no. 11 : [3 4 1 2 5]\n",
      "Similarity no. 12 : [3 1 4 2 5]\n",
      "Similarity no. 13 : [3 1 4 2 5]\n"
     ]
    }
   ],
   "source": [
    "for i in range(13):\n",
    "    print(\"Similarity no.\",i+1,\":\",np.array(rank(mat,i)))"
   ]
  },
  {
   "cell_type": "code",
   "execution_count": 17,
   "metadata": {},
   "outputs": [
    {
     "name": "stdout",
     "output_type": "stream",
     "text": [
      "Similarity no. 1 : 5\n",
      "Similarity no. 2 : 5\n",
      "Similarity no. 3 : 5\n",
      "Similarity no. 4 : 5\n",
      "Similarity no. 5 : 5\n",
      "Similarity no. 6 : 5\n",
      "Similarity no. 7 : 5\n",
      "Similarity no. 8 : 5\n",
      "Similarity no. 9 : 5\n",
      "Similarity no. 10 : 5\n",
      "Similarity no. 11 : 5\n",
      "Similarity no. 12 : 5\n",
      "Similarity no. 13 : 5\n"
     ]
    }
   ],
   "source": [
    " for i in range(13):\n",
    "    print(\"Similarity no.\",i+1,\":\",alt(mat,i))"
   ]
  },
  {
   "cell_type": "code",
   "execution_count": 18,
   "metadata": {},
   "outputs": [
    {
     "name": "stderr",
     "output_type": "stream",
     "text": [
      "The PostScript backend does not support transparency; partially transparent artists will be rendered opaque.\n",
      "The PostScript backend does not support transparency; partially transparent artists will be rendered opaque.\n"
     ]
    },
    {
     "data": {
      "image/png": "[encoded data removed]",
      "text/plain": [
       "<Figure size 720x324 with 1 Axes>"
      ]
     },
     "metadata": {
      "needs_background": "light"
     },
     "output_type": "display_data"
    }
   ],
   "source": [
    "import matplotlib.pyplot as plt\n",
    "xaxis = [1,2,3,4,5,6,7,8,9,10,11,12,13]\n",
    "plt.plot(xaxis,[visual[i][0] for i in range(13)],\n",
    "         'go-', color='blue', label='A', marker='o')\n",
    "plt.plot(xaxis,[visual[i][1] for i in range(13)],\n",
    "         'go-', color='green', label='A1', marker='o')\n",
    "plt.plot(xaxis,[visual[i][2] for i in range(13)],\n",
    "         'go-', color='red', label='B', marker='o')\n",
    "plt.plot(xaxis,[visual[i][3] for i in range(13)],\n",
    "         'go-', color='cyan', label='C', marker='o')\n",
    "plt.plot(xaxis,[visual[i][4] for i in range(13)],\n",
    "         'go-', color='magenta', label='D', marker='o')\n",
    "plt.xticks(xaxis,[\"IM1\",\"IM2\",\"IM3\",\"IM4\",\"IM5\",\"IM6\",\"IM7\",\"IM8\",\"IM9\",\"IM10\",\"IM11\",\"IM12\",\"IM13\"])\n",
    "plt.xlabel(\"Information Measures\")\n",
    "plt.ylabel(\"Combination Scores\")\n",
    "plt.title(\"The visualization of combination scores Si and rank of combinations \\n using information measures IMi\")\n",
    "figure = plt.gcf()\n",
    "figure.set_size_inches(10,4.5)\n",
    "plt.legend(loc='upper center', ncol=5)\n",
    "plt.savefig('decision making.eps', format='eps')\n",
    "plt.show()"
   ]
  },
  {
   "cell_type": "code",
   "execution_count": null,
   "metadata": {},
   "outputs": [],
   "source": [
    "# 8.4\t9\t9.4\tLí\t7.25\tHóa\t7.75\tSinh\t6.25\n",
    "# Khối A: 24.15đ Khối A1:26.05đ Khối B: 22.4đ Khối D: 26.8đ"
   ]
  }
 ],
 "metadata": {
  "kernelspec": {
   "display_name": "Python 3",
   "language": "python",
   "name": "python3"
  },
  "language_info": {
   "codemirror_mode": {
    "name": "ipython",
    "version": 3
   },
   "file_extension": ".py",
   "mimetype": "text/x-python",
   "name": "python",
   "nbconvert_exporter": "python",
   "pygments_lexer": "ipython3",
   "version": "3.8.8"
  }
 },
 "nbformat": 4,
 "nbformat_minor": 4
}

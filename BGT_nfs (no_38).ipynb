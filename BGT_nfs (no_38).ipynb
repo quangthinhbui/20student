{
 "cells": [
  {
   "cell_type": "code",
   "execution_count": 1,
   "metadata": {},
   "outputs": [
    {
     "data": {
      "text/html": [
       "<div>\n",
       "<style scoped>\n",
       "    .dataframe tbody tr th:only-of-type {\n",
       "        vertical-align: middle;\n",
       "    }\n",
       "\n",
       "    .dataframe tbody tr th {\n",
       "        vertical-align: top;\n",
       "    }\n",
       "\n",
       "    .dataframe thead th {\n",
       "        text-align: right;\n",
       "    }\n",
       "</style>\n",
       "<table border=\"1\" class=\"dataframe\">\n",
       "  <thead>\n",
       "    <tr style=\"text-align: right;\">\n",
       "      <th></th>\n",
       "      <th>T10</th>\n",
       "      <th>T10_T</th>\n",
       "      <th>T10_F</th>\n",
       "      <th>T10_I</th>\n",
       "      <th>L10</th>\n",
       "      <th>L10_T</th>\n",
       "      <th>L10_F</th>\n",
       "      <th>L10_I</th>\n",
       "      <th>H10</th>\n",
       "      <th>H10_T</th>\n",
       "      <th>...</th>\n",
       "      <th>SU12_F</th>\n",
       "      <th>SU12_I</th>\n",
       "      <th>D12</th>\n",
       "      <th>D12_T</th>\n",
       "      <th>D12_F</th>\n",
       "      <th>D12_I</th>\n",
       "      <th>AV12</th>\n",
       "      <th>AV12_T</th>\n",
       "      <th>AV12_F</th>\n",
       "      <th>AV12_I</th>\n",
       "    </tr>\n",
       "  </thead>\n",
       "  <tbody>\n",
       "    <tr>\n",
       "      <th>0</th>\n",
       "      <td>9.3</td>\n",
       "      <td>10</td>\n",
       "      <td>0</td>\n",
       "      <td>0</td>\n",
       "      <td>7.7</td>\n",
       "      <td>8</td>\n",
       "      <td>2</td>\n",
       "      <td>2</td>\n",
       "      <td>8.6</td>\n",
       "      <td>8</td>\n",
       "      <td>...</td>\n",
       "      <td>0</td>\n",
       "      <td>0</td>\n",
       "      <td>8.9</td>\n",
       "      <td>10</td>\n",
       "      <td>0</td>\n",
       "      <td>0</td>\n",
       "      <td>7.8</td>\n",
       "      <td>10</td>\n",
       "      <td>0</td>\n",
       "      <td>0</td>\n",
       "    </tr>\n",
       "    <tr>\n",
       "      <th>1</th>\n",
       "      <td>9.1</td>\n",
       "      <td>9</td>\n",
       "      <td>1</td>\n",
       "      <td>1</td>\n",
       "      <td>7.1</td>\n",
       "      <td>9</td>\n",
       "      <td>2</td>\n",
       "      <td>5</td>\n",
       "      <td>8.0</td>\n",
       "      <td>7</td>\n",
       "      <td>...</td>\n",
       "      <td>5</td>\n",
       "      <td>4</td>\n",
       "      <td>8.8</td>\n",
       "      <td>7</td>\n",
       "      <td>1</td>\n",
       "      <td>1</td>\n",
       "      <td>7.6</td>\n",
       "      <td>7</td>\n",
       "      <td>6</td>\n",
       "      <td>4</td>\n",
       "    </tr>\n",
       "    <tr>\n",
       "      <th>2</th>\n",
       "      <td>9.4</td>\n",
       "      <td>8</td>\n",
       "      <td>2</td>\n",
       "      <td>2</td>\n",
       "      <td>7.6</td>\n",
       "      <td>10</td>\n",
       "      <td>0</td>\n",
       "      <td>0</td>\n",
       "      <td>9.0</td>\n",
       "      <td>10</td>\n",
       "      <td>...</td>\n",
       "      <td>0</td>\n",
       "      <td>0</td>\n",
       "      <td>9.0</td>\n",
       "      <td>10</td>\n",
       "      <td>0</td>\n",
       "      <td>0</td>\n",
       "      <td>9.0</td>\n",
       "      <td>10</td>\n",
       "      <td>0</td>\n",
       "      <td>0</td>\n",
       "    </tr>\n",
       "    <tr>\n",
       "      <th>3</th>\n",
       "      <td>9.3</td>\n",
       "      <td>9</td>\n",
       "      <td>0</td>\n",
       "      <td>9</td>\n",
       "      <td>7.1</td>\n",
       "      <td>9</td>\n",
       "      <td>8</td>\n",
       "      <td>8</td>\n",
       "      <td>8.7</td>\n",
       "      <td>9</td>\n",
       "      <td>...</td>\n",
       "      <td>8</td>\n",
       "      <td>6</td>\n",
       "      <td>8.2</td>\n",
       "      <td>9</td>\n",
       "      <td>7</td>\n",
       "      <td>6</td>\n",
       "      <td>8.3</td>\n",
       "      <td>8</td>\n",
       "      <td>8</td>\n",
       "      <td>9</td>\n",
       "    </tr>\n",
       "    <tr>\n",
       "      <th>4</th>\n",
       "      <td>9.3</td>\n",
       "      <td>8</td>\n",
       "      <td>2</td>\n",
       "      <td>3</td>\n",
       "      <td>9.6</td>\n",
       "      <td>6</td>\n",
       "      <td>4</td>\n",
       "      <td>6</td>\n",
       "      <td>8.6</td>\n",
       "      <td>7</td>\n",
       "      <td>...</td>\n",
       "      <td>7</td>\n",
       "      <td>4</td>\n",
       "      <td>9.6</td>\n",
       "      <td>6</td>\n",
       "      <td>4</td>\n",
       "      <td>5</td>\n",
       "      <td>9.4</td>\n",
       "      <td>6</td>\n",
       "      <td>4</td>\n",
       "      <td>5</td>\n",
       "    </tr>\n",
       "  </tbody>\n",
       "</table>\n",
       "<p>5 rows × 96 columns</p>\n",
       "</div>"
      ],
      "text/plain": [
       "   T10  T10_T  T10_F  T10_I  L10  L10_T  L10_F  L10_I  H10  H10_T  ...  \\\n",
       "0  9.3     10      0      0  7.7      8      2      2  8.6      8  ...   \n",
       "1  9.1      9      1      1  7.1      9      2      5  8.0      7  ...   \n",
       "2  9.4      8      2      2  7.6     10      0      0  9.0     10  ...   \n",
       "3  9.3      9      0      9  7.1      9      8      8  8.7      9  ...   \n",
       "4  9.3      8      2      3  9.6      6      4      6  8.6      7  ...   \n",
       "\n",
       "   SU12_F  SU12_I  D12  D12_T  D12_F  D12_I  AV12  AV12_T  AV12_F  AV12_I  \n",
       "0       0       0  8.9     10      0      0   7.8      10       0       0  \n",
       "1       5       4  8.8      7      1      1   7.6       7       6       4  \n",
       "2       0       0  9.0     10      0      0   9.0      10       0       0  \n",
       "3       8       6  8.2      9      7      6   8.3       8       8       9  \n",
       "4       7       4  9.6      6      4      5   9.4       6       4       5  \n",
       "\n",
       "[5 rows x 96 columns]"
      ]
     },
     "execution_count": 1,
     "metadata": {},
     "output_type": "execute_result"
    }
   ],
   "source": [
    "import pandas as pd\n",
    "import numpy as np\n",
    "\n",
    "data = pd.read_csv(\"BGT.csv\") \n",
    "data.head(5)\n",
    "#print(data)"
   ]
  },
  {
   "cell_type": "code",
   "execution_count": 2,
   "metadata": {},
   "outputs": [
    {
     "name": "stdout",
     "output_type": "stream",
     "text": [
      "[ 9.2  9.   0.   0.   9.7  9.   0.   0.   9.4  9.   1.   0.   9.6  9.\n",
      "  0.   0.   8.7  9.   0.   0.   8.9  9.   0.   0.   8.9  9.   0.   0.\n",
      "  8.9  9.   0.   0.   9.9  7.   0.   9.   9.9  7.   0.   9.   9.6  8.\n",
      "  0.   8.   9.9  7.   0.   9.   9.2  8.   0.   7.   9.7  7.   0.   8.\n",
      "  9.7  8.   0.   8.   9.8  7.   0.  10.   9.9  7.   0.   9.   9.9  7.\n",
      "  0.   9.   9.9  7.   0.   9.   9.9  7.   0.  10.   8.7  9.   0.   3.\n",
      "  9.7  8.   1.   7.   9.7  7.   1.   8.   9.5  7.   0.   9. ]\n"
     ]
    }
   ],
   "source": [
    "duc = np.array(data[38:39])[0]\n",
    "print(duc)"
   ]
  },
  {
   "cell_type": "code",
   "execution_count": 3,
   "metadata": {},
   "outputs": [
    {
     "name": "stdout",
     "output_type": "stream",
     "text": [
      "[9.2 9.  0.  0. ]\n",
      "[9.7 9.  0.  0. ]\n",
      "[9.4 9.  1.  0. ]\n",
      "[9.43333333 9.         0.33333333 0.        ]\n",
      "[9.9 7.  0.  9. ]\n",
      "[9.9 7.  0.  9. ]\n",
      "[9.6 8.  0.  8. ]\n",
      "[9.8        7.33333333 0.         8.66666667]\n",
      "[9.9 7.  0.  9. ]\n",
      "[9.9 7.  0.  9. ]\n",
      "[9.9 7.  0.  9. ]\n",
      "[9.9 7.  0.  9. ]\n"
     ]
    }
   ],
   "source": [
    "T10 = duc[0:4]\n",
    "print(T10)\n",
    "L10 = duc[4:8]\n",
    "print(L10)\n",
    "H10 = duc[8:12]\n",
    "print(H10)\n",
    "A10 = np.mean(np.array([T10,L10,H10]),axis=0)\n",
    "print(A10)\n",
    "\n",
    "T11 = duc[32:36]\n",
    "print(T11)\n",
    "L11 = duc[36:40]\n",
    "print(L11)\n",
    "H11 = duc[40:44]\n",
    "print(H11)\n",
    "A11 = np.mean(np.array([T11,L11,H11]),axis=0)\n",
    "print(A11)\n",
    "\n",
    "T12 = duc[64:68]\n",
    "print(T12)\n",
    "L12 = duc[68:72]\n",
    "print(L12)\n",
    "H12 = duc[72:76]\n",
    "print(H12)\n",
    "A12 = np.mean(np.array([T12,L12,H12]),axis=0)\n",
    "print(A12)\n",
    "\n",
    "A = [A10,A11,A12]"
   ]
  },
  {
   "cell_type": "code",
   "execution_count": 4,
   "metadata": {},
   "outputs": [
    {
     "name": "stdout",
     "output_type": "stream",
     "text": [
      "[9.2 9.  0.  0. ]\n",
      "[9.7 9.  0.  0. ]\n",
      "[8.9 9.  0.  0. ]\n",
      "[9.26666667 9.         0.         0.        ]\n",
      "[9.9 7.  0.  9. ]\n",
      "[9.9 7.  0.  9. ]\n",
      "[ 9.8  7.   0.  10. ]\n",
      "[9.86666667 7.         0.         9.33333333]\n",
      "[9.9 7.  0.  9. ]\n",
      "[9.9 7.  0.  9. ]\n",
      "[9.5 7.  0.  9. ]\n",
      "[9.76666667 7.         0.         9.        ]\n"
     ]
    }
   ],
   "source": [
    "T10 = duc[0:4]\n",
    "print(T10)\n",
    "L10 = duc[4:8]\n",
    "print(L10)\n",
    "A10 = duc[28:32]\n",
    "print(A10)\n",
    "A110 = np.mean(np.array([T10,L10,A10]),axis=0)\n",
    "print(A110)\n",
    "\n",
    "T11 = duc[32:36]\n",
    "print(T11)\n",
    "L11 = duc[36:40]\n",
    "print(L11)\n",
    "A11 = duc[60:64]\n",
    "print(A11)\n",
    "A111 = np.mean(np.array([T11,L11,A11]),axis=0)\n",
    "print(A111)\n",
    "\n",
    "T12 = duc[64:68]\n",
    "print(T12)\n",
    "L12 = duc[68:72]\n",
    "print(L12)\n",
    "A12 = duc[92:96]\n",
    "print(A12)\n",
    "A112 = np.mean(np.array([T12,L12,A12]),axis=0)\n",
    "print(A112)\n",
    "\n",
    "A1 = [A110,A111,A112]"
   ]
  },
  {
   "cell_type": "code",
   "execution_count": 5,
   "metadata": {},
   "outputs": [
    {
     "name": "stdout",
     "output_type": "stream",
     "text": [
      "[9.2 9.  0.  0. ]\n",
      "[9.4 9.  1.  0. ]\n",
      "[9.6 9.  0.  0. ]\n",
      "[8.9 9.  0.  0. ]\n",
      "[9.9 7.  0.  9. ]\n",
      "[9.6 8.  0.  8. ]\n",
      "[9.9 7.  0.  9. ]\n",
      "[9.8        7.33333333 0.         8.66666667]\n",
      "[9.9 7.  0.  9. ]\n",
      "[9.9 7.  0.  9. ]\n",
      "[ 9.9  7.   0.  10. ]\n",
      "[9.9        7.         0.         9.33333333]\n"
     ]
    }
   ],
   "source": [
    "T10 = duc[0:4]\n",
    "print(T10)\n",
    "H10 = duc[8:12]\n",
    "print(H10)\n",
    "SI10 = duc[12:16]\n",
    "print(SI10)\n",
    "B10 = np.mean(np.array([T10,H10,SI10]),axis=0)\n",
    "print(A10)\n",
    "\n",
    "T11 = duc[32:36]\n",
    "print(T11)\n",
    "H11 = duc[40:44]\n",
    "print(H11)\n",
    "SI11 = duc[44:48]\n",
    "print(SI11)\n",
    "B11 = np.mean(np.array([T11,H11,SI11]),axis=0)\n",
    "print(B11)\n",
    "\n",
    "T12 = duc[64:68]\n",
    "print(T12)\n",
    "H12 = duc[72:76]\n",
    "print(H12)\n",
    "SI12 = duc[76:80]\n",
    "print(SI12)\n",
    "B12 = np.mean(np.array([T12,H12,SI12]),axis=0)\n",
    "print(B12)\n",
    "\n",
    "B = [B10,B11,B12]"
   ]
  },
  {
   "cell_type": "code",
   "execution_count": 6,
   "metadata": {},
   "outputs": [
    {
     "name": "stdout",
     "output_type": "stream",
     "text": [
      "[8.7 9.  0.  0. ]\n",
      "[8.9 9.  0.  0. ]\n",
      "[8.9 9.  0.  0. ]\n",
      "[8.9 9.  0.  0. ]\n",
      "[9.2 8.  0.  7. ]\n",
      "[9.7 7.  0.  8. ]\n",
      "[9.7 8.  0.  8. ]\n",
      "[9.8        7.33333333 0.         8.66666667]\n",
      "[8.7 9.  0.  3. ]\n",
      "[9.7 8.  1.  7. ]\n",
      "[9.7 7.  1.  8. ]\n",
      "[9.9        7.         0.         9.33333333]\n"
     ]
    }
   ],
   "source": [
    "V10 = duc[16:20]\n",
    "print(V10)\n",
    "SU10 = duc[20:24]\n",
    "print(SU10)\n",
    "D10 = duc[24:28]\n",
    "print(D10)\n",
    "C10 = np.mean(np.array([V10,SU10,D10]),axis=0)\n",
    "print(A10)\n",
    "\n",
    "V11 = duc[48:52]\n",
    "print(V11)\n",
    "SU11 = duc[52:56]\n",
    "print(SU11)\n",
    "D11 = duc[56:60]\n",
    "print(D11)\n",
    "C11 = np.mean(np.array([V11,SU11,D11]),axis=0)\n",
    "print(B11)\n",
    "\n",
    "V12 = duc[80:84]\n",
    "print(V12)\n",
    "SU12 = duc[84:88]\n",
    "print(SU12)\n",
    "D12 = duc[88:92]\n",
    "print(D12)\n",
    "C12 = np.mean(np.array([V12,SU12,D12]),axis=0)\n",
    "print(B12)\n",
    "\n",
    "C = [C10,C11,C12]"
   ]
  },
  {
   "cell_type": "code",
   "execution_count": 7,
   "metadata": {},
   "outputs": [
    {
     "name": "stdout",
     "output_type": "stream",
     "text": [
      "[9.2 9.  0.  0. ]\n",
      "[8.7 9.  0.  0. ]\n",
      "[8.9 9.  0.  0. ]\n",
      "[8.93333333 9.         0.         0.        ]\n",
      "[9.9 7.  0.  9. ]\n",
      "[9.2 8.  0.  7. ]\n",
      "[ 9.8  7.   0.  10. ]\n",
      "[9.63333333 7.33333333 0.         8.66666667]\n",
      "[9.9 7.  0.  9. ]\n",
      "[8.7 9.  0.  3. ]\n",
      "[9.5 7.  0.  9. ]\n",
      "[9.36666667 7.66666667 0.         7.        ]\n"
     ]
    }
   ],
   "source": [
    "T10 = duc[0:4]\n",
    "print(T10)\n",
    "V10 = duc[16:20]\n",
    "print(V10)\n",
    "A10 = duc[28:32]\n",
    "print(A10)\n",
    "DD10 = np.mean(np.array([T10,V10,A10]),axis=0)\n",
    "print(DD10)\n",
    "\n",
    "T11 = duc[32:36]\n",
    "print(T11)\n",
    "V11 = duc[48:52]\n",
    "print(V11)\n",
    "A11 = duc[60:64]\n",
    "print(A11)\n",
    "DD11 = np.mean(np.array([T11,V11,A11]),axis=0)\n",
    "print(DD11)\n",
    "\n",
    "T12 = duc[64:68]\n",
    "print(T12)\n",
    "V12 = duc[80:84]\n",
    "print(V12)\n",
    "A12 = duc[92:96]\n",
    "print(A12)\n",
    "DD12 = np.mean(np.array([T12,V12,A12]),axis=0)\n",
    "print(DD12)\n",
    "\n",
    "D = [DD10,DD11,DD12]"
   ]
  },
  {
   "cell_type": "code",
   "execution_count": 8,
   "metadata": {},
   "outputs": [
    {
     "name": "stdout",
     "output_type": "stream",
     "text": [
      "[[[0.94333333 0.3        0.         0.01111111]\n",
      "  [0.98       0.24444444 0.28888889 0.        ]\n",
      "  [0.99       0.23333333 0.3        0.        ]]\n",
      "\n",
      " [[0.92666667 0.3        0.         0.        ]\n",
      "  [0.98666667 0.23333333 0.31111111 0.        ]\n",
      "  [0.97666667 0.23333333 0.3        0.        ]]\n",
      "\n",
      " [[0.94       0.3        0.         0.01111111]\n",
      "  [0.98       0.24444444 0.28888889 0.        ]\n",
      "  [0.99       0.23333333 0.31111111 0.        ]]\n",
      "\n",
      " [[0.88333333 0.3        0.         0.        ]\n",
      "  [0.95333333 0.25555556 0.25555556 0.        ]\n",
      "  [0.93666667 0.26666667 0.2        0.02222222]]\n",
      "\n",
      " [[0.89333333 0.3        0.         0.        ]\n",
      "  [0.96333333 0.24444444 0.28888889 0.        ]\n",
      "  [0.93666667 0.25555556 0.23333333 0.        ]]]\n"
     ]
    }
   ],
   "source": [
    "from dm import *\n",
    "from im import *\n",
    "\n",
    "def change(A):\n",
    "    Aok = []\n",
    "    for i in range(3):\n",
    "        temp = []\n",
    "        for j in range(4):\n",
    "            if j == 0:\n",
    "                temp.append(A[i][j]/10)\n",
    "            if j == 1:\n",
    "                temp.append(A[i][j]/30)\n",
    "            if j == 2:\n",
    "                temp.append(A[i][j+1]/30)\n",
    "            if j == 3:\n",
    "                temp.append(A[i][j-1]/30)\n",
    "        Aok.append(temp)\n",
    "    return(Aok)\n",
    "\n",
    "matrix = np.array([change(A),change(A1),change(B),change(C),change(D)])\n",
    "print(matrix)\n",
    "\n",
    "def rtc(A):\n",
    "    rtc = []\n",
    "    for i in range(3):\n",
    "        temp = []\n",
    "        for j in range(5):\n",
    "            temp.append(A[j][i])\n",
    "        rtc.append(temp)\n",
    "    return np.array(rtc)\n",
    "matric = rtc(matrix)"
   ]
  },
  {
   "cell_type": "code",
   "execution_count": 9,
   "metadata": {},
   "outputs": [
    {
     "name": "stdout",
     "output_type": "stream",
     "text": [
      "[[[0.94333333 0.3        0.         0.01111111]\n",
      "  [0.92666667 0.3        0.         0.        ]\n",
      "  [0.94       0.3        0.         0.01111111]\n",
      "  [0.88333333 0.3        0.         0.        ]\n",
      "  [0.89333333 0.3        0.         0.        ]]\n",
      "\n",
      " [[0.98       0.24444444 0.28888889 0.        ]\n",
      "  [0.98666667 0.23333333 0.31111111 0.        ]\n",
      "  [0.98       0.24444444 0.28888889 0.        ]\n",
      "  [0.95333333 0.25555556 0.25555556 0.        ]\n",
      "  [0.96333333 0.24444444 0.28888889 0.        ]]\n",
      "\n",
      " [[0.99       0.23333333 0.3        0.        ]\n",
      "  [0.97666667 0.23333333 0.3        0.        ]\n",
      "  [0.99       0.23333333 0.31111111 0.        ]\n",
      "  [0.93666667 0.26666667 0.2        0.02222222]\n",
      "  [0.93666667 0.25555556 0.23333333 0.        ]]]\n"
     ]
    }
   ],
   "source": [
    "cost = []\n",
    "mat = rnf(matric,cost)\n",
    "print(np.array(mat))"
   ]
  },
  {
   "cell_type": "code",
   "execution_count": 10,
   "metadata": {},
   "outputs": [
    {
     "name": "stdout",
     "output_type": "stream",
     "text": [
      "[0.28496847 0.40953786 0.40944812]\n",
      "[0.19355556 0.27922222 0.27588889]\n",
      "[0.25521331 0.3552628  0.35150042]\n",
      "[0.14687009 0.21694148 0.21414849]\n",
      "[0.12432179 0.18745894 0.18489681]\n",
      "[0.04598618 0.09466385 0.09244802]\n",
      "[0.29933524 0.42466861 0.41992468]\n",
      "[0.2656236  0.36451836 0.36083927]\n",
      "[0.15321025 0.22288654 0.22013946]\n",
      "[0.13099223 0.18866047 0.18425592]\n",
      "[0.10718255 0.1622688  0.16002005]\n",
      "[0.04821331 0.06731303 0.06324108]\n",
      "[0.0293516  0.04731476 0.04484441]\n"
     ]
    }
   ],
   "source": [
    "for i in range(13):\n",
    "    print(np.array(ej(mat,i)))"
   ]
  },
  {
   "cell_type": "code",
   "execution_count": 11,
   "metadata": {},
   "outputs": [
    {
     "name": "stdout",
     "output_type": "stream",
     "text": [
      "[0.0004155  0.00034111 0.00185503]\n",
      "[0.01       0.01194444 0.02911111]\n",
      "[0.00723748 0.00865285 0.02122357]\n",
      "[0.01433233 0.01708806 0.04114118]\n",
      "[0.01571551 0.01873676 0.04509901]\n",
      "[0.0157067  0.01875969 0.04569112]\n",
      "[0.0001634  0.00024973 0.00151036]\n",
      "[0.0078543  0.00938179 0.02287295]\n",
      "[0.01554704 0.01851762 0.04428632]\n",
      "[nan nan nan]\n",
      "[0.0320977  0.03115774 0.07478386]\n",
      "[nan nan nan]\n",
      "[0.06306726 0.04414051 0.08894565]\n"
     ]
    },
    {
     "name": "stderr",
     "output_type": "stream",
     "text": [
      "/Users/quangthinhbui/Desktop/coding/im.py:53: RuntimeWarning: invalid value encountered in double_scalars\n",
      "  t = [min(a[i],b[i])/max(a[i],b[i]) for i in range(4)]\n",
      "/Users/quangthinhbui/Desktop/coding/im.py:64: RuntimeWarning: invalid value encountered in double_scalars\n",
      "  t = [min(a[i]**2,b[i]**2)/max(a[i]**2,b[i]**2) for i in range(4)]\n"
     ]
    }
   ],
   "source": [
    "for i in range(13):\n",
    "    print(np.array(cj(mat,i)))"
   ]
  },
  {
   "cell_type": "code",
   "execution_count": 12,
   "metadata": {},
   "outputs": [
    {
     "name": "stdout",
     "output_type": "stream",
     "text": [
      "[0.72288876 0.71938891 0.72165453 0.72165852 0.7190404 ]\n",
      "[0.75918933 0.7554847  0.75798508 0.76099513 0.75732372]\n",
      "[0.72448798 0.72103008 0.72335539 0.72587796 0.72252696]\n",
      "[0.78752477 0.7836998  0.78628497 0.78958803 0.78574803]\n",
      "[0.80571797 0.80186289 0.80447213 0.80791637 0.80401845]\n",
      "[0.8963793  0.89257843 0.89518058 0.89927756 0.89527188]\n",
      "[0.71720678 0.71382228 0.71610235 0.71841663 0.71518292]\n",
      "[0.71663754 0.71325442 0.7155261  0.71792998 0.71466808]\n",
      "[0.77950804 0.7757081  0.77827222 0.78148681 0.77768848]\n",
      "[nan nan nan nan nan]\n",
      "[0.90164512 0.89893934 0.89973413 0.91915738 0.9117195 ]\n",
      "[nan nan nan nan nan]\n",
      "[0.96270149 0.95918135 0.96114937 0.97486796 0.96764897]\n"
     ]
    }
   ],
   "source": [
    "visual = []\n",
    "for i in range(13):\n",
    "    print(np.array(S(mat,i)))\n",
    "    visual.append(S(mat,i))"
   ]
  },
  {
   "cell_type": "code",
   "execution_count": 13,
   "metadata": {},
   "outputs": [
    {
     "name": "stdout",
     "output_type": "stream",
     "text": [
      "[0.84582037 0.84321287 0.8452294  0.85501053 0.85012262]\n",
      "[0.75918933 0.7554847  0.75798508 0.76099513 0.75732372]\n",
      "[0.81508898 0.8120397  0.81410011 0.81657519 0.81356221]\n",
      "[0.68872642 0.68445752 0.68733016 0.6907101  0.68649214]\n",
      "[0.66135696 0.65679941 0.65986502 0.66347752 0.65896882]\n",
      "[0.62971306 0.62430785 0.62795645 0.63252456 0.62709599]\n",
      "[0.9287483  0.92649427 0.92803824 0.93024306 0.9279321 ]\n",
      "[0.8088926  0.80587919 0.80791237 0.81030201 0.80733859]\n",
      "[0.67885292 0.67465887 0.67747662 0.68072286 0.676598  ]\n",
      "[nan nan nan nan nan]\n",
      "[0.56235396 0.55645631 0.56092435 0.55685379 0.55331148]\n",
      "[nan nan nan nan nan]\n",
      "[0.49155104 0.48225835 0.48995144 0.45706212 0.45880382]\n"
     ]
    }
   ],
   "source": [
    "for i in range(13):\n",
    "    print(np.array(Spos(mat,i)))"
   ]
  },
  {
   "cell_type": "code",
   "execution_count": 14,
   "metadata": {},
   "outputs": [
    {
     "name": "stdout",
     "output_type": "stream",
     "text": [
      "[0.32423569 0.32891094 0.32600887 0.32977494 0.33217899]\n",
      "[0.24081067 0.2445153  0.24201492 0.23900487 0.24267628]\n",
      "[0.30996624 0.31418197 0.31134959 0.30837313 0.31243343]\n",
      "[0.18581931 0.18890945 0.18681877 0.18406266 0.1871876 ]\n",
      "[0.1594724  0.1622925  0.16038094 0.15774303 0.16062533]\n",
      "[0.07279431 0.07513528 0.07352933 0.07084511 0.07335714]\n",
      "[0.36620363 0.37143983 0.36791931 0.36460873 0.36954309]\n",
      "[0.31984063 0.32398298 0.32120419 0.31836239 0.32233071]\n",
      "[0.19202061 0.19507405 0.19301137 0.19033836 0.1934136 ]\n",
      "[nan nan nan nan nan]\n",
      "[0.06134371 0.06255799 0.0625091  0.04897694 0.05357636]\n",
      "[nan nan nan nan nan]\n",
      "[0.01904445 0.02052285 0.01980434 0.01178304 0.01533901]\n"
     ]
    }
   ],
   "source": [
    "for i in range(13):\n",
    "    print(np.array(Sneg(mat,i)))"
   ]
  },
  {
   "cell_type": "code",
   "execution_count": 15,
   "metadata": {},
   "outputs": [
    {
     "name": "stdout",
     "output_type": "stream",
     "text": [
      "[0.72288876 0.71938891 0.72165453 0.72165852 0.7190404 ]\n",
      "[0.75918933 0.7554847  0.75798508 0.76099513 0.75732372]\n",
      "[0.72448798 0.72103008 0.72335539 0.72587796 0.72252696]\n",
      "[0.78752477 0.7836998  0.78628497 0.78958803 0.78574803]\n",
      "[0.80571797 0.80186289 0.80447213 0.80791637 0.80401845]\n",
      "[0.8963793  0.89257843 0.89518058 0.89927756 0.89527188]\n",
      "[0.71720678 0.71382228 0.71610235 0.71841663 0.71518292]\n",
      "[0.71663754 0.71325442 0.7155261  0.71792998 0.71466808]\n",
      "[0.77950804 0.7757081  0.77827222 0.78148681 0.77768848]\n",
      "[nan nan nan nan nan]\n",
      "[0.90164512 0.89893934 0.89973413 0.91915738 0.9117195 ]\n",
      "[nan nan nan nan nan]\n",
      "[0.96270149 0.95918135 0.96114937 0.97486796 0.96764897]\n"
     ]
    }
   ],
   "source": [
    "for i in range(13):\n",
    "    print(np.array(S(mat,i)))"
   ]
  },
  {
   "cell_type": "code",
   "execution_count": 16,
   "metadata": {},
   "outputs": [
    {
     "name": "stdout",
     "output_type": "stream",
     "text": [
      "Similarity no. 1 : [5 2 3 4 1]\n",
      "Similarity no. 2 : [2 5 3 1 4]\n",
      "Similarity no. 3 : [2 5 3 1 4]\n",
      "Similarity no. 4 : [2 5 3 1 4]\n",
      "Similarity no. 5 : [2 5 3 1 4]\n",
      "Similarity no. 6 : [2 3 5 1 4]\n",
      "Similarity no. 7 : [2 5 3 1 4]\n",
      "Similarity no. 8 : [2 5 3 1 4]\n",
      "Similarity no. 9 : [2 5 3 1 4]\n",
      "Similarity no. 10 : [1 2 3 4 5]\n",
      "Similarity no. 11 : [2 3 1 5 4]\n",
      "Similarity no. 12 : [1 2 3 4 5]\n",
      "Similarity no. 13 : [2 3 1 5 4]\n"
     ]
    }
   ],
   "source": [
    "for i in range(13):\n",
    "    print(\"Similarity no.\",i+1,\":\",np.array(rank(mat,i)))"
   ]
  },
  {
   "cell_type": "code",
   "execution_count": 17,
   "metadata": {},
   "outputs": [
    {
     "name": "stdout",
     "output_type": "stream",
     "text": [
      "Similarity no. 1 : 1\n",
      "Similarity no. 2 : 4\n",
      "Similarity no. 3 : 4\n",
      "Similarity no. 4 : 4\n",
      "Similarity no. 5 : 4\n",
      "Similarity no. 6 : 4\n",
      "Similarity no. 7 : 4\n",
      "Similarity no. 8 : 4\n",
      "Similarity no. 9 : 4\n",
      "Similarity no. 10 : 5\n",
      "Similarity no. 11 : 4\n",
      "Similarity no. 12 : 5\n",
      "Similarity no. 13 : 4\n"
     ]
    }
   ],
   "source": [
    " for i in range(13):\n",
    "    print(\"Similarity no.\",i+1,\":\",alt(mat,i))"
   ]
  },
  {
   "cell_type": "code",
   "execution_count": 18,
   "metadata": {},
   "outputs": [
    {
     "name": "stderr",
     "output_type": "stream",
     "text": [
      "The PostScript backend does not support transparency; partially transparent artists will be rendered opaque.\n",
      "The PostScript backend does not support transparency; partially transparent artists will be rendered opaque.\n"
     ]
    },
    {
     "data": {
      "image/png": "[encoded data removed]",
      "text/plain": [
       "<Figure size 720x324 with 1 Axes>"
      ]
     },
     "metadata": {
      "needs_background": "light"
     },
     "output_type": "display_data"
    }
   ],
   "source": [
    "import matplotlib.pyplot as plt\n",
    "xaxis = [1,2,3,4,5,6,7,8,9,10,11,12,13]\n",
    "plt.plot(xaxis,[visual[i][0] for i in range(13)],\n",
    "         'go-', color='blue', label='A', marker='o')\n",
    "plt.plot(xaxis,[visual[i][1] for i in range(13)],\n",
    "         'go-', color='green', label='A1', marker='o')\n",
    "plt.plot(xaxis,[visual[i][2] for i in range(13)],\n",
    "         'go-', color='red', label='B', marker='o')\n",
    "plt.plot(xaxis,[visual[i][3] for i in range(13)],\n",
    "         'go-', color='cyan', label='C', marker='o')\n",
    "plt.plot(xaxis,[visual[i][4] for i in range(13)],\n",
    "         'go-', color='magenta', label='D', marker='o')\n",
    "plt.xticks(xaxis,[\"IM1\",\"IM2\",\"IM3\",\"IM4\",\"IM5\",\"IM6\",\"IM7\",\"IM8\",\"IM9\",\"IM10\",\"IM11\",\"IM12\",\"IM13\"])\n",
    "plt.xlabel(\"Information Measures\")\n",
    "plt.ylabel(\"Combination Scores\")\n",
    "plt.title(\"The visualization of combination scores Si and rank of combinations \\n using information measures IMi\")\n",
    "figure = plt.gcf()\n",
    "figure.set_size_inches(10,4.5)\n",
    "plt.legend(loc='upper center', ncol=5)\n",
    "plt.savefig('decision making.eps', format='eps')\n",
    "plt.show()"
   ]
  },
  {
   "cell_type": "code",
   "execution_count": null,
   "metadata": {},
   "outputs": [],
   "source": [
    "# 9\t7\t8.2\tLí\t8.75\tHoá\t8.75\tSinh \t5\n",
    "# Khối A: 26.5đ. Khối A1: 25.92đ. Khối B: 22.75đ. Khối D: 24.2đ"
   ]
  }
 ],
 "metadata": {
  "kernelspec": {
   "display_name": "Python 3",
   "language": "python",
   "name": "python3"
  },
  "language_info": {
   "codemirror_mode": {
    "name": "ipython",
    "version": 3
   },
   "file_extension": ".py",
   "mimetype": "text/x-python",
   "name": "python",
   "nbconvert_exporter": "python",
   "pygments_lexer": "ipython3",
   "version": "3.8.5"
  }
 },
 "nbformat": 4,
 "nbformat_minor": 4
}

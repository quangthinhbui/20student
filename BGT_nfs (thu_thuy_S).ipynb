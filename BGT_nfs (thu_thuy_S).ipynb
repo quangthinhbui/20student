{
 "cells": [
  {
   "cell_type": "code",
   "execution_count": 1,
   "metadata": {},
   "outputs": [
    {
     "data": {
      "text/html": [
       "<div>\n",
       "<style scoped>\n",
       "    .dataframe tbody tr th:only-of-type {\n",
       "        vertical-align: middle;\n",
       "    }\n",
       "\n",
       "    .dataframe tbody tr th {\n",
       "        vertical-align: top;\n",
       "    }\n",
       "\n",
       "    .dataframe thead th {\n",
       "        text-align: right;\n",
       "    }\n",
       "</style>\n",
       "<table border=\"1\" class=\"dataframe\">\n",
       "  <thead>\n",
       "    <tr style=\"text-align: right;\">\n",
       "      <th></th>\n",
       "      <th>T10</th>\n",
       "      <th>T10_T</th>\n",
       "      <th>T10_F</th>\n",
       "      <th>T10_I</th>\n",
       "      <th>L10</th>\n",
       "      <th>L10_T</th>\n",
       "      <th>L10_F</th>\n",
       "      <th>L10_I</th>\n",
       "      <th>H10</th>\n",
       "      <th>H10_T</th>\n",
       "      <th>...</th>\n",
       "      <th>SU12_F</th>\n",
       "      <th>SU12_I</th>\n",
       "      <th>D12</th>\n",
       "      <th>D12_T</th>\n",
       "      <th>D12_F</th>\n",
       "      <th>D12_I</th>\n",
       "      <th>AV12</th>\n",
       "      <th>AV12_T</th>\n",
       "      <th>AV12_F</th>\n",
       "      <th>AV12_I</th>\n",
       "    </tr>\n",
       "  </thead>\n",
       "  <tbody>\n",
       "    <tr>\n",
       "      <th>0</th>\n",
       "      <td>9.3</td>\n",
       "      <td>10</td>\n",
       "      <td>0</td>\n",
       "      <td>0</td>\n",
       "      <td>7.7</td>\n",
       "      <td>8</td>\n",
       "      <td>2</td>\n",
       "      <td>2</td>\n",
       "      <td>8.6</td>\n",
       "      <td>8</td>\n",
       "      <td>...</td>\n",
       "      <td>0</td>\n",
       "      <td>0</td>\n",
       "      <td>8.9</td>\n",
       "      <td>10</td>\n",
       "      <td>0</td>\n",
       "      <td>0</td>\n",
       "      <td>7.8</td>\n",
       "      <td>10</td>\n",
       "      <td>0</td>\n",
       "      <td>0</td>\n",
       "    </tr>\n",
       "    <tr>\n",
       "      <th>1</th>\n",
       "      <td>9.1</td>\n",
       "      <td>9</td>\n",
       "      <td>1</td>\n",
       "      <td>1</td>\n",
       "      <td>7.1</td>\n",
       "      <td>9</td>\n",
       "      <td>2</td>\n",
       "      <td>5</td>\n",
       "      <td>8.0</td>\n",
       "      <td>7</td>\n",
       "      <td>...</td>\n",
       "      <td>5</td>\n",
       "      <td>4</td>\n",
       "      <td>8.8</td>\n",
       "      <td>7</td>\n",
       "      <td>1</td>\n",
       "      <td>1</td>\n",
       "      <td>7.6</td>\n",
       "      <td>7</td>\n",
       "      <td>6</td>\n",
       "      <td>4</td>\n",
       "    </tr>\n",
       "    <tr>\n",
       "      <th>2</th>\n",
       "      <td>9.4</td>\n",
       "      <td>8</td>\n",
       "      <td>2</td>\n",
       "      <td>2</td>\n",
       "      <td>7.6</td>\n",
       "      <td>10</td>\n",
       "      <td>0</td>\n",
       "      <td>0</td>\n",
       "      <td>9.0</td>\n",
       "      <td>10</td>\n",
       "      <td>...</td>\n",
       "      <td>0</td>\n",
       "      <td>0</td>\n",
       "      <td>9.0</td>\n",
       "      <td>10</td>\n",
       "      <td>0</td>\n",
       "      <td>0</td>\n",
       "      <td>9.0</td>\n",
       "      <td>10</td>\n",
       "      <td>0</td>\n",
       "      <td>0</td>\n",
       "    </tr>\n",
       "    <tr>\n",
       "      <th>3</th>\n",
       "      <td>9.3</td>\n",
       "      <td>9</td>\n",
       "      <td>0</td>\n",
       "      <td>9</td>\n",
       "      <td>7.1</td>\n",
       "      <td>9</td>\n",
       "      <td>8</td>\n",
       "      <td>8</td>\n",
       "      <td>8.7</td>\n",
       "      <td>9</td>\n",
       "      <td>...</td>\n",
       "      <td>8</td>\n",
       "      <td>6</td>\n",
       "      <td>8.2</td>\n",
       "      <td>9</td>\n",
       "      <td>7</td>\n",
       "      <td>6</td>\n",
       "      <td>8.3</td>\n",
       "      <td>8</td>\n",
       "      <td>8</td>\n",
       "      <td>9</td>\n",
       "    </tr>\n",
       "    <tr>\n",
       "      <th>4</th>\n",
       "      <td>9.3</td>\n",
       "      <td>8</td>\n",
       "      <td>2</td>\n",
       "      <td>3</td>\n",
       "      <td>9.6</td>\n",
       "      <td>6</td>\n",
       "      <td>4</td>\n",
       "      <td>6</td>\n",
       "      <td>8.6</td>\n",
       "      <td>7</td>\n",
       "      <td>...</td>\n",
       "      <td>7</td>\n",
       "      <td>4</td>\n",
       "      <td>9.6</td>\n",
       "      <td>6</td>\n",
       "      <td>4</td>\n",
       "      <td>5</td>\n",
       "      <td>9.4</td>\n",
       "      <td>6</td>\n",
       "      <td>4</td>\n",
       "      <td>5</td>\n",
       "    </tr>\n",
       "  </tbody>\n",
       "</table>\n",
       "<p>5 rows × 96 columns</p>\n",
       "</div>"
      ],
      "text/plain": [
       "   T10  T10_T  T10_F  T10_I  L10  L10_T  L10_F  L10_I  H10  H10_T  ...  \\\n",
       "0  9.3     10      0      0  7.7      8      2      2  8.6      8  ...   \n",
       "1  9.1      9      1      1  7.1      9      2      5  8.0      7  ...   \n",
       "2  9.4      8      2      2  7.6     10      0      0  9.0     10  ...   \n",
       "3  9.3      9      0      9  7.1      9      8      8  8.7      9  ...   \n",
       "4  9.3      8      2      3  9.6      6      4      6  8.6      7  ...   \n",
       "\n",
       "   SU12_F  SU12_I  D12  D12_T  D12_F  D12_I  AV12  AV12_T  AV12_F  AV12_I  \n",
       "0       0       0  8.9     10      0      0   7.8      10       0       0  \n",
       "1       5       4  8.8      7      1      1   7.6       7       6       4  \n",
       "2       0       0  9.0     10      0      0   9.0      10       0       0  \n",
       "3       8       6  8.2      9      7      6   8.3       8       8       9  \n",
       "4       7       4  9.6      6      4      5   9.4       6       4       5  \n",
       "\n",
       "[5 rows x 96 columns]"
      ]
     },
     "execution_count": 1,
     "metadata": {},
     "output_type": "execute_result"
    }
   ],
   "source": [
    "import pandas as pd\n",
    "import numpy as np\n",
    "\n",
    "data = pd.read_csv(\"BGT.csv\") \n",
    "data.head(5)\n",
    "#print(data)"
   ]
  },
  {
   "cell_type": "code",
   "execution_count": 2,
   "metadata": {},
   "outputs": [
    {
     "name": "stdout",
     "output_type": "stream",
     "text": [
      "[ 9.4 10.   1.   0.   9.1  9.   1.   1.   9.4 10.   1.   1.   9.2 10.\n",
      "  2.   2.   8.7  5.   5.   5.   9.2  8.   3.   3.   8.5  9.   3.   2.\n",
      "  7.5  5.   5.   5.   9.3 10.   1.   1.   9.5  9.   1.   1.   9.5 10.\n",
      "  1.   1.   9.1 10.   1.   2.   8.4  5.   5.   5.   9.   7.   4.   5.\n",
      "  8.9  8.   3.   2.   7.7  6.   3.   4.   9.6 10.   1.   1.   9.4  9.\n",
      "  1.   2.   9.5  9.   2.   2.   9.5  9.   2.   2.   8.9  8.   3.   4.\n",
      "  8.7  8.   2.   2.   9.6  9.   2.   1.   8.4  8.   2.   2. ]\n"
     ]
    }
   ],
   "source": [
    "duc = np.array(data[46:47])[0]\n",
    "print(duc)"
   ]
  },
  {
   "cell_type": "code",
   "execution_count": 3,
   "metadata": {},
   "outputs": [
    {
     "name": "stdout",
     "output_type": "stream",
     "text": [
      "[ 9.4 10.   1.   0. ]\n",
      "[9.1 9.  1.  1. ]\n",
      "[ 9.4 10.   1.   1. ]\n",
      "[9.3        9.66666667 1.         0.66666667]\n",
      "[ 9.3 10.   1.   1. ]\n",
      "[9.5 9.  1.  1. ]\n",
      "[ 9.5 10.   1.   1. ]\n",
      "[9.43333333 9.66666667 1.         1.        ]\n",
      "[ 9.6 10.   1.   1. ]\n",
      "[9.4 9.  1.  2. ]\n",
      "[9.5 9.  2.  2. ]\n",
      "[9.5        9.33333333 1.33333333 1.66666667]\n"
     ]
    }
   ],
   "source": [
    "T10 = duc[0:4]\n",
    "print(T10)\n",
    "L10 = duc[4:8]\n",
    "print(L10)\n",
    "H10 = duc[8:12]\n",
    "print(H10)\n",
    "A10 = np.mean(np.array([T10,L10,H10]),axis=0)\n",
    "print(A10)\n",
    "\n",
    "T11 = duc[32:36]\n",
    "print(T11)\n",
    "L11 = duc[36:40]\n",
    "print(L11)\n",
    "H11 = duc[40:44]\n",
    "print(H11)\n",
    "A11 = np.mean(np.array([T11,L11,H11]),axis=0)\n",
    "print(A11)\n",
    "\n",
    "T12 = duc[64:68]\n",
    "print(T12)\n",
    "L12 = duc[68:72]\n",
    "print(L12)\n",
    "H12 = duc[72:76]\n",
    "print(H12)\n",
    "A12 = np.mean(np.array([T12,L12,H12]),axis=0)\n",
    "print(A12)\n",
    "\n",
    "A = [A10,A11,A12]"
   ]
  },
  {
   "cell_type": "code",
   "execution_count": 4,
   "metadata": {},
   "outputs": [
    {
     "name": "stdout",
     "output_type": "stream",
     "text": [
      "[ 9.4 10.   1.   0. ]\n",
      "[9.1 9.  1.  1. ]\n",
      "[7.5 5.  5.  5. ]\n",
      "[8.66666667 8.         2.33333333 2.        ]\n",
      "[ 9.3 10.   1.   1. ]\n",
      "[9.5 9.  1.  1. ]\n",
      "[7.7 6.  3.  4. ]\n",
      "[8.83333333 8.33333333 1.66666667 2.        ]\n",
      "[ 9.6 10.   1.   1. ]\n",
      "[9.4 9.  1.  2. ]\n",
      "[8.4 8.  2.  2. ]\n",
      "[9.13333333 9.         1.33333333 1.66666667]\n"
     ]
    }
   ],
   "source": [
    "T10 = duc[0:4]\n",
    "print(T10)\n",
    "L10 = duc[4:8]\n",
    "print(L10)\n",
    "A10 = duc[28:32]\n",
    "print(A10)\n",
    "A110 = np.mean(np.array([T10,L10,A10]),axis=0)\n",
    "print(A110)\n",
    "\n",
    "T11 = duc[32:36]\n",
    "print(T11)\n",
    "L11 = duc[36:40]\n",
    "print(L11)\n",
    "A11 = duc[60:64]\n",
    "print(A11)\n",
    "A111 = np.mean(np.array([T11,L11,A11]),axis=0)\n",
    "print(A111)\n",
    "\n",
    "T12 = duc[64:68]\n",
    "print(T12)\n",
    "L12 = duc[68:72]\n",
    "print(L12)\n",
    "A12 = duc[92:96]\n",
    "print(A12)\n",
    "A112 = np.mean(np.array([T12,L12,A12]),axis=0)\n",
    "print(A112)\n",
    "\n",
    "A1 = [A110,A111,A112]"
   ]
  },
  {
   "cell_type": "code",
   "execution_count": 5,
   "metadata": {},
   "outputs": [
    {
     "name": "stdout",
     "output_type": "stream",
     "text": [
      "[ 9.4 10.   1.   0. ]\n",
      "[ 9.4 10.   1.   1. ]\n",
      "[ 9.2 10.   2.   2. ]\n",
      "[7.5 5.  5.  5. ]\n",
      "[ 9.3 10.   1.   1. ]\n",
      "[ 9.5 10.   1.   1. ]\n",
      "[ 9.1 10.   1.   2. ]\n",
      "[ 9.3        10.          1.          1.33333333]\n",
      "[ 9.6 10.   1.   1. ]\n",
      "[9.5 9.  2.  2. ]\n",
      "[9.5 9.  2.  2. ]\n",
      "[9.53333333 9.33333333 1.66666667 1.66666667]\n"
     ]
    }
   ],
   "source": [
    "T10 = duc[0:4]\n",
    "print(T10)\n",
    "H10 = duc[8:12]\n",
    "print(H10)\n",
    "SI10 = duc[12:16]\n",
    "print(SI10)\n",
    "B10 = np.mean(np.array([T10,H10,SI10]),axis=0)\n",
    "print(A10)\n",
    "\n",
    "T11 = duc[32:36]\n",
    "print(T11)\n",
    "H11 = duc[40:44]\n",
    "print(H11)\n",
    "SI11 = duc[44:48]\n",
    "print(SI11)\n",
    "B11 = np.mean(np.array([T11,H11,SI11]),axis=0)\n",
    "print(B11)\n",
    "\n",
    "T12 = duc[64:68]\n",
    "print(T12)\n",
    "H12 = duc[72:76]\n",
    "print(H12)\n",
    "SI12 = duc[76:80]\n",
    "print(SI12)\n",
    "B12 = np.mean(np.array([T12,H12,SI12]),axis=0)\n",
    "print(B12)\n",
    "\n",
    "B = [B10,B11,B12]"
   ]
  },
  {
   "cell_type": "code",
   "execution_count": 6,
   "metadata": {},
   "outputs": [
    {
     "name": "stdout",
     "output_type": "stream",
     "text": [
      "[8.7 5.  5.  5. ]\n",
      "[9.2 8.  3.  3. ]\n",
      "[8.5 9.  3.  2. ]\n",
      "[7.5 5.  5.  5. ]\n",
      "[8.4 5.  5.  5. ]\n",
      "[9. 7. 4. 5.]\n",
      "[8.9 8.  3.  2. ]\n",
      "[ 9.3        10.          1.          1.33333333]\n",
      "[8.9 8.  3.  4. ]\n",
      "[8.7 8.  2.  2. ]\n",
      "[9.6 9.  2.  1. ]\n",
      "[9.53333333 9.33333333 1.66666667 1.66666667]\n"
     ]
    }
   ],
   "source": [
    "V10 = duc[16:20]\n",
    "print(V10)\n",
    "SU10 = duc[20:24]\n",
    "print(SU10)\n",
    "D10 = duc[24:28]\n",
    "print(D10)\n",
    "C10 = np.mean(np.array([V10,SU10,D10]),axis=0)\n",
    "print(A10)\n",
    "\n",
    "V11 = duc[48:52]\n",
    "print(V11)\n",
    "SU11 = duc[52:56]\n",
    "print(SU11)\n",
    "D11 = duc[56:60]\n",
    "print(D11)\n",
    "C11 = np.mean(np.array([V11,SU11,D11]),axis=0)\n",
    "print(B11)\n",
    "\n",
    "V12 = duc[80:84]\n",
    "print(V12)\n",
    "SU12 = duc[84:88]\n",
    "print(SU12)\n",
    "D12 = duc[88:92]\n",
    "print(D12)\n",
    "C12 = np.mean(np.array([V12,SU12,D12]),axis=0)\n",
    "print(B12)\n",
    "\n",
    "C = [C10,C11,C12]"
   ]
  },
  {
   "cell_type": "code",
   "execution_count": 7,
   "metadata": {},
   "outputs": [
    {
     "name": "stdout",
     "output_type": "stream",
     "text": [
      "[ 9.4 10.   1.   0. ]\n",
      "[8.7 5.  5.  5. ]\n",
      "[7.5 5.  5.  5. ]\n",
      "[8.53333333 6.66666667 3.66666667 3.33333333]\n",
      "[ 9.3 10.   1.   1. ]\n",
      "[8.4 5.  5.  5. ]\n",
      "[7.7 6.  3.  4. ]\n",
      "[8.46666667 7.         3.         3.33333333]\n",
      "[ 9.6 10.   1.   1. ]\n",
      "[8.9 8.  3.  4. ]\n",
      "[8.4 8.  2.  2. ]\n",
      "[8.96666667 8.66666667 2.         2.33333333]\n"
     ]
    }
   ],
   "source": [
    "T10 = duc[0:4]\n",
    "print(T10)\n",
    "V10 = duc[16:20]\n",
    "print(V10)\n",
    "A10 = duc[28:32]\n",
    "print(A10)\n",
    "DD10 = np.mean(np.array([T10,V10,A10]),axis=0)\n",
    "print(DD10)\n",
    "\n",
    "T11 = duc[32:36]\n",
    "print(T11)\n",
    "V11 = duc[48:52]\n",
    "print(V11)\n",
    "A11 = duc[60:64]\n",
    "print(A11)\n",
    "DD11 = np.mean(np.array([T11,V11,A11]),axis=0)\n",
    "print(DD11)\n",
    "\n",
    "T12 = duc[64:68]\n",
    "print(T12)\n",
    "V12 = duc[80:84]\n",
    "print(V12)\n",
    "A12 = duc[92:96]\n",
    "print(A12)\n",
    "DD12 = np.mean(np.array([T12,V12,A12]),axis=0)\n",
    "print(DD12)\n",
    "\n",
    "D = [DD10,DD11,DD12]"
   ]
  },
  {
   "cell_type": "code",
   "execution_count": 8,
   "metadata": {},
   "outputs": [
    {
     "name": "stdout",
     "output_type": "stream",
     "text": [
      "[[[0.93       0.32222222 0.02222222 0.03333333]\n",
      "  [0.94333333 0.32222222 0.03333333 0.03333333]\n",
      "  [0.95       0.31111111 0.05555556 0.04444444]]\n",
      "\n",
      " [[0.86666667 0.26666667 0.06666667 0.07777778]\n",
      "  [0.88333333 0.27777778 0.06666667 0.05555556]\n",
      "  [0.91333333 0.3        0.05555556 0.04444444]]\n",
      "\n",
      " [[0.93333333 0.33333333 0.03333333 0.04444444]\n",
      "  [0.93       0.33333333 0.04444444 0.03333333]\n",
      "  [0.95333333 0.31111111 0.05555556 0.05555556]]\n",
      "\n",
      " [[0.88       0.24444444 0.11111111 0.12222222]\n",
      "  [0.87666667 0.22222222 0.13333333 0.13333333]\n",
      "  [0.90666667 0.27777778 0.07777778 0.07777778]]\n",
      "\n",
      " [[0.85333333 0.22222222 0.11111111 0.12222222]\n",
      "  [0.84666667 0.23333333 0.11111111 0.1       ]\n",
      "  [0.89666667 0.28888889 0.07777778 0.06666667]]]\n"
     ]
    }
   ],
   "source": [
    "from dm import *\n",
    "from im import *\n",
    "\n",
    "def change(A):\n",
    "    Aok = []\n",
    "    for i in range(3):\n",
    "        temp = []\n",
    "        for j in range(4):\n",
    "            if j == 0:\n",
    "                temp.append(A[i][j]/10)\n",
    "            if j == 1:\n",
    "                temp.append(A[i][j]/30)\n",
    "            if j == 2:\n",
    "                temp.append(A[i][j+1]/30)\n",
    "            if j == 3:\n",
    "                temp.append(A[i][j-1]/30)\n",
    "        Aok.append(temp)\n",
    "    return(Aok)\n",
    "\n",
    "matrix = np.array([change(A),change(A1),change(B),change(C),change(D)])\n",
    "print(matrix)\n",
    "\n",
    "def rtc(A):\n",
    "    rtc = []\n",
    "    for i in range(3):\n",
    "        temp = []\n",
    "        for j in range(5):\n",
    "            temp.append(A[j][i])\n",
    "        rtc.append(temp)\n",
    "    return np.array(rtc)\n",
    "matric = rtc(matrix)"
   ]
  },
  {
   "cell_type": "code",
   "execution_count": 9,
   "metadata": {},
   "outputs": [
    {
     "name": "stdout",
     "output_type": "stream",
     "text": [
      "[[[0.93       0.32222222 0.02222222 0.03333333]\n",
      "  [0.86666667 0.26666667 0.06666667 0.07777778]\n",
      "  [0.93333333 0.33333333 0.03333333 0.04444444]\n",
      "  [0.88       0.24444444 0.11111111 0.12222222]\n",
      "  [0.85333333 0.22222222 0.11111111 0.12222222]]\n",
      "\n",
      " [[0.94333333 0.32222222 0.03333333 0.03333333]\n",
      "  [0.88333333 0.27777778 0.06666667 0.05555556]\n",
      "  [0.93       0.33333333 0.04444444 0.03333333]\n",
      "  [0.87666667 0.22222222 0.13333333 0.13333333]\n",
      "  [0.84666667 0.23333333 0.11111111 0.1       ]]\n",
      "\n",
      " [[0.95       0.31111111 0.05555556 0.04444444]\n",
      "  [0.91333333 0.3        0.05555556 0.04444444]\n",
      "  [0.95333333 0.31111111 0.05555556 0.05555556]\n",
      "  [0.90666667 0.27777778 0.07777778 0.07777778]\n",
      "  [0.89666667 0.28888889 0.07777778 0.06666667]]]\n"
     ]
    }
   ],
   "source": [
    "cost = []\n",
    "mat = rnf(matric,cost)\n",
    "print(np.array(mat))"
   ]
  },
  {
   "cell_type": "code",
   "execution_count": 10,
   "metadata": {},
   "outputs": [
    {
     "name": "stdout",
     "output_type": "stream",
     "text": [
      "[0.41867717 0.41560209 0.38415855]\n",
      "[0.267      0.26533333 0.248     ]\n",
      "[0.34097846 0.33904368 0.31951083]\n",
      "[0.20696114 0.20559416 0.19105175]\n",
      "[0.17847683 0.17724238 0.16388962]\n",
      "[0.08776337 0.08679101 0.07518698]\n",
      "[0.40673063 0.40429538 0.37967006]\n",
      "[0.35040824 0.34850168 0.32940841]\n",
      "[0.21296242 0.21160632 0.19730938]\n",
      "[0.16897617 0.16816522 0.15950383]\n",
      "[0.15444016 0.15336333 0.14163886]\n",
      "[0.04822103 0.04835562 0.04936029]\n",
      "[0.03473518 0.03462136 0.03309221]\n"
     ]
    }
   ],
   "source": [
    "for i in range(13):\n",
    "    print(np.array(ej(mat,i)))"
   ]
  },
  {
   "cell_type": "code",
   "execution_count": 11,
   "metadata": {},
   "outputs": [
    {
     "name": "stdout",
     "output_type": "stream",
     "text": [
      "[0.00379471 0.00417078 0.00065406]\n",
      "[0.05172222 0.05455556 0.02005556]\n",
      "[0.03794738 0.04004503 0.0145577 ]\n",
      "[0.07224787 0.07614159 0.02858111]\n",
      "[0.07916169 0.0834242  0.03133693]\n",
      "[0.08108034 0.08551108 0.03149437]\n",
      "[0.00424928 0.00460351 0.00061452]\n",
      "[0.04066382 0.0428941  0.0157538 ]\n",
      "[0.07729711 0.0814286  0.03090574]\n",
      "[0.30964808 0.30685403 0.12855628]\n",
      "[0.14251805 0.14947361 0.05755643]\n",
      "[0.45498238 0.45924894 0.22340836]\n",
      "[0.13154521 0.14259557 0.07242747]\n"
     ]
    }
   ],
   "source": [
    "for i in range(13):\n",
    "    print(np.array(cj(mat,i)))"
   ]
  },
  {
   "cell_type": "code",
   "execution_count": 12,
   "metadata": {},
   "outputs": [
    {
     "name": "stdout",
     "output_type": "stream",
     "text": [
      "[0.75488314 0.71963674 0.75114142 0.68849537 0.68861892]\n",
      "[0.79642828 0.76166586 0.7940166  0.72916052 0.72916161]\n",
      "[0.75967871 0.72606011 0.75729121 0.69577933 0.69580614]\n",
      "[0.82553997 0.79060041 0.82316485 0.75687277 0.75685325]\n",
      "[0.84361733 0.80910307 0.8413024  0.7750123  0.7749807 ]\n",
      "[0.93116347 0.90121564 0.92930875 0.86743389 0.86732956]\n",
      "[0.75112814 0.71820823 0.74876932 0.68864408 0.68869087]\n",
      "[0.75122647 0.71803777 0.74885897 0.68839699 0.6884276 ]\n",
      "[0.81752135 0.78241921 0.81512228 0.74889605 0.74888193]\n",
      "[0.94542427 0.90436859 0.93514385 0.83632273 0.84794993]\n",
      "[0.96426291 0.93413085 0.95725348 0.87899463 0.88825736]\n",
      "[0.99712969 0.99100425 0.99596914 0.97052384 0.97512872]\n",
      "[0.99802143 0.99375907 0.99724361 0.97922369 0.98228221]\n"
     ]
    }
   ],
   "source": [
    "visual = []\n",
    "for i in range(13):\n",
    "    print(np.array(S(mat,i)))\n",
    "    visual.append(S(mat,i))"
   ]
  },
  {
   "cell_type": "code",
   "execution_count": 13,
   "metadata": {},
   "outputs": [
    {
     "name": "stdout",
     "output_type": "stream",
     "text": [
      "[0.8788663  0.86232834 0.8809458  0.84565932 0.84544736]\n",
      "[0.79642828 0.76166586 0.7940166  0.72916052 0.72916161]\n",
      "[0.84510519 0.81696328 0.8431693  0.79007387 0.79007201]\n",
      "[0.73272705 0.69157129 0.72983457 0.65423354 0.65424453]\n",
      "[0.70868632 0.6644803  0.70557136 0.62467282 0.62468589]\n",
      "[0.685724   0.63420924 0.68212419 0.58721308 0.5872104 ]\n",
      "[0.94922985 0.9307219  0.94803916 0.91071197 0.91067597]\n",
      "[0.83871969 0.81062304 0.83677719 0.78403636 0.78403889]\n",
      "[0.7223266  0.68148769 0.71944244 0.6447879  0.64480382]\n",
      "[0.31488694 0.29173393 0.31620882 0.2833463  0.27748205]\n",
      "[0.60754515 0.55045776 0.6057022  0.51159539 0.50644965]\n",
      "[0.24663624 0.21616424 0.24672824 0.21188778 0.20191749]\n",
      "[0.49280101 0.43180837 0.49279251 0.41952258 0.40134872]\n"
     ]
    }
   ],
   "source": [
    "for i in range(13):\n",
    "    print(np.array(Spos(mat,i)))"
   ]
  },
  {
   "cell_type": "code",
   "execution_count": 14,
   "metadata": {},
   "outputs": [
    {
     "name": "stdout",
     "output_type": "stream",
     "text": [
      "[0.28537522 0.33595448 0.2918637  0.3826123  0.38229607]\n",
      "[0.20357172 0.23833414 0.2059834  0.27083948 0.27083839]\n",
      "[0.26734561 0.30823733 0.27023237 0.34544975 0.3454052 ]\n",
      "[0.15484603 0.18317059 0.15678561 0.21015684 0.21018267]\n",
      "[0.13137029 0.15677514 0.13309421 0.18134383 0.1813805 ]\n",
      "[0.05069234 0.06951716 0.05188826 0.08974119 0.08982222]\n",
      "[0.31450905 0.36517233 0.31809065 0.41175923 0.41165311]\n",
      "[0.27774747 0.31831902 0.28062572 0.35489418 0.35484469]\n",
      "[0.16123027 0.18951302 0.1631766  0.21619661 0.21621819]\n",
      "[0.01817722 0.03084907 0.02193041 0.05545389 0.04975667]\n",
      "[0.02251657 0.03881489 0.02704786 0.07042795 0.06371129]\n",
      "[0.00070996 0.00196221 0.00099855 0.00643533 0.00515003]\n",
      "[0.00097698 0.00271181 0.00136208 0.00890106 0.00723928]\n"
     ]
    }
   ],
   "source": [
    "for i in range(13):\n",
    "    print(np.array(Sneg(mat,i)))"
   ]
  },
  {
   "cell_type": "code",
   "execution_count": 15,
   "metadata": {},
   "outputs": [
    {
     "name": "stdout",
     "output_type": "stream",
     "text": [
      "[0.75488314 0.71963674 0.75114142 0.68849537 0.68861892]\n",
      "[0.79642828 0.76166586 0.7940166  0.72916052 0.72916161]\n",
      "[0.75967871 0.72606011 0.75729121 0.69577933 0.69580614]\n",
      "[0.82553997 0.79060041 0.82316485 0.75687277 0.75685325]\n",
      "[0.84361733 0.80910307 0.8413024  0.7750123  0.7749807 ]\n",
      "[0.93116347 0.90121564 0.92930875 0.86743389 0.86732956]\n",
      "[0.75112814 0.71820823 0.74876932 0.68864408 0.68869087]\n",
      "[0.75122647 0.71803777 0.74885897 0.68839699 0.6884276 ]\n",
      "[0.81752135 0.78241921 0.81512228 0.74889605 0.74888193]\n",
      "[0.94542427 0.90436859 0.93514385 0.83632273 0.84794993]\n",
      "[0.96426291 0.93413085 0.95725348 0.87899463 0.88825736]\n",
      "[0.99712969 0.99100425 0.99596914 0.97052384 0.97512872]\n",
      "[0.99802143 0.99375907 0.99724361 0.97922369 0.98228221]\n"
     ]
    }
   ],
   "source": [
    "for i in range(13):\n",
    "    print(np.array(S(mat,i)))"
   ]
  },
  {
   "cell_type": "code",
   "execution_count": 16,
   "metadata": {},
   "outputs": [
    {
     "name": "stdout",
     "output_type": "stream",
     "text": [
      "Similarity no. 1 : [4 5 2 3 1]\n",
      "Similarity no. 2 : [4 5 2 3 1]\n",
      "Similarity no. 3 : [4 5 2 3 1]\n",
      "Similarity no. 4 : [5 4 2 3 1]\n",
      "Similarity no. 5 : [5 4 2 3 1]\n",
      "Similarity no. 6 : [5 4 2 3 1]\n",
      "Similarity no. 7 : [4 5 2 3 1]\n",
      "Similarity no. 8 : [4 5 2 3 1]\n",
      "Similarity no. 9 : [5 4 2 3 1]\n",
      "Similarity no. 10 : [4 5 2 3 1]\n",
      "Similarity no. 11 : [4 5 2 3 1]\n",
      "Similarity no. 12 : [4 5 2 3 1]\n",
      "Similarity no. 13 : [4 5 2 3 1]\n"
     ]
    }
   ],
   "source": [
    "for i in range(13):\n",
    "    print(\"Similarity no.\",i+1,\":\",np.array(rank(mat,i)))"
   ]
  },
  {
   "cell_type": "code",
   "execution_count": 17,
   "metadata": {},
   "outputs": [
    {
     "name": "stdout",
     "output_type": "stream",
     "text": [
      "Similarity no. 1 : 1\n",
      "Similarity no. 2 : 1\n",
      "Similarity no. 3 : 1\n",
      "Similarity no. 4 : 1\n",
      "Similarity no. 5 : 1\n",
      "Similarity no. 6 : 1\n",
      "Similarity no. 7 : 1\n",
      "Similarity no. 8 : 1\n",
      "Similarity no. 9 : 1\n",
      "Similarity no. 10 : 1\n",
      "Similarity no. 11 : 1\n",
      "Similarity no. 12 : 1\n",
      "Similarity no. 13 : 1\n"
     ]
    }
   ],
   "source": [
    " for i in range(13):\n",
    "    print(\"Similarity no.\",i+1,\":\",alt(mat,i))"
   ]
  },
  {
   "cell_type": "code",
   "execution_count": 18,
   "metadata": {},
   "outputs": [
    {
     "name": "stderr",
     "output_type": "stream",
     "text": [
      "The PostScript backend does not support transparency; partially transparent artists will be rendered opaque.\n",
      "The PostScript backend does not support transparency; partially transparent artists will be rendered opaque.\n"
     ]
    },
    {
     "data": {
      "image/png": "[encoded data removed]",
      "text/plain": [
       "<Figure size 720x324 with 1 Axes>"
      ]
     },
     "metadata": {
      "needs_background": "light"
     },
     "output_type": "display_data"
    }
   ],
   "source": [
    "import matplotlib.pyplot as plt\n",
    "xaxis = [1,2,3,4,5,6,7,8,9,10,11,12,13]\n",
    "plt.plot(xaxis,[visual[i][0] for i in range(13)],\n",
    "         'go-', color='blue', label='A', marker='o')\n",
    "plt.plot(xaxis,[visual[i][1] for i in range(13)],\n",
    "         'go-', color='green', label='A1', marker='o')\n",
    "plt.plot(xaxis,[visual[i][2] for i in range(13)],\n",
    "         'go-', color='red', label='B', marker='o')\n",
    "plt.plot(xaxis,[visual[i][3] for i in range(13)],\n",
    "         'go-', color='cyan', label='C', marker='o')\n",
    "plt.plot(xaxis,[visual[i][4] for i in range(13)],\n",
    "         'go-', color='magenta', label='D', marker='o')\n",
    "plt.xticks(xaxis,[\"IM1\",\"IM2\",\"IM3\",\"IM4\",\"IM5\",\"IM6\",\"IM7\",\"IM8\",\"IM9\",\"IM10\",\"IM11\",\"IM12\",\"IM13\"])\n",
    "plt.xlabel(\"Information Measures\")\n",
    "plt.ylabel(\"Combination Scores\")\n",
    "plt.title(\"The visualization of combination scores Si and rank of combinations \\n using information measures IMi\")\n",
    "figure = plt.gcf()\n",
    "figure.set_size_inches(10,4.5)\n",
    "plt.legend(loc='upper center', ncol=5)\n",
    "plt.savefig('decision making.eps', format='eps')\n",
    "plt.show()"
   ]
  },
  {
   "cell_type": "code",
   "execution_count": 19,
   "metadata": {},
   "outputs": [],
   "source": [
    "# 8.8\t8\t8.8\tlý\t8\thóa\t8\tsinh\t7\n",
    "# Khối A: 24.8đ. Khối A1: 25.6đ Khối B: 23.8đ Khối D: 25.6đ"
   ]
  }
 ],
 "metadata": {
  "kernelspec": {
   "display_name": "Python 3",
   "language": "python",
   "name": "python3"
  },
  "language_info": {
   "codemirror_mode": {
    "name": "ipython",
    "version": 3
   },
   "file_extension": ".py",
   "mimetype": "text/x-python",
   "name": "python",
   "nbconvert_exporter": "python",
   "pygments_lexer": "ipython3",
   "version": "3.8.5"
  }
 },
 "nbformat": 4,
 "nbformat_minor": 4
}

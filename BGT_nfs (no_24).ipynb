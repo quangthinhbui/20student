{
 "cells": [
  {
   "cell_type": "code",
   "execution_count": 1,
   "metadata": {},
   "outputs": [
    {
     "data": {
      "text/html": [
       "<div>\n",
       "<style scoped>\n",
       "    .dataframe tbody tr th:only-of-type {\n",
       "        vertical-align: middle;\n",
       "    }\n",
       "\n",
       "    .dataframe tbody tr th {\n",
       "        vertical-align: top;\n",
       "    }\n",
       "\n",
       "    .dataframe thead th {\n",
       "        text-align: right;\n",
       "    }\n",
       "</style>\n",
       "<table border=\"1\" class=\"dataframe\">\n",
       "  <thead>\n",
       "    <tr style=\"text-align: right;\">\n",
       "      <th></th>\n",
       "      <th>T10</th>\n",
       "      <th>T10_T</th>\n",
       "      <th>T10_F</th>\n",
       "      <th>T10_I</th>\n",
       "      <th>L10</th>\n",
       "      <th>L10_T</th>\n",
       "      <th>L10_F</th>\n",
       "      <th>L10_I</th>\n",
       "      <th>H10</th>\n",
       "      <th>H10_T</th>\n",
       "      <th>...</th>\n",
       "      <th>SU12_F</th>\n",
       "      <th>SU12_I</th>\n",
       "      <th>D12</th>\n",
       "      <th>D12_T</th>\n",
       "      <th>D12_F</th>\n",
       "      <th>D12_I</th>\n",
       "      <th>AV12</th>\n",
       "      <th>AV12_T</th>\n",
       "      <th>AV12_F</th>\n",
       "      <th>AV12_I</th>\n",
       "    </tr>\n",
       "  </thead>\n",
       "  <tbody>\n",
       "    <tr>\n",
       "      <th>0</th>\n",
       "      <td>9.3</td>\n",
       "      <td>10</td>\n",
       "      <td>0</td>\n",
       "      <td>0</td>\n",
       "      <td>7.7</td>\n",
       "      <td>8</td>\n",
       "      <td>2</td>\n",
       "      <td>2</td>\n",
       "      <td>8.6</td>\n",
       "      <td>8</td>\n",
       "      <td>...</td>\n",
       "      <td>0</td>\n",
       "      <td>0</td>\n",
       "      <td>8.9</td>\n",
       "      <td>10</td>\n",
       "      <td>0</td>\n",
       "      <td>0</td>\n",
       "      <td>7.8</td>\n",
       "      <td>10</td>\n",
       "      <td>0</td>\n",
       "      <td>0</td>\n",
       "    </tr>\n",
       "    <tr>\n",
       "      <th>1</th>\n",
       "      <td>9.1</td>\n",
       "      <td>9</td>\n",
       "      <td>1</td>\n",
       "      <td>1</td>\n",
       "      <td>7.1</td>\n",
       "      <td>9</td>\n",
       "      <td>2</td>\n",
       "      <td>5</td>\n",
       "      <td>8.0</td>\n",
       "      <td>7</td>\n",
       "      <td>...</td>\n",
       "      <td>5</td>\n",
       "      <td>4</td>\n",
       "      <td>8.8</td>\n",
       "      <td>7</td>\n",
       "      <td>1</td>\n",
       "      <td>1</td>\n",
       "      <td>7.6</td>\n",
       "      <td>7</td>\n",
       "      <td>6</td>\n",
       "      <td>4</td>\n",
       "    </tr>\n",
       "    <tr>\n",
       "      <th>2</th>\n",
       "      <td>9.4</td>\n",
       "      <td>8</td>\n",
       "      <td>2</td>\n",
       "      <td>2</td>\n",
       "      <td>7.6</td>\n",
       "      <td>10</td>\n",
       "      <td>0</td>\n",
       "      <td>0</td>\n",
       "      <td>9.0</td>\n",
       "      <td>10</td>\n",
       "      <td>...</td>\n",
       "      <td>0</td>\n",
       "      <td>0</td>\n",
       "      <td>9.0</td>\n",
       "      <td>10</td>\n",
       "      <td>0</td>\n",
       "      <td>0</td>\n",
       "      <td>9.0</td>\n",
       "      <td>10</td>\n",
       "      <td>0</td>\n",
       "      <td>0</td>\n",
       "    </tr>\n",
       "    <tr>\n",
       "      <th>3</th>\n",
       "      <td>9.3</td>\n",
       "      <td>9</td>\n",
       "      <td>0</td>\n",
       "      <td>9</td>\n",
       "      <td>7.1</td>\n",
       "      <td>9</td>\n",
       "      <td>8</td>\n",
       "      <td>8</td>\n",
       "      <td>8.7</td>\n",
       "      <td>9</td>\n",
       "      <td>...</td>\n",
       "      <td>8</td>\n",
       "      <td>6</td>\n",
       "      <td>8.2</td>\n",
       "      <td>9</td>\n",
       "      <td>7</td>\n",
       "      <td>6</td>\n",
       "      <td>8.3</td>\n",
       "      <td>8</td>\n",
       "      <td>8</td>\n",
       "      <td>9</td>\n",
       "    </tr>\n",
       "    <tr>\n",
       "      <th>4</th>\n",
       "      <td>9.3</td>\n",
       "      <td>8</td>\n",
       "      <td>2</td>\n",
       "      <td>3</td>\n",
       "      <td>9.6</td>\n",
       "      <td>6</td>\n",
       "      <td>4</td>\n",
       "      <td>6</td>\n",
       "      <td>8.6</td>\n",
       "      <td>7</td>\n",
       "      <td>...</td>\n",
       "      <td>7</td>\n",
       "      <td>4</td>\n",
       "      <td>9.6</td>\n",
       "      <td>6</td>\n",
       "      <td>4</td>\n",
       "      <td>5</td>\n",
       "      <td>9.4</td>\n",
       "      <td>6</td>\n",
       "      <td>4</td>\n",
       "      <td>5</td>\n",
       "    </tr>\n",
       "  </tbody>\n",
       "</table>\n",
       "<p>5 rows × 96 columns</p>\n",
       "</div>"
      ],
      "text/plain": [
       "   T10  T10_T  T10_F  T10_I  L10  L10_T  L10_F  L10_I  H10  H10_T  ...  \\\n",
       "0  9.3     10      0      0  7.7      8      2      2  8.6      8  ...   \n",
       "1  9.1      9      1      1  7.1      9      2      5  8.0      7  ...   \n",
       "2  9.4      8      2      2  7.6     10      0      0  9.0     10  ...   \n",
       "3  9.3      9      0      9  7.1      9      8      8  8.7      9  ...   \n",
       "4  9.3      8      2      3  9.6      6      4      6  8.6      7  ...   \n",
       "\n",
       "   SU12_F  SU12_I  D12  D12_T  D12_F  D12_I  AV12  AV12_T  AV12_F  AV12_I  \n",
       "0       0       0  8.9     10      0      0   7.8      10       0       0  \n",
       "1       5       4  8.8      7      1      1   7.6       7       6       4  \n",
       "2       0       0  9.0     10      0      0   9.0      10       0       0  \n",
       "3       8       6  8.2      9      7      6   8.3       8       8       9  \n",
       "4       7       4  9.6      6      4      5   9.4       6       4       5  \n",
       "\n",
       "[5 rows x 96 columns]"
      ]
     },
     "execution_count": 1,
     "metadata": {},
     "output_type": "execute_result"
    }
   ],
   "source": [
    "import pandas as pd\n",
    "import numpy as np\n",
    "\n",
    "data = pd.read_csv(\"BGT.csv\") \n",
    "data.head(5)\n",
    "#print(data)"
   ]
  },
  {
   "cell_type": "code",
   "execution_count": 2,
   "metadata": {},
   "outputs": [
    {
     "name": "stdout",
     "output_type": "stream",
     "text": [
      "[ 6.2  6.  10.   6.   6.7 10.   6.   6.   7.2  7.   7.   7.   6.2  6.\n",
      "  6.  10.   6.5 10.   6.   6.   8.6  8.   8.   8.   8.1 10.   8.  10.\n",
      "  6.1 10.   6.   6.   5.8  5.  10.  10.   7.  10.   7.  10.   6.8 10.\n",
      "  6.  10.   7.6  7.   7.   7.   7.2 10.  10.   7.   8.3 10.   8.  10.\n",
      "  8.  10.   8.  10.   5.6 10.   5.  10.   6.2  6.  10.  10.   7.9 10.\n",
      "  7.  10.   7.4 10.   7.  10.   7.2  7.   7.   7.   7.2 10.   7.  10.\n",
      "  7.7 10.   7.  10.   8.8 10.   8.  10.   6.4 10.   6.  10. ]\n"
     ]
    }
   ],
   "source": [
    "duc = np.array(data[24:25])[0]\n",
    "print(duc)"
   ]
  },
  {
   "cell_type": "code",
   "execution_count": 3,
   "metadata": {},
   "outputs": [
    {
     "name": "stdout",
     "output_type": "stream",
     "text": [
      "[ 6.2  6.  10.   6. ]\n",
      "[ 6.7 10.   6.   6. ]\n",
      "[7.2 7.  7.  7. ]\n",
      "[6.7        7.66666667 7.66666667 6.33333333]\n",
      "[ 5.8  5.  10.  10. ]\n",
      "[ 7. 10.  7. 10.]\n",
      "[ 6.8 10.   6.  10. ]\n",
      "[ 6.53333333  8.33333333  7.66666667 10.        ]\n",
      "[ 6.2  6.  10.  10. ]\n",
      "[ 7.9 10.   7.  10. ]\n",
      "[ 7.4 10.   7.  10. ]\n",
      "[ 7.16666667  8.66666667  8.         10.        ]\n"
     ]
    }
   ],
   "source": [
    "T10 = duc[0:4]\n",
    "print(T10)\n",
    "L10 = duc[4:8]\n",
    "print(L10)\n",
    "H10 = duc[8:12]\n",
    "print(H10)\n",
    "A10 = np.mean(np.array([T10,L10,H10]),axis=0)\n",
    "print(A10)\n",
    "\n",
    "T11 = duc[32:36]\n",
    "print(T11)\n",
    "L11 = duc[36:40]\n",
    "print(L11)\n",
    "H11 = duc[40:44]\n",
    "print(H11)\n",
    "A11 = np.mean(np.array([T11,L11,H11]),axis=0)\n",
    "print(A11)\n",
    "\n",
    "T12 = duc[64:68]\n",
    "print(T12)\n",
    "L12 = duc[68:72]\n",
    "print(L12)\n",
    "H12 = duc[72:76]\n",
    "print(H12)\n",
    "A12 = np.mean(np.array([T12,L12,H12]),axis=0)\n",
    "print(A12)\n",
    "\n",
    "A = [A10,A11,A12]"
   ]
  },
  {
   "cell_type": "code",
   "execution_count": 4,
   "metadata": {},
   "outputs": [
    {
     "name": "stdout",
     "output_type": "stream",
     "text": [
      "[ 6.2  6.  10.   6. ]\n",
      "[ 6.7 10.   6.   6. ]\n",
      "[ 6.1 10.   6.   6. ]\n",
      "[6.33333333 8.66666667 7.33333333 6.        ]\n",
      "[ 5.8  5.  10.  10. ]\n",
      "[ 7. 10.  7. 10.]\n",
      "[ 5.6 10.   5.  10. ]\n",
      "[ 6.13333333  8.33333333  7.33333333 10.        ]\n",
      "[ 6.2  6.  10.  10. ]\n",
      "[ 7.9 10.   7.  10. ]\n",
      "[ 6.4 10.   6.  10. ]\n",
      "[ 6.83333333  8.66666667  7.66666667 10.        ]\n"
     ]
    }
   ],
   "source": [
    "T10 = duc[0:4]\n",
    "print(T10)\n",
    "L10 = duc[4:8]\n",
    "print(L10)\n",
    "A10 = duc[28:32]\n",
    "print(A10)\n",
    "A110 = np.mean(np.array([T10,L10,A10]),axis=0)\n",
    "print(A110)\n",
    "\n",
    "T11 = duc[32:36]\n",
    "print(T11)\n",
    "L11 = duc[36:40]\n",
    "print(L11)\n",
    "A11 = duc[60:64]\n",
    "print(A11)\n",
    "A111 = np.mean(np.array([T11,L11,A11]),axis=0)\n",
    "print(A111)\n",
    "\n",
    "T12 = duc[64:68]\n",
    "print(T12)\n",
    "L12 = duc[68:72]\n",
    "print(L12)\n",
    "A12 = duc[92:96]\n",
    "print(A12)\n",
    "A112 = np.mean(np.array([T12,L12,A12]),axis=0)\n",
    "print(A112)\n",
    "\n",
    "A1 = [A110,A111,A112]"
   ]
  },
  {
   "cell_type": "code",
   "execution_count": 5,
   "metadata": {},
   "outputs": [
    {
     "name": "stdout",
     "output_type": "stream",
     "text": [
      "[ 6.2  6.  10.   6. ]\n",
      "[7.2 7.  7.  7. ]\n",
      "[ 6.2  6.   6.  10. ]\n",
      "[ 6.1 10.   6.   6. ]\n",
      "[ 5.8  5.  10.  10. ]\n",
      "[ 6.8 10.   6.  10. ]\n",
      "[7.6 7.  7.  7. ]\n",
      "[6.73333333 7.33333333 7.66666667 9.        ]\n",
      "[ 6.2  6.  10.  10. ]\n",
      "[ 7.4 10.   7.  10. ]\n",
      "[7.2 7.  7.  7. ]\n",
      "[6.93333333 7.66666667 8.         9.        ]\n"
     ]
    }
   ],
   "source": [
    "T10 = duc[0:4]\n",
    "print(T10)\n",
    "H10 = duc[8:12]\n",
    "print(H10)\n",
    "SI10 = duc[12:16]\n",
    "print(SI10)\n",
    "B10 = np.mean(np.array([T10,H10,SI10]),axis=0)\n",
    "print(A10)\n",
    "\n",
    "T11 = duc[32:36]\n",
    "print(T11)\n",
    "H11 = duc[40:44]\n",
    "print(H11)\n",
    "SI11 = duc[44:48]\n",
    "print(SI11)\n",
    "B11 = np.mean(np.array([T11,H11,SI11]),axis=0)\n",
    "print(B11)\n",
    "\n",
    "T12 = duc[64:68]\n",
    "print(T12)\n",
    "H12 = duc[72:76]\n",
    "print(H12)\n",
    "SI12 = duc[76:80]\n",
    "print(SI12)\n",
    "B12 = np.mean(np.array([T12,H12,SI12]),axis=0)\n",
    "print(B12)\n",
    "\n",
    "B = [B10,B11,B12]"
   ]
  },
  {
   "cell_type": "code",
   "execution_count": 6,
   "metadata": {},
   "outputs": [
    {
     "name": "stdout",
     "output_type": "stream",
     "text": [
      "[ 6.5 10.   6.   6. ]\n",
      "[8.6 8.  8.  8. ]\n",
      "[ 8.1 10.   8.  10. ]\n",
      "[ 6.1 10.   6.   6. ]\n",
      "[ 7.2 10.  10.   7. ]\n",
      "[ 8.3 10.   8.  10. ]\n",
      "[ 8. 10.  8. 10.]\n",
      "[6.73333333 7.33333333 7.66666667 9.        ]\n",
      "[ 7.2 10.   7.  10. ]\n",
      "[ 7.7 10.   7.  10. ]\n",
      "[ 8.8 10.   8.  10. ]\n",
      "[6.93333333 7.66666667 8.         9.        ]\n"
     ]
    }
   ],
   "source": [
    "V10 = duc[16:20]\n",
    "print(V10)\n",
    "SU10 = duc[20:24]\n",
    "print(SU10)\n",
    "D10 = duc[24:28]\n",
    "print(D10)\n",
    "C10 = np.mean(np.array([V10,SU10,D10]),axis=0)\n",
    "print(A10)\n",
    "\n",
    "V11 = duc[48:52]\n",
    "print(V11)\n",
    "SU11 = duc[52:56]\n",
    "print(SU11)\n",
    "D11 = duc[56:60]\n",
    "print(D11)\n",
    "C11 = np.mean(np.array([V11,SU11,D11]),axis=0)\n",
    "print(B11)\n",
    "\n",
    "V12 = duc[80:84]\n",
    "print(V12)\n",
    "SU12 = duc[84:88]\n",
    "print(SU12)\n",
    "D12 = duc[88:92]\n",
    "print(D12)\n",
    "C12 = np.mean(np.array([V12,SU12,D12]),axis=0)\n",
    "print(B12)\n",
    "\n",
    "C = [C10,C11,C12]"
   ]
  },
  {
   "cell_type": "code",
   "execution_count": 7,
   "metadata": {},
   "outputs": [
    {
     "name": "stdout",
     "output_type": "stream",
     "text": [
      "[ 6.2  6.  10.   6. ]\n",
      "[ 6.5 10.   6.   6. ]\n",
      "[ 6.1 10.   6.   6. ]\n",
      "[6.26666667 8.66666667 7.33333333 6.        ]\n",
      "[ 5.8  5.  10.  10. ]\n",
      "[ 7.2 10.  10.   7. ]\n",
      "[ 5.6 10.   5.  10. ]\n",
      "[6.2        8.33333333 8.33333333 9.        ]\n",
      "[ 6.2  6.  10.  10. ]\n",
      "[ 7.2 10.   7.  10. ]\n",
      "[ 6.4 10.   6.  10. ]\n",
      "[ 6.6         8.66666667  7.66666667 10.        ]\n"
     ]
    }
   ],
   "source": [
    "T10 = duc[0:4]\n",
    "print(T10)\n",
    "V10 = duc[16:20]\n",
    "print(V10)\n",
    "A10 = duc[28:32]\n",
    "print(A10)\n",
    "DD10 = np.mean(np.array([T10,V10,A10]),axis=0)\n",
    "print(DD10)\n",
    "\n",
    "T11 = duc[32:36]\n",
    "print(T11)\n",
    "V11 = duc[48:52]\n",
    "print(V11)\n",
    "A11 = duc[60:64]\n",
    "print(A11)\n",
    "DD11 = np.mean(np.array([T11,V11,A11]),axis=0)\n",
    "print(DD11)\n",
    "\n",
    "T12 = duc[64:68]\n",
    "print(T12)\n",
    "V12 = duc[80:84]\n",
    "print(V12)\n",
    "A12 = duc[92:96]\n",
    "print(A12)\n",
    "DD12 = np.mean(np.array([T12,V12,A12]),axis=0)\n",
    "print(DD12)\n",
    "\n",
    "D = [DD10,DD11,DD12]"
   ]
  },
  {
   "cell_type": "code",
   "execution_count": 8,
   "metadata": {},
   "outputs": [
    {
     "name": "stdout",
     "output_type": "stream",
     "text": [
      "[[[0.67       0.25555556 0.21111111 0.25555556]\n",
      "  [0.65333333 0.27777778 0.33333333 0.25555556]\n",
      "  [0.71666667 0.28888889 0.33333333 0.26666667]]\n",
      "\n",
      " [[0.63333333 0.28888889 0.2        0.24444444]\n",
      "  [0.61333333 0.27777778 0.33333333 0.24444444]\n",
      "  [0.68333333 0.28888889 0.33333333 0.25555556]]\n",
      "\n",
      " [[0.65333333 0.21111111 0.25555556 0.25555556]\n",
      "  [0.67333333 0.24444444 0.3        0.25555556]\n",
      "  [0.69333333 0.25555556 0.3        0.26666667]]\n",
      "\n",
      " [[0.77333333 0.31111111 0.26666667 0.24444444]\n",
      "  [0.78333333 0.33333333 0.3        0.28888889]\n",
      "  [0.79       0.33333333 0.33333333 0.24444444]]\n",
      "\n",
      " [[0.62666667 0.28888889 0.2        0.24444444]\n",
      "  [0.62       0.27777778 0.3        0.27777778]\n",
      "  [0.66       0.28888889 0.33333333 0.25555556]]]\n"
     ]
    }
   ],
   "source": [
    "from dm import *\n",
    "from im import *\n",
    "\n",
    "def change(A):\n",
    "    Aok = []\n",
    "    for i in range(3):\n",
    "        temp = []\n",
    "        for j in range(4):\n",
    "            if j == 0:\n",
    "                temp.append(A[i][j]/10)\n",
    "            if j == 1:\n",
    "                temp.append(A[i][j]/30)\n",
    "            if j == 2:\n",
    "                temp.append(A[i][j+1]/30)\n",
    "            if j == 3:\n",
    "                temp.append(A[i][j-1]/30)\n",
    "        Aok.append(temp)\n",
    "    return(Aok)\n",
    "\n",
    "matrix = np.array([change(A),change(A1),change(B),change(C),change(D)])\n",
    "print(matrix)\n",
    "\n",
    "def rtc(A):\n",
    "    rtc = []\n",
    "    for i in range(3):\n",
    "        temp = []\n",
    "        for j in range(5):\n",
    "            temp.append(A[j][i])\n",
    "        rtc.append(temp)\n",
    "    return np.array(rtc)\n",
    "matric = rtc(matrix)"
   ]
  },
  {
   "cell_type": "code",
   "execution_count": 9,
   "metadata": {},
   "outputs": [
    {
     "name": "stdout",
     "output_type": "stream",
     "text": [
      "[[[0.67       0.25555556 0.21111111 0.25555556]\n",
      "  [0.63333333 0.28888889 0.2        0.24444444]\n",
      "  [0.65333333 0.21111111 0.25555556 0.25555556]\n",
      "  [0.77333333 0.31111111 0.26666667 0.24444444]\n",
      "  [0.62666667 0.28888889 0.2        0.24444444]]\n",
      "\n",
      " [[0.65333333 0.27777778 0.33333333 0.25555556]\n",
      "  [0.61333333 0.27777778 0.33333333 0.24444444]\n",
      "  [0.67333333 0.24444444 0.3        0.25555556]\n",
      "  [0.78333333 0.33333333 0.3        0.28888889]\n",
      "  [0.62       0.27777778 0.3        0.27777778]]\n",
      "\n",
      " [[0.71666667 0.28888889 0.33333333 0.26666667]\n",
      "  [0.68333333 0.28888889 0.33333333 0.25555556]\n",
      "  [0.69333333 0.25555556 0.3        0.26666667]\n",
      "  [0.79       0.33333333 0.33333333 0.24444444]\n",
      "  [0.66       0.28888889 0.33333333 0.25555556]]]\n"
     ]
    }
   ],
   "source": [
    "cost = []\n",
    "mat = rnf(matric,cost)\n",
    "print(np.array(mat))"
   ]
  },
  {
   "cell_type": "code",
   "execution_count": 10,
   "metadata": {},
   "outputs": [
    {
     "name": "stdout",
     "output_type": "stream",
     "text": [
      "[0.76682971 0.82143296 0.81371555]\n",
      "[0.53766667 0.59566667 0.58344444]\n",
      "[0.62069913 0.67398929 0.66296675]\n",
      "[0.45177618 0.51033258 0.49773717]\n",
      "[0.41444322 0.47418367 0.46122288]\n",
      "[0.33606047 0.4071617  0.39163668]\n",
      "[0.74754991 0.80440526 0.79312104]\n",
      "[0.61999744 0.67117792 0.66056232]\n",
      "[0.44936077 0.5054783  0.49338481]\n",
      "[0.37488141 0.42998732 0.41550099]\n",
      "[0.36776902 0.42459297 0.41211887]\n",
      "[0.15100107 0.19346636 0.17770942]\n",
      "[0.13961916 0.18388965 0.17218839]\n"
     ]
    }
   ],
   "source": [
    "for i in range(13):\n",
    "    print(np.array(ej(mat,i)))"
   ]
  },
  {
   "cell_type": "code",
   "execution_count": 11,
   "metadata": {},
   "outputs": [
    {
     "name": "stdout",
     "output_type": "stream",
     "text": [
      "[0.00322163 0.00336696 0.00187104]\n",
      "[0.03927778 0.03911111 0.02855556]\n",
      "[0.02868074 0.02857682 0.02079116]\n",
      "[0.05534442 0.05505101 0.04045812]\n",
      "[0.06066319 0.06033741 0.04435287]\n",
      "[0.06163369 0.0613605  0.04482594]\n",
      "[0.00233662 0.00244006 0.0012988 ]\n",
      "[0.03086464 0.0307366  0.02243474]\n",
      "[0.05948041 0.05913515 0.04361116]\n",
      "[0.10491364 0.08924081 0.06423327]\n",
      "[0.10255326 0.09473262 0.06844155]\n",
      "[0.19032171 0.16598662 0.12110673]\n",
      "[0.180711   0.18503934 0.13668165]\n"
     ]
    }
   ],
   "source": [
    "for i in range(13):\n",
    "    print(np.array(cj(mat,i)))"
   ]
  },
  {
   "cell_type": "code",
   "execution_count": 12,
   "metadata": {},
   "outputs": [
    {
     "name": "stdout",
     "output_type": "stream",
     "text": [
      "[0.57496069 0.57315563 0.56762991 0.60183206 0.57164234]\n",
      "[0.60114931 0.59877062 0.59135464 0.63747692 0.59683314]\n",
      "[0.58383454 0.58188154 0.57553313 0.61456117 0.58024983]\n",
      "[0.61633482 0.61357292 0.60531635 0.65738574 0.61137745]\n",
      "[0.62693129 0.62392349 0.61504827 0.6710687  0.62155172]\n",
      "[0.68507476 0.68081538 0.66846409 0.74483376 0.67751134]\n",
      "[0.58062984 0.57894379 0.57218145 0.60989618 0.57735007]\n",
      "[0.58017494 0.57829526 0.57224132 0.60970504 0.5767318 ]\n",
      "[0.61173853 0.60907008 0.60113827 0.65145898 0.60695399]\n",
      "[0.63459308 0.6349593  0.62584977 0.66511758 0.63303642]\n",
      "[0.66806204 0.66782005 0.65673606 0.70702055 0.66541568]\n",
      "[0.77625538 0.77038317 0.77415679 0.81987181 0.76814135]\n",
      "[0.80313607 0.79547249 0.80015334 0.85139084 0.7928669 ]\n"
     ]
    }
   ],
   "source": [
    "visual = []\n",
    "for i in range(13):\n",
    "    print(np.array(S(mat,i)))\n",
    "    visual.append(S(mat,i))"
   ]
  },
  {
   "cell_type": "code",
   "execution_count": 13,
   "metadata": {},
   "outputs": [
    {
     "name": "stdout",
     "output_type": "stream",
     "text": [
      "[0.79740664 0.79756657 0.78343696 0.82924006 0.79651241]\n",
      "[0.60114931 0.59877062 0.59135464 0.63747692 0.59683314]\n",
      "[0.67914277 0.67699111 0.67024242 0.71149858 0.67524474]\n",
      "[0.51570618 0.51326205 0.50570765 0.55368462 0.51126634]\n",
      "[0.47961566 0.47711074 0.46934722 0.51890585 0.47505584]\n",
      "[0.41365742 0.41068402 0.40130747 0.46079352 0.40821498]\n",
      "[0.81051826 0.8084409  0.80087518 0.84239186 0.80663131]\n",
      "[0.67608939 0.67401155 0.66754808 0.7073361  0.67233116]\n",
      "[0.51059263 0.50824103 0.5010202  0.54713401 0.50632694]\n",
      "[0.23820447 0.23201856 0.22714414 0.27681164 0.23010384]\n",
      "[0.37383396 0.3664518  0.35718963 0.43293413 0.36345061]\n",
      "[0.13432546 0.12382666 0.12723952 0.17938987 0.12126305]\n",
      "[0.24926104 0.230562   0.2369299  0.33257103 0.22593916]\n"
     ]
    }
   ],
   "source": [
    "for i in range(13):\n",
    "    print(np.array(Spos(mat,i)))"
   ]
  },
  {
   "cell_type": "code",
   "execution_count": 14,
   "metadata": {},
   "outputs": [
    {
     "name": "stdout",
     "output_type": "stream",
     "text": [
      "[0.58948232 0.5939692  0.59675274 0.5486195  0.59686305]\n",
      "[0.39885069 0.40122938 0.40864536 0.36252308 0.40316686]\n",
      "[0.48410251 0.48646066 0.49431681 0.44623576 0.48846908]\n",
      "[0.32102439 0.32325147 0.32973591 0.28856763 0.32498685]\n",
      "[0.28540543 0.28758356 0.29375909 0.25434709 0.28925037]\n",
      "[0.19015613 0.19253975 0.19903513 0.15785932 0.19430627]\n",
      "[0.58541113 0.58796566 0.59881224 0.53881347 0.59049558]\n",
      "[0.48923049 0.49150303 0.49900186 0.45279224 0.49342936]\n",
      "[0.32406565 0.32621307 0.33243231 0.29272548 0.32788282]\n",
      "[0.13716122 0.13338842 0.13579302 0.13937288 0.13338842]\n",
      "[0.18574575 0.18227656 0.18669649 0.17940186 0.18275023]\n",
      "[0.03871741 0.0369072  0.03711933 0.03941247 0.03660249]\n",
      "[0.06109862 0.05928083 0.05917572 0.05804984 0.05902564]\n"
     ]
    }
   ],
   "source": [
    "for i in range(13):\n",
    "    print(np.array(Sneg(mat,i)))"
   ]
  },
  {
   "cell_type": "code",
   "execution_count": 15,
   "metadata": {},
   "outputs": [
    {
     "name": "stdout",
     "output_type": "stream",
     "text": [
      "[0.57496069 0.57315563 0.56762991 0.60183206 0.57164234]\n",
      "[0.60114931 0.59877062 0.59135464 0.63747692 0.59683314]\n",
      "[0.58383454 0.58188154 0.57553313 0.61456117 0.58024983]\n",
      "[0.61633482 0.61357292 0.60531635 0.65738574 0.61137745]\n",
      "[0.62693129 0.62392349 0.61504827 0.6710687  0.62155172]\n",
      "[0.68507476 0.68081538 0.66846409 0.74483376 0.67751134]\n",
      "[0.58062984 0.57894379 0.57218145 0.60989618 0.57735007]\n",
      "[0.58017494 0.57829526 0.57224132 0.60970504 0.5767318 ]\n",
      "[0.61173853 0.60907008 0.60113827 0.65145898 0.60695399]\n",
      "[0.63459308 0.6349593  0.62584977 0.66511758 0.63303642]\n",
      "[0.66806204 0.66782005 0.65673606 0.70702055 0.66541568]\n",
      "[0.77625538 0.77038317 0.77415679 0.81987181 0.76814135]\n",
      "[0.80313607 0.79547249 0.80015334 0.85139084 0.7928669 ]\n"
     ]
    }
   ],
   "source": [
    "for i in range(13):\n",
    "    print(np.array(S(mat,i)))"
   ]
  },
  {
   "cell_type": "code",
   "execution_count": 16,
   "metadata": {},
   "outputs": [
    {
     "name": "stdout",
     "output_type": "stream",
     "text": [
      "Similarity no. 1 : [3 5 2 1 4]\n",
      "Similarity no. 2 : [3 5 2 1 4]\n",
      "Similarity no. 3 : [3 5 2 1 4]\n",
      "Similarity no. 4 : [3 5 2 1 4]\n",
      "Similarity no. 5 : [3 5 2 1 4]\n",
      "Similarity no. 6 : [3 5 2 1 4]\n",
      "Similarity no. 7 : [3 5 2 1 4]\n",
      "Similarity no. 8 : [3 5 2 1 4]\n",
      "Similarity no. 9 : [3 5 2 1 4]\n",
      "Similarity no. 10 : [3 5 1 2 4]\n",
      "Similarity no. 11 : [3 5 2 1 4]\n",
      "Similarity no. 12 : [5 2 3 1 4]\n",
      "Similarity no. 13 : [5 2 3 1 4]\n"
     ]
    }
   ],
   "source": [
    "for i in range(13):\n",
    "    print(\"Similarity no.\",i+1,\":\",np.array(rank(mat,i)))"
   ]
  },
  {
   "cell_type": "code",
   "execution_count": 17,
   "metadata": {},
   "outputs": [
    {
     "name": "stdout",
     "output_type": "stream",
     "text": [
      "Similarity no. 1 : 4\n",
      "Similarity no. 2 : 4\n",
      "Similarity no. 3 : 4\n",
      "Similarity no. 4 : 4\n",
      "Similarity no. 5 : 4\n",
      "Similarity no. 6 : 4\n",
      "Similarity no. 7 : 4\n",
      "Similarity no. 8 : 4\n",
      "Similarity no. 9 : 4\n",
      "Similarity no. 10 : 4\n",
      "Similarity no. 11 : 4\n",
      "Similarity no. 12 : 4\n",
      "Similarity no. 13 : 4\n"
     ]
    }
   ],
   "source": [
    " for i in range(13):\n",
    "    print(\"Similarity no.\",i+1,\":\",alt(mat,i))"
   ]
  },
  {
   "cell_type": "code",
   "execution_count": 18,
   "metadata": {},
   "outputs": [
    {
     "name": "stderr",
     "output_type": "stream",
     "text": [
      "The PostScript backend does not support transparency; partially transparent artists will be rendered opaque.\n",
      "The PostScript backend does not support transparency; partially transparent artists will be rendered opaque.\n"
     ]
    },
    {
     "data": {
      "image/png": "[encoded data removed]",
      "text/plain": [
       "<Figure size 720x324 with 1 Axes>"
      ]
     },
     "metadata": {
      "needs_background": "light"
     },
     "output_type": "display_data"
    }
   ],
   "source": [
    "import matplotlib.pyplot as plt\n",
    "xaxis = [1,2,3,4,5,6,7,8,9,10,11,12,13]\n",
    "plt.plot(xaxis,[visual[i][0] for i in range(13)],\n",
    "         'go-', color='blue', label='A', marker='o')\n",
    "plt.plot(xaxis,[visual[i][1] for i in range(13)],\n",
    "         'go-', color='green', label='A1', marker='o')\n",
    "plt.plot(xaxis,[visual[i][2] for i in range(13)],\n",
    "         'go-', color='red', label='B', marker='o')\n",
    "plt.plot(xaxis,[visual[i][3] for i in range(13)],\n",
    "         'go-', color='cyan', label='C', marker='o')\n",
    "plt.plot(xaxis,[visual[i][4] for i in range(13)],\n",
    "         'go-', color='magenta', label='D', marker='o')\n",
    "plt.xticks(xaxis,[\"IM1\",\"IM2\",\"IM3\",\"IM4\",\"IM5\",\"IM6\",\"IM7\",\"IM8\",\"IM9\",\"IM10\",\"IM11\",\"IM12\",\"IM13\"])\n",
    "plt.xlabel(\"Information Measures\")\n",
    "plt.ylabel(\"Combination Scores\")\n",
    "plt.title(\"The visualization of combination scores Si and rank of combinations \\n using information measures IMi\")\n",
    "figure = plt.gcf()\n",
    "figure.set_size_inches(10,4.5)\n",
    "plt.legend(loc='upper center', ncol=5)\n",
    "plt.savefig('decision making.eps', format='eps')\n",
    "plt.show()"
   ]
  },
  {
   "cell_type": "code",
   "execution_count": 19,
   "metadata": {},
   "outputs": [],
   "source": [
    "# 8\t7.3\t6.5\tVật Lí\t7.5\tHoá\t6.75\tSinh học\t3.25\n",
    "#Khối A: 22.25đ. Khối A1: 22đ. Khối B: 18đ. Khối D: 21.8đ"
   ]
  }
 ],
 "metadata": {
  "kernelspec": {
   "display_name": "Python 3",
   "language": "python",
   "name": "python3"
  },
  "language_info": {
   "codemirror_mode": {
    "name": "ipython",
    "version": 3
   },
   "file_extension": ".py",
   "mimetype": "text/x-python",
   "name": "python",
   "nbconvert_exporter": "python",
   "pygments_lexer": "ipython3",
   "version": "3.8.5"
  }
 },
 "nbformat": 4,
 "nbformat_minor": 4
}
